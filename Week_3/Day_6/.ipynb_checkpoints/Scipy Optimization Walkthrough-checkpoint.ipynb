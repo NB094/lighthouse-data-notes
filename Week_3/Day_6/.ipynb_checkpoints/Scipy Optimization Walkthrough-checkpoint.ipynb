{
 "cells": [
  {
   "cell_type": "markdown",
   "id": "fb034484-838d-4c82-84f4-af1de1473ba8",
   "metadata": {},
   "source": [
    "# Using the Cluster Module in SciPy\n"
   ]
  },
  {
   "cell_type": "code",
   "execution_count": 4,
   "id": "d6dd43ff-f9a9-47af-b8bc-d5e1084e4851",
   "metadata": {},
   "outputs": [],
   "source": [
    "import scipy"
   ]
  },
  {
   "cell_type": "code",
   "execution_count": 5,
   "id": "5f47cb8c-aca4-45a2-8461-8ebcc0e0b409",
   "metadata": {},
   "outputs": [],
   "source": [
    "from pathlib import Path\n",
    "import numpy as np\n",
    "from scipy.cluster.vq import whiten, kmeans, vq"
   ]
  },
  {
   "cell_type": "code",
   "execution_count": 6,
   "id": "6427218b-1294-4bfb-b155-ce44f53eeefc",
   "metadata": {},
   "outputs": [],
   "source": [
    "data = Path(\"SMSSpamCollection\").read_text()\n",
    "data = data.strip()\n",
    "data = data.split(\"\\n\")"
   ]
  },
  {
   "cell_type": "code",
   "execution_count": 8,
   "id": "19ce94bb-1d39-418c-b1b1-12750530758e",
   "metadata": {
    "tags": []
   },
   "outputs": [],
   "source": [
    "# Create empty numpy array of shape 5574 x 2\n",
    "# More memory-efficient to do this beforehand instead of appending in loop\n",
    "\n",
    "digit_counts = np.empty((len(data), 2), dtype=int)"
   ]
  },
  {
   "cell_type": "code",
   "execution_count": 9,
   "id": "41cdbe97-7e1e-45ad-9cba-154bf44cefe2",
   "metadata": {},
   "outputs": [],
   "source": [
    "# for count, value in enumerate(values):\n",
    "\n",
    "for i, line in enumerate(data):\n",
    "    case, message = line.split(\"\\t\")\n",
    "    num_digits = sum(c.isdigit() for c in message)\n",
    "    digit_counts[i, 0] = 0 if case == \"ham\" else 1         # ham = 1,   spam = 2\n",
    "    digit_counts[i, 1] = num_digits"
   ]
  },
  {
   "cell_type": "code",
   "execution_count": 10,
   "id": "ab12e3ba-de86-4b05-9a37-799483049732",
   "metadata": {},
   "outputs": [
    {
     "data": {
      "text/plain": [
       "array([[ 0,  0],\n",
       "       [ 0,  0],\n",
       "       [ 1, 25],\n",
       "       ...,\n",
       "       [ 0,  0],\n",
       "       [ 0,  0],\n",
       "       [ 0,  0]])"
      ]
     },
     "execution_count": 10,
     "metadata": {},
     "output_type": "execute_result"
    }
   ],
   "source": [
    "digit_counts"
   ]
  },
  {
   "cell_type": "code",
   "execution_count": 11,
   "id": "d22a5e41-71d2-4116-ba08-d6e543588fee",
   "metadata": {},
   "outputs": [],
   "source": [
    "unique_counts = np.unique(digit_counts[:, 1], return_counts=True)"
   ]
  },
  {
   "cell_type": "code",
   "execution_count": 12,
   "id": "8a6e433b-3393-42c2-b180-90b74eadccce",
   "metadata": {},
   "outputs": [
    {
     "data": {
      "text/plain": [
       "(array([ 0,  1,  2,  3,  4,  5,  6,  7,  8,  9, 10, 11, 12, 13, 14, 15, 16,\n",
       "        17, 18, 19, 20, 21, 22, 23, 24, 25, 26, 27, 28, 29, 30, 31, 32, 33,\n",
       "        34, 35, 36, 37, 40, 41, 47]),\n",
       " array([4110,  486,  160,   78,   42,   39,   16,   14,   28,   17,   16,\n",
       "          34,   30,   31,   37,   29,   35,   33,   41,   47,   18,   31,\n",
       "          28,   36,   34,   16,   16,   13,   19,    9,    2,    6,    3,\n",
       "           4,    3,    4,    1,    1,    4,    2,    1], dtype=int64))"
      ]
     },
     "execution_count": 12,
     "metadata": {},
     "output_type": "execute_result"
    }
   ],
   "source": [
    "# The first column has the number of digits in a message, and the second column is the number of messages that have that number of digits.\n",
    "\n",
    "unique_counts"
   ]
  },
  {
   "cell_type": "code",
   "execution_count": 13,
   "id": "58a71b26-b26a-4d0c-8e15-e06c8bf55d0a",
   "metadata": {},
   "outputs": [
    {
     "data": {
      "text/plain": [
       "array([[   0, 4110],\n",
       "       [   1,  486],\n",
       "       [   2,  160],\n",
       "       [   3,   78],\n",
       "       [   4,   42],\n",
       "       [   5,   39],\n",
       "       [   6,   16],\n",
       "       [   7,   14],\n",
       "       [   8,   28],\n",
       "       [   9,   17],\n",
       "       [  10,   16],\n",
       "       [  11,   34],\n",
       "       [  12,   30],\n",
       "       [  13,   31],\n",
       "       [  14,   37],\n",
       "       [  15,   29],\n",
       "       [  16,   35],\n",
       "       [  17,   33],\n",
       "       [  18,   41],\n",
       "       [  19,   47],\n",
       "       [  20,   18],\n",
       "       [  21,   31],\n",
       "       [  22,   28],\n",
       "       [  23,   36],\n",
       "       [  24,   34],\n",
       "       [  25,   16],\n",
       "       [  26,   16],\n",
       "       [  27,   13],\n",
       "       [  28,   19],\n",
       "       [  29,    9],\n",
       "       [  30,    2],\n",
       "       [  31,    6],\n",
       "       [  32,    3],\n",
       "       [  33,    4],\n",
       "       [  34,    3],\n",
       "       [  35,    4],\n",
       "       [  36,    1],\n",
       "       [  37,    1],\n",
       "       [  40,    4],\n",
       "       [  41,    2],\n",
       "       [  47,    1]], dtype=int64)"
      ]
     },
     "execution_count": 13,
     "metadata": {},
     "output_type": "execute_result"
    }
   ],
   "source": [
    "# Transform shape into one suitable for clustering\n",
    "\n",
    "unique_counts = np.transpose(np.vstack(unique_counts))\n",
    "unique_counts"
   ]
  },
  {
   "cell_type": "markdown",
   "id": "d7a0372f-0246-40ce-8a4a-949b6743c7ef",
   "metadata": {},
   "source": [
    "You use `whiten()` to normalize each feature to have unit variance, which improves the results from `kmeans()`. Then, `kmeans()` takes the whitened data and the number of clusters to create as arguments."
   ]
  },
  {
   "cell_type": "code",
   "execution_count": 14,
   "id": "1a23ea4c-c0c9-4fd9-89f3-b122bfb2ca99",
   "metadata": {},
   "outputs": [],
   "source": [
    "whitened_counts = whiten(unique_counts)\n",
    "codebook, _ = kmeans(whitened_counts, 3)"
   ]
  },
  {
   "cell_type": "code",
   "execution_count": 16,
   "id": "dbc0098e-23c2-46a9-be3f-a0e06274630e",
   "metadata": {},
   "outputs": [
    {
     "data": {
      "text/plain": [
       "array([[2.52050073, 0.01840656],\n",
       "       [0.85234324, 0.09724666],\n",
       "       [0.        , 6.49364346]])"
      ]
     },
     "execution_count": 16,
     "metadata": {},
     "output_type": "execute_result"
    }
   ],
   "source": [
    "# kmeans returns an array with three rows and two columns representing the centroids of each group\n",
    "\n",
    "codebook"
   ]
  },
  {
   "cell_type": "code",
   "execution_count": 22,
   "id": "4f7e21e0-eef5-4145-83db-350d059342d4",
   "metadata": {},
   "outputs": [],
   "source": [
    "# vq assigns each unique_counts value to a cluster.\n",
    "\n",
    "codes, _ = vq(whitened_counts, codebook)"
   ]
  },
  {
   "cell_type": "code",
   "execution_count": 18,
   "id": "cd4b3c0d-6858-4c83-ad91-c55ba672f259",
   "metadata": {},
   "outputs": [
    {
     "data": {
      "text/plain": [
       "array([2, 1, 1, 1, 1, 1, 1, 1, 1, 1, 1, 1, 1, 1, 1, 1, 1, 1, 1, 1, 1, 0,\n",
       "       0, 0, 0, 0, 0, 0, 0, 0, 0, 0, 0, 0, 0, 0, 0, 0, 0, 0, 0])"
      ]
     },
     "execution_count": 18,
     "metadata": {},
     "output_type": "execute_result"
    }
   ],
   "source": [
    "codes"
   ]
  },
  {
   "cell_type": "code",
   "execution_count": 23,
   "id": "142f08c7-b424-41d7-9db2-a7d3f26b320e",
   "metadata": {},
   "outputs": [],
   "source": [
    "ham_code = codes[0]\n",
    "spam_code = codes[-1]\n",
    "unknown_code = list(set(range(3)) ^ set((ham_code, spam_code)))[0]"
   ]
  },
  {
   "cell_type": "code",
   "execution_count": 24,
   "id": "933b5fd0-2b68-4880-8d02-ba628dcfb804",
   "metadata": {},
   "outputs": [
    {
     "name": "stdout",
     "output_type": "stream",
     "text": [
      "definitely ham: [   0 4110]\n",
      "definitely spam: [47  1]\n",
      "unknown: [20 18]\n"
     ]
    }
   ],
   "source": [
    "print(\"definitely ham:\", unique_counts[codes == ham_code][-1])\n",
    "print(\"definitely spam:\", unique_counts[codes == spam_code][-1])\n",
    "print(\"unknown:\", unique_counts[codes == unknown_code][-1])"
   ]
  },
  {
   "cell_type": "code",
   "execution_count": 25,
   "id": "e06cbce1-bf97-4653-97ac-b131e643e72b",
   "metadata": {},
   "outputs": [],
   "source": [
    "digits = digit_counts[:, 1]\n",
    "predicted_hams = digits == 0\n",
    "predicted_spams = digits > 20\n",
    "predicted_unknowns = np.logical_and(digits > 0, digits <= 20)"
   ]
  },
  {
   "cell_type": "code",
   "execution_count": 26,
   "id": "dc4aced9-2adf-4ed8-a395-a6add74d7f1e",
   "metadata": {},
   "outputs": [],
   "source": [
    "spam_cluster = digit_counts[predicted_spams]\n",
    "ham_cluster = digit_counts[predicted_hams]\n",
    "unk_cluster = digit_counts[predicted_unknowns]"
   ]
  },
  {
   "cell_type": "code",
   "execution_count": 27,
   "id": "6f4c0f84-a1d8-4182-9d2f-2f3dff9587d2",
   "metadata": {},
   "outputs": [
    {
     "name": "stdout",
     "output_type": "stream",
     "text": [
      "hams: (array([0, 1]), array([4071,   39], dtype=int64))\n",
      "spams: (array([0, 1]), array([  1, 232], dtype=int64))\n",
      "unknowns: (array([0, 1]), array([755, 476], dtype=int64))\n"
     ]
    }
   ],
   "source": [
    "print(\"hams:\", np.unique(ham_cluster[:, 0], return_counts=True))\n",
    "print(\"spams:\", np.unique(spam_cluster[:, 0], return_counts=True))\n",
    "print(\"unknowns:\", np.unique(unk_cluster[:, 0], return_counts=True))"
   ]
  },
  {
   "cell_type": "code",
   "execution_count": 28,
   "id": "de988cb3-0ec0-4901-84ce-09ac770b4fd3",
   "metadata": {},
   "outputs": [],
   "source": [
    "# e.g. From this output, you can see that 4110 messages fell into the definitely ham group, of which 4071 were actually ham and only 39 were spam. "
   ]
  },
  {
   "cell_type": "markdown",
   "id": "6ac2e359-d675-477f-b046-601b71242cb2",
   "metadata": {},
   "source": [
    "# Using the Optimize Module in SciPy\n"
   ]
  },
  {
   "cell_type": "code",
   "execution_count": 29,
   "id": "aeb27d8b-74de-4d3a-9b73-4bdd241b4d7e",
   "metadata": {},
   "outputs": [],
   "source": [
    "from scipy.optimize import minimize_scalar\n",
    "\n",
    "def objective_function(x):\n",
    "    return 3 * x ** 4 - 2 * x + 1"
   ]
  },
  {
   "cell_type": "code",
   "execution_count": 31,
   "id": "bfeab672-ad64-42db-82f9-32b065ae5593",
   "metadata": {},
   "outputs": [
    {
     "data": {
      "text/plain": [
       "     fun: 0.17451818777634331\n",
       "    nfev: 16\n",
       "     nit: 12\n",
       " success: True\n",
       "       x: 0.5503212087491959"
      ]
     },
     "execution_count": 31,
     "metadata": {},
     "output_type": "execute_result"
    }
   ],
   "source": [
    "res = minimize_scalar(objective_function)\n",
    "res"
   ]
  },
  {
   "cell_type": "code",
   "execution_count": 33,
   "id": "84c1ce61-f8be-4d8e-9bcb-745339875aa3",
   "metadata": {},
   "outputs": [],
   "source": [
    "def objective_function(x):\n",
    "    return x ** 4 - x ** 2"
   ]
  },
  {
   "cell_type": "code",
   "execution_count": 34,
   "id": "03261f8e-3889-4532-b87e-b29bd33e76ef",
   "metadata": {},
   "outputs": [
    {
     "data": {
      "text/plain": [
       "     fun: -0.24999999999999994\n",
       "    nfev: 15\n",
       "     nit: 11\n",
       " success: True\n",
       "       x: 0.7071067853059209"
      ]
     },
     "execution_count": 34,
     "metadata": {},
     "output_type": "execute_result"
    }
   ],
   "source": [
    "res = minimize_scalar(objective_function)\n",
    "res"
   ]
  },
  {
   "cell_type": "code",
   "execution_count": 35,
   "id": "b5ef2ef7-3d6a-4a66-b156-3655847e3aa6",
   "metadata": {},
   "outputs": [
    {
     "data": {
      "text/plain": [
       "     fun: -0.24999999999999997\n",
       "    nfev: 17\n",
       "     nit: 13\n",
       " success: True\n",
       "       x: 0.7071067809244586"
      ]
     },
     "execution_count": 35,
     "metadata": {},
     "output_type": "execute_result"
    }
   ],
   "source": [
    "res = minimize_scalar(objective_function, bracket=(-1, 0))\n",
    "res"
   ]
  },
  {
   "cell_type": "code",
   "execution_count": 36,
   "id": "89f1c179-2e8e-4cb4-9dbd-13e0c3605ae3",
   "metadata": {},
   "outputs": [
    {
     "data": {
      "text/plain": [
       "     fun: -0.24999999999998732\n",
       " message: 'Solution found.'\n",
       "    nfev: 10\n",
       "  status: 0\n",
       " success: True\n",
       "       x: -0.707106701474177"
      ]
     },
     "execution_count": 36,
     "metadata": {},
     "output_type": "execute_result"
    }
   ],
   "source": [
    "res = minimize_scalar(objective_function, method='bounded', bounds=(-1, 0))\n",
    "res"
   ]
  },
  {
   "cell_type": "markdown",
   "id": "e030cce3-546a-402b-9255-4ea954b577ff",
   "metadata": {},
   "source": [
    "### Minimizing a Function With Many Variables\n"
   ]
  },
  {
   "cell_type": "code",
   "execution_count": 37,
   "id": "3e659be1-f8aa-4a72-b58b-0d8b64ce2991",
   "metadata": {},
   "outputs": [],
   "source": [
    "import numpy as np\n",
    "from scipy.optimize import minimize, LinearConstraint\n",
    "\n",
    "n_buyers = 10\n",
    "n_shares = 15"
   ]
  },
  {
   "cell_type": "code",
   "execution_count": 38,
   "id": "2c8269f8-73c1-4286-ad42-d4e00794f0be",
   "metadata": {},
   "outputs": [],
   "source": [
    "np.random.seed(10)\n",
    "prices = np.random.random(n_buyers)\n",
    "money_available = np.random.randint(1, 4, n_buyers)"
   ]
  },
  {
   "cell_type": "code",
   "execution_count": 42,
   "id": "f0dc9ab0-3e5b-4145-9295-643c4aa01110",
   "metadata": {},
   "outputs": [
    {
     "name": "stdout",
     "output_type": "stream",
     "text": [
      "[1 1 1 3 1 3 3 2 1 1]\n",
      "[0.77132064 0.02075195 0.63364823 0.74880388 0.49850701 0.22479665\n",
      " 0.19806286 0.76053071 0.16911084 0.08833981]\n",
      "[ 1.29647768 48.18824404  1.57816269  4.00638948  2.00598984 13.34539487\n",
      " 15.14670609  2.62974258  5.91328161 11.3199242 ]\n"
     ]
    }
   ],
   "source": [
    "n_shares_per_buyer = money_available / prices\n",
    "print(money_available, prices, n_shares_per_buyer, sep=\"\\n\")"
   ]
  },
  {
   "cell_type": "code",
   "execution_count": 43,
   "id": "f24c230b-7e12-4422-a53f-0c91612ba652",
   "metadata": {},
   "outputs": [],
   "source": [
    "constraint = LinearConstraint(np.ones(n_buyers), lb=n_shares, ub=n_shares)"
   ]
  },
  {
   "cell_type": "code",
   "execution_count": 46,
   "id": "1d57a72a-9e6a-44c9-b892-9fa5593b4fd2",
   "metadata": {},
   "outputs": [
    {
     "data": {
      "text/plain": [
       "[(0, 1.296477682439221),\n",
       " (0, 48.18824403823818),\n",
       " (0, 1.5781626853523065),\n",
       " (0, 4.006389483224008),\n",
       " (0, 2.0059898362934296),\n",
       " (0, 13.3453948697305),\n",
       " (0, 15.146706090719757),\n",
       " (0, 2.629742583593113),\n",
       " (0, 5.913281610609325),\n",
       " (0, 11.31992419669592)]"
      ]
     },
     "execution_count": 46,
     "metadata": {},
     "output_type": "execute_result"
    }
   ],
   "source": [
    "bounds = [(0, n) for n in n_shares_per_buyer]\n",
    "bounds"
   ]
  },
  {
   "cell_type": "code",
   "execution_count": null,
   "id": "c8394f85-8810-417f-a652-9325ff0e99d5",
   "metadata": {},
   "outputs": [],
   "source": []
  }
 ],
 "metadata": {
  "kernelspec": {
   "display_name": "Python 3 (ipykernel)",
   "language": "python",
   "name": "python3"
  },
  "language_info": {
   "codemirror_mode": {
    "name": "ipython",
    "version": 3
   },
   "file_extension": ".py",
   "mimetype": "text/x-python",
   "name": "python",
   "nbconvert_exporter": "python",
   "pygments_lexer": "ipython3",
   "version": "3.7.9"
  }
 },
 "nbformat": 4,
 "nbformat_minor": 5
}
