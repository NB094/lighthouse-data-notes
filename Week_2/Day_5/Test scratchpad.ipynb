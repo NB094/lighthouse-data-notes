{
 "cells": [
  {
   "cell_type": "code",
   "execution_count": null,
   "id": "3bb281bd-bf30-4242-a9a4-951819cd8bb1",
   "metadata": {},
   "outputs": [],
   "source": [
    "def filter_list(lst):\n",
    "    temp_lst = []\n",
    "    for elem in lst:\n",
    "        if type(elem) == int:\n",
    "            temp_lst.append(elem)            \n",
    "    return temp_lst"
   ]
  },
  {
   "cell_type": "code",
   "execution_count": 4,
   "id": "aefc7411-626f-42c1-b104-748a50f12156",
   "metadata": {},
   "outputs": [
    {
     "data": {
      "text/plain": [
       "True"
      ]
     },
     "execution_count": 4,
     "metadata": {},
     "output_type": "execute_result"
    }
   ],
   "source": [
    "type(2) == int"
   ]
  },
  {
   "cell_type": "code",
   "execution_count": null,
   "id": "e3da0346-5320-4983-8124-d62a9cb24440",
   "metadata": {},
   "outputs": [],
   "source": []
  },
  {
   "cell_type": "code",
   "execution_count": null,
   "id": "730eae98-8343-463b-9e4e-3cfca558661b",
   "metadata": {},
   "outputs": [],
   "source": [
    "def mean(digits):\n",
    "    \n",
    "    numerator = 0\n",
    "    denominator = 0\n",
    "    \n",
    "    for digit in map(int, str(digits)):\n",
    "        numerator += digit\n",
    "        denominator += 1\n",
    "    \n",
    "    return numerator/denominator"
   ]
  },
  {
   "cell_type": "code",
   "execution_count": 11,
   "id": "9b16a006-5d05-48a1-94ff-1d70cd65e7cc",
   "metadata": {},
   "outputs": [
    {
     "name": "stdout",
     "output_type": "stream",
     "text": [
      "1\n",
      "<class 'int'>\n",
      "2\n",
      "<class 'int'>\n",
      "3\n",
      "<class 'int'>\n",
      "4\n",
      "<class 'int'>\n",
      "5\n",
      "<class 'int'>\n"
     ]
    }
   ],
   "source": [
    "myValue = '12345'\n",
    "\n",
    "for digit in map(int, myValue):\n",
    "    print(digit)\n",
    "    print(type(digit))"
   ]
  },
  {
   "cell_type": "code",
   "execution_count": null,
   "id": "29b10f63-7dca-4dbe-9ec5-d1fca76f2169",
   "metadata": {},
   "outputs": [],
   "source": []
  },
  {
   "cell_type": "code",
   "execution_count": 19,
   "id": "17790292-a086-4020-a20e-bdf5285ad5e9",
   "metadata": {},
   "outputs": [],
   "source": [
    "def count_all(string):        \n",
    "    \n",
    "    letter_count = 0\n",
    "    digit_count = 0\n",
    "    \n",
    "    for character in string:\n",
    "        \n",
    "        if character == \" \":\n",
    "            continue\n",
    "        \n",
    "        try:\n",
    "            int(character)\n",
    "            digit_count += 1\n",
    "            continue\n",
    "        \n",
    "        except:\n",
    "            pass\n",
    "        \n",
    "        if type(character) == str:\n",
    "            letter_count += 1\n",
    "            continue                \n",
    "    \n",
    "    answer_dict = {\"LETTERS\":letter_count, \"DIGITS\":digit_count}\n",
    "    \n",
    "    return answer_dict            "
   ]
  },
  {
   "cell_type": "code",
   "execution_count": 20,
   "id": "9079b947-5985-4e79-9638-b24f7561fd97",
   "metadata": {},
   "outputs": [
    {
     "data": {
      "text/plain": [
       "{'LETTERS': 7, 'DIGITS': 3}"
      ]
     },
     "execution_count": 20,
     "metadata": {},
     "output_type": "execute_result"
    }
   ],
   "source": [
    "count_all(\"H3ll0 Wor1d\")"
   ]
  },
  {
   "cell_type": "code",
   "execution_count": 12,
   "id": "c80cce7a-3483-404c-9252-c7c693982e70",
   "metadata": {},
   "outputs": [
    {
     "name": "stdout",
     "output_type": "stream",
     "text": [
      "m\n",
      "o\n",
      "t\n",
      "h\n"
     ]
    }
   ],
   "source": []
  }
 ],
 "metadata": {
  "kernelspec": {
   "display_name": "Python 3",
   "language": "python",
   "name": "python3"
  },
  "language_info": {
   "codemirror_mode": {
    "name": "ipython",
    "version": 3
   },
   "file_extension": ".py",
   "mimetype": "text/x-python",
   "name": "python",
   "nbconvert_exporter": "python",
   "pygments_lexer": "ipython3",
   "version": "3.8.8"
  }
 },
 "nbformat": 4,
 "nbformat_minor": 5
}
