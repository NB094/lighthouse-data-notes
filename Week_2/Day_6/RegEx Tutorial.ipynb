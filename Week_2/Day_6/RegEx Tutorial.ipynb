{
 "cells": [
  {
   "cell_type": "markdown",
   "id": "200f9f55-a8ac-432c-b9d6-d5ba2ee1984b",
   "metadata": {},
   "source": [
    "Reference: https://regexone.com/references/python"
   ]
  },
  {
   "cell_type": "code",
   "execution_count": 1,
   "id": "086811f4-814d-4e62-b955-239adc0cf85c",
   "metadata": {},
   "outputs": [
    {
     "name": "stdout",
     "output_type": "stream",
     "text": [
      "Match at index 0, 7\n",
      "Full match: June 24\n",
      "Month: June\n",
      "Day: 24\n"
     ]
    }
   ],
   "source": [
    "import re\n",
    "\n",
    "# Lets use a regular expression to match a date string. Ignore\n",
    "# the output since we are just testing if the regex matches.\n",
    "\n",
    "regex = r\"([a-zA-Z]+) (\\d+)\"\n",
    "\n",
    "if re.search(regex, \"June 24\"):\n",
    "    \n",
    "    # Indeed, the expression \"([a-zA-Z]+) (\\d+)\" matches the date string\n",
    "    \n",
    "    # If we want, we can use the MatchObject's start() and end() methods \n",
    "    # to retrieve where the pattern matches in the input string, and the \n",
    "    # group() method to get all the matches and captured groups.\n",
    "    \n",
    "    match = re.search(regex, \"June 24\")\n",
    "    \n",
    "    # This will print [0, 7), since it matches at the beginning and end of the \n",
    "    # string\n",
    "    \n",
    "    print(\"Match at index %s, %s\" % (match.start(), match.end()))\n",
    "    \n",
    "    # The groups contain the matched values.  In particular:\n",
    "    #    match.group(0) always returns the fully matched string\n",
    "    #    match.group(1), match.group(2), ... will return the capture\n",
    "    #            groups in order from left to right in the input string\n",
    "    #    match.group() is equivalent to match.group(0)\n",
    "    \n",
    "    # So this will print \"June 24\"\n",
    "    print(\"Full match: %s\" % (match.group(0)))\n",
    "    \n",
    "    # So this will print \"June\"\n",
    "    print(\"Month: %s\" % (match.group(1)))\n",
    "    \n",
    "    # So this will print \"24\"\n",
    "    print(\"Day: %s\" % (match.group(2)))\n",
    "    \n",
    "else:\n",
    "    \n",
    "    # If re.search() does not match, then None is returned\n",
    "    print(\"The regex pattern does not match. :(\")"
   ]
  },
  {
   "cell_type": "code",
   "execution_count": 2,
   "id": "7ef2af93-0567-4ad3-899e-7ea1bd328938",
   "metadata": {},
   "outputs": [
    {
     "name": "stdout",
     "output_type": "stream",
     "text": [
      "Full match: June 24\n",
      "Full match: August 9\n",
      "Full match: Dec 12\n",
      "Match month: June\n",
      "Match month: August\n",
      "Match month: Dec\n",
      "Match at index: 0, 7\n",
      "Match at index: 9, 17\n",
      "Match at index: 19, 25\n"
     ]
    }
   ],
   "source": [
    "import re\n",
    "\n",
    "# Lets use a regular expression to match a few date strings.\n",
    "\n",
    "regex = r\"[a-zA-Z]+ \\d+\"\n",
    "matches = re.findall(regex, \"June 24, August 9, Dec 12\")\n",
    "\n",
    "for match in matches:\n",
    "    # This will print:\n",
    "    #   June 24\n",
    "    #   August 9\n",
    "    #   Dec 12\n",
    "    \n",
    "    print(\"Full match: %s\" % (match))\n",
    "\n",
    "# To capture the specific months of each date we can use the following pattern\n",
    "\n",
    "regex = r\"([a-zA-Z]+) \\d+\"\n",
    "matches = re.findall(regex, \"June 24, August 9, Dec 12\")\n",
    "for match in matches:\n",
    "    \n",
    "    # This will now print:\n",
    "    #   June\n",
    "    #   August\n",
    "    #   Dec\n",
    "    print(\"Match month: %s\" % (match))\n",
    "\n",
    "# If we need the exact positions of each match\n",
    "regex = r\"([a-zA-Z]+) \\d+\"\n",
    "matches = re.finditer(regex, \"June 24, August 9, Dec 12\")\n",
    "\n",
    "for match in matches:\n",
    "    # This will now print:\n",
    "    #   0 7\n",
    "    #   9 17\n",
    "    #   19 25\n",
    "    # which corresponds with the start and end of each match in the input string\n",
    "    \n",
    "    print(\"Match at index: %s, %s\" % (match.start(), match.end()))"
   ]
  },
  {
   "cell_type": "code",
   "execution_count": 3,
   "id": "89686b28-b8f9-4d21-88ae-8b56830bd4a7",
   "metadata": {},
   "outputs": [
    {
     "name": "stdout",
     "output_type": "stream",
     "text": [
      "24 of June, 9 of August, 12 of Dec\n"
     ]
    }
   ],
   "source": [
    "import re\n",
    "# Lets try and reverse the order of the day and month in a date \n",
    "# string. Notice how the replacement string also contains metacharacters\n",
    "# (the back references to the captured groups) so we use a raw \n",
    "# string for that as well.\n",
    "\n",
    "regex = r\"([a-zA-Z]+) (\\d+)\"\n",
    "\n",
    "# This will reorder the string and print:\n",
    "#   24 of June, 9 of August, 12 of Dec\n",
    "\n",
    "print(re.sub(regex, r\"\\2 of \\1\", \"June 24, August 9, Dec 12\"))"
   ]
  },
  {
   "cell_type": "code",
   "execution_count": 8,
   "id": "e269a4b0-5814-481f-a04a-4f0e6b5af6ed",
   "metadata": {},
   "outputs": [
    {
     "name": "stdout",
     "output_type": "stream",
     "text": [
      "0 11\n",
      "Hello\n",
      "Bonjour\n",
      "Hello Earth\n"
     ]
    }
   ],
   "source": [
    "import re\n",
    "# Lets create a pattern and extract some information with it\n",
    "\n",
    "regex = re.compile(r\"(\\w+) World\")\n",
    "\n",
    "# \"regex\" is basically is stored as a variable which can be used to search strings\n",
    "result = regex.search(\"Hello World is the easiest\")\n",
    "\n",
    "if result:\n",
    "    # This will print:\n",
    "    #   0 11\n",
    "    # for the start and end of the match\n",
    "    print(result.start(), result.end())\n",
    "\n",
    "# This will print:\n",
    "#   Hello\n",
    "#   Bonjour\n",
    "# for each of the captured groups that matched\n",
    "\n",
    "for result in regex.findall(\"Hello World, Bonjour World\"):\n",
    "    print(result)\n",
    "\n",
    "# This will substitute \"World\" with \"Earth\" and print:\n",
    "#   Hello Earth\n",
    "\n",
    "print(regex.sub(r\"\\1 Earth\", \"Hello World\"))"
   ]
  }
 ],
 "metadata": {
  "kernelspec": {
   "display_name": "Python 3 (ipykernel)",
   "language": "python",
   "name": "python3"
  },
  "language_info": {
   "codemirror_mode": {
    "name": "ipython",
    "version": 3
   },
   "file_extension": ".py",
   "mimetype": "text/x-python",
   "name": "python",
   "nbconvert_exporter": "python",
   "pygments_lexer": "ipython3",
   "version": "3.7.11"
  }
 },
 "nbformat": 4,
 "nbformat_minor": 5
}
