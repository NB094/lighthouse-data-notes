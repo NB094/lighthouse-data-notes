{
 "cells": [
  {
   "cell_type": "markdown",
   "metadata": {},
   "source": [
    "# Libraries"
   ]
  },
  {
   "cell_type": "code",
   "execution_count": 1,
   "metadata": {},
   "outputs": [],
   "source": [
    "import re"
   ]
  },
  {
   "cell_type": "markdown",
   "metadata": {},
   "source": [
    "# Load article\n",
    "\n",
    "Download the text from [**here**](https://drive.google.com/file/d/1PEUMaDaPye5pxlA-SZTsnZ4k7WSzdLLe/view?usp=sharing) and load it into python using the following code snippet."
   ]
  },
  {
   "cell_type": "code",
   "execution_count": 45,
   "metadata": {},
   "outputs": [],
   "source": [
    "# Load lines into list\n",
    "filename = 'Article.txt'\n",
    "with open(filename, encoding='utf-8') as f:\n",
    "    lines = f.readlines()"
   ]
  },
  {
   "cell_type": "markdown",
   "metadata": {},
   "source": [
    "# Tasks"
   ]
  },
  {
   "cell_type": "markdown",
   "metadata": {},
   "source": [
    "### Print the first 20 lines of article"
   ]
  },
  {
   "cell_type": "code",
   "execution_count": 53,
   "metadata": {
    "tags": []
   },
   "outputs": [],
   "source": [
    "string = \"\"\n",
    "string = string.join(lines)"
   ]
  },
  {
   "cell_type": "code",
   "execution_count": 52,
   "metadata": {},
   "outputs": [
    {
     "name": "stdout",
     "output_type": "stream",
     "text": [
      "How To Start When You’ve Procrastinated On Your Goals For Too Long\n",
      "As you are reading this, you probably have a goal on your own, that you’ve pushed, postponed, procrastinated on, and other words that start with P, for days, weeks, months, or even years.\n",
      "Not only that, but you’ve reached the point where even the thought of the goal, brings the feeling of having butterflies in your stomach. Demon butterflies.\n",
      "Hopefully, today is the day you will break the chain as well.\n",
      "Let me help you with that.\n",
      "First, the explanation.\n",
      "In the beginning, when we set the goal, we feel usually motivated, for about a day. As each additional day passes, the resistance starts to grow.\n",
      "As more time passes by, we feel more overwhelmed, especially if we have attempted to start several times, and failed. It stacks up, but in a wrong direction.\n",
      "The biggest problem in this scenario is that we think of the sheer size of the goal, or to be more accurate, the list of the activities we need to do, and how much time it will take us to do them all.\n",
      "We think about the big picture.\n",
      "There is nothing wrong with the big picture, on the contrary, we need it, but in the beginning, when it’s the planning phase.\n",
      "Immediately once the plan is finished, you should leave the big picture aside and focus on the small one.\n",
      "To be specific, just one day ahead of you. Or, as I like to call it “A 24 Hour Life”(basically what smarter people before me said but rephrased with a cooler name, fancy, I know).\n",
      "That’s what you should do. Don’t think about the science or that you need 66 days to establish a habit, it will just overwhelm you additionally, which you don’t need.\n",
      "Next, to the “ONE DAY” principle, the only other one you need is the consistency.\n",
      "If necessary, sacrifice the quality, and the quantity, for the sake of consistency.\n",
      "Let’s get down to concrete steps you can take a right this moment to take action and start working on your goal.\n",
      "1. Extract The Lessons\n",
      "*******************************\n",
      "Look back at the previous period, and try to pinpoint the main reasons on why you procrastinated (be honest with yourself).\n"
     ]
    }
   ],
   "source": [
    "#regex = r\"\\n\\n\"\n",
    "\n",
    "article_list_with_newlines = re.findall(r\".+\", string, flags=re.MULTILINE)\n",
    "\n",
    "for i in range(0,20):   \n",
    "    print(article_list_with_newlines[i])"
   ]
  },
  {
   "cell_type": "markdown",
   "metadata": {},
   "source": [
    "## Print out every line from the file that..."
   ]
  },
  {
   "cell_type": "markdown",
   "metadata": {},
   "source": [
    "... that has 'q'"
   ]
  },
  {
   "cell_type": "code",
   "execution_count": 20,
   "metadata": {},
   "outputs": [
    {
     "data": {
      "text/plain": [
       "['If necessary, sacrifice the quality, and the quantity, for the sake of consistency.']"
      ]
     },
     "execution_count": 20,
     "metadata": {},
     "output_type": "execute_result"
    }
   ],
   "source": [
    "re.findall(r\".*q.*\", string, flags=re.MULTILINE)"
   ]
  },
  {
   "cell_type": "markdown",
   "metadata": {},
   "source": [
    "... that starts with 'H'"
   ]
  },
  {
   "cell_type": "code",
   "execution_count": 22,
   "metadata": {},
   "outputs": [
    {
     "data": {
      "text/plain": [
       "['How To Start When You’ve Procrastinated On Your Goals For Too Long',\n",
       " 'Hopefully, today is the day you will break the chain as well.']"
      ]
     },
     "execution_count": 22,
     "metadata": {},
     "output_type": "execute_result"
    }
   ],
   "source": [
    "re.findall(r\"^H.*\", string, flags=re.MULTILINE)"
   ]
  },
  {
   "cell_type": "markdown",
   "metadata": {},
   "source": [
    "... that has 'wh'"
   ]
  },
  {
   "cell_type": "code",
   "execution_count": 23,
   "metadata": {},
   "outputs": [
    {
     "data": {
      "text/plain": [
       "['Not only that, but you’ve reached the point where even the thought of the goal, brings the feeling of having butterflies in your stomach. Demon butterflies.',\n",
       " 'In the beginning, when we set the goal, we feel usually motivated, for about a day. As each additional day passes, the resistance starts to grow.',\n",
       " 'As more time passes by, we feel more overwhelmed, especially if we have attempted to start several times, and failed. It stacks up, but in a wrong direction.',\n",
       " 'There is nothing wrong with the big picture, on the contrary, we need it, but in the beginning, when it’s the planning phase.',\n",
       " 'To be specific, just one day ahead of you. Or, as I like to call it “A 24 Hour Life”(basically what smarter people before me said but rephrased with a cooler name, fancy, I know).',\n",
       " 'That’s what you should do. Don’t think about the science or that you need 66 days to establish a habit, it will just overwhelm you additionally, which you don’t need.',\n",
       " 'Look back at the previous period, and try to pinpoint the main reasons on why you procrastinated (be honest with yourself).',\n",
       " 'Stop dragging the luggage of your past (in)actions. That’s the thing with us people; we like to beat ourselves, which additionally prevents us from taking actions.',\n",
       " 'Remember, think just 24 hours ahead (or 18/16 depending on how much you sleep) now when I think about it, the “24-hour life” is starting to lose its meaning, but it sounds cooler than “16 Hour Life.”)',\n",
       " 'Anyways. The moment you forgive yourself, you will feel relieved, and slowly start to regain that original motivation, or motivation 2.0 whatever you want to call it.',\n",
       " 'Even if you still want to pursue the same goal, know that it often happens that we don’t stop and think whether or not what we are trying to achieve, actually still makes sense for us (similar to being in an unhealthy relationship just because you’ve invested too much time).',\n",
       " 'In those 16 hours, your sole focus (when it comes to your goal), should beonly two things:',\n",
       " 'Things you have to DO to achieve your goal (what are your most important activities that will bring most results?)',\n",
       " 'Like slapping a muffin out of your hand (if you want to lose weight), or learning five new words in Spanish a couple of random examples here, but you get what I mean.',\n",
       " 'Just remember every once in a while to make a pause, and evaluate your path and plan, just to make sure you are still on the right track.']"
      ]
     },
     "execution_count": 23,
     "metadata": {},
     "output_type": "execute_result"
    }
   ],
   "source": [
    "re.findall(r\".*wh.*\", string, flags=re.MULTILINE)"
   ]
  },
  {
   "cell_type": "markdown",
   "metadata": {},
   "source": [
    "... that has an 'q' or a 'Q'"
   ]
  },
  {
   "cell_type": "code",
   "execution_count": 23,
   "metadata": {},
   "outputs": [],
   "source": [
    "re.findall(r\".*[qQ].*\", string, flags=re.MULTILINE)"
   ]
  },
  {
   "cell_type": "markdown",
   "metadata": {},
   "source": [
    "... that has a '*' in it"
   ]
  },
  {
   "cell_type": "code",
   "execution_count": 24,
   "metadata": {},
   "outputs": [
    {
     "data": {
      "text/plain": [
       "['*******************************',\n",
       " 'Even though it’s simple, it’s not easy *.']"
      ]
     },
     "execution_count": 24,
     "metadata": {},
     "output_type": "execute_result"
    }
   ],
   "source": [
    "re.findall(r\".*\\*.*\", string, flags=re.MULTILINE)"
   ]
  },
  {
   "cell_type": "markdown",
   "metadata": {},
   "source": [
    "... that has a '*' (star) in it"
   ]
  },
  {
   "cell_type": "code",
   "execution_count": 25,
   "metadata": {},
   "outputs": [],
   "source": [
    "# ???"
   ]
  },
  {
   "cell_type": "markdown",
   "metadata": {},
   "source": [
    "... that starts with an 'T' or an 't'"
   ]
  },
  {
   "cell_type": "code",
   "execution_count": 25,
   "metadata": {},
   "outputs": [
    {
     "data": {
      "text/plain": [
       "['The biggest problem in this scenario is that we think of the sheer size of the goal, or to be more accurate, the list of the activities we need to do, and how much time it will take us to do them all.',\n",
       " 'There is nothing wrong with the big picture, on the contrary, we need it, but in the beginning, when it’s the planning phase.',\n",
       " 'To be specific, just one day ahead of you. Or, as I like to call it “A 24 Hour Life”(basically what smarter people before me said but rephrased with a cooler name, fancy, I know).',\n",
       " 'That’s what you should do. Don’t think about the science or that you need 66 days to establish a habit, it will just overwhelm you additionally, which you don’t need.',\n",
       " 'These reasons are usually internal and external.',\n",
       " 'This is more theoretical, fluffy advice, but still, makes sense.',\n",
       " 'This is your one shot, either drop the goal altogether or leave all the excuses behind.',\n",
       " 'Think about your biggest goal, and see if you still want to pursue it.',\n",
       " 'Things you have to DO to achieve your goal (what are your most important activities that will bring most results?)',\n",
       " 'Things you have to LEARN to execute the previously defined activities',\n",
       " 'To make sure that history doesn’t repeat itself, choose just one thing you will do today no matter how minor the activity is.']"
      ]
     },
     "execution_count": 25,
     "metadata": {},
     "output_type": "execute_result"
    }
   ],
   "source": [
    "re.findall(r\"^[Tt].*\", string, flags=re.MULTILINE)"
   ]
  },
  {
   "cell_type": "markdown",
   "metadata": {},
   "source": [
    "... that starts with number"
   ]
  },
  {
   "cell_type": "code",
   "execution_count": 26,
   "metadata": {},
   "outputs": [
    {
     "data": {
      "text/plain": [
       "['1. Extract The Lessons',\n",
       " '2. Stop Beating On Yourself',\n",
       " '3. Re-evaluate Your Direction',\n",
       " '4. Make A New Plan',\n",
       " '5. … Act']"
      ]
     },
     "execution_count": 26,
     "metadata": {},
     "output_type": "execute_result"
    }
   ],
   "source": [
    "re.findall(r\"^\\d.*\", string, flags=re.MULTILINE)"
   ]
  },
  {
   "cell_type": "markdown",
   "metadata": {},
   "source": [
    "... that has both 'a' and 'e'  and 'i' and 'o' and 'u' in it"
   ]
  },
  {
   "cell_type": "code",
   "execution_count": 32,
   "metadata": {},
   "outputs": [
    {
     "data": {
      "text/plain": [
       "['How To Start When You’ve Procrastinated On Your Goals For Too Long',\n",
       " 'As you are reading this, you probably have a goal on your own, that you’ve pushed, postponed, procrastinated on, and other words that start with P, for days, weeks, months, or even years.',\n",
       " 'Not only that, but you’ve reached the point where even the thought of the goal, brings the feeling of having butterflies in your stomach. Demon butterflies.',\n",
       " 'Hopefully, today is the day you will break the chain as well.',\n",
       " 'Let me help you with that.',\n",
       " 'In the beginning, when we set the goal, we feel usually motivated, for about a day. As each additional day passes, the resistance starts to grow.',\n",
       " 'As more time passes by, we feel more overwhelmed, especially if we have attempted to start several times, and failed. It stacks up, but in a wrong direction.',\n",
       " 'The biggest problem in this scenario is that we think of the sheer size of the goal, or to be more accurate, the list of the activities we need to do, and how much time it will take us to do them all.',\n",
       " 'We think about the big picture.',\n",
       " 'There is nothing wrong with the big picture, on the contrary, we need it, but in the beginning, when it’s the planning phase.',\n",
       " 'Immediately once the plan is finished, you should leave the big picture aside and focus on the small one.',\n",
       " 'To be specific, just one day ahead of you. Or, as I like to call it “A 24 Hour Life”(basically what smarter people before me said but rephrased with a cooler name, fancy, I know).',\n",
       " 'That’s what you should do. Don’t think about the science or that you need 66 days to establish a habit, it will just overwhelm you additionally, which you don’t need.',\n",
       " 'If necessary, sacrifice the quality, and the quantity, for the sake of consistency.',\n",
       " 'Let’s get down to concrete steps you can take a right this moment to take action and start working on your goal.',\n",
       " 'Look back at the previous period, and try to pinpoint the main reasons on why you procrastinated (be honest with yourself).',\n",
       " 'These reasons are usually internal and external.',\n",
       " 'What I mean by this is, the excuses you give yourself (it’s hard, you don’t know how to do it, etc), and the distractions in your environment (the internet, television, people, food, and other).',\n",
       " 'You probably know them already, but it’s good to write them down, and remind yourself.',\n",
       " '2. Stop Beating On Yourself',\n",
       " 'This is more theoretical, fluffy advice, but still, makes sense.',\n",
       " 'Stop dragging the luggage of your past (in)actions. That’s the thing with us people; we like to beat ourselves, which additionally prevents us from taking actions.',\n",
       " 'So, drop it, and focus on using the lessons from my previous point.',\n",
       " 'Remember, think just 24 hours ahead (or 18/16 depending on how much you sleep) now when I think about it, the “24-hour life” is starting to lose its meaning, but it sounds cooler than “16 Hour Life.”)',\n",
       " 'Anyways. The moment you forgive yourself, you will feel relieved, and slowly start to regain that original motivation, or motivation 2.0 whatever you want to call it.',\n",
       " '3. Re-evaluate Your Direction',\n",
       " 'Now that the past is behind you, you should look forward and get clarity on your direction.',\n",
       " 'Even if you still want to pursue the same goal, know that it often happens that we don’t stop and think whether or not what we are trying to achieve, actually still makes sense for us (similar to being in an unhealthy relationship just because you’ve invested too much time).',\n",
       " 'This is your one shot, either drop the goal altogether or leave all the excuses behind.',\n",
       " 'Think about your biggest goal, and see if you still want to pursue it.',\n",
       " 'If you do, write it in one sentence, and put a deadline on it.',\n",
       " 'If not, scratch it. And think of another big goal you want to focus in the upcoming year.',\n",
       " 'Just one goal, not five or ten. Let’s not copy-paste new years resolutions, year in-year out.',\n",
       " 'Once you have it, you need a strategy.',\n",
       " 'In those 16 hours, your sole focus (when it comes to your goal), should beonly two things:',\n",
       " 'Things you have to DO to achieve your goal (what are your most important activities that will bring most results?)',\n",
       " 'Things you have to LEARN to execute the previously defined activities',\n",
       " 'When you determine these two points, put them in the timeline, and then…',\n",
       " 'To make sure that history doesn’t repeat itself, choose just one thing you will do today no matter how minor the activity is.',\n",
       " 'Like slapping a muffin out of your hand (if you want to lose weight), or learning five new words in Spanish a couple of random examples here, but you get what I mean.',\n",
       " 'I wrote this down earlier, but I will repeat it because it’s probably the most important thing you can remember from this article.',\n",
       " 'If necessary, sacrifice the Quality, and the Quantity, for the sake of CONSISTENCY.',\n",
       " 'Even though it’s simple, it’s not easy *.',\n",
       " 'But, you only need to take one small step, without thinking too far ahead, and before you know it, you will reach your destination.',\n",
       " 'Just like I did with this article. One word at the time, one bad joke at the time, and before you know it, I finished writing it, and you finished reading it.',\n",
       " 'Just remember every once in a while to make a pause, and evaluate your path and plan, just to make sure you are still on the right track.']"
      ]
     },
     "execution_count": 32,
     "metadata": {},
     "output_type": "execute_result"
    }
   ],
   "source": [
    "# https://stackoverflow.com/questions/3533408/regex-i-want-this-and-that-and-that-in-any-order\n",
    "\n",
    "# ^(?=.*one)(?=.*two)(?=.*three).*$\n",
    "\n",
    "re.findall(r\"^(?=.*a)(?=.*e)(?=.*i)(?=.*o)(?=.*u).*$\", string, flags=re.MULTILINE)"
   ]
  },
  {
   "cell_type": "markdown",
   "metadata": {},
   "source": [
    "... that has an 'a' and somewhere later an 'e'"
   ]
  },
  {
   "cell_type": "code",
   "execution_count": 35,
   "metadata": {},
   "outputs": [
    {
     "data": {
      "text/plain": [
       "['How To Start When You’ve Procrastinated On Your Goals For Too Long',\n",
       " 'As you are reading this, you probably have a goal on your own, that you’ve pushed, postponed, procrastinated on, and other words that start with P, for days, weeks, months, or even years.',\n",
       " 'Not only that, but you’ve reached the point where even the thought of the goal, brings the feeling of having butterflies in your stomach. Demon butterflies.',\n",
       " 'Hopefully, today is the day you will break the chain as well.',\n",
       " 'In the beginning, when we set the goal, we feel usually motivated, for about a day. As each additional day passes, the resistance starts to grow.',\n",
       " 'As more time passes by, we feel more overwhelmed, especially if we have attempted to start several times, and failed. It stacks up, but in a wrong direction.',\n",
       " 'The biggest problem in this scenario is that we think of the sheer size of the goal, or to be more accurate, the list of the activities we need to do, and how much time it will take us to do them all.',\n",
       " 'We think about the big picture.',\n",
       " 'There is nothing wrong with the big picture, on the contrary, we need it, but in the beginning, when it’s the planning phase.',\n",
       " 'Immediately once the plan is finished, you should leave the big picture aside and focus on the small one.',\n",
       " 'To be specific, just one day ahead of you. Or, as I like to call it “A 24 Hour Life”(basically what smarter people before me said but rephrased with a cooler name, fancy, I know).',\n",
       " 'That’s what you should do. Don’t think about the science or that you need 66 days to establish a habit, it will just overwhelm you additionally, which you don’t need.',\n",
       " 'If necessary, sacrifice the quality, and the quantity, for the sake of consistency.',\n",
       " 'Let’s get down to concrete steps you can take a right this moment to take action and start working on your goal.',\n",
       " '1. Extract The Lessons',\n",
       " 'Look back at the previous period, and try to pinpoint the main reasons on why you procrastinated (be honest with yourself).',\n",
       " 'These reasons are usually internal and external.',\n",
       " 'What I mean by this is, the excuses you give yourself (it’s hard, you don’t know how to do it, etc), and the distractions in your environment (the internet, television, people, food, and other).',\n",
       " 'You probably know them already, but it’s good to write them down, and remind yourself.',\n",
       " '2. Stop Beating On Yourself',\n",
       " 'This is more theoretical, fluffy advice, but still, makes sense.',\n",
       " 'Stop dragging the luggage of your past (in)actions. That’s the thing with us people; we like to beat ourselves, which additionally prevents us from taking actions.',\n",
       " 'So, drop it, and focus on using the lessons from my previous point.',\n",
       " 'Remember, think just 24 hours ahead (or 18/16 depending on how much you sleep) now when I think about it, the “24-hour life” is starting to lose its meaning, but it sounds cooler than “16 Hour Life.”)',\n",
       " 'Anyways. The moment you forgive yourself, you will feel relieved, and slowly start to regain that original motivation, or motivation 2.0 whatever you want to call it.',\n",
       " '3. Re-evaluate Your Direction',\n",
       " 'Now that the past is behind you, you should look forward and get clarity on your direction.',\n",
       " 'Even if you still want to pursue the same goal, know that it often happens that we don’t stop and think whether or not what we are trying to achieve, actually still makes sense for us (similar to being in an unhealthy relationship just because you’ve invested too much time).',\n",
       " 'This is your one shot, either drop the goal altogether or leave all the excuses behind.',\n",
       " 'Think about your biggest goal, and see if you still want to pursue it.',\n",
       " 'If you do, write it in one sentence, and put a deadline on it.',\n",
       " 'If not, scratch it. And think of another big goal you want to focus in the upcoming year.',\n",
       " 'Just one goal, not five or ten. Let’s not copy-paste new years resolutions, year in-year out.',\n",
       " 'Once you have it, you need a strategy.',\n",
       " '4. Make A New Plan',\n",
       " 'In those 16 hours, your sole focus (when it comes to your goal), should beonly two things:',\n",
       " 'Things you have to DO to achieve your goal (what are your most important activities that will bring most results?)',\n",
       " 'Things you have to LEARN to execute the previously defined activities',\n",
       " 'When you determine these two points, put them in the timeline, and then…',\n",
       " 'To make sure that history doesn’t repeat itself, choose just one thing you will do today no matter how minor the activity is.',\n",
       " 'Like slapping a muffin out of your hand (if you want to lose weight), or learning five new words in Spanish a couple of random examples here, but you get what I mean.',\n",
       " 'I wrote this down earlier, but I will repeat it because it’s probably the most important thing you can remember from this article.',\n",
       " 'If necessary, sacrifice the Quality, and the Quantity, for the sake of CONSISTENCY.',\n",
       " 'But, you only need to take one small step, without thinking too far ahead, and before you know it, you will reach your destination.',\n",
       " 'Just like I did with this article. One word at the time, one bad joke at the time, and before you know it, I finished writing it, and you finished reading it.',\n",
       " 'Just remember every once in a while to make a pause, and evaluate your path and plan, just to make sure you are still on the right track.']"
      ]
     },
     "execution_count": 35,
     "metadata": {},
     "output_type": "execute_result"
    }
   ],
   "source": [
    "re.findall(r\".*a(?=.*e).*$\", string, flags=re.MULTILINE)"
   ]
  },
  {
   "cell_type": "markdown",
   "metadata": {},
   "source": [
    "... that does not have an 'i'"
   ]
  },
  {
   "cell_type": "code",
   "execution_count": 61,
   "metadata": {},
   "outputs": [
    {
     "data": {
      "text/plain": [
       "['1. Extract The Lessons\\n*******************************',\n",
       " '4. Make A New Plan',\n",
       " '5. … Act']"
      ]
     },
     "execution_count": 61,
     "metadata": {},
     "output_type": "execute_result"
    }
   ],
   "source": [
    "re.findall(r\"^[^\\n][^i]+$\", string, flags=re.MULTILINE)"
   ]
  },
  {
   "cell_type": "markdown",
   "metadata": {},
   "source": [
    "... that does not have an 'i' nor 'z'"
   ]
  },
  {
   "cell_type": "code",
   "execution_count": 39,
   "metadata": {},
   "outputs": [
    {
     "data": {
      "text/plain": [
       "['1. Extract The Lessons\\n*******************************',\n",
       " '4. Make A New Plan',\n",
       " '5. … Act']"
      ]
     },
     "execution_count": 39,
     "metadata": {},
     "output_type": "execute_result"
    }
   ],
   "source": [
    "re.findall(r\"^[^\\n][^i|^z]+$\", string, flags=re.MULTILINE)"
   ]
  },
  {
   "cell_type": "markdown",
   "metadata": {},
   "source": [
    "... that has an 'x' but not 'y'"
   ]
  },
  {
   "cell_type": "code",
   "execution_count": 69,
   "metadata": {},
   "outputs": [
    {
     "data": {
      "text/plain": [
       "['First, the explanation.',\n",
       " '1. Extract The Lessons\\n*******************************']"
      ]
     },
     "execution_count": 69,
     "metadata": {},
     "output_type": "execute_result"
    }
   ],
   "source": [
    "re.findall(r\"^[^\\n](?=.*x)[^yY]+$\", string, flags=re.MULTILINE)"
   ]
  },
  {
   "cell_type": "markdown",
   "metadata": {},
   "source": [
    "... that has at least 2 consecutive vowels (a, e, i, o, u) like in the word \"bear\""
   ]
  },
  {
   "cell_type": "code",
   "execution_count": 83,
   "metadata": {
    "collapsed": true,
    "jupyter": {
     "outputs_hidden": true
    },
    "tags": []
   },
   "outputs": [
    {
     "data": {
      "text/plain": [
       "['How To Start When You’ve Procrastinated On Your Goals For Too Long',\n",
       " 'As you are reading this, you probably have a goal on your own, that you’ve pushed, postponed, procrastinated on, and other words that start with P, for days, weeks, months, or even years.',\n",
       " 'Not only that, but you’ve reached the point where even the thought of the goal, brings the feeling of having butterflies in your stomach. Demon butterflies.',\n",
       " 'Hopefully, today is the day you will break the chain as well.',\n",
       " 'Let me help you with that.',\n",
       " 'First, the explanation.',\n",
       " 'In the beginning, when we set the goal, we feel usually motivated, for about a day. As each additional day passes, the resistance starts to grow.',\n",
       " 'As more time passes by, we feel more overwhelmed, especially if we have attempted to start several times, and failed. It stacks up, but in a wrong direction.',\n",
       " 'The biggest problem in this scenario is that we think of the sheer size of the goal, or to be more accurate, the list of the activities we need to do, and how much time it will take us to do them all.',\n",
       " 'We think about the big picture.',\n",
       " 'There is nothing wrong with the big picture, on the contrary, we need it, but in the beginning, when it’s the planning phase.',\n",
       " 'Immediately once the plan is finished, you should leave the big picture aside and focus on the small one.',\n",
       " 'To be specific, just one day ahead of you. Or, as I like to call it “A 24 Hour Life”(basically what smarter people before me said but rephrased with a cooler name, fancy, I know).',\n",
       " 'That’s what you should do. Don’t think about the science or that you need 66 days to establish a habit, it will just overwhelm you additionally, which you don’t need.',\n",
       " 'Next, to the “ONE DAY” principle, the only other one you need is the consistency.',\n",
       " 'If necessary, sacrifice the quality, and the quantity, for the sake of consistency.',\n",
       " 'Let’s get down to concrete steps you can take a right this moment to take action and start working on your goal.',\n",
       " 'Look back at the previous period, and try to pinpoint the main reasons on why you procrastinated (be honest with yourself).',\n",
       " 'These reasons are usually internal and external.',\n",
       " 'What I mean by this is, the excuses you give yourself (it’s hard, you don’t know how to do it, etc), and the distractions in your environment (the internet, television, people, food, and other).',\n",
       " 'You probably know them already, but it’s good to write them down, and remind yourself.',\n",
       " '2. Stop Beating On Yourself',\n",
       " 'This is more theoretical, fluffy advice, but still, makes sense.',\n",
       " 'Stop dragging the luggage of your past (in)actions. That’s the thing with us people; we like to beat ourselves, which additionally prevents us from taking actions.',\n",
       " 'So, drop it, and focus on using the lessons from my previous point.',\n",
       " 'Remember, think just 24 hours ahead (or 18/16 depending on how much you sleep) now when I think about it, the “24-hour life” is starting to lose its meaning, but it sounds cooler than “16 Hour Life.”)',\n",
       " 'Anyways. The moment you forgive yourself, you will feel relieved, and slowly start to regain that original motivation, or motivation 2.0 whatever you want to call it.',\n",
       " '3. Re-evaluate Your Direction',\n",
       " 'Now that the past is behind you, you should look forward and get clarity on your direction.',\n",
       " 'Even if you still want to pursue the same goal, know that it often happens that we don’t stop and think whether or not what we are trying to achieve, actually still makes sense for us (similar to being in an unhealthy relationship just because you’ve invested too much time).',\n",
       " 'This is your one shot, either drop the goal altogether or leave all the excuses behind.',\n",
       " 'Think about your biggest goal, and see if you still want to pursue it.',\n",
       " 'If you do, write it in one sentence, and put a deadline on it.',\n",
       " 'If not, scratch it. And think of another big goal you want to focus in the upcoming year.',\n",
       " 'Just one goal, not five or ten. Let’s not copy-paste new years resolutions, year in-year out.',\n",
       " 'Once you have it, you need a strategy.',\n",
       " 'In those 16 hours, your sole focus (when it comes to your goal), should beonly two things:',\n",
       " 'Things you have to DO to achieve your goal (what are your most important activities that will bring most results?)',\n",
       " 'Things you have to LEARN to execute the previously defined activities',\n",
       " 'When you determine these two points, put them in the timeline, and then…',\n",
       " 'To make sure that history doesn’t repeat itself, choose just one thing you will do today no matter how minor the activity is.',\n",
       " 'Like slapping a muffin out of your hand (if you want to lose weight), or learning five new words in Spanish a couple of random examples here, but you get what I mean.',\n",
       " 'I wrote this down earlier, but I will repeat it because it’s probably the most important thing you can remember from this article.',\n",
       " 'If necessary, sacrifice the Quality, and the Quantity, for the sake of CONSISTENCY.',\n",
       " 'Even though it’s simple, it’s not easy *.',\n",
       " 'But, you only need to take one small step, without thinking too far ahead, and before you know it, you will reach your destination.',\n",
       " 'Just like I did with this article. One word at the time, one bad joke at the time, and before you know it, I finished writing it, and you finished reading it.',\n",
       " 'Now, go get it I believe in you!',\n",
       " 'Just remember every once in a while to make a pause, and evaluate your path and plan, just to make sure you are still on the right track.']"
      ]
     },
     "execution_count": 83,
     "metadata": {},
     "output_type": "execute_result"
    }
   ],
   "source": [
    "re.findall(r\".*[aeiou][aeiou][aeiou]?[aeiou]?.*\", string, flags=re.MULTILINE)"
   ]
  },
  {
   "cell_type": "markdown",
   "metadata": {},
   "source": [
    "... that has at least 3 vowels"
   ]
  },
  {
   "cell_type": "code",
   "execution_count": 84,
   "metadata": {
    "collapsed": true,
    "jupyter": {
     "outputs_hidden": true
    },
    "tags": []
   },
   "outputs": [
    {
     "data": {
      "text/plain": [
       "['How To Start When You’ve Procrastinated On Your Goals For Too Long',\n",
       " 'As you are reading this, you probably have a goal on your own, that you’ve pushed, postponed, procrastinated on, and other words that start with P, for days, weeks, months, or even years.',\n",
       " 'Not only that, but you’ve reached the point where even the thought of the goal, brings the feeling of having butterflies in your stomach. Demon butterflies.',\n",
       " 'Hopefully, today is the day you will break the chain as well.',\n",
       " 'Let me help you with that.',\n",
       " 'First, the explanation.',\n",
       " 'In the beginning, when we set the goal, we feel usually motivated, for about a day. As each additional day passes, the resistance starts to grow.',\n",
       " 'As more time passes by, we feel more overwhelmed, especially if we have attempted to start several times, and failed. It stacks up, but in a wrong direction.',\n",
       " 'The biggest problem in this scenario is that we think of the sheer size of the goal, or to be more accurate, the list of the activities we need to do, and how much time it will take us to do them all.',\n",
       " 'We think about the big picture.',\n",
       " 'There is nothing wrong with the big picture, on the contrary, we need it, but in the beginning, when it’s the planning phase.',\n",
       " 'Immediately once the plan is finished, you should leave the big picture aside and focus on the small one.',\n",
       " 'To be specific, just one day ahead of you. Or, as I like to call it “A 24 Hour Life”(basically what smarter people before me said but rephrased with a cooler name, fancy, I know).',\n",
       " 'That’s what you should do. Don’t think about the science or that you need 66 days to establish a habit, it will just overwhelm you additionally, which you don’t need.',\n",
       " 'Next, to the “ONE DAY” principle, the only other one you need is the consistency.',\n",
       " 'If necessary, sacrifice the quality, and the quantity, for the sake of consistency.',\n",
       " 'Let’s get down to concrete steps you can take a right this moment to take action and start working on your goal.',\n",
       " '1. Extract The Lessons',\n",
       " 'Look back at the previous period, and try to pinpoint the main reasons on why you procrastinated (be honest with yourself).',\n",
       " 'These reasons are usually internal and external.',\n",
       " 'What I mean by this is, the excuses you give yourself (it’s hard, you don’t know how to do it, etc), and the distractions in your environment (the internet, television, people, food, and other).',\n",
       " 'You probably know them already, but it’s good to write them down, and remind yourself.',\n",
       " '2. Stop Beating On Yourself',\n",
       " 'This is more theoretical, fluffy advice, but still, makes sense.',\n",
       " 'Stop dragging the luggage of your past (in)actions. That’s the thing with us people; we like to beat ourselves, which additionally prevents us from taking actions.',\n",
       " 'So, drop it, and focus on using the lessons from my previous point.',\n",
       " 'Remember, think just 24 hours ahead (or 18/16 depending on how much you sleep) now when I think about it, the “24-hour life” is starting to lose its meaning, but it sounds cooler than “16 Hour Life.”)',\n",
       " 'Anyways. The moment you forgive yourself, you will feel relieved, and slowly start to regain that original motivation, or motivation 2.0 whatever you want to call it.',\n",
       " '3. Re-evaluate Your Direction',\n",
       " 'Now that the past is behind you, you should look forward and get clarity on your direction.',\n",
       " 'Even if you still want to pursue the same goal, know that it often happens that we don’t stop and think whether or not what we are trying to achieve, actually still makes sense for us (similar to being in an unhealthy relationship just because you’ve invested too much time).',\n",
       " 'This is your one shot, either drop the goal altogether or leave all the excuses behind.',\n",
       " 'Think about your biggest goal, and see if you still want to pursue it.',\n",
       " 'If you do, write it in one sentence, and put a deadline on it.',\n",
       " 'If not, scratch it. And think of another big goal you want to focus in the upcoming year.',\n",
       " 'Just one goal, not five or ten. Let’s not copy-paste new years resolutions, year in-year out.',\n",
       " 'Once you have it, you need a strategy.',\n",
       " '4. Make A New Plan',\n",
       " 'In those 16 hours, your sole focus (when it comes to your goal), should beonly two things:',\n",
       " 'Things you have to DO to achieve your goal (what are your most important activities that will bring most results?)',\n",
       " 'Things you have to LEARN to execute the previously defined activities',\n",
       " 'When you determine these two points, put them in the timeline, and then…',\n",
       " 'To make sure that history doesn’t repeat itself, choose just one thing you will do today no matter how minor the activity is.',\n",
       " 'Like slapping a muffin out of your hand (if you want to lose weight), or learning five new words in Spanish a couple of random examples here, but you get what I mean.',\n",
       " 'I wrote this down earlier, but I will repeat it because it’s probably the most important thing you can remember from this article.',\n",
       " 'If necessary, sacrifice the Quality, and the Quantity, for the sake of CONSISTENCY.',\n",
       " 'Final Words',\n",
       " 'Even though it’s simple, it’s not easy *.',\n",
       " 'But, you only need to take one small step, without thinking too far ahead, and before you know it, you will reach your destination.',\n",
       " 'Just like I did with this article. One word at the time, one bad joke at the time, and before you know it, I finished writing it, and you finished reading it.',\n",
       " 'Now, go get it I believe in you!',\n",
       " 'Just remember every once in a while to make a pause, and evaluate your path and plan, just to make sure you are still on the right track.']"
      ]
     },
     "execution_count": 84,
     "metadata": {},
     "output_type": "execute_result"
    }
   ],
   "source": [
    "re.findall(r\".*[aeiou].*[aeiou].*[aeiou].*\", string, flags=re.MULTILINE)"
   ]
  },
  {
   "cell_type": "markdown",
   "metadata": {},
   "source": [
    "... that has at least 30 characters"
   ]
  },
  {
   "cell_type": "code",
   "execution_count": 87,
   "metadata": {
    "collapsed": true,
    "jupyter": {
     "outputs_hidden": true
    },
    "tags": []
   },
   "outputs": [
    {
     "data": {
      "text/plain": [
       "['How To Start When You’ve Procrastinated On Your Goals For Too Long',\n",
       " 'As you are reading this, you probably have a goal on your own, that you’ve pushed, postponed, procrastinated on, and other words that start with P, for days, weeks, months, or even years.',\n",
       " 'Not only that, but you’ve reached the point where even the thought of the goal, brings the feeling of having butterflies in your stomach. Demon butterflies.',\n",
       " 'Hopefully, today is the day you will break the chain as well.',\n",
       " 'In the beginning, when we set the goal, we feel usually motivated, for about a day. As each additional day passes, the resistance starts to grow.',\n",
       " 'As more time passes by, we feel more overwhelmed, especially if we have attempted to start several times, and failed. It stacks up, but in a wrong direction.',\n",
       " 'The biggest problem in this scenario is that we think of the sheer size of the goal, or to be more accurate, the list of the activities we need to do, and how much time it will take us to do them all.',\n",
       " 'We think about the big picture.',\n",
       " 'There is nothing wrong with the big picture, on the contrary, we need it, but in the beginning, when it’s the planning phase.',\n",
       " 'Immediately once the plan is finished, you should leave the big picture aside and focus on the small one.',\n",
       " 'To be specific, just one day ahead of you. Or, as I like to call it “A 24 Hour Life”(basically what smarter people before me said but rephrased with a cooler name, fancy, I know).',\n",
       " 'That’s what you should do. Don’t think about the science or that you need 66 days to establish a habit, it will just overwhelm you additionally, which you don’t need.',\n",
       " 'Next, to the “ONE DAY” principle, the only other one you need is the consistency.',\n",
       " 'If necessary, sacrifice the quality, and the quantity, for the sake of consistency.',\n",
       " 'Let’s get down to concrete steps you can take a right this moment to take action and start working on your goal.',\n",
       " '*******************************',\n",
       " 'Look back at the previous period, and try to pinpoint the main reasons on why you procrastinated (be honest with yourself).',\n",
       " 'These reasons are usually internal and external.',\n",
       " 'What I mean by this is, the excuses you give yourself (it’s hard, you don’t know how to do it, etc), and the distractions in your environment (the internet, television, people, food, and other).',\n",
       " 'You probably know them already, but it’s good to write them down, and remind yourself.',\n",
       " 'This is more theoretical, fluffy advice, but still, makes sense.',\n",
       " 'Stop dragging the luggage of your past (in)actions. That’s the thing with us people; we like to beat ourselves, which additionally prevents us from taking actions.',\n",
       " 'So, drop it, and focus on using the lessons from my previous point.',\n",
       " 'Remember, think just 24 hours ahead (or 18/16 depending on how much you sleep) now when I think about it, the “24-hour life” is starting to lose its meaning, but it sounds cooler than “16 Hour Life.”)',\n",
       " 'Anyways. The moment you forgive yourself, you will feel relieved, and slowly start to regain that original motivation, or motivation 2.0 whatever you want to call it.',\n",
       " 'Now that the past is behind you, you should look forward and get clarity on your direction.',\n",
       " 'Even if you still want to pursue the same goal, know that it often happens that we don’t stop and think whether or not what we are trying to achieve, actually still makes sense for us (similar to being in an unhealthy relationship just because you’ve invested too much time).',\n",
       " 'This is your one shot, either drop the goal altogether or leave all the excuses behind.',\n",
       " 'Think about your biggest goal, and see if you still want to pursue it.',\n",
       " 'If you do, write it in one sentence, and put a deadline on it.',\n",
       " 'If not, scratch it. And think of another big goal you want to focus in the upcoming year.',\n",
       " 'Just one goal, not five or ten. Let’s not copy-paste new years resolutions, year in-year out.',\n",
       " 'Once you have it, you need a strategy.',\n",
       " 'In those 16 hours, your sole focus (when it comes to your goal), should beonly two things:',\n",
       " 'Things you have to DO to achieve your goal (what are your most important activities that will bring most results?)',\n",
       " 'Things you have to LEARN to execute the previously defined activities',\n",
       " 'When you determine these two points, put them in the timeline, and then…',\n",
       " 'To make sure that history doesn’t repeat itself, choose just one thing you will do today no matter how minor the activity is.',\n",
       " 'Like slapping a muffin out of your hand (if you want to lose weight), or learning five new words in Spanish a couple of random examples here, but you get what I mean.',\n",
       " 'I wrote this down earlier, but I will repeat it because it’s probably the most important thing you can remember from this article.',\n",
       " 'If necessary, sacrifice the Quality, and the Quantity, for the sake of CONSISTENCY.',\n",
       " 'Even though it’s simple, it’s not easy *.',\n",
       " 'But, you only need to take one small step, without thinking too far ahead, and before you know it, you will reach your destination.',\n",
       " 'Just like I did with this article. One word at the time, one bad joke at the time, and before you know it, I finished writing it, and you finished reading it.',\n",
       " 'Now, go get it I believe in you!',\n",
       " 'Just remember every once in a while to make a pause, and evaluate your path and plan, just to make sure you are still on the right track.']"
      ]
     },
     "execution_count": 87,
     "metadata": {},
     "output_type": "execute_result"
    }
   ],
   "source": [
    "# https://stackoverflow.com/questions/4325954/regular-expression-for-at-least-10-characters\n",
    "\n",
    "re.findall(r\".{30,}\", string, flags=re.MULTILINE)"
   ]
  },
  {
   "cell_type": "markdown",
   "metadata": {},
   "source": [
    "... has the same word appear twice in the same line"
   ]
  },
  {
   "cell_type": "code",
   "execution_count": 101,
   "metadata": {
    "collapsed": true,
    "jupyter": {
     "outputs_hidden": true
    },
    "tags": []
   },
   "outputs": [
    {
     "ename": "error",
     "evalue": "invalid group reference 1 at position 10",
     "output_type": "error",
     "traceback": [
      "\u001b[1;31m---------------------------------------------------------------------------\u001b[0m",
      "\u001b[1;31merror\u001b[0m                                     Traceback (most recent call last)",
      "\u001b[1;32m<ipython-input-101-7df2ef192f5a>\u001b[0m in \u001b[0;36m<module>\u001b[1;34m\u001b[0m\n\u001b[1;32m----> 1\u001b[1;33m \u001b[0mre\u001b[0m\u001b[1;33m.\u001b[0m\u001b[0mfindall\u001b[0m\u001b[1;33m(\u001b[0m\u001b[1;34mr\"(?<=^|\\s+\\1\\s+.*)\\s+(\\w+)\"\u001b[0m\u001b[1;33m,\u001b[0m \u001b[0mstring\u001b[0m\u001b[1;33m,\u001b[0m \u001b[0mflags\u001b[0m\u001b[1;33m=\u001b[0m\u001b[0mre\u001b[0m\u001b[1;33m.\u001b[0m\u001b[0mMULTILINE\u001b[0m\u001b[1;33m)\u001b[0m\u001b[1;33m\u001b[0m\u001b[1;33m\u001b[0m\u001b[0m\n\u001b[0m",
      "\u001b[1;32mF:\\Anaconda\\lib\\re.py\u001b[0m in \u001b[0;36mfindall\u001b[1;34m(pattern, string, flags)\u001b[0m\n\u001b[0;32m    239\u001b[0m \u001b[1;33m\u001b[0m\u001b[0m\n\u001b[0;32m    240\u001b[0m     Empty matches are included in the result.\"\"\"\n\u001b[1;32m--> 241\u001b[1;33m     \u001b[1;32mreturn\u001b[0m \u001b[0m_compile\u001b[0m\u001b[1;33m(\u001b[0m\u001b[0mpattern\u001b[0m\u001b[1;33m,\u001b[0m \u001b[0mflags\u001b[0m\u001b[1;33m)\u001b[0m\u001b[1;33m.\u001b[0m\u001b[0mfindall\u001b[0m\u001b[1;33m(\u001b[0m\u001b[0mstring\u001b[0m\u001b[1;33m)\u001b[0m\u001b[1;33m\u001b[0m\u001b[1;33m\u001b[0m\u001b[0m\n\u001b[0m\u001b[0;32m    242\u001b[0m \u001b[1;33m\u001b[0m\u001b[0m\n\u001b[0;32m    243\u001b[0m \u001b[1;32mdef\u001b[0m \u001b[0mfinditer\u001b[0m\u001b[1;33m(\u001b[0m\u001b[0mpattern\u001b[0m\u001b[1;33m,\u001b[0m \u001b[0mstring\u001b[0m\u001b[1;33m,\u001b[0m \u001b[0mflags\u001b[0m\u001b[1;33m=\u001b[0m\u001b[1;36m0\u001b[0m\u001b[1;33m)\u001b[0m\u001b[1;33m:\u001b[0m\u001b[1;33m\u001b[0m\u001b[1;33m\u001b[0m\u001b[0m\n",
      "\u001b[1;32mF:\\Anaconda\\lib\\re.py\u001b[0m in \u001b[0;36m_compile\u001b[1;34m(pattern, flags)\u001b[0m\n\u001b[0;32m    302\u001b[0m     \u001b[1;32mif\u001b[0m \u001b[1;32mnot\u001b[0m \u001b[0msre_compile\u001b[0m\u001b[1;33m.\u001b[0m\u001b[0misstring\u001b[0m\u001b[1;33m(\u001b[0m\u001b[0mpattern\u001b[0m\u001b[1;33m)\u001b[0m\u001b[1;33m:\u001b[0m\u001b[1;33m\u001b[0m\u001b[1;33m\u001b[0m\u001b[0m\n\u001b[0;32m    303\u001b[0m         \u001b[1;32mraise\u001b[0m \u001b[0mTypeError\u001b[0m\u001b[1;33m(\u001b[0m\u001b[1;34m\"first argument must be string or compiled pattern\"\u001b[0m\u001b[1;33m)\u001b[0m\u001b[1;33m\u001b[0m\u001b[1;33m\u001b[0m\u001b[0m\n\u001b[1;32m--> 304\u001b[1;33m     \u001b[0mp\u001b[0m \u001b[1;33m=\u001b[0m \u001b[0msre_compile\u001b[0m\u001b[1;33m.\u001b[0m\u001b[0mcompile\u001b[0m\u001b[1;33m(\u001b[0m\u001b[0mpattern\u001b[0m\u001b[1;33m,\u001b[0m \u001b[0mflags\u001b[0m\u001b[1;33m)\u001b[0m\u001b[1;33m\u001b[0m\u001b[1;33m\u001b[0m\u001b[0m\n\u001b[0m\u001b[0;32m    305\u001b[0m     \u001b[1;32mif\u001b[0m \u001b[1;32mnot\u001b[0m \u001b[1;33m(\u001b[0m\u001b[0mflags\u001b[0m \u001b[1;33m&\u001b[0m \u001b[0mDEBUG\u001b[0m\u001b[1;33m)\u001b[0m\u001b[1;33m:\u001b[0m\u001b[1;33m\u001b[0m\u001b[1;33m\u001b[0m\u001b[0m\n\u001b[0;32m    306\u001b[0m         \u001b[1;32mif\u001b[0m \u001b[0mlen\u001b[0m\u001b[1;33m(\u001b[0m\u001b[0m_cache\u001b[0m\u001b[1;33m)\u001b[0m \u001b[1;33m>=\u001b[0m \u001b[0m_MAXCACHE\u001b[0m\u001b[1;33m:\u001b[0m\u001b[1;33m\u001b[0m\u001b[1;33m\u001b[0m\u001b[0m\n",
      "\u001b[1;32mF:\\Anaconda\\lib\\sre_compile.py\u001b[0m in \u001b[0;36mcompile\u001b[1;34m(p, flags)\u001b[0m\n\u001b[0;32m    762\u001b[0m     \u001b[1;32mif\u001b[0m \u001b[0misstring\u001b[0m\u001b[1;33m(\u001b[0m\u001b[0mp\u001b[0m\u001b[1;33m)\u001b[0m\u001b[1;33m:\u001b[0m\u001b[1;33m\u001b[0m\u001b[1;33m\u001b[0m\u001b[0m\n\u001b[0;32m    763\u001b[0m         \u001b[0mpattern\u001b[0m \u001b[1;33m=\u001b[0m \u001b[0mp\u001b[0m\u001b[1;33m\u001b[0m\u001b[1;33m\u001b[0m\u001b[0m\n\u001b[1;32m--> 764\u001b[1;33m         \u001b[0mp\u001b[0m \u001b[1;33m=\u001b[0m \u001b[0msre_parse\u001b[0m\u001b[1;33m.\u001b[0m\u001b[0mparse\u001b[0m\u001b[1;33m(\u001b[0m\u001b[0mp\u001b[0m\u001b[1;33m,\u001b[0m \u001b[0mflags\u001b[0m\u001b[1;33m)\u001b[0m\u001b[1;33m\u001b[0m\u001b[1;33m\u001b[0m\u001b[0m\n\u001b[0m\u001b[0;32m    765\u001b[0m     \u001b[1;32melse\u001b[0m\u001b[1;33m:\u001b[0m\u001b[1;33m\u001b[0m\u001b[1;33m\u001b[0m\u001b[0m\n\u001b[0;32m    766\u001b[0m         \u001b[0mpattern\u001b[0m \u001b[1;33m=\u001b[0m \u001b[1;32mNone\u001b[0m\u001b[1;33m\u001b[0m\u001b[1;33m\u001b[0m\u001b[0m\n",
      "\u001b[1;32mF:\\Anaconda\\lib\\sre_parse.py\u001b[0m in \u001b[0;36mparse\u001b[1;34m(str, flags, state)\u001b[0m\n\u001b[0;32m    946\u001b[0m \u001b[1;33m\u001b[0m\u001b[0m\n\u001b[0;32m    947\u001b[0m     \u001b[1;32mtry\u001b[0m\u001b[1;33m:\u001b[0m\u001b[1;33m\u001b[0m\u001b[1;33m\u001b[0m\u001b[0m\n\u001b[1;32m--> 948\u001b[1;33m         \u001b[0mp\u001b[0m \u001b[1;33m=\u001b[0m \u001b[0m_parse_sub\u001b[0m\u001b[1;33m(\u001b[0m\u001b[0msource\u001b[0m\u001b[1;33m,\u001b[0m \u001b[0mstate\u001b[0m\u001b[1;33m,\u001b[0m \u001b[0mflags\u001b[0m \u001b[1;33m&\u001b[0m \u001b[0mSRE_FLAG_VERBOSE\u001b[0m\u001b[1;33m,\u001b[0m \u001b[1;36m0\u001b[0m\u001b[1;33m)\u001b[0m\u001b[1;33m\u001b[0m\u001b[1;33m\u001b[0m\u001b[0m\n\u001b[0m\u001b[0;32m    949\u001b[0m     \u001b[1;32mexcept\u001b[0m \u001b[0mVerbose\u001b[0m\u001b[1;33m:\u001b[0m\u001b[1;33m\u001b[0m\u001b[1;33m\u001b[0m\u001b[0m\n\u001b[0;32m    950\u001b[0m         \u001b[1;31m# the VERBOSE flag was switched on inside the pattern.  to be\u001b[0m\u001b[1;33m\u001b[0m\u001b[1;33m\u001b[0m\u001b[1;33m\u001b[0m\u001b[0m\n",
      "\u001b[1;32mF:\\Anaconda\\lib\\sre_parse.py\u001b[0m in \u001b[0;36m_parse_sub\u001b[1;34m(source, state, verbose, nested)\u001b[0m\n\u001b[0;32m    441\u001b[0m     \u001b[0mstart\u001b[0m \u001b[1;33m=\u001b[0m \u001b[0msource\u001b[0m\u001b[1;33m.\u001b[0m\u001b[0mtell\u001b[0m\u001b[1;33m(\u001b[0m\u001b[1;33m)\u001b[0m\u001b[1;33m\u001b[0m\u001b[1;33m\u001b[0m\u001b[0m\n\u001b[0;32m    442\u001b[0m     \u001b[1;32mwhile\u001b[0m \u001b[1;32mTrue\u001b[0m\u001b[1;33m:\u001b[0m\u001b[1;33m\u001b[0m\u001b[1;33m\u001b[0m\u001b[0m\n\u001b[1;32m--> 443\u001b[1;33m         itemsappend(_parse(source, state, verbose, nested + 1,\n\u001b[0m\u001b[0;32m    444\u001b[0m                            not nested and not items))\n\u001b[0;32m    445\u001b[0m         \u001b[1;32mif\u001b[0m \u001b[1;32mnot\u001b[0m \u001b[0msourcematch\u001b[0m\u001b[1;33m(\u001b[0m\u001b[1;34m\"|\"\u001b[0m\u001b[1;33m)\u001b[0m\u001b[1;33m:\u001b[0m\u001b[1;33m\u001b[0m\u001b[1;33m\u001b[0m\u001b[0m\n",
      "\u001b[1;32mF:\\Anaconda\\lib\\sre_parse.py\u001b[0m in \u001b[0;36m_parse\u001b[1;34m(source, state, verbose, nested, first)\u001b[0m\n\u001b[0;32m    752\u001b[0m                         \u001b[1;32mif\u001b[0m \u001b[0mlookbehindgroups\u001b[0m \u001b[1;32mis\u001b[0m \u001b[1;32mNone\u001b[0m\u001b[1;33m:\u001b[0m\u001b[1;33m\u001b[0m\u001b[1;33m\u001b[0m\u001b[0m\n\u001b[0;32m    753\u001b[0m                             \u001b[0mstate\u001b[0m\u001b[1;33m.\u001b[0m\u001b[0mlookbehindgroups\u001b[0m \u001b[1;33m=\u001b[0m \u001b[0mstate\u001b[0m\u001b[1;33m.\u001b[0m\u001b[0mgroups\u001b[0m\u001b[1;33m\u001b[0m\u001b[1;33m\u001b[0m\u001b[0m\n\u001b[1;32m--> 754\u001b[1;33m                     \u001b[0mp\u001b[0m \u001b[1;33m=\u001b[0m \u001b[0m_parse_sub\u001b[0m\u001b[1;33m(\u001b[0m\u001b[0msource\u001b[0m\u001b[1;33m,\u001b[0m \u001b[0mstate\u001b[0m\u001b[1;33m,\u001b[0m \u001b[0mverbose\u001b[0m\u001b[1;33m,\u001b[0m \u001b[0mnested\u001b[0m \u001b[1;33m+\u001b[0m \u001b[1;36m1\u001b[0m\u001b[1;33m)\u001b[0m\u001b[1;33m\u001b[0m\u001b[1;33m\u001b[0m\u001b[0m\n\u001b[0m\u001b[0;32m    755\u001b[0m                     \u001b[1;32mif\u001b[0m \u001b[0mdir\u001b[0m \u001b[1;33m<\u001b[0m \u001b[1;36m0\u001b[0m\u001b[1;33m:\u001b[0m\u001b[1;33m\u001b[0m\u001b[1;33m\u001b[0m\u001b[0m\n\u001b[0;32m    756\u001b[0m                         \u001b[1;32mif\u001b[0m \u001b[0mlookbehindgroups\u001b[0m \u001b[1;32mis\u001b[0m \u001b[1;32mNone\u001b[0m\u001b[1;33m:\u001b[0m\u001b[1;33m\u001b[0m\u001b[1;33m\u001b[0m\u001b[0m\n",
      "\u001b[1;32mF:\\Anaconda\\lib\\sre_parse.py\u001b[0m in \u001b[0;36m_parse_sub\u001b[1;34m(source, state, verbose, nested)\u001b[0m\n\u001b[0;32m    441\u001b[0m     \u001b[0mstart\u001b[0m \u001b[1;33m=\u001b[0m \u001b[0msource\u001b[0m\u001b[1;33m.\u001b[0m\u001b[0mtell\u001b[0m\u001b[1;33m(\u001b[0m\u001b[1;33m)\u001b[0m\u001b[1;33m\u001b[0m\u001b[1;33m\u001b[0m\u001b[0m\n\u001b[0;32m    442\u001b[0m     \u001b[1;32mwhile\u001b[0m \u001b[1;32mTrue\u001b[0m\u001b[1;33m:\u001b[0m\u001b[1;33m\u001b[0m\u001b[1;33m\u001b[0m\u001b[0m\n\u001b[1;32m--> 443\u001b[1;33m         itemsappend(_parse(source, state, verbose, nested + 1,\n\u001b[0m\u001b[0;32m    444\u001b[0m                            not nested and not items))\n\u001b[0;32m    445\u001b[0m         \u001b[1;32mif\u001b[0m \u001b[1;32mnot\u001b[0m \u001b[0msourcematch\u001b[0m\u001b[1;33m(\u001b[0m\u001b[1;34m\"|\"\u001b[0m\u001b[1;33m)\u001b[0m\u001b[1;33m:\u001b[0m\u001b[1;33m\u001b[0m\u001b[1;33m\u001b[0m\u001b[0m\n",
      "\u001b[1;32mF:\\Anaconda\\lib\\sre_parse.py\u001b[0m in \u001b[0;36m_parse\u001b[1;34m(source, state, verbose, nested, first)\u001b[0m\n\u001b[0;32m    523\u001b[0m \u001b[1;33m\u001b[0m\u001b[0m\n\u001b[0;32m    524\u001b[0m         \u001b[1;32mif\u001b[0m \u001b[0mthis\u001b[0m\u001b[1;33m[\u001b[0m\u001b[1;36m0\u001b[0m\u001b[1;33m]\u001b[0m \u001b[1;33m==\u001b[0m \u001b[1;34m\"\\\\\"\u001b[0m\u001b[1;33m:\u001b[0m\u001b[1;33m\u001b[0m\u001b[1;33m\u001b[0m\u001b[0m\n\u001b[1;32m--> 525\u001b[1;33m             \u001b[0mcode\u001b[0m \u001b[1;33m=\u001b[0m \u001b[0m_escape\u001b[0m\u001b[1;33m(\u001b[0m\u001b[0msource\u001b[0m\u001b[1;33m,\u001b[0m \u001b[0mthis\u001b[0m\u001b[1;33m,\u001b[0m \u001b[0mstate\u001b[0m\u001b[1;33m)\u001b[0m\u001b[1;33m\u001b[0m\u001b[1;33m\u001b[0m\u001b[0m\n\u001b[0m\u001b[0;32m    526\u001b[0m             \u001b[0msubpatternappend\u001b[0m\u001b[1;33m(\u001b[0m\u001b[0mcode\u001b[0m\u001b[1;33m)\u001b[0m\u001b[1;33m\u001b[0m\u001b[1;33m\u001b[0m\u001b[0m\n\u001b[0;32m    527\u001b[0m \u001b[1;33m\u001b[0m\u001b[0m\n",
      "\u001b[1;32mF:\\Anaconda\\lib\\sre_parse.py\u001b[0m in \u001b[0;36m_escape\u001b[1;34m(source, escape, state)\u001b[0m\n\u001b[0;32m    421\u001b[0m                 \u001b[0mstate\u001b[0m\u001b[1;33m.\u001b[0m\u001b[0mchecklookbehindgroup\u001b[0m\u001b[1;33m(\u001b[0m\u001b[0mgroup\u001b[0m\u001b[1;33m,\u001b[0m \u001b[0msource\u001b[0m\u001b[1;33m)\u001b[0m\u001b[1;33m\u001b[0m\u001b[1;33m\u001b[0m\u001b[0m\n\u001b[0;32m    422\u001b[0m                 \u001b[1;32mreturn\u001b[0m \u001b[0mGROUPREF\u001b[0m\u001b[1;33m,\u001b[0m \u001b[0mgroup\u001b[0m\u001b[1;33m\u001b[0m\u001b[1;33m\u001b[0m\u001b[0m\n\u001b[1;32m--> 423\u001b[1;33m             \u001b[1;32mraise\u001b[0m \u001b[0msource\u001b[0m\u001b[1;33m.\u001b[0m\u001b[0merror\u001b[0m\u001b[1;33m(\u001b[0m\u001b[1;34m\"invalid group reference %d\"\u001b[0m \u001b[1;33m%\u001b[0m \u001b[0mgroup\u001b[0m\u001b[1;33m,\u001b[0m \u001b[0mlen\u001b[0m\u001b[1;33m(\u001b[0m\u001b[0mescape\u001b[0m\u001b[1;33m)\u001b[0m \u001b[1;33m-\u001b[0m \u001b[1;36m1\u001b[0m\u001b[1;33m)\u001b[0m\u001b[1;33m\u001b[0m\u001b[1;33m\u001b[0m\u001b[0m\n\u001b[0m\u001b[0;32m    424\u001b[0m         \u001b[1;32mif\u001b[0m \u001b[0mlen\u001b[0m\u001b[1;33m(\u001b[0m\u001b[0mescape\u001b[0m\u001b[1;33m)\u001b[0m \u001b[1;33m==\u001b[0m \u001b[1;36m2\u001b[0m\u001b[1;33m:\u001b[0m\u001b[1;33m\u001b[0m\u001b[1;33m\u001b[0m\u001b[0m\n\u001b[0;32m    425\u001b[0m             \u001b[1;32mif\u001b[0m \u001b[0mc\u001b[0m \u001b[1;32min\u001b[0m \u001b[0mASCIILETTERS\u001b[0m\u001b[1;33m:\u001b[0m\u001b[1;33m\u001b[0m\u001b[1;33m\u001b[0m\u001b[0m\n",
      "\u001b[1;31merror\u001b[0m: invalid group reference 1 at position 10"
     ]
    }
   ],
   "source": [
    "# Unsure\n",
    "\n",
    "#re.findall(r\"(?<=^|\\s+\\1\\s+.*)\\s+(\\w+)\", string, flags=re.MULTILINE)"
   ]
  },
  {
   "cell_type": "markdown",
   "metadata": {},
   "source": [
    "## Print all the words"
   ]
  },
  {
   "cell_type": "markdown",
   "metadata": {},
   "source": [
    "Words with either 'Bar' or 'Baz' in them"
   ]
  },
  {
   "cell_type": "code",
   "execution_count": 119,
   "metadata": {},
   "outputs": [
    {
     "data": {
      "text/plain": [
       "[]"
      ]
     },
     "execution_count": 119,
     "metadata": {},
     "output_type": "execute_result"
    }
   ],
   "source": [
    "re.findall(r\"(\\w*[bB]ar\\w*|\\w*[bB]az\\w*)\", string, flags=re.MULTILINE)"
   ]
  },
  {
   "cell_type": "markdown",
   "metadata": {},
   "source": [
    "Words with either 'Whe' or 'The' in them"
   ]
  },
  {
   "cell_type": "code",
   "execution_count": 118,
   "metadata": {
    "collapsed": true,
    "jupyter": {
     "outputs_hidden": true
    },
    "tags": []
   },
   "outputs": [
    {
     "data": {
      "text/plain": [
       "['When',\n",
       " 'other',\n",
       " 'the',\n",
       " 'where',\n",
       " 'the',\n",
       " 'the',\n",
       " 'the',\n",
       " 'the',\n",
       " 'the',\n",
       " 'the',\n",
       " 'the',\n",
       " 'when',\n",
       " 'the',\n",
       " 'the',\n",
       " 'overwhelmed',\n",
       " 'The',\n",
       " 'the',\n",
       " 'the',\n",
       " 'the',\n",
       " 'the',\n",
       " 'them',\n",
       " 'the',\n",
       " 'There',\n",
       " 'the',\n",
       " 'the',\n",
       " 'the',\n",
       " 'when',\n",
       " 'the',\n",
       " 'the',\n",
       " 'the',\n",
       " 'the',\n",
       " 'the',\n",
       " 'overwhelm',\n",
       " 'the',\n",
       " 'the',\n",
       " 'other',\n",
       " 'the',\n",
       " 'the',\n",
       " 'the',\n",
       " 'the',\n",
       " 'The',\n",
       " 'the',\n",
       " 'the',\n",
       " 'These',\n",
       " 'the',\n",
       " 'the',\n",
       " 'the',\n",
       " 'other',\n",
       " 'them',\n",
       " 'them',\n",
       " 'theoretical',\n",
       " 'the',\n",
       " 'the',\n",
       " 'the',\n",
       " 'when',\n",
       " 'the',\n",
       " 'The',\n",
       " 'the',\n",
       " 'the',\n",
       " 'whether',\n",
       " 'either',\n",
       " 'the',\n",
       " 'altogether',\n",
       " 'the',\n",
       " 'another',\n",
       " 'the',\n",
       " 'when',\n",
       " 'the',\n",
       " 'When',\n",
       " 'these',\n",
       " 'them',\n",
       " 'the',\n",
       " 'then',\n",
       " 'the',\n",
       " 'the',\n",
       " 'the',\n",
       " 'the',\n",
       " 'the',\n",
       " 'the',\n",
       " 'the',\n",
       " 'the']"
      ]
     },
     "execution_count": 118,
     "metadata": {},
     "output_type": "execute_result"
    }
   ],
   "source": [
    "re.findall(r\"(\\w*[wW]he\\w*|\\w*[tT]he\\w*)\", string, flags=re.MULTILINE)"
   ]
  },
  {
   "cell_type": "markdown",
   "metadata": {},
   "source": [
    "Words containing a double character (e.g. 'oo')"
   ]
  },
  {
   "cell_type": "code",
   "execution_count": 131,
   "metadata": {
    "collapsed": true,
    "jupyter": {
     "outputs_hidden": true
    },
    "tags": []
   },
   "outputs": [
    {
     "data": {
      "text/plain": [
       "['o',\n",
       " 'e',\n",
       " 't',\n",
       " 'l',\n",
       " 's',\n",
       " 't',\n",
       " 'l',\n",
       " 'n',\n",
       " 'l',\n",
       " 'o',\n",
       " 'e',\n",
       " 'e',\n",
       " 's',\n",
       " 's',\n",
       " 'o',\n",
       " 'l',\n",
       " 'o',\n",
       " 'o',\n",
       " 'l',\n",
       " 'l',\n",
       " 's',\n",
       " 'o',\n",
       " 'l',\n",
       " 'o',\n",
       " 'o',\n",
       " 'l',\n",
       " 'l',\n",
       " 'e',\n",
       " 'l',\n",
       " 't',\n",
       " 'f',\n",
       " 'em',\n",
       " 's',\n",
       " 'l',\n",
       " 'l']"
      ]
     },
     "execution_count": 131,
     "metadata": {},
     "output_type": "execute_result"
    }
   ],
   "source": [
    "# Unsure\n",
    "\n",
    "re.findall(r\".*(\\w)\\1+.*\", string, flags=re.MULTILINE)"
   ]
  },
  {
   "cell_type": "markdown",
   "metadata": {},
   "source": [
    "## Cleanup string codes so they contain only numbers\n",
    "* Remove slash and spaces"
   ]
  },
  {
   "cell_type": "code",
   "execution_count": 166,
   "metadata": {},
   "outputs": [
    {
     "name": "stdout",
     "output_type": "stream",
     "text": [
      "[('2373', '8293')]\n",
      "[('8292342', '8263')]\n",
      "[('12', '903820')]\n",
      "[('8203184', '02342')]\n"
     ]
    },
    {
     "data": {
      "text/plain": [
       "['23738293', '82923428263', '12903820', '820318402342']"
      ]
     },
     "execution_count": 166,
     "metadata": {},
     "output_type": "execute_result"
    }
   ],
   "source": [
    "codes = ['2373/ 8293', \n",
    "         ' 8292342 / 8263', \n",
    "         '12/903820 ',\n",
    "         '8203184 / 02342 ']\n",
    "\n",
    "newcodes = []\n",
    "\n",
    "for elem in codes:\n",
    "    result = re.findall(r\"(\\d+)[/]?[\\s]?[/]?[\\s]?(\\d+)?\", elem, flags=re.MULTILINE)\n",
    "    print(result)\n",
    "    newcodes.append(result[0][0]+result[0][1])\n",
    "\n",
    "newcodes"
   ]
  },
  {
   "cell_type": "markdown",
   "metadata": {},
   "source": [
    "## Switch order of the numbers in string\n",
    "* Preserve slash /\n",
    "* Remove spaces"
   ]
  },
  {
   "cell_type": "code",
   "execution_count": 168,
   "metadata": {},
   "outputs": [
    {
     "name": "stdout",
     "output_type": "stream",
     "text": [
      "[('2373', '8293')]\n",
      "[('8292342', '8263')]\n",
      "[('12', '903820')]\n",
      "[('8203184', '02342')]\n"
     ]
    },
    {
     "data": {
      "text/plain": [
       "['2373/8293', '8292342/8263', '12/903820', '8203184/02342']"
      ]
     },
     "execution_count": 168,
     "metadata": {},
     "output_type": "execute_result"
    }
   ],
   "source": [
    "codes = ['2373/ 8293', \n",
    "         ' 8292342 / 8263', \n",
    "         '12/903820 ',\n",
    "         '8203184 / 02342 ']\n",
    "\n",
    "newcodes = []\n",
    "\n",
    "for elem in codes:\n",
    "    result = re.findall(r\"(\\d+)[/]?[\\s]?[/]?[\\s]?(\\d+)?\", elem, flags=re.MULTILINE)\n",
    "    print(result)\n",
    "    newcodes.append(result[0][0]+'/'+result[0][1])\n",
    "\n",
    "newcodes"
   ]
  }
 ],
 "metadata": {
  "kernelspec": {
   "display_name": "Python 3",
   "language": "python",
   "name": "python3"
  },
  "language_info": {
   "codemirror_mode": {
    "name": "ipython",
    "version": 3
   },
   "file_extension": ".py",
   "mimetype": "text/x-python",
   "name": "python",
   "nbconvert_exporter": "python",
   "pygments_lexer": "ipython3",
   "version": "3.8.8"
  }
 },
 "nbformat": 4,
 "nbformat_minor": 4
}
