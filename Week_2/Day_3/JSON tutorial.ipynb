{
 "cells": [
  {
   "cell_type": "markdown",
   "id": "8ae0b847-8d24-4c12-a1d5-3343db511e98",
   "metadata": {},
   "source": [
    "## JSON tutorial"
   ]
  },
  {
   "cell_type": "code",
   "execution_count": 1,
   "id": "31a399a4-a194-4816-9687-26805e009d0f",
   "metadata": {},
   "outputs": [],
   "source": [
    "import pandas as pd"
   ]
  },
  {
   "cell_type": "code",
   "execution_count": 2,
   "id": "a64412b6-0c9e-43e9-84d8-2393400c50f6",
   "metadata": {},
   "outputs": [
    {
     "data": {
      "text/html": [
       "<div>\n",
       "<style scoped>\n",
       "    .dataframe tbody tr th:only-of-type {\n",
       "        vertical-align: middle;\n",
       "    }\n",
       "\n",
       "    .dataframe tbody tr th {\n",
       "        vertical-align: top;\n",
       "    }\n",
       "\n",
       "    .dataframe thead th {\n",
       "        text-align: right;\n",
       "    }\n",
       "</style>\n",
       "<table border=\"1\" class=\"dataframe\">\n",
       "  <thead>\n",
       "    <tr style=\"text-align: right;\">\n",
       "      <th></th>\n",
       "      <th>integer</th>\n",
       "      <th>datetime</th>\n",
       "      <th>category</th>\n",
       "    </tr>\n",
       "  </thead>\n",
       "  <tbody>\n",
       "    <tr>\n",
       "      <th>0</th>\n",
       "      <td>5</td>\n",
       "      <td>2015-01-01 00:00:00</td>\n",
       "      <td>0</td>\n",
       "    </tr>\n",
       "    <tr>\n",
       "      <th>1</th>\n",
       "      <td>5</td>\n",
       "      <td>2015-01-01 00:00:01</td>\n",
       "      <td>0</td>\n",
       "    </tr>\n",
       "    <tr>\n",
       "      <th>2</th>\n",
       "      <td>9</td>\n",
       "      <td>2015-01-01 00:00:02</td>\n",
       "      <td>0</td>\n",
       "    </tr>\n",
       "    <tr>\n",
       "      <th>3</th>\n",
       "      <td>6</td>\n",
       "      <td>2015-01-01 00:00:03</td>\n",
       "      <td>0</td>\n",
       "    </tr>\n",
       "    <tr>\n",
       "      <th>4</th>\n",
       "      <td>6</td>\n",
       "      <td>2015-01-01 00:00:04</td>\n",
       "      <td>0</td>\n",
       "    </tr>\n",
       "  </tbody>\n",
       "</table>\n",
       "</div>"
      ],
      "text/plain": [
       "   integer            datetime  category\n",
       "0        5 2015-01-01 00:00:00         0\n",
       "1        5 2015-01-01 00:00:01         0\n",
       "2        9 2015-01-01 00:00:02         0\n",
       "3        6 2015-01-01 00:00:03         0\n",
       "4        6 2015-01-01 00:00:04         0"
      ]
     },
     "execution_count": 2,
     "metadata": {},
     "output_type": "execute_result"
    }
   ],
   "source": [
    "url = \"https://raw.githubusercontent.com/chrisalbon/simulated_datasets/master/data.json\"\n",
    "first_json = pd.read_json(url)\n",
    "first_json.head()"
   ]
  },
  {
   "cell_type": "code",
   "execution_count": 7,
   "id": "844ff12f-4f43-4d3f-9a10-145415922bb7",
   "metadata": {},
   "outputs": [],
   "source": [
    "first_json.to_json('json_columns.json', orient=\"columns\")"
   ]
  },
  {
   "cell_type": "code",
   "execution_count": 3,
   "id": "2ca084c5-ba60-4b94-bb9e-e69634af11ec",
   "metadata": {},
   "outputs": [],
   "source": [
    "first_json.to_json('json_index.json', orient=\"index\")"
   ]
  },
  {
   "cell_type": "code",
   "execution_count": 9,
   "id": "fe08fdb8-ba7f-4762-b78e-59535ed94a6d",
   "metadata": {},
   "outputs": [
    {
     "data": {
      "text/html": [
       "<div>\n",
       "<style scoped>\n",
       "    .dataframe tbody tr th:only-of-type {\n",
       "        vertical-align: middle;\n",
       "    }\n",
       "\n",
       "    .dataframe tbody tr th {\n",
       "        vertical-align: top;\n",
       "    }\n",
       "\n",
       "    .dataframe thead th {\n",
       "        text-align: right;\n",
       "    }\n",
       "</style>\n",
       "<table border=\"1\" class=\"dataframe\">\n",
       "  <thead>\n",
       "    <tr style=\"text-align: right;\">\n",
       "      <th></th>\n",
       "      <th>integer</th>\n",
       "      <th>datetime</th>\n",
       "      <th>category</th>\n",
       "    </tr>\n",
       "  </thead>\n",
       "  <tbody>\n",
       "    <tr>\n",
       "      <th>0</th>\n",
       "      <td>5</td>\n",
       "      <td>2015-01-01 00:00:00</td>\n",
       "      <td>0</td>\n",
       "    </tr>\n",
       "    <tr>\n",
       "      <th>1</th>\n",
       "      <td>5</td>\n",
       "      <td>2015-01-01 00:00:01</td>\n",
       "      <td>0</td>\n",
       "    </tr>\n",
       "    <tr>\n",
       "      <th>2</th>\n",
       "      <td>9</td>\n",
       "      <td>2015-01-01 00:00:02</td>\n",
       "      <td>0</td>\n",
       "    </tr>\n",
       "    <tr>\n",
       "      <th>3</th>\n",
       "      <td>6</td>\n",
       "      <td>2015-01-01 00:00:03</td>\n",
       "      <td>0</td>\n",
       "    </tr>\n",
       "    <tr>\n",
       "      <th>4</th>\n",
       "      <td>6</td>\n",
       "      <td>2015-01-01 00:00:04</td>\n",
       "      <td>0</td>\n",
       "    </tr>\n",
       "  </tbody>\n",
       "</table>\n",
       "</div>"
      ],
      "text/plain": [
       "   integer            datetime  category\n",
       "0        5 2015-01-01 00:00:00         0\n",
       "1        5 2015-01-01 00:00:01         0\n",
       "2        9 2015-01-01 00:00:02         0\n",
       "3        6 2015-01-01 00:00:03         0\n",
       "4        6 2015-01-01 00:00:04         0"
      ]
     },
     "execution_count": 9,
     "metadata": {},
     "output_type": "execute_result"
    }
   ],
   "source": [
    "second_json = pd.read_json('json_columns.json')\n",
    "second_json.head()"
   ]
  },
  {
   "cell_type": "code",
   "execution_count": 8,
   "id": "1606c929-4683-4fdd-8205-bce90dfc6f57",
   "metadata": {},
   "outputs": [
    {
     "data": {
      "text/html": [
       "<div>\n",
       "<style scoped>\n",
       "    .dataframe tbody tr th:only-of-type {\n",
       "        vertical-align: middle;\n",
       "    }\n",
       "\n",
       "    .dataframe tbody tr th {\n",
       "        vertical-align: top;\n",
       "    }\n",
       "\n",
       "    .dataframe thead th {\n",
       "        text-align: right;\n",
       "    }\n",
       "</style>\n",
       "<table border=\"1\" class=\"dataframe\">\n",
       "  <thead>\n",
       "    <tr style=\"text-align: right;\">\n",
       "      <th></th>\n",
       "      <th>0</th>\n",
       "      <th>1</th>\n",
       "      <th>2</th>\n",
       "      <th>3</th>\n",
       "      <th>4</th>\n",
       "      <th>5</th>\n",
       "      <th>6</th>\n",
       "      <th>7</th>\n",
       "      <th>8</th>\n",
       "      <th>9</th>\n",
       "      <th>...</th>\n",
       "      <th>90</th>\n",
       "      <th>91</th>\n",
       "      <th>92</th>\n",
       "      <th>93</th>\n",
       "      <th>94</th>\n",
       "      <th>95</th>\n",
       "      <th>96</th>\n",
       "      <th>97</th>\n",
       "      <th>98</th>\n",
       "      <th>99</th>\n",
       "    </tr>\n",
       "  </thead>\n",
       "  <tbody>\n",
       "    <tr>\n",
       "      <th>integer</th>\n",
       "      <td>5</td>\n",
       "      <td>5</td>\n",
       "      <td>9</td>\n",
       "      <td>6</td>\n",
       "      <td>6</td>\n",
       "      <td>9</td>\n",
       "      <td>7</td>\n",
       "      <td>1</td>\n",
       "      <td>6</td>\n",
       "      <td>9</td>\n",
       "      <td>...</td>\n",
       "      <td>1</td>\n",
       "      <td>5</td>\n",
       "      <td>7</td>\n",
       "      <td>9</td>\n",
       "      <td>5</td>\n",
       "      <td>9</td>\n",
       "      <td>8</td>\n",
       "      <td>6</td>\n",
       "      <td>8</td>\n",
       "      <td>1</td>\n",
       "    </tr>\n",
       "    <tr>\n",
       "      <th>datetime</th>\n",
       "      <td>1420070400000</td>\n",
       "      <td>1420070401000</td>\n",
       "      <td>1420070402000</td>\n",
       "      <td>1420070403000</td>\n",
       "      <td>1420070404000</td>\n",
       "      <td>1420070405000</td>\n",
       "      <td>1420070406000</td>\n",
       "      <td>1420070407000</td>\n",
       "      <td>1420070408000</td>\n",
       "      <td>1420070409000</td>\n",
       "      <td>...</td>\n",
       "      <td>1420070490000</td>\n",
       "      <td>1420070491000</td>\n",
       "      <td>1420070492000</td>\n",
       "      <td>1420070493000</td>\n",
       "      <td>1420070494000</td>\n",
       "      <td>1420070495000</td>\n",
       "      <td>1420070496000</td>\n",
       "      <td>1420070497000</td>\n",
       "      <td>1420070498000</td>\n",
       "      <td>1420070499000</td>\n",
       "    </tr>\n",
       "    <tr>\n",
       "      <th>category</th>\n",
       "      <td>0</td>\n",
       "      <td>0</td>\n",
       "      <td>0</td>\n",
       "      <td>0</td>\n",
       "      <td>0</td>\n",
       "      <td>0</td>\n",
       "      <td>0</td>\n",
       "      <td>0</td>\n",
       "      <td>0</td>\n",
       "      <td>0</td>\n",
       "      <td>...</td>\n",
       "      <td>0</td>\n",
       "      <td>0</td>\n",
       "      <td>0</td>\n",
       "      <td>0</td>\n",
       "      <td>0</td>\n",
       "      <td>0</td>\n",
       "      <td>0</td>\n",
       "      <td>0</td>\n",
       "      <td>0</td>\n",
       "      <td>0</td>\n",
       "    </tr>\n",
       "  </tbody>\n",
       "</table>\n",
       "<p>3 rows × 100 columns</p>\n",
       "</div>"
      ],
      "text/plain": [
       "                     0              1              2              3   \\\n",
       "integer               5              5              9              6   \n",
       "datetime  1420070400000  1420070401000  1420070402000  1420070403000   \n",
       "category              0              0              0              0   \n",
       "\n",
       "                     4              5              6              7   \\\n",
       "integer               6              9              7              1   \n",
       "datetime  1420070404000  1420070405000  1420070406000  1420070407000   \n",
       "category              0              0              0              0   \n",
       "\n",
       "                     8              9   ...             90             91  \\\n",
       "integer               6              9  ...              1              5   \n",
       "datetime  1420070408000  1420070409000  ...  1420070490000  1420070491000   \n",
       "category              0              0  ...              0              0   \n",
       "\n",
       "                     92             93             94             95  \\\n",
       "integer               7              9              5              9   \n",
       "datetime  1420070492000  1420070493000  1420070494000  1420070495000   \n",
       "category              0              0              0              0   \n",
       "\n",
       "                     96             97             98             99  \n",
       "integer               8              6              8              1  \n",
       "datetime  1420070496000  1420070497000  1420070498000  1420070499000  \n",
       "category              0              0              0              0  \n",
       "\n",
       "[3 rows x 100 columns]"
      ]
     },
     "execution_count": 8,
     "metadata": {},
     "output_type": "execute_result"
    }
   ],
   "source": [
    "third_json = pd.read_json('json_index.json')\n",
    "third_json.head()"
   ]
  },
  {
   "cell_type": "markdown",
   "id": "3b695076-cb92-4470-9202-ef1d16da8c56",
   "metadata": {},
   "source": [
    "`read_json()` and `to_json()` works only with simple JSON. All arrays inside need to have arrays of same length."
   ]
  },
  {
   "cell_type": "markdown",
   "id": "0b47f1dc-4807-4b6d-9ea0-33ca1266396b",
   "metadata": {},
   "source": [
    "Instead, for nested JSON files, use this..."
   ]
  },
  {
   "cell_type": "code",
   "execution_count": 20,
   "id": "fb163948-f016-4f20-9a6e-7e9d0a727ed4",
   "metadata": {},
   "outputs": [
    {
     "name": "stdout",
     "output_type": "stream",
     "text": [
      "{'article': [{'id': '01', 'language': 'JSON', 'edition': 'first', 'author': 'Allen'}, {'id': '02', 'language': 'Python', 'edition': 'second', 'author': 'Aditya Sharma'}], 'blog': [{'name': 'Datacamp', 'URL': 'datacamp.com'}]} \n",
      "\n",
      "{'article': [{'author': 'Allen',\n",
      "              'edition': 'first',\n",
      "              'id': '01',\n",
      "              'language': 'JSON'},\n",
      "             {'author': 'Aditya Sharma',\n",
      "              'edition': 'second',\n",
      "              'id': '02',\n",
      "              'language': 'Python'}],\n",
      " 'blog': [{'URL': 'datacamp.com', 'name': 'Datacamp'}]}\n",
      "\n",
      " <class 'dict'>\n"
     ]
    }
   ],
   "source": [
    "import json\n",
    "import pprint   # pprint is nice\n",
    "from IPython.display import JSON    # but this is probably nicer\n",
    "\n",
    "#load json object\n",
    "with open('nested.json') as f:\n",
    "    nested_json = json.load(f)\n",
    "    \n",
    "print(nested_json, '\\n')\n",
    "pprint.pprint(nested_json)\n",
    "print('\\n',type(nested_json))"
   ]
  },
  {
   "cell_type": "code",
   "execution_count": 21,
   "id": "19c1fa99-57cb-495f-a9ab-b2536f69cde5",
   "metadata": {},
   "outputs": [
    {
     "name": "stderr",
     "output_type": "stream",
     "text": [
      "<ipython-input-21-67d5ecd56d22>:2: FutureWarning: pandas.io.json.json_normalize is deprecated, use pandas.json_normalize instead\n",
      "  json_normalize(nested_json)\n"
     ]
    },
    {
     "data": {
      "text/html": [
       "<div>\n",
       "<style scoped>\n",
       "    .dataframe tbody tr th:only-of-type {\n",
       "        vertical-align: middle;\n",
       "    }\n",
       "\n",
       "    .dataframe tbody tr th {\n",
       "        vertical-align: top;\n",
       "    }\n",
       "\n",
       "    .dataframe thead th {\n",
       "        text-align: right;\n",
       "    }\n",
       "</style>\n",
       "<table border=\"1\" class=\"dataframe\">\n",
       "  <thead>\n",
       "    <tr style=\"text-align: right;\">\n",
       "      <th></th>\n",
       "      <th>article</th>\n",
       "      <th>blog</th>\n",
       "    </tr>\n",
       "  </thead>\n",
       "  <tbody>\n",
       "    <tr>\n",
       "      <th>0</th>\n",
       "      <td>[{'id': '01', 'language': 'JSON', 'edition': '...</td>\n",
       "      <td>[{'name': 'Datacamp', 'URL': 'datacamp.com'}]</td>\n",
       "    </tr>\n",
       "  </tbody>\n",
       "</table>\n",
       "</div>"
      ],
      "text/plain": [
       "                                             article  \\\n",
       "0  [{'id': '01', 'language': 'JSON', 'edition': '...   \n",
       "\n",
       "                                            blog  \n",
       "0  [{'name': 'Datacamp', 'URL': 'datacamp.com'}]  "
      ]
     },
     "execution_count": 21,
     "metadata": {},
     "output_type": "execute_result"
    }
   ],
   "source": [
    "from pandas.io.json import json_normalize  \n",
    "json_normalize(nested_json)"
   ]
  },
  {
   "cell_type": "code",
   "execution_count": 22,
   "id": "3339096b-42bb-41a7-a81a-6c515e3bd3a8",
   "metadata": {},
   "outputs": [
    {
     "name": "stderr",
     "output_type": "stream",
     "text": [
      "<ipython-input-22-f1f9d4bb5137>:1: FutureWarning: pandas.io.json.json_normalize is deprecated, use pandas.json_normalize instead\n",
      "  article = json_normalize(nested_json,record_path ='article')\n"
     ]
    },
    {
     "data": {
      "text/html": [
       "<div>\n",
       "<style scoped>\n",
       "    .dataframe tbody tr th:only-of-type {\n",
       "        vertical-align: middle;\n",
       "    }\n",
       "\n",
       "    .dataframe tbody tr th {\n",
       "        vertical-align: top;\n",
       "    }\n",
       "\n",
       "    .dataframe thead th {\n",
       "        text-align: right;\n",
       "    }\n",
       "</style>\n",
       "<table border=\"1\" class=\"dataframe\">\n",
       "  <thead>\n",
       "    <tr style=\"text-align: right;\">\n",
       "      <th></th>\n",
       "      <th>id</th>\n",
       "      <th>language</th>\n",
       "      <th>edition</th>\n",
       "      <th>author</th>\n",
       "    </tr>\n",
       "  </thead>\n",
       "  <tbody>\n",
       "    <tr>\n",
       "      <th>0</th>\n",
       "      <td>01</td>\n",
       "      <td>JSON</td>\n",
       "      <td>first</td>\n",
       "      <td>Allen</td>\n",
       "    </tr>\n",
       "    <tr>\n",
       "      <th>1</th>\n",
       "      <td>02</td>\n",
       "      <td>Python</td>\n",
       "      <td>second</td>\n",
       "      <td>Aditya Sharma</td>\n",
       "    </tr>\n",
       "  </tbody>\n",
       "</table>\n",
       "</div>"
      ],
      "text/plain": [
       "   id language edition         author\n",
       "0  01     JSON   first          Allen\n",
       "1  02   Python  second  Aditya Sharma"
      ]
     },
     "execution_count": 22,
     "metadata": {},
     "output_type": "execute_result"
    }
   ],
   "source": [
    "article = json_normalize(nested_json,record_path ='article')\n",
    "article.head()"
   ]
  },
  {
   "cell_type": "code",
   "execution_count": 23,
   "id": "b7b0d415-60e4-42c7-b207-01271550040f",
   "metadata": {},
   "outputs": [],
   "source": [
    "# define json string\n",
    "data = [{\"state\": \"Florida\", \n",
    "        \"shortname\": \"FL\",\n",
    "        \"info\": {\"governor\": \"Rick Scott\"},\n",
    "        \"counties\": [{\"name\": \"Dade\", \"population\": 12345},\n",
    "                     {\"name\": \"Broward\", \"population\": 40000},\n",
    "                     {\"name\": \"Palm Beach\", \"population\": 60000}]},\n",
    "       {\"state\": \"Ohio\",\n",
    "        \"shortname\": \"OH\",\n",
    "        \"info\": {\"governor\": \"John Kasich\"},\n",
    "        \"counties\": [{\"name\": \"Summit\", \"population\": 1234},\n",
    "                     {\"name\": \"Cuyahoga\", \"population\": 1337}]}]"
   ]
  },
  {
   "cell_type": "code",
   "execution_count": 24,
   "id": "fcb169c9-cfe1-4a3e-933a-e7780fd653b7",
   "metadata": {},
   "outputs": [
    {
     "name": "stderr",
     "output_type": "stream",
     "text": [
      "<ipython-input-24-b130ade9c50a>:1: FutureWarning: pandas.io.json.json_normalize is deprecated, use pandas.json_normalize instead\n",
      "  json_normalize(data)\n",
      "<ipython-input-24-b130ade9c50a>:2: FutureWarning: pandas.io.json.json_normalize is deprecated, use pandas.json_normalize instead\n",
      "  json_normalize(data=data, record_path='counties', meta=['state', 'shortname', ['info', 'governor']])\n"
     ]
    },
    {
     "data": {
      "text/html": [
       "<div>\n",
       "<style scoped>\n",
       "    .dataframe tbody tr th:only-of-type {\n",
       "        vertical-align: middle;\n",
       "    }\n",
       "\n",
       "    .dataframe tbody tr th {\n",
       "        vertical-align: top;\n",
       "    }\n",
       "\n",
       "    .dataframe thead th {\n",
       "        text-align: right;\n",
       "    }\n",
       "</style>\n",
       "<table border=\"1\" class=\"dataframe\">\n",
       "  <thead>\n",
       "    <tr style=\"text-align: right;\">\n",
       "      <th></th>\n",
       "      <th>name</th>\n",
       "      <th>population</th>\n",
       "      <th>state</th>\n",
       "      <th>shortname</th>\n",
       "      <th>info.governor</th>\n",
       "    </tr>\n",
       "  </thead>\n",
       "  <tbody>\n",
       "    <tr>\n",
       "      <th>0</th>\n",
       "      <td>Dade</td>\n",
       "      <td>12345</td>\n",
       "      <td>Florida</td>\n",
       "      <td>FL</td>\n",
       "      <td>Rick Scott</td>\n",
       "    </tr>\n",
       "    <tr>\n",
       "      <th>1</th>\n",
       "      <td>Broward</td>\n",
       "      <td>40000</td>\n",
       "      <td>Florida</td>\n",
       "      <td>FL</td>\n",
       "      <td>Rick Scott</td>\n",
       "    </tr>\n",
       "    <tr>\n",
       "      <th>2</th>\n",
       "      <td>Palm Beach</td>\n",
       "      <td>60000</td>\n",
       "      <td>Florida</td>\n",
       "      <td>FL</td>\n",
       "      <td>Rick Scott</td>\n",
       "    </tr>\n",
       "    <tr>\n",
       "      <th>3</th>\n",
       "      <td>Summit</td>\n",
       "      <td>1234</td>\n",
       "      <td>Ohio</td>\n",
       "      <td>OH</td>\n",
       "      <td>John Kasich</td>\n",
       "    </tr>\n",
       "    <tr>\n",
       "      <th>4</th>\n",
       "      <td>Cuyahoga</td>\n",
       "      <td>1337</td>\n",
       "      <td>Ohio</td>\n",
       "      <td>OH</td>\n",
       "      <td>John Kasich</td>\n",
       "    </tr>\n",
       "  </tbody>\n",
       "</table>\n",
       "</div>"
      ],
      "text/plain": [
       "         name  population    state shortname info.governor\n",
       "0        Dade       12345  Florida        FL    Rick Scott\n",
       "1     Broward       40000  Florida        FL    Rick Scott\n",
       "2  Palm Beach       60000  Florida        FL    Rick Scott\n",
       "3      Summit        1234     Ohio        OH   John Kasich\n",
       "4    Cuyahoga        1337     Ohio        OH   John Kasich"
      ]
     },
     "execution_count": 24,
     "metadata": {},
     "output_type": "execute_result"
    }
   ],
   "source": [
    "json_normalize(data)\n",
    "json_normalize(data=data, record_path='counties', meta=['state', 'shortname', ['info', 'governor']])"
   ]
  }
 ],
 "metadata": {
  "kernelspec": {
   "display_name": "Python 3",
   "language": "python",
   "name": "python3"
  },
  "language_info": {
   "codemirror_mode": {
    "name": "ipython",
    "version": 3
   },
   "file_extension": ".py",
   "mimetype": "text/x-python",
   "name": "python",
   "nbconvert_exporter": "python",
   "pygments_lexer": "ipython3",
   "version": "3.8.8"
  }
 },
 "nbformat": 4,
 "nbformat_minor": 5
}
