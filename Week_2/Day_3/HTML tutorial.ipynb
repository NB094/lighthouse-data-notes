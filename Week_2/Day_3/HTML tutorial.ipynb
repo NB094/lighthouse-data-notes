{
 "cells": [
  {
   "cell_type": "code",
   "execution_count": 1,
   "id": "90989c15-1c11-4b72-9649-ee46fb3dd6ca",
   "metadata": {},
   "outputs": [],
   "source": [
    "import pandas as pd\n",
    "import requests"
   ]
  },
  {
   "cell_type": "code",
   "execution_count": 2,
   "id": "c27907f8-5cc3-4487-9415-770bd9adb85f",
   "metadata": {},
   "outputs": [],
   "source": [
    "# Download the web page's source code to Python."
   ]
  },
  {
   "cell_type": "code",
   "execution_count": 3,
   "id": "cb22be65-3b5f-4baa-87d9-6e714f97eb1c",
   "metadata": {},
   "outputs": [
    {
     "data": {
      "text/plain": [
       "<Response [200]>"
      ]
     },
     "execution_count": 3,
     "metadata": {},
     "output_type": "execute_result"
    }
   ],
   "source": [
    "url = 'https://www.worldcoinindex.com/'\n",
    "crypto_url = requests.get(url)\n",
    "crypto_url"
   ]
  },
  {
   "cell_type": "code",
   "execution_count": 4,
   "id": "e101b028-5cd1-447c-9f7f-f5964b37b393",
   "metadata": {},
   "outputs": [],
   "source": [
    "body = crypto_url.text"
   ]
  },
  {
   "cell_type": "code",
   "execution_count": 5,
   "id": "4694b135-dd42-48f6-b3fb-22a4c7b1a97b",
   "metadata": {},
   "outputs": [
    {
     "name": "stdout",
     "output_type": "stream",
     "text": [
      "<class 'list'>\n",
      "1\n"
     ]
    }
   ],
   "source": [
    "crypto_data = pd.read_html(body)\n",
    "print(type(crypto_data))\n",
    "print(len(crypto_data))"
   ]
  },
  {
   "cell_type": "code",
   "execution_count": 6,
   "id": "8c7496fd-1e13-4be3-bccc-32a02aad1a35",
   "metadata": {},
   "outputs": [
    {
     "data": {
      "text/html": [
       "<div>\n",
       "<style scoped>\n",
       "    .dataframe tbody tr th:only-of-type {\n",
       "        vertical-align: middle;\n",
       "    }\n",
       "\n",
       "    .dataframe tbody tr th {\n",
       "        vertical-align: top;\n",
       "    }\n",
       "\n",
       "    .dataframe thead th {\n",
       "        text-align: right;\n",
       "    }\n",
       "</style>\n",
       "<table border=\"1\" class=\"dataframe\">\n",
       "  <thead>\n",
       "    <tr style=\"text-align: right;\">\n",
       "      <th></th>\n",
       "      <th>#</th>\n",
       "      <th>Unnamed: 1</th>\n",
       "      <th>Name</th>\n",
       "      <th>Ticker</th>\n",
       "      <th>Last price</th>\n",
       "      <th>%</th>\n",
       "      <th>24 high</th>\n",
       "      <th>24 low</th>\n",
       "      <th>Price Charts 7d</th>\n",
       "      <th>24 volume</th>\n",
       "      <th># Coins</th>\n",
       "      <th>Market cap</th>\n",
       "    </tr>\n",
       "  </thead>\n",
       "  <tbody>\n",
       "    <tr>\n",
       "      <th>0</th>\n",
       "      <td>1</td>\n",
       "      <td>NaN</td>\n",
       "      <td>Bitcoin</td>\n",
       "      <td>BTC</td>\n",
       "      <td>$ 40,014</td>\n",
       "      <td>+1.41%</td>\n",
       "      <td>$ 40,889</td>\n",
       "      <td>$ 38,854</td>\n",
       "      <td>NaN</td>\n",
       "      <td>$ 16.49B</td>\n",
       "      <td>18.76M</td>\n",
       "      <td>$ 751.05B</td>\n",
       "    </tr>\n",
       "    <tr>\n",
       "      <th>1</th>\n",
       "      <td>2</td>\n",
       "      <td>NaN</td>\n",
       "      <td>Ethereum</td>\n",
       "      <td>ETH</td>\n",
       "      <td>$ 2,303.67</td>\n",
       "      <td>+0.14%</td>\n",
       "      <td>$ 2,347.23</td>\n",
       "      <td>$ 2,249.92</td>\n",
       "      <td>NaN</td>\n",
       "      <td>$ 10.90B</td>\n",
       "      <td>116.88M</td>\n",
       "      <td>$ 269.25B</td>\n",
       "    </tr>\n",
       "    <tr>\n",
       "      <th>2</th>\n",
       "      <td>3</td>\n",
       "      <td>NaN</td>\n",
       "      <td>Ripple</td>\n",
       "      <td>XRP</td>\n",
       "      <td>$ 0.709218</td>\n",
       "      <td>+9.94%</td>\n",
       "      <td>$ 0.751880</td>\n",
       "      <td>$ 0.631915</td>\n",
       "      <td>NaN</td>\n",
       "      <td>$ 3.90B</td>\n",
       "      <td>46.31B</td>\n",
       "      <td>$ 32.84B</td>\n",
       "    </tr>\n",
       "    <tr>\n",
       "      <th>3</th>\n",
       "      <td>4</td>\n",
       "      <td>NaN</td>\n",
       "      <td>Axie Infinity</td>\n",
       "      <td>AXS</td>\n",
       "      <td>$ 46.00</td>\n",
       "      <td>-1.12%</td>\n",
       "      <td>$ 50.40</td>\n",
       "      <td>$ 44.34</td>\n",
       "      <td>NaN</td>\n",
       "      <td>$ 3.78B</td>\n",
       "      <td>43.25M</td>\n",
       "      <td>$ 1.98B</td>\n",
       "    </tr>\n",
       "    <tr>\n",
       "      <th>4</th>\n",
       "      <td>5</td>\n",
       "      <td>NaN</td>\n",
       "      <td>Dogecoin</td>\n",
       "      <td>DOGE</td>\n",
       "      <td>$ 0.205536</td>\n",
       "      <td>-0.21%</td>\n",
       "      <td>$ 0.213395</td>\n",
       "      <td>$ 0.201849</td>\n",
       "      <td>NaN</td>\n",
       "      <td>$ 1.74B</td>\n",
       "      <td>129.40B</td>\n",
       "      <td>$ 26.59B</td>\n",
       "    </tr>\n",
       "  </tbody>\n",
       "</table>\n",
       "</div>"
      ],
      "text/plain": [
       "   # Unnamed: 1           Name Ticker  Last price       %     24 high  \\\n",
       "0  1        NaN        Bitcoin    BTC    $ 40,014  +1.41%    $ 40,889   \n",
       "1  2        NaN       Ethereum    ETH  $ 2,303.67  +0.14%  $ 2,347.23   \n",
       "2  3        NaN         Ripple    XRP  $ 0.709218  +9.94%  $ 0.751880   \n",
       "3  4        NaN  Axie Infinity    AXS     $ 46.00  -1.12%     $ 50.40   \n",
       "4  5        NaN       Dogecoin   DOGE  $ 0.205536  -0.21%  $ 0.213395   \n",
       "\n",
       "       24 low Price Charts 7d 24 volume  # Coins Market cap  \n",
       "0    $ 38,854             NaN  $ 16.49B   18.76M  $ 751.05B  \n",
       "1  $ 2,249.92             NaN  $ 10.90B  116.88M  $ 269.25B  \n",
       "2  $ 0.631915             NaN   $ 3.90B   46.31B   $ 32.84B  \n",
       "3     $ 44.34             NaN   $ 3.78B   43.25M    $ 1.98B  \n",
       "4  $ 0.201849             NaN   $ 1.74B  129.40B   $ 26.59B  "
      ]
     },
     "execution_count": 6,
     "metadata": {},
     "output_type": "execute_result"
    }
   ],
   "source": [
    "crypto_data = crypto_data[0]\n",
    "crypto_data.head()"
   ]
  },
  {
   "cell_type": "markdown",
   "id": "1effb18b-4339-4fa5-8ec0-d0a53d58a547",
   "metadata": {},
   "source": [
    "If we want to extract information from HTML, which doesn't have a table, we need to use a different approach: **Scraping**.\n",
    "\n",
    "Fortunately, Python has a great package for this called `Beautiful Soup`."
   ]
  },
  {
   "cell_type": "markdown",
   "id": "1ce1138a-6310-455c-8e26-dac069fe8cea",
   "metadata": {},
   "source": [
    "## Web Scraping"
   ]
  },
  {
   "cell_type": "markdown",
   "id": "fb527f55-947e-438b-ada5-1c573028ef44",
   "metadata": {},
   "source": [
    "Reference: https://www.dataquest.io/blog/web-scraping-python-using-beautiful-soup/"
   ]
  },
  {
   "cell_type": "code",
   "execution_count": 7,
   "id": "2c76902a-0445-423d-9822-ab337ab8b2e5",
   "metadata": {},
   "outputs": [
    {
     "data": {
      "text/plain": [
       "<Response [200]>"
      ]
     },
     "execution_count": 7,
     "metadata": {},
     "output_type": "execute_result"
    }
   ],
   "source": [
    "import requests\n",
    "page = requests.get(\"https://dataquestio.github.io/web-scraping-pages/simple.html\")\n",
    "page"
   ]
  },
  {
   "cell_type": "code",
   "execution_count": 8,
   "id": "0263caa9-719f-4f96-8005-164558bf58c8",
   "metadata": {},
   "outputs": [
    {
     "data": {
      "text/plain": [
       "200"
      ]
     },
     "execution_count": 8,
     "metadata": {},
     "output_type": "execute_result"
    }
   ],
   "source": [
    "page.status_code"
   ]
  },
  {
   "cell_type": "code",
   "execution_count": 9,
   "id": "aa84ae62-66a9-4016-9c6d-55e5f1a62450",
   "metadata": {},
   "outputs": [
    {
     "data": {
      "text/plain": [
       "b'<!DOCTYPE html>\\n<html>\\n    <head>\\n        <title>A simple example page</title>\\n    </head>\\n    <body>\\n        <p>Here is some simple content for this page.</p>\\n    </body>\\n</html>'"
      ]
     },
     "execution_count": 9,
     "metadata": {},
     "output_type": "execute_result"
    }
   ],
   "source": [
    "page.content"
   ]
  },
  {
   "cell_type": "markdown",
   "id": "4e999491-7d07-4abd-a09b-4edb228ba9fc",
   "metadata": {},
   "source": [
    "#### Parsing a page with BeautifulSoup\n"
   ]
  },
  {
   "cell_type": "code",
   "execution_count": 10,
   "id": "a0d1e80c-17a3-4bca-9b30-0e9efee6f09d",
   "metadata": {},
   "outputs": [],
   "source": [
    "from bs4 import BeautifulSoup\n",
    "soup = BeautifulSoup(page.content, 'html.parser')"
   ]
  },
  {
   "cell_type": "code",
   "execution_count": 11,
   "id": "7af92837-b42b-4260-8f97-073628ab1d5e",
   "metadata": {},
   "outputs": [
    {
     "name": "stdout",
     "output_type": "stream",
     "text": [
      "<!DOCTYPE html>\n",
      "<html>\n",
      " <head>\n",
      "  <title>\n",
      "   A simple example page\n",
      "  </title>\n",
      " </head>\n",
      " <body>\n",
      "  <p>\n",
      "   Here is some simple content for this page.\n",
      "  </p>\n",
      " </body>\n",
      "</html>\n"
     ]
    }
   ],
   "source": [
    "print(soup.prettify())"
   ]
  },
  {
   "cell_type": "code",
   "execution_count": 12,
   "id": "21f8c937-9e13-46ed-9783-ca1e44d017ec",
   "metadata": {},
   "outputs": [
    {
     "data": {
      "text/plain": [
       "['html',\n",
       " '\\n',\n",
       " <html>\n",
       " <head>\n",
       " <title>A simple example page</title>\n",
       " </head>\n",
       " <body>\n",
       " <p>Here is some simple content for this page.</p>\n",
       " </body>\n",
       " </html>]"
      ]
     },
     "execution_count": 12,
     "metadata": {},
     "output_type": "execute_result"
    }
   ],
   "source": [
    "list(soup.children)"
   ]
  },
  {
   "cell_type": "code",
   "execution_count": 13,
   "id": "8fad41e6-6676-4418-972f-15720609c46c",
   "metadata": {},
   "outputs": [
    {
     "data": {
      "text/plain": [
       "[bs4.element.Doctype, bs4.element.NavigableString, bs4.element.Tag]"
      ]
     },
     "execution_count": 13,
     "metadata": {},
     "output_type": "execute_result"
    }
   ],
   "source": [
    "[type(item) for item in list(soup.children)]"
   ]
  },
  {
   "cell_type": "code",
   "execution_count": 14,
   "id": "b826eef3-5fd9-4587-a8d6-00dc3344f026",
   "metadata": {},
   "outputs": [
    {
     "name": "stdout",
     "output_type": "stream",
     "text": [
      "<html>\n",
      "<head>\n",
      "<title>A simple example page</title>\n",
      "</head>\n",
      "<body>\n",
      "<p>Here is some simple content for this page.</p>\n",
      "</body>\n",
      "</html>\n"
     ]
    }
   ],
   "source": [
    "html = list(soup.children)[2]\n",
    "print(html)"
   ]
  },
  {
   "cell_type": "code",
   "execution_count": 15,
   "id": "a4f41e77-b753-43a3-9174-6ec94b7c1801",
   "metadata": {},
   "outputs": [
    {
     "data": {
      "text/plain": [
       "['\\n',\n",
       " <head>\n",
       " <title>A simple example page</title>\n",
       " </head>,\n",
       " '\\n',\n",
       " <body>\n",
       " <p>Here is some simple content for this page.</p>\n",
       " </body>,\n",
       " '\\n']"
      ]
     },
     "execution_count": 15,
     "metadata": {},
     "output_type": "execute_result"
    }
   ],
   "source": [
    "list(html.children)"
   ]
  },
  {
   "cell_type": "code",
   "execution_count": 20,
   "id": "b5b16788-fd54-4bfd-8d87-799147323ee8",
   "metadata": {},
   "outputs": [
    {
     "data": {
      "text/plain": [
       "<body>\n",
       "<p>Here is some simple content for this page.</p>\n",
       "</body>"
      ]
     },
     "execution_count": 20,
     "metadata": {},
     "output_type": "execute_result"
    }
   ],
   "source": [
    "body = list(html.children)[3]\n",
    "body"
   ]
  },
  {
   "cell_type": "code",
   "execution_count": 21,
   "id": "e3f5f879-48b1-4abd-972e-2c4c8707390d",
   "metadata": {},
   "outputs": [
    {
     "data": {
      "text/plain": [
       "['\\n', <p>Here is some simple content for this page.</p>, '\\n']"
      ]
     },
     "execution_count": 21,
     "metadata": {},
     "output_type": "execute_result"
    }
   ],
   "source": [
    "list(body.children)"
   ]
  },
  {
   "cell_type": "code",
   "execution_count": 22,
   "id": "0c3c8aec-d6c4-4cbf-bdc1-0af8aff962b2",
   "metadata": {},
   "outputs": [
    {
     "data": {
      "text/plain": [
       "'Here is some simple content for this page.'"
      ]
     },
     "execution_count": 22,
     "metadata": {},
     "output_type": "execute_result"
    }
   ],
   "source": [
    "p = list(body.children)[1]\n",
    "p.get_text()"
   ]
  },
  {
   "cell_type": "markdown",
   "id": "45f37dc9-9536-488b-8482-cfe25e87e563",
   "metadata": {},
   "source": [
    "#### Finding all instances of a tag at once"
   ]
  },
  {
   "cell_type": "code",
   "execution_count": 23,
   "id": "dfe9dfa1-efa7-4dc5-ba61-459bdd67d883",
   "metadata": {},
   "outputs": [
    {
     "data": {
      "text/plain": [
       "[<p>Here is some simple content for this page.</p>]"
      ]
     },
     "execution_count": 23,
     "metadata": {},
     "output_type": "execute_result"
    }
   ],
   "source": [
    "soup = BeautifulSoup(page.content, 'html.parser')\n",
    "soup.find_all('p')"
   ]
  },
  {
   "cell_type": "code",
   "execution_count": 24,
   "id": "c48538c9-389f-4c22-9c0d-5806a60f2fa3",
   "metadata": {},
   "outputs": [
    {
     "data": {
      "text/plain": [
       "'Here is some simple content for this page.'"
      ]
     },
     "execution_count": 24,
     "metadata": {},
     "output_type": "execute_result"
    }
   ],
   "source": [
    "# Find a list of all matching tags\n",
    "soup.find_all('p')[0].get_text()"
   ]
  },
  {
   "cell_type": "code",
   "execution_count": 25,
   "id": "8f65f8f5-a51c-41a3-969c-001d3cd645b8",
   "metadata": {},
   "outputs": [
    {
     "data": {
      "text/plain": [
       "<p>Here is some simple content for this page.</p>"
      ]
     },
     "execution_count": 25,
     "metadata": {},
     "output_type": "execute_result"
    }
   ],
   "source": [
    "# Find only the first instance of a tag\n",
    "soup.find('p')"
   ]
  },
  {
   "cell_type": "markdown",
   "id": "03c9bffe-a682-4b3a-a54f-4bc470371d38",
   "metadata": {},
   "source": [
    "#### Searching for tags by class and id\n"
   ]
  },
  {
   "cell_type": "code",
   "execution_count": 27,
   "id": "5114f006-e261-4a79-9c26-88800905e1c7",
   "metadata": {},
   "outputs": [
    {
     "name": "stdout",
     "output_type": "stream",
     "text": [
      "<html>\n",
      " <head>\n",
      "  <title>\n",
      "   A simple example page\n",
      "  </title>\n",
      " </head>\n",
      " <body>\n",
      "  <div>\n",
      "   <p class=\"inner-text first-item\" id=\"first\">\n",
      "    First paragraph.\n",
      "   </p>\n",
      "   <p class=\"inner-text\">\n",
      "    Second paragraph.\n",
      "   </p>\n",
      "  </div>\n",
      "  <p class=\"outer-text first-item\" id=\"second\">\n",
      "   <b>\n",
      "    First outer paragraph.\n",
      "   </b>\n",
      "  </p>\n",
      "  <p class=\"outer-text\">\n",
      "   <b>\n",
      "    Second outer paragraph.\n",
      "   </b>\n",
      "  </p>\n",
      " </body>\n",
      "</html>\n"
     ]
    }
   ],
   "source": [
    "page = requests.get(\"https://dataquestio.github.io/web-scraping-pages/ids_and_classes.html\")\n",
    "soup = BeautifulSoup(page.content, 'html.parser')\n",
    "print(soup.prettify())"
   ]
  },
  {
   "cell_type": "markdown",
   "id": "f4f183eb-4bbc-4b3e-93eb-6e4e3d717356",
   "metadata": {},
   "source": [
    "Use the `find_all` method to search for items by class or by id:"
   ]
  },
  {
   "cell_type": "code",
   "execution_count": 28,
   "id": "383b54d2-025f-475d-b54c-edb52689b771",
   "metadata": {},
   "outputs": [
    {
     "data": {
      "text/plain": [
       "[<p class=\"outer-text first-item\" id=\"second\">\n",
       " <b>\n",
       "                 First outer paragraph.\n",
       "             </b>\n",
       " </p>,\n",
       " <p class=\"outer-text\">\n",
       " <b>\n",
       "                 Second outer paragraph.\n",
       "             </b>\n",
       " </p>]"
      ]
     },
     "execution_count": 28,
     "metadata": {},
     "output_type": "execute_result"
    }
   ],
   "source": [
    "# search for any p tag that has the class outer-text:\n",
    "soup.find_all('p', class_='outer-text')"
   ]
  },
  {
   "cell_type": "code",
   "execution_count": 29,
   "id": "03c7c307-789b-47d6-a139-65524d90a0a7",
   "metadata": {},
   "outputs": [
    {
     "data": {
      "text/plain": [
       "[<p class=\"outer-text first-item\" id=\"second\">\n",
       " <b>\n",
       "                 First outer paragraph.\n",
       "             </b>\n",
       " </p>,\n",
       " <p class=\"outer-text\">\n",
       " <b>\n",
       "                 Second outer paragraph.\n",
       "             </b>\n",
       " </p>]"
      ]
     },
     "execution_count": 29,
     "metadata": {},
     "output_type": "execute_result"
    }
   ],
   "source": [
    "# look for any tag that has the class outer-text:\n",
    "soup.find_all(class_=\"outer-text\")"
   ]
  },
  {
   "cell_type": "code",
   "execution_count": 30,
   "id": "a19251ed-e9ef-4bbd-ba1a-e37c429cf8a1",
   "metadata": {},
   "outputs": [
    {
     "data": {
      "text/plain": [
       "[<p class=\"inner-text first-item\" id=\"first\">\n",
       "                 First paragraph.\n",
       "             </p>]"
      ]
     },
     "execution_count": 30,
     "metadata": {},
     "output_type": "execute_result"
    }
   ],
   "source": [
    "# Search for elements by id:\n",
    "soup.find_all(id=\"first\")"
   ]
  },
  {
   "cell_type": "markdown",
   "id": "82176d87-ce89-4775-936c-d3e446f39291",
   "metadata": {},
   "source": [
    "#### Using CSS Selectors"
   ]
  },
  {
   "cell_type": "markdown",
   "id": "7be86aaa-35dc-4e6d-a9cd-f5ff8455796f",
   "metadata": {},
   "source": [
    "Use CSS selectors to find all the `p` tags in our page that are inside of a `div` like this:"
   ]
  },
  {
   "cell_type": "code",
   "execution_count": 31,
   "id": "4e3c605f-d1cd-439a-8d7c-e96b630219bd",
   "metadata": {},
   "outputs": [
    {
     "data": {
      "text/plain": [
       "[<p class=\"inner-text first-item\" id=\"first\">\n",
       "                 First paragraph.\n",
       "             </p>,\n",
       " <p class=\"inner-text\">\n",
       "                 Second paragraph.\n",
       "             </p>]"
      ]
     },
     "execution_count": 31,
     "metadata": {},
     "output_type": "execute_result"
    }
   ],
   "source": [
    "soup.select(\"div p\")"
   ]
  },
  {
   "cell_type": "markdown",
   "id": "ca63a4b8-a54a-4127-a2e6-fb6e53a5e2a8",
   "metadata": {},
   "source": [
    "## Downloading weather data"
   ]
  },
  {
   "cell_type": "code",
   "execution_count": 33,
   "id": "89386d49-bcfc-4e4a-b465-183a629a1ea0",
   "metadata": {},
   "outputs": [
    {
     "name": "stdout",
     "output_type": "stream",
     "text": [
      "<div class=\"tombstone-container\">\n",
      " <p class=\"period-name\">\n",
      "  Tonight\n",
      "  <br/>\n",
      "  <br/>\n",
      " </p>\n",
      " <p>\n",
      "  <img alt=\"Tonight: Mostly cloudy, with a low around 57. Breezy, with a west southwest wind 19 to 24 mph decreasing to 11 to 16 mph after midnight. Winds could gust as high as 31 mph. \" class=\"forecast-icon\" src=\"DualImage.php?i=nwind_bkn&amp;j=nbkn\" title=\"Tonight: Mostly cloudy, with a low around 57. Breezy, with a west southwest wind 19 to 24 mph decreasing to 11 to 16 mph after midnight. Winds could gust as high as 31 mph. \"/>\n",
      " </p>\n",
      " <p class=\"short-desc\">\n",
      "  Mostly Cloudy\n",
      "  <br/>\n",
      "  and Breezy\n",
      "  <br/>\n",
      "  then Mostly\n",
      "  <br/>\n",
      "  Cloudy\n",
      " </p>\n",
      " <p class=\"temp temp-low\">\n",
      "  Low: 57 °F\n",
      " </p>\n",
      "</div>\n"
     ]
    }
   ],
   "source": [
    "page = requests.get(\"https://forecast.weather.gov/MapClick.php?lat=37.7772&lon=-122.4168\")\n",
    "soup = BeautifulSoup(page.content, 'html.parser')\n",
    "seven_day = soup.find(id=\"seven-day-forecast\")\n",
    "forecast_items = seven_day.find_all(class_=\"tombstone-container\")\n",
    "tonight = forecast_items[0]\n",
    "print(tonight.prettify())"
   ]
  },
  {
   "cell_type": "code",
   "execution_count": 42,
   "id": "a55dd8a4-2688-4b7a-900e-7e6892afb3f9",
   "metadata": {},
   "outputs": [
    {
     "name": "stdout",
     "output_type": "stream",
     "text": [
      "Tonight\n",
      "Mostly Cloudyand Breezythen MostlyCloudy\n",
      "Low: 57 °F\n"
     ]
    }
   ],
   "source": [
    "period = tonight.find(class_=\"period-name\").get_text()\n",
    "short_desc = tonight.find(class_=\"short-desc\").get_text()\n",
    "temp = tonight.find(class_=\"temp\").get_text()\n",
    "print(period)\n",
    "print(short_desc)\n",
    "print(temp)"
   ]
  },
  {
   "cell_type": "code",
   "execution_count": 43,
   "id": "20c7d7a8-ca20-4b60-bc46-612c059f5705",
   "metadata": {},
   "outputs": [
    {
     "name": "stdout",
     "output_type": "stream",
     "text": [
      "Tonight: Mostly cloudy, with a low around 57. Breezy, with a west southwest wind 19 to 24 mph decreasing to 11 to 16 mph after midnight. Winds could gust as high as 31 mph. \n"
     ]
    }
   ],
   "source": [
    "img = tonight.find(\"img\")\n",
    "desc = img['title']\n",
    "print(desc)"
   ]
  },
  {
   "cell_type": "code",
   "execution_count": 44,
   "id": "d5eddeee-6e9c-4e30-a198-2a0aa1b27927",
   "metadata": {},
   "outputs": [
    {
     "data": {
      "text/plain": [
       "['Tonight',\n",
       " 'Thursday',\n",
       " 'ThursdayNight',\n",
       " 'Friday',\n",
       " 'FridayNight',\n",
       " 'Saturday',\n",
       " 'SaturdayNight',\n",
       " 'Sunday',\n",
       " 'SundayNight']"
      ]
     },
     "execution_count": 44,
     "metadata": {},
     "output_type": "execute_result"
    }
   ],
   "source": [
    "# Extracting all the information from the page\n",
    "\n",
    "period_tags = seven_day.select(\".tombstone-container .period-name\")\n",
    "periods = [pt.get_text() for pt in period_tags]\n",
    "periods"
   ]
  },
  {
   "cell_type": "code",
   "execution_count": 48,
   "id": "e38d9b21-d95c-411b-ac1d-28944f003ec2",
   "metadata": {},
   "outputs": [
    {
     "name": "stdout",
     "output_type": "stream",
     "text": [
      "['Mostly Cloudyand Breezythen MostlyCloudy', 'Partly Sunnythen MostlySunny andBreezy', 'Partly Cloudyand Breezythen MostlyCloudy', 'Mostly Sunnythen Sunnyand Breezy', 'Partly Cloudyand Breezythen MostlyCloudy', 'Partly Sunny', 'Mostly Cloudy', 'Mostly Sunny', 'Partly Cloudy']\n",
      "['Low: 57 °F', 'High: 70 °F', 'Low: 56 °F', 'High: 69 °F', 'Low: 56 °F', 'High: 67 °F', 'Low: 56 °F', 'High: 69 °F', 'Low: 56 °F']\n",
      "['Tonight: Mostly cloudy, with a low around 57. Breezy, with a west southwest wind 19 to 24 mph decreasing to 11 to 16 mph after midnight. Winds could gust as high as 31 mph. ', 'Thursday: Mostly sunny, with a high near 70. Breezy, with a west southwest wind 11 to 16 mph increasing to 20 to 25 mph in the afternoon. Winds could gust as high as 33 mph. ', 'Thursday Night: Mostly cloudy, with a low around 56. Breezy, with a west southwest wind 14 to 22 mph, with gusts as high as 29 mph. ', 'Friday: Mostly sunny, with a high near 69. Breezy, with a west southwest wind 14 to 23 mph, with gusts as high as 30 mph. ', 'Friday Night: Mostly cloudy, with a low around 56. Breezy, with a west southwest wind 15 to 22 mph, with gusts as high as 28 mph. ', 'Saturday: Partly sunny, with a high near 67.', 'Saturday Night: Mostly cloudy, with a low around 56.', 'Sunday: Mostly sunny, with a high near 69.', 'Sunday Night: Partly cloudy, with a low around 56.']\n"
     ]
    }
   ],
   "source": [
    "short_descs = [sd.get_text() for sd in seven_day.select(\".tombstone-container .short-desc\")]\n",
    "temps = [t.get_text() for t in seven_day.select(\".tombstone-container .temp\")]\n",
    "descs = [d[\"title\"] for d in seven_day.select(\".tombstone-container img\")]\n",
    "print(short_descs)\n",
    "print(temps)\n",
    "print(descs)"
   ]
  },
  {
   "cell_type": "code",
   "execution_count": null,
   "id": "d2bdbf3b-a74c-40eb-ad53-2778178fbbc1",
   "metadata": {},
   "outputs": [],
   "source": []
  },
  {
   "cell_type": "markdown",
   "id": "2d6e3691-d23c-4bef-929a-bc0e691e714b",
   "metadata": {},
   "source": [
    "## Combining our data into a Pandas Dataframe"
   ]
  },
  {
   "cell_type": "code",
   "execution_count": 49,
   "id": "e9aaa639-b88b-48cb-aa15-2f85f4bdb19a",
   "metadata": {},
   "outputs": [
    {
     "data": {
      "text/html": [
       "<div>\n",
       "<style scoped>\n",
       "    .dataframe tbody tr th:only-of-type {\n",
       "        vertical-align: middle;\n",
       "    }\n",
       "\n",
       "    .dataframe tbody tr th {\n",
       "        vertical-align: top;\n",
       "    }\n",
       "\n",
       "    .dataframe thead th {\n",
       "        text-align: right;\n",
       "    }\n",
       "</style>\n",
       "<table border=\"1\" class=\"dataframe\">\n",
       "  <thead>\n",
       "    <tr style=\"text-align: right;\">\n",
       "      <th></th>\n",
       "      <th>period</th>\n",
       "      <th>short_desc</th>\n",
       "      <th>temp</th>\n",
       "      <th>desc</th>\n",
       "    </tr>\n",
       "  </thead>\n",
       "  <tbody>\n",
       "    <tr>\n",
       "      <th>0</th>\n",
       "      <td>Tonight</td>\n",
       "      <td>Mostly Cloudyand Breezythen MostlyCloudy</td>\n",
       "      <td>Low: 57 °F</td>\n",
       "      <td>Tonight: Mostly cloudy, with a low around 57. ...</td>\n",
       "    </tr>\n",
       "    <tr>\n",
       "      <th>1</th>\n",
       "      <td>Thursday</td>\n",
       "      <td>Partly Sunnythen MostlySunny andBreezy</td>\n",
       "      <td>High: 70 °F</td>\n",
       "      <td>Thursday: Mostly sunny, with a high near 70. B...</td>\n",
       "    </tr>\n",
       "    <tr>\n",
       "      <th>2</th>\n",
       "      <td>ThursdayNight</td>\n",
       "      <td>Partly Cloudyand Breezythen MostlyCloudy</td>\n",
       "      <td>Low: 56 °F</td>\n",
       "      <td>Thursday Night: Mostly cloudy, with a low arou...</td>\n",
       "    </tr>\n",
       "    <tr>\n",
       "      <th>3</th>\n",
       "      <td>Friday</td>\n",
       "      <td>Mostly Sunnythen Sunnyand Breezy</td>\n",
       "      <td>High: 69 °F</td>\n",
       "      <td>Friday: Mostly sunny, with a high near 69. Bre...</td>\n",
       "    </tr>\n",
       "    <tr>\n",
       "      <th>4</th>\n",
       "      <td>FridayNight</td>\n",
       "      <td>Partly Cloudyand Breezythen MostlyCloudy</td>\n",
       "      <td>Low: 56 °F</td>\n",
       "      <td>Friday Night: Mostly cloudy, with a low around...</td>\n",
       "    </tr>\n",
       "    <tr>\n",
       "      <th>5</th>\n",
       "      <td>Saturday</td>\n",
       "      <td>Partly Sunny</td>\n",
       "      <td>High: 67 °F</td>\n",
       "      <td>Saturday: Partly sunny, with a high near 67.</td>\n",
       "    </tr>\n",
       "    <tr>\n",
       "      <th>6</th>\n",
       "      <td>SaturdayNight</td>\n",
       "      <td>Mostly Cloudy</td>\n",
       "      <td>Low: 56 °F</td>\n",
       "      <td>Saturday Night: Mostly cloudy, with a low arou...</td>\n",
       "    </tr>\n",
       "    <tr>\n",
       "      <th>7</th>\n",
       "      <td>Sunday</td>\n",
       "      <td>Mostly Sunny</td>\n",
       "      <td>High: 69 °F</td>\n",
       "      <td>Sunday: Mostly sunny, with a high near 69.</td>\n",
       "    </tr>\n",
       "    <tr>\n",
       "      <th>8</th>\n",
       "      <td>SundayNight</td>\n",
       "      <td>Partly Cloudy</td>\n",
       "      <td>Low: 56 °F</td>\n",
       "      <td>Sunday Night: Partly cloudy, with a low around...</td>\n",
       "    </tr>\n",
       "  </tbody>\n",
       "</table>\n",
       "</div>"
      ],
      "text/plain": [
       "          period                                short_desc         temp  \\\n",
       "0        Tonight  Mostly Cloudyand Breezythen MostlyCloudy   Low: 57 °F   \n",
       "1       Thursday    Partly Sunnythen MostlySunny andBreezy  High: 70 °F   \n",
       "2  ThursdayNight  Partly Cloudyand Breezythen MostlyCloudy   Low: 56 °F   \n",
       "3         Friday          Mostly Sunnythen Sunnyand Breezy  High: 69 °F   \n",
       "4    FridayNight  Partly Cloudyand Breezythen MostlyCloudy   Low: 56 °F   \n",
       "5       Saturday                              Partly Sunny  High: 67 °F   \n",
       "6  SaturdayNight                             Mostly Cloudy   Low: 56 °F   \n",
       "7         Sunday                              Mostly Sunny  High: 69 °F   \n",
       "8    SundayNight                             Partly Cloudy   Low: 56 °F   \n",
       "\n",
       "                                                desc  \n",
       "0  Tonight: Mostly cloudy, with a low around 57. ...  \n",
       "1  Thursday: Mostly sunny, with a high near 70. B...  \n",
       "2  Thursday Night: Mostly cloudy, with a low arou...  \n",
       "3  Friday: Mostly sunny, with a high near 69. Bre...  \n",
       "4  Friday Night: Mostly cloudy, with a low around...  \n",
       "5       Saturday: Partly sunny, with a high near 67.  \n",
       "6  Saturday Night: Mostly cloudy, with a low arou...  \n",
       "7         Sunday: Mostly sunny, with a high near 69.  \n",
       "8  Sunday Night: Partly cloudy, with a low around...  "
      ]
     },
     "execution_count": 49,
     "metadata": {},
     "output_type": "execute_result"
    }
   ],
   "source": [
    "import pandas as pd\n",
    "weather = pd.DataFrame({\n",
    "    \"period\": periods,\n",
    "    \"short_desc\": short_descs,\n",
    "    \"temp\": temps,\n",
    "    \"desc\":descs\n",
    "})\n",
    "weather"
   ]
  },
  {
   "cell_type": "code",
   "execution_count": 68,
   "id": "c0b60196-1245-4b2e-87c9-0a68109df4f2",
   "metadata": {},
   "outputs": [],
   "source": [
    "import re"
   ]
  },
  {
   "cell_type": "code",
   "execution_count": 85,
   "id": "c764711d-f446-46e1-b618-ad91a7377138",
   "metadata": {},
   "outputs": [
    {
     "data": {
      "text/plain": [
       "0    57\n",
       "1    70\n",
       "2    56\n",
       "3    69\n",
       "4    56\n",
       "5    67\n",
       "6    56\n",
       "7    69\n",
       "8    56\n",
       "Name: temp, dtype: object"
      ]
     },
     "execution_count": 85,
     "metadata": {},
     "output_type": "execute_result"
    }
   ],
   "source": [
    "temp_nums = weather['temp'].apply(lambda x:re.findall(r'\\d+', x)[0])\n",
    "\n",
    "#temp_nums = weather[\"temp\"].str.extract(r'\\d+', expand=False)\n",
    "weather[\"temp_num\"] = temp_nums.astype('int')\n",
    "temp_nums"
   ]
  },
  {
   "cell_type": "code",
   "execution_count": 81,
   "id": "b96dc49c-840f-4d66-aa70-7f1e201fb2b0",
   "metadata": {},
   "outputs": [
    {
     "data": {
      "text/plain": [
       "61.77777777777778"
      ]
     },
     "execution_count": 81,
     "metadata": {},
     "output_type": "execute_result"
    }
   ],
   "source": [
    "weather[\"temp_num\"].mean()"
   ]
  },
  {
   "cell_type": "code",
   "execution_count": 82,
   "id": "2bf6baf1-23ac-4675-88f7-e84bbfc0fd40",
   "metadata": {},
   "outputs": [
    {
     "data": {
      "text/plain": [
       "0     True\n",
       "1    False\n",
       "2     True\n",
       "3    False\n",
       "4     True\n",
       "5    False\n",
       "6     True\n",
       "7    False\n",
       "8     True\n",
       "Name: temp, dtype: bool"
      ]
     },
     "execution_count": 82,
     "metadata": {},
     "output_type": "execute_result"
    }
   ],
   "source": [
    "is_night = weather[\"temp\"].str.contains(\"Low\")\n",
    "weather[\"is_night\"] = is_night\n",
    "is_night"
   ]
  },
  {
   "cell_type": "code",
   "execution_count": 83,
   "id": "6077660a-7100-446d-b3f9-24a65bd693e5",
   "metadata": {},
   "outputs": [
    {
     "data": {
      "text/html": [
       "<div>\n",
       "<style scoped>\n",
       "    .dataframe tbody tr th:only-of-type {\n",
       "        vertical-align: middle;\n",
       "    }\n",
       "\n",
       "    .dataframe tbody tr th {\n",
       "        vertical-align: top;\n",
       "    }\n",
       "\n",
       "    .dataframe thead th {\n",
       "        text-align: right;\n",
       "    }\n",
       "</style>\n",
       "<table border=\"1\" class=\"dataframe\">\n",
       "  <thead>\n",
       "    <tr style=\"text-align: right;\">\n",
       "      <th></th>\n",
       "      <th>period</th>\n",
       "      <th>short_desc</th>\n",
       "      <th>temp</th>\n",
       "      <th>desc</th>\n",
       "      <th>temp_num</th>\n",
       "      <th>is_night</th>\n",
       "    </tr>\n",
       "  </thead>\n",
       "  <tbody>\n",
       "    <tr>\n",
       "      <th>0</th>\n",
       "      <td>Tonight</td>\n",
       "      <td>Mostly Cloudyand Breezythen MostlyCloudy</td>\n",
       "      <td>Low: 57 °F</td>\n",
       "      <td>Tonight: Mostly cloudy, with a low around 57. ...</td>\n",
       "      <td>57</td>\n",
       "      <td>True</td>\n",
       "    </tr>\n",
       "    <tr>\n",
       "      <th>2</th>\n",
       "      <td>ThursdayNight</td>\n",
       "      <td>Partly Cloudyand Breezythen MostlyCloudy</td>\n",
       "      <td>Low: 56 °F</td>\n",
       "      <td>Thursday Night: Mostly cloudy, with a low arou...</td>\n",
       "      <td>56</td>\n",
       "      <td>True</td>\n",
       "    </tr>\n",
       "    <tr>\n",
       "      <th>4</th>\n",
       "      <td>FridayNight</td>\n",
       "      <td>Partly Cloudyand Breezythen MostlyCloudy</td>\n",
       "      <td>Low: 56 °F</td>\n",
       "      <td>Friday Night: Mostly cloudy, with a low around...</td>\n",
       "      <td>56</td>\n",
       "      <td>True</td>\n",
       "    </tr>\n",
       "    <tr>\n",
       "      <th>6</th>\n",
       "      <td>SaturdayNight</td>\n",
       "      <td>Mostly Cloudy</td>\n",
       "      <td>Low: 56 °F</td>\n",
       "      <td>Saturday Night: Mostly cloudy, with a low arou...</td>\n",
       "      <td>56</td>\n",
       "      <td>True</td>\n",
       "    </tr>\n",
       "    <tr>\n",
       "      <th>8</th>\n",
       "      <td>SundayNight</td>\n",
       "      <td>Partly Cloudy</td>\n",
       "      <td>Low: 56 °F</td>\n",
       "      <td>Sunday Night: Partly cloudy, with a low around...</td>\n",
       "      <td>56</td>\n",
       "      <td>True</td>\n",
       "    </tr>\n",
       "  </tbody>\n",
       "</table>\n",
       "</div>"
      ],
      "text/plain": [
       "          period                                short_desc        temp  \\\n",
       "0        Tonight  Mostly Cloudyand Breezythen MostlyCloudy  Low: 57 °F   \n",
       "2  ThursdayNight  Partly Cloudyand Breezythen MostlyCloudy  Low: 56 °F   \n",
       "4    FridayNight  Partly Cloudyand Breezythen MostlyCloudy  Low: 56 °F   \n",
       "6  SaturdayNight                             Mostly Cloudy  Low: 56 °F   \n",
       "8    SundayNight                             Partly Cloudy  Low: 56 °F   \n",
       "\n",
       "                                                desc  temp_num  is_night  \n",
       "0  Tonight: Mostly cloudy, with a low around 57. ...        57      True  \n",
       "2  Thursday Night: Mostly cloudy, with a low arou...        56      True  \n",
       "4  Friday Night: Mostly cloudy, with a low around...        56      True  \n",
       "6  Saturday Night: Mostly cloudy, with a low arou...        56      True  \n",
       "8  Sunday Night: Partly cloudy, with a low around...        56      True  "
      ]
     },
     "execution_count": 83,
     "metadata": {},
     "output_type": "execute_result"
    }
   ],
   "source": [
    "weather[is_night]"
   ]
  }
 ],
 "metadata": {
  "kernelspec": {
   "display_name": "Python 3",
   "language": "python",
   "name": "python3"
  },
  "language_info": {
   "codemirror_mode": {
    "name": "ipython",
    "version": 3
   },
   "file_extension": ".py",
   "mimetype": "text/x-python",
   "name": "python",
   "nbconvert_exporter": "python",
   "pygments_lexer": "ipython3",
   "version": "3.8.8"
  }
 },
 "nbformat": 4,
 "nbformat_minor": 5
}
