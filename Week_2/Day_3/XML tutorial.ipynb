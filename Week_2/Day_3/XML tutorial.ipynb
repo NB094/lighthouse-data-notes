{
 "cells": [
  {
   "cell_type": "code",
   "execution_count": 33,
   "id": "01427b58-6acc-4f4c-8764-0c40607da3ff",
   "metadata": {},
   "outputs": [],
   "source": [
    "import xml.etree.ElementTree as ET\n",
    "import pandas as pd"
   ]
  },
  {
   "cell_type": "code",
   "execution_count": 2,
   "id": "14a2619b-17d3-415b-82f8-2788f28cb14c",
   "metadata": {},
   "outputs": [],
   "source": [
    "tree = ET.parse('data.xml')"
   ]
  },
  {
   "cell_type": "code",
   "execution_count": 10,
   "id": "d19ff2d6-20c4-4d76-931d-c9cb01198fdc",
   "metadata": {},
   "outputs": [
    {
     "name": "stdout",
     "output_type": "stream",
     "text": [
      "<?xml version=\"1.0\" ?>\n",
      "<data>\n",
      "\t\n",
      "   \n",
      "\t<country name=\"Liechtenstein\">\n",
      "\t\t\n",
      "       \n",
      "\t\t<rank>1</rank>\n",
      "\t\t\n",
      "       \n",
      "\t\t<year>2008</year>\n",
      "\t\t\n",
      "       \n",
      "\t\t<gdppc>141100</gdppc>\n",
      "\t\t\n",
      "       \n",
      "\t\t<neighbor name=\"Austria\" direction=\"E\"/>\n",
      "\t\t\n",
      "       \n",
      "\t\t<neighbor name=\"Switzerland\" direction=\"W\"/>\n",
      "\t\t\n",
      "   \n",
      "\t</country>\n",
      "\t\n",
      "   \n",
      "\t<country name=\"Singapore\">\n",
      "\t\t\n",
      "       \n",
      "\t\t<rank>4</rank>\n",
      "\t\t\n",
      "       \n",
      "\t\t<year>2011</year>\n",
      "\t\t\n",
      "       \n",
      "\t\t<gdppc>59900</gdppc>\n",
      "\t\t\n",
      "       \n",
      "\t\t<neighbor name=\"Malaysia\" direction=\"N\"/>\n",
      "\t\t\n",
      "   \n",
      "\t</country>\n",
      "\t\n",
      "   \n",
      "\t<country name=\"Panama\">\n",
      "\t\t\n",
      "       \n",
      "\t\t<rank>68</rank>\n",
      "\t\t\n",
      "       \n",
      "\t\t<year>2011</year>\n",
      "\t\t\n",
      "       \n",
      "\t\t<gdppc>13600</gdppc>\n",
      "\t\t\n",
      "       \n",
      "\t\t<neighbor name=\"Costa Rica\" direction=\"W\"/>\n",
      "\t\t\n",
      "       \n",
      "\t\t<neighbor name=\"Colombia\" direction=\"E\"/>\n",
      "\t\t\n",
      "   \n",
      "\t</country>\n",
      "\t\n",
      "\n",
      "</data>\n",
      "\n"
     ]
    }
   ],
   "source": [
    "# Custom method to prettify XML; otherwise, just open it in your browser.\n",
    "\n",
    "import xml.dom.minidom\n",
    "\n",
    "dom = xml.dom.minidom.parse('data.xml') # or xml.dom.minidom.parseString(xml_string)\n",
    "print(dom.toprettyxml())"
   ]
  },
  {
   "cell_type": "code",
   "execution_count": 3,
   "id": "5d925805-c853-4c69-8ddc-bd4f760a4347",
   "metadata": {},
   "outputs": [
    {
     "name": "stdout",
     "output_type": "stream",
     "text": [
      "<xml.etree.ElementTree.ElementTree object at 0x000001FC5DED9A30>\n",
      "<class 'xml.etree.ElementTree.ElementTree'>\n"
     ]
    }
   ],
   "source": [
    "print(tree)\n",
    "print(type(tree))"
   ]
  },
  {
   "cell_type": "code",
   "execution_count": 4,
   "id": "458ec92a-0c5d-428d-bb16-0e4361c43668",
   "metadata": {},
   "outputs": [
    {
     "data": {
      "text/plain": [
       "<Element 'data' at 0x000001FC5DEC4860>"
      ]
     },
     "execution_count": 4,
     "metadata": {},
     "output_type": "execute_result"
    }
   ],
   "source": [
    "root = tree.getroot()\n",
    "root"
   ]
  },
  {
   "cell_type": "code",
   "execution_count": 6,
   "id": "fbd7c803-88cd-4af1-8a0b-0c16d09e854d",
   "metadata": {},
   "outputs": [
    {
     "name": "stdout",
     "output_type": "stream",
     "text": [
      "data\n",
      "{}\n",
      "3\n"
     ]
    }
   ],
   "source": [
    "print(root.tag)\n",
    "print(root.attrib)  # No attributes within the root tag\n",
    "print(len(root))"
   ]
  },
  {
   "cell_type": "code",
   "execution_count": 18,
   "id": "6ec75a62-0765-4d45-82e7-e049159ab8c4",
   "metadata": {},
   "outputs": [
    {
     "name": "stdout",
     "output_type": "stream",
     "text": [
      "<Element 'country' at 0x000001FC5DEC48B0>\n",
      "<Element 'rank' at 0x000001FC5DEC4900>\n",
      "<Element 'rank' at 0x000001FC5DEC4900>\n",
      "rank\n",
      "1\n",
      "{'name': 'Switzerland', 'direction': 'W'}\n"
     ]
    }
   ],
   "source": [
    "# First child of the root\n",
    "country1 = root[0]\n",
    "print(country1)\n",
    "\n",
    "# First child of the child\n",
    "rank = country1[0]\n",
    "print(rank)\n",
    "print(root[0][0])  # alternative: first key-value of first child\n",
    "\n",
    "# What is the tag of the grandchild\n",
    "print(rank.tag)\n",
    "\n",
    "# What is the text inside this grandchild\n",
    "print(rank.text)\n",
    "\n",
    "# What are the attributes of last element?\n",
    "print(country1[4].attrib)"
   ]
  },
  {
   "cell_type": "code",
   "execution_count": 19,
   "id": "50bfd477-72a7-46ad-b1dc-8f84897c02ce",
   "metadata": {},
   "outputs": [
    {
     "name": "stdout",
     "output_type": "stream",
     "text": [
      "Liechtenstein 1\n",
      "Singapore 4\n",
      "Panama 68\n"
     ]
    }
   ],
   "source": [
    "# Find all child with tag country\n",
    "for country in root.findall('country'):\n",
    "    # rank is child of the country\n",
    "    rank = country.find('rank').text\n",
    "    # name is attribute of the country\n",
    "    name = country.get('name')\n",
    "    print(name, rank)"
   ]
  },
  {
   "cell_type": "code",
   "execution_count": 22,
   "id": "bc961541-9224-451e-acb0-f0455a2bb59d",
   "metadata": {},
   "outputs": [
    {
     "name": "stdout",
     "output_type": "stream",
     "text": [
      "{'name': 'Austria', 'direction': 'E'}\n",
      "{'name': 'Switzerland', 'direction': 'W'}\n",
      "{'name': 'Malaysia', 'direction': 'N'}\n",
      "{'name': 'Costa Rica', 'direction': 'W'}\n",
      "{'name': 'Colombia', 'direction': 'E'}\n"
     ]
    }
   ],
   "source": [
    "for neighbor in root.iter('neighbor'):\n",
    "    print(neighbor.attrib)"
   ]
  },
  {
   "cell_type": "code",
   "execution_count": 30,
   "id": "36abd27f-19eb-48cf-93e7-5d0993a951ca",
   "metadata": {},
   "outputs": [
    {
     "name": "stdout",
     "output_type": "stream",
     "text": [
      "[<Element 'data' at 0x000001FC5DEC4860>]\n",
      "[<Element 'neighbor' at 0x000001FC5DEC49F0>, <Element 'neighbor' at 0x000001FC5DEC4A40>, <Element 'neighbor' at 0x000001FC5DEC4BD0>, <Element 'neighbor' at 0x000001FC5DEC4D60>, <Element 'neighbor' at 0x000001FC5DEC4DB0>]\n",
      "[<Element 'country' at 0x000001FC5DEC4A90>]\n",
      "[<Element 'year' at 0x000001FC5DEC4B30>]\n",
      "[<Element 'neighbor' at 0x000001FC5DEC4A40>, <Element 'neighbor' at 0x000001FC5DEC4DB0>]\n"
     ]
    }
   ],
   "source": [
    "# Top-level elements\n",
    "print(root.findall(\".\"))\n",
    "\n",
    "# All 'neighbor' grand-children of 'country' children of the top-level elements\n",
    "print(root.findall(\"./country/neighbor\"))\n",
    "\n",
    "# elements with name='Singapore' that have a 'year' child\n",
    "print(root.findall(\".//year/..[@name='Singapore']\"))\n",
    "\n",
    "# 'year' elements that are children of elements with name='Singapore'\n",
    "print(root.findall(\".//*[@name='Singapore']/year\"))\n",
    "\n",
    "# All 'neighbor' elements that are the second child of their parent\n",
    "print(root.findall(\".//neighbor[2]\"))"
   ]
  },
  {
   "cell_type": "code",
   "execution_count": 34,
   "id": "68fc0862-6fa9-4757-bfb6-b0d63b2c0282",
   "metadata": {},
   "outputs": [
    {
     "data": {
      "text/html": [
       "<div>\n",
       "<style scoped>\n",
       "    .dataframe tbody tr th:only-of-type {\n",
       "        vertical-align: middle;\n",
       "    }\n",
       "\n",
       "    .dataframe tbody tr th {\n",
       "        vertical-align: top;\n",
       "    }\n",
       "\n",
       "    .dataframe thead th {\n",
       "        text-align: right;\n",
       "    }\n",
       "</style>\n",
       "<table border=\"1\" class=\"dataframe\">\n",
       "  <thead>\n",
       "    <tr style=\"text-align: right;\">\n",
       "      <th></th>\n",
       "      <th>Name</th>\n",
       "      <th>Rank</th>\n",
       "      <th>Year</th>\n",
       "      <th>GDPPC</th>\n",
       "    </tr>\n",
       "  </thead>\n",
       "  <tbody>\n",
       "    <tr>\n",
       "      <th>0</th>\n",
       "      <td>Liechtenstein</td>\n",
       "      <td>1</td>\n",
       "      <td>2008</td>\n",
       "      <td>141100</td>\n",
       "    </tr>\n",
       "    <tr>\n",
       "      <th>1</th>\n",
       "      <td>Singapore</td>\n",
       "      <td>4</td>\n",
       "      <td>2011</td>\n",
       "      <td>59900</td>\n",
       "    </tr>\n",
       "    <tr>\n",
       "      <th>2</th>\n",
       "      <td>Panama</td>\n",
       "      <td>68</td>\n",
       "      <td>2011</td>\n",
       "      <td>13600</td>\n",
       "    </tr>\n",
       "  </tbody>\n",
       "</table>\n",
       "</div>"
      ],
      "text/plain": [
       "            Name Rank  Year   GDPPC\n",
       "0  Liechtenstein    1  2008  141100\n",
       "1      Singapore    4  2011   59900\n",
       "2         Panama   68  2011   13600"
      ]
     },
     "execution_count": 34,
     "metadata": {},
     "output_type": "execute_result"
    }
   ],
   "source": [
    "# My method\n",
    "\n",
    "names = []\n",
    "rank = []\n",
    "year = []\n",
    "gdppc = []\n",
    "\n",
    "for country in root:\n",
    "    names.append(country.get('name'))\n",
    "    rank.append(country.find('rank').text)\n",
    "    year.append(country.find('year').text)\n",
    "    gdppc.append(country.find('gdppc').text)\n",
    "\n",
    "# Calling DataFrame constructor after zipping\n",
    "# both lists, with columns specified\n",
    "df = pd.DataFrame(list(zip(names, rank, year, gdppc)),\n",
    "               columns =['Name', 'Rank', 'Year', 'GDPPC'])    \n",
    "df"
   ]
  },
  {
   "cell_type": "code",
   "execution_count": 35,
   "id": "990041e9-bfbc-45ec-8c0f-27e2d9a04c81",
   "metadata": {},
   "outputs": [
    {
     "data": {
      "text/html": [
       "<div>\n",
       "<style scoped>\n",
       "    .dataframe tbody tr th:only-of-type {\n",
       "        vertical-align: middle;\n",
       "    }\n",
       "\n",
       "    .dataframe tbody tr th {\n",
       "        vertical-align: top;\n",
       "    }\n",
       "\n",
       "    .dataframe thead th {\n",
       "        text-align: right;\n",
       "    }\n",
       "</style>\n",
       "<table border=\"1\" class=\"dataframe\">\n",
       "  <thead>\n",
       "    <tr style=\"text-align: right;\">\n",
       "      <th></th>\n",
       "      <th>name</th>\n",
       "      <th>rank</th>\n",
       "      <th>year</th>\n",
       "      <th>gdppc</th>\n",
       "    </tr>\n",
       "  </thead>\n",
       "  <tbody>\n",
       "    <tr>\n",
       "      <th>0</th>\n",
       "      <td>Liechtenstein</td>\n",
       "      <td>1</td>\n",
       "      <td>2008</td>\n",
       "      <td>141100</td>\n",
       "    </tr>\n",
       "    <tr>\n",
       "      <th>1</th>\n",
       "      <td>Singapore</td>\n",
       "      <td>4</td>\n",
       "      <td>2011</td>\n",
       "      <td>59900</td>\n",
       "    </tr>\n",
       "    <tr>\n",
       "      <th>2</th>\n",
       "      <td>Panama</td>\n",
       "      <td>68</td>\n",
       "      <td>2011</td>\n",
       "      <td>13600</td>\n",
       "    </tr>\n",
       "  </tbody>\n",
       "</table>\n",
       "</div>"
      ],
      "text/plain": [
       "            name rank  year   gdppc\n",
       "0  Liechtenstein    1  2008  141100\n",
       "1      Singapore    4  2011   59900\n",
       "2         Panama   68  2011   13600"
      ]
     },
     "execution_count": 35,
     "metadata": {},
     "output_type": "execute_result"
    }
   ],
   "source": [
    "# LHL solution\n",
    "\n",
    "import xml.etree.ElementTree as ET\n",
    "import pandas as pd\n",
    "\n",
    "tree = ET.parse('data.xml')  # Load from file\n",
    "root = tree.getroot()\n",
    "\n",
    "my_dict = {'name': [],\n",
    "           'rank': [],\n",
    "           'year': [],\n",
    "           'gdppc': []}\n",
    "\n",
    "\n",
    "for country in root:\n",
    "    name_value = country.attrib['name']\n",
    "    my_dict['name'].append(name_value)\n",
    "\n",
    "    rank_value = country[0].text\n",
    "    my_dict['rank'].append(rank_value)\n",
    "\n",
    "    year_value = country[1].text\n",
    "    my_dict['year'].append(year_value)\n",
    "\n",
    "    gdppc_value = country[2].text\n",
    "    my_dict['gdppc'].append(gdppc_value)\n",
    "\n",
    "df = pd.DataFrame(my_dict) \n",
    "df"
   ]
  },
  {
   "cell_type": "markdown",
   "id": "e3d6b36c-6123-405b-8ad0-3b9f720f119a",
   "metadata": {},
   "source": [
    "Note: because all children of the root are countries, `for country in root:` equals `for country in root.findall('country'):` in this case."
   ]
  }
 ],
 "metadata": {
  "kernelspec": {
   "display_name": "Python 3",
   "language": "python",
   "name": "python3"
  },
  "language_info": {
   "codemirror_mode": {
    "name": "ipython",
    "version": 3
   },
   "file_extension": ".py",
   "mimetype": "text/x-python",
   "name": "python",
   "nbconvert_exporter": "python",
   "pygments_lexer": "ipython3",
   "version": "3.8.8"
  }
 },
 "nbformat": 4,
 "nbformat_minor": 5
}
