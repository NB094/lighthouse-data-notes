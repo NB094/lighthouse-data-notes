{
 "cells": [
  {
   "cell_type": "code",
   "execution_count": 1,
   "id": "8a8ba729-c96c-46d2-b5a6-865b0fda2dae",
   "metadata": {},
   "outputs": [
    {
     "ename": "ModuleNotFoundError",
     "evalue": "No module named 'ipywidgets'",
     "output_type": "error",
     "traceback": [
      "\u001b[1;31m---------------------------------------------------------------------------\u001b[0m",
      "\u001b[1;31mModuleNotFoundError\u001b[0m                       Traceback (most recent call last)",
      "\u001b[1;32m~\\AppData\\Local\\Temp/ipykernel_9000/2833176320.py\u001b[0m in \u001b[0;36m<module>\u001b[1;34m\u001b[0m\n\u001b[0;32m      7\u001b[0m \u001b[1;32mimport\u001b[0m \u001b[0mmatplotlib\u001b[0m\u001b[1;33m.\u001b[0m\u001b[0mpyplot\u001b[0m \u001b[1;32mas\u001b[0m \u001b[0mplt\u001b[0m\u001b[1;33m\u001b[0m\u001b[1;33m\u001b[0m\u001b[0m\n\u001b[0;32m      8\u001b[0m \u001b[1;32mfrom\u001b[0m \u001b[0mmpl_toolkits\u001b[0m \u001b[1;32mimport\u001b[0m \u001b[0mmplot3d\u001b[0m\u001b[1;33m\u001b[0m\u001b[1;33m\u001b[0m\u001b[0m\n\u001b[1;32m----> 9\u001b[1;33m \u001b[1;32mimport\u001b[0m \u001b[0mipywidgets\u001b[0m \u001b[1;32mas\u001b[0m \u001b[0mwidgets\u001b[0m\u001b[1;33m\u001b[0m\u001b[1;33m\u001b[0m\u001b[0m\n\u001b[0m\u001b[0;32m     10\u001b[0m \u001b[1;32mfrom\u001b[0m \u001b[0mipywidgets\u001b[0m\u001b[1;33m.\u001b[0m\u001b[0mwidgets\u001b[0m \u001b[1;32mimport\u001b[0m \u001b[0minteract\u001b[0m\u001b[1;33m,\u001b[0m \u001b[0minteract_manual\u001b[0m\u001b[1;33m\u001b[0m\u001b[1;33m\u001b[0m\u001b[0m\n\u001b[0;32m     11\u001b[0m \u001b[1;32mimport\u001b[0m \u001b[0mre\u001b[0m\u001b[1;33m\u001b[0m\u001b[1;33m\u001b[0m\u001b[0m\n",
      "\u001b[1;31mModuleNotFoundError\u001b[0m: No module named 'ipywidgets'"
     ]
    }
   ],
   "source": [
    "import pandas as pd\n",
    "import matplotlib.pyplot as plt\n",
    "import numpy as np\n",
    "import plotly.express as px\n",
    "import plotly.graph_objects as go\n",
    "\n",
    "import matplotlib.pyplot as plt\n",
    "from mpl_toolkits import mplot3d\n",
    "import ipywidgets as widgets\n",
    "from ipywidgets.widgets import interact, interact_manual\n",
    "import re\n",
    "import datetime as dt\n",
    "\n",
    "from sklearn.cluster import KMeans\n",
    "from sklearn.cluster import AgglomerativeClustering\n",
    "from sklearn.cluster import DBSCAN\n",
    "from sklearn.preprocessing import MinMaxScaler\n",
    "from sklearn.preprocessing import StandardScaler\n",
    "from sklearn.preprocessing import RobustScaler\n",
    "from sklearn.preprocessing import MaxAbsScaler\n",
    "from sklearn.decomposition import PCA\n"
   ]
  },
  {
   "cell_type": "markdown",
   "id": "df06f158-3a21-4482-81bd-ccbc29de2146",
   "metadata": {
    "tags": []
   },
   "source": [
    "# Data"
   ]
  },
  {
   "cell_type": "code",
   "execution_count": null,
   "id": "1cfae0a7-babb-4a82-9ecb-7ba941e1f754",
   "metadata": {},
   "outputs": [],
   "source": [
    "df_customer = pd.read_csv('twm_customer.csv', sep=';')\n",
    "df_customer.head(5)"
   ]
  },
  {
   "cell_type": "code",
   "execution_count": null,
   "id": "c9a33ce1-82b3-422d-81ff-4999278354a7",
   "metadata": {},
   "outputs": [],
   "source": [
    "print(df_customer.shape)\n",
    "print(df_customer.isnull().sum())\n",
    "print('# of unique customer IDs: ', df_customer['cust_id'].nunique())"
   ]
  },
  {
   "cell_type": "code",
   "execution_count": null,
   "id": "85ab0a04-f4fb-4646-a2bf-1a8521ddada0",
   "metadata": {},
   "outputs": [],
   "source": []
  },
  {
   "cell_type": "code",
   "execution_count": null,
   "id": "43eed921-5329-4f95-9e38-35b6b6365624",
   "metadata": {},
   "outputs": [],
   "source": []
  },
  {
   "cell_type": "code",
   "execution_count": null,
   "id": "3438bd00-14d4-4f6d-8538-882c833540ae",
   "metadata": {},
   "outputs": [],
   "source": [
    "df_accounts = pd.read_csv('twm_accounts.csv', sep=';')\n",
    "df_accounts.head(3)"
   ]
  },
  {
   "cell_type": "code",
   "execution_count": null,
   "id": "aa1863bd-79d6-4a4c-b09b-c37406da89f7",
   "metadata": {},
   "outputs": [],
   "source": [
    "print(df_accounts.shape)\n",
    "print(df_accounts.isnull().sum())\n",
    "print('# of unique customer IDs: ', df_accounts['cust_id'].nunique())\n",
    "print('# of unique ACCOUNT numbers: ', df_accounts['acct_nbr'].nunique())\n",
    "# Customers can have multiple accounts."
   ]
  },
  {
   "cell_type": "code",
   "execution_count": null,
   "id": "3dc242ba-4151-45a3-bd6a-2b247b5fc100",
   "metadata": {},
   "outputs": [],
   "source": []
  },
  {
   "cell_type": "code",
   "execution_count": null,
   "id": "045f6789-50b2-4eb0-9371-e6ecae64759c",
   "metadata": {},
   "outputs": [],
   "source": []
  },
  {
   "cell_type": "code",
   "execution_count": null,
   "id": "b0a4145f-005b-4aa5-bfaf-0b753a3017d1",
   "metadata": {},
   "outputs": [],
   "source": [
    "df_checking_acct = pd.read_csv('twm_checking_acct.csv', sep=';')\n",
    "df_checking_acct.head(3)"
   ]
  },
  {
   "cell_type": "code",
   "execution_count": null,
   "id": "9bb1de4c-1f80-4666-bb83-9ffc045f7ab1",
   "metadata": {},
   "outputs": [],
   "source": [
    "print(df_checking_acct.shape)\n",
    "print(df_checking_acct.isnull().sum())\n",
    "print('# of unique customer IDs: ', df_checking_acct['cust_id'].nunique())"
   ]
  },
  {
   "cell_type": "code",
   "execution_count": null,
   "id": "7bf9a077-5811-4704-bfcd-d4a6b8766f48",
   "metadata": {},
   "outputs": [],
   "source": []
  },
  {
   "cell_type": "code",
   "execution_count": null,
   "id": "4564eb6f-eb84-43cf-9040-a0b696b58ecf",
   "metadata": {},
   "outputs": [],
   "source": []
  },
  {
   "cell_type": "code",
   "execution_count": null,
   "id": "40e9bd20-96c2-4744-9077-51fe1fa17c57",
   "metadata": {},
   "outputs": [],
   "source": [
    "df_credit_acct = pd.read_csv('twm_credit_acct.csv', sep=';')\n",
    "df_credit_acct.head(3)"
   ]
  },
  {
   "cell_type": "code",
   "execution_count": null,
   "id": "4d792656-78c5-4f39-b5dc-cc207e3ecfde",
   "metadata": {},
   "outputs": [],
   "source": [
    "print(df_credit_acct.shape)\n",
    "print(df_credit_acct.isnull().sum())\n",
    "print('# of unique customer IDs: ', df_credit_acct['cust_id'].nunique())"
   ]
  },
  {
   "cell_type": "code",
   "execution_count": null,
   "id": "12d18294-32eb-497c-ae42-4a4165770e43",
   "metadata": {},
   "outputs": [],
   "source": []
  },
  {
   "cell_type": "code",
   "execution_count": null,
   "id": "7efc830a-4600-40ca-956e-b9554313f4b6",
   "metadata": {},
   "outputs": [],
   "source": []
  },
  {
   "cell_type": "code",
   "execution_count": null,
   "id": "e8cdfb06-2595-45b0-b1a4-f8eec05389d4",
   "metadata": {},
   "outputs": [],
   "source": [
    "df_savings_acct = pd.read_csv('twm_savings_acct.csv', sep=';')\n",
    "df_savings_acct.head(3)"
   ]
  },
  {
   "cell_type": "code",
   "execution_count": null,
   "id": "4a98a6ca-2ecd-461f-a4f2-f27d5582c3c3",
   "metadata": {},
   "outputs": [],
   "source": [
    "print(df_savings_acct.shape)\n",
    "print(df_savings_acct.isnull().sum())\n",
    "print('# of unique customer IDs: ', df_savings_acct['cust_id'].nunique())"
   ]
  },
  {
   "cell_type": "code",
   "execution_count": null,
   "id": "81e75d13-2293-46d2-8301-71ea25ed0e14",
   "metadata": {},
   "outputs": [],
   "source": []
  },
  {
   "cell_type": "code",
   "execution_count": null,
   "id": "eb95a80a-2d4d-48d6-9d4f-06f90395efba",
   "metadata": {},
   "outputs": [],
   "source": []
  },
  {
   "cell_type": "code",
   "execution_count": null,
   "id": "0bf1e1b1-4253-4168-a687-745b9f8b38bf",
   "metadata": {},
   "outputs": [],
   "source": [
    "df_transactions = pd.read_csv('twm_transactions.csv', sep=';')\n",
    "df_transactions.head(3)"
   ]
  },
  {
   "cell_type": "code",
   "execution_count": null,
   "id": "959cbc3e-64fd-4363-8e21-9a54a0e2ee0b",
   "metadata": {},
   "outputs": [],
   "source": [
    "print(df_transactions.shape)\n",
    "print(df_transactions.isnull().sum())\n",
    "print('# of ACCOUNT numbers: ', df_transactions['acct_nbr'].nunique())"
   ]
  },
  {
   "cell_type": "code",
   "execution_count": null,
   "id": "9d411c3d-4e10-43f7-ba67-08c62e749f3d",
   "metadata": {},
   "outputs": [],
   "source": []
  },
  {
   "cell_type": "code",
   "execution_count": null,
   "id": "f70b0422-aeae-4e28-bffe-3b58b2f61a1d",
   "metadata": {},
   "outputs": [],
   "source": []
  },
  {
   "cell_type": "code",
   "execution_count": null,
   "id": "ec5ba98b-ea74-47a2-a1a3-b49028ddc3d2",
   "metadata": {},
   "outputs": [],
   "source": [
    "df_checking_tran = pd.read_csv('twm_checking_tran.csv', sep=';')\n",
    "df_checking_tran.head(3)"
   ]
  },
  {
   "cell_type": "code",
   "execution_count": null,
   "id": "d7d58586-20ef-4240-802b-bc3deffa119f",
   "metadata": {},
   "outputs": [],
   "source": [
    "print(df_checking_tran.shape)\n",
    "print(df_checking_tran.isnull().sum())\n",
    "print('# of unique customer IDs: ', df_checking_tran['cust_id'].nunique())"
   ]
  },
  {
   "cell_type": "code",
   "execution_count": null,
   "id": "cbd9f934-885d-47ef-9b43-b104d8e3c2e8",
   "metadata": {},
   "outputs": [],
   "source": []
  },
  {
   "cell_type": "code",
   "execution_count": null,
   "id": "e042bde4-1297-40b5-88a9-4f2630a191ea",
   "metadata": {},
   "outputs": [],
   "source": []
  },
  {
   "cell_type": "code",
   "execution_count": null,
   "id": "3786d617-6ee7-4e64-b6c2-2e5bc6b2f3a7",
   "metadata": {},
   "outputs": [],
   "source": [
    "df_credit_tran = pd.read_csv('twm_credit_tran.csv', sep=';')\n",
    "df_credit_tran.head(3)"
   ]
  },
  {
   "cell_type": "code",
   "execution_count": null,
   "id": "1a566c97-7eaf-4c44-a2e4-34a8c071e7b6",
   "metadata": {},
   "outputs": [],
   "source": [
    "print(df_credit_tran.shape)\n",
    "print(df_credit_tran.isnull().sum())\n",
    "print('# of unique customer IDs: ', df_credit_tran['cust_id'].nunique())"
   ]
  },
  {
   "cell_type": "code",
   "execution_count": null,
   "id": "c2162434-f535-4eac-84f0-872f61bee1cd",
   "metadata": {},
   "outputs": [],
   "source": []
  },
  {
   "cell_type": "code",
   "execution_count": null,
   "id": "200361de-5c46-42a0-a43d-b7bd7b8d7890",
   "metadata": {},
   "outputs": [],
   "source": []
  },
  {
   "cell_type": "code",
   "execution_count": null,
   "id": "8fc33535-cdc6-4ad0-8ec7-dc0844664ca9",
   "metadata": {},
   "outputs": [],
   "source": [
    "df_savings_tran = pd.read_csv('twm_savings_tran.csv', sep=';')\n",
    "df_savings_tran.head(3)"
   ]
  },
  {
   "cell_type": "code",
   "execution_count": null,
   "id": "046120fd-1137-4b62-8339-98765722b4d7",
   "metadata": {},
   "outputs": [],
   "source": [
    "print(df_savings_tran.shape)\n",
    "print(df_savings_tran.isnull().sum())\n",
    "print('# of unique customer IDs: ', df_savings_tran['cust_id'].nunique())"
   ]
  },
  {
   "cell_type": "code",
   "execution_count": null,
   "id": "d6494f05-a3cf-46a7-bd8c-3eeaab9b04a8",
   "metadata": {},
   "outputs": [],
   "source": []
  },
  {
   "cell_type": "code",
   "execution_count": null,
   "id": "6909d63c-363a-46a0-97e3-ff7a8a21adad",
   "metadata": {},
   "outputs": [],
   "source": []
  },
  {
   "cell_type": "markdown",
   "id": "d498377a-574b-4770-b981-c48f0db74897",
   "metadata": {},
   "source": [
    "# Analysis"
   ]
  },
  {
   "cell_type": "markdown",
   "id": "20ff5c88-48d9-4ca7-8c2c-123bb9a6b28c",
   "metadata": {},
   "source": [
    "Customer segmentation based on demographics:"
   ]
  },
  {
   "cell_type": "code",
   "execution_count": null,
   "id": "e93abcc9-f873-4811-8193-313c0972decd",
   "metadata": {},
   "outputs": [],
   "source": [
    "df_customer2 = df_customer.copy()\n",
    "#df_customer2['gender_num'] = df_customer2.apply(lambda row: 0 if row['gender']=='M ' else 1, axis=1)\n",
    "df_customer2.head(3)"
   ]
  },
  {
   "cell_type": "code",
   "execution_count": null,
   "id": "99d8c8d3-dcf1-467b-93b5-ca36b70cdfd5",
   "metadata": {},
   "outputs": [],
   "source": []
  },
  {
   "cell_type": "code",
   "execution_count": null,
   "id": "f5789cea-a630-4d74-9cbc-262642d3f0a6",
   "metadata": {},
   "outputs": [],
   "source": [
    "def plot_distortion(dataframe_name, max_clusters = 10):\n",
    "    distortions = []\n",
    "    \n",
    "    scaler = MinMaxScaler()\n",
    "    df_seg_scaled = pd.DataFrame(scaler.fit_transform(dataframe_name.astype(float)))\n",
    "    \n",
    "    X = df_seg_scaled.to_numpy()\n",
    "    \n",
    "    for i in range(1, max_clusters +1):\n",
    "        km = KMeans(n_clusters=i,\n",
    "                    init='k-means++',\n",
    "                    n_init=10,\n",
    "                    random_state=0)\n",
    "        km.fit(X)\n",
    "        distortions.append(km.inertia_)\n",
    "\n",
    "    plt.plot(range(1,max_clusters +1), distortions, marker='o')\n",
    "    plt.xlabel('Number of clusters')\n",
    "    plt.ylabel('Distortion')\n",
    "    plt.title('Distortion Plot')\n",
    "    plt.show() "
   ]
  },
  {
   "cell_type": "code",
   "execution_count": null,
   "id": "d74dd619-5564-4438-8eae-f3b83807402d",
   "metadata": {},
   "outputs": [],
   "source": []
  },
  {
   "cell_type": "code",
   "execution_count": null,
   "id": "d21482f1-c729-4b85-9a9b-2c120c1ff000",
   "metadata": {},
   "outputs": [],
   "source": [
    "def plot_clusters(dataframe_name, cols, num_clusters, plt_cluster_centers = False):\n",
    "    # cols = list of two column numbers\n",
    "    \n",
    "    scaler = StandardScaler()\n",
    "    df_customer_scaled = pd.DataFrame(scaler.fit_transform(dataframe_name.iloc[:,cols].astype(float)))\n",
    "    X = df_customer_scaled.to_numpy()\n",
    "    \n",
    "    col1_title = dataframe_name.columns[cols[0]]\n",
    "    col2_title = dataframe_name.columns[cols[1]]\n",
    "    \n",
    "    km = KMeans(n_clusters=num_clusters, n_init=10, random_state=0)\n",
    "    y_res = km.fit_predict(X)\n",
    "    \n",
    "    X_centroids = []\n",
    "    Y_centroids = []\n",
    "    \n",
    "    for cluster in set(y_res):\n",
    "        x = X[y_res == cluster, 0]\n",
    "        y = X[y_res == cluster, 1]\n",
    "        X_centroids.append(np.mean(x))\n",
    "        Y_centroids.append(np.mean(y))\n",
    "        \n",
    "        \n",
    "        plt.scatter(x, y, s=50, marker='s', label = f'cluster {cluster}')\n",
    "    \n",
    "    if plt_cluster_centers:\n",
    "        plt.scatter(X_centroids, Y_centroids, marker = '*', c = 'red', s = 250, label = 'centroids')\n",
    "    \n",
    "    plt.legend()\n",
    "    plt.grid()\n",
    "    plt.title(f'KMeans Clustering of {col1_title} and {col2_title}')\n",
    "    \n",
    "    #plt.rcParams[\"figure.figsize\"] = (6,4)\n",
    "    \n",
    "    return"
   ]
  },
  {
   "cell_type": "code",
   "execution_count": null,
   "id": "076aced7-8997-4040-b77a-cb502ce69ed5",
   "metadata": {},
   "outputs": [],
   "source": []
  },
  {
   "cell_type": "markdown",
   "id": "4acb8791-1ce2-44b0-b5e4-b39adf072393",
   "metadata": {
    "tags": []
   },
   "source": [
    "## Customer segmentation based on their banking behavior:"
   ]
  },
  {
   "cell_type": "code",
   "execution_count": null,
   "id": "29d22974-8332-453b-89be-641118393c6a",
   "metadata": {},
   "outputs": [],
   "source": [
    "df_cust_accounts = pd.merge(df_customer,df_accounts,on='cust_id')[['cust_id','income','years_with_bank','age','gender','nbr_children','marital_status',\n",
    "                                                                   'acct_nbr','acct_type','acct_end_date',\n",
    "                                                                   'ending_balance']]\n",
    "df_cust_accounts.nunique()"
   ]
  },
  {
   "cell_type": "code",
   "execution_count": null,
   "id": "701ab96b-c37a-4ff8-ba31-1ef11bf3187c",
   "metadata": {},
   "outputs": [],
   "source": [
    "df_cust_accounts['acct_type'].value_counts()\n",
    "#CC = credit\n",
    "#CK = checking\n",
    "#SV = savings\n",
    "df_cust_accounts['credit_balance'] = df_cust_accounts['ending_balance'][df_cust_accounts['acct_type']=='CC  ']\n",
    "df_cust_accounts['checking_balance'] = df_cust_accounts['ending_balance'][df_cust_accounts['acct_type']=='CK  ']\n",
    "df_cust_accounts['savings_balance'] = df_cust_accounts['ending_balance'][df_cust_accounts['acct_type']=='SV  ']\n",
    "#df_cust_accounts['total_balance'] = df_cust_accounts['savings_balance'] + df_cust_accounts['checking_balance'] - df_cust_accounts['credit_balance']\n",
    "df_cust_accounts.head(3)"
   ]
  },
  {
   "cell_type": "code",
   "execution_count": null,
   "id": "b7fe352f-4470-44a6-b3c0-da363f476368",
   "metadata": {},
   "outputs": [],
   "source": [
    "df_cust_info = df_cust_accounts.loc[:,~df_cust_accounts.columns.isin(['acct_nbr','ending_balance','acct_end_date','acct_type'])]\n",
    "df_cust_info = df_cust_info.groupby(['cust_id','income','years_with_bank','age','gender','nbr_children','marital_status']).sum().reset_index()\n",
    "df_cust_info['total_balance'] = df_cust_info['checking_balance']+df_cust_info['savings_balance']-df_cust_info['credit_balance']\n",
    "df_cust_info.head(3)"
   ]
  },
  {
   "cell_type": "code",
   "execution_count": null,
   "id": "45357ba0-67ff-4305-b46d-b0fc5ae014a4",
   "metadata": {},
   "outputs": [],
   "source": [
    "df_n = df_cust_accounts[['cust_id','acct_type','acct_nbr']].groupby(['cust_id','acct_type']).count()\n",
    "df_n[df_n['acct_nbr']>1]"
   ]
  },
  {
   "cell_type": "markdown",
   "id": "4cb5ed92-f8b2-4f53-bb0c-84635525d41a",
   "metadata": {},
   "source": [
    "### Transactions analysis"
   ]
  },
  {
   "cell_type": "code",
   "execution_count": null,
   "id": "b6b99017-c384-4899-ae04-3922650b81ae",
   "metadata": {},
   "outputs": [],
   "source": [
    "df_transactions2 = df_transactions.copy()"
   ]
  },
  {
   "cell_type": "code",
   "execution_count": null,
   "id": "a21257e8-27b3-41b6-ab94-c50f84e46ccc",
   "metadata": {},
   "outputs": [],
   "source": [
    "df_transactions2.head(3)"
   ]
  },
  {
   "cell_type": "code",
   "execution_count": null,
   "id": "167e8c81-ec47-48f6-83d4-15309b30a756",
   "metadata": {
    "tags": []
   },
   "outputs": [],
   "source": [
    "df_count_transacations = df_transactions2.groupby('acct_nbr').count()['tran_amt'].reset_index()\n",
    "df_count_transacations = df_count_transacations.rename(columns={'tran_amt':'count_tran_amt'})\n",
    "df_count_transacations.head(3)"
   ]
  },
  {
   "cell_type": "code",
   "execution_count": null,
   "id": "70444561-859a-48c2-8005-ffb6c3199649",
   "metadata": {
    "tags": []
   },
   "outputs": [],
   "source": [
    "df_transacation_stats = df_transactions2.groupby('acct_nbr').mean()['tran_amt'].reset_index()\n",
    "df_transacation_stats = df_transacation_stats.rename(columns={'tran_amt':'avg_tran_amt'})\n",
    "df_transacation_stats['count_tran_amt'] = df_count_transacations['count_tran_amt']\n",
    "df_transacation_stats.head(3)"
   ]
  },
  {
   "cell_type": "code",
   "execution_count": null,
   "id": "e98822c2-78d7-4cc5-b6dc-1d41df6fb3c1",
   "metadata": {},
   "outputs": [],
   "source": [
    "# No need to use\n",
    "#df_account_transaction_summary = pd.merge(df_accounts,df_transacation_stats,on='acct_nbr')[['acct_nbr','cust_id','acct_type','avg_tran_amt','count_tran_amt','starting_balance',\n",
    "#                                                                                               'ending_balance','account_active','acct_start_date',\n",
    "#                                                                                               'acct_end_date']]\n",
    "#df_account_transaction_summary.head(3)"
   ]
  },
  {
   "cell_type": "code",
   "execution_count": null,
   "id": "90d2733c-b574-454f-a770-3336260b4291",
   "metadata": {},
   "outputs": [],
   "source": [
    "df_cust_accounts2 = pd.merge(df_cust_accounts, df_transacation_stats,how = 'left')\n",
    "df_cust_accounts2.head(3)"
   ]
  },
  {
   "cell_type": "code",
   "execution_count": null,
   "id": "3fe74ca9-1c83-4c22-96c3-da7ccffdcbcd",
   "metadata": {},
   "outputs": [],
   "source": [
    "df_cust_accounts2['avg_savings_tran_amt'] = df_cust_accounts2['avg_tran_amt'][df_cust_accounts2['acct_type']=='SV  ']\n",
    "df_cust_accounts2['avg_checking_tran_amt'] = df_cust_accounts2['avg_tran_amt'][df_cust_accounts2['acct_type']=='CK  ']\n",
    "df_cust_accounts2['avg_credit_tran_amt'] = df_cust_accounts2['avg_tran_amt'][df_cust_accounts2['acct_type']=='CC  ']\n",
    "df_cust_accounts2['cnt_savings_tran'] = df_cust_accounts2['count_tran_amt'][df_cust_accounts2['acct_type']=='SV  ']\n",
    "df_cust_accounts2['cnt_checking_tran'] = df_cust_accounts2['count_tran_amt'][df_cust_accounts2['acct_type']=='CK  ']\n",
    "df_cust_accounts2['cnt_credit_tran'] = df_cust_accounts2['count_tran_amt'][df_cust_accounts2['acct_type']=='CC  ']\n",
    "df_cust_accounts2.head(3)"
   ]
  },
  {
   "cell_type": "code",
   "execution_count": null,
   "id": "10d44501-5373-4372-a377-cefe81bcd47c",
   "metadata": {},
   "outputs": [],
   "source": [
    "df_cust_info2 = df_cust_info.copy()\n",
    "df_cust_info2.head(3)"
   ]
  },
  {
   "cell_type": "code",
   "execution_count": null,
   "id": "4600151a-278c-48ef-a63b-3b0ab419c7b3",
   "metadata": {},
   "outputs": [],
   "source": [
    "df_cust_accounts2.columns"
   ]
  },
  {
   "cell_type": "code",
   "execution_count": null,
   "id": "2d79159c-da7e-4bdc-aa2d-ea95e602eb05",
   "metadata": {},
   "outputs": [],
   "source": [
    "df_cust_info2 = df_cust_accounts2.loc[:,~df_cust_accounts2.columns.isin(['acct_nbr','ending_balance','acct_end_date','acct_type'])]\n",
    "df_cust_info2 = df_cust_info2.groupby(['cust_id','income','age','gender','nbr_children','marital_status']).sum().reset_index()\n",
    "df_cust_info2['total_balance'] = df_cust_info2['checking_balance'] + df_cust_info2['savings_balance'] - df_cust_info2['credit_balance']\n",
    "df_cust_info2.head(3)"
   ]
  },
  {
   "cell_type": "markdown",
   "id": "58de094a-e89b-47b6-aec1-fc6e17124629",
   "metadata": {},
   "source": [
    "### Demographic clustering"
   ]
  },
  {
   "cell_type": "code",
   "execution_count": null,
   "id": "7104834a-3e8f-4153-8fa5-72d435bbdb04",
   "metadata": {},
   "outputs": [],
   "source": [
    "segmentation_cols = ['income', 'age','years_with_bank','nbr_children','marital_status','gender']"
   ]
  },
  {
   "cell_type": "code",
   "execution_count": null,
   "id": "501e7d3c-3bb4-43f0-a97a-2061a25305be",
   "metadata": {},
   "outputs": [],
   "source": [
    "df_seg_full = df_customer[segmentation_cols]\n",
    "df_seg_full['marital_status'] = df_seg_full['marital_status'].astype('category')\n",
    "df_seg_full = pd.get_dummies(df_seg_full, drop_first=True)\n",
    "df_seg_full.head(3)"
   ]
  },
  {
   "cell_type": "code",
   "execution_count": null,
   "id": "be1bea9a-82ea-47e2-8c79-9b767fbb7722",
   "metadata": {},
   "outputs": [],
   "source": [
    "# Demographics distortion plot\n",
    "plot_distortion(df_seg_full)"
   ]
  },
  {
   "cell_type": "markdown",
   "id": "83fc1d61-ba84-4681-973c-dee8443faeaa",
   "metadata": {},
   "source": [
    "# **Main function**"
   ]
  },
  {
   "cell_type": "code",
   "execution_count": null,
   "id": "f0149bab-6ae0-4ef2-a11f-f0b6d0ca02b1",
   "metadata": {},
   "outputs": [],
   "source": [
    "def Nik(dataframe, ScalingMethod, ClusteringMethod, NumberOfClusters, epsilon=0.5, min_samples=5):   \n",
    "    if ScalingMethod == 'MinMax':\n",
    "        scaler = MinMaxScaler()\n",
    "    elif ScalingMethod == 'Standard':\n",
    "        scaler = StandardScaler()\n",
    "    elif ScalingMethod == 'Robust':\n",
    "        scaler = RobustScaler()\n",
    "    elif ScalingMethod == 'MaxAbs':\n",
    "        scaler = MaxAbsScaler()\n",
    "    else:\n",
    "        print('Error: no valid scaler specified')\n",
    "        \n",
    "    df_scaled = pd.DataFrame(scaler.fit_transform(dataframe.astype(float)), columns = dataframe.columns)\n",
    "    \n",
    "    if ClusteringMethod == 'KMeans':\n",
    "        df_scaled['Cluster'] = KMeans(n_clusters=NumberOfClusters, n_init=10).fit_predict(df_scaled)\n",
    "    elif ClusteringMethod == 'Agglomerative':\n",
    "        ac = AgglomerativeClustering(affinity='euclidean', linkage='ward', n_clusters = NumberOfClusters)\n",
    "        df_scaled['Cluster'] = ac.fit_predict(df_scaled)\n",
    "    elif ClusteringMethod == 'DBSCAN':\n",
    "        db = DBSCAN(eps=0.5, min_samples=5, metric='euclidean')\n",
    "        df_scaled['Cluster'] = db.fit_predict(df_scaled)\n",
    "    else:\n",
    "        print('Error: no valid clustering method specified')\n",
    "    \n",
    "    df_radar = df_scaled.groupby('Cluster').mean().divide(df_scaled.drop('Cluster',axis=1).mean())*100\n",
    "    \n",
    "    return df_radar"
   ]
  },
  {
   "cell_type": "code",
   "execution_count": null,
   "id": "0600fd25-7d45-4d1d-b49d-b54c8edf2885",
   "metadata": {},
   "outputs": [],
   "source": [
    "from sklearn.feature_selection import VarianceThreshold\n",
    "\n",
    "vt = VarianceThreshold(0.1)\n",
    "df_seg_full_transformed = vt.fit_transform(df_seg_full)\n",
    "\n",
    "# columns we have selected\n",
    "# get_support() is method of VarianceThreshold and stores boolean of each variable in the numpy array.\n",
    "selected_columns = df_seg_full.columns[vt.get_support()]\n",
    "\n",
    "# transforming an array back to a data-frame preserves column labels\n",
    "df_seg_full_transformed = pd.DataFrame(df_seg_full_transformed, columns = selected_columns)"
   ]
  },
  {
   "cell_type": "code",
   "execution_count": null,
   "id": "b0c236bf-7afa-4f61-8e07-60dab11d9791",
   "metadata": {},
   "outputs": [],
   "source": [
    "# step 1\n",
    "df_corr = df_seg_full_transformed.corr().abs()\n",
    "df_corr"
   ]
  },
  {
   "cell_type": "markdown",
   "id": "9c9f96f9-7d7a-4294-8fa4-753556c1137a",
   "metadata": {},
   "source": [
    "***Feature Engineering implementation to demographics information***"
   ]
  },
  {
   "cell_type": "code",
   "execution_count": null,
   "id": "10eebe2a-4c0f-4498-9533-3c3fbbb832fc",
   "metadata": {
    "tags": []
   },
   "outputs": [],
   "source": [
    "df_seg_full2 = df_seg_full.copy()\n",
    "df_seg_full2 = df_seg_full2.drop(['years_with_bank', 'gender_M '], axis=1)\n",
    "df_seg_full2"
   ]
  },
  {
   "cell_type": "markdown",
   "id": "418961ea-6b47-400c-b6a6-c1f0d79849c1",
   "metadata": {},
   "source": [
    "### Banking behavior clustering"
   ]
  },
  {
   "cell_type": "code",
   "execution_count": null,
   "id": "779ab333-b9b3-4b73-ae30-c158e1f495e8",
   "metadata": {},
   "outputs": [],
   "source": [
    "df_cust_info3 = df_cust_info2.copy()\n",
    "df_cust_info3.columns\n",
    "# df_cust_info3 = df_cust_info3.drop(columns=['cust_id', 'age', 'gender', 'nbr_children', 'marital_status'])\n",
    "segmentation_cols = ['income', 'age','years_with_bank','nbr_children','marital_status','gender',\n",
    "                     'credit_balance', 'checking_balance','savings_balance', 'avg_tran_amt', 'count_tran_amt',\n",
    "                     'avg_savings_tran_amt', 'avg_checking_tran_amt', 'avg_credit_tran_amt',\n",
    "                     'cnt_savings_tran', 'cnt_checking_tran', 'cnt_credit_tran',\n",
    "                     'total_balance']\n",
    "df_cust_seg = df_cust_info3[segmentation_cols]\n",
    "df_cust_seg['marital_status'] = df_cust_seg['marital_status'].astype('category')\n",
    "df_cust_seg = pd.get_dummies(df_cust_seg, drop_first=True)\n",
    "df_cust_seg.head(3)"
   ]
  },
  {
   "cell_type": "code",
   "execution_count": null,
   "id": "1dcc0595-f551-4672-99ad-6e4836b7b91b",
   "metadata": {},
   "outputs": [],
   "source": [
    "plot_distortion(df_cust_seg)"
   ]
  },
  {
   "cell_type": "code",
   "execution_count": null,
   "id": "35e1ca12-9463-4a9e-acb5-79f0bb856591",
   "metadata": {},
   "outputs": [],
   "source": [
    "scaler = MinMaxScaler()\n",
    "df_habits_scaled = pd.DataFrame(scaler.fit_transform(df_cust_seg.astype(float)),columns = df_cust_seg.columns)\n",
    "df_habits_scaled['Cluster'] = KMeans(n_clusters=4, n_init=10).fit_predict(df_habits_scaled)\n",
    "df_habits_scaled.head(3)"
   ]
  },
  {
   "cell_type": "code",
   "execution_count": null,
   "id": "39068ddf-9902-4b1a-b454-7fe43d5de29b",
   "metadata": {},
   "outputs": [],
   "source": [
    "df_habits_scaled['Cluster'].value_counts()"
   ]
  },
  {
   "cell_type": "markdown",
   "id": "e8260764-25cf-49e0-9cd1-ed42a92d1b26",
   "metadata": {
    "tags": []
   },
   "source": [
    "# Radar Chart"
   ]
  },
  {
   "cell_type": "code",
   "execution_count": null,
   "id": "06d8028d-bac8-42be-a319-0a1a65e6e805",
   "metadata": {},
   "outputs": [],
   "source": [
    "def plot_radar_chart(df, mean=False):\n",
    "    data = []\n",
    "    for i in range(0,len(df)):\n",
    "        data.append(go.Scatterpolar(r = df.iloc[i].values,\n",
    "                                    theta = df.iloc[i].index,\n",
    "                                    name = f'cluster_{df.index[i]}',\n",
    "                                    fill = 'toself'))\n",
    "    # mean line\n",
    "    if mean == True:\n",
    "        data.append(go.Scatterpolar(r = [100]* df.shape[1],\n",
    "                                    theta= df.columns,\n",
    "                                    name = 'mean',\n",
    "                                    fill = 'toself'))\n",
    "    \n",
    "    layout = go.Layout(polar = dict(radialaxis = dict(visible = True)),\n",
    "                       showlegend = True)\n",
    "    fig = go.Figure(data = data, layout = layout)\n",
    "    fig.show()"
   ]
  },
  {
   "cell_type": "code",
   "execution_count": null,
   "id": "e5417220-8d6b-453a-a9a6-a08e2d765178",
   "metadata": {},
   "outputs": [],
   "source": [
    "# Decent clusters:\n",
    "\n",
    "# df_seg_full, 'MinMax', 'Agglomerative', 3"
   ]
  },
  {
   "cell_type": "code",
   "execution_count": null,
   "id": "cc60cc09-6d57-42a8-8f06-aa658b0e472a",
   "metadata": {},
   "outputs": [],
   "source": []
  },
  {
   "cell_type": "markdown",
   "id": "ca21976d-4323-4976-9bc5-c0fff8566da9",
   "metadata": {},
   "source": [
    "***Demographic Radar Chart***"
   ]
  },
  {
   "cell_type": "code",
   "execution_count": null,
   "id": "821b8762-ec57-4cfa-ba61-b570d3d46f65",
   "metadata": {},
   "outputs": [],
   "source": [
    "plot_radar_chart(Nik(df_seg_full, 'MinMax', 'Agglomerative', 3, epsilon=0.2, min_samples=10))"
   ]
  },
  {
   "cell_type": "code",
   "execution_count": null,
   "id": "4f5b3467-1657-42bc-8e2e-5889b7226532",
   "metadata": {},
   "outputs": [],
   "source": [
    "plot_radar_chart(Nik(df_seg_full2, 'MinMax', 'Agglomerative', 3, epsilon=0.2, min_samples=10))"
   ]
  },
  {
   "cell_type": "markdown",
   "id": "3e53808b-e1c4-4107-9cf1-668a5485c2e0",
   "metadata": {},
   "source": [
    "***Banking Behaviour Radar Chart***"
   ]
  },
  {
   "cell_type": "code",
   "execution_count": null,
   "id": "6a7df2af-5f24-4cd9-b0b3-e89aed8fe5cf",
   "metadata": {},
   "outputs": [],
   "source": [
    "plot_radar_chart(Nik(df_cust_seg, 'MinMax', 'KMeans', 4, epsilon=0.2, min_samples=10))"
   ]
  },
  {
   "cell_type": "markdown",
   "id": "d9087284-2277-43a8-bf63-76d6e8ec41d3",
   "metadata": {},
   "source": [
    "### Its a lot of information was used, especially numerical data, we need to reduce data's count to and see each features clearly"
   ]
  },
  {
   "cell_type": "markdown",
   "id": "24fc2d63-e62d-4e38-92e6-440336e99f73",
   "metadata": {},
   "source": [
    "***Feature Selection implemetation for banking behaviour analysis***\n",
    "\n",
    "Analyzing clients by their current balances"
   ]
  },
  {
   "cell_type": "code",
   "execution_count": null,
   "id": "3ac783c4-158f-4daa-9ecf-aa59b01a6bf3",
   "metadata": {},
   "outputs": [],
   "source": [
    "segmentation_cols = ['income', 'age','years_with_bank','nbr_children','marital_status_2','marital_status_3',\n",
    "                     'marital_status_4','gender_M ','credit_balance', 'checking_balance','savings_balance']\n",
    "df_cust_seg2 = df_cust_seg[segmentation_cols]\n"
   ]
  },
  {
   "cell_type": "code",
   "execution_count": null,
   "id": "0d297036-9a7c-4d43-aa6c-dde230375beb",
   "metadata": {},
   "outputs": [],
   "source": [
    "plot_distortion(df_cust_seg2)"
   ]
  },
  {
   "cell_type": "code",
   "execution_count": null,
   "id": "10754e86-3e01-4abe-a778-f8d5b5ea44e8",
   "metadata": {},
   "outputs": [],
   "source": [
    "plot_radar_chart(Nik(df_cust_seg2, 'MinMax', 'KMeans', 4, epsilon=0.2, min_samples=10))"
   ]
  },
  {
   "cell_type": "markdown",
   "id": "74cdd17d-b2a1-48e7-9cef-fd850137231e",
   "metadata": {},
   "source": [
    "***Changing clusterization method***"
   ]
  },
  {
   "cell_type": "code",
   "execution_count": null,
   "id": "3aa503c2-22d3-40f6-9946-30be10537de1",
   "metadata": {},
   "outputs": [],
   "source": [
    "plot_radar_chart(Nik(df_cust_seg2, 'Robust', 'KMeans', 4, epsilon=0.2, min_samples=10))"
   ]
  },
  {
   "cell_type": "markdown",
   "id": "ab9ff7f0-7c9b-4d56-95b4-d0fa49086282",
   "metadata": {},
   "source": [
    "***Analyzing only credit balances and their transactions***"
   ]
  },
  {
   "cell_type": "code",
   "execution_count": null,
   "id": "cc6ec039-9e1c-4097-bf7c-ef16b1bd9e3c",
   "metadata": {},
   "outputs": [],
   "source": [
    "df_cust_seg3 = df_cust_seg[['income', 'age', 'years_with_bank', 'nbr_children','marital_status_2', 'marital_status_3',\n",
    "                            'marital_status_4', 'gender_M ', 'credit_balance','avg_credit_tran_amt','cnt_credit_tran']]\n",
    "                           \n",
    "plot_radar_chart(Nik(df_cust_seg3, 'MinMax', 'KMeans', 4, epsilon=0.2, min_samples=10)) "
   ]
  },
  {
   "cell_type": "code",
   "execution_count": null,
   "id": "65a406a9-e7fe-424e-b52c-954c421de828",
   "metadata": {},
   "outputs": [],
   "source": [
    "plot_radar_chart(Nik(df_cust_seg3, 'Robust', 'KMeans', 4, epsilon=0.2, min_samples=10))"
   ]
  },
  {
   "cell_type": "markdown",
   "id": "7486b132-d236-4ff0-b225-8f253db17804",
   "metadata": {},
   "source": [
    "***Analyzing saving balances with their transactions***"
   ]
  },
  {
   "cell_type": "code",
   "execution_count": null,
   "id": "093263ff-303e-4cb8-8709-3a8b0be84b03",
   "metadata": {},
   "outputs": [],
   "source": [
    "df_cust_seg.columns"
   ]
  },
  {
   "cell_type": "code",
   "execution_count": null,
   "id": "c1b9aa82-3977-4677-9497-82b50f94de7c",
   "metadata": {},
   "outputs": [],
   "source": [
    "df_cust_seg4 = df_cust_seg['income', 'age', 'years_with_bank', 'nbr_children', 'credit_balance',\n",
    "                           'checking_balance', 'savings_balance', 'avg_tran_amt', 'count_tran_amt',\n",
    "                           'avg_savings_tran_amt', 'avg_checking_tran_amt', 'avg_credit_tran_amt',\n",
    "                           'cnt_savings_tran', 'cnt_checking_tran', 'cnt_credit_tran',\n",
    "                           'total_balance', 'marital_status_2', 'marital_status_3',\n",
    "                           'marital_status_4', 'gender_M ']"
   ]
  },
  {
   "cell_type": "markdown",
   "id": "872164fd-89f6-404c-825e-c92aa4c2d4fa",
   "metadata": {},
   "source": [
    "# PCA --> Scatterplot Visualizations"
   ]
  },
  {
   "cell_type": "code",
   "execution_count": null,
   "id": "57b7a0cc-f562-4def-ac10-47b6662f3257",
   "metadata": {},
   "outputs": [],
   "source": [
    "from sklearn.decomposition import PCA\n",
    "pca = PCA(n_components=2)\n",
    "components =pca.fit_transform(df_habits_scaled)\n",
    "df_pca = pd.DataFrame(components, columns = ['PC1', 'PC2'])\n",
    "df_pca['Cluster'] = df_habits_scaled['Cluster']\n",
    "\n",
    "fig = px.scatter(df_pca, x='PC1', y='PC2', color=df_pca['Cluster'].astype(str))\n",
    "fig.show()"
   ]
  },
  {
   "cell_type": "code",
   "execution_count": null,
   "id": "d833371a-1f76-4329-81ff-c7df66b52d6f",
   "metadata": {},
   "outputs": [],
   "source": [
    "df_pca"
   ]
  },
  {
   "cell_type": "code",
   "execution_count": null,
   "id": "77f213c8-717a-4ac8-84da-af7a771bde56",
   "metadata": {},
   "outputs": [],
   "source": []
  },
  {
   "cell_type": "code",
   "execution_count": null,
   "id": "923d420e-6c5e-4d9f-954b-bb052d40f31b",
   "metadata": {},
   "outputs": [],
   "source": []
  },
  {
   "cell_type": "markdown",
   "id": "0afb9af2-d1e3-4bf0-af5c-df44af3df4a3",
   "metadata": {
    "tags": []
   },
   "source": [
    "# Banking behaviour"
   ]
  },
  {
   "cell_type": "code",
   "execution_count": null,
   "id": "7a6faccc-d749-42f5-9069-31f9708079d7",
   "metadata": {},
   "outputs": [],
   "source": [
    "df_bank_info = df_cust_info3.copy()\n",
    "df_bank_info = df_bank_info.merge(df_customer[['cust_id','city_name','state_code']],on='cust_id')\n",
    "df_bank_info.head(3)"
   ]
  },
  {
   "cell_type": "markdown",
   "id": "d1b55310-c1ae-4f0e-a1ae-0dfde58553ae",
   "metadata": {},
   "source": [
    "## What we know about the bank?"
   ]
  },
  {
   "cell_type": "code",
   "execution_count": null,
   "id": "7f0982dd-90f6-4f87-a561-864ba5f95cd9",
   "metadata": {},
   "outputs": [],
   "source": [
    "states_income = df_bank_info[['income','total_balance','state_code']].groupby('state_code').mean().reset_index()\n",
    "states_income.head(3)"
   ]
  },
  {
   "cell_type": "code",
   "execution_count": null,
   "id": "bc3912a6-b0e0-4f81-ad02-a23a963adbbf",
   "metadata": {},
   "outputs": [],
   "source": [
    "cities_income = df_bank_info[['income','total_balance','city_name']].groupby('city_name').mean().reset_index()\n",
    "cities_income.head(3)"
   ]
  },
  {
   "cell_type": "code",
   "execution_count": null,
   "id": "2632632b-6f5a-4db0-8230-356a0825d520",
   "metadata": {
    "tags": []
   },
   "outputs": [],
   "source": [
    "states_income = states_income.sort_values(['income','total_balance'],ascending=False)\n",
    "\n",
    "trace1 = go.Bar(\n",
    "    x = states_income['state_code'],\n",
    "    y = states_income['income'],\n",
    "    name = 'Income',\n",
    "    marker=dict(color='yellow') \n",
    ")\n",
    "\n",
    "trace2 = go.Bar(\n",
    "    x = states_income['state_code'],\n",
    "    y = states_income['total_balance'],\n",
    "    name='Net Worth',\n",
    "    marker=dict(color='green')\n",
    ")\n",
    "\n",
    "# create the layout\n",
    "layout = go.Layout(\n",
    "    title='States average income and their net worth'\n",
    ")\n",
    "data = [trace1, trace2]\n",
    "\n",
    "# create the figure\n",
    "fig = go.Figure(data=data, layout=layout)\n",
    "fig.show()"
   ]
  },
  {
   "cell_type": "code",
   "execution_count": null,
   "id": "a3a3d50b-c48f-47dd-a785-e422595b33b0",
   "metadata": {},
   "outputs": [],
   "source": [
    "cities_income = cities_income.sort_values(['income','total_balance'],ascending=False)\n",
    "\n",
    "trace1 = go.Bar(\n",
    "    x = cities_income['city_name'],\n",
    "    y = cities_income['income'],\n",
    "    name = 'Income',\n",
    "    marker=dict(color='red') \n",
    ")\n",
    "\n",
    "#trace2 = go.Bar(\n",
    "#    x = cities_income['city_name'],\n",
    "#    y = cities_income['total_balance'],\n",
    "#    name='Net Worth',\n",
    "#    marker=dict(color='blue')\n",
    "#)\n",
    "\n",
    "# create the layout\n",
    "layout = go.Layout(\n",
    "    title='Cities average income and their net worth'\n",
    ")\n",
    "data = [trace1]#[trace1, trace2]\n",
    "\n",
    "# create the figure\n",
    "fig = go.Figure(data=data, layout=layout)\n",
    "fig.show()"
   ]
  },
  {
   "cell_type": "code",
   "execution_count": null,
   "id": "cebaa972-e38d-4997-9b7a-f187bb60245c",
   "metadata": {},
   "outputs": [],
   "source": [
    "df_ages = df_bank_info[['cust_id','income','age']]\n",
    "ages = df_ages[['cust_id','age']]\n",
    "ages['<18'] = df_ages['income'][df_ages['age']<18]\n",
    "ages['18-25'] = df_ages['income'][(df_ages['age']>=18) &(df_ages['age']<25)]\n",
    "ages['25-35'] = df_ages['income'][(df_ages['age']>=25) &(df_ages['age']<35)]\n",
    "ages['35-55'] = df_ages['income'][(df_ages['age']>=35) &(df_ages['age']<55)]\n",
    "ages['55-65'] = df_ages['income'][(df_ages['age']>=55) &(df_ages['age']<65)]\n",
    "ages['65+'] = df_ages['income'][df_ages['age']>=65]\n",
    "ages.head(3)"
   ]
  },
  {
   "cell_type": "code",
   "execution_count": null,
   "id": "7288e920-6496-463c-a1fe-b21d74de1c46",
   "metadata": {},
   "outputs": [],
   "source": []
  },
  {
   "cell_type": "code",
   "execution_count": null,
   "id": "b712164b-5673-4dea-bc63-ef6942036fe6",
   "metadata": {},
   "outputs": [],
   "source": [
    "import seaborn as sns\n",
    "\n",
    "plt.subplot(1,2,1)\n",
    "\n",
    "sns.boxplot(x='age',y='income', data = ages)\n",
    "plt.ylabel('')"
   ]
  }
 ],
 "metadata": {
  "kernelspec": {
   "display_name": "Python 3 (ipykernel)",
   "language": "python",
   "name": "python3"
  },
  "language_info": {
   "codemirror_mode": {
    "name": "ipython",
    "version": 3
   },
   "file_extension": ".py",
   "mimetype": "text/x-python",
   "name": "python",
   "nbconvert_exporter": "python",
   "pygments_lexer": "ipython3",
   "version": "3.7.9"
  }
 },
 "nbformat": 4,
 "nbformat_minor": 5
}
