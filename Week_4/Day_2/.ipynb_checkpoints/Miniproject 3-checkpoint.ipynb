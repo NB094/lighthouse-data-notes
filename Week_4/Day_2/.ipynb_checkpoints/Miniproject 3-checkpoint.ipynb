{
 "cells": [
  {
   "cell_type": "code",
   "execution_count": 305,
   "id": "8a8ba729-c96c-46d2-b5a6-865b0fda2dae",
   "metadata": {},
   "outputs": [],
   "source": [
    "import pandas as pd\n",
    "import matplotlib.pyplot as plt\n",
    "from sklearn.cluster import KMeans\n",
    "import numpy as np\n",
    "\n",
    "import plotly.express as px\n",
    "from sklearn.decomposition import PCA\n",
    "from sklearn.preprocessing import MinMaxScaler\n",
    "from sklearn.preprocessing import StandardScaler\n",
    "from sklearn.preprocessing import RobustScaler\n",
    "from sklearn.preprocessing import MaxAbsScaler\n",
    "from sklearn.cluster import DBSCAN\n",
    "from sklearn.cluster import AgglomerativeClustering"
   ]
  },
  {
   "cell_type": "markdown",
   "id": "df06f158-3a21-4482-81bd-ccbc29de2146",
   "metadata": {},
   "source": [
    "# Data"
   ]
  },
  {
   "cell_type": "code",
   "execution_count": 2,
   "id": "1cfae0a7-babb-4a82-9ecb-7ba941e1f754",
   "metadata": {},
   "outputs": [
    {
     "data": {
      "text/html": [
       "<div>\n",
       "<style scoped>\n",
       "    .dataframe tbody tr th:only-of-type {\n",
       "        vertical-align: middle;\n",
       "    }\n",
       "\n",
       "    .dataframe tbody tr th {\n",
       "        vertical-align: top;\n",
       "    }\n",
       "\n",
       "    .dataframe thead th {\n",
       "        text-align: right;\n",
       "    }\n",
       "</style>\n",
       "<table border=\"1\" class=\"dataframe\">\n",
       "  <thead>\n",
       "    <tr style=\"text-align: right;\">\n",
       "      <th></th>\n",
       "      <th>cust_id</th>\n",
       "      <th>income</th>\n",
       "      <th>age</th>\n",
       "      <th>years_with_bank</th>\n",
       "      <th>nbr_children</th>\n",
       "      <th>gender</th>\n",
       "      <th>marital_status</th>\n",
       "      <th>name_prefix</th>\n",
       "      <th>first_name</th>\n",
       "      <th>last_name</th>\n",
       "      <th>street_nbr</th>\n",
       "      <th>street_name</th>\n",
       "      <th>postal_code</th>\n",
       "      <th>city_name</th>\n",
       "      <th>state_code</th>\n",
       "    </tr>\n",
       "  </thead>\n",
       "  <tbody>\n",
       "    <tr>\n",
       "      <th>0</th>\n",
       "      <td>1362691</td>\n",
       "      <td>26150</td>\n",
       "      <td>46</td>\n",
       "      <td>5</td>\n",
       "      <td>1</td>\n",
       "      <td>M</td>\n",
       "      <td>2</td>\n",
       "      <td></td>\n",
       "      <td>Donald                                        ...</td>\n",
       "      <td>Marek                                         ...</td>\n",
       "      <td>8298</td>\n",
       "      <td>Second                                        ...</td>\n",
       "      <td>89194</td>\n",
       "      <td>Las Vegas</td>\n",
       "      <td>NV</td>\n",
       "    </tr>\n",
       "    <tr>\n",
       "      <th>1</th>\n",
       "      <td>1362487</td>\n",
       "      <td>6605</td>\n",
       "      <td>71</td>\n",
       "      <td>1</td>\n",
       "      <td>0</td>\n",
       "      <td>M</td>\n",
       "      <td>2</td>\n",
       "      <td></td>\n",
       "      <td>ChingDyi                                      ...</td>\n",
       "      <td>Moussavi                                      ...</td>\n",
       "      <td>10603</td>\n",
       "      <td>Daffodil                                      ...</td>\n",
       "      <td>90159</td>\n",
       "      <td>Los Angeles</td>\n",
       "      <td>CA</td>\n",
       "    </tr>\n",
       "    <tr>\n",
       "      <th>2</th>\n",
       "      <td>1363160</td>\n",
       "      <td>18548</td>\n",
       "      <td>38</td>\n",
       "      <td>8</td>\n",
       "      <td>0</td>\n",
       "      <td>F</td>\n",
       "      <td>1</td>\n",
       "      <td></td>\n",
       "      <td>Rosa                                          ...</td>\n",
       "      <td>Johnston                                      ...</td>\n",
       "      <td>8817</td>\n",
       "      <td>Figueroa                                      ...</td>\n",
       "      <td>90024</td>\n",
       "      <td>Los Angeles</td>\n",
       "      <td>CA</td>\n",
       "    </tr>\n",
       "    <tr>\n",
       "      <th>3</th>\n",
       "      <td>1362752</td>\n",
       "      <td>47668</td>\n",
       "      <td>54</td>\n",
       "      <td>3</td>\n",
       "      <td>0</td>\n",
       "      <td>F</td>\n",
       "      <td>1</td>\n",
       "      <td></td>\n",
       "      <td>Lisa                                          ...</td>\n",
       "      <td>Martin                                        ...</td>\n",
       "      <td>676</td>\n",
       "      <td>Humble                                        ...</td>\n",
       "      <td>90172</td>\n",
       "      <td>Los Angeles</td>\n",
       "      <td>CA</td>\n",
       "    </tr>\n",
       "    <tr>\n",
       "      <th>4</th>\n",
       "      <td>1362548</td>\n",
       "      <td>44554</td>\n",
       "      <td>59</td>\n",
       "      <td>9</td>\n",
       "      <td>2</td>\n",
       "      <td>F</td>\n",
       "      <td>4</td>\n",
       "      <td></td>\n",
       "      <td>Barbara                                       ...</td>\n",
       "      <td>O'Malley                                      ...</td>\n",
       "      <td>6578</td>\n",
       "      <td>C                                             ...</td>\n",
       "      <td>10138</td>\n",
       "      <td>New York City</td>\n",
       "      <td>NY</td>\n",
       "    </tr>\n",
       "  </tbody>\n",
       "</table>\n",
       "</div>"
      ],
      "text/plain": [
       "   cust_id  income  age  years_with_bank  nbr_children gender  marital_status  \\\n",
       "0  1362691   26150   46                5             1     M                2   \n",
       "1  1362487    6605   71                1             0     M                2   \n",
       "2  1363160   18548   38                8             0     F                1   \n",
       "3  1362752   47668   54                3             0     F                1   \n",
       "4  1362548   44554   59                9             2     F                4   \n",
       "\n",
       "  name_prefix                                         first_name  \\\n",
       "0              Donald                                        ...   \n",
       "1              ChingDyi                                      ...   \n",
       "2              Rosa                                          ...   \n",
       "3              Lisa                                          ...   \n",
       "4              Barbara                                       ...   \n",
       "\n",
       "                                           last_name  street_nbr  \\\n",
       "0  Marek                                         ...        8298   \n",
       "1  Moussavi                                      ...       10603   \n",
       "2  Johnston                                      ...        8817   \n",
       "3  Martin                                        ...         676   \n",
       "4  O'Malley                                      ...        6578   \n",
       "\n",
       "                                         street_name  postal_code  \\\n",
       "0  Second                                        ...        89194   \n",
       "1  Daffodil                                      ...        90159   \n",
       "2  Figueroa                                      ...        90024   \n",
       "3  Humble                                        ...        90172   \n",
       "4  C                                             ...        10138   \n",
       "\n",
       "                                  city_name state_code  \n",
       "0  Las Vegas                                      NV    \n",
       "1  Los Angeles                                    CA    \n",
       "2  Los Angeles                                    CA    \n",
       "3  Los Angeles                                    CA    \n",
       "4  New York City                                  NY    "
      ]
     },
     "execution_count": 2,
     "metadata": {},
     "output_type": "execute_result"
    }
   ],
   "source": [
    "df_customer = pd.read_csv('twm_customer.csv', sep=';')\n",
    "df_customer.head(5)"
   ]
  },
  {
   "cell_type": "code",
   "execution_count": 3,
   "id": "c9a33ce1-82b3-422d-81ff-4999278354a7",
   "metadata": {},
   "outputs": [
    {
     "name": "stdout",
     "output_type": "stream",
     "text": [
      "(747, 15)\n",
      "cust_id            0\n",
      "income             0\n",
      "age                0\n",
      "years_with_bank    0\n",
      "nbr_children       0\n",
      "gender             0\n",
      "marital_status     0\n",
      "name_prefix        0\n",
      "first_name         0\n",
      "last_name          0\n",
      "street_nbr         0\n",
      "street_name        0\n",
      "postal_code        0\n",
      "city_name          0\n",
      "state_code         0\n",
      "dtype: int64\n",
      "# of unique customer IDs:  747\n"
     ]
    }
   ],
   "source": [
    "print(df_customer.shape)\n",
    "print(df_customer.isnull().sum())\n",
    "print('# of unique customer IDs: ', df_customer['cust_id'].nunique())"
   ]
  },
  {
   "cell_type": "code",
   "execution_count": null,
   "id": "85ab0a04-f4fb-4646-a2bf-1a8521ddada0",
   "metadata": {},
   "outputs": [],
   "source": []
  },
  {
   "cell_type": "code",
   "execution_count": null,
   "id": "43eed921-5329-4f95-9e38-35b6b6365624",
   "metadata": {},
   "outputs": [],
   "source": []
  },
  {
   "cell_type": "code",
   "execution_count": 4,
   "id": "3438bd00-14d4-4f6d-8538-882c833540ae",
   "metadata": {},
   "outputs": [
    {
     "data": {
      "text/html": [
       "<div>\n",
       "<style scoped>\n",
       "    .dataframe tbody tr th:only-of-type {\n",
       "        vertical-align: middle;\n",
       "    }\n",
       "\n",
       "    .dataframe tbody tr th {\n",
       "        vertical-align: top;\n",
       "    }\n",
       "\n",
       "    .dataframe thead th {\n",
       "        text-align: right;\n",
       "    }\n",
       "</style>\n",
       "<table border=\"1\" class=\"dataframe\">\n",
       "  <thead>\n",
       "    <tr style=\"text-align: right;\">\n",
       "      <th></th>\n",
       "      <th>acct_nbr</th>\n",
       "      <th>cust_id</th>\n",
       "      <th>acct_type</th>\n",
       "      <th>account_active</th>\n",
       "      <th>acct_start_date</th>\n",
       "      <th>acct_end_date</th>\n",
       "      <th>starting_balance</th>\n",
       "      <th>ending_balance</th>\n",
       "    </tr>\n",
       "  </thead>\n",
       "  <tbody>\n",
       "    <tr>\n",
       "      <th>0</th>\n",
       "      <td>13628063</td>\n",
       "      <td>1362806</td>\n",
       "      <td>SV</td>\n",
       "      <td>Y</td>\n",
       "      <td>10.12.1995</td>\n",
       "      <td>NaN</td>\n",
       "      <td>1430.22</td>\n",
       "      <td>284.58</td>\n",
       "    </tr>\n",
       "    <tr>\n",
       "      <th>1</th>\n",
       "      <td>4561143213627090</td>\n",
       "      <td>1362709</td>\n",
       "      <td>CC</td>\n",
       "      <td>Y</td>\n",
       "      <td>15.3.1993</td>\n",
       "      <td>NaN</td>\n",
       "      <td>266.34</td>\n",
       "      <td>496.15</td>\n",
       "    </tr>\n",
       "    <tr>\n",
       "      <th>2</th>\n",
       "      <td>4561143213628360</td>\n",
       "      <td>1362836</td>\n",
       "      <td>CC</td>\n",
       "      <td>Y</td>\n",
       "      <td>18.3.1992</td>\n",
       "      <td>NaN</td>\n",
       "      <td>55.90</td>\n",
       "      <td>1000.00</td>\n",
       "    </tr>\n",
       "    <tr>\n",
       "      <th>3</th>\n",
       "      <td>13633112</td>\n",
       "      <td>1363311</td>\n",
       "      <td>CK</td>\n",
       "      <td>Y</td>\n",
       "      <td>6.7.1995</td>\n",
       "      <td>NaN</td>\n",
       "      <td>11017.13</td>\n",
       "      <td>968.46</td>\n",
       "    </tr>\n",
       "    <tr>\n",
       "      <th>4</th>\n",
       "      <td>4561143213633610</td>\n",
       "      <td>1363361</td>\n",
       "      <td>CC</td>\n",
       "      <td>Y</td>\n",
       "      <td>17.6.1994</td>\n",
       "      <td>NaN</td>\n",
       "      <td>849.37</td>\n",
       "      <td>462.28</td>\n",
       "    </tr>\n",
       "  </tbody>\n",
       "</table>\n",
       "</div>"
      ],
      "text/plain": [
       "           acct_nbr  cust_id acct_type account_active acct_start_date  \\\n",
       "0          13628063  1362806      SV               Y       10.12.1995   \n",
       "1  4561143213627090  1362709      CC               Y        15.3.1993   \n",
       "2  4561143213628360  1362836      CC               Y        18.3.1992   \n",
       "3          13633112  1363311      CK               Y         6.7.1995   \n",
       "4  4561143213633610  1363361      CC               Y        17.6.1994   \n",
       "\n",
       "  acct_end_date  starting_balance  ending_balance  \n",
       "0           NaN           1430.22          284.58  \n",
       "1           NaN            266.34          496.15  \n",
       "2           NaN             55.90         1000.00  \n",
       "3           NaN          11017.13          968.46  \n",
       "4           NaN            849.37          462.28  "
      ]
     },
     "execution_count": 4,
     "metadata": {},
     "output_type": "execute_result"
    }
   ],
   "source": [
    "df_accounts = pd.read_csv('twm_accounts.csv', sep=';')\n",
    "df_accounts.head(5)"
   ]
  },
  {
   "cell_type": "code",
   "execution_count": 5,
   "id": "aa1863bd-79d6-4a4c-b09b-c37406da89f7",
   "metadata": {},
   "outputs": [
    {
     "name": "stdout",
     "output_type": "stream",
     "text": [
      "(1409, 8)\n",
      "acct_nbr               0\n",
      "cust_id                0\n",
      "acct_type              0\n",
      "account_active         0\n",
      "acct_start_date        0\n",
      "acct_end_date       1266\n",
      "starting_balance       0\n",
      "ending_balance         0\n",
      "dtype: int64\n",
      "# of unique customer IDs:  665\n",
      "# of unique ACCOUNT numbers:  1409\n"
     ]
    }
   ],
   "source": [
    "print(df_accounts.shape)\n",
    "print(df_accounts.isnull().sum())\n",
    "print('# of unique customer IDs: ', df_accounts['cust_id'].nunique())\n",
    "print('# of unique ACCOUNT numbers: ', df_accounts['acct_nbr'].nunique())\n",
    "# Customers can have multiple accounts."
   ]
  },
  {
   "cell_type": "code",
   "execution_count": null,
   "id": "3dc242ba-4151-45a3-bd6a-2b247b5fc100",
   "metadata": {},
   "outputs": [],
   "source": []
  },
  {
   "cell_type": "code",
   "execution_count": null,
   "id": "045f6789-50b2-4eb0-9371-e6ecae64759c",
   "metadata": {},
   "outputs": [],
   "source": []
  },
  {
   "cell_type": "code",
   "execution_count": 6,
   "id": "b0a4145f-005b-4aa5-bfaf-0b753a3017d1",
   "metadata": {},
   "outputs": [
    {
     "data": {
      "text/html": [
       "<div>\n",
       "<style scoped>\n",
       "    .dataframe tbody tr th:only-of-type {\n",
       "        vertical-align: middle;\n",
       "    }\n",
       "\n",
       "    .dataframe tbody tr th {\n",
       "        vertical-align: top;\n",
       "    }\n",
       "\n",
       "    .dataframe thead th {\n",
       "        text-align: right;\n",
       "    }\n",
       "</style>\n",
       "<table border=\"1\" class=\"dataframe\">\n",
       "  <thead>\n",
       "    <tr style=\"text-align: right;\">\n",
       "      <th></th>\n",
       "      <th>cust_id</th>\n",
       "      <th>acct_nbr</th>\n",
       "      <th>minimum_balance</th>\n",
       "      <th>per_check_fee</th>\n",
       "      <th>account_active</th>\n",
       "      <th>acct_start_date</th>\n",
       "      <th>acct_end_date</th>\n",
       "      <th>starting_balance</th>\n",
       "      <th>ending_balance</th>\n",
       "    </tr>\n",
       "  </thead>\n",
       "  <tbody>\n",
       "    <tr>\n",
       "      <th>0</th>\n",
       "      <td>1362548</td>\n",
       "      <td>13625482</td>\n",
       "      <td>3000</td>\n",
       "      <td>0.00</td>\n",
       "      <td>Y</td>\n",
       "      <td>11.11.1986</td>\n",
       "      <td>NaN</td>\n",
       "      <td>6004.34</td>\n",
       "      <td>569.65</td>\n",
       "    </tr>\n",
       "    <tr>\n",
       "      <th>1</th>\n",
       "      <td>1362487</td>\n",
       "      <td>13624872</td>\n",
       "      <td>3000</td>\n",
       "      <td>0.00</td>\n",
       "      <td>Y</td>\n",
       "      <td>12.1.1995</td>\n",
       "      <td>NaN</td>\n",
       "      <td>2781.07</td>\n",
       "      <td>1401.21</td>\n",
       "    </tr>\n",
       "    <tr>\n",
       "      <th>2</th>\n",
       "      <td>1363017</td>\n",
       "      <td>13630172</td>\n",
       "      <td>3000</td>\n",
       "      <td>0.00</td>\n",
       "      <td>Y</td>\n",
       "      <td>19.3.1994</td>\n",
       "      <td>NaN</td>\n",
       "      <td>2694.91</td>\n",
       "      <td>147.15</td>\n",
       "    </tr>\n",
       "    <tr>\n",
       "      <th>3</th>\n",
       "      <td>1362752</td>\n",
       "      <td>13627522</td>\n",
       "      <td>100</td>\n",
       "      <td>0.15</td>\n",
       "      <td>Y</td>\n",
       "      <td>8.1.1994</td>\n",
       "      <td>NaN</td>\n",
       "      <td>487.69</td>\n",
       "      <td>3.76</td>\n",
       "    </tr>\n",
       "    <tr>\n",
       "      <th>4</th>\n",
       "      <td>1363282</td>\n",
       "      <td>13632822</td>\n",
       "      <td>100</td>\n",
       "      <td>0.15</td>\n",
       "      <td>Y</td>\n",
       "      <td>5.3.1988</td>\n",
       "      <td>NaN</td>\n",
       "      <td>133.90</td>\n",
       "      <td>84.18</td>\n",
       "    </tr>\n",
       "  </tbody>\n",
       "</table>\n",
       "</div>"
      ],
      "text/plain": [
       "   cust_id  acct_nbr  minimum_balance  per_check_fee account_active  \\\n",
       "0  1362548  13625482             3000           0.00             Y    \n",
       "1  1362487  13624872             3000           0.00             Y    \n",
       "2  1363017  13630172             3000           0.00             Y    \n",
       "3  1362752  13627522              100           0.15             Y    \n",
       "4  1363282  13632822              100           0.15             Y    \n",
       "\n",
       "  acct_start_date acct_end_date  starting_balance  ending_balance  \n",
       "0      11.11.1986           NaN           6004.34          569.65  \n",
       "1       12.1.1995           NaN           2781.07         1401.21  \n",
       "2       19.3.1994           NaN           2694.91          147.15  \n",
       "3        8.1.1994           NaN            487.69            3.76  \n",
       "4        5.3.1988           NaN            133.90           84.18  "
      ]
     },
     "execution_count": 6,
     "metadata": {},
     "output_type": "execute_result"
    }
   ],
   "source": [
    "df_checking_acct = pd.read_csv('twm_checking_acct.csv', sep=';')\n",
    "df_checking_acct.head(5)"
   ]
  },
  {
   "cell_type": "code",
   "execution_count": 7,
   "id": "9bb1de4c-1f80-4666-bb83-9ffc045f7ab1",
   "metadata": {},
   "outputs": [
    {
     "name": "stdout",
     "output_type": "stream",
     "text": [
      "(520, 9)\n",
      "cust_id               0\n",
      "acct_nbr              0\n",
      "minimum_balance       0\n",
      "per_check_fee         0\n",
      "account_active        0\n",
      "acct_start_date       0\n",
      "acct_end_date       468\n",
      "starting_balance      0\n",
      "ending_balance        0\n",
      "dtype: int64\n",
      "# of unique customer IDs:  520\n"
     ]
    }
   ],
   "source": [
    "print(df_checking_acct.shape)\n",
    "print(df_checking_acct.isnull().sum())\n",
    "print('# of unique customer IDs: ', df_checking_acct['cust_id'].nunique())"
   ]
  },
  {
   "cell_type": "code",
   "execution_count": null,
   "id": "7bf9a077-5811-4704-bfcd-d4a6b8766f48",
   "metadata": {},
   "outputs": [],
   "source": []
  },
  {
   "cell_type": "code",
   "execution_count": null,
   "id": "4564eb6f-eb84-43cf-9040-a0b696b58ecf",
   "metadata": {},
   "outputs": [],
   "source": []
  },
  {
   "cell_type": "code",
   "execution_count": 8,
   "id": "40e9bd20-96c2-4744-9077-51fe1fa17c57",
   "metadata": {},
   "outputs": [
    {
     "data": {
      "text/html": [
       "<div>\n",
       "<style scoped>\n",
       "    .dataframe tbody tr th:only-of-type {\n",
       "        vertical-align: middle;\n",
       "    }\n",
       "\n",
       "    .dataframe tbody tr th {\n",
       "        vertical-align: top;\n",
       "    }\n",
       "\n",
       "    .dataframe thead th {\n",
       "        text-align: right;\n",
       "    }\n",
       "</style>\n",
       "<table border=\"1\" class=\"dataframe\">\n",
       "  <thead>\n",
       "    <tr style=\"text-align: right;\">\n",
       "      <th></th>\n",
       "      <th>cust_id</th>\n",
       "      <th>acct_nbr</th>\n",
       "      <th>credit_limit</th>\n",
       "      <th>credit_rating</th>\n",
       "      <th>account_active</th>\n",
       "      <th>acct_start_date</th>\n",
       "      <th>acct_end_date</th>\n",
       "      <th>starting_balance</th>\n",
       "      <th>ending_balance</th>\n",
       "    </tr>\n",
       "  </thead>\n",
       "  <tbody>\n",
       "    <tr>\n",
       "      <th>0</th>\n",
       "      <td>1363160</td>\n",
       "      <td>4561143213631600</td>\n",
       "      <td>1000</td>\n",
       "      <td>0</td>\n",
       "      <td>Y</td>\n",
       "      <td>12.10.1988</td>\n",
       "      <td>NaN</td>\n",
       "      <td>657.46</td>\n",
       "      <td>286.69</td>\n",
       "    </tr>\n",
       "    <tr>\n",
       "      <th>1</th>\n",
       "      <td>1362487</td>\n",
       "      <td>4561143213624870</td>\n",
       "      <td>3000</td>\n",
       "      <td>0</td>\n",
       "      <td>Y</td>\n",
       "      <td>8.8.1995</td>\n",
       "      <td>NaN</td>\n",
       "      <td>0.00</td>\n",
       "      <td>1548.23</td>\n",
       "    </tr>\n",
       "    <tr>\n",
       "      <th>2</th>\n",
       "      <td>1362548</td>\n",
       "      <td>4561143213625480</td>\n",
       "      <td>6700</td>\n",
       "      <td>0</td>\n",
       "      <td>Y</td>\n",
       "      <td>11.11.1986</td>\n",
       "      <td>NaN</td>\n",
       "      <td>6965.25</td>\n",
       "      <td>68.68</td>\n",
       "    </tr>\n",
       "    <tr>\n",
       "      <th>3</th>\n",
       "      <td>1362752</td>\n",
       "      <td>4561143213627520</td>\n",
       "      <td>2400</td>\n",
       "      <td>0</td>\n",
       "      <td>N</td>\n",
       "      <td>9.10.1994</td>\n",
       "      <td>2.4.1995</td>\n",
       "      <td>2302.14</td>\n",
       "      <td>0.00</td>\n",
       "    </tr>\n",
       "    <tr>\n",
       "      <th>4</th>\n",
       "      <td>1363017</td>\n",
       "      <td>4561143213630170</td>\n",
       "      <td>1000</td>\n",
       "      <td>0</td>\n",
       "      <td>Y</td>\n",
       "      <td>8.2.1995</td>\n",
       "      <td>NaN</td>\n",
       "      <td>0.00</td>\n",
       "      <td>1000.00</td>\n",
       "    </tr>\n",
       "  </tbody>\n",
       "</table>\n",
       "</div>"
      ],
      "text/plain": [
       "   cust_id          acct_nbr  credit_limit  credit_rating account_active  \\\n",
       "0  1363160  4561143213631600          1000              0             Y    \n",
       "1  1362487  4561143213624870          3000              0             Y    \n",
       "2  1362548  4561143213625480          6700              0             Y    \n",
       "3  1362752  4561143213627520          2400              0             N    \n",
       "4  1363017  4561143213630170          1000              0             Y    \n",
       "\n",
       "  acct_start_date acct_end_date  starting_balance  ending_balance  \n",
       "0      12.10.1988           NaN            657.46          286.69  \n",
       "1        8.8.1995           NaN              0.00         1548.23  \n",
       "2      11.11.1986           NaN           6965.25           68.68  \n",
       "3       9.10.1994      2.4.1995           2302.14            0.00  \n",
       "4        8.2.1995           NaN              0.00         1000.00  "
      ]
     },
     "execution_count": 8,
     "metadata": {},
     "output_type": "execute_result"
    }
   ],
   "source": [
    "df_credit_acct = pd.read_csv('twm_credit_acct.csv', sep=';')\n",
    "df_credit_acct.head(5)"
   ]
  },
  {
   "cell_type": "code",
   "execution_count": 9,
   "id": "4d792656-78c5-4f39-b5dc-cc207e3ecfde",
   "metadata": {},
   "outputs": [
    {
     "name": "stdout",
     "output_type": "stream",
     "text": [
      "(468, 9)\n",
      "cust_id               0\n",
      "acct_nbr              0\n",
      "credit_limit          0\n",
      "credit_rating         0\n",
      "account_active        0\n",
      "acct_start_date       0\n",
      "acct_end_date       423\n",
      "starting_balance      0\n",
      "ending_balance        0\n",
      "dtype: int64\n",
      "# of unique customer IDs:  468\n"
     ]
    }
   ],
   "source": [
    "print(df_credit_acct.shape)\n",
    "print(df_credit_acct.isnull().sum())\n",
    "print('# of unique customer IDs: ', df_credit_acct['cust_id'].nunique())"
   ]
  },
  {
   "cell_type": "code",
   "execution_count": null,
   "id": "12d18294-32eb-497c-ae42-4a4165770e43",
   "metadata": {},
   "outputs": [],
   "source": []
  },
  {
   "cell_type": "code",
   "execution_count": null,
   "id": "7efc830a-4600-40ca-956e-b9554313f4b6",
   "metadata": {},
   "outputs": [],
   "source": []
  },
  {
   "cell_type": "code",
   "execution_count": 10,
   "id": "e8cdfb06-2595-45b0-b1a4-f8eec05389d4",
   "metadata": {},
   "outputs": [
    {
     "data": {
      "text/html": [
       "<div>\n",
       "<style scoped>\n",
       "    .dataframe tbody tr th:only-of-type {\n",
       "        vertical-align: middle;\n",
       "    }\n",
       "\n",
       "    .dataframe tbody tr th {\n",
       "        vertical-align: top;\n",
       "    }\n",
       "\n",
       "    .dataframe thead th {\n",
       "        text-align: right;\n",
       "    }\n",
       "</style>\n",
       "<table border=\"1\" class=\"dataframe\">\n",
       "  <thead>\n",
       "    <tr style=\"text-align: right;\">\n",
       "      <th></th>\n",
       "      <th>cust_id</th>\n",
       "      <th>acct_nbr</th>\n",
       "      <th>minimum_balance</th>\n",
       "      <th>acct_type</th>\n",
       "      <th>account_active</th>\n",
       "      <th>acct_start_date</th>\n",
       "      <th>acct_end_date</th>\n",
       "      <th>starting_balance</th>\n",
       "      <th>ending_balance</th>\n",
       "    </tr>\n",
       "  </thead>\n",
       "  <tbody>\n",
       "    <tr>\n",
       "      <th>0</th>\n",
       "      <td>1363160</td>\n",
       "      <td>13631603</td>\n",
       "      <td>100</td>\n",
       "      <td>BS</td>\n",
       "      <td>Y</td>\n",
       "      <td>9.5.1988</td>\n",
       "      <td>NaN</td>\n",
       "      <td>113.04</td>\n",
       "      <td>122.54</td>\n",
       "    </tr>\n",
       "    <tr>\n",
       "      <th>1</th>\n",
       "      <td>1362487</td>\n",
       "      <td>13624873</td>\n",
       "      <td>500</td>\n",
       "      <td>MM</td>\n",
       "      <td>N</td>\n",
       "      <td>27.6.1994</td>\n",
       "      <td>25.8.1995</td>\n",
       "      <td>651.73</td>\n",
       "      <td>12.89</td>\n",
       "    </tr>\n",
       "    <tr>\n",
       "      <th>2</th>\n",
       "      <td>1362548</td>\n",
       "      <td>13625483</td>\n",
       "      <td>100</td>\n",
       "      <td>BS</td>\n",
       "      <td>Y</td>\n",
       "      <td>11.11.1986</td>\n",
       "      <td>NaN</td>\n",
       "      <td>250.24</td>\n",
       "      <td>254.02</td>\n",
       "    </tr>\n",
       "    <tr>\n",
       "      <th>3</th>\n",
       "      <td>1362752</td>\n",
       "      <td>13627523</td>\n",
       "      <td>100</td>\n",
       "      <td>BS</td>\n",
       "      <td>Y</td>\n",
       "      <td>20.2.1995</td>\n",
       "      <td>NaN</td>\n",
       "      <td>600.26</td>\n",
       "      <td>609.33</td>\n",
       "    </tr>\n",
       "    <tr>\n",
       "      <th>4</th>\n",
       "      <td>1363017</td>\n",
       "      <td>13630173</td>\n",
       "      <td>100</td>\n",
       "      <td>BS</td>\n",
       "      <td>N</td>\n",
       "      <td>27.4.1994</td>\n",
       "      <td>31.10.1995</td>\n",
       "      <td>2011.02</td>\n",
       "      <td>2901.35</td>\n",
       "    </tr>\n",
       "  </tbody>\n",
       "</table>\n",
       "</div>"
      ],
      "text/plain": [
       "   cust_id  acct_nbr  minimum_balance acct_type account_active  \\\n",
       "0  1363160  13631603              100      BS               Y    \n",
       "1  1362487  13624873              500      MM               N    \n",
       "2  1362548  13625483              100      BS               Y    \n",
       "3  1362752  13627523              100      BS               Y    \n",
       "4  1363017  13630173              100      BS               N    \n",
       "\n",
       "  acct_start_date acct_end_date  starting_balance  ending_balance  \n",
       "0        9.5.1988           NaN            113.04          122.54  \n",
       "1       27.6.1994     25.8.1995            651.73           12.89  \n",
       "2      11.11.1986           NaN            250.24          254.02  \n",
       "3       20.2.1995           NaN            600.26          609.33  \n",
       "4       27.4.1994    31.10.1995           2011.02         2901.35  "
      ]
     },
     "execution_count": 10,
     "metadata": {},
     "output_type": "execute_result"
    }
   ],
   "source": [
    "df_savings_acct = pd.read_csv('twm_savings_acct.csv', sep=';')\n",
    "df_savings_acct.head(5)"
   ]
  },
  {
   "cell_type": "code",
   "execution_count": 11,
   "id": "4a98a6ca-2ecd-461f-a4f2-f27d5582c3c3",
   "metadata": {},
   "outputs": [
    {
     "name": "stdout",
     "output_type": "stream",
     "text": [
      "(421, 9)\n",
      "cust_id               0\n",
      "acct_nbr              0\n",
      "minimum_balance       0\n",
      "acct_type             0\n",
      "account_active        0\n",
      "acct_start_date       0\n",
      "acct_end_date       375\n",
      "starting_balance      0\n",
      "ending_balance        0\n",
      "dtype: int64\n",
      "# of unique customer IDs:  421\n"
     ]
    }
   ],
   "source": [
    "print(df_savings_acct.shape)\n",
    "print(df_savings_acct.isnull().sum())\n",
    "print('# of unique customer IDs: ', df_savings_acct['cust_id'].nunique())"
   ]
  },
  {
   "cell_type": "code",
   "execution_count": null,
   "id": "81e75d13-2293-46d2-8301-71ea25ed0e14",
   "metadata": {},
   "outputs": [],
   "source": []
  },
  {
   "cell_type": "code",
   "execution_count": null,
   "id": "eb95a80a-2d4d-48d6-9d4f-06f90395efba",
   "metadata": {},
   "outputs": [],
   "source": []
  },
  {
   "cell_type": "code",
   "execution_count": 12,
   "id": "0bf1e1b1-4253-4168-a687-745b9f8b38bf",
   "metadata": {},
   "outputs": [
    {
     "data": {
      "text/html": [
       "<div>\n",
       "<style scoped>\n",
       "    .dataframe tbody tr th:only-of-type {\n",
       "        vertical-align: middle;\n",
       "    }\n",
       "\n",
       "    .dataframe tbody tr th {\n",
       "        vertical-align: top;\n",
       "    }\n",
       "\n",
       "    .dataframe thead th {\n",
       "        text-align: right;\n",
       "    }\n",
       "</style>\n",
       "<table border=\"1\" class=\"dataframe\">\n",
       "  <thead>\n",
       "    <tr style=\"text-align: right;\">\n",
       "      <th></th>\n",
       "      <th>tran_id</th>\n",
       "      <th>acct_nbr</th>\n",
       "      <th>tran_amt</th>\n",
       "      <th>principal_amt</th>\n",
       "      <th>interest_amt</th>\n",
       "      <th>new_balance</th>\n",
       "      <th>tran_date</th>\n",
       "      <th>tran_time</th>\n",
       "      <th>channel</th>\n",
       "      <th>tran_code</th>\n",
       "    </tr>\n",
       "  </thead>\n",
       "  <tbody>\n",
       "    <tr>\n",
       "      <th>0</th>\n",
       "      <td>27</td>\n",
       "      <td>13625623</td>\n",
       "      <td>0.00</td>\n",
       "      <td>0.00</td>\n",
       "      <td>0.0</td>\n",
       "      <td>3753.34</td>\n",
       "      <td>21.10.1995</td>\n",
       "      <td>121656</td>\n",
       "      <td>A</td>\n",
       "      <td>IQ</td>\n",
       "    </tr>\n",
       "    <tr>\n",
       "      <th>1</th>\n",
       "      <td>97</td>\n",
       "      <td>13628392</td>\n",
       "      <td>0.00</td>\n",
       "      <td>0.00</td>\n",
       "      <td>0.0</td>\n",
       "      <td>254.49</td>\n",
       "      <td>5.2.1995</td>\n",
       "      <td>153053</td>\n",
       "      <td>V</td>\n",
       "      <td>IQ</td>\n",
       "    </tr>\n",
       "    <tr>\n",
       "      <th>2</th>\n",
       "      <td>21</td>\n",
       "      <td>13630842</td>\n",
       "      <td>-97.57</td>\n",
       "      <td>-97.57</td>\n",
       "      <td>0.0</td>\n",
       "      <td>3819.56</td>\n",
       "      <td>23.7.1995</td>\n",
       "      <td>0</td>\n",
       "      <td>P</td>\n",
       "      <td>WD</td>\n",
       "    </tr>\n",
       "    <tr>\n",
       "      <th>3</th>\n",
       "      <td>44</td>\n",
       "      <td>13631412</td>\n",
       "      <td>-0.15</td>\n",
       "      <td>-0.15</td>\n",
       "      <td>0.0</td>\n",
       "      <td>224.05</td>\n",
       "      <td>30.1.1995</td>\n",
       "      <td>0</td>\n",
       "      <td></td>\n",
       "      <td>FK</td>\n",
       "    </tr>\n",
       "    <tr>\n",
       "      <th>4</th>\n",
       "      <td>31</td>\n",
       "      <td>13625722</td>\n",
       "      <td>0.00</td>\n",
       "      <td>0.00</td>\n",
       "      <td>0.0</td>\n",
       "      <td>240.55</td>\n",
       "      <td>25.1.1995</td>\n",
       "      <td>204521</td>\n",
       "      <td>B</td>\n",
       "      <td>IQ</td>\n",
       "    </tr>\n",
       "  </tbody>\n",
       "</table>\n",
       "</div>"
      ],
      "text/plain": [
       "   tran_id  acct_nbr  tran_amt  principal_amt  interest_amt  new_balance  \\\n",
       "0       27  13625623      0.00           0.00           0.0      3753.34   \n",
       "1       97  13628392      0.00           0.00           0.0       254.49   \n",
       "2       21  13630842    -97.57         -97.57           0.0      3819.56   \n",
       "3       44  13631412     -0.15          -0.15           0.0       224.05   \n",
       "4       31  13625722      0.00           0.00           0.0       240.55   \n",
       "\n",
       "    tran_date  tran_time channel tran_code  \n",
       "0  21.10.1995     121656      A       IQ    \n",
       "1    5.2.1995     153053      V       IQ    \n",
       "2   23.7.1995          0      P       WD    \n",
       "3   30.1.1995          0              FK    \n",
       "4   25.1.1995     204521      B       IQ    "
      ]
     },
     "execution_count": 12,
     "metadata": {},
     "output_type": "execute_result"
    }
   ],
   "source": [
    "df_transactions = pd.read_csv('twm_transactions.csv', sep=';')\n",
    "df_transactions.head(5)"
   ]
  },
  {
   "cell_type": "code",
   "execution_count": 13,
   "id": "959cbc3e-64fd-4363-8e21-9a54a0e2ee0b",
   "metadata": {},
   "outputs": [
    {
     "name": "stdout",
     "output_type": "stream",
     "text": [
      "(77580, 10)\n",
      "tran_id          0\n",
      "acct_nbr         0\n",
      "tran_amt         0\n",
      "principal_amt    0\n",
      "interest_amt     0\n",
      "new_balance      0\n",
      "tran_date        0\n",
      "tran_time        0\n",
      "channel          0\n",
      "tran_code        0\n",
      "dtype: int64\n",
      "# of ACCOUNT numbers:  1398\n"
     ]
    }
   ],
   "source": [
    "print(df_transactions.shape)\n",
    "print(df_transactions.isnull().sum())\n",
    "print('# of ACCOUNT numbers: ', df_transactions['acct_nbr'].nunique())"
   ]
  },
  {
   "cell_type": "code",
   "execution_count": null,
   "id": "9d411c3d-4e10-43f7-ba67-08c62e749f3d",
   "metadata": {},
   "outputs": [],
   "source": []
  },
  {
   "cell_type": "code",
   "execution_count": null,
   "id": "f70b0422-aeae-4e28-bffe-3b58b2f61a1d",
   "metadata": {},
   "outputs": [],
   "source": []
  },
  {
   "cell_type": "code",
   "execution_count": 14,
   "id": "ec5ba98b-ea74-47a2-a1a3-b49028ddc3d2",
   "metadata": {},
   "outputs": [
    {
     "data": {
      "text/html": [
       "<div>\n",
       "<style scoped>\n",
       "    .dataframe tbody tr th:only-of-type {\n",
       "        vertical-align: middle;\n",
       "    }\n",
       "\n",
       "    .dataframe tbody tr th {\n",
       "        vertical-align: top;\n",
       "    }\n",
       "\n",
       "    .dataframe thead th {\n",
       "        text-align: right;\n",
       "    }\n",
       "</style>\n",
       "<table border=\"1\" class=\"dataframe\">\n",
       "  <thead>\n",
       "    <tr style=\"text-align: right;\">\n",
       "      <th></th>\n",
       "      <th>cust_id</th>\n",
       "      <th>tran_id</th>\n",
       "      <th>tran_amt</th>\n",
       "      <th>principal_amt</th>\n",
       "      <th>interest_amt</th>\n",
       "      <th>new_balance</th>\n",
       "      <th>tran_date</th>\n",
       "      <th>tran_time</th>\n",
       "      <th>channel</th>\n",
       "      <th>tran_code</th>\n",
       "    </tr>\n",
       "  </thead>\n",
       "  <tbody>\n",
       "    <tr>\n",
       "      <th>0</th>\n",
       "      <td>1363481</td>\n",
       "      <td>26</td>\n",
       "      <td>-0.15</td>\n",
       "      <td>-0.15</td>\n",
       "      <td>0.0</td>\n",
       "      <td>58.99</td>\n",
       "      <td>29.1.1995</td>\n",
       "      <td></td>\n",
       "      <td></td>\n",
       "      <td>FK</td>\n",
       "    </tr>\n",
       "    <tr>\n",
       "      <th>1</th>\n",
       "      <td>1362784</td>\n",
       "      <td>90</td>\n",
       "      <td>-200.00</td>\n",
       "      <td>-200.00</td>\n",
       "      <td>0.0</td>\n",
       "      <td>1380.69</td>\n",
       "      <td>2.7.1995</td>\n",
       "      <td>53313</td>\n",
       "      <td>A</td>\n",
       "      <td>WD</td>\n",
       "    </tr>\n",
       "    <tr>\n",
       "      <th>2</th>\n",
       "      <td>1363088</td>\n",
       "      <td>46</td>\n",
       "      <td>0.00</td>\n",
       "      <td>0.00</td>\n",
       "      <td>0.0</td>\n",
       "      <td>128.35</td>\n",
       "      <td>26.3.1995</td>\n",
       "      <td>834</td>\n",
       "      <td>A</td>\n",
       "      <td>IQ</td>\n",
       "    </tr>\n",
       "    <tr>\n",
       "      <th>3</th>\n",
       "      <td>1363306</td>\n",
       "      <td>32</td>\n",
       "      <td>-40.32</td>\n",
       "      <td>-40.32</td>\n",
       "      <td>0.0</td>\n",
       "      <td>433.06</td>\n",
       "      <td>29.1.1995</td>\n",
       "      <td></td>\n",
       "      <td>P</td>\n",
       "      <td>WD</td>\n",
       "    </tr>\n",
       "    <tr>\n",
       "      <th>4</th>\n",
       "      <td>1363251</td>\n",
       "      <td>11</td>\n",
       "      <td>-87.88</td>\n",
       "      <td>-87.88</td>\n",
       "      <td>0.0</td>\n",
       "      <td>1919.55</td>\n",
       "      <td>8.2.1995</td>\n",
       "      <td></td>\n",
       "      <td>P</td>\n",
       "      <td>WD</td>\n",
       "    </tr>\n",
       "  </tbody>\n",
       "</table>\n",
       "</div>"
      ],
      "text/plain": [
       "   cust_id  tran_id  tran_amt  principal_amt  interest_amt  new_balance  \\\n",
       "0  1363481       26     -0.15          -0.15           0.0        58.99   \n",
       "1  1362784       90   -200.00        -200.00           0.0      1380.69   \n",
       "2  1363088       46      0.00           0.00           0.0       128.35   \n",
       "3  1363306       32    -40.32         -40.32           0.0       433.06   \n",
       "4  1363251       11    -87.88         -87.88           0.0      1919.55   \n",
       "\n",
       "   tran_date     tran_time channel tran_code  \n",
       "0  29.1.1995                            FK    \n",
       "1   2.7.1995         53313      A       WD    \n",
       "2  26.3.1995           834      A       IQ    \n",
       "3  29.1.1995                    P       WD    \n",
       "4   8.2.1995                    P       WD    "
      ]
     },
     "execution_count": 14,
     "metadata": {},
     "output_type": "execute_result"
    }
   ],
   "source": [
    "df_checking_tran = pd.read_csv('twm_checking_tran.csv', sep=';')\n",
    "df_checking_tran.head(5)"
   ]
  },
  {
   "cell_type": "code",
   "execution_count": 15,
   "id": "d7d58586-20ef-4240-802b-bc3deffa119f",
   "metadata": {},
   "outputs": [
    {
     "name": "stdout",
     "output_type": "stream",
     "text": [
      "(46204, 10)\n",
      "cust_id          0\n",
      "tran_id          0\n",
      "tran_amt         0\n",
      "principal_amt    0\n",
      "interest_amt     0\n",
      "new_balance      0\n",
      "tran_date        0\n",
      "tran_time        0\n",
      "channel          0\n",
      "tran_code        0\n",
      "dtype: int64\n",
      "# of unique customer IDs:  520\n"
     ]
    }
   ],
   "source": [
    "print(df_checking_tran.shape)\n",
    "print(df_checking_tran.isnull().sum())\n",
    "print('# of unique customer IDs: ', df_checking_tran['cust_id'].nunique())"
   ]
  },
  {
   "cell_type": "code",
   "execution_count": null,
   "id": "cbd9f934-885d-47ef-9b43-b104d8e3c2e8",
   "metadata": {},
   "outputs": [],
   "source": []
  },
  {
   "cell_type": "code",
   "execution_count": null,
   "id": "e042bde4-1297-40b5-88a9-4f2630a191ea",
   "metadata": {},
   "outputs": [],
   "source": []
  },
  {
   "cell_type": "code",
   "execution_count": 16,
   "id": "3786d617-6ee7-4e64-b6c2-2e5bc6b2f3a7",
   "metadata": {},
   "outputs": [
    {
     "data": {
      "text/html": [
       "<div>\n",
       "<style scoped>\n",
       "    .dataframe tbody tr th:only-of-type {\n",
       "        vertical-align: middle;\n",
       "    }\n",
       "\n",
       "    .dataframe tbody tr th {\n",
       "        vertical-align: top;\n",
       "    }\n",
       "\n",
       "    .dataframe thead th {\n",
       "        text-align: right;\n",
       "    }\n",
       "</style>\n",
       "<table border=\"1\" class=\"dataframe\">\n",
       "  <thead>\n",
       "    <tr style=\"text-align: right;\">\n",
       "      <th></th>\n",
       "      <th>cust_id</th>\n",
       "      <th>tran_id</th>\n",
       "      <th>tran_amt</th>\n",
       "      <th>principal_amt</th>\n",
       "      <th>interest_amt</th>\n",
       "      <th>new_balance</th>\n",
       "      <th>tran_date</th>\n",
       "      <th>tran_time</th>\n",
       "      <th>channel</th>\n",
       "      <th>tran_code</th>\n",
       "    </tr>\n",
       "  </thead>\n",
       "  <tbody>\n",
       "    <tr>\n",
       "      <th>0</th>\n",
       "      <td>1363088</td>\n",
       "      <td>46</td>\n",
       "      <td>-121.49</td>\n",
       "      <td>-121.49</td>\n",
       "      <td>0.0</td>\n",
       "      <td>-141.00</td>\n",
       "      <td>20.10.1995</td>\n",
       "      <td>101144</td>\n",
       "      <td>E</td>\n",
       "      <td>CG</td>\n",
       "    </tr>\n",
       "    <tr>\n",
       "      <th>1</th>\n",
       "      <td>1363306</td>\n",
       "      <td>32</td>\n",
       "      <td>-220.64</td>\n",
       "      <td>-220.64</td>\n",
       "      <td>0.0</td>\n",
       "      <td>-520.13</td>\n",
       "      <td>13.10.1995</td>\n",
       "      <td>83115</td>\n",
       "      <td>E</td>\n",
       "      <td>CG</td>\n",
       "    </tr>\n",
       "    <tr>\n",
       "      <th>2</th>\n",
       "      <td>1362959</td>\n",
       "      <td>10</td>\n",
       "      <td>0.00</td>\n",
       "      <td>0.00</td>\n",
       "      <td>0.0</td>\n",
       "      <td>-3900.00</td>\n",
       "      <td>26.2.1995</td>\n",
       "      <td>84129</td>\n",
       "      <td>K</td>\n",
       "      <td>IQ</td>\n",
       "    </tr>\n",
       "    <tr>\n",
       "      <th>3</th>\n",
       "      <td>1363429</td>\n",
       "      <td>13</td>\n",
       "      <td>-195.27</td>\n",
       "      <td>-195.27</td>\n",
       "      <td>0.0</td>\n",
       "      <td>-1739.74</td>\n",
       "      <td>3.1.1995</td>\n",
       "      <td>191815</td>\n",
       "      <td>E</td>\n",
       "      <td>CG</td>\n",
       "    </tr>\n",
       "    <tr>\n",
       "      <th>4</th>\n",
       "      <td>1363393</td>\n",
       "      <td>14</td>\n",
       "      <td>-37.32</td>\n",
       "      <td>-37.32</td>\n",
       "      <td>0.0</td>\n",
       "      <td>-198.98</td>\n",
       "      <td>4.7.1995</td>\n",
       "      <td>100811</td>\n",
       "      <td>E</td>\n",
       "      <td>CG</td>\n",
       "    </tr>\n",
       "  </tbody>\n",
       "</table>\n",
       "</div>"
      ],
      "text/plain": [
       "   cust_id  tran_id  tran_amt  principal_amt  interest_amt  new_balance  \\\n",
       "0  1363088       46   -121.49        -121.49           0.0      -141.00   \n",
       "1  1363306       32   -220.64        -220.64           0.0      -520.13   \n",
       "2  1362959       10      0.00           0.00           0.0     -3900.00   \n",
       "3  1363429       13   -195.27        -195.27           0.0     -1739.74   \n",
       "4  1363393       14    -37.32         -37.32           0.0      -198.98   \n",
       "\n",
       "    tran_date tran_time channel tran_code  \n",
       "0  20.10.1995    101144      E       CG    \n",
       "1  13.10.1995     83115      E       CG    \n",
       "2   26.2.1995     84129      K       IQ    \n",
       "3    3.1.1995    191815      E       CG    \n",
       "4    4.7.1995    100811      E       CG    "
      ]
     },
     "execution_count": 16,
     "metadata": {},
     "output_type": "execute_result"
    }
   ],
   "source": [
    "df_credit_tran = pd.read_csv('twm_credit_tran.csv', sep=';')\n",
    "df_credit_tran.head(5)"
   ]
  },
  {
   "cell_type": "code",
   "execution_count": 17,
   "id": "1a566c97-7eaf-4c44-a2e4-34a8c071e7b6",
   "metadata": {},
   "outputs": [
    {
     "name": "stdout",
     "output_type": "stream",
     "text": [
      "(20167, 10)\n",
      "cust_id          0\n",
      "tran_id          0\n",
      "tran_amt         0\n",
      "principal_amt    0\n",
      "interest_amt     0\n",
      "new_balance      0\n",
      "tran_date        0\n",
      "tran_time        0\n",
      "channel          0\n",
      "tran_code        0\n",
      "dtype: int64\n",
      "# of unique customer IDs:  457\n"
     ]
    }
   ],
   "source": [
    "print(df_credit_tran.shape)\n",
    "print(df_credit_tran.isnull().sum())\n",
    "print('# of unique customer IDs: ', df_credit_tran['cust_id'].nunique())"
   ]
  },
  {
   "cell_type": "code",
   "execution_count": null,
   "id": "c2162434-f535-4eac-84f0-872f61bee1cd",
   "metadata": {},
   "outputs": [],
   "source": []
  },
  {
   "cell_type": "code",
   "execution_count": null,
   "id": "200361de-5c46-42a0-a43d-b7bd7b8d7890",
   "metadata": {},
   "outputs": [],
   "source": []
  },
  {
   "cell_type": "code",
   "execution_count": 18,
   "id": "8fc33535-cdc6-4ad0-8ec7-dc0844664ca9",
   "metadata": {},
   "outputs": [
    {
     "data": {
      "text/html": [
       "<div>\n",
       "<style scoped>\n",
       "    .dataframe tbody tr th:only-of-type {\n",
       "        vertical-align: middle;\n",
       "    }\n",
       "\n",
       "    .dataframe tbody tr th {\n",
       "        vertical-align: top;\n",
       "    }\n",
       "\n",
       "    .dataframe thead th {\n",
       "        text-align: right;\n",
       "    }\n",
       "</style>\n",
       "<table border=\"1\" class=\"dataframe\">\n",
       "  <thead>\n",
       "    <tr style=\"text-align: right;\">\n",
       "      <th></th>\n",
       "      <th>cust_id</th>\n",
       "      <th>tran_id</th>\n",
       "      <th>tran_amt</th>\n",
       "      <th>principal_amt</th>\n",
       "      <th>interest_amt</th>\n",
       "      <th>new_balance</th>\n",
       "      <th>tran_date</th>\n",
       "      <th>tran_time</th>\n",
       "      <th>channel</th>\n",
       "      <th>tran_code</th>\n",
       "    </tr>\n",
       "  </thead>\n",
       "  <tbody>\n",
       "    <tr>\n",
       "      <th>0</th>\n",
       "      <td>1363481</td>\n",
       "      <td>26</td>\n",
       "      <td>136.03</td>\n",
       "      <td>136.03</td>\n",
       "      <td>0.00</td>\n",
       "      <td>1521.57</td>\n",
       "      <td>26.10.1995</td>\n",
       "      <td>84111</td>\n",
       "      <td>A</td>\n",
       "      <td>DP</td>\n",
       "    </tr>\n",
       "    <tr>\n",
       "      <th>1</th>\n",
       "      <td>1362746</td>\n",
       "      <td>1</td>\n",
       "      <td>2.83</td>\n",
       "      <td>0.00</td>\n",
       "      <td>2.83</td>\n",
       "      <td>2265.90</td>\n",
       "      <td>31.1.1995</td>\n",
       "      <td>235959</td>\n",
       "      <td></td>\n",
       "      <td>IN</td>\n",
       "    </tr>\n",
       "    <tr>\n",
       "      <th>2</th>\n",
       "      <td>1363251</td>\n",
       "      <td>11</td>\n",
       "      <td>13.56</td>\n",
       "      <td>0.00</td>\n",
       "      <td>13.56</td>\n",
       "      <td>5438.90</td>\n",
       "      <td>30.4.1995</td>\n",
       "      <td>235959</td>\n",
       "      <td></td>\n",
       "      <td>IN</td>\n",
       "    </tr>\n",
       "    <tr>\n",
       "      <th>3</th>\n",
       "      <td>1362542</td>\n",
       "      <td>4</td>\n",
       "      <td>0.76</td>\n",
       "      <td>0.00</td>\n",
       "      <td>0.76</td>\n",
       "      <td>610.92</td>\n",
       "      <td>30.4.1995</td>\n",
       "      <td>235959</td>\n",
       "      <td></td>\n",
       "      <td>IN</td>\n",
       "    </tr>\n",
       "    <tr>\n",
       "      <th>4</th>\n",
       "      <td>1363387</td>\n",
       "      <td>11</td>\n",
       "      <td>148.69</td>\n",
       "      <td>148.69</td>\n",
       "      <td>0.00</td>\n",
       "      <td>470.05</td>\n",
       "      <td>21.5.1995</td>\n",
       "      <td>144736</td>\n",
       "      <td>E</td>\n",
       "      <td>DP</td>\n",
       "    </tr>\n",
       "  </tbody>\n",
       "</table>\n",
       "</div>"
      ],
      "text/plain": [
       "   cust_id  tran_id  tran_amt  principal_amt  interest_amt  new_balance  \\\n",
       "0  1363481       26    136.03         136.03          0.00      1521.57   \n",
       "1  1362746        1      2.83           0.00          2.83      2265.90   \n",
       "2  1363251       11     13.56           0.00         13.56      5438.90   \n",
       "3  1362542        4      0.76           0.00          0.76       610.92   \n",
       "4  1363387       11    148.69         148.69          0.00       470.05   \n",
       "\n",
       "    tran_date tran_time channel tran_code  \n",
       "0  26.10.1995     84111      A       DP    \n",
       "1   31.1.1995    235959              IN    \n",
       "2   30.4.1995    235959              IN    \n",
       "3   30.4.1995    235959              IN    \n",
       "4   21.5.1995    144736      E       DP    "
      ]
     },
     "execution_count": 18,
     "metadata": {},
     "output_type": "execute_result"
    }
   ],
   "source": [
    "df_savings_tran = pd.read_csv('twm_savings_tran.csv', sep=';')\n",
    "df_savings_tran.head(5)"
   ]
  },
  {
   "cell_type": "code",
   "execution_count": 19,
   "id": "046120fd-1137-4b62-8339-98765722b4d7",
   "metadata": {},
   "outputs": [
    {
     "name": "stdout",
     "output_type": "stream",
     "text": [
      "(11189, 10)\n",
      "cust_id          0\n",
      "tran_id          0\n",
      "tran_amt         0\n",
      "principal_amt    0\n",
      "interest_amt     0\n",
      "new_balance      0\n",
      "tran_date        0\n",
      "tran_time        0\n",
      "channel          0\n",
      "tran_code        0\n",
      "dtype: int64\n",
      "# of unique customer IDs:  420\n"
     ]
    }
   ],
   "source": [
    "print(df_savings_tran.shape)\n",
    "print(df_savings_tran.isnull().sum())\n",
    "print('# of unique customer IDs: ', df_savings_tran['cust_id'].nunique())"
   ]
  },
  {
   "cell_type": "code",
   "execution_count": null,
   "id": "d6494f05-a3cf-46a7-bd8c-3eeaab9b04a8",
   "metadata": {},
   "outputs": [],
   "source": []
  },
  {
   "cell_type": "code",
   "execution_count": null,
   "id": "6909d63c-363a-46a0-97e3-ff7a8a21adad",
   "metadata": {},
   "outputs": [],
   "source": []
  },
  {
   "cell_type": "markdown",
   "id": "d498377a-574b-4770-b981-c48f0db74897",
   "metadata": {},
   "source": [
    "# Analysis"
   ]
  },
  {
   "cell_type": "markdown",
   "id": "20ff5c88-48d9-4ca7-8c2c-123bb9a6b28c",
   "metadata": {},
   "source": [
    "Customer segmentation based on demographics:"
   ]
  },
  {
   "cell_type": "code",
   "execution_count": 20,
   "id": "e93abcc9-f873-4811-8193-313c0972decd",
   "metadata": {},
   "outputs": [
    {
     "data": {
      "text/html": [
       "<div>\n",
       "<style scoped>\n",
       "    .dataframe tbody tr th:only-of-type {\n",
       "        vertical-align: middle;\n",
       "    }\n",
       "\n",
       "    .dataframe tbody tr th {\n",
       "        vertical-align: top;\n",
       "    }\n",
       "\n",
       "    .dataframe thead th {\n",
       "        text-align: right;\n",
       "    }\n",
       "</style>\n",
       "<table border=\"1\" class=\"dataframe\">\n",
       "  <thead>\n",
       "    <tr style=\"text-align: right;\">\n",
       "      <th></th>\n",
       "      <th>cust_id</th>\n",
       "      <th>income</th>\n",
       "      <th>age</th>\n",
       "      <th>years_with_bank</th>\n",
       "      <th>nbr_children</th>\n",
       "      <th>gender</th>\n",
       "      <th>marital_status</th>\n",
       "      <th>name_prefix</th>\n",
       "      <th>first_name</th>\n",
       "      <th>last_name</th>\n",
       "      <th>street_nbr</th>\n",
       "      <th>street_name</th>\n",
       "      <th>postal_code</th>\n",
       "      <th>city_name</th>\n",
       "      <th>state_code</th>\n",
       "      <th>gender_num</th>\n",
       "    </tr>\n",
       "  </thead>\n",
       "  <tbody>\n",
       "    <tr>\n",
       "      <th>0</th>\n",
       "      <td>1362691</td>\n",
       "      <td>26150</td>\n",
       "      <td>46</td>\n",
       "      <td>5</td>\n",
       "      <td>1</td>\n",
       "      <td>M</td>\n",
       "      <td>2</td>\n",
       "      <td></td>\n",
       "      <td>Donald                                        ...</td>\n",
       "      <td>Marek                                         ...</td>\n",
       "      <td>8298</td>\n",
       "      <td>Second                                        ...</td>\n",
       "      <td>89194</td>\n",
       "      <td>Las Vegas</td>\n",
       "      <td>NV</td>\n",
       "      <td>0</td>\n",
       "    </tr>\n",
       "    <tr>\n",
       "      <th>1</th>\n",
       "      <td>1362487</td>\n",
       "      <td>6605</td>\n",
       "      <td>71</td>\n",
       "      <td>1</td>\n",
       "      <td>0</td>\n",
       "      <td>M</td>\n",
       "      <td>2</td>\n",
       "      <td></td>\n",
       "      <td>ChingDyi                                      ...</td>\n",
       "      <td>Moussavi                                      ...</td>\n",
       "      <td>10603</td>\n",
       "      <td>Daffodil                                      ...</td>\n",
       "      <td>90159</td>\n",
       "      <td>Los Angeles</td>\n",
       "      <td>CA</td>\n",
       "      <td>0</td>\n",
       "    </tr>\n",
       "    <tr>\n",
       "      <th>2</th>\n",
       "      <td>1363160</td>\n",
       "      <td>18548</td>\n",
       "      <td>38</td>\n",
       "      <td>8</td>\n",
       "      <td>0</td>\n",
       "      <td>F</td>\n",
       "      <td>1</td>\n",
       "      <td></td>\n",
       "      <td>Rosa                                          ...</td>\n",
       "      <td>Johnston                                      ...</td>\n",
       "      <td>8817</td>\n",
       "      <td>Figueroa                                      ...</td>\n",
       "      <td>90024</td>\n",
       "      <td>Los Angeles</td>\n",
       "      <td>CA</td>\n",
       "      <td>1</td>\n",
       "    </tr>\n",
       "    <tr>\n",
       "      <th>3</th>\n",
       "      <td>1362752</td>\n",
       "      <td>47668</td>\n",
       "      <td>54</td>\n",
       "      <td>3</td>\n",
       "      <td>0</td>\n",
       "      <td>F</td>\n",
       "      <td>1</td>\n",
       "      <td></td>\n",
       "      <td>Lisa                                          ...</td>\n",
       "      <td>Martin                                        ...</td>\n",
       "      <td>676</td>\n",
       "      <td>Humble                                        ...</td>\n",
       "      <td>90172</td>\n",
       "      <td>Los Angeles</td>\n",
       "      <td>CA</td>\n",
       "      <td>1</td>\n",
       "    </tr>\n",
       "    <tr>\n",
       "      <th>4</th>\n",
       "      <td>1362548</td>\n",
       "      <td>44554</td>\n",
       "      <td>59</td>\n",
       "      <td>9</td>\n",
       "      <td>2</td>\n",
       "      <td>F</td>\n",
       "      <td>4</td>\n",
       "      <td></td>\n",
       "      <td>Barbara                                       ...</td>\n",
       "      <td>O'Malley                                      ...</td>\n",
       "      <td>6578</td>\n",
       "      <td>C                                             ...</td>\n",
       "      <td>10138</td>\n",
       "      <td>New York City</td>\n",
       "      <td>NY</td>\n",
       "      <td>1</td>\n",
       "    </tr>\n",
       "  </tbody>\n",
       "</table>\n",
       "</div>"
      ],
      "text/plain": [
       "   cust_id  income  age  years_with_bank  nbr_children gender  marital_status  \\\n",
       "0  1362691   26150   46                5             1     M                2   \n",
       "1  1362487    6605   71                1             0     M                2   \n",
       "2  1363160   18548   38                8             0     F                1   \n",
       "3  1362752   47668   54                3             0     F                1   \n",
       "4  1362548   44554   59                9             2     F                4   \n",
       "\n",
       "  name_prefix                                         first_name  \\\n",
       "0              Donald                                        ...   \n",
       "1              ChingDyi                                      ...   \n",
       "2              Rosa                                          ...   \n",
       "3              Lisa                                          ...   \n",
       "4              Barbara                                       ...   \n",
       "\n",
       "                                           last_name  street_nbr  \\\n",
       "0  Marek                                         ...        8298   \n",
       "1  Moussavi                                      ...       10603   \n",
       "2  Johnston                                      ...        8817   \n",
       "3  Martin                                        ...         676   \n",
       "4  O'Malley                                      ...        6578   \n",
       "\n",
       "                                         street_name  postal_code  \\\n",
       "0  Second                                        ...        89194   \n",
       "1  Daffodil                                      ...        90159   \n",
       "2  Figueroa                                      ...        90024   \n",
       "3  Humble                                        ...        90172   \n",
       "4  C                                             ...        10138   \n",
       "\n",
       "                                  city_name state_code  gender_num  \n",
       "0  Las Vegas                                      NV             0  \n",
       "1  Los Angeles                                    CA             0  \n",
       "2  Los Angeles                                    CA             1  \n",
       "3  Los Angeles                                    CA             1  \n",
       "4  New York City                                  NY             1  "
      ]
     },
     "execution_count": 20,
     "metadata": {},
     "output_type": "execute_result"
    }
   ],
   "source": [
    "df_customer2 = df_customer.copy()\n",
    "df_customer2['gender_num'] = df_customer2.apply(lambda row: 0 if row['gender']=='M ' else 1, axis=1)\n",
    "df_customer2.head(5)"
   ]
  },
  {
   "cell_type": "code",
   "execution_count": null,
   "id": "99d8c8d3-dcf1-467b-93b5-ca36b70cdfd5",
   "metadata": {},
   "outputs": [],
   "source": []
  },
  {
   "cell_type": "code",
   "execution_count": 198,
   "id": "f5789cea-a630-4d74-9cbc-262642d3f0a6",
   "metadata": {},
   "outputs": [],
   "source": [
    "def plot_distortion(dataframe_name, max_clusters = 10):\n",
    "    distortions = []\n",
    "    \n",
    "    scaler = MinMaxScaler()\n",
    "    df_seg_scaled = pd.DataFrame(scaler.fit_transform(df_seg_full.astype(float)))\n",
    "    #df_seg_scaled['Cluster'] = KMeans(n_clusters=3, n_init=10).fit_predict(df_seg_scaled)\n",
    "    \n",
    "    X = df_seg_scaled.to_numpy()\n",
    "    \n",
    "    for i in range(1, max_clusters +1):\n",
    "        km = KMeans(n_clusters=i,\n",
    "                    init='k-means++',\n",
    "                    n_init=10,\n",
    "                    random_state=0)\n",
    "        km.fit(X)\n",
    "        distortions.append(km.inertia_)\n",
    "\n",
    "    plt.plot(range(1,max_clusters +1), distortions, marker='o')\n",
    "    plt.xlabel('Number of clusters')\n",
    "    plt.ylabel('Distortion')\n",
    "    plt.title('Distortion Plot')\n",
    "    plt.show() "
   ]
  },
  {
   "cell_type": "code",
   "execution_count": 199,
   "id": "4424aa49-95a9-42ab-99f2-1ea55321e880",
   "metadata": {},
   "outputs": [
    {
     "data": {
      "image/png": "[encoded data removed]",
      "text/plain": [
       "<Figure size 432x288 with 1 Axes>"
      ]
     },
     "metadata": {
      "needs_background": "light"
     },
     "output_type": "display_data"
    }
   ],
   "source": [
    "plot_distortion(df_seg_full)"
   ]
  },
  {
   "cell_type": "code",
   "execution_count": null,
   "id": "d74dd619-5564-4438-8eae-f3b83807402d",
   "metadata": {},
   "outputs": [],
   "source": []
  },
  {
   "cell_type": "code",
   "execution_count": 23,
   "id": "d21482f1-c729-4b85-9a9b-2c120c1ff000",
   "metadata": {},
   "outputs": [],
   "source": [
    "def plot_clusters(dataframe_name, cols, num_clusters, plt_cluster_centers = False):\n",
    "    # cols = list of two column numbers\n",
    "    \n",
    "    scaler = StandardScaler()\n",
    "    df_customer_scaled = pd.DataFrame(scaler.fit_transform(dataframe_name.iloc[:,cols].astype(float)))\n",
    "    X = df_customer_scaled.to_numpy()\n",
    "    \n",
    "    col1_title = dataframe_name.columns[cols[0]]\n",
    "    col2_title = dataframe_name.columns[cols[1]]\n",
    "    \n",
    "    km = KMeans(n_clusters=num_clusters, n_init=10, random_state=0)\n",
    "    y_res = km.fit_predict(X)\n",
    "    \n",
    "    X_centroids = []\n",
    "    Y_centroids = []\n",
    "    \n",
    "    for cluster in set(y_res):\n",
    "        x = X[y_res == cluster, 0]\n",
    "        y = X[y_res == cluster, 1]\n",
    "        X_centroids.append(np.mean(x))\n",
    "        Y_centroids.append(np.mean(y))\n",
    "        \n",
    "        \n",
    "        plt.scatter(x, y, s=50, marker='s', label = f'cluster {cluster}')\n",
    "    \n",
    "    if plt_cluster_centers:\n",
    "        plt.scatter(X_centroids, Y_centroids, marker = '*', c = 'red', s = 250, label = 'centroids')\n",
    "    \n",
    "    plt.legend()\n",
    "    plt.grid()\n",
    "    plt.title(f'KMeans Clustering of {col1_title} and {col2_title}')\n",
    "    \n",
    "    #plt.rcParams[\"figure.figsize\"] = (6,4)\n",
    "    \n",
    "    return"
   ]
  },
  {
   "cell_type": "code",
   "execution_count": null,
   "id": "076aced7-8997-4040-b77a-cb502ce69ed5",
   "metadata": {},
   "outputs": [],
   "source": []
  },
  {
   "cell_type": "markdown",
   "id": "4acb8791-1ce2-44b0-b5e4-b39adf072393",
   "metadata": {},
   "source": [
    "Customer segmentation based on their banking behavior:"
   ]
  },
  {
   "cell_type": "code",
   "execution_count": 25,
   "id": "29d22974-8332-453b-89be-641118393c6a",
   "metadata": {},
   "outputs": [
    {
     "data": {
      "text/plain": [
       "cust_id            665\n",
       "income             581\n",
       "age                 76\n",
       "gender               2\n",
       "nbr_children         6\n",
       "marital_status       4\n",
       "acct_nbr          1409\n",
       "acct_type            3\n",
       "acct_end_date      120\n",
       "ending_balance    1213\n",
       "dtype: int64"
      ]
     },
     "execution_count": 25,
     "metadata": {},
     "output_type": "execute_result"
    }
   ],
   "source": [
    "df_cust_accounts = pd.merge(df_customer,df_accounts,on='cust_id')[['cust_id','income','age','gender','nbr_children','marital_status',\n",
    "                                                                   'acct_nbr','acct_type','acct_end_date',\n",
    "                                                                   'ending_balance']]\n",
    "df_cust_accounts.nunique()"
   ]
  },
  {
   "cell_type": "code",
   "execution_count": 26,
   "id": "701ab96b-c37a-4ff8-ba31-1ef11bf3187c",
   "metadata": {},
   "outputs": [],
   "source": [
    "df_cust_accounts['acct_type'].value_counts()\n",
    "#CC = credit\n",
    "#CK = checking\n",
    "#SV = savings\n",
    "df_cust_accounts['credit_balance'] = df_cust_accounts['ending_balance'][df_cust_accounts['acct_type']=='CC  ']\n",
    "df_cust_accounts['checking_balance'] = df_cust_accounts['ending_balance'][df_cust_accounts['acct_type']=='CK  ']\n",
    "df_cust_accounts['savings_balance'] = df_cust_accounts['ending_balance'][df_cust_accounts['acct_type']=='SV  ']"
   ]
  },
  {
   "cell_type": "code",
   "execution_count": 27,
   "id": "b7fe352f-4470-44a6-b3c0-da363f476368",
   "metadata": {},
   "outputs": [
    {
     "data": {
      "text/html": [
       "<div>\n",
       "<style scoped>\n",
       "    .dataframe tbody tr th:only-of-type {\n",
       "        vertical-align: middle;\n",
       "    }\n",
       "\n",
       "    .dataframe tbody tr th {\n",
       "        vertical-align: top;\n",
       "    }\n",
       "\n",
       "    .dataframe thead th {\n",
       "        text-align: right;\n",
       "    }\n",
       "</style>\n",
       "<table border=\"1\" class=\"dataframe\">\n",
       "  <thead>\n",
       "    <tr style=\"text-align: right;\">\n",
       "      <th></th>\n",
       "      <th>cust_id</th>\n",
       "      <th>income</th>\n",
       "      <th>age</th>\n",
       "      <th>gender</th>\n",
       "      <th>nbr_children</th>\n",
       "      <th>marital_status</th>\n",
       "      <th>credit_balance</th>\n",
       "      <th>checking_balance</th>\n",
       "      <th>savings_balance</th>\n",
       "      <th>total_balance</th>\n",
       "    </tr>\n",
       "  </thead>\n",
       "  <tbody>\n",
       "    <tr>\n",
       "      <th>0</th>\n",
       "      <td>1362480</td>\n",
       "      <td>50890</td>\n",
       "      <td>33</td>\n",
       "      <td>M</td>\n",
       "      <td>2</td>\n",
       "      <td>2</td>\n",
       "      <td>20.0</td>\n",
       "      <td>86.86</td>\n",
       "      <td>1187.97</td>\n",
       "      <td>1254.83</td>\n",
       "    </tr>\n",
       "  </tbody>\n",
       "</table>\n",
       "</div>"
      ],
      "text/plain": [
       "   cust_id  income  age gender  nbr_children  marital_status  credit_balance  \\\n",
       "0  1362480   50890   33     M              2               2            20.0   \n",
       "\n",
       "   checking_balance  savings_balance  total_balance  \n",
       "0             86.86          1187.97        1254.83  "
      ]
     },
     "execution_count": 27,
     "metadata": {},
     "output_type": "execute_result"
    }
   ],
   "source": [
    "#df_cust_accounts['ending_balance'][df_cust_accounts['acct_type']=='CK  ']\n",
    "df_cust_info = df_cust_accounts.loc[:,~df_cust_accounts.columns.isin(['acct_nbr','ending_balance','acct_end_date','acct_type'])]\n",
    "df_cust_info = df_cust_info.groupby(['cust_id','income','age','gender','nbr_children','marital_status']).sum().reset_index()\n",
    "df_cust_info['total_balance'] = df_cust_info['checking_balance']+df_cust_info['savings_balance']-df_cust_info['credit_balance']\n",
    "df_cust_info[df_cust_info['cust_id']==1362480]\n",
    "#df_cust_info.head()"
   ]
  },
  {
   "cell_type": "code",
   "execution_count": 28,
   "id": "45357ba0-67ff-4305-b46d-b0fc5ae014a4",
   "metadata": {},
   "outputs": [
    {
     "data": {
      "text/html": [
       "<div>\n",
       "<style scoped>\n",
       "    .dataframe tbody tr th:only-of-type {\n",
       "        vertical-align: middle;\n",
       "    }\n",
       "\n",
       "    .dataframe tbody tr th {\n",
       "        vertical-align: top;\n",
       "    }\n",
       "\n",
       "    .dataframe thead th {\n",
       "        text-align: right;\n",
       "    }\n",
       "</style>\n",
       "<table border=\"1\" class=\"dataframe\">\n",
       "  <thead>\n",
       "    <tr style=\"text-align: right;\">\n",
       "      <th></th>\n",
       "      <th></th>\n",
       "      <th>acct_nbr</th>\n",
       "    </tr>\n",
       "    <tr>\n",
       "      <th>cust_id</th>\n",
       "      <th>acct_type</th>\n",
       "      <th></th>\n",
       "    </tr>\n",
       "  </thead>\n",
       "  <tbody>\n",
       "  </tbody>\n",
       "</table>\n",
       "</div>"
      ],
      "text/plain": [
       "Empty DataFrame\n",
       "Columns: [acct_nbr]\n",
       "Index: []"
      ]
     },
     "execution_count": 28,
     "metadata": {},
     "output_type": "execute_result"
    }
   ],
   "source": [
    "df_n = df_cust_accounts[['cust_id','acct_type','acct_nbr']].groupby(['cust_id','acct_type']).count()\n",
    "df_n[df_n['acct_nbr']>1]"
   ]
  },
  {
   "cell_type": "code",
   "execution_count": 29,
   "id": "ea211435-de8e-47dd-81a4-84ee8481ec8a",
   "metadata": {},
   "outputs": [
    {
     "data": {
      "text/html": [
       "<div>\n",
       "<style scoped>\n",
       "    .dataframe tbody tr th:only-of-type {\n",
       "        vertical-align: middle;\n",
       "    }\n",
       "\n",
       "    .dataframe tbody tr th {\n",
       "        vertical-align: top;\n",
       "    }\n",
       "\n",
       "    .dataframe thead th {\n",
       "        text-align: right;\n",
       "    }\n",
       "</style>\n",
       "<table border=\"1\" class=\"dataframe\">\n",
       "  <thead>\n",
       "    <tr style=\"text-align: right;\">\n",
       "      <th></th>\n",
       "      <th>acct_nbr</th>\n",
       "      <th>cust_id</th>\n",
       "      <th>acct_type</th>\n",
       "      <th>account_active</th>\n",
       "      <th>acct_start_date</th>\n",
       "      <th>acct_end_date</th>\n",
       "      <th>starting_balance</th>\n",
       "      <th>ending_balance</th>\n",
       "    </tr>\n",
       "  </thead>\n",
       "  <tbody>\n",
       "    <tr>\n",
       "      <th>1012</th>\n",
       "      <td>13624802</td>\n",
       "      <td>1362480</td>\n",
       "      <td>CK</td>\n",
       "      <td>Y</td>\n",
       "      <td>23.12.1992</td>\n",
       "      <td>NaN</td>\n",
       "      <td>331.85</td>\n",
       "      <td>86.86</td>\n",
       "    </tr>\n",
       "    <tr>\n",
       "      <th>1217</th>\n",
       "      <td>4561143213624800</td>\n",
       "      <td>1362480</td>\n",
       "      <td>CC</td>\n",
       "      <td>N</td>\n",
       "      <td>23.12.1992</td>\n",
       "      <td>15.12.1995</td>\n",
       "      <td>1607.40</td>\n",
       "      <td>20.00</td>\n",
       "    </tr>\n",
       "    <tr>\n",
       "      <th>1399</th>\n",
       "      <td>13624803</td>\n",
       "      <td>1362480</td>\n",
       "      <td>SV</td>\n",
       "      <td>Y</td>\n",
       "      <td>23.12.1992</td>\n",
       "      <td>NaN</td>\n",
       "      <td>707.09</td>\n",
       "      <td>1187.97</td>\n",
       "    </tr>\n",
       "  </tbody>\n",
       "</table>\n",
       "</div>"
      ],
      "text/plain": [
       "              acct_nbr  cust_id acct_type account_active acct_start_date  \\\n",
       "1012          13624802  1362480      CK               Y       23.12.1992   \n",
       "1217  4561143213624800  1362480      CC               N       23.12.1992   \n",
       "1399          13624803  1362480      SV               Y       23.12.1992   \n",
       "\n",
       "     acct_end_date  starting_balance  ending_balance  \n",
       "1012           NaN            331.85           86.86  \n",
       "1217    15.12.1995           1607.40           20.00  \n",
       "1399           NaN            707.09         1187.97  "
      ]
     },
     "execution_count": 29,
     "metadata": {},
     "output_type": "execute_result"
    }
   ],
   "source": [
    "df_accounts[df_accounts['cust_id'] == 1362480]"
   ]
  },
  {
   "cell_type": "code",
   "execution_count": 30,
   "id": "264adf42-6d34-46e2-8502-5b01c32cd8a6",
   "metadata": {},
   "outputs": [],
   "source": [
    "df_sv_counts = df_savings_tran[['cust_id','tran_id']].groupby('cust_id').count().reset_index()\n",
    "df_cc_counts = df_credit_tran[['cust_id','tran_id']].groupby('cust_id').count().reset_index()\n",
    "df_ck_counts = df_checking_tran[['cust_id','tran_id']].groupby('cust_id').count().reset_index()"
   ]
  },
  {
   "cell_type": "code",
   "execution_count": 31,
   "id": "e884ad24-5031-4c9e-9592-8c5c5b0669c5",
   "metadata": {},
   "outputs": [
    {
     "data": {
      "text/html": [
       "<div>\n",
       "<style scoped>\n",
       "    .dataframe tbody tr th:only-of-type {\n",
       "        vertical-align: middle;\n",
       "    }\n",
       "\n",
       "    .dataframe tbody tr th {\n",
       "        vertical-align: top;\n",
       "    }\n",
       "\n",
       "    .dataframe thead th {\n",
       "        text-align: right;\n",
       "    }\n",
       "</style>\n",
       "<table border=\"1\" class=\"dataframe\">\n",
       "  <thead>\n",
       "    <tr style=\"text-align: right;\">\n",
       "      <th></th>\n",
       "      <th>cust_id</th>\n",
       "      <th>income</th>\n",
       "      <th>age</th>\n",
       "      <th>gender</th>\n",
       "      <th>nbr_children</th>\n",
       "      <th>marital_status</th>\n",
       "      <th>credit_balance</th>\n",
       "      <th>checking_balance</th>\n",
       "      <th>savings_balance</th>\n",
       "      <th>total_balance</th>\n",
       "    </tr>\n",
       "  </thead>\n",
       "  <tbody>\n",
       "    <tr>\n",
       "      <th>0</th>\n",
       "      <td>1362480</td>\n",
       "      <td>50890</td>\n",
       "      <td>33</td>\n",
       "      <td>M</td>\n",
       "      <td>2</td>\n",
       "      <td>2</td>\n",
       "      <td>20.00</td>\n",
       "      <td>86.86</td>\n",
       "      <td>1187.97</td>\n",
       "      <td>1254.83</td>\n",
       "    </tr>\n",
       "    <tr>\n",
       "      <th>1</th>\n",
       "      <td>1362484</td>\n",
       "      <td>10053</td>\n",
       "      <td>42</td>\n",
       "      <td>F</td>\n",
       "      <td>0</td>\n",
       "      <td>1</td>\n",
       "      <td>369.72</td>\n",
       "      <td>95.32</td>\n",
       "      <td>2122.17</td>\n",
       "      <td>1847.77</td>\n",
       "    </tr>\n",
       "    <tr>\n",
       "      <th>2</th>\n",
       "      <td>1362485</td>\n",
       "      <td>22690</td>\n",
       "      <td>25</td>\n",
       "      <td>F</td>\n",
       "      <td>0</td>\n",
       "      <td>1</td>\n",
       "      <td>1100.00</td>\n",
       "      <td>45.49</td>\n",
       "      <td>0.00</td>\n",
       "      <td>-1054.51</td>\n",
       "    </tr>\n",
       "    <tr>\n",
       "      <th>3</th>\n",
       "      <td>1362486</td>\n",
       "      <td>10701</td>\n",
       "      <td>76</td>\n",
       "      <td>F</td>\n",
       "      <td>0</td>\n",
       "      <td>3</td>\n",
       "      <td>0.00</td>\n",
       "      <td>3312.27</td>\n",
       "      <td>116.24</td>\n",
       "      <td>3428.51</td>\n",
       "    </tr>\n",
       "    <tr>\n",
       "      <th>4</th>\n",
       "      <td>1362487</td>\n",
       "      <td>6605</td>\n",
       "      <td>71</td>\n",
       "      <td>M</td>\n",
       "      <td>0</td>\n",
       "      <td>2</td>\n",
       "      <td>1548.23</td>\n",
       "      <td>1401.21</td>\n",
       "      <td>12.89</td>\n",
       "      <td>-134.13</td>\n",
       "    </tr>\n",
       "    <tr>\n",
       "      <th>...</th>\n",
       "      <td>...</td>\n",
       "      <td>...</td>\n",
       "      <td>...</td>\n",
       "      <td>...</td>\n",
       "      <td>...</td>\n",
       "      <td>...</td>\n",
       "      <td>...</td>\n",
       "      <td>...</td>\n",
       "      <td>...</td>\n",
       "      <td>...</td>\n",
       "    </tr>\n",
       "    <tr>\n",
       "      <th>660</th>\n",
       "      <td>1363490</td>\n",
       "      <td>0</td>\n",
       "      <td>15</td>\n",
       "      <td>F</td>\n",
       "      <td>0</td>\n",
       "      <td>1</td>\n",
       "      <td>0.00</td>\n",
       "      <td>0.00</td>\n",
       "      <td>2301.53</td>\n",
       "      <td>2301.53</td>\n",
       "    </tr>\n",
       "    <tr>\n",
       "      <th>661</th>\n",
       "      <td>1363491</td>\n",
       "      <td>0</td>\n",
       "      <td>14</td>\n",
       "      <td>M</td>\n",
       "      <td>0</td>\n",
       "      <td>1</td>\n",
       "      <td>0.00</td>\n",
       "      <td>0.00</td>\n",
       "      <td>17.82</td>\n",
       "      <td>17.82</td>\n",
       "    </tr>\n",
       "    <tr>\n",
       "      <th>662</th>\n",
       "      <td>1363492</td>\n",
       "      <td>142274</td>\n",
       "      <td>54</td>\n",
       "      <td>M</td>\n",
       "      <td>0</td>\n",
       "      <td>3</td>\n",
       "      <td>6869.00</td>\n",
       "      <td>106.14</td>\n",
       "      <td>1116.10</td>\n",
       "      <td>-5646.76</td>\n",
       "    </tr>\n",
       "    <tr>\n",
       "      <th>663</th>\n",
       "      <td>1363493</td>\n",
       "      <td>30068</td>\n",
       "      <td>69</td>\n",
       "      <td>M</td>\n",
       "      <td>0</td>\n",
       "      <td>2</td>\n",
       "      <td>0.00</td>\n",
       "      <td>2053.90</td>\n",
       "      <td>553.61</td>\n",
       "      <td>2607.51</td>\n",
       "    </tr>\n",
       "    <tr>\n",
       "      <th>664</th>\n",
       "      <td>1363495</td>\n",
       "      <td>19639</td>\n",
       "      <td>36</td>\n",
       "      <td>F</td>\n",
       "      <td>3</td>\n",
       "      <td>3</td>\n",
       "      <td>0.00</td>\n",
       "      <td>178.50</td>\n",
       "      <td>2783.16</td>\n",
       "      <td>2961.66</td>\n",
       "    </tr>\n",
       "  </tbody>\n",
       "</table>\n",
       "<p>665 rows × 10 columns</p>\n",
       "</div>"
      ],
      "text/plain": [
       "     cust_id  income  age gender  nbr_children  marital_status  \\\n",
       "0    1362480   50890   33     M              2               2   \n",
       "1    1362484   10053   42     F              0               1   \n",
       "2    1362485   22690   25     F              0               1   \n",
       "3    1362486   10701   76     F              0               3   \n",
       "4    1362487    6605   71     M              0               2   \n",
       "..       ...     ...  ...    ...           ...             ...   \n",
       "660  1363490       0   15     F              0               1   \n",
       "661  1363491       0   14     M              0               1   \n",
       "662  1363492  142274   54     M              0               3   \n",
       "663  1363493   30068   69     M              0               2   \n",
       "664  1363495   19639   36     F              3               3   \n",
       "\n",
       "     credit_balance  checking_balance  savings_balance  total_balance  \n",
       "0             20.00             86.86          1187.97        1254.83  \n",
       "1            369.72             95.32          2122.17        1847.77  \n",
       "2           1100.00             45.49             0.00       -1054.51  \n",
       "3              0.00           3312.27           116.24        3428.51  \n",
       "4           1548.23           1401.21            12.89        -134.13  \n",
       "..              ...               ...              ...            ...  \n",
       "660            0.00              0.00          2301.53        2301.53  \n",
       "661            0.00              0.00            17.82          17.82  \n",
       "662         6869.00            106.14          1116.10       -5646.76  \n",
       "663            0.00           2053.90           553.61        2607.51  \n",
       "664            0.00            178.50          2783.16        2961.66  \n",
       "\n",
       "[665 rows x 10 columns]"
      ]
     },
     "execution_count": 31,
     "metadata": {},
     "output_type": "execute_result"
    }
   ],
   "source": [
    "df_cust_info"
   ]
  },
  {
   "cell_type": "markdown",
   "id": "4cb5ed92-f8b2-4f53-bb0c-84635525d41a",
   "metadata": {},
   "source": [
    "### Transactions analysis"
   ]
  },
  {
   "cell_type": "code",
   "execution_count": 38,
   "id": "b6b99017-c384-4899-ae04-3922650b81ae",
   "metadata": {},
   "outputs": [],
   "source": [
    "df_transactions2 = df_transactions.copy()"
   ]
  },
  {
   "cell_type": "code",
   "execution_count": 39,
   "id": "a21257e8-27b3-41b6-ab94-c50f84e46ccc",
   "metadata": {},
   "outputs": [
    {
     "data": {
      "text/html": [
       "<div>\n",
       "<style scoped>\n",
       "    .dataframe tbody tr th:only-of-type {\n",
       "        vertical-align: middle;\n",
       "    }\n",
       "\n",
       "    .dataframe tbody tr th {\n",
       "        vertical-align: top;\n",
       "    }\n",
       "\n",
       "    .dataframe thead th {\n",
       "        text-align: right;\n",
       "    }\n",
       "</style>\n",
       "<table border=\"1\" class=\"dataframe\">\n",
       "  <thead>\n",
       "    <tr style=\"text-align: right;\">\n",
       "      <th></th>\n",
       "      <th>tran_id</th>\n",
       "      <th>acct_nbr</th>\n",
       "      <th>tran_amt</th>\n",
       "      <th>principal_amt</th>\n",
       "      <th>interest_amt</th>\n",
       "      <th>new_balance</th>\n",
       "      <th>tran_date</th>\n",
       "      <th>tran_time</th>\n",
       "      <th>channel</th>\n",
       "      <th>tran_code</th>\n",
       "    </tr>\n",
       "  </thead>\n",
       "  <tbody>\n",
       "    <tr>\n",
       "      <th>0</th>\n",
       "      <td>27</td>\n",
       "      <td>13625623</td>\n",
       "      <td>0.00</td>\n",
       "      <td>0.00</td>\n",
       "      <td>0.0</td>\n",
       "      <td>3753.34</td>\n",
       "      <td>21.10.1995</td>\n",
       "      <td>121656</td>\n",
       "      <td>A</td>\n",
       "      <td>IQ</td>\n",
       "    </tr>\n",
       "    <tr>\n",
       "      <th>1</th>\n",
       "      <td>97</td>\n",
       "      <td>13628392</td>\n",
       "      <td>0.00</td>\n",
       "      <td>0.00</td>\n",
       "      <td>0.0</td>\n",
       "      <td>254.49</td>\n",
       "      <td>5.2.1995</td>\n",
       "      <td>153053</td>\n",
       "      <td>V</td>\n",
       "      <td>IQ</td>\n",
       "    </tr>\n",
       "    <tr>\n",
       "      <th>2</th>\n",
       "      <td>21</td>\n",
       "      <td>13630842</td>\n",
       "      <td>-97.57</td>\n",
       "      <td>-97.57</td>\n",
       "      <td>0.0</td>\n",
       "      <td>3819.56</td>\n",
       "      <td>23.7.1995</td>\n",
       "      <td>0</td>\n",
       "      <td>P</td>\n",
       "      <td>WD</td>\n",
       "    </tr>\n",
       "  </tbody>\n",
       "</table>\n",
       "</div>"
      ],
      "text/plain": [
       "   tran_id  acct_nbr  tran_amt  principal_amt  interest_amt  new_balance  \\\n",
       "0       27  13625623      0.00           0.00           0.0      3753.34   \n",
       "1       97  13628392      0.00           0.00           0.0       254.49   \n",
       "2       21  13630842    -97.57         -97.57           0.0      3819.56   \n",
       "\n",
       "    tran_date  tran_time channel tran_code  \n",
       "0  21.10.1995     121656      A       IQ    \n",
       "1    5.2.1995     153053      V       IQ    \n",
       "2   23.7.1995          0      P       WD    "
      ]
     },
     "execution_count": 39,
     "metadata": {},
     "output_type": "execute_result"
    }
   ],
   "source": [
    "df_transactions2.head(3)"
   ]
  },
  {
   "cell_type": "code",
   "execution_count": 40,
   "id": "167e8c81-ec47-48f6-83d4-15309b30a756",
   "metadata": {
    "tags": []
   },
   "outputs": [],
   "source": [
    "df_count_transacations = df_transactions2.groupby('acct_nbr').count()['tran_amt'].reset_index()\n",
    "df_count_transacations = df_count_transacations.rename(columns={'tran_amt':'count_tran_amt'})\n",
    "df_count_transacations;"
   ]
  },
  {
   "cell_type": "code",
   "execution_count": 41,
   "id": "70444561-859a-48c2-8005-ffb6c3199649",
   "metadata": {
    "tags": []
   },
   "outputs": [
    {
     "data": {
      "text/html": [
       "<div>\n",
       "<style scoped>\n",
       "    .dataframe tbody tr th:only-of-type {\n",
       "        vertical-align: middle;\n",
       "    }\n",
       "\n",
       "    .dataframe tbody tr th {\n",
       "        vertical-align: top;\n",
       "    }\n",
       "\n",
       "    .dataframe thead th {\n",
       "        text-align: right;\n",
       "    }\n",
       "</style>\n",
       "<table border=\"1\" class=\"dataframe\">\n",
       "  <thead>\n",
       "    <tr style=\"text-align: right;\">\n",
       "      <th></th>\n",
       "      <th>acct_nbr</th>\n",
       "      <th>avg_tran_amt</th>\n",
       "      <th>count_tran_amt</th>\n",
       "    </tr>\n",
       "  </thead>\n",
       "  <tbody>\n",
       "    <tr>\n",
       "      <th>0</th>\n",
       "      <td>13624802</td>\n",
       "      <td>-2.474646</td>\n",
       "      <td>99</td>\n",
       "    </tr>\n",
       "    <tr>\n",
       "      <th>1</th>\n",
       "      <td>13624803</td>\n",
       "      <td>18.550769</td>\n",
       "      <td>26</td>\n",
       "    </tr>\n",
       "    <tr>\n",
       "      <th>2</th>\n",
       "      <td>13624842</td>\n",
       "      <td>-25.435758</td>\n",
       "      <td>99</td>\n",
       "    </tr>\n",
       "    <tr>\n",
       "      <th>3</th>\n",
       "      <td>13624843</td>\n",
       "      <td>58.474545</td>\n",
       "      <td>33</td>\n",
       "    </tr>\n",
       "    <tr>\n",
       "      <th>4</th>\n",
       "      <td>13624852</td>\n",
       "      <td>-1.659495</td>\n",
       "      <td>99</td>\n",
       "    </tr>\n",
       "    <tr>\n",
       "      <th>...</th>\n",
       "      <td>...</td>\n",
       "      <td>...</td>\n",
       "      <td>...</td>\n",
       "    </tr>\n",
       "    <tr>\n",
       "      <th>1393</th>\n",
       "      <td>4561143213634830</td>\n",
       "      <td>0.334805</td>\n",
       "      <td>77</td>\n",
       "    </tr>\n",
       "    <tr>\n",
       "      <th>1394</th>\n",
       "      <td>4561143213634840</td>\n",
       "      <td>12.080513</td>\n",
       "      <td>39</td>\n",
       "    </tr>\n",
       "    <tr>\n",
       "      <th>1395</th>\n",
       "      <td>4561143213634850</td>\n",
       "      <td>139.239565</td>\n",
       "      <td>23</td>\n",
       "    </tr>\n",
       "    <tr>\n",
       "      <th>1396</th>\n",
       "      <td>4561143213634860</td>\n",
       "      <td>0.000000</td>\n",
       "      <td>38</td>\n",
       "    </tr>\n",
       "    <tr>\n",
       "      <th>1397</th>\n",
       "      <td>4561143213634920</td>\n",
       "      <td>-61.280690</td>\n",
       "      <td>29</td>\n",
       "    </tr>\n",
       "  </tbody>\n",
       "</table>\n",
       "<p>1398 rows × 3 columns</p>\n",
       "</div>"
      ],
      "text/plain": [
       "              acct_nbr  avg_tran_amt  count_tran_amt\n",
       "0             13624802     -2.474646              99\n",
       "1             13624803     18.550769              26\n",
       "2             13624842    -25.435758              99\n",
       "3             13624843     58.474545              33\n",
       "4             13624852     -1.659495              99\n",
       "...                ...           ...             ...\n",
       "1393  4561143213634830      0.334805              77\n",
       "1394  4561143213634840     12.080513              39\n",
       "1395  4561143213634850    139.239565              23\n",
       "1396  4561143213634860      0.000000              38\n",
       "1397  4561143213634920    -61.280690              29\n",
       "\n",
       "[1398 rows x 3 columns]"
      ]
     },
     "execution_count": 41,
     "metadata": {},
     "output_type": "execute_result"
    }
   ],
   "source": [
    "df_transacation_stats = df_transactions2.groupby('acct_nbr').mean()['tran_amt'].reset_index()\n",
    "df_transacation_stats = df_transacation_stats.rename(columns={'tran_amt':'avg_tran_amt'})\n",
    "df_transacation_stats['count_tran_amt'] = df_count_transacations['count_tran_amt']\n",
    "df_transacation_stats"
   ]
  },
  {
   "cell_type": "code",
   "execution_count": 42,
   "id": "c502c4a9-1bfb-4b98-aa62-55dac4045a94",
   "metadata": {
    "tags": []
   },
   "outputs": [
    {
     "data": {
      "text/html": [
       "<div>\n",
       "<style scoped>\n",
       "    .dataframe tbody tr th:only-of-type {\n",
       "        vertical-align: middle;\n",
       "    }\n",
       "\n",
       "    .dataframe tbody tr th {\n",
       "        vertical-align: top;\n",
       "    }\n",
       "\n",
       "    .dataframe thead th {\n",
       "        text-align: right;\n",
       "    }\n",
       "</style>\n",
       "<table border=\"1\" class=\"dataframe\">\n",
       "  <thead>\n",
       "    <tr style=\"text-align: right;\">\n",
       "      <th></th>\n",
       "      <th>acct_nbr</th>\n",
       "      <th>cust_id</th>\n",
       "      <th>acct_type</th>\n",
       "      <th>account_active</th>\n",
       "      <th>acct_start_date</th>\n",
       "      <th>acct_end_date</th>\n",
       "      <th>starting_balance</th>\n",
       "      <th>ending_balance</th>\n",
       "    </tr>\n",
       "  </thead>\n",
       "  <tbody>\n",
       "    <tr>\n",
       "      <th>0</th>\n",
       "      <td>13628063</td>\n",
       "      <td>1362806</td>\n",
       "      <td>SV</td>\n",
       "      <td>Y</td>\n",
       "      <td>10.12.1995</td>\n",
       "      <td>NaN</td>\n",
       "      <td>1430.22</td>\n",
       "      <td>284.58</td>\n",
       "    </tr>\n",
       "    <tr>\n",
       "      <th>1</th>\n",
       "      <td>4561143213627090</td>\n",
       "      <td>1362709</td>\n",
       "      <td>CC</td>\n",
       "      <td>Y</td>\n",
       "      <td>15.3.1993</td>\n",
       "      <td>NaN</td>\n",
       "      <td>266.34</td>\n",
       "      <td>496.15</td>\n",
       "    </tr>\n",
       "    <tr>\n",
       "      <th>2</th>\n",
       "      <td>4561143213628360</td>\n",
       "      <td>1362836</td>\n",
       "      <td>CC</td>\n",
       "      <td>Y</td>\n",
       "      <td>18.3.1992</td>\n",
       "      <td>NaN</td>\n",
       "      <td>55.90</td>\n",
       "      <td>1000.00</td>\n",
       "    </tr>\n",
       "    <tr>\n",
       "      <th>3</th>\n",
       "      <td>13633112</td>\n",
       "      <td>1363311</td>\n",
       "      <td>CK</td>\n",
       "      <td>Y</td>\n",
       "      <td>6.7.1995</td>\n",
       "      <td>NaN</td>\n",
       "      <td>11017.13</td>\n",
       "      <td>968.46</td>\n",
       "    </tr>\n",
       "    <tr>\n",
       "      <th>4</th>\n",
       "      <td>4561143213633610</td>\n",
       "      <td>1363361</td>\n",
       "      <td>CC</td>\n",
       "      <td>Y</td>\n",
       "      <td>17.6.1994</td>\n",
       "      <td>NaN</td>\n",
       "      <td>849.37</td>\n",
       "      <td>462.28</td>\n",
       "    </tr>\n",
       "    <tr>\n",
       "      <th>...</th>\n",
       "      <td>...</td>\n",
       "      <td>...</td>\n",
       "      <td>...</td>\n",
       "      <td>...</td>\n",
       "      <td>...</td>\n",
       "      <td>...</td>\n",
       "      <td>...</td>\n",
       "      <td>...</td>\n",
       "    </tr>\n",
       "    <tr>\n",
       "      <th>1404</th>\n",
       "      <td>4561143213625560</td>\n",
       "      <td>1362556</td>\n",
       "      <td>CC</td>\n",
       "      <td>N</td>\n",
       "      <td>20.1.1992</td>\n",
       "      <td>19.8.1995</td>\n",
       "      <td>1433.94</td>\n",
       "      <td>20.00</td>\n",
       "    </tr>\n",
       "    <tr>\n",
       "      <th>1405</th>\n",
       "      <td>4561143213626240</td>\n",
       "      <td>1362624</td>\n",
       "      <td>CC</td>\n",
       "      <td>Y</td>\n",
       "      <td>29.11.1990</td>\n",
       "      <td>NaN</td>\n",
       "      <td>632.75</td>\n",
       "      <td>1400.00</td>\n",
       "    </tr>\n",
       "    <tr>\n",
       "      <th>1406</th>\n",
       "      <td>4561143213628750</td>\n",
       "      <td>1362875</td>\n",
       "      <td>CC</td>\n",
       "      <td>Y</td>\n",
       "      <td>24.2.1989</td>\n",
       "      <td>NaN</td>\n",
       "      <td>2810.91</td>\n",
       "      <td>3000.00</td>\n",
       "    </tr>\n",
       "    <tr>\n",
       "      <th>1407</th>\n",
       "      <td>13626543</td>\n",
       "      <td>1362654</td>\n",
       "      <td>SV</td>\n",
       "      <td>Y</td>\n",
       "      <td>17.10.1992</td>\n",
       "      <td>NaN</td>\n",
       "      <td>784.53</td>\n",
       "      <td>622.46</td>\n",
       "    </tr>\n",
       "    <tr>\n",
       "      <th>1408</th>\n",
       "      <td>13627032</td>\n",
       "      <td>1362703</td>\n",
       "      <td>CK</td>\n",
       "      <td>Y</td>\n",
       "      <td>18.9.1994</td>\n",
       "      <td>NaN</td>\n",
       "      <td>3649.18</td>\n",
       "      <td>107.33</td>\n",
       "    </tr>\n",
       "  </tbody>\n",
       "</table>\n",
       "<p>1409 rows × 8 columns</p>\n",
       "</div>"
      ],
      "text/plain": [
       "              acct_nbr  cust_id acct_type account_active acct_start_date  \\\n",
       "0             13628063  1362806      SV               Y       10.12.1995   \n",
       "1     4561143213627090  1362709      CC               Y        15.3.1993   \n",
       "2     4561143213628360  1362836      CC               Y        18.3.1992   \n",
       "3             13633112  1363311      CK               Y         6.7.1995   \n",
       "4     4561143213633610  1363361      CC               Y        17.6.1994   \n",
       "...                ...      ...       ...            ...             ...   \n",
       "1404  4561143213625560  1362556      CC               N        20.1.1992   \n",
       "1405  4561143213626240  1362624      CC               Y       29.11.1990   \n",
       "1406  4561143213628750  1362875      CC               Y        24.2.1989   \n",
       "1407          13626543  1362654      SV               Y       17.10.1992   \n",
       "1408          13627032  1362703      CK               Y        18.9.1994   \n",
       "\n",
       "     acct_end_date  starting_balance  ending_balance  \n",
       "0              NaN           1430.22          284.58  \n",
       "1              NaN            266.34          496.15  \n",
       "2              NaN             55.90         1000.00  \n",
       "3              NaN          11017.13          968.46  \n",
       "4              NaN            849.37          462.28  \n",
       "...            ...               ...             ...  \n",
       "1404     19.8.1995           1433.94           20.00  \n",
       "1405           NaN            632.75         1400.00  \n",
       "1406           NaN           2810.91         3000.00  \n",
       "1407           NaN            784.53          622.46  \n",
       "1408           NaN           3649.18          107.33  \n",
       "\n",
       "[1409 rows x 8 columns]"
      ]
     },
     "execution_count": 42,
     "metadata": {},
     "output_type": "execute_result"
    }
   ],
   "source": [
    "df_accounts"
   ]
  },
  {
   "cell_type": "code",
   "execution_count": 43,
   "id": "e98822c2-78d7-4cc5-b6dc-1d41df6fb3c1",
   "metadata": {},
   "outputs": [
    {
     "data": {
      "text/html": [
       "<div>\n",
       "<style scoped>\n",
       "    .dataframe tbody tr th:only-of-type {\n",
       "        vertical-align: middle;\n",
       "    }\n",
       "\n",
       "    .dataframe tbody tr th {\n",
       "        vertical-align: top;\n",
       "    }\n",
       "\n",
       "    .dataframe thead th {\n",
       "        text-align: right;\n",
       "    }\n",
       "</style>\n",
       "<table border=\"1\" class=\"dataframe\">\n",
       "  <thead>\n",
       "    <tr style=\"text-align: right;\">\n",
       "      <th></th>\n",
       "      <th>acct_nbr</th>\n",
       "      <th>cust_id</th>\n",
       "      <th>acct_type</th>\n",
       "      <th>avg_tran_amt</th>\n",
       "      <th>count_tran_amt</th>\n",
       "      <th>starting_balance</th>\n",
       "      <th>ending_balance</th>\n",
       "      <th>account_active</th>\n",
       "      <th>acct_start_date</th>\n",
       "      <th>acct_end_date</th>\n",
       "    </tr>\n",
       "  </thead>\n",
       "  <tbody>\n",
       "    <tr>\n",
       "      <th>0</th>\n",
       "      <td>13628063</td>\n",
       "      <td>1362806</td>\n",
       "      <td>SV</td>\n",
       "      <td>-28.641000</td>\n",
       "      <td>40</td>\n",
       "      <td>1430.22</td>\n",
       "      <td>284.58</td>\n",
       "      <td>Y</td>\n",
       "      <td>10.12.1995</td>\n",
       "      <td>NaN</td>\n",
       "    </tr>\n",
       "    <tr>\n",
       "      <th>1</th>\n",
       "      <td>4561143213627090</td>\n",
       "      <td>1362709</td>\n",
       "      <td>CC</td>\n",
       "      <td>-4.110182</td>\n",
       "      <td>55</td>\n",
       "      <td>266.34</td>\n",
       "      <td>496.15</td>\n",
       "      <td>Y</td>\n",
       "      <td>15.3.1993</td>\n",
       "      <td>NaN</td>\n",
       "    </tr>\n",
       "    <tr>\n",
       "      <th>2</th>\n",
       "      <td>4561143213628360</td>\n",
       "      <td>1362836</td>\n",
       "      <td>CC</td>\n",
       "      <td>-19.863659</td>\n",
       "      <td>41</td>\n",
       "      <td>55.90</td>\n",
       "      <td>1000.00</td>\n",
       "      <td>Y</td>\n",
       "      <td>18.3.1992</td>\n",
       "      <td>NaN</td>\n",
       "    </tr>\n",
       "    <tr>\n",
       "      <th>3</th>\n",
       "      <td>13633112</td>\n",
       "      <td>1363311</td>\n",
       "      <td>CK</td>\n",
       "      <td>-101.501717</td>\n",
       "      <td>99</td>\n",
       "      <td>11017.13</td>\n",
       "      <td>968.46</td>\n",
       "      <td>Y</td>\n",
       "      <td>6.7.1995</td>\n",
       "      <td>NaN</td>\n",
       "    </tr>\n",
       "    <tr>\n",
       "      <th>4</th>\n",
       "      <td>4561143213633610</td>\n",
       "      <td>1363361</td>\n",
       "      <td>CC</td>\n",
       "      <td>9.280233</td>\n",
       "      <td>43</td>\n",
       "      <td>849.37</td>\n",
       "      <td>462.28</td>\n",
       "      <td>Y</td>\n",
       "      <td>17.6.1994</td>\n",
       "      <td>NaN</td>\n",
       "    </tr>\n",
       "    <tr>\n",
       "      <th>...</th>\n",
       "      <td>...</td>\n",
       "      <td>...</td>\n",
       "      <td>...</td>\n",
       "      <td>...</td>\n",
       "      <td>...</td>\n",
       "      <td>...</td>\n",
       "      <td>...</td>\n",
       "      <td>...</td>\n",
       "      <td>...</td>\n",
       "      <td>...</td>\n",
       "    </tr>\n",
       "    <tr>\n",
       "      <th>1392</th>\n",
       "      <td>4561143213625560</td>\n",
       "      <td>1362556</td>\n",
       "      <td>CC</td>\n",
       "      <td>38.396190</td>\n",
       "      <td>42</td>\n",
       "      <td>1433.94</td>\n",
       "      <td>20.00</td>\n",
       "      <td>N</td>\n",
       "      <td>20.1.1992</td>\n",
       "      <td>19.8.1995</td>\n",
       "    </tr>\n",
       "    <tr>\n",
       "      <th>1393</th>\n",
       "      <td>4561143213626240</td>\n",
       "      <td>1362624</td>\n",
       "      <td>CC</td>\n",
       "      <td>-14.251837</td>\n",
       "      <td>49</td>\n",
       "      <td>632.75</td>\n",
       "      <td>1400.00</td>\n",
       "      <td>Y</td>\n",
       "      <td>29.11.1990</td>\n",
       "      <td>NaN</td>\n",
       "    </tr>\n",
       "    <tr>\n",
       "      <th>1394</th>\n",
       "      <td>4561143213628750</td>\n",
       "      <td>1362875</td>\n",
       "      <td>CC</td>\n",
       "      <td>5.022105</td>\n",
       "      <td>38</td>\n",
       "      <td>2810.91</td>\n",
       "      <td>3000.00</td>\n",
       "      <td>Y</td>\n",
       "      <td>24.2.1989</td>\n",
       "      <td>NaN</td>\n",
       "    </tr>\n",
       "    <tr>\n",
       "      <th>1395</th>\n",
       "      <td>13626543</td>\n",
       "      <td>1362654</td>\n",
       "      <td>SV</td>\n",
       "      <td>-7.717619</td>\n",
       "      <td>21</td>\n",
       "      <td>784.53</td>\n",
       "      <td>622.46</td>\n",
       "      <td>Y</td>\n",
       "      <td>17.10.1992</td>\n",
       "      <td>NaN</td>\n",
       "    </tr>\n",
       "    <tr>\n",
       "      <th>1396</th>\n",
       "      <td>13627032</td>\n",
       "      <td>1362703</td>\n",
       "      <td>CK</td>\n",
       "      <td>-35.776263</td>\n",
       "      <td>99</td>\n",
       "      <td>3649.18</td>\n",
       "      <td>107.33</td>\n",
       "      <td>Y</td>\n",
       "      <td>18.9.1994</td>\n",
       "      <td>NaN</td>\n",
       "    </tr>\n",
       "  </tbody>\n",
       "</table>\n",
       "<p>1397 rows × 10 columns</p>\n",
       "</div>"
      ],
      "text/plain": [
       "              acct_nbr  cust_id acct_type  avg_tran_amt  count_tran_amt  \\\n",
       "0             13628063  1362806      SV      -28.641000              40   \n",
       "1     4561143213627090  1362709      CC       -4.110182              55   \n",
       "2     4561143213628360  1362836      CC      -19.863659              41   \n",
       "3             13633112  1363311      CK     -101.501717              99   \n",
       "4     4561143213633610  1363361      CC        9.280233              43   \n",
       "...                ...      ...       ...           ...             ...   \n",
       "1392  4561143213625560  1362556      CC       38.396190              42   \n",
       "1393  4561143213626240  1362624      CC      -14.251837              49   \n",
       "1394  4561143213628750  1362875      CC        5.022105              38   \n",
       "1395          13626543  1362654      SV       -7.717619              21   \n",
       "1396          13627032  1362703      CK      -35.776263              99   \n",
       "\n",
       "      starting_balance  ending_balance account_active acct_start_date  \\\n",
       "0              1430.22          284.58             Y       10.12.1995   \n",
       "1               266.34          496.15             Y        15.3.1993   \n",
       "2                55.90         1000.00             Y        18.3.1992   \n",
       "3             11017.13          968.46             Y         6.7.1995   \n",
       "4               849.37          462.28             Y        17.6.1994   \n",
       "...                ...             ...            ...             ...   \n",
       "1392           1433.94           20.00             N        20.1.1992   \n",
       "1393            632.75         1400.00             Y       29.11.1990   \n",
       "1394           2810.91         3000.00             Y        24.2.1989   \n",
       "1395            784.53          622.46             Y       17.10.1992   \n",
       "1396           3649.18          107.33             Y        18.9.1994   \n",
       "\n",
       "     acct_end_date  \n",
       "0              NaN  \n",
       "1              NaN  \n",
       "2              NaN  \n",
       "3              NaN  \n",
       "4              NaN  \n",
       "...            ...  \n",
       "1392     19.8.1995  \n",
       "1393           NaN  \n",
       "1394           NaN  \n",
       "1395           NaN  \n",
       "1396           NaN  \n",
       "\n",
       "[1397 rows x 10 columns]"
      ]
     },
     "execution_count": 43,
     "metadata": {},
     "output_type": "execute_result"
    }
   ],
   "source": [
    "df_account_transaction_summary = pd.merge(df_accounts,df_transacation_stats,on='acct_nbr')[['acct_nbr','cust_id','acct_type','avg_tran_amt','count_tran_amt','starting_balance',\n",
    "                                                                                               'ending_balance','account_active','acct_start_date',\n",
    "                                                                                               'acct_end_date']]\n",
    "df_account_transaction_summary"
   ]
  },
  {
   "cell_type": "code",
   "execution_count": 46,
   "id": "90d2733c-b574-454f-a770-3336260b4291",
   "metadata": {},
   "outputs": [
    {
     "data": {
      "text/html": [
       "<div>\n",
       "<style scoped>\n",
       "    .dataframe tbody tr th:only-of-type {\n",
       "        vertical-align: middle;\n",
       "    }\n",
       "\n",
       "    .dataframe tbody tr th {\n",
       "        vertical-align: top;\n",
       "    }\n",
       "\n",
       "    .dataframe thead th {\n",
       "        text-align: right;\n",
       "    }\n",
       "</style>\n",
       "<table border=\"1\" class=\"dataframe\">\n",
       "  <thead>\n",
       "    <tr style=\"text-align: right;\">\n",
       "      <th></th>\n",
       "      <th>cust_id</th>\n",
       "      <th>income</th>\n",
       "      <th>age</th>\n",
       "      <th>gender</th>\n",
       "      <th>nbr_children</th>\n",
       "      <th>marital_status</th>\n",
       "      <th>acct_nbr</th>\n",
       "      <th>acct_type</th>\n",
       "      <th>acct_end_date</th>\n",
       "      <th>ending_balance</th>\n",
       "      <th>credit_balance</th>\n",
       "      <th>checking_balance</th>\n",
       "      <th>savings_balance</th>\n",
       "      <th>avg_tran_amt</th>\n",
       "      <th>count_tran_amt</th>\n",
       "    </tr>\n",
       "  </thead>\n",
       "  <tbody>\n",
       "    <tr>\n",
       "      <th>0</th>\n",
       "      <td>1362487</td>\n",
       "      <td>6605</td>\n",
       "      <td>71</td>\n",
       "      <td>M</td>\n",
       "      <td>0</td>\n",
       "      <td>2</td>\n",
       "      <td>4561143213624870</td>\n",
       "      <td>CC</td>\n",
       "      <td>NaN</td>\n",
       "      <td>1548.23</td>\n",
       "      <td>1548.23</td>\n",
       "      <td>NaN</td>\n",
       "      <td>NaN</td>\n",
       "      <td>-47.987188</td>\n",
       "      <td>32.0</td>\n",
       "    </tr>\n",
       "    <tr>\n",
       "      <th>1</th>\n",
       "      <td>1362487</td>\n",
       "      <td>6605</td>\n",
       "      <td>71</td>\n",
       "      <td>M</td>\n",
       "      <td>0</td>\n",
       "      <td>2</td>\n",
       "      <td>13624873</td>\n",
       "      <td>SV</td>\n",
       "      <td>25.8.1995</td>\n",
       "      <td>12.89</td>\n",
       "      <td>NaN</td>\n",
       "      <td>NaN</td>\n",
       "      <td>12.89</td>\n",
       "      <td>-33.623158</td>\n",
       "      <td>19.0</td>\n",
       "    </tr>\n",
       "    <tr>\n",
       "      <th>2</th>\n",
       "      <td>1362487</td>\n",
       "      <td>6605</td>\n",
       "      <td>71</td>\n",
       "      <td>M</td>\n",
       "      <td>0</td>\n",
       "      <td>2</td>\n",
       "      <td>13624872</td>\n",
       "      <td>CK</td>\n",
       "      <td>NaN</td>\n",
       "      <td>1401.21</td>\n",
       "      <td>NaN</td>\n",
       "      <td>1401.21</td>\n",
       "      <td>NaN</td>\n",
       "      <td>-26.513269</td>\n",
       "      <td>52.0</td>\n",
       "    </tr>\n",
       "    <tr>\n",
       "      <th>3</th>\n",
       "      <td>1363160</td>\n",
       "      <td>18548</td>\n",
       "      <td>38</td>\n",
       "      <td>F</td>\n",
       "      <td>0</td>\n",
       "      <td>1</td>\n",
       "      <td>4561143213631600</td>\n",
       "      <td>CC</td>\n",
       "      <td>NaN</td>\n",
       "      <td>286.69</td>\n",
       "      <td>286.69</td>\n",
       "      <td>NaN</td>\n",
       "      <td>NaN</td>\n",
       "      <td>5.588676</td>\n",
       "      <td>68.0</td>\n",
       "    </tr>\n",
       "    <tr>\n",
       "      <th>4</th>\n",
       "      <td>1363160</td>\n",
       "      <td>18548</td>\n",
       "      <td>38</td>\n",
       "      <td>F</td>\n",
       "      <td>0</td>\n",
       "      <td>1</td>\n",
       "      <td>13631603</td>\n",
       "      <td>SV</td>\n",
       "      <td>NaN</td>\n",
       "      <td>122.54</td>\n",
       "      <td>NaN</td>\n",
       "      <td>NaN</td>\n",
       "      <td>122.54</td>\n",
       "      <td>0.197917</td>\n",
       "      <td>48.0</td>\n",
       "    </tr>\n",
       "    <tr>\n",
       "      <th>...</th>\n",
       "      <td>...</td>\n",
       "      <td>...</td>\n",
       "      <td>...</td>\n",
       "      <td>...</td>\n",
       "      <td>...</td>\n",
       "      <td>...</td>\n",
       "      <td>...</td>\n",
       "      <td>...</td>\n",
       "      <td>...</td>\n",
       "      <td>...</td>\n",
       "      <td>...</td>\n",
       "      <td>...</td>\n",
       "      <td>...</td>\n",
       "      <td>...</td>\n",
       "      <td>...</td>\n",
       "    </tr>\n",
       "    <tr>\n",
       "      <th>1404</th>\n",
       "      <td>1362569</td>\n",
       "      <td>61300</td>\n",
       "      <td>50</td>\n",
       "      <td>M</td>\n",
       "      <td>2</td>\n",
       "      <td>2</td>\n",
       "      <td>4561143213625690</td>\n",
       "      <td>CC</td>\n",
       "      <td>NaN</td>\n",
       "      <td>9200.00</td>\n",
       "      <td>9200.00</td>\n",
       "      <td>NaN</td>\n",
       "      <td>NaN</td>\n",
       "      <td>-328.571429</td>\n",
       "      <td>28.0</td>\n",
       "    </tr>\n",
       "    <tr>\n",
       "      <th>1405</th>\n",
       "      <td>1363364</td>\n",
       "      <td>15100</td>\n",
       "      <td>37</td>\n",
       "      <td>F</td>\n",
       "      <td>0</td>\n",
       "      <td>2</td>\n",
       "      <td>13633642</td>\n",
       "      <td>CK</td>\n",
       "      <td>NaN</td>\n",
       "      <td>296.28</td>\n",
       "      <td>NaN</td>\n",
       "      <td>296.28</td>\n",
       "      <td>NaN</td>\n",
       "      <td>-10.008081</td>\n",
       "      <td>99.0</td>\n",
       "    </tr>\n",
       "    <tr>\n",
       "      <th>1406</th>\n",
       "      <td>1363364</td>\n",
       "      <td>15100</td>\n",
       "      <td>37</td>\n",
       "      <td>F</td>\n",
       "      <td>0</td>\n",
       "      <td>2</td>\n",
       "      <td>4561143213633640</td>\n",
       "      <td>CC</td>\n",
       "      <td>23.7.1995</td>\n",
       "      <td>1785.97</td>\n",
       "      <td>1785.97</td>\n",
       "      <td>NaN</td>\n",
       "      <td>NaN</td>\n",
       "      <td>0.247333</td>\n",
       "      <td>75.0</td>\n",
       "    </tr>\n",
       "    <tr>\n",
       "      <th>1407</th>\n",
       "      <td>1363303</td>\n",
       "      <td>17875</td>\n",
       "      <td>18</td>\n",
       "      <td>F</td>\n",
       "      <td>0</td>\n",
       "      <td>1</td>\n",
       "      <td>13633032</td>\n",
       "      <td>CK</td>\n",
       "      <td>NaN</td>\n",
       "      <td>39.22</td>\n",
       "      <td>NaN</td>\n",
       "      <td>39.22</td>\n",
       "      <td>NaN</td>\n",
       "      <td>-27.777677</td>\n",
       "      <td>99.0</td>\n",
       "    </tr>\n",
       "    <tr>\n",
       "      <th>1408</th>\n",
       "      <td>1363303</td>\n",
       "      <td>17875</td>\n",
       "      <td>18</td>\n",
       "      <td>F</td>\n",
       "      <td>0</td>\n",
       "      <td>1</td>\n",
       "      <td>4561143213633030</td>\n",
       "      <td>CC</td>\n",
       "      <td>NaN</td>\n",
       "      <td>1000.00</td>\n",
       "      <td>1000.00</td>\n",
       "      <td>NaN</td>\n",
       "      <td>NaN</td>\n",
       "      <td>-16.393443</td>\n",
       "      <td>61.0</td>\n",
       "    </tr>\n",
       "  </tbody>\n",
       "</table>\n",
       "<p>1409 rows × 15 columns</p>\n",
       "</div>"
      ],
      "text/plain": [
       "      cust_id  income  age gender  nbr_children  marital_status  \\\n",
       "0     1362487    6605   71     M              0               2   \n",
       "1     1362487    6605   71     M              0               2   \n",
       "2     1362487    6605   71     M              0               2   \n",
       "3     1363160   18548   38     F              0               1   \n",
       "4     1363160   18548   38     F              0               1   \n",
       "...       ...     ...  ...    ...           ...             ...   \n",
       "1404  1362569   61300   50     M              2               2   \n",
       "1405  1363364   15100   37     F              0               2   \n",
       "1406  1363364   15100   37     F              0               2   \n",
       "1407  1363303   17875   18     F              0               1   \n",
       "1408  1363303   17875   18     F              0               1   \n",
       "\n",
       "              acct_nbr acct_type acct_end_date  ending_balance  \\\n",
       "0     4561143213624870      CC             NaN         1548.23   \n",
       "1             13624873      SV       25.8.1995           12.89   \n",
       "2             13624872      CK             NaN         1401.21   \n",
       "3     4561143213631600      CC             NaN          286.69   \n",
       "4             13631603      SV             NaN          122.54   \n",
       "...                ...       ...           ...             ...   \n",
       "1404  4561143213625690      CC             NaN         9200.00   \n",
       "1405          13633642      CK             NaN          296.28   \n",
       "1406  4561143213633640      CC       23.7.1995         1785.97   \n",
       "1407          13633032      CK             NaN           39.22   \n",
       "1408  4561143213633030      CC             NaN         1000.00   \n",
       "\n",
       "      credit_balance  checking_balance  savings_balance  avg_tran_amt  \\\n",
       "0            1548.23               NaN              NaN    -47.987188   \n",
       "1                NaN               NaN            12.89    -33.623158   \n",
       "2                NaN           1401.21              NaN    -26.513269   \n",
       "3             286.69               NaN              NaN      5.588676   \n",
       "4                NaN               NaN           122.54      0.197917   \n",
       "...              ...               ...              ...           ...   \n",
       "1404         9200.00               NaN              NaN   -328.571429   \n",
       "1405             NaN            296.28              NaN    -10.008081   \n",
       "1406         1785.97               NaN              NaN      0.247333   \n",
       "1407             NaN             39.22              NaN    -27.777677   \n",
       "1408         1000.00               NaN              NaN    -16.393443   \n",
       "\n",
       "      count_tran_amt  \n",
       "0               32.0  \n",
       "1               19.0  \n",
       "2               52.0  \n",
       "3               68.0  \n",
       "4               48.0  \n",
       "...              ...  \n",
       "1404            28.0  \n",
       "1405            99.0  \n",
       "1406            75.0  \n",
       "1407            99.0  \n",
       "1408            61.0  \n",
       "\n",
       "[1409 rows x 15 columns]"
      ]
     },
     "execution_count": 46,
     "metadata": {},
     "output_type": "execute_result"
    }
   ],
   "source": [
    "df_cust_accounts2 = pd.merge(df_cust_accounts, df_transacation_stats,how = 'left')\n",
    "df_cust_accounts2"
   ]
  },
  {
   "cell_type": "code",
   "execution_count": 47,
   "id": "3fe74ca9-1c83-4c22-96c3-da7ccffdcbcd",
   "metadata": {},
   "outputs": [
    {
     "data": {
      "text/html": [
       "<div>\n",
       "<style scoped>\n",
       "    .dataframe tbody tr th:only-of-type {\n",
       "        vertical-align: middle;\n",
       "    }\n",
       "\n",
       "    .dataframe tbody tr th {\n",
       "        vertical-align: top;\n",
       "    }\n",
       "\n",
       "    .dataframe thead th {\n",
       "        text-align: right;\n",
       "    }\n",
       "</style>\n",
       "<table border=\"1\" class=\"dataframe\">\n",
       "  <thead>\n",
       "    <tr style=\"text-align: right;\">\n",
       "      <th></th>\n",
       "      <th>cust_id</th>\n",
       "      <th>income</th>\n",
       "      <th>age</th>\n",
       "      <th>gender</th>\n",
       "      <th>nbr_children</th>\n",
       "      <th>marital_status</th>\n",
       "      <th>acct_nbr</th>\n",
       "      <th>acct_type</th>\n",
       "      <th>acct_end_date</th>\n",
       "      <th>ending_balance</th>\n",
       "      <th>...</th>\n",
       "      <th>checking_balance</th>\n",
       "      <th>savings_balance</th>\n",
       "      <th>avg_tran_amt</th>\n",
       "      <th>count_tran_amt</th>\n",
       "      <th>avg_savings_tran_amt</th>\n",
       "      <th>avg_checking_tran_amt</th>\n",
       "      <th>avg_credit_tran_amt</th>\n",
       "      <th>cnt_savings_tran</th>\n",
       "      <th>cnt_checking_tran</th>\n",
       "      <th>cnt_credit_tran</th>\n",
       "    </tr>\n",
       "  </thead>\n",
       "  <tbody>\n",
       "    <tr>\n",
       "      <th>0</th>\n",
       "      <td>1362487</td>\n",
       "      <td>6605</td>\n",
       "      <td>71</td>\n",
       "      <td>M</td>\n",
       "      <td>0</td>\n",
       "      <td>2</td>\n",
       "      <td>4561143213624870</td>\n",
       "      <td>CC</td>\n",
       "      <td>NaN</td>\n",
       "      <td>1548.23</td>\n",
       "      <td>...</td>\n",
       "      <td>NaN</td>\n",
       "      <td>NaN</td>\n",
       "      <td>-47.987188</td>\n",
       "      <td>32.0</td>\n",
       "      <td>NaN</td>\n",
       "      <td>NaN</td>\n",
       "      <td>-47.987188</td>\n",
       "      <td>NaN</td>\n",
       "      <td>NaN</td>\n",
       "      <td>32.0</td>\n",
       "    </tr>\n",
       "    <tr>\n",
       "      <th>1</th>\n",
       "      <td>1362487</td>\n",
       "      <td>6605</td>\n",
       "      <td>71</td>\n",
       "      <td>M</td>\n",
       "      <td>0</td>\n",
       "      <td>2</td>\n",
       "      <td>13624873</td>\n",
       "      <td>SV</td>\n",
       "      <td>25.8.1995</td>\n",
       "      <td>12.89</td>\n",
       "      <td>...</td>\n",
       "      <td>NaN</td>\n",
       "      <td>12.89</td>\n",
       "      <td>-33.623158</td>\n",
       "      <td>19.0</td>\n",
       "      <td>-33.623158</td>\n",
       "      <td>NaN</td>\n",
       "      <td>NaN</td>\n",
       "      <td>19.0</td>\n",
       "      <td>NaN</td>\n",
       "      <td>NaN</td>\n",
       "    </tr>\n",
       "    <tr>\n",
       "      <th>2</th>\n",
       "      <td>1362487</td>\n",
       "      <td>6605</td>\n",
       "      <td>71</td>\n",
       "      <td>M</td>\n",
       "      <td>0</td>\n",
       "      <td>2</td>\n",
       "      <td>13624872</td>\n",
       "      <td>CK</td>\n",
       "      <td>NaN</td>\n",
       "      <td>1401.21</td>\n",
       "      <td>...</td>\n",
       "      <td>1401.21</td>\n",
       "      <td>NaN</td>\n",
       "      <td>-26.513269</td>\n",
       "      <td>52.0</td>\n",
       "      <td>NaN</td>\n",
       "      <td>-26.513269</td>\n",
       "      <td>NaN</td>\n",
       "      <td>NaN</td>\n",
       "      <td>52.0</td>\n",
       "      <td>NaN</td>\n",
       "    </tr>\n",
       "    <tr>\n",
       "      <th>3</th>\n",
       "      <td>1363160</td>\n",
       "      <td>18548</td>\n",
       "      <td>38</td>\n",
       "      <td>F</td>\n",
       "      <td>0</td>\n",
       "      <td>1</td>\n",
       "      <td>4561143213631600</td>\n",
       "      <td>CC</td>\n",
       "      <td>NaN</td>\n",
       "      <td>286.69</td>\n",
       "      <td>...</td>\n",
       "      <td>NaN</td>\n",
       "      <td>NaN</td>\n",
       "      <td>5.588676</td>\n",
       "      <td>68.0</td>\n",
       "      <td>NaN</td>\n",
       "      <td>NaN</td>\n",
       "      <td>5.588676</td>\n",
       "      <td>NaN</td>\n",
       "      <td>NaN</td>\n",
       "      <td>68.0</td>\n",
       "    </tr>\n",
       "    <tr>\n",
       "      <th>4</th>\n",
       "      <td>1363160</td>\n",
       "      <td>18548</td>\n",
       "      <td>38</td>\n",
       "      <td>F</td>\n",
       "      <td>0</td>\n",
       "      <td>1</td>\n",
       "      <td>13631603</td>\n",
       "      <td>SV</td>\n",
       "      <td>NaN</td>\n",
       "      <td>122.54</td>\n",
       "      <td>...</td>\n",
       "      <td>NaN</td>\n",
       "      <td>122.54</td>\n",
       "      <td>0.197917</td>\n",
       "      <td>48.0</td>\n",
       "      <td>0.197917</td>\n",
       "      <td>NaN</td>\n",
       "      <td>NaN</td>\n",
       "      <td>48.0</td>\n",
       "      <td>NaN</td>\n",
       "      <td>NaN</td>\n",
       "    </tr>\n",
       "    <tr>\n",
       "      <th>...</th>\n",
       "      <td>...</td>\n",
       "      <td>...</td>\n",
       "      <td>...</td>\n",
       "      <td>...</td>\n",
       "      <td>...</td>\n",
       "      <td>...</td>\n",
       "      <td>...</td>\n",
       "      <td>...</td>\n",
       "      <td>...</td>\n",
       "      <td>...</td>\n",
       "      <td>...</td>\n",
       "      <td>...</td>\n",
       "      <td>...</td>\n",
       "      <td>...</td>\n",
       "      <td>...</td>\n",
       "      <td>...</td>\n",
       "      <td>...</td>\n",
       "      <td>...</td>\n",
       "      <td>...</td>\n",
       "      <td>...</td>\n",
       "      <td>...</td>\n",
       "    </tr>\n",
       "    <tr>\n",
       "      <th>1404</th>\n",
       "      <td>1362569</td>\n",
       "      <td>61300</td>\n",
       "      <td>50</td>\n",
       "      <td>M</td>\n",
       "      <td>2</td>\n",
       "      <td>2</td>\n",
       "      <td>4561143213625690</td>\n",
       "      <td>CC</td>\n",
       "      <td>NaN</td>\n",
       "      <td>9200.00</td>\n",
       "      <td>...</td>\n",
       "      <td>NaN</td>\n",
       "      <td>NaN</td>\n",
       "      <td>-328.571429</td>\n",
       "      <td>28.0</td>\n",
       "      <td>NaN</td>\n",
       "      <td>NaN</td>\n",
       "      <td>-328.571429</td>\n",
       "      <td>NaN</td>\n",
       "      <td>NaN</td>\n",
       "      <td>28.0</td>\n",
       "    </tr>\n",
       "    <tr>\n",
       "      <th>1405</th>\n",
       "      <td>1363364</td>\n",
       "      <td>15100</td>\n",
       "      <td>37</td>\n",
       "      <td>F</td>\n",
       "      <td>0</td>\n",
       "      <td>2</td>\n",
       "      <td>13633642</td>\n",
       "      <td>CK</td>\n",
       "      <td>NaN</td>\n",
       "      <td>296.28</td>\n",
       "      <td>...</td>\n",
       "      <td>296.28</td>\n",
       "      <td>NaN</td>\n",
       "      <td>-10.008081</td>\n",
       "      <td>99.0</td>\n",
       "      <td>NaN</td>\n",
       "      <td>-10.008081</td>\n",
       "      <td>NaN</td>\n",
       "      <td>NaN</td>\n",
       "      <td>99.0</td>\n",
       "      <td>NaN</td>\n",
       "    </tr>\n",
       "    <tr>\n",
       "      <th>1406</th>\n",
       "      <td>1363364</td>\n",
       "      <td>15100</td>\n",
       "      <td>37</td>\n",
       "      <td>F</td>\n",
       "      <td>0</td>\n",
       "      <td>2</td>\n",
       "      <td>4561143213633640</td>\n",
       "      <td>CC</td>\n",
       "      <td>23.7.1995</td>\n",
       "      <td>1785.97</td>\n",
       "      <td>...</td>\n",
       "      <td>NaN</td>\n",
       "      <td>NaN</td>\n",
       "      <td>0.247333</td>\n",
       "      <td>75.0</td>\n",
       "      <td>NaN</td>\n",
       "      <td>NaN</td>\n",
       "      <td>0.247333</td>\n",
       "      <td>NaN</td>\n",
       "      <td>NaN</td>\n",
       "      <td>75.0</td>\n",
       "    </tr>\n",
       "    <tr>\n",
       "      <th>1407</th>\n",
       "      <td>1363303</td>\n",
       "      <td>17875</td>\n",
       "      <td>18</td>\n",
       "      <td>F</td>\n",
       "      <td>0</td>\n",
       "      <td>1</td>\n",
       "      <td>13633032</td>\n",
       "      <td>CK</td>\n",
       "      <td>NaN</td>\n",
       "      <td>39.22</td>\n",
       "      <td>...</td>\n",
       "      <td>39.22</td>\n",
       "      <td>NaN</td>\n",
       "      <td>-27.777677</td>\n",
       "      <td>99.0</td>\n",
       "      <td>NaN</td>\n",
       "      <td>-27.777677</td>\n",
       "      <td>NaN</td>\n",
       "      <td>NaN</td>\n",
       "      <td>99.0</td>\n",
       "      <td>NaN</td>\n",
       "    </tr>\n",
       "    <tr>\n",
       "      <th>1408</th>\n",
       "      <td>1363303</td>\n",
       "      <td>17875</td>\n",
       "      <td>18</td>\n",
       "      <td>F</td>\n",
       "      <td>0</td>\n",
       "      <td>1</td>\n",
       "      <td>4561143213633030</td>\n",
       "      <td>CC</td>\n",
       "      <td>NaN</td>\n",
       "      <td>1000.00</td>\n",
       "      <td>...</td>\n",
       "      <td>NaN</td>\n",
       "      <td>NaN</td>\n",
       "      <td>-16.393443</td>\n",
       "      <td>61.0</td>\n",
       "      <td>NaN</td>\n",
       "      <td>NaN</td>\n",
       "      <td>-16.393443</td>\n",
       "      <td>NaN</td>\n",
       "      <td>NaN</td>\n",
       "      <td>61.0</td>\n",
       "    </tr>\n",
       "  </tbody>\n",
       "</table>\n",
       "<p>1409 rows × 21 columns</p>\n",
       "</div>"
      ],
      "text/plain": [
       "      cust_id  income  age gender  nbr_children  marital_status  \\\n",
       "0     1362487    6605   71     M              0               2   \n",
       "1     1362487    6605   71     M              0               2   \n",
       "2     1362487    6605   71     M              0               2   \n",
       "3     1363160   18548   38     F              0               1   \n",
       "4     1363160   18548   38     F              0               1   \n",
       "...       ...     ...  ...    ...           ...             ...   \n",
       "1404  1362569   61300   50     M              2               2   \n",
       "1405  1363364   15100   37     F              0               2   \n",
       "1406  1363364   15100   37     F              0               2   \n",
       "1407  1363303   17875   18     F              0               1   \n",
       "1408  1363303   17875   18     F              0               1   \n",
       "\n",
       "              acct_nbr acct_type acct_end_date  ending_balance  ...  \\\n",
       "0     4561143213624870      CC             NaN         1548.23  ...   \n",
       "1             13624873      SV       25.8.1995           12.89  ...   \n",
       "2             13624872      CK             NaN         1401.21  ...   \n",
       "3     4561143213631600      CC             NaN          286.69  ...   \n",
       "4             13631603      SV             NaN          122.54  ...   \n",
       "...                ...       ...           ...             ...  ...   \n",
       "1404  4561143213625690      CC             NaN         9200.00  ...   \n",
       "1405          13633642      CK             NaN          296.28  ...   \n",
       "1406  4561143213633640      CC       23.7.1995         1785.97  ...   \n",
       "1407          13633032      CK             NaN           39.22  ...   \n",
       "1408  4561143213633030      CC             NaN         1000.00  ...   \n",
       "\n",
       "      checking_balance  savings_balance  avg_tran_amt  count_tran_amt  \\\n",
       "0                  NaN              NaN    -47.987188            32.0   \n",
       "1                  NaN            12.89    -33.623158            19.0   \n",
       "2              1401.21              NaN    -26.513269            52.0   \n",
       "3                  NaN              NaN      5.588676            68.0   \n",
       "4                  NaN           122.54      0.197917            48.0   \n",
       "...                ...              ...           ...             ...   \n",
       "1404               NaN              NaN   -328.571429            28.0   \n",
       "1405            296.28              NaN    -10.008081            99.0   \n",
       "1406               NaN              NaN      0.247333            75.0   \n",
       "1407             39.22              NaN    -27.777677            99.0   \n",
       "1408               NaN              NaN    -16.393443            61.0   \n",
       "\n",
       "      avg_savings_tran_amt  avg_checking_tran_amt  avg_credit_tran_amt  \\\n",
       "0                      NaN                    NaN           -47.987188   \n",
       "1               -33.623158                    NaN                  NaN   \n",
       "2                      NaN             -26.513269                  NaN   \n",
       "3                      NaN                    NaN             5.588676   \n",
       "4                 0.197917                    NaN                  NaN   \n",
       "...                    ...                    ...                  ...   \n",
       "1404                   NaN                    NaN          -328.571429   \n",
       "1405                   NaN             -10.008081                  NaN   \n",
       "1406                   NaN                    NaN             0.247333   \n",
       "1407                   NaN             -27.777677                  NaN   \n",
       "1408                   NaN                    NaN           -16.393443   \n",
       "\n",
       "      cnt_savings_tran  cnt_checking_tran  cnt_credit_tran  \n",
       "0                  NaN                NaN             32.0  \n",
       "1                 19.0                NaN              NaN  \n",
       "2                  NaN               52.0              NaN  \n",
       "3                  NaN                NaN             68.0  \n",
       "4                 48.0                NaN              NaN  \n",
       "...                ...                ...              ...  \n",
       "1404               NaN                NaN             28.0  \n",
       "1405               NaN               99.0              NaN  \n",
       "1406               NaN                NaN             75.0  \n",
       "1407               NaN               99.0              NaN  \n",
       "1408               NaN                NaN             61.0  \n",
       "\n",
       "[1409 rows x 21 columns]"
      ]
     },
     "execution_count": 47,
     "metadata": {},
     "output_type": "execute_result"
    }
   ],
   "source": [
    "df_cust_accounts2['avg_savings_tran_amt'] = df_cust_accounts2['avg_tran_amt'][df_cust_accounts2['acct_type']=='SV  ']\n",
    "df_cust_accounts2['avg_checking_tran_amt'] = df_cust_accounts2['avg_tran_amt'][df_cust_accounts2['acct_type']=='CK  ']\n",
    "df_cust_accounts2['avg_credit_tran_amt'] = df_cust_accounts2['avg_tran_amt'][df_cust_accounts2['acct_type']=='CC  ']\n",
    "df_cust_accounts2['cnt_savings_tran'] = df_cust_accounts2['count_tran_amt'][df_cust_accounts2['acct_type']=='SV  ']\n",
    "df_cust_accounts2['cnt_checking_tran'] = df_cust_accounts2['count_tran_amt'][df_cust_accounts2['acct_type']=='CK  ']\n",
    "df_cust_accounts2['cnt_credit_tran'] = df_cust_accounts2['count_tran_amt'][df_cust_accounts2['acct_type']=='CC  ']\n",
    "df_cust_accounts2"
   ]
  },
  {
   "cell_type": "code",
   "execution_count": 48,
   "id": "10d44501-5373-4372-a377-cefe81bcd47c",
   "metadata": {},
   "outputs": [
    {
     "data": {
      "text/html": [
       "<div>\n",
       "<style scoped>\n",
       "    .dataframe tbody tr th:only-of-type {\n",
       "        vertical-align: middle;\n",
       "    }\n",
       "\n",
       "    .dataframe tbody tr th {\n",
       "        vertical-align: top;\n",
       "    }\n",
       "\n",
       "    .dataframe thead th {\n",
       "        text-align: right;\n",
       "    }\n",
       "</style>\n",
       "<table border=\"1\" class=\"dataframe\">\n",
       "  <thead>\n",
       "    <tr style=\"text-align: right;\">\n",
       "      <th></th>\n",
       "      <th>cust_id</th>\n",
       "      <th>income</th>\n",
       "      <th>age</th>\n",
       "      <th>gender</th>\n",
       "      <th>nbr_children</th>\n",
       "      <th>marital_status</th>\n",
       "      <th>credit_balance</th>\n",
       "      <th>checking_balance</th>\n",
       "      <th>savings_balance</th>\n",
       "      <th>total_balance</th>\n",
       "    </tr>\n",
       "  </thead>\n",
       "  <tbody>\n",
       "    <tr>\n",
       "      <th>0</th>\n",
       "      <td>1362480</td>\n",
       "      <td>50890</td>\n",
       "      <td>33</td>\n",
       "      <td>M</td>\n",
       "      <td>2</td>\n",
       "      <td>2</td>\n",
       "      <td>20.00</td>\n",
       "      <td>86.86</td>\n",
       "      <td>1187.97</td>\n",
       "      <td>1254.83</td>\n",
       "    </tr>\n",
       "    <tr>\n",
       "      <th>1</th>\n",
       "      <td>1362484</td>\n",
       "      <td>10053</td>\n",
       "      <td>42</td>\n",
       "      <td>F</td>\n",
       "      <td>0</td>\n",
       "      <td>1</td>\n",
       "      <td>369.72</td>\n",
       "      <td>95.32</td>\n",
       "      <td>2122.17</td>\n",
       "      <td>1847.77</td>\n",
       "    </tr>\n",
       "    <tr>\n",
       "      <th>2</th>\n",
       "      <td>1362485</td>\n",
       "      <td>22690</td>\n",
       "      <td>25</td>\n",
       "      <td>F</td>\n",
       "      <td>0</td>\n",
       "      <td>1</td>\n",
       "      <td>1100.00</td>\n",
       "      <td>45.49</td>\n",
       "      <td>0.00</td>\n",
       "      <td>-1054.51</td>\n",
       "    </tr>\n",
       "  </tbody>\n",
       "</table>\n",
       "</div>"
      ],
      "text/plain": [
       "   cust_id  income  age gender  nbr_children  marital_status  credit_balance  \\\n",
       "0  1362480   50890   33     M              2               2           20.00   \n",
       "1  1362484   10053   42     F              0               1          369.72   \n",
       "2  1362485   22690   25     F              0               1         1100.00   \n",
       "\n",
       "   checking_balance  savings_balance  total_balance  \n",
       "0             86.86          1187.97        1254.83  \n",
       "1             95.32          2122.17        1847.77  \n",
       "2             45.49             0.00       -1054.51  "
      ]
     },
     "execution_count": 48,
     "metadata": {},
     "output_type": "execute_result"
    }
   ],
   "source": [
    "df_cust_info2 = df_cust_info.copy()\n",
    "df_cust_info2.head(3)"
   ]
  },
  {
   "cell_type": "code",
   "execution_count": 49,
   "id": "4600151a-278c-48ef-a63b-3b0ab419c7b3",
   "metadata": {},
   "outputs": [
    {
     "data": {
      "text/plain": [
       "Index(['cust_id', 'income', 'age', 'gender', 'nbr_children', 'marital_status',\n",
       "       'acct_nbr', 'acct_type', 'acct_end_date', 'ending_balance',\n",
       "       'credit_balance', 'checking_balance', 'savings_balance', 'avg_tran_amt',\n",
       "       'count_tran_amt', 'avg_savings_tran_amt', 'avg_checking_tran_amt',\n",
       "       'avg_credit_tran_amt', 'cnt_savings_tran', 'cnt_checking_tran',\n",
       "       'cnt_credit_tran'],\n",
       "      dtype='object')"
      ]
     },
     "execution_count": 49,
     "metadata": {},
     "output_type": "execute_result"
    }
   ],
   "source": [
    "df_cust_accounts2.columns"
   ]
  },
  {
   "cell_type": "code",
   "execution_count": 205,
   "id": "2d79159c-da7e-4bdc-aa2d-ea95e602eb05",
   "metadata": {},
   "outputs": [
    {
     "data": {
      "text/html": [
       "<div>\n",
       "<style scoped>\n",
       "    .dataframe tbody tr th:only-of-type {\n",
       "        vertical-align: middle;\n",
       "    }\n",
       "\n",
       "    .dataframe tbody tr th {\n",
       "        vertical-align: top;\n",
       "    }\n",
       "\n",
       "    .dataframe thead th {\n",
       "        text-align: right;\n",
       "    }\n",
       "</style>\n",
       "<table border=\"1\" class=\"dataframe\">\n",
       "  <thead>\n",
       "    <tr style=\"text-align: right;\">\n",
       "      <th></th>\n",
       "      <th>cust_id</th>\n",
       "      <th>income</th>\n",
       "      <th>age</th>\n",
       "      <th>gender</th>\n",
       "      <th>nbr_children</th>\n",
       "      <th>marital_status</th>\n",
       "      <th>credit_balance</th>\n",
       "      <th>checking_balance</th>\n",
       "      <th>savings_balance</th>\n",
       "      <th>avg_tran_amt</th>\n",
       "      <th>count_tran_amt</th>\n",
       "      <th>avg_savings_tran_amt</th>\n",
       "      <th>avg_checking_tran_amt</th>\n",
       "      <th>avg_credit_tran_amt</th>\n",
       "      <th>cnt_savings_tran</th>\n",
       "      <th>cnt_checking_tran</th>\n",
       "      <th>cnt_credit_tran</th>\n",
       "    </tr>\n",
       "  </thead>\n",
       "  <tbody>\n",
       "    <tr>\n",
       "      <th>0</th>\n",
       "      <td>1362480</td>\n",
       "      <td>50890</td>\n",
       "      <td>33</td>\n",
       "      <td>M</td>\n",
       "      <td>2</td>\n",
       "      <td>2</td>\n",
       "      <td>20.00</td>\n",
       "      <td>86.86</td>\n",
       "      <td>1187.97</td>\n",
       "      <td>76.971748</td>\n",
       "      <td>157.0</td>\n",
       "      <td>18.550769</td>\n",
       "      <td>-2.474646</td>\n",
       "      <td>60.895625</td>\n",
       "      <td>26.0</td>\n",
       "      <td>99.0</td>\n",
       "      <td>32.0</td>\n",
       "    </tr>\n",
       "    <tr>\n",
       "      <th>1</th>\n",
       "      <td>1362484</td>\n",
       "      <td>10053</td>\n",
       "      <td>42</td>\n",
       "      <td>F</td>\n",
       "      <td>0</td>\n",
       "      <td>1</td>\n",
       "      <td>369.72</td>\n",
       "      <td>95.32</td>\n",
       "      <td>2122.17</td>\n",
       "      <td>49.836424</td>\n",
       "      <td>187.0</td>\n",
       "      <td>58.474545</td>\n",
       "      <td>-25.435758</td>\n",
       "      <td>16.797636</td>\n",
       "      <td>33.0</td>\n",
       "      <td>99.0</td>\n",
       "      <td>55.0</td>\n",
       "    </tr>\n",
       "  </tbody>\n",
       "</table>\n",
       "</div>"
      ],
      "text/plain": [
       "   cust_id  income  age gender  nbr_children  marital_status  credit_balance  \\\n",
       "0  1362480   50890   33     M              2               2           20.00   \n",
       "1  1362484   10053   42     F              0               1          369.72   \n",
       "\n",
       "   checking_balance  savings_balance  avg_tran_amt  count_tran_amt  \\\n",
       "0             86.86          1187.97     76.971748           157.0   \n",
       "1             95.32          2122.17     49.836424           187.0   \n",
       "\n",
       "   avg_savings_tran_amt  avg_checking_tran_amt  avg_credit_tran_amt  \\\n",
       "0             18.550769              -2.474646            60.895625   \n",
       "1             58.474545             -25.435758            16.797636   \n",
       "\n",
       "   cnt_savings_tran  cnt_checking_tran  cnt_credit_tran  \n",
       "0              26.0               99.0             32.0  \n",
       "1              33.0               99.0             55.0  "
      ]
     },
     "execution_count": 205,
     "metadata": {},
     "output_type": "execute_result"
    }
   ],
   "source": [
    "df_cust_info2 = df_cust_accounts2.loc[:,~df_cust_accounts2.columns.isin(['acct_nbr','ending_balance','acct_end_date','acct_type'])]\n",
    "df_cust_info2 = df_cust_info2.groupby(['cust_id','income','age','gender','nbr_children','marital_status']).sum().reset_index()\n",
    "df_cust_info2.head(2)"
   ]
  },
  {
   "cell_type": "markdown",
   "id": "58de094a-e89b-47b6-aec1-fc6e17124629",
   "metadata": {},
   "source": [
    "### Demographic clustering"
   ]
  },
  {
   "cell_type": "code",
   "execution_count": 331,
   "id": "7104834a-3e8f-4153-8fa5-72d435bbdb04",
   "metadata": {},
   "outputs": [],
   "source": [
    "segmentation_cols = ['income', 'age','years_with_bank','nbr_children','marital_status','gender']\n",
    "segmentation_cols2 = ['income', 'age','years_with_bank','nbr_children','marital_status','gender', 'state_code']"
   ]
  },
  {
   "cell_type": "code",
   "execution_count": 343,
   "id": "501e7d3c-3bb4-43f0-a97a-2061a25305be",
   "metadata": {},
   "outputs": [],
   "source": [
    "df_seg_full = df_customer[segmentation_cols]\n",
    "df_seg_full = df_seg_full.astype({'marital_status': str})\n",
    "df_seg_full = pd.get_dummies(df_seg_full, drop_first=True)\n",
    "df_seg_full;"
   ]
  },
  {
   "cell_type": "code",
   "execution_count": 345,
   "id": "c8173797-7224-4572-a200-1dd7753fa7c3",
   "metadata": {},
   "outputs": [],
   "source": [
    "df_seg_test = df_customer[segmentation_cols2]\n",
    "df_seg_test = df_seg_test.astype({'marital_status': str})\n",
    "df_seg_test = pd.get_dummies(df_seg_test, drop_first=True)    # Note: get_dummies only works on str data types\n",
    "df_seg_test;"
   ]
  },
  {
   "cell_type": "code",
   "execution_count": 200,
   "id": "be1bea9a-82ea-47e2-8c79-9b767fbb7722",
   "metadata": {},
   "outputs": [
    {
     "data": {
      "image/png": "[encoded data removed]",
      "text/plain": [
       "<Figure size 432x288 with 1 Axes>"
      ]
     },
     "metadata": {
      "needs_background": "light"
     },
     "output_type": "display_data"
    }
   ],
   "source": [
    "# Demographics distortion plot\n",
    "plot_distortion(df_seg_full)"
   ]
  },
  {
   "cell_type": "code",
   "execution_count": 325,
   "id": "f0149bab-6ae0-4ef2-a11f-f0b6d0ca02b1",
   "metadata": {},
   "outputs": [],
   "source": [
    "def Nik(dataframe, ScalingMethod, ClusteringMethod, NumberOfClusters, epsilon=0.5, min_samples=5):   \n",
    "    if ScalingMethod == 'MinMax':\n",
    "        scaler = MinMaxScaler()\n",
    "    elif ScalingMethod == 'Standard':\n",
    "        scaler = StandardScaler()\n",
    "    elif ScalingMethod == 'Robust':\n",
    "        scaler = RobustScaler()\n",
    "    elif ScalingMethod == 'MaxAbs':\n",
    "        scaler = MaxAbsScaler()\n",
    "    else:\n",
    "        print('Error: no valid scaler specified')\n",
    "        \n",
    "    df_scaled = pd.DataFrame(scaler.fit_transform(dataframe.astype(float)), columns = dataframe.columns)\n",
    "    \n",
    "    if ClusteringMethod == 'KMeans':\n",
    "        df_scaled['Cluster'] = KMeans(n_clusters=NumberOfClusters, n_init=10).fit_predict(df_scaled)\n",
    "    elif ClusteringMethod == 'Agglomerative':\n",
    "        ac = AgglomerativeClustering(affinity='euclidean', linkage='ward', n_clusters = NumberOfClusters)\n",
    "        df_scaled['Cluster'] = ac.fit_predict(df_scaled)\n",
    "    elif ClusteringMethod == 'DBSCAN':\n",
    "        db = DBSCAN(eps=0.5, min_samples=5, metric='euclidean')\n",
    "        df_scaled['Cluster'] = db.fit_predict(df_scaled)\n",
    "    else:\n",
    "        print('Error: no valid clustering method specified')\n",
    "    \n",
    "    df_radar = df_scaled.groupby('Cluster').mean().divide(df_scaled.drop('Cluster',axis=1).mean())*100\n",
    "    \n",
    "    return df_radar"
   ]
  },
  {
   "cell_type": "code",
   "execution_count": 328,
   "id": "6c7d363e-ef73-4e88-9d36-74c568457536",
   "metadata": {},
   "outputs": [
    {
     "data": {
      "text/html": [
       "<div>\n",
       "<style scoped>\n",
       "    .dataframe tbody tr th:only-of-type {\n",
       "        vertical-align: middle;\n",
       "    }\n",
       "\n",
       "    .dataframe tbody tr th {\n",
       "        vertical-align: top;\n",
       "    }\n",
       "\n",
       "    .dataframe thead th {\n",
       "        text-align: right;\n",
       "    }\n",
       "</style>\n",
       "<table border=\"1\" class=\"dataframe\">\n",
       "  <thead>\n",
       "    <tr style=\"text-align: right;\">\n",
       "      <th></th>\n",
       "      <th>0</th>\n",
       "      <th>1</th>\n",
       "      <th>2</th>\n",
       "      <th>3</th>\n",
       "      <th>4</th>\n",
       "      <th>5</th>\n",
       "      <th>6</th>\n",
       "      <th>7</th>\n",
       "      <th>Cluster</th>\n",
       "    </tr>\n",
       "  </thead>\n",
       "  <tbody>\n",
       "    <tr>\n",
       "      <th>0</th>\n",
       "      <td>0.181399</td>\n",
       "      <td>0.434211</td>\n",
       "      <td>0.555556</td>\n",
       "      <td>0.2</td>\n",
       "      <td>1.0</td>\n",
       "      <td>1.0</td>\n",
       "      <td>0.0</td>\n",
       "      <td>0.0</td>\n",
       "      <td>3</td>\n",
       "    </tr>\n",
       "    <tr>\n",
       "      <th>1</th>\n",
       "      <td>0.045818</td>\n",
       "      <td>0.763158</td>\n",
       "      <td>0.111111</td>\n",
       "      <td>0.0</td>\n",
       "      <td>1.0</td>\n",
       "      <td>1.0</td>\n",
       "      <td>0.0</td>\n",
       "      <td>0.0</td>\n",
       "      <td>3</td>\n",
       "    </tr>\n",
       "    <tr>\n",
       "      <th>2</th>\n",
       "      <td>0.128665</td>\n",
       "      <td>0.328947</td>\n",
       "      <td>0.888889</td>\n",
       "      <td>0.0</td>\n",
       "      <td>0.0</td>\n",
       "      <td>0.0</td>\n",
       "      <td>0.0</td>\n",
       "      <td>0.0</td>\n",
       "      <td>2</td>\n",
       "    </tr>\n",
       "    <tr>\n",
       "      <th>3</th>\n",
       "      <td>0.330667</td>\n",
       "      <td>0.539474</td>\n",
       "      <td>0.333333</td>\n",
       "      <td>0.0</td>\n",
       "      <td>0.0</td>\n",
       "      <td>0.0</td>\n",
       "      <td>0.0</td>\n",
       "      <td>0.0</td>\n",
       "      <td>2</td>\n",
       "    </tr>\n",
       "    <tr>\n",
       "      <th>4</th>\n",
       "      <td>0.309066</td>\n",
       "      <td>0.605263</td>\n",
       "      <td>1.000000</td>\n",
       "      <td>0.4</td>\n",
       "      <td>0.0</td>\n",
       "      <td>0.0</td>\n",
       "      <td>0.0</td>\n",
       "      <td>1.0</td>\n",
       "      <td>2</td>\n",
       "    </tr>\n",
       "    <tr>\n",
       "      <th>...</th>\n",
       "      <td>...</td>\n",
       "      <td>...</td>\n",
       "      <td>...</td>\n",
       "      <td>...</td>\n",
       "      <td>...</td>\n",
       "      <td>...</td>\n",
       "      <td>...</td>\n",
       "      <td>...</td>\n",
       "      <td>...</td>\n",
       "    </tr>\n",
       "    <tr>\n",
       "      <th>742</th>\n",
       "      <td>0.102631</td>\n",
       "      <td>0.302632</td>\n",
       "      <td>0.666667</td>\n",
       "      <td>0.2</td>\n",
       "      <td>0.0</td>\n",
       "      <td>0.0</td>\n",
       "      <td>0.0</td>\n",
       "      <td>1.0</td>\n",
       "      <td>2</td>\n",
       "    </tr>\n",
       "    <tr>\n",
       "      <th>743</th>\n",
       "      <td>0.183043</td>\n",
       "      <td>0.565789</td>\n",
       "      <td>0.666667</td>\n",
       "      <td>0.2</td>\n",
       "      <td>1.0</td>\n",
       "      <td>1.0</td>\n",
       "      <td>0.0</td>\n",
       "      <td>0.0</td>\n",
       "      <td>3</td>\n",
       "    </tr>\n",
       "    <tr>\n",
       "      <th>744</th>\n",
       "      <td>0.425231</td>\n",
       "      <td>0.486842</td>\n",
       "      <td>0.000000</td>\n",
       "      <td>0.4</td>\n",
       "      <td>1.0</td>\n",
       "      <td>1.0</td>\n",
       "      <td>0.0</td>\n",
       "      <td>0.0</td>\n",
       "      <td>3</td>\n",
       "    </tr>\n",
       "    <tr>\n",
       "      <th>745</th>\n",
       "      <td>0.104747</td>\n",
       "      <td>0.315789</td>\n",
       "      <td>0.777778</td>\n",
       "      <td>0.0</td>\n",
       "      <td>0.0</td>\n",
       "      <td>1.0</td>\n",
       "      <td>0.0</td>\n",
       "      <td>0.0</td>\n",
       "      <td>0</td>\n",
       "    </tr>\n",
       "    <tr>\n",
       "      <th>746</th>\n",
       "      <td>0.123997</td>\n",
       "      <td>0.065789</td>\n",
       "      <td>0.333333</td>\n",
       "      <td>0.0</td>\n",
       "      <td>0.0</td>\n",
       "      <td>0.0</td>\n",
       "      <td>0.0</td>\n",
       "      <td>0.0</td>\n",
       "      <td>2</td>\n",
       "    </tr>\n",
       "  </tbody>\n",
       "</table>\n",
       "<p>747 rows × 9 columns</p>\n",
       "</div>"
      ],
      "text/plain": [
       "            0         1         2    3    4    5    6    7  Cluster\n",
       "0    0.181399  0.434211  0.555556  0.2  1.0  1.0  0.0  0.0        3\n",
       "1    0.045818  0.763158  0.111111  0.0  1.0  1.0  0.0  0.0        3\n",
       "2    0.128665  0.328947  0.888889  0.0  0.0  0.0  0.0  0.0        2\n",
       "3    0.330667  0.539474  0.333333  0.0  0.0  0.0  0.0  0.0        2\n",
       "4    0.309066  0.605263  1.000000  0.4  0.0  0.0  0.0  1.0        2\n",
       "..        ...       ...       ...  ...  ...  ...  ...  ...      ...\n",
       "742  0.102631  0.302632  0.666667  0.2  0.0  0.0  0.0  1.0        2\n",
       "743  0.183043  0.565789  0.666667  0.2  1.0  1.0  0.0  0.0        3\n",
       "744  0.425231  0.486842  0.000000  0.4  1.0  1.0  0.0  0.0        3\n",
       "745  0.104747  0.315789  0.777778  0.0  0.0  1.0  0.0  0.0        0\n",
       "746  0.123997  0.065789  0.333333  0.0  0.0  0.0  0.0  0.0        2\n",
       "\n",
       "[747 rows x 9 columns]"
      ]
     },
     "execution_count": 328,
     "metadata": {},
     "output_type": "execute_result"
    }
   ],
   "source": [
    "from sklearn.preprocessing import MinMaxScaler\n",
    "\n",
    "scaler = MinMaxScaler()\n",
    "df_seg_scaled = pd.DataFrame(scaler.fit_transform(df_seg_full.astype(float)))\n",
    "df_seg_scaled['Cluster'] = KMeans(n_clusters=4, n_init=10).fit_predict(df_seg_scaled)\n",
    "df_seg_scaled"
   ]
  },
  {
   "cell_type": "code",
   "execution_count": 202,
   "id": "5cb672ae-ed04-4114-8f76-120d255b17b7",
   "metadata": {},
   "outputs": [
    {
     "data": {
      "text/plain": [
       "0    229\n",
       "1    189\n",
       "2    165\n",
       "3    164\n",
       "Name: Cluster, dtype: int64"
      ]
     },
     "execution_count": 202,
     "metadata": {},
     "output_type": "execute_result"
    }
   ],
   "source": [
    "df_seg_scaled['Cluster'].value_counts()"
   ]
  },
  {
   "cell_type": "markdown",
   "id": "418961ea-6b47-400c-b6a6-c1f0d79849c1",
   "metadata": {},
   "source": [
    "### Banking behavior clustering"
   ]
  },
  {
   "cell_type": "code",
   "execution_count": 208,
   "id": "779ab333-b9b3-4b73-ae30-c158e1f495e8",
   "metadata": {},
   "outputs": [
    {
     "data": {
      "text/html": [
       "<div>\n",
       "<style scoped>\n",
       "    .dataframe tbody tr th:only-of-type {\n",
       "        vertical-align: middle;\n",
       "    }\n",
       "\n",
       "    .dataframe tbody tr th {\n",
       "        vertical-align: top;\n",
       "    }\n",
       "\n",
       "    .dataframe thead th {\n",
       "        text-align: right;\n",
       "    }\n",
       "</style>\n",
       "<table border=\"1\" class=\"dataframe\">\n",
       "  <thead>\n",
       "    <tr style=\"text-align: right;\">\n",
       "      <th></th>\n",
       "      <th>income</th>\n",
       "      <th>credit_balance</th>\n",
       "      <th>checking_balance</th>\n",
       "      <th>savings_balance</th>\n",
       "      <th>avg_tran_amt</th>\n",
       "      <th>count_tran_amt</th>\n",
       "      <th>avg_savings_tran_amt</th>\n",
       "      <th>avg_checking_tran_amt</th>\n",
       "      <th>avg_credit_tran_amt</th>\n",
       "      <th>cnt_savings_tran</th>\n",
       "      <th>cnt_checking_tran</th>\n",
       "      <th>cnt_credit_tran</th>\n",
       "    </tr>\n",
       "  </thead>\n",
       "  <tbody>\n",
       "    <tr>\n",
       "      <th>0</th>\n",
       "      <td>50890</td>\n",
       "      <td>20.00</td>\n",
       "      <td>86.86</td>\n",
       "      <td>1187.97</td>\n",
       "      <td>76.971748</td>\n",
       "      <td>157.0</td>\n",
       "      <td>18.550769</td>\n",
       "      <td>-2.474646</td>\n",
       "      <td>60.895625</td>\n",
       "      <td>26.0</td>\n",
       "      <td>99.0</td>\n",
       "      <td>32.0</td>\n",
       "    </tr>\n",
       "    <tr>\n",
       "      <th>1</th>\n",
       "      <td>10053</td>\n",
       "      <td>369.72</td>\n",
       "      <td>95.32</td>\n",
       "      <td>2122.17</td>\n",
       "      <td>49.836424</td>\n",
       "      <td>187.0</td>\n",
       "      <td>58.474545</td>\n",
       "      <td>-25.435758</td>\n",
       "      <td>16.797636</td>\n",
       "      <td>33.0</td>\n",
       "      <td>99.0</td>\n",
       "      <td>55.0</td>\n",
       "    </tr>\n",
       "  </tbody>\n",
       "</table>\n",
       "</div>"
      ],
      "text/plain": [
       "   income  credit_balance  checking_balance  savings_balance  avg_tran_amt  \\\n",
       "0   50890           20.00             86.86          1187.97     76.971748   \n",
       "1   10053          369.72             95.32          2122.17     49.836424   \n",
       "\n",
       "   count_tran_amt  avg_savings_tran_amt  avg_checking_tran_amt  \\\n",
       "0           157.0             18.550769              -2.474646   \n",
       "1           187.0             58.474545             -25.435758   \n",
       "\n",
       "   avg_credit_tran_amt  cnt_savings_tran  cnt_checking_tran  cnt_credit_tran  \n",
       "0            60.895625              26.0               99.0             32.0  \n",
       "1            16.797636              33.0               99.0             55.0  "
      ]
     },
     "execution_count": 208,
     "metadata": {},
     "output_type": "execute_result"
    }
   ],
   "source": [
    "df_cust_info3 = df_cust_info2.copy()\n",
    "df_cust_info3.columns\n",
    "df_cust_info3 = df_cust_info3.drop(columns=['cust_id', 'age', 'gender', 'nbr_children', 'marital_status'])\n",
    "df_cust_info3.head(2)"
   ]
  },
  {
   "cell_type": "code",
   "execution_count": 209,
   "id": "1dcc0595-f551-4672-99ad-6e4836b7b91b",
   "metadata": {},
   "outputs": [
    {
     "data": {
      "image/png": "[encoded data removed]",
      "text/plain": [
       "<Figure size 432x288 with 1 Axes>"
      ]
     },
     "metadata": {
      "needs_background": "light"
     },
     "output_type": "display_data"
    }
   ],
   "source": [
    "plot_distortion(df_cust_info3)"
   ]
  },
  {
   "cell_type": "code",
   "execution_count": 210,
   "id": "35e1ca12-9463-4a9e-acb5-79f0bb856591",
   "metadata": {},
   "outputs": [
    {
     "data": {
      "text/html": [
       "<div>\n",
       "<style scoped>\n",
       "    .dataframe tbody tr th:only-of-type {\n",
       "        vertical-align: middle;\n",
       "    }\n",
       "\n",
       "    .dataframe tbody tr th {\n",
       "        vertical-align: top;\n",
       "    }\n",
       "\n",
       "    .dataframe thead th {\n",
       "        text-align: right;\n",
       "    }\n",
       "</style>\n",
       "<table border=\"1\" class=\"dataframe\">\n",
       "  <thead>\n",
       "    <tr style=\"text-align: right;\">\n",
       "      <th></th>\n",
       "      <th>0</th>\n",
       "      <th>1</th>\n",
       "      <th>2</th>\n",
       "      <th>3</th>\n",
       "      <th>4</th>\n",
       "      <th>5</th>\n",
       "      <th>6</th>\n",
       "      <th>7</th>\n",
       "      <th>8</th>\n",
       "      <th>9</th>\n",
       "      <th>10</th>\n",
       "      <th>11</th>\n",
       "      <th>Cluster</th>\n",
       "    </tr>\n",
       "  </thead>\n",
       "  <tbody>\n",
       "    <tr>\n",
       "      <th>0</th>\n",
       "      <td>0.353018</td>\n",
       "      <td>0.002105</td>\n",
       "      <td>0.006588</td>\n",
       "      <td>0.052957</td>\n",
       "      <td>0.046217</td>\n",
       "      <td>0.596958</td>\n",
       "      <td>0.375927</td>\n",
       "      <td>0.717276</td>\n",
       "      <td>0.045422</td>\n",
       "      <td>0.419355</td>\n",
       "      <td>1.000000</td>\n",
       "      <td>0.206452</td>\n",
       "      <td>3</td>\n",
       "    </tr>\n",
       "    <tr>\n",
       "      <th>1</th>\n",
       "      <td>0.069736</td>\n",
       "      <td>0.038918</td>\n",
       "      <td>0.007229</td>\n",
       "      <td>0.094601</td>\n",
       "      <td>0.043202</td>\n",
       "      <td>0.711027</td>\n",
       "      <td>0.512149</td>\n",
       "      <td>0.621546</td>\n",
       "      <td>0.040569</td>\n",
       "      <td>0.532258</td>\n",
       "      <td>1.000000</td>\n",
       "      <td>0.354839</td>\n",
       "      <td>3</td>\n",
       "    </tr>\n",
       "    <tr>\n",
       "      <th>2</th>\n",
       "      <td>0.157398</td>\n",
       "      <td>0.115789</td>\n",
       "      <td>0.003450</td>\n",
       "      <td>0.000000</td>\n",
       "      <td>0.036306</td>\n",
       "      <td>0.650190</td>\n",
       "      <td>0.312631</td>\n",
       "      <td>0.720674</td>\n",
       "      <td>0.037557</td>\n",
       "      <td>0.000000</td>\n",
       "      <td>1.000000</td>\n",
       "      <td>0.464516</td>\n",
       "      <td>1</td>\n",
       "    </tr>\n",
       "    <tr>\n",
       "      <th>3</th>\n",
       "      <td>0.074232</td>\n",
       "      <td>0.000000</td>\n",
       "      <td>0.251206</td>\n",
       "      <td>0.005182</td>\n",
       "      <td>0.032739</td>\n",
       "      <td>0.190114</td>\n",
       "      <td>0.289669</td>\n",
       "      <td>0.570811</td>\n",
       "      <td>0.038720</td>\n",
       "      <td>0.403226</td>\n",
       "      <td>0.252525</td>\n",
       "      <td>0.000000</td>\n",
       "      <td>0</td>\n",
       "    </tr>\n",
       "    <tr>\n",
       "      <th>4</th>\n",
       "      <td>0.045818</td>\n",
       "      <td>0.162972</td>\n",
       "      <td>0.106269</td>\n",
       "      <td>0.000575</td>\n",
       "      <td>0.025651</td>\n",
       "      <td>0.391635</td>\n",
       "      <td>0.197907</td>\n",
       "      <td>0.617054</td>\n",
       "      <td>0.033440</td>\n",
       "      <td>0.306452</td>\n",
       "      <td>0.525253</td>\n",
       "      <td>0.206452</td>\n",
       "      <td>2</td>\n",
       "    </tr>\n",
       "    <tr>\n",
       "      <th>...</th>\n",
       "      <td>...</td>\n",
       "      <td>...</td>\n",
       "      <td>...</td>\n",
       "      <td>...</td>\n",
       "      <td>...</td>\n",
       "      <td>...</td>\n",
       "      <td>...</td>\n",
       "      <td>...</td>\n",
       "      <td>...</td>\n",
       "      <td>...</td>\n",
       "      <td>...</td>\n",
       "      <td>...</td>\n",
       "      <td>...</td>\n",
       "    </tr>\n",
       "    <tr>\n",
       "      <th>660</th>\n",
       "      <td>0.000000</td>\n",
       "      <td>0.000000</td>\n",
       "      <td>0.000000</td>\n",
       "      <td>0.102597</td>\n",
       "      <td>0.037982</td>\n",
       "      <td>0.045627</td>\n",
       "      <td>0.322366</td>\n",
       "      <td>0.727593</td>\n",
       "      <td>0.038720</td>\n",
       "      <td>0.193548</td>\n",
       "      <td>0.000000</td>\n",
       "      <td>0.000000</td>\n",
       "      <td>0</td>\n",
       "    </tr>\n",
       "    <tr>\n",
       "      <th>661</th>\n",
       "      <td>0.000000</td>\n",
       "      <td>0.000000</td>\n",
       "      <td>0.000000</td>\n",
       "      <td>0.000794</td>\n",
       "      <td>0.036507</td>\n",
       "      <td>0.068441</td>\n",
       "      <td>0.277064</td>\n",
       "      <td>0.727593</td>\n",
       "      <td>0.038720</td>\n",
       "      <td>0.290323</td>\n",
       "      <td>0.000000</td>\n",
       "      <td>0.000000</td>\n",
       "      <td>0</td>\n",
       "    </tr>\n",
       "    <tr>\n",
       "      <th>662</th>\n",
       "      <td>0.986938</td>\n",
       "      <td>0.723053</td>\n",
       "      <td>0.008050</td>\n",
       "      <td>0.049753</td>\n",
       "      <td>0.030188</td>\n",
       "      <td>0.581749</td>\n",
       "      <td>0.335024</td>\n",
       "      <td>0.675184</td>\n",
       "      <td>0.031977</td>\n",
       "      <td>0.403226</td>\n",
       "      <td>1.000000</td>\n",
       "      <td>0.187097</td>\n",
       "      <td>3</td>\n",
       "    </tr>\n",
       "    <tr>\n",
       "      <th>663</th>\n",
       "      <td>0.208578</td>\n",
       "      <td>0.000000</td>\n",
       "      <td>0.155770</td>\n",
       "      <td>0.024679</td>\n",
       "      <td>0.034398</td>\n",
       "      <td>0.448669</td>\n",
       "      <td>0.352575</td>\n",
       "      <td>0.556195</td>\n",
       "      <td>0.038720</td>\n",
       "      <td>0.306452</td>\n",
       "      <td>1.000000</td>\n",
       "      <td>0.000000</td>\n",
       "      <td>2</td>\n",
       "    </tr>\n",
       "    <tr>\n",
       "      <th>664</th>\n",
       "      <td>0.136233</td>\n",
       "      <td>0.000000</td>\n",
       "      <td>0.013538</td>\n",
       "      <td>0.124067</td>\n",
       "      <td>0.036366</td>\n",
       "      <td>0.513308</td>\n",
       "      <td>0.356400</td>\n",
       "      <td>0.625392</td>\n",
       "      <td>0.038720</td>\n",
       "      <td>0.580645</td>\n",
       "      <td>1.000000</td>\n",
       "      <td>0.000000</td>\n",
       "      <td>3</td>\n",
       "    </tr>\n",
       "  </tbody>\n",
       "</table>\n",
       "<p>665 rows × 13 columns</p>\n",
       "</div>"
      ],
      "text/plain": [
       "            0         1         2         3         4         5         6  \\\n",
       "0    0.353018  0.002105  0.006588  0.052957  0.046217  0.596958  0.375927   \n",
       "1    0.069736  0.038918  0.007229  0.094601  0.043202  0.711027  0.512149   \n",
       "2    0.157398  0.115789  0.003450  0.000000  0.036306  0.650190  0.312631   \n",
       "3    0.074232  0.000000  0.251206  0.005182  0.032739  0.190114  0.289669   \n",
       "4    0.045818  0.162972  0.106269  0.000575  0.025651  0.391635  0.197907   \n",
       "..        ...       ...       ...       ...       ...       ...       ...   \n",
       "660  0.000000  0.000000  0.000000  0.102597  0.037982  0.045627  0.322366   \n",
       "661  0.000000  0.000000  0.000000  0.000794  0.036507  0.068441  0.277064   \n",
       "662  0.986938  0.723053  0.008050  0.049753  0.030188  0.581749  0.335024   \n",
       "663  0.208578  0.000000  0.155770  0.024679  0.034398  0.448669  0.352575   \n",
       "664  0.136233  0.000000  0.013538  0.124067  0.036366  0.513308  0.356400   \n",
       "\n",
       "            7         8         9        10        11  Cluster  \n",
       "0    0.717276  0.045422  0.419355  1.000000  0.206452        3  \n",
       "1    0.621546  0.040569  0.532258  1.000000  0.354839        3  \n",
       "2    0.720674  0.037557  0.000000  1.000000  0.464516        1  \n",
       "3    0.570811  0.038720  0.403226  0.252525  0.000000        0  \n",
       "4    0.617054  0.033440  0.306452  0.525253  0.206452        2  \n",
       "..        ...       ...       ...       ...       ...      ...  \n",
       "660  0.727593  0.038720  0.193548  0.000000  0.000000        0  \n",
       "661  0.727593  0.038720  0.290323  0.000000  0.000000        0  \n",
       "662  0.675184  0.031977  0.403226  1.000000  0.187097        3  \n",
       "663  0.556195  0.038720  0.306452  1.000000  0.000000        2  \n",
       "664  0.625392  0.038720  0.580645  1.000000  0.000000        3  \n",
       "\n",
       "[665 rows x 13 columns]"
      ]
     },
     "execution_count": 210,
     "metadata": {},
     "output_type": "execute_result"
    }
   ],
   "source": [
    "scaler = MinMaxScaler()\n",
    "df_habits_scaled = pd.DataFrame(scaler.fit_transform(df_cust_info3.astype(float)))\n",
    "df_habits_scaled['Cluster'] = KMeans(n_clusters=4, n_init=10).fit_predict(df_habits_scaled)\n",
    "df_habits_scaled"
   ]
  },
  {
   "cell_type": "code",
   "execution_count": 212,
   "id": "39068ddf-9902-4b1a-b454-7fe43d5de29b",
   "metadata": {},
   "outputs": [
    {
     "data": {
      "text/plain": [
       "3    213\n",
       "0    189\n",
       "2    146\n",
       "1    117\n",
       "Name: Cluster, dtype: int64"
      ]
     },
     "execution_count": 212,
     "metadata": {},
     "output_type": "execute_result"
    }
   ],
   "source": [
    "df_habits_scaled['Cluster'].value_counts()"
   ]
  },
  {
   "cell_type": "markdown",
   "id": "e8260764-25cf-49e0-9cd1-ed42a92d1b26",
   "metadata": {
    "tags": []
   },
   "source": [
    "# Radar Chart"
   ]
  },
  {
   "cell_type": "code",
   "execution_count": 214,
   "id": "9dff6280-760f-4619-8d1f-8a7c7c15fe1f",
   "metadata": {},
   "outputs": [
    {
     "data": {
      "text/plain": [
       "Index(['income', 'credit_balance', 'checking_balance', 'savings_balance',\n",
       "       'avg_tran_amt', 'count_tran_amt', 'avg_savings_tran_amt',\n",
       "       'avg_checking_tran_amt', 'avg_credit_tran_amt', 'cnt_savings_tran',\n",
       "       'cnt_checking_tran', 'cnt_credit_tran'],\n",
       "      dtype='object')"
      ]
     },
     "execution_count": 214,
     "metadata": {},
     "output_type": "execute_result"
    }
   ],
   "source": [
    "df_cust_info3.columns"
   ]
  },
  {
   "cell_type": "code",
   "execution_count": 203,
   "id": "5e18b3fa-71d1-4e38-a4e5-430a755b4702",
   "metadata": {},
   "outputs": [
    {
     "data": {
      "text/html": [
       "<div>\n",
       "<style scoped>\n",
       "    .dataframe tbody tr th:only-of-type {\n",
       "        vertical-align: middle;\n",
       "    }\n",
       "\n",
       "    .dataframe tbody tr th {\n",
       "        vertical-align: top;\n",
       "    }\n",
       "\n",
       "    .dataframe thead th {\n",
       "        text-align: right;\n",
       "    }\n",
       "</style>\n",
       "<table border=\"1\" class=\"dataframe\">\n",
       "  <thead>\n",
       "    <tr style=\"text-align: right;\">\n",
       "      <th></th>\n",
       "      <th>income</th>\n",
       "      <th>age</th>\n",
       "      <th>years_with_bank</th>\n",
       "      <th>nbr_children</th>\n",
       "      <th>gender_M</th>\n",
       "      <th>marital_status_2</th>\n",
       "      <th>marital_status_3</th>\n",
       "      <th>marital_status_4</th>\n",
       "    </tr>\n",
       "    <tr>\n",
       "      <th>Cluster</th>\n",
       "      <th></th>\n",
       "      <th></th>\n",
       "      <th></th>\n",
       "      <th></th>\n",
       "      <th></th>\n",
       "      <th></th>\n",
       "      <th></th>\n",
       "      <th></th>\n",
       "    </tr>\n",
       "  </thead>\n",
       "  <tbody>\n",
       "    <tr>\n",
       "      <th>0</th>\n",
       "      <td>74.415666</td>\n",
       "      <td>76.658168</td>\n",
       "      <td>98.452542</td>\n",
       "      <td>63.529758</td>\n",
       "      <td>0.000000</td>\n",
       "      <td>0.000000</td>\n",
       "      <td>203.875546</td>\n",
       "      <td>186.400499</td>\n",
       "    </tr>\n",
       "    <tr>\n",
       "      <th>1</th>\n",
       "      <td>102.834007</td>\n",
       "      <td>127.199145</td>\n",
       "      <td>101.280608</td>\n",
       "      <td>141.367933</td>\n",
       "      <td>0.000000</td>\n",
       "      <td>211.614731</td>\n",
       "      <td>0.000000</td>\n",
       "      <td>0.000000</td>\n",
       "    </tr>\n",
       "    <tr>\n",
       "      <th>2</th>\n",
       "      <td>99.182026</td>\n",
       "      <td>72.038344</td>\n",
       "      <td>93.523311</td>\n",
       "      <td>61.041879</td>\n",
       "      <td>227.051672</td>\n",
       "      <td>0.000000</td>\n",
       "      <td>169.772727</td>\n",
       "      <td>194.025974</td>\n",
       "    </tr>\n",
       "    <tr>\n",
       "      <th>3</th>\n",
       "      <td>133.281408</td>\n",
       "      <td>129.379965</td>\n",
       "      <td>107.201138</td>\n",
       "      <td>142.446561</td>\n",
       "      <td>227.051672</td>\n",
       "      <td>211.614731</td>\n",
       "      <td>0.000000</td>\n",
       "      <td>0.000000</td>\n",
       "    </tr>\n",
       "  </tbody>\n",
       "</table>\n",
       "</div>"
      ],
      "text/plain": [
       "             income         age  years_with_bank  nbr_children    gender_M  \\\n",
       "Cluster                                                                      \n",
       "0         74.415666   76.658168        98.452542     63.529758    0.000000   \n",
       "1        102.834007  127.199145       101.280608    141.367933    0.000000   \n",
       "2         99.182026   72.038344        93.523311     61.041879  227.051672   \n",
       "3        133.281408  129.379965       107.201138    142.446561  227.051672   \n",
       "\n",
       "         marital_status_2  marital_status_3  marital_status_4  \n",
       "Cluster                                                        \n",
       "0                0.000000        203.875546        186.400499  \n",
       "1              211.614731          0.000000          0.000000  \n",
       "2                0.000000        169.772727        194.025974  \n",
       "3              211.614731          0.000000          0.000000  "
      ]
     },
     "execution_count": 203,
     "metadata": {},
     "output_type": "execute_result"
    }
   ],
   "source": [
    "df_radar = df_seg_scaled.groupby('Cluster').mean().divide(df_seg_scaled.drop('Cluster',axis=1).mean())*100\n",
    "df_radar = df_radar.rename(columns={0:'income', 1:'age', 2:'years_with_bank', 3:'nbr_children', 4:'gender_M', 5:'marital_status_2', 6:'marital_status_3', 7:'marital_status_4', })\n",
    "df_radar"
   ]
  },
  {
   "cell_type": "code",
   "execution_count": 215,
   "id": "0353f601-331b-4647-ac93-66d3a09ff720",
   "metadata": {},
   "outputs": [
    {
     "data": {
      "text/html": [
       "<div>\n",
       "<style scoped>\n",
       "    .dataframe tbody tr th:only-of-type {\n",
       "        vertical-align: middle;\n",
       "    }\n",
       "\n",
       "    .dataframe tbody tr th {\n",
       "        vertical-align: top;\n",
       "    }\n",
       "\n",
       "    .dataframe thead th {\n",
       "        text-align: right;\n",
       "    }\n",
       "</style>\n",
       "<table border=\"1\" class=\"dataframe\">\n",
       "  <thead>\n",
       "    <tr style=\"text-align: right;\">\n",
       "      <th></th>\n",
       "      <th>income</th>\n",
       "      <th>credit_balance</th>\n",
       "      <th>checking_balance</th>\n",
       "      <th>savings_balance</th>\n",
       "      <th>avg_tran_amt</th>\n",
       "      <th>count_tran_amt</th>\n",
       "      <th>avg_savings_tran_amt</th>\n",
       "      <th>avg_checking_tran_amt</th>\n",
       "      <th>avg_credit_tran_amt</th>\n",
       "      <th>cnt_savings_tran</th>\n",
       "      <th>cnt_checking_tran</th>\n",
       "      <th>cnt_credit_tran</th>\n",
       "    </tr>\n",
       "    <tr>\n",
       "      <th>Cluster</th>\n",
       "      <th></th>\n",
       "      <th></th>\n",
       "      <th></th>\n",
       "      <th></th>\n",
       "      <th></th>\n",
       "      <th></th>\n",
       "      <th></th>\n",
       "      <th></th>\n",
       "      <th></th>\n",
       "      <th></th>\n",
       "      <th></th>\n",
       "      <th></th>\n",
       "    </tr>\n",
       "  </thead>\n",
       "  <tbody>\n",
       "    <tr>\n",
       "      <th>0</th>\n",
       "      <td>85.404099</td>\n",
       "      <td>84.399770</td>\n",
       "      <td>62.839787</td>\n",
       "      <td>102.179590</td>\n",
       "      <td>102.750319</td>\n",
       "      <td>41.041822</td>\n",
       "      <td>100.099464</td>\n",
       "      <td>106.056693</td>\n",
       "      <td>100.042010</td>\n",
       "      <td>112.483160</td>\n",
       "      <td>8.559464</td>\n",
       "      <td>75.824275</td>\n",
       "    </tr>\n",
       "    <tr>\n",
       "      <th>1</th>\n",
       "      <td>129.032112</td>\n",
       "      <td>182.088466</td>\n",
       "      <td>124.062561</td>\n",
       "      <td>15.024519</td>\n",
       "      <td>87.136595</td>\n",
       "      <td>130.302925</td>\n",
       "      <td>91.997059</td>\n",
       "      <td>97.438788</td>\n",
       "      <td>90.902832</td>\n",
       "      <td>8.076843</td>\n",
       "      <td>141.331327</td>\n",
       "      <td>172.849230</td>\n",
       "    </tr>\n",
       "    <tr>\n",
       "      <th>2</th>\n",
       "      <td>94.336254</td>\n",
       "      <td>15.822428</td>\n",
       "      <td>105.403199</td>\n",
       "      <td>41.506304</td>\n",
       "      <td>120.093225</td>\n",
       "      <td>84.301283</td>\n",
       "      <td>95.507906</td>\n",
       "      <td>96.892225</td>\n",
       "      <td>121.635489</td>\n",
       "      <td>33.461803</td>\n",
       "      <td>124.329211</td>\n",
       "      <td>20.801139</td>\n",
       "    </tr>\n",
       "    <tr>\n",
       "      <th>3</th>\n",
       "      <td>100.886267</td>\n",
       "      <td>126.450791</td>\n",
       "      <td>116.052083</td>\n",
       "      <td>184.836941</td>\n",
       "      <td>90.852569</td>\n",
       "      <td>146.430357</td>\n",
       "      <td>107.386812</td>\n",
       "      <td>98.162826</td>\n",
       "      <td>90.129800</td>\n",
       "      <td>185.024737</td>\n",
       "      <td>141.757893</td>\n",
       "      <td>135.722469</td>\n",
       "    </tr>\n",
       "  </tbody>\n",
       "</table>\n",
       "</div>"
      ],
      "text/plain": [
       "             income  credit_balance  checking_balance  savings_balance  \\\n",
       "Cluster                                                                  \n",
       "0         85.404099       84.399770         62.839787       102.179590   \n",
       "1        129.032112      182.088466        124.062561        15.024519   \n",
       "2         94.336254       15.822428        105.403199        41.506304   \n",
       "3        100.886267      126.450791        116.052083       184.836941   \n",
       "\n",
       "         avg_tran_amt  count_tran_amt  avg_savings_tran_amt  \\\n",
       "Cluster                                                       \n",
       "0          102.750319       41.041822            100.099464   \n",
       "1           87.136595      130.302925             91.997059   \n",
       "2          120.093225       84.301283             95.507906   \n",
       "3           90.852569      146.430357            107.386812   \n",
       "\n",
       "         avg_checking_tran_amt  avg_credit_tran_amt  cnt_savings_tran  \\\n",
       "Cluster                                                                 \n",
       "0                   106.056693           100.042010        112.483160   \n",
       "1                    97.438788            90.902832          8.076843   \n",
       "2                    96.892225           121.635489         33.461803   \n",
       "3                    98.162826            90.129800        185.024737   \n",
       "\n",
       "         cnt_checking_tran  cnt_credit_tran  \n",
       "Cluster                                      \n",
       "0                 8.559464        75.824275  \n",
       "1               141.331327       172.849230  \n",
       "2               124.329211        20.801139  \n",
       "3               141.757893       135.722469  "
      ]
     },
     "execution_count": 215,
     "metadata": {},
     "output_type": "execute_result"
    }
   ],
   "source": [
    "df_radar2 = df_habits_scaled.groupby('Cluster').mean().divide(df_habits_scaled.drop('Cluster',axis=1).mean())*100\n",
    "df_radar2 = df_radar2.rename(columns={0:'income', 1:'credit_balance', 2:'checking_balance', 3:'savings_balance', 4:'avg_tran_amt', 5:'count_tran_amt', 6:'avg_savings_tran_amt', 7:'avg_checking_tran_amt',8:'avg_credit_tran_amt',9:'cnt_savings_tran',10:'cnt_checking_tran',11:'cnt_credit_tran'})\n",
    "df_radar2"
   ]
  },
  {
   "cell_type": "code",
   "execution_count": null,
   "id": "5551b2f0-d483-4076-ac65-31ed204e564b",
   "metadata": {},
   "outputs": [],
   "source": []
  },
  {
   "cell_type": "code",
   "execution_count": 194,
   "id": "06d8028d-bac8-42be-a319-0a1a65e6e805",
   "metadata": {},
   "outputs": [],
   "source": [
    "def plot_radar_chart(df):\n",
    "    data = []\n",
    "    for i in range(0,len(df)):\n",
    "        data.append(go.Scatterpolar(r = df.iloc[i].values,\n",
    "                                    theta = df.iloc[i].index,\n",
    "                                    name = f'cluster_{df.index[i]}',\n",
    "                                    fill = 'toself'))\n",
    "    # mean line\n",
    "    data.append(go.Scatterpolar(r = [100]* df.shape[1],\n",
    "                                theta= df.columns,\n",
    "                                name = 'mean',\n",
    "                                fill = 'toself'))\n",
    "    layout = go.Layout(polar = dict(radialaxis = dict(visible = True)),\n",
    "                       showlegend = True)\n",
    "    fig = go.Figure(data = data, layout = layout)\n",
    "    fig.show()"
   ]
  },
  {
   "cell_type": "code",
   "execution_count": null,
   "id": "e5417220-8d6b-453a-a9a6-a08e2d765178",
   "metadata": {},
   "outputs": [],
   "source": [
    "# Decent clusters:\n",
    "\n",
    "# df_seg_full, 'MinMax', 'Agglomerative', 3"
   ]
  },
  {
   "cell_type": "code",
   "execution_count": 344,
   "id": "4f5b3467-1657-42bc-8e2e-5889b7226532",
   "metadata": {},
   "outputs": [
    {
     "data": {
      "application/vnd.plotly.v1+json": {
       "config": {
        "plotlyServerURL": "https://plot.ly"
       },
       "data": [
        {
         "fill": "toself",
         "name": "cluster_0",
         "r": [
          84.78736493243771,
          74.72347000567298,
          96.3882700945844,
          62.48787999771839,
          0,
          189.59390862944164,
          189.59390862944164,
          95.08509095397528
         ],
         "theta": [
          "income",
          "age",
          "years_with_bank",
          "nbr_children",
          "marital_status_2",
          "marital_status_3",
          "marital_status_4",
          "gender_M "
         ],
         "type": "scatterpolar"
        },
        {
         "fill": "toself",
         "name": "cluster_1",
         "r": [
          102.83400662098398,
          127.19914540449508,
          101.28060816652815,
          141.36793294096614,
          211.61473087818698,
          0,
          0,
          0
         ],
         "theta": [
          "income",
          "age",
          "years_with_bank",
          "nbr_children",
          "marital_status_2",
          "marital_status_3",
          "marital_status_4",
          "gender_M "
         ],
         "type": "scatterpolar"
        },
        {
         "fill": "toself",
         "name": "cluster_2",
         "r": [
          133.2814083247168,
          129.37996546533762,
          107.20113804426855,
          142.44656070156157,
          211.61473087818698,
          0,
          0,
          227.05167173252278
         ],
         "theta": [
          "income",
          "age",
          "years_with_bank",
          "nbr_children",
          "marital_status_2",
          "marital_status_3",
          "marital_status_4",
          "gender_M "
         ],
         "type": "scatterpolar"
        },
        {
         "fill": "toself",
         "name": "mean",
         "r": [
          100,
          100,
          100,
          100,
          100,
          100,
          100,
          100
         ],
         "theta": [
          "income",
          "age",
          "years_with_bank",
          "nbr_children",
          "marital_status_2",
          "marital_status_3",
          "marital_status_4",
          "gender_M "
         ],
         "type": "scatterpolar"
        }
       ],
       "layout": {
        "autosize": true,
        "polar": {
         "angularaxis": {
          "type": "category"
         },
         "radialaxis": {
          "autorange": true,
          "range": [
           0,
           236.9234835469803
          ],
          "type": "linear",
          "visible": true
         }
        },
        "showlegend": true,
        "template": {
         "data": {
          "bar": [
           {
            "error_x": {
             "color": "#2a3f5f"
            },
            "error_y": {
             "color": "#2a3f5f"
            },
            "marker": {
             "line": {
              "color": "#E5ECF6",
              "width": 0.5
             },
             "pattern": {
              "fillmode": "overlay",
              "size": 10,
              "solidity": 0.2
             }
            },
            "type": "bar"
           }
          ],
          "barpolar": [
           {
            "marker": {
             "line": {
              "color": "#E5ECF6",
              "width": 0.5
             },
             "pattern": {
              "fillmode": "overlay",
              "size": 10,
              "solidity": 0.2
             }
            },
            "type": "barpolar"
           }
          ],
          "carpet": [
           {
            "aaxis": {
             "endlinecolor": "#2a3f5f",
             "gridcolor": "white",
             "linecolor": "white",
             "minorgridcolor": "white",
             "startlinecolor": "#2a3f5f"
            },
            "baxis": {
             "endlinecolor": "#2a3f5f",
             "gridcolor": "white",
             "linecolor": "white",
             "minorgridcolor": "white",
             "startlinecolor": "#2a3f5f"
            },
            "type": "carpet"
           }
          ],
          "choropleth": [
           {
            "colorbar": {
             "outlinewidth": 0,
             "ticks": ""
            },
            "type": "choropleth"
           }
          ],
          "contour": [
           {
            "colorbar": {
             "outlinewidth": 0,
             "ticks": ""
            },
            "colorscale": [
             [
              0,
              "#0d0887"
             ],
             [
              0.1111111111111111,
              "#46039f"
             ],
             [
              0.2222222222222222,
              "#7201a8"
             ],
             [
              0.3333333333333333,
              "#9c179e"
             ],
             [
              0.4444444444444444,
              "#bd3786"
             ],
             [
              0.5555555555555556,
              "#d8576b"
             ],
             [
              0.6666666666666666,
              "#ed7953"
             ],
             [
              0.7777777777777778,
              "#fb9f3a"
             ],
             [
              0.8888888888888888,
              "#fdca26"
             ],
             [
              1,
              "#f0f921"
             ]
            ],
            "type": "contour"
           }
          ],
          "contourcarpet": [
           {
            "colorbar": {
             "outlinewidth": 0,
             "ticks": ""
            },
            "type": "contourcarpet"
           }
          ],
          "heatmap": [
           {
            "colorbar": {
             "outlinewidth": 0,
             "ticks": ""
            },
            "colorscale": [
             [
              0,
              "#0d0887"
             ],
             [
              0.1111111111111111,
              "#46039f"
             ],
             [
              0.2222222222222222,
              "#7201a8"
             ],
             [
              0.3333333333333333,
              "#9c179e"
             ],
             [
              0.4444444444444444,
              "#bd3786"
             ],
             [
              0.5555555555555556,
              "#d8576b"
             ],
             [
              0.6666666666666666,
              "#ed7953"
             ],
             [
              0.7777777777777778,
              "#fb9f3a"
             ],
             [
              0.8888888888888888,
              "#fdca26"
             ],
             [
              1,
              "#f0f921"
             ]
            ],
            "type": "heatmap"
           }
          ],
          "heatmapgl": [
           {
            "colorbar": {
             "outlinewidth": 0,
             "ticks": ""
            },
            "colorscale": [
             [
              0,
              "#0d0887"
             ],
             [
              0.1111111111111111,
              "#46039f"
             ],
             [
              0.2222222222222222,
              "#7201a8"
             ],
             [
              0.3333333333333333,
              "#9c179e"
             ],
             [
              0.4444444444444444,
              "#bd3786"
             ],
             [
              0.5555555555555556,
              "#d8576b"
             ],
             [
              0.6666666666666666,
              "#ed7953"
             ],
             [
              0.7777777777777778,
              "#fb9f3a"
             ],
             [
              0.8888888888888888,
              "#fdca26"
             ],
             [
              1,
              "#f0f921"
             ]
            ],
            "type": "heatmapgl"
           }
          ],
          "histogram": [
           {
            "marker": {
             "pattern": {
              "fillmode": "overlay",
              "size": 10,
              "solidity": 0.2
             }
            },
            "type": "histogram"
           }
          ],
          "histogram2d": [
           {
            "colorbar": {
             "outlinewidth": 0,
             "ticks": ""
            },
            "colorscale": [
             [
              0,
              "#0d0887"
             ],
             [
              0.1111111111111111,
              "#46039f"
             ],
             [
              0.2222222222222222,
              "#7201a8"
             ],
             [
              0.3333333333333333,
              "#9c179e"
             ],
             [
              0.4444444444444444,
              "#bd3786"
             ],
             [
              0.5555555555555556,
              "#d8576b"
             ],
             [
              0.6666666666666666,
              "#ed7953"
             ],
             [
              0.7777777777777778,
              "#fb9f3a"
             ],
             [
              0.8888888888888888,
              "#fdca26"
             ],
             [
              1,
              "#f0f921"
             ]
            ],
            "type": "histogram2d"
           }
          ],
          "histogram2dcontour": [
           {
            "colorbar": {
             "outlinewidth": 0,
             "ticks": ""
            },
            "colorscale": [
             [
              0,
              "#0d0887"
             ],
             [
              0.1111111111111111,
              "#46039f"
             ],
             [
              0.2222222222222222,
              "#7201a8"
             ],
             [
              0.3333333333333333,
              "#9c179e"
             ],
             [
              0.4444444444444444,
              "#bd3786"
             ],
             [
              0.5555555555555556,
              "#d8576b"
             ],
             [
              0.6666666666666666,
              "#ed7953"
             ],
             [
              0.7777777777777778,
              "#fb9f3a"
             ],
             [
              0.8888888888888888,
              "#fdca26"
             ],
             [
              1,
              "#f0f921"
             ]
            ],
            "type": "histogram2dcontour"
           }
          ],
          "mesh3d": [
           {
            "colorbar": {
             "outlinewidth": 0,
             "ticks": ""
            },
            "type": "mesh3d"
           }
          ],
          "parcoords": [
           {
            "line": {
             "colorbar": {
              "outlinewidth": 0,
              "ticks": ""
             }
            },
            "type": "parcoords"
           }
          ],
          "pie": [
           {
            "automargin": true,
            "type": "pie"
           }
          ],
          "scatter": [
           {
            "marker": {
             "colorbar": {
              "outlinewidth": 0,
              "ticks": ""
             }
            },
            "type": "scatter"
           }
          ],
          "scatter3d": [
           {
            "line": {
             "colorbar": {
              "outlinewidth": 0,
              "ticks": ""
             }
            },
            "marker": {
             "colorbar": {
              "outlinewidth": 0,
              "ticks": ""
             }
            },
            "type": "scatter3d"
           }
          ],
          "scattercarpet": [
           {
            "marker": {
             "colorbar": {
              "outlinewidth": 0,
              "ticks": ""
             }
            },
            "type": "scattercarpet"
           }
          ],
          "scattergeo": [
           {
            "marker": {
             "colorbar": {
              "outlinewidth": 0,
              "ticks": ""
             }
            },
            "type": "scattergeo"
           }
          ],
          "scattergl": [
           {
            "marker": {
             "colorbar": {
              "outlinewidth": 0,
              "ticks": ""
             }
            },
            "type": "scattergl"
           }
          ],
          "scattermapbox": [
           {
            "marker": {
             "colorbar": {
              "outlinewidth": 0,
              "ticks": ""
             }
            },
            "type": "scattermapbox"
           }
          ],
          "scatterpolar": [
           {
            "marker": {
             "colorbar": {
              "outlinewidth": 0,
              "ticks": ""
             }
            },
            "type": "scatterpolar"
           }
          ],
          "scatterpolargl": [
           {
            "marker": {
             "colorbar": {
              "outlinewidth": 0,
              "ticks": ""
             }
            },
            "type": "scatterpolargl"
           }
          ],
          "scatterternary": [
           {
            "marker": {
             "colorbar": {
              "outlinewidth": 0,
              "ticks": ""
             }
            },
            "type": "scatterternary"
           }
          ],
          "surface": [
           {
            "colorbar": {
             "outlinewidth": 0,
             "ticks": ""
            },
            "colorscale": [
             [
              0,
              "#0d0887"
             ],
             [
              0.1111111111111111,
              "#46039f"
             ],
             [
              0.2222222222222222,
              "#7201a8"
             ],
             [
              0.3333333333333333,
              "#9c179e"
             ],
             [
              0.4444444444444444,
              "#bd3786"
             ],
             [
              0.5555555555555556,
              "#d8576b"
             ],
             [
              0.6666666666666666,
              "#ed7953"
             ],
             [
              0.7777777777777778,
              "#fb9f3a"
             ],
             [
              0.8888888888888888,
              "#fdca26"
             ],
             [
              1,
              "#f0f921"
             ]
            ],
            "type": "surface"
           }
          ],
          "table": [
           {
            "cells": {
             "fill": {
              "color": "#EBF0F8"
             },
             "line": {
              "color": "white"
             }
            },
            "header": {
             "fill": {
              "color": "#C8D4E3"
             },
             "line": {
              "color": "white"
             }
            },
            "type": "table"
           }
          ]
         },
         "layout": {
          "annotationdefaults": {
           "arrowcolor": "#2a3f5f",
           "arrowhead": 0,
           "arrowwidth": 1
          },
          "autotypenumbers": "strict",
          "coloraxis": {
           "colorbar": {
            "outlinewidth": 0,
            "ticks": ""
           }
          },
          "colorscale": {
           "diverging": [
            [
             0,
             "#8e0152"
            ],
            [
             0.1,
             "#c51b7d"
            ],
            [
             0.2,
             "#de77ae"
            ],
            [
             0.3,
             "#f1b6da"
            ],
            [
             0.4,
             "#fde0ef"
            ],
            [
             0.5,
             "#f7f7f7"
            ],
            [
             0.6,
             "#e6f5d0"
            ],
            [
             0.7,
             "#b8e186"
            ],
            [
             0.8,
             "#7fbc41"
            ],
            [
             0.9,
             "#4d9221"
            ],
            [
             1,
             "#276419"
            ]
           ],
           "sequential": [
            [
             0,
             "#0d0887"
            ],
            [
             0.1111111111111111,
             "#46039f"
            ],
            [
             0.2222222222222222,
             "#7201a8"
            ],
            [
             0.3333333333333333,
             "#9c179e"
            ],
            [
             0.4444444444444444,
             "#bd3786"
            ],
            [
             0.5555555555555556,
             "#d8576b"
            ],
            [
             0.6666666666666666,
             "#ed7953"
            ],
            [
             0.7777777777777778,
             "#fb9f3a"
            ],
            [
             0.8888888888888888,
             "#fdca26"
            ],
            [
             1,
             "#f0f921"
            ]
           ],
           "sequentialminus": [
            [
             0,
             "#0d0887"
            ],
            [
             0.1111111111111111,
             "#46039f"
            ],
            [
             0.2222222222222222,
             "#7201a8"
            ],
            [
             0.3333333333333333,
             "#9c179e"
            ],
            [
             0.4444444444444444,
             "#bd3786"
            ],
            [
             0.5555555555555556,
             "#d8576b"
            ],
            [
             0.6666666666666666,
             "#ed7953"
            ],
            [
             0.7777777777777778,
             "#fb9f3a"
            ],
            [
             0.8888888888888888,
             "#fdca26"
            ],
            [
             1,
             "#f0f921"
            ]
           ]
          },
          "colorway": [
           "#636efa",
           "#EF553B",
           "#00cc96",
           "#ab63fa",
           "#FFA15A",
           "#19d3f3",
           "#FF6692",
           "#B6E880",
           "#FF97FF",
           "#FECB52"
          ],
          "font": {
           "color": "#2a3f5f"
          },
          "geo": {
           "bgcolor": "white",
           "lakecolor": "white",
           "landcolor": "#E5ECF6",
           "showlakes": true,
           "showland": true,
           "subunitcolor": "white"
          },
          "hoverlabel": {
           "align": "left"
          },
          "hovermode": "closest",
          "mapbox": {
           "style": "light"
          },
          "paper_bgcolor": "white",
          "plot_bgcolor": "#E5ECF6",
          "polar": {
           "angularaxis": {
            "gridcolor": "white",
            "linecolor": "white",
            "ticks": ""
           },
           "bgcolor": "#E5ECF6",
           "radialaxis": {
            "gridcolor": "white",
            "linecolor": "white",
            "ticks": ""
           }
          },
          "scene": {
           "xaxis": {
            "backgroundcolor": "#E5ECF6",
            "gridcolor": "white",
            "gridwidth": 2,
            "linecolor": "white",
            "showbackground": true,
            "ticks": "",
            "zerolinecolor": "white"
           },
           "yaxis": {
            "backgroundcolor": "#E5ECF6",
            "gridcolor": "white",
            "gridwidth": 2,
            "linecolor": "white",
            "showbackground": true,
            "ticks": "",
            "zerolinecolor": "white"
           },
           "zaxis": {
            "backgroundcolor": "#E5ECF6",
            "gridcolor": "white",
            "gridwidth": 2,
            "linecolor": "white",
            "showbackground": true,
            "ticks": "",
            "zerolinecolor": "white"
           }
          },
          "shapedefaults": {
           "line": {
            "color": "#2a3f5f"
           }
          },
          "ternary": {
           "aaxis": {
            "gridcolor": "white",
            "linecolor": "white",
            "ticks": ""
           },
           "baxis": {
            "gridcolor": "white",
            "linecolor": "white",
            "ticks": ""
           },
           "bgcolor": "#E5ECF6",
           "caxis": {
            "gridcolor": "white",
            "linecolor": "white",
            "ticks": ""
           }
          },
          "title": {
           "x": 0.05
          },
          "xaxis": {
           "automargin": true,
           "gridcolor": "white",
           "linecolor": "white",
           "ticks": "",
           "title": {
            "standoff": 15
           },
           "zerolinecolor": "white",
           "zerolinewidth": 2
          },
          "yaxis": {
           "automargin": true,
           "gridcolor": "white",
           "linecolor": "white",
           "ticks": "",
           "title": {
            "standoff": 15
           },
           "zerolinecolor": "white",
           "zerolinewidth": 2
          }
         }
        }
       }
      },
      "image/png": "[encoded data removed]",
      "text/html": [
       "<div>                            <div id=\"041b8490-0151-4f1e-a572-e1cf213582e1\" class=\"plotly-graph-div\" style=\"height:525px; width:100%;\"></div>            <script type=\"text/javascript\">                require([\"plotly\"], function(Plotly) {                    window.PLOTLYENV=window.PLOTLYENV || {};                                    if (document.getElementById(\"041b8490-0151-4f1e-a572-e1cf213582e1\")) {                    Plotly.newPlot(                        \"041b8490-0151-4f1e-a572-e1cf213582e1\",                        [{\"fill\":\"toself\",\"name\":\"cluster_0\",\"r\":[84.78736493243771,74.72347000567298,96.3882700945844,62.48787999771839,0.0,189.59390862944164,189.59390862944164,95.08509095397528],\"theta\":[\"income\",\"age\",\"years_with_bank\",\"nbr_children\",\"marital_status_2\",\"marital_status_3\",\"marital_status_4\",\"gender_M \"],\"type\":\"scatterpolar\"},{\"fill\":\"toself\",\"name\":\"cluster_1\",\"r\":[102.83400662098398,127.19914540449508,101.28060816652815,141.36793294096614,211.61473087818698,0.0,0.0,0.0],\"theta\":[\"income\",\"age\",\"years_with_bank\",\"nbr_children\",\"marital_status_2\",\"marital_status_3\",\"marital_status_4\",\"gender_M \"],\"type\":\"scatterpolar\"},{\"fill\":\"toself\",\"name\":\"cluster_2\",\"r\":[133.2814083247168,129.37996546533762,107.20113804426855,142.44656070156157,211.61473087818698,0.0,0.0,227.05167173252278],\"theta\":[\"income\",\"age\",\"years_with_bank\",\"nbr_children\",\"marital_status_2\",\"marital_status_3\",\"marital_status_4\",\"gender_M \"],\"type\":\"scatterpolar\"},{\"fill\":\"toself\",\"name\":\"mean\",\"r\":[100,100,100,100,100,100,100,100],\"theta\":[\"income\",\"age\",\"years_with_bank\",\"nbr_children\",\"marital_status_2\",\"marital_status_3\",\"marital_status_4\",\"gender_M \"],\"type\":\"scatterpolar\"}],                        {\"polar\":{\"radialaxis\":{\"visible\":true}},\"showlegend\":true,\"template\":{\"data\":{\"bar\":[{\"error_x\":{\"color\":\"#2a3f5f\"},\"error_y\":{\"color\":\"#2a3f5f\"},\"marker\":{\"line\":{\"color\":\"#E5ECF6\",\"width\":0.5},\"pattern\":{\"fillmode\":\"overlay\",\"size\":10,\"solidity\":0.2}},\"type\":\"bar\"}],\"barpolar\":[{\"marker\":{\"line\":{\"color\":\"#E5ECF6\",\"width\":0.5},\"pattern\":{\"fillmode\":\"overlay\",\"size\":10,\"solidity\":0.2}},\"type\":\"barpolar\"}],\"carpet\":[{\"aaxis\":{\"endlinecolor\":\"#2a3f5f\",\"gridcolor\":\"white\",\"linecolor\":\"white\",\"minorgridcolor\":\"white\",\"startlinecolor\":\"#2a3f5f\"},\"baxis\":{\"endlinecolor\":\"#2a3f5f\",\"gridcolor\":\"white\",\"linecolor\":\"white\",\"minorgridcolor\":\"white\",\"startlinecolor\":\"#2a3f5f\"},\"type\":\"carpet\"}],\"choropleth\":[{\"colorbar\":{\"outlinewidth\":0,\"ticks\":\"\"},\"type\":\"choropleth\"}],\"contour\":[{\"colorbar\":{\"outlinewidth\":0,\"ticks\":\"\"},\"colorscale\":[[0.0,\"#0d0887\"],[0.1111111111111111,\"#46039f\"],[0.2222222222222222,\"#7201a8\"],[0.3333333333333333,\"#9c179e\"],[0.4444444444444444,\"#bd3786\"],[0.5555555555555556,\"#d8576b\"],[0.6666666666666666,\"#ed7953\"],[0.7777777777777778,\"#fb9f3a\"],[0.8888888888888888,\"#fdca26\"],[1.0,\"#f0f921\"]],\"type\":\"contour\"}],\"contourcarpet\":[{\"colorbar\":{\"outlinewidth\":0,\"ticks\":\"\"},\"type\":\"contourcarpet\"}],\"heatmap\":[{\"colorbar\":{\"outlinewidth\":0,\"ticks\":\"\"},\"colorscale\":[[0.0,\"#0d0887\"],[0.1111111111111111,\"#46039f\"],[0.2222222222222222,\"#7201a8\"],[0.3333333333333333,\"#9c179e\"],[0.4444444444444444,\"#bd3786\"],[0.5555555555555556,\"#d8576b\"],[0.6666666666666666,\"#ed7953\"],[0.7777777777777778,\"#fb9f3a\"],[0.8888888888888888,\"#fdca26\"],[1.0,\"#f0f921\"]],\"type\":\"heatmap\"}],\"heatmapgl\":[{\"colorbar\":{\"outlinewidth\":0,\"ticks\":\"\"},\"colorscale\":[[0.0,\"#0d0887\"],[0.1111111111111111,\"#46039f\"],[0.2222222222222222,\"#7201a8\"],[0.3333333333333333,\"#9c179e\"],[0.4444444444444444,\"#bd3786\"],[0.5555555555555556,\"#d8576b\"],[0.6666666666666666,\"#ed7953\"],[0.7777777777777778,\"#fb9f3a\"],[0.8888888888888888,\"#fdca26\"],[1.0,\"#f0f921\"]],\"type\":\"heatmapgl\"}],\"histogram\":[{\"marker\":{\"pattern\":{\"fillmode\":\"overlay\",\"size\":10,\"solidity\":0.2}},\"type\":\"histogram\"}],\"histogram2d\":[{\"colorbar\":{\"outlinewidth\":0,\"ticks\":\"\"},\"colorscale\":[[0.0,\"#0d0887\"],[0.1111111111111111,\"#46039f\"],[0.2222222222222222,\"#7201a8\"],[0.3333333333333333,\"#9c179e\"],[0.4444444444444444,\"#bd3786\"],[0.5555555555555556,\"#d8576b\"],[0.6666666666666666,\"#ed7953\"],[0.7777777777777778,\"#fb9f3a\"],[0.8888888888888888,\"#fdca26\"],[1.0,\"#f0f921\"]],\"type\":\"histogram2d\"}],\"histogram2dcontour\":[{\"colorbar\":{\"outlinewidth\":0,\"ticks\":\"\"},\"colorscale\":[[0.0,\"#0d0887\"],[0.1111111111111111,\"#46039f\"],[0.2222222222222222,\"#7201a8\"],[0.3333333333333333,\"#9c179e\"],[0.4444444444444444,\"#bd3786\"],[0.5555555555555556,\"#d8576b\"],[0.6666666666666666,\"#ed7953\"],[0.7777777777777778,\"#fb9f3a\"],[0.8888888888888888,\"#fdca26\"],[1.0,\"#f0f921\"]],\"type\":\"histogram2dcontour\"}],\"mesh3d\":[{\"colorbar\":{\"outlinewidth\":0,\"ticks\":\"\"},\"type\":\"mesh3d\"}],\"parcoords\":[{\"line\":{\"colorbar\":{\"outlinewidth\":0,\"ticks\":\"\"}},\"type\":\"parcoords\"}],\"pie\":[{\"automargin\":true,\"type\":\"pie\"}],\"scatter\":[{\"marker\":{\"colorbar\":{\"outlinewidth\":0,\"ticks\":\"\"}},\"type\":\"scatter\"}],\"scatter3d\":[{\"line\":{\"colorbar\":{\"outlinewidth\":0,\"ticks\":\"\"}},\"marker\":{\"colorbar\":{\"outlinewidth\":0,\"ticks\":\"\"}},\"type\":\"scatter3d\"}],\"scattercarpet\":[{\"marker\":{\"colorbar\":{\"outlinewidth\":0,\"ticks\":\"\"}},\"type\":\"scattercarpet\"}],\"scattergeo\":[{\"marker\":{\"colorbar\":{\"outlinewidth\":0,\"ticks\":\"\"}},\"type\":\"scattergeo\"}],\"scattergl\":[{\"marker\":{\"colorbar\":{\"outlinewidth\":0,\"ticks\":\"\"}},\"type\":\"scattergl\"}],\"scattermapbox\":[{\"marker\":{\"colorbar\":{\"outlinewidth\":0,\"ticks\":\"\"}},\"type\":\"scattermapbox\"}],\"scatterpolar\":[{\"marker\":{\"colorbar\":{\"outlinewidth\":0,\"ticks\":\"\"}},\"type\":\"scatterpolar\"}],\"scatterpolargl\":[{\"marker\":{\"colorbar\":{\"outlinewidth\":0,\"ticks\":\"\"}},\"type\":\"scatterpolargl\"}],\"scatterternary\":[{\"marker\":{\"colorbar\":{\"outlinewidth\":0,\"ticks\":\"\"}},\"type\":\"scatterternary\"}],\"surface\":[{\"colorbar\":{\"outlinewidth\":0,\"ticks\":\"\"},\"colorscale\":[[0.0,\"#0d0887\"],[0.1111111111111111,\"#46039f\"],[0.2222222222222222,\"#7201a8\"],[0.3333333333333333,\"#9c179e\"],[0.4444444444444444,\"#bd3786\"],[0.5555555555555556,\"#d8576b\"],[0.6666666666666666,\"#ed7953\"],[0.7777777777777778,\"#fb9f3a\"],[0.8888888888888888,\"#fdca26\"],[1.0,\"#f0f921\"]],\"type\":\"surface\"}],\"table\":[{\"cells\":{\"fill\":{\"color\":\"#EBF0F8\"},\"line\":{\"color\":\"white\"}},\"header\":{\"fill\":{\"color\":\"#C8D4E3\"},\"line\":{\"color\":\"white\"}},\"type\":\"table\"}]},\"layout\":{\"annotationdefaults\":{\"arrowcolor\":\"#2a3f5f\",\"arrowhead\":0,\"arrowwidth\":1},\"autotypenumbers\":\"strict\",\"coloraxis\":{\"colorbar\":{\"outlinewidth\":0,\"ticks\":\"\"}},\"colorscale\":{\"diverging\":[[0,\"#8e0152\"],[0.1,\"#c51b7d\"],[0.2,\"#de77ae\"],[0.3,\"#f1b6da\"],[0.4,\"#fde0ef\"],[0.5,\"#f7f7f7\"],[0.6,\"#e6f5d0\"],[0.7,\"#b8e186\"],[0.8,\"#7fbc41\"],[0.9,\"#4d9221\"],[1,\"#276419\"]],\"sequential\":[[0.0,\"#0d0887\"],[0.1111111111111111,\"#46039f\"],[0.2222222222222222,\"#7201a8\"],[0.3333333333333333,\"#9c179e\"],[0.4444444444444444,\"#bd3786\"],[0.5555555555555556,\"#d8576b\"],[0.6666666666666666,\"#ed7953\"],[0.7777777777777778,\"#fb9f3a\"],[0.8888888888888888,\"#fdca26\"],[1.0,\"#f0f921\"]],\"sequentialminus\":[[0.0,\"#0d0887\"],[0.1111111111111111,\"#46039f\"],[0.2222222222222222,\"#7201a8\"],[0.3333333333333333,\"#9c179e\"],[0.4444444444444444,\"#bd3786\"],[0.5555555555555556,\"#d8576b\"],[0.6666666666666666,\"#ed7953\"],[0.7777777777777778,\"#fb9f3a\"],[0.8888888888888888,\"#fdca26\"],[1.0,\"#f0f921\"]]},\"colorway\":[\"#636efa\",\"#EF553B\",\"#00cc96\",\"#ab63fa\",\"#FFA15A\",\"#19d3f3\",\"#FF6692\",\"#B6E880\",\"#FF97FF\",\"#FECB52\"],\"font\":{\"color\":\"#2a3f5f\"},\"geo\":{\"bgcolor\":\"white\",\"lakecolor\":\"white\",\"landcolor\":\"#E5ECF6\",\"showlakes\":true,\"showland\":true,\"subunitcolor\":\"white\"},\"hoverlabel\":{\"align\":\"left\"},\"hovermode\":\"closest\",\"mapbox\":{\"style\":\"light\"},\"paper_bgcolor\":\"white\",\"plot_bgcolor\":\"#E5ECF6\",\"polar\":{\"angularaxis\":{\"gridcolor\":\"white\",\"linecolor\":\"white\",\"ticks\":\"\"},\"bgcolor\":\"#E5ECF6\",\"radialaxis\":{\"gridcolor\":\"white\",\"linecolor\":\"white\",\"ticks\":\"\"}},\"scene\":{\"xaxis\":{\"backgroundcolor\":\"#E5ECF6\",\"gridcolor\":\"white\",\"gridwidth\":2,\"linecolor\":\"white\",\"showbackground\":true,\"ticks\":\"\",\"zerolinecolor\":\"white\"},\"yaxis\":{\"backgroundcolor\":\"#E5ECF6\",\"gridcolor\":\"white\",\"gridwidth\":2,\"linecolor\":\"white\",\"showbackground\":true,\"ticks\":\"\",\"zerolinecolor\":\"white\"},\"zaxis\":{\"backgroundcolor\":\"#E5ECF6\",\"gridcolor\":\"white\",\"gridwidth\":2,\"linecolor\":\"white\",\"showbackground\":true,\"ticks\":\"\",\"zerolinecolor\":\"white\"}},\"shapedefaults\":{\"line\":{\"color\":\"#2a3f5f\"}},\"ternary\":{\"aaxis\":{\"gridcolor\":\"white\",\"linecolor\":\"white\",\"ticks\":\"\"},\"baxis\":{\"gridcolor\":\"white\",\"linecolor\":\"white\",\"ticks\":\"\"},\"bgcolor\":\"#E5ECF6\",\"caxis\":{\"gridcolor\":\"white\",\"linecolor\":\"white\",\"ticks\":\"\"}},\"title\":{\"x\":0.05},\"xaxis\":{\"automargin\":true,\"gridcolor\":\"white\",\"linecolor\":\"white\",\"ticks\":\"\",\"title\":{\"standoff\":15},\"zerolinecolor\":\"white\",\"zerolinewidth\":2},\"yaxis\":{\"automargin\":true,\"gridcolor\":\"white\",\"linecolor\":\"white\",\"ticks\":\"\",\"title\":{\"standoff\":15},\"zerolinecolor\":\"white\",\"zerolinewidth\":2}}}},                        {\"responsive\": true}                    ).then(function(){\n",
       "                            \n",
       "var gd = document.getElementById('041b8490-0151-4f1e-a572-e1cf213582e1');\n",
       "var x = new MutationObserver(function (mutations, observer) {{\n",
       "        var display = window.getComputedStyle(gd).display;\n",
       "        if (!display || display === 'none') {{\n",
       "            console.log([gd, 'removed!']);\n",
       "            Plotly.purge(gd);\n",
       "            observer.disconnect();\n",
       "        }}\n",
       "}});\n",
       "\n",
       "// Listen for the removal of the full notebook cells\n",
       "var notebookContainer = gd.closest('#notebook-container');\n",
       "if (notebookContainer) {{\n",
       "    x.observe(notebookContainer, {childList: true});\n",
       "}}\n",
       "\n",
       "// Listen for the clearing of the current output cell\n",
       "var outputEl = gd.closest('.output');\n",
       "if (outputEl) {{\n",
       "    x.observe(outputEl, {childList: true});\n",
       "}}\n",
       "\n",
       "                        })                };                });            </script>        </div>"
      ]
     },
     "metadata": {},
     "output_type": "display_data"
    }
   ],
   "source": [
    "plot_radar_chart(Nik(df_seg_full, 'MinMax', 'Agglomerative', 3, epsilon=0.2, min_samples=10))"
   ]
  },
  {
   "cell_type": "code",
   "execution_count": 327,
   "id": "6a7df2af-5f24-4cd9-b0b3-e89aed8fe5cf",
   "metadata": {},
   "outputs": [
    {
     "data": {
      "application/vnd.plotly.v1+json": {
       "config": {
        "plotlyServerURL": "https://plot.ly"
       },
       "data": [
        {
         "fill": "toself",
         "name": "cluster_0",
         "r": [
          99.16163896853385,
          127.64937630376683,
          116.89890232414632,
          184.28494691268463,
          90.87259268477004,
          146.81463548171826,
          107.07733455429877,
          98.43973565413198,
          90.11276540257289,
          185.39831986306808,
          141.750975787985,
          137.0089374575376
         ],
         "theta": [
          "income",
          "credit_balance",
          "checking_balance",
          "savings_balance",
          "avg_tran_amt",
          "count_tran_amt",
          "avg_savings_tran_amt",
          "avg_checking_tran_amt",
          "avg_credit_tran_amt",
          "cnt_savings_tran",
          "cnt_checking_tran",
          "cnt_credit_tran"
         ],
         "type": "scatterpolar"
        },
        {
         "fill": "toself",
         "name": "cluster_1",
         "r": [
          85.40409949261445,
          84.39977021356242,
          62.83978690455652,
          102.17958955414596,
          102.75031929173888,
          41.041821863121406,
          100.09946413245603,
          106.0566930344685,
          100.04200963111502,
          112.48315971705021,
          8.559464147724904,
          75.8242747135492
         ],
         "theta": [
          "income",
          "credit_balance",
          "checking_balance",
          "savings_balance",
          "avg_tran_amt",
          "count_tran_amt",
          "avg_savings_tran_amt",
          "avg_checking_tran_amt",
          "avg_credit_tran_amt",
          "cnt_savings_tran",
          "cnt_checking_tran",
          "cnt_credit_tran"
         ],
         "type": "scatterpolar"
        },
        {
         "fill": "toself",
         "name": "cluster_2",
         "r": [
          98.60706697506211,
          15.503855412732277,
          104.15208071407942,
          51.628918984975,
          119.7811639404529,
          84.81361907300168,
          96.15739338923724,
          96.56926397231199,
          121.30495119700775,
          35.221253376248576,
          124.69481709070777,
          20.957721149209455
         ],
         "theta": [
          "income",
          "credit_balance",
          "checking_balance",
          "savings_balance",
          "avg_tran_amt",
          "count_tran_amt",
          "avg_savings_tran_amt",
          "avg_checking_tran_amt",
          "avg_credit_tran_amt",
          "cnt_savings_tran",
          "cnt_checking_tran",
          "cnt_credit_tran"
         ],
         "type": "scatterpolar"
        },
        {
         "fill": "toself",
         "name": "cluster_3",
         "r": [
          127.09539995043917,
          183.65819459521327,
          124.47372291591523,
          5.269179714902259,
          86.71275146764957,
          130.41360637370823,
          91.9002764914866,
          97.37655570335573,
          90.55024958122864,
          7.531642838871921,
          141.32135895085963,
          173.60022262384945
         ],
         "theta": [
          "income",
          "credit_balance",
          "checking_balance",
          "savings_balance",
          "avg_tran_amt",
          "count_tran_amt",
          "avg_savings_tran_amt",
          "avg_checking_tran_amt",
          "avg_credit_tran_amt",
          "cnt_savings_tran",
          "cnt_checking_tran",
          "cnt_credit_tran"
         ],
         "type": "scatterpolar"
        },
        {
         "fill": "toself",
         "name": "mean",
         "r": [
          100,
          100,
          100,
          100,
          100,
          100,
          100,
          100,
          100,
          100,
          100,
          100
         ],
         "theta": [
          "income",
          "credit_balance",
          "checking_balance",
          "savings_balance",
          "avg_tran_amt",
          "count_tran_amt",
          "avg_savings_tran_amt",
          "avg_checking_tran_amt",
          "avg_credit_tran_amt",
          "cnt_savings_tran",
          "cnt_checking_tran",
          "cnt_credit_tran"
         ],
         "type": "scatterpolar"
        }
       ],
       "layout": {
        "autosize": true,
        "polar": {
         "angularaxis": {
          "type": "category"
         },
         "radialaxis": {
          "autorange": true,
          "range": [
           0,
           193.45911637885365
          ],
          "type": "linear",
          "visible": true
         }
        },
        "showlegend": true,
        "template": {
         "data": {
          "bar": [
           {
            "error_x": {
             "color": "#2a3f5f"
            },
            "error_y": {
             "color": "#2a3f5f"
            },
            "marker": {
             "line": {
              "color": "#E5ECF6",
              "width": 0.5
             },
             "pattern": {
              "fillmode": "overlay",
              "size": 10,
              "solidity": 0.2
             }
            },
            "type": "bar"
           }
          ],
          "barpolar": [
           {
            "marker": {
             "line": {
              "color": "#E5ECF6",
              "width": 0.5
             },
             "pattern": {
              "fillmode": "overlay",
              "size": 10,
              "solidity": 0.2
             }
            },
            "type": "barpolar"
           }
          ],
          "carpet": [
           {
            "aaxis": {
             "endlinecolor": "#2a3f5f",
             "gridcolor": "white",
             "linecolor": "white",
             "minorgridcolor": "white",
             "startlinecolor": "#2a3f5f"
            },
            "baxis": {
             "endlinecolor": "#2a3f5f",
             "gridcolor": "white",
             "linecolor": "white",
             "minorgridcolor": "white",
             "startlinecolor": "#2a3f5f"
            },
            "type": "carpet"
           }
          ],
          "choropleth": [
           {
            "colorbar": {
             "outlinewidth": 0,
             "ticks": ""
            },
            "type": "choropleth"
           }
          ],
          "contour": [
           {
            "colorbar": {
             "outlinewidth": 0,
             "ticks": ""
            },
            "colorscale": [
             [
              0,
              "#0d0887"
             ],
             [
              0.1111111111111111,
              "#46039f"
             ],
             [
              0.2222222222222222,
              "#7201a8"
             ],
             [
              0.3333333333333333,
              "#9c179e"
             ],
             [
              0.4444444444444444,
              "#bd3786"
             ],
             [
              0.5555555555555556,
              "#d8576b"
             ],
             [
              0.6666666666666666,
              "#ed7953"
             ],
             [
              0.7777777777777778,
              "#fb9f3a"
             ],
             [
              0.8888888888888888,
              "#fdca26"
             ],
             [
              1,
              "#f0f921"
             ]
            ],
            "type": "contour"
           }
          ],
          "contourcarpet": [
           {
            "colorbar": {
             "outlinewidth": 0,
             "ticks": ""
            },
            "type": "contourcarpet"
           }
          ],
          "heatmap": [
           {
            "colorbar": {
             "outlinewidth": 0,
             "ticks": ""
            },
            "colorscale": [
             [
              0,
              "#0d0887"
             ],
             [
              0.1111111111111111,
              "#46039f"
             ],
             [
              0.2222222222222222,
              "#7201a8"
             ],
             [
              0.3333333333333333,
              "#9c179e"
             ],
             [
              0.4444444444444444,
              "#bd3786"
             ],
             [
              0.5555555555555556,
              "#d8576b"
             ],
             [
              0.6666666666666666,
              "#ed7953"
             ],
             [
              0.7777777777777778,
              "#fb9f3a"
             ],
             [
              0.8888888888888888,
              "#fdca26"
             ],
             [
              1,
              "#f0f921"
             ]
            ],
            "type": "heatmap"
           }
          ],
          "heatmapgl": [
           {
            "colorbar": {
             "outlinewidth": 0,
             "ticks": ""
            },
            "colorscale": [
             [
              0,
              "#0d0887"
             ],
             [
              0.1111111111111111,
              "#46039f"
             ],
             [
              0.2222222222222222,
              "#7201a8"
             ],
             [
              0.3333333333333333,
              "#9c179e"
             ],
             [
              0.4444444444444444,
              "#bd3786"
             ],
             [
              0.5555555555555556,
              "#d8576b"
             ],
             [
              0.6666666666666666,
              "#ed7953"
             ],
             [
              0.7777777777777778,
              "#fb9f3a"
             ],
             [
              0.8888888888888888,
              "#fdca26"
             ],
             [
              1,
              "#f0f921"
             ]
            ],
            "type": "heatmapgl"
           }
          ],
          "histogram": [
           {
            "marker": {
             "pattern": {
              "fillmode": "overlay",
              "size": 10,
              "solidity": 0.2
             }
            },
            "type": "histogram"
           }
          ],
          "histogram2d": [
           {
            "colorbar": {
             "outlinewidth": 0,
             "ticks": ""
            },
            "colorscale": [
             [
              0,
              "#0d0887"
             ],
             [
              0.1111111111111111,
              "#46039f"
             ],
             [
              0.2222222222222222,
              "#7201a8"
             ],
             [
              0.3333333333333333,
              "#9c179e"
             ],
             [
              0.4444444444444444,
              "#bd3786"
             ],
             [
              0.5555555555555556,
              "#d8576b"
             ],
             [
              0.6666666666666666,
              "#ed7953"
             ],
             [
              0.7777777777777778,
              "#fb9f3a"
             ],
             [
              0.8888888888888888,
              "#fdca26"
             ],
             [
              1,
              "#f0f921"
             ]
            ],
            "type": "histogram2d"
           }
          ],
          "histogram2dcontour": [
           {
            "colorbar": {
             "outlinewidth": 0,
             "ticks": ""
            },
            "colorscale": [
             [
              0,
              "#0d0887"
             ],
             [
              0.1111111111111111,
              "#46039f"
             ],
             [
              0.2222222222222222,
              "#7201a8"
             ],
             [
              0.3333333333333333,
              "#9c179e"
             ],
             [
              0.4444444444444444,
              "#bd3786"
             ],
             [
              0.5555555555555556,
              "#d8576b"
             ],
             [
              0.6666666666666666,
              "#ed7953"
             ],
             [
              0.7777777777777778,
              "#fb9f3a"
             ],
             [
              0.8888888888888888,
              "#fdca26"
             ],
             [
              1,
              "#f0f921"
             ]
            ],
            "type": "histogram2dcontour"
           }
          ],
          "mesh3d": [
           {
            "colorbar": {
             "outlinewidth": 0,
             "ticks": ""
            },
            "type": "mesh3d"
           }
          ],
          "parcoords": [
           {
            "line": {
             "colorbar": {
              "outlinewidth": 0,
              "ticks": ""
             }
            },
            "type": "parcoords"
           }
          ],
          "pie": [
           {
            "automargin": true,
            "type": "pie"
           }
          ],
          "scatter": [
           {
            "marker": {
             "colorbar": {
              "outlinewidth": 0,
              "ticks": ""
             }
            },
            "type": "scatter"
           }
          ],
          "scatter3d": [
           {
            "line": {
             "colorbar": {
              "outlinewidth": 0,
              "ticks": ""
             }
            },
            "marker": {
             "colorbar": {
              "outlinewidth": 0,
              "ticks": ""
             }
            },
            "type": "scatter3d"
           }
          ],
          "scattercarpet": [
           {
            "marker": {
             "colorbar": {
              "outlinewidth": 0,
              "ticks": ""
             }
            },
            "type": "scattercarpet"
           }
          ],
          "scattergeo": [
           {
            "marker": {
             "colorbar": {
              "outlinewidth": 0,
              "ticks": ""
             }
            },
            "type": "scattergeo"
           }
          ],
          "scattergl": [
           {
            "marker": {
             "colorbar": {
              "outlinewidth": 0,
              "ticks": ""
             }
            },
            "type": "scattergl"
           }
          ],
          "scattermapbox": [
           {
            "marker": {
             "colorbar": {
              "outlinewidth": 0,
              "ticks": ""
             }
            },
            "type": "scattermapbox"
           }
          ],
          "scatterpolar": [
           {
            "marker": {
             "colorbar": {
              "outlinewidth": 0,
              "ticks": ""
             }
            },
            "type": "scatterpolar"
           }
          ],
          "scatterpolargl": [
           {
            "marker": {
             "colorbar": {
              "outlinewidth": 0,
              "ticks": ""
             }
            },
            "type": "scatterpolargl"
           }
          ],
          "scatterternary": [
           {
            "marker": {
             "colorbar": {
              "outlinewidth": 0,
              "ticks": ""
             }
            },
            "type": "scatterternary"
           }
          ],
          "surface": [
           {
            "colorbar": {
             "outlinewidth": 0,
             "ticks": ""
            },
            "colorscale": [
             [
              0,
              "#0d0887"
             ],
             [
              0.1111111111111111,
              "#46039f"
             ],
             [
              0.2222222222222222,
              "#7201a8"
             ],
             [
              0.3333333333333333,
              "#9c179e"
             ],
             [
              0.4444444444444444,
              "#bd3786"
             ],
             [
              0.5555555555555556,
              "#d8576b"
             ],
             [
              0.6666666666666666,
              "#ed7953"
             ],
             [
              0.7777777777777778,
              "#fb9f3a"
             ],
             [
              0.8888888888888888,
              "#fdca26"
             ],
             [
              1,
              "#f0f921"
             ]
            ],
            "type": "surface"
           }
          ],
          "table": [
           {
            "cells": {
             "fill": {
              "color": "#EBF0F8"
             },
             "line": {
              "color": "white"
             }
            },
            "header": {
             "fill": {
              "color": "#C8D4E3"
             },
             "line": {
              "color": "white"
             }
            },
            "type": "table"
           }
          ]
         },
         "layout": {
          "annotationdefaults": {
           "arrowcolor": "#2a3f5f",
           "arrowhead": 0,
           "arrowwidth": 1
          },
          "autotypenumbers": "strict",
          "coloraxis": {
           "colorbar": {
            "outlinewidth": 0,
            "ticks": ""
           }
          },
          "colorscale": {
           "diverging": [
            [
             0,
             "#8e0152"
            ],
            [
             0.1,
             "#c51b7d"
            ],
            [
             0.2,
             "#de77ae"
            ],
            [
             0.3,
             "#f1b6da"
            ],
            [
             0.4,
             "#fde0ef"
            ],
            [
             0.5,
             "#f7f7f7"
            ],
            [
             0.6,
             "#e6f5d0"
            ],
            [
             0.7,
             "#b8e186"
            ],
            [
             0.8,
             "#7fbc41"
            ],
            [
             0.9,
             "#4d9221"
            ],
            [
             1,
             "#276419"
            ]
           ],
           "sequential": [
            [
             0,
             "#0d0887"
            ],
            [
             0.1111111111111111,
             "#46039f"
            ],
            [
             0.2222222222222222,
             "#7201a8"
            ],
            [
             0.3333333333333333,
             "#9c179e"
            ],
            [
             0.4444444444444444,
             "#bd3786"
            ],
            [
             0.5555555555555556,
             "#d8576b"
            ],
            [
             0.6666666666666666,
             "#ed7953"
            ],
            [
             0.7777777777777778,
             "#fb9f3a"
            ],
            [
             0.8888888888888888,
             "#fdca26"
            ],
            [
             1,
             "#f0f921"
            ]
           ],
           "sequentialminus": [
            [
             0,
             "#0d0887"
            ],
            [
             0.1111111111111111,
             "#46039f"
            ],
            [
             0.2222222222222222,
             "#7201a8"
            ],
            [
             0.3333333333333333,
             "#9c179e"
            ],
            [
             0.4444444444444444,
             "#bd3786"
            ],
            [
             0.5555555555555556,
             "#d8576b"
            ],
            [
             0.6666666666666666,
             "#ed7953"
            ],
            [
             0.7777777777777778,
             "#fb9f3a"
            ],
            [
             0.8888888888888888,
             "#fdca26"
            ],
            [
             1,
             "#f0f921"
            ]
           ]
          },
          "colorway": [
           "#636efa",
           "#EF553B",
           "#00cc96",
           "#ab63fa",
           "#FFA15A",
           "#19d3f3",
           "#FF6692",
           "#B6E880",
           "#FF97FF",
           "#FECB52"
          ],
          "font": {
           "color": "#2a3f5f"
          },
          "geo": {
           "bgcolor": "white",
           "lakecolor": "white",
           "landcolor": "#E5ECF6",
           "showlakes": true,
           "showland": true,
           "subunitcolor": "white"
          },
          "hoverlabel": {
           "align": "left"
          },
          "hovermode": "closest",
          "mapbox": {
           "style": "light"
          },
          "paper_bgcolor": "white",
          "plot_bgcolor": "#E5ECF6",
          "polar": {
           "angularaxis": {
            "gridcolor": "white",
            "linecolor": "white",
            "ticks": ""
           },
           "bgcolor": "#E5ECF6",
           "radialaxis": {
            "gridcolor": "white",
            "linecolor": "white",
            "ticks": ""
           }
          },
          "scene": {
           "xaxis": {
            "backgroundcolor": "#E5ECF6",
            "gridcolor": "white",
            "gridwidth": 2,
            "linecolor": "white",
            "showbackground": true,
            "ticks": "",
            "zerolinecolor": "white"
           },
           "yaxis": {
            "backgroundcolor": "#E5ECF6",
            "gridcolor": "white",
            "gridwidth": 2,
            "linecolor": "white",
            "showbackground": true,
            "ticks": "",
            "zerolinecolor": "white"
           },
           "zaxis": {
            "backgroundcolor": "#E5ECF6",
            "gridcolor": "white",
            "gridwidth": 2,
            "linecolor": "white",
            "showbackground": true,
            "ticks": "",
            "zerolinecolor": "white"
           }
          },
          "shapedefaults": {
           "line": {
            "color": "#2a3f5f"
           }
          },
          "ternary": {
           "aaxis": {
            "gridcolor": "white",
            "linecolor": "white",
            "ticks": ""
           },
           "baxis": {
            "gridcolor": "white",
            "linecolor": "white",
            "ticks": ""
           },
           "bgcolor": "#E5ECF6",
           "caxis": {
            "gridcolor": "white",
            "linecolor": "white",
            "ticks": ""
           }
          },
          "title": {
           "x": 0.05
          },
          "xaxis": {
           "automargin": true,
           "gridcolor": "white",
           "linecolor": "white",
           "ticks": "",
           "title": {
            "standoff": 15
           },
           "zerolinecolor": "white",
           "zerolinewidth": 2
          },
          "yaxis": {
           "automargin": true,
           "gridcolor": "white",
           "linecolor": "white",
           "ticks": "",
           "title": {
            "standoff": 15
           },
           "zerolinecolor": "white",
           "zerolinewidth": 2
          }
         }
        }
       }
      },
      "image/png": "[encoded data removed]",
      "text/html": [
       "<div>                            <div id=\"74bd4cf0-39c9-439f-959b-9cd03ae771c7\" class=\"plotly-graph-div\" style=\"height:525px; width:100%;\"></div>            <script type=\"text/javascript\">                require([\"plotly\"], function(Plotly) {                    window.PLOTLYENV=window.PLOTLYENV || {};                                    if (document.getElementById(\"74bd4cf0-39c9-439f-959b-9cd03ae771c7\")) {                    Plotly.newPlot(                        \"74bd4cf0-39c9-439f-959b-9cd03ae771c7\",                        [{\"fill\":\"toself\",\"name\":\"cluster_0\",\"r\":[99.16163896853385,127.64937630376683,116.89890232414632,184.28494691268463,90.87259268477004,146.81463548171826,107.07733455429877,98.43973565413198,90.11276540257289,185.39831986306808,141.750975787985,137.0089374575376],\"theta\":[\"income\",\"credit_balance\",\"checking_balance\",\"savings_balance\",\"avg_tran_amt\",\"count_tran_amt\",\"avg_savings_tran_amt\",\"avg_checking_tran_amt\",\"avg_credit_tran_amt\",\"cnt_savings_tran\",\"cnt_checking_tran\",\"cnt_credit_tran\"],\"type\":\"scatterpolar\"},{\"fill\":\"toself\",\"name\":\"cluster_1\",\"r\":[85.40409949261445,84.39977021356242,62.83978690455652,102.17958955414596,102.75031929173888,41.041821863121406,100.09946413245603,106.0566930344685,100.04200963111502,112.48315971705021,8.559464147724904,75.8242747135492],\"theta\":[\"income\",\"credit_balance\",\"checking_balance\",\"savings_balance\",\"avg_tran_amt\",\"count_tran_amt\",\"avg_savings_tran_amt\",\"avg_checking_tran_amt\",\"avg_credit_tran_amt\",\"cnt_savings_tran\",\"cnt_checking_tran\",\"cnt_credit_tran\"],\"type\":\"scatterpolar\"},{\"fill\":\"toself\",\"name\":\"cluster_2\",\"r\":[98.60706697506211,15.503855412732277,104.15208071407942,51.628918984975,119.7811639404529,84.81361907300168,96.15739338923724,96.56926397231199,121.30495119700775,35.221253376248576,124.69481709070777,20.957721149209455],\"theta\":[\"income\",\"credit_balance\",\"checking_balance\",\"savings_balance\",\"avg_tran_amt\",\"count_tran_amt\",\"avg_savings_tran_amt\",\"avg_checking_tran_amt\",\"avg_credit_tran_amt\",\"cnt_savings_tran\",\"cnt_checking_tran\",\"cnt_credit_tran\"],\"type\":\"scatterpolar\"},{\"fill\":\"toself\",\"name\":\"cluster_3\",\"r\":[127.09539995043917,183.65819459521327,124.47372291591523,5.269179714902259,86.71275146764957,130.41360637370823,91.9002764914866,97.37655570335573,90.55024958122864,7.531642838871921,141.32135895085963,173.60022262384945],\"theta\":[\"income\",\"credit_balance\",\"checking_balance\",\"savings_balance\",\"avg_tran_amt\",\"count_tran_amt\",\"avg_savings_tran_amt\",\"avg_checking_tran_amt\",\"avg_credit_tran_amt\",\"cnt_savings_tran\",\"cnt_checking_tran\",\"cnt_credit_tran\"],\"type\":\"scatterpolar\"},{\"fill\":\"toself\",\"name\":\"mean\",\"r\":[100,100,100,100,100,100,100,100,100,100,100,100],\"theta\":[\"income\",\"credit_balance\",\"checking_balance\",\"savings_balance\",\"avg_tran_amt\",\"count_tran_amt\",\"avg_savings_tran_amt\",\"avg_checking_tran_amt\",\"avg_credit_tran_amt\",\"cnt_savings_tran\",\"cnt_checking_tran\",\"cnt_credit_tran\"],\"type\":\"scatterpolar\"}],                        {\"polar\":{\"radialaxis\":{\"visible\":true}},\"showlegend\":true,\"template\":{\"data\":{\"bar\":[{\"error_x\":{\"color\":\"#2a3f5f\"},\"error_y\":{\"color\":\"#2a3f5f\"},\"marker\":{\"line\":{\"color\":\"#E5ECF6\",\"width\":0.5},\"pattern\":{\"fillmode\":\"overlay\",\"size\":10,\"solidity\":0.2}},\"type\":\"bar\"}],\"barpolar\":[{\"marker\":{\"line\":{\"color\":\"#E5ECF6\",\"width\":0.5},\"pattern\":{\"fillmode\":\"overlay\",\"size\":10,\"solidity\":0.2}},\"type\":\"barpolar\"}],\"carpet\":[{\"aaxis\":{\"endlinecolor\":\"#2a3f5f\",\"gridcolor\":\"white\",\"linecolor\":\"white\",\"minorgridcolor\":\"white\",\"startlinecolor\":\"#2a3f5f\"},\"baxis\":{\"endlinecolor\":\"#2a3f5f\",\"gridcolor\":\"white\",\"linecolor\":\"white\",\"minorgridcolor\":\"white\",\"startlinecolor\":\"#2a3f5f\"},\"type\":\"carpet\"}],\"choropleth\":[{\"colorbar\":{\"outlinewidth\":0,\"ticks\":\"\"},\"type\":\"choropleth\"}],\"contour\":[{\"colorbar\":{\"outlinewidth\":0,\"ticks\":\"\"},\"colorscale\":[[0.0,\"#0d0887\"],[0.1111111111111111,\"#46039f\"],[0.2222222222222222,\"#7201a8\"],[0.3333333333333333,\"#9c179e\"],[0.4444444444444444,\"#bd3786\"],[0.5555555555555556,\"#d8576b\"],[0.6666666666666666,\"#ed7953\"],[0.7777777777777778,\"#fb9f3a\"],[0.8888888888888888,\"#fdca26\"],[1.0,\"#f0f921\"]],\"type\":\"contour\"}],\"contourcarpet\":[{\"colorbar\":{\"outlinewidth\":0,\"ticks\":\"\"},\"type\":\"contourcarpet\"}],\"heatmap\":[{\"colorbar\":{\"outlinewidth\":0,\"ticks\":\"\"},\"colorscale\":[[0.0,\"#0d0887\"],[0.1111111111111111,\"#46039f\"],[0.2222222222222222,\"#7201a8\"],[0.3333333333333333,\"#9c179e\"],[0.4444444444444444,\"#bd3786\"],[0.5555555555555556,\"#d8576b\"],[0.6666666666666666,\"#ed7953\"],[0.7777777777777778,\"#fb9f3a\"],[0.8888888888888888,\"#fdca26\"],[1.0,\"#f0f921\"]],\"type\":\"heatmap\"}],\"heatmapgl\":[{\"colorbar\":{\"outlinewidth\":0,\"ticks\":\"\"},\"colorscale\":[[0.0,\"#0d0887\"],[0.1111111111111111,\"#46039f\"],[0.2222222222222222,\"#7201a8\"],[0.3333333333333333,\"#9c179e\"],[0.4444444444444444,\"#bd3786\"],[0.5555555555555556,\"#d8576b\"],[0.6666666666666666,\"#ed7953\"],[0.7777777777777778,\"#fb9f3a\"],[0.8888888888888888,\"#fdca26\"],[1.0,\"#f0f921\"]],\"type\":\"heatmapgl\"}],\"histogram\":[{\"marker\":{\"pattern\":{\"fillmode\":\"overlay\",\"size\":10,\"solidity\":0.2}},\"type\":\"histogram\"}],\"histogram2d\":[{\"colorbar\":{\"outlinewidth\":0,\"ticks\":\"\"},\"colorscale\":[[0.0,\"#0d0887\"],[0.1111111111111111,\"#46039f\"],[0.2222222222222222,\"#7201a8\"],[0.3333333333333333,\"#9c179e\"],[0.4444444444444444,\"#bd3786\"],[0.5555555555555556,\"#d8576b\"],[0.6666666666666666,\"#ed7953\"],[0.7777777777777778,\"#fb9f3a\"],[0.8888888888888888,\"#fdca26\"],[1.0,\"#f0f921\"]],\"type\":\"histogram2d\"}],\"histogram2dcontour\":[{\"colorbar\":{\"outlinewidth\":0,\"ticks\":\"\"},\"colorscale\":[[0.0,\"#0d0887\"],[0.1111111111111111,\"#46039f\"],[0.2222222222222222,\"#7201a8\"],[0.3333333333333333,\"#9c179e\"],[0.4444444444444444,\"#bd3786\"],[0.5555555555555556,\"#d8576b\"],[0.6666666666666666,\"#ed7953\"],[0.7777777777777778,\"#fb9f3a\"],[0.8888888888888888,\"#fdca26\"],[1.0,\"#f0f921\"]],\"type\":\"histogram2dcontour\"}],\"mesh3d\":[{\"colorbar\":{\"outlinewidth\":0,\"ticks\":\"\"},\"type\":\"mesh3d\"}],\"parcoords\":[{\"line\":{\"colorbar\":{\"outlinewidth\":0,\"ticks\":\"\"}},\"type\":\"parcoords\"}],\"pie\":[{\"automargin\":true,\"type\":\"pie\"}],\"scatter\":[{\"marker\":{\"colorbar\":{\"outlinewidth\":0,\"ticks\":\"\"}},\"type\":\"scatter\"}],\"scatter3d\":[{\"line\":{\"colorbar\":{\"outlinewidth\":0,\"ticks\":\"\"}},\"marker\":{\"colorbar\":{\"outlinewidth\":0,\"ticks\":\"\"}},\"type\":\"scatter3d\"}],\"scattercarpet\":[{\"marker\":{\"colorbar\":{\"outlinewidth\":0,\"ticks\":\"\"}},\"type\":\"scattercarpet\"}],\"scattergeo\":[{\"marker\":{\"colorbar\":{\"outlinewidth\":0,\"ticks\":\"\"}},\"type\":\"scattergeo\"}],\"scattergl\":[{\"marker\":{\"colorbar\":{\"outlinewidth\":0,\"ticks\":\"\"}},\"type\":\"scattergl\"}],\"scattermapbox\":[{\"marker\":{\"colorbar\":{\"outlinewidth\":0,\"ticks\":\"\"}},\"type\":\"scattermapbox\"}],\"scatterpolar\":[{\"marker\":{\"colorbar\":{\"outlinewidth\":0,\"ticks\":\"\"}},\"type\":\"scatterpolar\"}],\"scatterpolargl\":[{\"marker\":{\"colorbar\":{\"outlinewidth\":0,\"ticks\":\"\"}},\"type\":\"scatterpolargl\"}],\"scatterternary\":[{\"marker\":{\"colorbar\":{\"outlinewidth\":0,\"ticks\":\"\"}},\"type\":\"scatterternary\"}],\"surface\":[{\"colorbar\":{\"outlinewidth\":0,\"ticks\":\"\"},\"colorscale\":[[0.0,\"#0d0887\"],[0.1111111111111111,\"#46039f\"],[0.2222222222222222,\"#7201a8\"],[0.3333333333333333,\"#9c179e\"],[0.4444444444444444,\"#bd3786\"],[0.5555555555555556,\"#d8576b\"],[0.6666666666666666,\"#ed7953\"],[0.7777777777777778,\"#fb9f3a\"],[0.8888888888888888,\"#fdca26\"],[1.0,\"#f0f921\"]],\"type\":\"surface\"}],\"table\":[{\"cells\":{\"fill\":{\"color\":\"#EBF0F8\"},\"line\":{\"color\":\"white\"}},\"header\":{\"fill\":{\"color\":\"#C8D4E3\"},\"line\":{\"color\":\"white\"}},\"type\":\"table\"}]},\"layout\":{\"annotationdefaults\":{\"arrowcolor\":\"#2a3f5f\",\"arrowhead\":0,\"arrowwidth\":1},\"autotypenumbers\":\"strict\",\"coloraxis\":{\"colorbar\":{\"outlinewidth\":0,\"ticks\":\"\"}},\"colorscale\":{\"diverging\":[[0,\"#8e0152\"],[0.1,\"#c51b7d\"],[0.2,\"#de77ae\"],[0.3,\"#f1b6da\"],[0.4,\"#fde0ef\"],[0.5,\"#f7f7f7\"],[0.6,\"#e6f5d0\"],[0.7,\"#b8e186\"],[0.8,\"#7fbc41\"],[0.9,\"#4d9221\"],[1,\"#276419\"]],\"sequential\":[[0.0,\"#0d0887\"],[0.1111111111111111,\"#46039f\"],[0.2222222222222222,\"#7201a8\"],[0.3333333333333333,\"#9c179e\"],[0.4444444444444444,\"#bd3786\"],[0.5555555555555556,\"#d8576b\"],[0.6666666666666666,\"#ed7953\"],[0.7777777777777778,\"#fb9f3a\"],[0.8888888888888888,\"#fdca26\"],[1.0,\"#f0f921\"]],\"sequentialminus\":[[0.0,\"#0d0887\"],[0.1111111111111111,\"#46039f\"],[0.2222222222222222,\"#7201a8\"],[0.3333333333333333,\"#9c179e\"],[0.4444444444444444,\"#bd3786\"],[0.5555555555555556,\"#d8576b\"],[0.6666666666666666,\"#ed7953\"],[0.7777777777777778,\"#fb9f3a\"],[0.8888888888888888,\"#fdca26\"],[1.0,\"#f0f921\"]]},\"colorway\":[\"#636efa\",\"#EF553B\",\"#00cc96\",\"#ab63fa\",\"#FFA15A\",\"#19d3f3\",\"#FF6692\",\"#B6E880\",\"#FF97FF\",\"#FECB52\"],\"font\":{\"color\":\"#2a3f5f\"},\"geo\":{\"bgcolor\":\"white\",\"lakecolor\":\"white\",\"landcolor\":\"#E5ECF6\",\"showlakes\":true,\"showland\":true,\"subunitcolor\":\"white\"},\"hoverlabel\":{\"align\":\"left\"},\"hovermode\":\"closest\",\"mapbox\":{\"style\":\"light\"},\"paper_bgcolor\":\"white\",\"plot_bgcolor\":\"#E5ECF6\",\"polar\":{\"angularaxis\":{\"gridcolor\":\"white\",\"linecolor\":\"white\",\"ticks\":\"\"},\"bgcolor\":\"#E5ECF6\",\"radialaxis\":{\"gridcolor\":\"white\",\"linecolor\":\"white\",\"ticks\":\"\"}},\"scene\":{\"xaxis\":{\"backgroundcolor\":\"#E5ECF6\",\"gridcolor\":\"white\",\"gridwidth\":2,\"linecolor\":\"white\",\"showbackground\":true,\"ticks\":\"\",\"zerolinecolor\":\"white\"},\"yaxis\":{\"backgroundcolor\":\"#E5ECF6\",\"gridcolor\":\"white\",\"gridwidth\":2,\"linecolor\":\"white\",\"showbackground\":true,\"ticks\":\"\",\"zerolinecolor\":\"white\"},\"zaxis\":{\"backgroundcolor\":\"#E5ECF6\",\"gridcolor\":\"white\",\"gridwidth\":2,\"linecolor\":\"white\",\"showbackground\":true,\"ticks\":\"\",\"zerolinecolor\":\"white\"}},\"shapedefaults\":{\"line\":{\"color\":\"#2a3f5f\"}},\"ternary\":{\"aaxis\":{\"gridcolor\":\"white\",\"linecolor\":\"white\",\"ticks\":\"\"},\"baxis\":{\"gridcolor\":\"white\",\"linecolor\":\"white\",\"ticks\":\"\"},\"bgcolor\":\"#E5ECF6\",\"caxis\":{\"gridcolor\":\"white\",\"linecolor\":\"white\",\"ticks\":\"\"}},\"title\":{\"x\":0.05},\"xaxis\":{\"automargin\":true,\"gridcolor\":\"white\",\"linecolor\":\"white\",\"ticks\":\"\",\"title\":{\"standoff\":15},\"zerolinecolor\":\"white\",\"zerolinewidth\":2},\"yaxis\":{\"automargin\":true,\"gridcolor\":\"white\",\"linecolor\":\"white\",\"ticks\":\"\",\"title\":{\"standoff\":15},\"zerolinecolor\":\"white\",\"zerolinewidth\":2}}}},                        {\"responsive\": true}                    ).then(function(){\n",
       "                            \n",
       "var gd = document.getElementById('74bd4cf0-39c9-439f-959b-9cd03ae771c7');\n",
       "var x = new MutationObserver(function (mutations, observer) {{\n",
       "        var display = window.getComputedStyle(gd).display;\n",
       "        if (!display || display === 'none') {{\n",
       "            console.log([gd, 'removed!']);\n",
       "            Plotly.purge(gd);\n",
       "            observer.disconnect();\n",
       "        }}\n",
       "}});\n",
       "\n",
       "// Listen for the removal of the full notebook cells\n",
       "var notebookContainer = gd.closest('#notebook-container');\n",
       "if (notebookContainer) {{\n",
       "    x.observe(notebookContainer, {childList: true});\n",
       "}}\n",
       "\n",
       "// Listen for the clearing of the current output cell\n",
       "var outputEl = gd.closest('.output');\n",
       "if (outputEl) {{\n",
       "    x.observe(outputEl, {childList: true});\n",
       "}}\n",
       "\n",
       "                        })                };                });            </script>        </div>"
      ]
     },
     "metadata": {},
     "output_type": "display_data"
    }
   ],
   "source": [
    "plot_radar_chart(Nik(df_cust_info3, 'MinMax', 'KMeans', 4, epsilon=0.2, min_samples=10))"
   ]
  },
  {
   "cell_type": "markdown",
   "id": "872164fd-89f6-404c-825e-c92aa4c2d4fa",
   "metadata": {},
   "source": [
    "# PCA --> Scatterplot Visualizations"
   ]
  },
  {
   "cell_type": "code",
   "execution_count": 221,
   "id": "57b7a0cc-f562-4def-ac10-47b6662f3257",
   "metadata": {},
   "outputs": [
    {
     "data": {
      "application/vnd.plotly.v1+json": {
       "config": {
        "plotlyServerURL": "https://plot.ly"
       },
       "data": [
        {
         "hovertemplate": "color=3<br>PC1=%{x}<br>PC2=%{y}<extra></extra>",
         "legendgroup": "3",
         "marker": {
          "color": "#636efa",
          "symbol": "circle"
         },
         "mode": "markers",
         "name": "3",
         "orientation": "v",
         "showlegend": true,
         "type": "scatter",
         "x": [
          1.8129198054967512,
          1.8148644476053695,
          1.810853727722081,
          1.802509465229958,
          1.8164732251422735,
          1.8181621880492287,
          1.8164188702922244,
          1.822359594562698,
          1.8155828339945965,
          1.8106986217312104,
          1.8294895285180812,
          1.8165680790094079,
          1.8149911271213153,
          1.8017721083008031,
          1.8164048874216876,
          1.8357743723671944,
          1.8169645861541883,
          1.8190804088925494,
          1.8229872706296355,
          1.8280425118469452,
          1.8250015162342161,
          1.8300527514892466,
          1.8099954221147883,
          1.8221247894934662,
          1.8029229095749224,
          1.8269781155048503,
          1.7939898470286404,
          1.8137364912918794,
          1.827202375505038,
          1.8139739310880303,
          1.832432480837222,
          1.814403755505141,
          1.8267995532893277,
          1.814744188108325,
          1.799706803176044,
          1.8240535528582011,
          1.797812371602078,
          1.8218272497494292,
          1.8318289334073248,
          1.8165403382757104,
          1.8208117633763479,
          1.82289496158401,
          1.8263349293991422,
          1.8283186948719408,
          1.8078934617502629,
          1.8338987634664559,
          1.8088772383870597,
          1.8229554032925643,
          1.8192561288833216,
          1.8233943500989258,
          1.8152891935045075,
          1.821401232143955,
          1.8123492940205501,
          1.8109063754206034,
          1.818408970709781,
          1.8128022144710165,
          1.8195396672621198,
          1.806890579383628,
          1.8072787538168475,
          1.7969396090676963,
          1.8205074555304421,
          1.81126522858661,
          1.8279720787973395,
          1.8056602452380477,
          1.8186548074386406,
          1.8040327642259573,
          1.8096659567954367,
          1.8192973902301868,
          1.8290762688046558,
          1.8019510033776809,
          1.8353287591756862,
          1.8209313346234883,
          1.8129194981708536,
          1.8266852977804382,
          1.8097955210812546,
          1.8171742460370606,
          1.8148308931930774,
          1.8265177412234164,
          1.823162148641423,
          1.7938935272921679,
          1.802911532283069,
          1.8035041618485295,
          1.8220360860036249,
          1.8113761289741537,
          1.8070950688703205,
          1.8027864089390533,
          1.8189836298149693,
          1.831020620045062,
          1.820416628570882,
          1.8145226154012675,
          1.8188760223930132,
          1.8343054171021889,
          1.8084691012441487,
          1.8053021081293883,
          1.8199522536077128,
          1.8097328286466852,
          1.8113739506601012,
          1.7968557395000464,
          1.8037411416072002,
          1.8176082990373086,
          1.8244934692330983,
          1.8169924105692878,
          1.8230925219741383,
          1.8209990762611648,
          1.8193804941544671,
          1.8210040139754264,
          1.8219414317304208,
          1.8133182621048727,
          1.7995580745145623,
          1.8177486114663184,
          1.8147470651530493,
          1.8168773022612519,
          1.8192296763999534,
          1.818801128463702,
          1.8130902120616075,
          1.8224040011229832,
          1.8151367302827142,
          1.8104918685931315,
          1.8234851236351193,
          1.8181856128996174,
          1.8205411654841204,
          1.8204376971833256,
          1.816415864881259,
          1.8034322850072073,
          1.790049945616682,
          1.8179668452046827,
          1.8040428135461775,
          1.8040764601476968,
          1.799513438333014,
          1.8070828612542702,
          1.8211969529688015,
          1.811399341857217,
          1.8285615320283457,
          1.8187165337789022,
          1.8272765423963502,
          1.8258650328219923,
          1.7976659309373242,
          1.7939340832871684,
          1.8165236446416797,
          1.8181227322729714,
          1.8152245508016818,
          1.8107264088817336,
          1.8110670239991202,
          1.805222953885843,
          1.798931122794222,
          1.8269300316731896,
          1.8260708312736067,
          1.819567240385919,
          1.8154742354784605,
          1.8163232642488158,
          1.8288258889295184,
          1.820438997807048,
          1.8201245250915101,
          1.8127953776561263,
          1.8220342875258686,
          1.8225198384137378,
          1.8134677653892093,
          1.8174884881758908,
          1.7919346470980602,
          1.8171138066927885,
          1.8138577751154845,
          1.8084559418578943,
          1.819120674968645,
          1.8213593328936561
         ],
         "xaxis": "x",
         "y": [
          -0.18698108130272342,
          -0.20910812685891209,
          -0.19014187593216492,
          -0.13843851939202928,
          -0.2264250060075752,
          -0.22654157395701646,
          -0.2115115972226904,
          -0.19371205381426804,
          -0.19499488263961243,
          -0.17512507637236086,
          -0.24318388871609226,
          -0.21005524797946484,
          -0.18615053587493427,
          -0.14744270480002916,
          -0.1918112166618837,
          -0.22376833398678292,
          -0.22692924045467616,
          -0.22829217427811152,
          -0.24394008955752078,
          -0.28868246226620786,
          -0.27894130152835844,
          -0.2981741842047061,
          -0.1629473814833805,
          -0.23804398654635098,
          -0.13743038436674884,
          -0.2809696868015067,
          -0.1023124771634478,
          -0.17904368138675522,
          -0.20611052834745863,
          -0.20157378679135163,
          -0.2397588985474244,
          -0.18931223263588215,
          -0.22297257190524963,
          -0.18509598252007273,
          -0.1304656597572263,
          -0.2623025495712607,
          -0.1056968050758626,
          -0.23111098111698494,
          -0.2604422148126299,
          -0.2116362476121357,
          -0.21539388337829227,
          -0.2396354814475849,
          -0.2224957750803156,
          -0.2305263079983576,
          -0.15336153578142345,
          -0.27097885684004874,
          -0.181485933195624,
          -0.22904975744823308,
          -0.22767135340080963,
          -0.236929019392651,
          -0.20587964322283064,
          -0.23264455853553195,
          -0.18693396775263027,
          -0.19180537013744237,
          -0.22760314472012685,
          -0.18148648503807338,
          -0.2444294173797144,
          -0.17444337722506542,
          -0.15675797961052335,
          -0.09791070669600777,
          -0.24228937078650367,
          -0.16585992346861145,
          -0.22918684230988728,
          -0.14927771907232898,
          -0.21711636111720445,
          -0.13910766177269027,
          -0.17164756641462367,
          -0.21285606591373948,
          -0.2303199615935342,
          -0.12399317447640576,
          -0.265017502855684,
          -0.24424090077539642,
          -0.1782965953064311,
          -0.2724320599455513,
          -0.17258884773485816,
          -0.18517191719206572,
          -0.17462295383310664,
          -0.2804972509231418,
          -0.2621961134781682,
          -0.08735600403118861,
          -0.15604079610399013,
          -0.13641739802475802,
          -0.21566651427168762,
          -0.17501201148812118,
          -0.14511341043966672,
          -0.1342500387066806,
          -0.20510527018701477,
          -0.2670415389388938,
          -0.221433442721495,
          -0.19551635396199676,
          -0.23631957038543275,
          -0.2208284813373126,
          -0.1736382881138349,
          -0.14810905428223145,
          -0.21272694176215118,
          -0.17493512459994587,
          -0.1906757284747171,
          -0.12467668647597646,
          -0.15554547323884885,
          -0.2119310438083265,
          -0.25694182164203344,
          -0.17997429245644775,
          -0.23321772540792374,
          -0.20637237576210127,
          -0.20972241280109943,
          -0.2385033143801202,
          -0.19248179065387597,
          -0.19007613458882897,
          -0.14015963907364512,
          -0.161682795001543,
          -0.1754293860776396,
          -0.19229600855552884,
          -0.22844535252636586,
          -0.21655668292379657,
          -0.16111222825896937,
          -0.24575215046784202,
          -0.20276705079643637,
          -0.1690935586257828,
          -0.24766992040743555,
          -0.16213124567377515,
          -0.2231707096062403,
          -0.22888387825324358,
          -0.19665088320885402,
          -0.13133261278162647,
          -0.07840069700150087,
          -0.2226767555339942,
          -0.15720171642201772,
          -0.14926908455048327,
          -0.12042062424196089,
          -0.1475186726596235,
          -0.2198164215939789,
          -0.15516717741446584,
          -0.20508750448393243,
          -0.23534758073310447,
          -0.24834173829502293,
          -0.25092050464233784,
          -0.12094250266220603,
          -0.09724422717605835,
          -0.18029438972655948,
          -0.19679300258946458,
          -0.21771480203555638,
          -0.18016461679483417,
          -0.19116190512668452,
          -0.13075240670101357,
          -0.12832298932544894,
          -0.21827088942346728,
          -0.2207907364641802,
          -0.21313298602090366,
          -0.18584515679949487,
          -0.17686982513651114,
          -0.2523494666731712,
          -0.22306586518246446,
          -0.22534356687299584,
          -0.18550672593272177,
          -0.237943935611286,
          -0.2334383603075454,
          -0.16812016573437225,
          -0.19855993125530783,
          -0.08033477680508286,
          -0.18832882868640963,
          -0.20145458758511792,
          -0.16458650186542445,
          -0.22010353572389807,
          -0.19026779607412314
         ],
         "yaxis": "y"
        },
        {
         "hovertemplate": "color=0<br>PC1=%{x}<br>PC2=%{y}<extra></extra>",
         "legendgroup": "0",
         "marker": {
          "color": "#EF553B",
          "symbol": "circle"
         },
         "mode": "markers",
         "name": "0",
         "orientation": "v",
         "showlegend": true,
         "type": "scatter",
         "x": [
          -1.4805831820808137,
          -1.4712519511774007,
          -1.4899422329477465,
          -1.4939838549246693,
          -1.4840625336455904,
          -1.491235157857483,
          -1.4778979141340078,
          -1.5094385777036605,
          -1.4826105389869109,
          -1.490179658919496,
          -1.4797986775698446,
          -1.5259870967337745,
          -1.4965355633356576,
          -1.4770157661839676,
          -1.4706090363873507,
          -1.4629485531801942,
          -1.5029376728026376,
          -1.4760417999494855,
          -1.4853517051909613,
          -1.4723107481205617,
          -1.4969142699696347,
          -1.4968308150522647,
          -1.4855170966703246,
          -1.4983045979352827,
          -1.4955952786091244,
          -1.4806247369592147,
          -1.4969142699696347,
          -1.512879873093097,
          -1.4996949259009298,
          -1.4969142699696347,
          -1.4853474640900362,
          -1.5015473448369896,
          -1.5001570168713425,
          -1.4802346630177814,
          -1.4796939050326945,
          -1.4969450289593509,
          -1.477167633351223,
          -1.5140690979130131,
          -1.4877413467263434,
          -1.497145852238117,
          -1.468482291367007,
          -1.49764125085462,
          -1.5103490059364884,
          -1.5015473448369896,
          -1.4982763902959682,
          -1.4885345939849388,
          -1.4947175218757986,
          -1.5029376728026376,
          -1.5047237104659419,
          -1.4989294139791378,
          -1.4902559059610487,
          -1.4966631491536295,
          -1.4894209337831368,
          -1.5030011945960315,
          -1.5032664487981722,
          -1.4983045979352827,
          -1.47294529197903,
          -1.5015473448369896,
          -1.4749260281731704,
          -1.5134238770749675,
          -1.4943901254568226,
          -1.4909601727578417,
          -1.4983045979352827,
          -1.4973896386031134,
          -1.5001570168713425,
          -1.4910483814046878,
          -1.5004961910406156,
          -1.495054480958338,
          -1.498164660999204,
          -1.5009573334108293,
          -1.4660832589407506,
          -1.4956548248290185,
          -1.5015473448369896,
          -1.4953948061568196,
          -1.5001570168713425,
          -1.4784951588663697,
          -1.470086050430499,
          -1.4778286837607035,
          -1.4990046764829648,
          -1.4768373290332217,
          -1.5131922633888883,
          -1.4969142699696347,
          -1.4996949259009298,
          -1.4969142699696347,
          -1.4988048496804982,
          -1.4889721727558398,
          -1.5015473448369896,
          -1.4977919348982738,
          -1.5001570168713425,
          -1.5216804831102708,
          -1.4969142699696347,
          -1.4996949259009298,
          -1.4833062400815367,
          -1.5001570168713425,
          -1.4840697995374177,
          -1.4875119314809013,
          -1.4948262495911333,
          -1.478591662762723,
          -1.5068312192506363,
          -1.4873290615108294,
          -1.4952660760607666,
          -1.4778428903398095,
          -1.4677110314311164,
          -1.498547450476267,
          -1.5015473448369896,
          -1.4687640002852718,
          -1.4852819516527302,
          -1.4895066682133133,
          -1.4969142699696347,
          -1.5001570168713425,
          -1.4762048039090856,
          -1.495686965337533,
          -1.4901631916855835,
          -1.4813052637988233,
          -1.5001570168713425,
          -1.4969142699696347,
          -1.472228099505194,
          -1.5208558783259798,
          -1.5001570168713425,
          -1.475999224357155,
          -1.4919608796770696,
          -1.500356214445636,
          -1.4996949259009298,
          -1.4750519204681558,
          -1.5053463251168688,
          -1.5047818377853017,
          -1.5045103392682628,
          -1.4995254216065632,
          -1.4732961095998782,
          -1.5107745948718012,
          -1.4851309158392973,
          -1.4759273403426645,
          -1.5082003578029153,
          -1.5001570168713425,
          -1.4765247057964392,
          -1.4969142699696347,
          -1.5153269895022055,
          -1.5121199600250583,
          -1.4812076998645651,
          -1.5282271693827307,
          -1.5051771232591953,
          -1.4983045979352827,
          -1.4882485767480214,
          -1.4964221443439765,
          -1.4813533677930995,
          -1.4983045979352827,
          -1.4846976280850892,
          -1.4996949259009298,
          -1.473343934248319,
          -1.4969142699696347,
          -1.4995021855078898,
          -1.4967794679774653,
          -1.4920704398120304,
          -1.5107494002079616,
          -1.4775436636377102,
          -1.4808210498439562,
          -1.470100236208703,
          -1.496083417477343,
          -1.4778891402872552,
          -1.4969142699696347,
          -1.4958987365636756,
          -1.5126229927233632,
          -1.4900190877644868,
          -1.4772528565746228,
          -1.4950183592839486,
          -1.4989334140532888,
          -1.46494254907244,
          -1.4969545849071584,
          -1.5055208798694888,
          -1.5015473448369896,
          -1.5117279368381977,
          -1.5001570168713425,
          -1.5001570168713425,
          -1.5001570168713425,
          -1.5057590134490242,
          -1.5015473448369896,
          -1.4996949259009298,
          -1.4966349812799076,
          -1.5054537554717942,
          -1.504601054710606,
          -1.48665333581031,
          -1.4869791391479403,
          -1.4771057195434796,
          -1.5015473448369896,
          -1.4983045979352827,
          -1.5029376728026376,
          -1.518800446317409,
          -1.4847273777106338,
          -1.4969142699696347,
          -1.5029376728026376,
          -1.4996949259009298,
          -1.5015473448369896,
          -1.4946630214873362,
          -1.4868933928827621,
          -1.478389264273814,
          -1.46329148087447,
          -1.488697444036703,
          -1.5054640188255362,
          -1.4847670847781922,
          -1.4674743282625111,
          -1.4984454893108787,
          -1.473581635344881,
          -1.512691881967487,
          -1.508362020162341,
          -1.518125334728832,
          -1.4949131923394534,
          -1.4969142699696347,
          -1.4912249914591846,
          -1.5090055412475496,
          -1.4866839660424456,
          -1.5001570168713425,
          -1.50554889689355,
          -1.4981058556202853,
          -1.5087255200145673,
          -1.4977463846555217,
          -1.5074379608355533,
          -1.4665882887094865,
          -1.4996949259009298,
          -1.4906086984799294,
          -1.4796527719717525,
          -1.477759971823759,
          -1.497418481404698,
          -1.5001570168713425,
          -1.4767837515556612,
          -1.513559793391407,
          -1.4679438305247607,
          -1.5029376728026376,
          -1.5143780760171,
          -1.4956016157208358
         ],
         "xaxis": "x",
         "y": [
          0.13447701289219638,
          0.1169413258385442,
          0.21488185514352381,
          0.2626184869364532,
          0.1573778319428039,
          0.1870248204427501,
          0.12510089972343816,
          0.30836882207416416,
          0.17450988279297788,
          0.19337048284355388,
          0.1352885997376356,
          0.37859917731484094,
          0.1814176221692577,
          0.12419563989804844,
          0.0969512569169869,
          0.03789669052191267,
          0.24906488398758886,
          0.12481280120892892,
          0.17436673156821292,
          0.09708090770613689,
          0.2059166518186738,
          0.2205115845460568,
          0.17006377603541428,
          0.21477222067634338,
          0.1788432352492716,
          0.15761442379224613,
          0.2059166518186738,
          0.31932909276994814,
          0.22362778953401255,
          0.2059166518186738,
          0.17731851408985594,
          0.24020931512991922,
          0.23135374627224972,
          0.14235650022836913,
          0.1269439447673815,
          0.22259954729725437,
          0.13903206004171867,
          0.30935620256190044,
          0.25379463819059106,
          0.18786324813383362,
          0.07248234735002464,
          0.2213432533980856,
          0.2509962333068319,
          0.24020931512991922,
          0.22199503320412192,
          0.17995787856723092,
          0.2520907497872674,
          0.24906488398758886,
          0.25573860354837985,
          0.23107935898805046,
          0.12798993922521945,
          0.24164751142300714,
          0.1703054346597628,
          0.28108580482222456,
          0.2542431622872486,
          0.21477222067634338,
          0.11787070889052836,
          0.24020931512991922,
          0.09976470690746234,
          0.33635444643234275,
          0.21057813506128775,
          0.1867426308584808,
          0.21477222067634338,
          0.2210850490199488,
          0.23135374627224972,
          0.15189076661096765,
          0.23735101768209063,
          0.21125989637498926,
          0.2218803766505649,
          0.21826534574242692,
          0.06921213885555914,
          0.20280025350774908,
          0.24020931512991922,
          0.20418032300775674,
          0.23135374627224972,
          0.1331426069275707,
          0.07824669289218707,
          0.12601523379164717,
          0.2663368304978373,
          0.1306330201972723,
          0.33369897490295974,
          0.2059166518186738,
          0.22362778953401255,
          0.2059166518186738,
          0.1986039926473977,
          0.18833825813508792,
          0.24020931512991922,
          0.2214978852951965,
          0.23135374627224972,
          0.3100535147954658,
          0.2059166518186738,
          0.22362778953401255,
          0.16036618107761322,
          0.23135374627224972,
          0.1677702378664142,
          0.17953968954259805,
          0.20556762701011808,
          0.12581282425091217,
          0.29907265959251256,
          0.17558757121592466,
          0.21147703517293004,
          0.1390937416842932,
          0.08574018810780865,
          0.20944020017402346,
          0.24020931512991922,
          0.08762906677637872,
          0.16982247032523418,
          0.18230900727312693,
          0.2059166518186738,
          0.23135374627224972,
          0.10850580091768203,
          0.2287373379115775,
          0.1933535841755968,
          0.1277891978917934,
          0.23135374627224972,
          0.2059166518186738,
          0.11847421601929839,
          0.35104707852322775,
          0.23135374627224972,
          0.12315246513739767,
          0.14459721234014872,
          0.23057278448662522,
          0.22362778953401255,
          0.10732271245459264,
          0.29513107223733526,
          0.28712298066300923,
          0.2752056734677172,
          0.23169098174442573,
          0.15009378972700171,
          0.3163603347071006,
          0.1622386625109011,
          0.11663526110899265,
          0.2498624136622292,
          0.23135374627224972,
          0.1393576663230425,
          0.2059166518186738,
          0.2866210421563514,
          0.26050520010332706,
          0.12768907782680142,
          0.38832675378030734,
          0.2792986628534579,
          0.21477222067634338,
          0.18691612700312524,
          0.22009220685095454,
          0.1583621444228117,
          0.21477222067634338,
          0.17665165267693353,
          0.22362778953401255,
          0.09814116284085139,
          0.2059166518186738,
          0.2355226471471727,
          0.21303007727000034,
          0.21899061435614667,
          0.3245716173947702,
          0.1478788359777064,
          0.15665344600270212,
          0.11709892618058275,
          0.2123157905631341,
          0.1267085410239205,
          0.2059166518186738,
          0.21212627109346704,
          0.27346125222216633,
          0.24852618434063914,
          0.1318677568804143,
          0.211222828329148,
          0.19524862340040108,
          0.05399223555370514,
          0.22063859711489409,
          0.21713467531536712,
          0.24020931512991922,
          0.30749922705553334,
          0.23135374627224972,
          0.23135374627224972,
          0.23135374627224972,
          0.22426233989315128,
          0.24020931512991922,
          0.22362778953401255,
          0.2128818050866364,
          0.2639165903328102,
          0.27950864622268917,
          0.17122978412443968,
          0.1715641233614363,
          0.1336875214175864,
          0.24020931512991922,
          0.21477222067634338,
          0.24906488398758886,
          0.3452734374455055,
          0.1692533667979118,
          0.2059166518186738,
          0.24906488398758886,
          0.22362778953401255,
          0.24020931512991922,
          0.2438922155934394,
          0.15908299104045154,
          0.13007780320733453,
          0.04648574020616691,
          0.1799479394795228,
          0.25663101100702884,
          0.18334342152604605,
          0.07306462108834885,
          0.22216856253636724,
          0.10743055154737445,
          0.3356032733857429,
          0.3096818488845629,
          0.32595855113117955,
          0.20664222586475697,
          0.2059166518186738,
          0.13641322925418525,
          0.24540768984438643,
          0.17869003178596993,
          0.23135374627224972,
          0.27305250650879126,
          0.17238130614483496,
          0.2708083350763283,
          0.21899591860453352,
          0.29306762725191865,
          0.11349496725308847,
          0.22362778953401255,
          0.20419571271418901,
          0.14256768641042356,
          0.14724578818106024,
          0.171675923037215,
          0.23135374627224972,
          0.13022392754052622,
          0.33989548179475176,
          0.07192977907844514,
          0.24906488398758886,
          0.31764043575060263,
          0.21925018075082306
         ],
         "yaxis": "y"
        },
        {
         "hovertemplate": "color=1<br>PC1=%{x}<br>PC2=%{y}<extra></extra>",
         "legendgroup": "1",
         "marker": {
          "color": "#00cc96",
          "symbol": "circle"
         },
         "mode": "markers",
         "name": "1",
         "orientation": "v",
         "showlegend": true,
         "type": "scatter",
         "x": [
          -0.3594850584350299,
          -0.3526396657518077,
          -0.3609081414371884,
          -0.36613868444044323,
          -0.35225681042851426,
          -0.35792268553009665,
          -0.38424545213640077,
          -0.3748756102256989,
          -0.3570602948632956,
          -0.3656247794896136,
          -0.3656182078468392,
          -0.369938822842381,
          -0.3614347311435089,
          -0.37710063067570776,
          -0.36496130153403333,
          -0.3637050798905372,
          -0.3654944498133629,
          -0.35513613524137566,
          -0.3636224336394525,
          -0.3690534947786274,
          -0.36979948109784266,
          -0.3621951799813783,
          -0.3677371891732707,
          -0.3703806021692657,
          -0.37726352998023954,
          -0.3697079940129802,
          -0.360307379950498,
          -0.3533274954429355,
          -0.3652396531912344,
          -0.3662602754293074,
          -0.35963059279709786,
          -0.3592940295068386,
          -0.3497900038743829,
          -0.3649952978520696,
          -0.36443595144132596,
          -0.36851839820997595,
          -0.36582610400785426,
          -0.3678188170747097,
          -0.3609147881152821,
          -0.3674885863649252,
          -0.37073108259138504,
          -0.3591545842231665,
          -0.3579478747689989,
          -0.3461816949504359,
          -0.3680254264928178,
          -0.35834573562761424,
          -0.37089316377848747,
          -0.36216525565308505,
          -0.3599045920831033,
          -0.36818817890204486,
          -0.36707837917566266,
          -0.35618858622327565,
          -0.36127814982616785,
          -0.37816462560391584,
          -0.3513003214363915,
          -0.3430164198073629,
          -0.356402742133239,
          -0.37110321800463003,
          -0.3730003070853508,
          -0.37270264889787436,
          -0.3572453275467422,
          -0.37003626919619886,
          -0.37885513020879025,
          -0.3881177163066773,
          -0.3526947124866256,
          -0.35409708518699223,
          -0.3745488146198691,
          -0.35259266726295413,
          -0.35620258216357764,
          -0.37348363837437576,
          -0.3527143792201778,
          -0.3608850586523524,
          -0.3709008256592635,
          -0.36388280112833,
          -0.35575844871593854,
          -0.36667903353344317,
          -0.3702623181650615,
          -0.3508770111424174,
          -0.3583596668007807,
          -0.3626511121529805,
          -0.35934693850577204,
          -0.3652407204023078,
          -0.363404704709715,
          -0.34733666120259776,
          -0.37273222665661393,
          -0.3624339080278577,
          -0.3574480592884937,
          -0.36279230935318957,
          -0.35731541953205065,
          -0.36357917522215705,
          -0.3734157087051127,
          -0.359596182139803,
          -0.3536472320846751,
          -0.35727236946944785,
          -0.36328619043982463,
          -0.3592663165805845,
          -0.36653284038073014,
          -0.37431094637907775,
          -0.3589394461121996,
          -0.3579120103628249,
          -0.35648252041152895,
          -0.36004427725622246,
          -0.3780112779099644,
          -0.3621251642797376,
          -0.3660903498694595,
          -0.3713703362627119,
          -0.35952690810529636,
          -0.3565436387090612,
          -0.36615191040613904,
          -0.38069596351028345,
          -0.36529124872139224,
          -0.35801334385013284,
          -0.3602726502260613,
          -0.3776511312130854,
          -0.3607655995607144,
          -0.3578866596056195,
          -0.35986209599558633,
          -0.35235924649884753,
          -0.36023699804628506,
          -0.3567833071016579,
          -0.3437397386303083,
          -0.35310894358089306,
          -0.37711444340543565,
          -0.3526711898269258,
          -0.35627750932526947,
          -0.3597520060225595,
          -0.36752953746364186,
          -0.348037935464181,
          -0.37550543142625536,
          -0.3711281132924319,
          -0.36862588317853184,
          -0.3548814874071766,
          -0.37360302852228905,
          -0.36137801563183286,
          -0.37715852836766767,
          -0.3669492849364355,
          -0.36183325496935864,
          -0.35899624057671115,
          -0.3672077611139048,
          -0.355248085513319,
          -0.36258361390270355,
          -0.36776870946912915,
          -0.36590271193459556,
          -0.3532456215307405,
          -0.3508941826985687,
          -0.3532092941708262,
          -0.377353652370615,
          -0.36260007877233297,
          -0.3538303170307774,
          -0.3590995238546258,
          -0.36060883739109256,
          -0.35231484130159046,
          -0.3510974715622224,
          -0.34371751408565404,
          -0.3641554355754548,
          -0.3727903698013624,
          -0.36497381631534304,
          -0.35603065062814243,
          -0.38045639709745066,
          -0.363645418310093,
          -0.3583522942006232,
          -0.36478506577621594,
          -0.35660912570320674,
          -0.3574921666332311,
          -0.3654340699556825,
          -0.35436669475690685,
          -0.3681201742899079,
          -0.3651185294130187,
          -0.37114446611510177,
          -0.3672071680619364,
          -0.37665525263894284,
          -0.3653169187123669,
          -0.36771733750314717,
          -0.3648443584849197,
          -0.3563967064201253,
          -0.3631282025953442,
          -0.3654559621968021,
          -0.34490999953148993,
          -0.35528160720059165,
          -0.3678887454823157,
          -0.36161172450253803,
          -0.36414556081358873,
          -0.36073766938659124,
          -0.36708999373974455,
          -0.35419233779270926,
          -0.36794228922147687,
          -0.3478029183249256,
          -0.3798607491956528,
          -0.37342135956046
         ],
         "xaxis": "x",
         "y": [
          -0.7167782014669802,
          -0.7811713913963059,
          -0.7004602044744955,
          -0.6752239684981642,
          -0.7364602205572158,
          -0.743886886947584,
          -0.60178507202385,
          -0.6559732891213697,
          -0.7291130973434574,
          -0.6847896196173496,
          -0.6526704918962903,
          -0.6556654936828461,
          -0.7097664229584414,
          -0.6457228141481351,
          -0.6583556341171594,
          -0.6925789622436591,
          -0.6899415669901684,
          -0.7533669360095833,
          -0.6786144664355055,
          -0.6788604617331874,
          -0.6533906964477607,
          -0.7254531477301006,
          -0.682621865760084,
          -0.6799163744020915,
          -0.6381268320246289,
          -0.6814077492383336,
          -0.667158743161929,
          -0.7642684212979723,
          -0.6892176609221621,
          -0.6915662889041077,
          -0.7041890139783017,
          -0.7151893221840456,
          -0.7745190859600274,
          -0.69045379650598,
          -0.686009594420173,
          -0.6794095775887327,
          -0.6797546190052867,
          -0.682538099244728,
          -0.6946412137432548,
          -0.678048580366069,
          -0.6655002263417055,
          -0.72374500423226,
          -0.7324121438569051,
          -0.8145576830849408,
          -0.6600468098171167,
          -0.7071170009826329,
          -0.6770583380893399,
          -0.7254838560621941,
          -0.7269954254812074,
          -0.6821590603053937,
          -0.674259654187979,
          -0.7398542489548828,
          -0.7263942036585816,
          -0.6377404731726518,
          -0.7548926345799083,
          -0.7708223855977675,
          -0.7454466521706155,
          -0.6618994068278056,
          -0.6376661700817047,
          -0.6409277615158905,
          -0.7214944019565682,
          -0.6587844286008135,
          -0.6307654967123739,
          -0.5853715160998095,
          -0.7163176364617435,
          -0.7544403865601872,
          -0.6507576664792455,
          -0.7650225016422851,
          -0.7299932817260726,
          -0.66348387735727,
          -0.7450273359478214,
          -0.7193687787112539,
          -0.6472494718981627,
          -0.7088636818136635,
          -0.7617737781540997,
          -0.6714505281825542,
          -0.6657184725984622,
          -0.7141557039240322,
          -0.7113125854283306,
          -0.7077170286674082,
          -0.7267665446768418,
          -0.680355339395238,
          -0.6920860624657302,
          -0.746520300717849,
          -0.6547696604499565,
          -0.7037300428326189,
          -0.7237041484053246,
          -0.6910978572842263,
          -0.671838558744458,
          -0.6951259552271251,
          -0.6446687000595421,
          -0.6989433234764116,
          -0.7705608001237597,
          -0.7527913784336999,
          -0.7012459638478435,
          -0.7358875609520432,
          -0.6896771157138573,
          -0.631848512440426,
          -0.7213653654156659,
          -0.735660704359135,
          -0.7148483793607887,
          -0.7268592584770908,
          -0.6477444431077211,
          -0.7098662232968657,
          -0.6901311992754086,
          -0.6433661022300464,
          -0.7273830046075737,
          -0.7444937416595285,
          -0.6916774930416305,
          -0.6301317901024103,
          -0.6983800514415938,
          -0.7437938534207672,
          -0.7085411601977538,
          -0.6382674208831356,
          -0.7253107153470504,
          -0.7059786374267686,
          -0.7270390349469029,
          -0.7718825303465383,
          -0.7348914480731222,
          -0.738973969218261,
          -0.7700801161504142,
          -0.756255561679216,
          -0.6462469845986527,
          -0.7707540917360284,
          -0.7521956584434533,
          -0.7157031153220202,
          -0.6767528104953942,
          -0.7369378172183662,
          -0.6399309919616606,
          -0.6584723011945254,
          -0.6620238570303849,
          -0.7387778034958802,
          -0.6246078174245888,
          -0.7262917214141978,
          -0.6313441147679777,
          -0.6693811053763641,
          -0.7258245550129381,
          -0.7353563903154506,
          -0.6905939795252117,
          -0.7022412944600585,
          -0.7168173995763311,
          -0.6900183345780351,
          -0.6906850425695578,
          -0.7314182462225501,
          -0.7298897787000682,
          -0.7627730743716549,
          -0.6231767186061172,
          -0.7093716884033658,
          -0.7629441035040482,
          -0.7118928341753967,
          -0.710252665421123,
          -0.7381927602409106,
          -0.7880349930754881,
          -0.7859443212607607,
          -0.7077755819589217,
          -0.6559581718115505,
          -0.6995141229414228,
          -0.6980366683946538,
          -0.6131022135139066,
          -0.6902223972603951,
          -0.7293967153716963,
          -0.6750035841951837,
          -0.7221472719992469,
          -0.7113944911969696,
          -0.6900035287726772,
          -0.7409155506405929,
          -0.6777561664137105,
          -0.6680408915404393,
          -0.6648132127730724,
          -0.6799468388616724,
          -0.6473422948696766,
          -0.6834960790460533,
          -0.6505163659970545,
          -0.6649206875219892,
          -0.728184604341251,
          -0.715457398255496,
          -0.7088659496582418,
          -0.8158626963458696,
          -0.762263112700421,
          -0.6726269120004416,
          -0.6617929685444766,
          -0.6814791916674249,
          -0.7187188848568222,
          -0.6660177757443962,
          -0.7246273786545543,
          -0.6733731100916168,
          -0.8054651694636604,
          -0.6354615668462238,
          -0.664356110356821
         ],
         "yaxis": "y"
        },
        {
         "hovertemplate": "color=2<br>PC1=%{x}<br>PC2=%{y}<extra></extra>",
         "legendgroup": "2",
         "marker": {
          "color": "#ab63fa",
          "symbol": "circle"
         },
         "mode": "markers",
         "name": "2",
         "orientation": "v",
         "showlegend": true,
         "type": "scatter",
         "x": [
          0.6753909406879092,
          0.6740006127222619,
          0.6740006127222619,
          0.6601493183190115,
          0.676781268653557,
          0.6818926602824107,
          0.6800240155552645,
          0.7006973599414248,
          0.6772433596239695,
          0.6772433596239695,
          0.6992968368701967,
          0.6875599070108392,
          0.6872629064177544,
          0.6916977282335224,
          0.6984581797204753,
          0.6719134036493191,
          0.6791125546767306,
          0.6821485079269276,
          0.6807282727349482,
          0.6880667940175103,
          0.6835289088745636,
          0.6865443950782485,
          0.678633687589617,
          0.7165178490010775,
          0.6740006127222619,
          0.6972877761005787,
          0.6870140047544986,
          0.6798191864013359,
          0.6545585698286577,
          0.6820697110447276,
          0.6979651715956023,
          0.6902381637450375,
          0.6966551085048193,
          0.6828548401663244,
          0.6741178651035887,
          0.6853001502648184,
          0.6746619012669687,
          0.6520036752252953,
          0.6794151379085114,
          0.7095493390237559,
          0.6735072133131019,
          0.6791936275239878,
          0.6753113979319448,
          0.6674673092830741,
          0.6576103086030755,
          0.6753909406879092,
          0.701397046508449,
          0.6800240155552645,
          0.6817054980660213,
          0.6783030433172638,
          0.6885721310678555,
          0.6950533648680581,
          0.7027691677343839,
          0.660869391145173,
          0.6717699644718778,
          0.6785836656076799,
          0.6740006127222619,
          0.7074206879543262,
          0.678633687589617,
          0.6703511484051446,
          0.7130569943690995,
          0.6796237233430661,
          0.6840243513642046,
          0.676781268653557,
          0.7126908221126116,
          0.669545832025532,
          0.6695454891557271,
          0.6753909406879092,
          0.678633687589617,
          0.6944908229095519,
          0.6885230924796647,
          0.6772433596239695,
          0.6904694592331095,
          0.696874622842548,
          0.6753909406879092,
          0.6682321675503718,
          0.6772433596239695,
          0.6964704252268683,
          0.6740006127222619,
          0.6758424985406302,
          0.6800240155552645,
          0.7080454646742058,
          0.6753909406879092,
          0.7128202982933445,
          0.69582052673276,
          0.6753909406879092,
          0.6916126974009891,
          0.6905042931288294,
          0.7149808820309378,
          0.6930375850023931,
          0.6975120736124363,
          0.6814273281240997,
          0.6772433596239695,
          0.6791962835294576,
          0.7099519941815458,
          0.6836206083250352,
          0.6753909406879092,
          0.7001107041638747,
          0.6830226893115655,
          0.676781268653557,
          0.678633687589617,
          0.6806755015091116,
          0.676781268653557,
          0.6766509996822044,
          0.6963629760712202,
          0.6753909406879092,
          0.6741098405168485,
          0.6789549411657677,
          0.6643213154448847,
          0.6979482266702715,
          0.6964716646960875,
          0.678633687589617,
          0.6630434177914464,
          0.6855563390984517,
          0.6812527400312175,
          0.7104167463576538,
          0.676781268653557,
          0.6802255741825255,
          0.6800240155552645,
          0.706050627499346,
          0.7026224303416607,
          0.6782654388382036,
          0.678633687589617,
          0.678633687589617,
          0.6828918471758704,
          0.7089996628336587,
          0.6881786791079366,
          0.671915564717016,
          0.6837187502121387,
          0.678633687589617,
          0.6953626915146424,
          0.7055199623350444,
          0.6697756686516164,
          0.6888299482299676,
          0.6795573232063209,
          0.672098829094433,
          0.6800240155552645,
          0.7121713845832464,
          0.6811466688432888,
          0.6948971534955629,
          0.6783689843359423,
          0.6772433596239695,
          0.6798284095236721,
          0.668784264359538,
          0.6670043865607015,
          0.7065867471462097,
          0.6808638984661535,
          0.678633687589617,
          0.7012816835090663,
          0.6911854685833444,
          0.6638136631569512,
          0.6740006127222619,
          0.676126111150495,
          0.6753909406879092,
          0.6722830053593033,
          0.7154337627662352,
          0.7071005019805893,
          0.6806434500121592,
          0.676781268653557,
          0.6790339073898525,
          0.6740006127222619,
          0.676781268653557,
          0.6666228326384817,
          0.7010607990519132,
          0.6730074652323877
         ],
         "xaxis": "x",
         "y": [
          0.7484417197295689,
          0.7572972885872381,
          0.7572972885872381,
          0.8440128481639071,
          0.7395861508718993,
          0.7269120281742937,
          0.7141490564183232,
          0.6167752735631722,
          0.7318601941336624,
          0.7318601941336624,
          0.6586668105696026,
          0.6921893649414563,
          0.6787989509352622,
          0.7069193332659993,
          0.6487883790131281,
          0.8285389910445421,
          0.6951838766931266,
          0.7553862779149347,
          0.7841411926783783,
          0.7418841204874412,
          0.7145477279772571,
          0.7405848023697795,
          0.7230046252759929,
          0.550155235380056,
          0.7572972885872381,
          0.6797047064008496,
          0.6915480924083279,
          0.7429189967433366,
          0.8613815894071328,
          0.7870618435670863,
          0.6336283513553115,
          0.6757457432182772,
          0.6580675048063624,
          0.7184958246835031,
          0.7571395308645584,
          0.6516900942567573,
          0.7503522936346257,
          0.8857515208141056,
          0.737868653685403,
          0.5936420692987102,
          0.8004142767460404,
          0.7296817743642605,
          0.7624096949413276,
          0.8314921039014221,
          0.8601293410663718,
          0.7484417197295685,
          0.6186592787899649,
          0.7141490564183232,
          0.7196752790244515,
          0.7264771227522991,
          0.6888257531089274,
          0.6745688432608736,
          0.660077098093951,
          0.8448833769179604,
          0.7792848971928817,
          0.7302702836232898,
          0.7572972885872381,
          0.5966348125676898,
          0.7230046252759929,
          0.8287097652418881,
          0.5553234078484444,
          0.7292404102302033,
          0.7147937491216961,
          0.7395861508718993,
          0.5631279885828596,
          0.7742711893237134,
          0.8062647093579312,
          0.7484417197295685,
          0.7230046252759929,
          0.675146123563014,
          0.6775057485712924,
          0.7318601941336624,
          0.6773020886483875,
          0.6570339167837392,
          0.7484417197295685,
          0.7903441977170155,
          0.7318601941336624,
          0.6508282117710209,
          0.7572972885872381,
          0.7232366634203848,
          0.7141490564183232,
          0.6092346518261507,
          0.7484417197295685,
          0.590285412382929,
          0.6471995128533543,
          0.7484417197295685,
          0.7152450802645224,
          0.6680438264343526,
          0.6252122969895831,
          0.6758291131338183,
          0.6860950248183443,
          0.727389551823656,
          0.7318601941336624,
          0.7296790487726542,
          0.6080864946212646,
          0.7093098974251169,
          0.7484417197295685,
          0.6769848746421453,
          0.7054367045961326,
          0.7395861508718993,
          0.7230046252759929,
          0.728161075954247,
          0.7395861508718993,
          0.7939620124239223,
          0.658238545705547,
          0.7484417197295685,
          0.7292245969061556,
          0.7299267141965814,
          0.7891162913191839,
          0.6493116926014706,
          0.6508269398282718,
          0.7230046252759929,
          0.8352235768304282,
          0.6954078594051549,
          0.7275687140452207,
          0.6068012436403587,
          0.7395861508718993,
          0.728622791172295,
          0.7141490564183232,
          0.6112817528283265,
          0.6073709522621715,
          0.7400338525946358,
          0.7230046252759929,
          0.7230046252759929,
          0.7184578481071274,
          0.5973393372294535,
          0.7121939255471178,
          0.7873726197277483,
          0.7176092805871415,
          0.7230046252759929,
          0.644536152671801,
          0.6266839510412119,
          0.8158751038651009,
          0.7024334328709889,
          0.7293085500203519,
          0.7871845539069376,
          0.7141490564183232,
          0.5546155751901395,
          0.7222195058104851,
          0.7004638508441257,
          0.7369855563695332,
          0.7318601941336624,
          0.738429932787588,
          0.7676238947851842,
          0.7694504045733852,
          0.639638524306307,
          0.7205389281513237,
          0.7230046252759929,
          0.6236044559148715,
          0.6925873840237173,
          0.8166193867864739,
          0.7572972885872381,
          0.7838529035433974,
          0.7484417197295685,
          0.7748638613929126,
          0.5454555542683251,
          0.5961550647593962,
          0.7207651522546173,
          0.7395861508718993,
          0.7318164355849731,
          0.7572972885872381,
          0.7395861508718993,
          0.822689156585862,
          0.6180189575312071,
          0.7163065465685796
         ],
         "yaxis": "y"
        }
       ],
       "layout": {
        "autosize": true,
        "legend": {
         "title": {
          "text": "color"
         },
         "tracegroupgap": 0
        },
        "margin": {
         "t": 60
        },
        "template": {
         "data": {
          "bar": [
           {
            "error_x": {
             "color": "#2a3f5f"
            },
            "error_y": {
             "color": "#2a3f5f"
            },
            "marker": {
             "line": {
              "color": "#E5ECF6",
              "width": 0.5
             },
             "pattern": {
              "fillmode": "overlay",
              "size": 10,
              "solidity": 0.2
             }
            },
            "type": "bar"
           }
          ],
          "barpolar": [
           {
            "marker": {
             "line": {
              "color": "#E5ECF6",
              "width": 0.5
             },
             "pattern": {
              "fillmode": "overlay",
              "size": 10,
              "solidity": 0.2
             }
            },
            "type": "barpolar"
           }
          ],
          "carpet": [
           {
            "aaxis": {
             "endlinecolor": "#2a3f5f",
             "gridcolor": "white",
             "linecolor": "white",
             "minorgridcolor": "white",
             "startlinecolor": "#2a3f5f"
            },
            "baxis": {
             "endlinecolor": "#2a3f5f",
             "gridcolor": "white",
             "linecolor": "white",
             "minorgridcolor": "white",
             "startlinecolor": "#2a3f5f"
            },
            "type": "carpet"
           }
          ],
          "choropleth": [
           {
            "colorbar": {
             "outlinewidth": 0,
             "ticks": ""
            },
            "type": "choropleth"
           }
          ],
          "contour": [
           {
            "colorbar": {
             "outlinewidth": 0,
             "ticks": ""
            },
            "colorscale": [
             [
              0,
              "#0d0887"
             ],
             [
              0.1111111111111111,
              "#46039f"
             ],
             [
              0.2222222222222222,
              "#7201a8"
             ],
             [
              0.3333333333333333,
              "#9c179e"
             ],
             [
              0.4444444444444444,
              "#bd3786"
             ],
             [
              0.5555555555555556,
              "#d8576b"
             ],
             [
              0.6666666666666666,
              "#ed7953"
             ],
             [
              0.7777777777777778,
              "#fb9f3a"
             ],
             [
              0.8888888888888888,
              "#fdca26"
             ],
             [
              1,
              "#f0f921"
             ]
            ],
            "type": "contour"
           }
          ],
          "contourcarpet": [
           {
            "colorbar": {
             "outlinewidth": 0,
             "ticks": ""
            },
            "type": "contourcarpet"
           }
          ],
          "heatmap": [
           {
            "colorbar": {
             "outlinewidth": 0,
             "ticks": ""
            },
            "colorscale": [
             [
              0,
              "#0d0887"
             ],
             [
              0.1111111111111111,
              "#46039f"
             ],
             [
              0.2222222222222222,
              "#7201a8"
             ],
             [
              0.3333333333333333,
              "#9c179e"
             ],
             [
              0.4444444444444444,
              "#bd3786"
             ],
             [
              0.5555555555555556,
              "#d8576b"
             ],
             [
              0.6666666666666666,
              "#ed7953"
             ],
             [
              0.7777777777777778,
              "#fb9f3a"
             ],
             [
              0.8888888888888888,
              "#fdca26"
             ],
             [
              1,
              "#f0f921"
             ]
            ],
            "type": "heatmap"
           }
          ],
          "heatmapgl": [
           {
            "colorbar": {
             "outlinewidth": 0,
             "ticks": ""
            },
            "colorscale": [
             [
              0,
              "#0d0887"
             ],
             [
              0.1111111111111111,
              "#46039f"
             ],
             [
              0.2222222222222222,
              "#7201a8"
             ],
             [
              0.3333333333333333,
              "#9c179e"
             ],
             [
              0.4444444444444444,
              "#bd3786"
             ],
             [
              0.5555555555555556,
              "#d8576b"
             ],
             [
              0.6666666666666666,
              "#ed7953"
             ],
             [
              0.7777777777777778,
              "#fb9f3a"
             ],
             [
              0.8888888888888888,
              "#fdca26"
             ],
             [
              1,
              "#f0f921"
             ]
            ],
            "type": "heatmapgl"
           }
          ],
          "histogram": [
           {
            "marker": {
             "pattern": {
              "fillmode": "overlay",
              "size": 10,
              "solidity": 0.2
             }
            },
            "type": "histogram"
           }
          ],
          "histogram2d": [
           {
            "colorbar": {
             "outlinewidth": 0,
             "ticks": ""
            },
            "colorscale": [
             [
              0,
              "#0d0887"
             ],
             [
              0.1111111111111111,
              "#46039f"
             ],
             [
              0.2222222222222222,
              "#7201a8"
             ],
             [
              0.3333333333333333,
              "#9c179e"
             ],
             [
              0.4444444444444444,
              "#bd3786"
             ],
             [
              0.5555555555555556,
              "#d8576b"
             ],
             [
              0.6666666666666666,
              "#ed7953"
             ],
             [
              0.7777777777777778,
              "#fb9f3a"
             ],
             [
              0.8888888888888888,
              "#fdca26"
             ],
             [
              1,
              "#f0f921"
             ]
            ],
            "type": "histogram2d"
           }
          ],
          "histogram2dcontour": [
           {
            "colorbar": {
             "outlinewidth": 0,
             "ticks": ""
            },
            "colorscale": [
             [
              0,
              "#0d0887"
             ],
             [
              0.1111111111111111,
              "#46039f"
             ],
             [
              0.2222222222222222,
              "#7201a8"
             ],
             [
              0.3333333333333333,
              "#9c179e"
             ],
             [
              0.4444444444444444,
              "#bd3786"
             ],
             [
              0.5555555555555556,
              "#d8576b"
             ],
             [
              0.6666666666666666,
              "#ed7953"
             ],
             [
              0.7777777777777778,
              "#fb9f3a"
             ],
             [
              0.8888888888888888,
              "#fdca26"
             ],
             [
              1,
              "#f0f921"
             ]
            ],
            "type": "histogram2dcontour"
           }
          ],
          "mesh3d": [
           {
            "colorbar": {
             "outlinewidth": 0,
             "ticks": ""
            },
            "type": "mesh3d"
           }
          ],
          "parcoords": [
           {
            "line": {
             "colorbar": {
              "outlinewidth": 0,
              "ticks": ""
             }
            },
            "type": "parcoords"
           }
          ],
          "pie": [
           {
            "automargin": true,
            "type": "pie"
           }
          ],
          "scatter": [
           {
            "marker": {
             "colorbar": {
              "outlinewidth": 0,
              "ticks": ""
             }
            },
            "type": "scatter"
           }
          ],
          "scatter3d": [
           {
            "line": {
             "colorbar": {
              "outlinewidth": 0,
              "ticks": ""
             }
            },
            "marker": {
             "colorbar": {
              "outlinewidth": 0,
              "ticks": ""
             }
            },
            "type": "scatter3d"
           }
          ],
          "scattercarpet": [
           {
            "marker": {
             "colorbar": {
              "outlinewidth": 0,
              "ticks": ""
             }
            },
            "type": "scattercarpet"
           }
          ],
          "scattergeo": [
           {
            "marker": {
             "colorbar": {
              "outlinewidth": 0,
              "ticks": ""
             }
            },
            "type": "scattergeo"
           }
          ],
          "scattergl": [
           {
            "marker": {
             "colorbar": {
              "outlinewidth": 0,
              "ticks": ""
             }
            },
            "type": "scattergl"
           }
          ],
          "scattermapbox": [
           {
            "marker": {
             "colorbar": {
              "outlinewidth": 0,
              "ticks": ""
             }
            },
            "type": "scattermapbox"
           }
          ],
          "scatterpolar": [
           {
            "marker": {
             "colorbar": {
              "outlinewidth": 0,
              "ticks": ""
             }
            },
            "type": "scatterpolar"
           }
          ],
          "scatterpolargl": [
           {
            "marker": {
             "colorbar": {
              "outlinewidth": 0,
              "ticks": ""
             }
            },
            "type": "scatterpolargl"
           }
          ],
          "scatterternary": [
           {
            "marker": {
             "colorbar": {
              "outlinewidth": 0,
              "ticks": ""
             }
            },
            "type": "scatterternary"
           }
          ],
          "surface": [
           {
            "colorbar": {
             "outlinewidth": 0,
             "ticks": ""
            },
            "colorscale": [
             [
              0,
              "#0d0887"
             ],
             [
              0.1111111111111111,
              "#46039f"
             ],
             [
              0.2222222222222222,
              "#7201a8"
             ],
             [
              0.3333333333333333,
              "#9c179e"
             ],
             [
              0.4444444444444444,
              "#bd3786"
             ],
             [
              0.5555555555555556,
              "#d8576b"
             ],
             [
              0.6666666666666666,
              "#ed7953"
             ],
             [
              0.7777777777777778,
              "#fb9f3a"
             ],
             [
              0.8888888888888888,
              "#fdca26"
             ],
             [
              1,
              "#f0f921"
             ]
            ],
            "type": "surface"
           }
          ],
          "table": [
           {
            "cells": {
             "fill": {
              "color": "#EBF0F8"
             },
             "line": {
              "color": "white"
             }
            },
            "header": {
             "fill": {
              "color": "#C8D4E3"
             },
             "line": {
              "color": "white"
             }
            },
            "type": "table"
           }
          ]
         },
         "layout": {
          "annotationdefaults": {
           "arrowcolor": "#2a3f5f",
           "arrowhead": 0,
           "arrowwidth": 1
          },
          "autotypenumbers": "strict",
          "coloraxis": {
           "colorbar": {
            "outlinewidth": 0,
            "ticks": ""
           }
          },
          "colorscale": {
           "diverging": [
            [
             0,
             "#8e0152"
            ],
            [
             0.1,
             "#c51b7d"
            ],
            [
             0.2,
             "#de77ae"
            ],
            [
             0.3,
             "#f1b6da"
            ],
            [
             0.4,
             "#fde0ef"
            ],
            [
             0.5,
             "#f7f7f7"
            ],
            [
             0.6,
             "#e6f5d0"
            ],
            [
             0.7,
             "#b8e186"
            ],
            [
             0.8,
             "#7fbc41"
            ],
            [
             0.9,
             "#4d9221"
            ],
            [
             1,
             "#276419"
            ]
           ],
           "sequential": [
            [
             0,
             "#0d0887"
            ],
            [
             0.1111111111111111,
             "#46039f"
            ],
            [
             0.2222222222222222,
             "#7201a8"
            ],
            [
             0.3333333333333333,
             "#9c179e"
            ],
            [
             0.4444444444444444,
             "#bd3786"
            ],
            [
             0.5555555555555556,
             "#d8576b"
            ],
            [
             0.6666666666666666,
             "#ed7953"
            ],
            [
             0.7777777777777778,
             "#fb9f3a"
            ],
            [
             0.8888888888888888,
             "#fdca26"
            ],
            [
             1,
             "#f0f921"
            ]
           ],
           "sequentialminus": [
            [
             0,
             "#0d0887"
            ],
            [
             0.1111111111111111,
             "#46039f"
            ],
            [
             0.2222222222222222,
             "#7201a8"
            ],
            [
             0.3333333333333333,
             "#9c179e"
            ],
            [
             0.4444444444444444,
             "#bd3786"
            ],
            [
             0.5555555555555556,
             "#d8576b"
            ],
            [
             0.6666666666666666,
             "#ed7953"
            ],
            [
             0.7777777777777778,
             "#fb9f3a"
            ],
            [
             0.8888888888888888,
             "#fdca26"
            ],
            [
             1,
             "#f0f921"
            ]
           ]
          },
          "colorway": [
           "#636efa",
           "#EF553B",
           "#00cc96",
           "#ab63fa",
           "#FFA15A",
           "#19d3f3",
           "#FF6692",
           "#B6E880",
           "#FF97FF",
           "#FECB52"
          ],
          "font": {
           "color": "#2a3f5f"
          },
          "geo": {
           "bgcolor": "white",
           "lakecolor": "white",
           "landcolor": "#E5ECF6",
           "showlakes": true,
           "showland": true,
           "subunitcolor": "white"
          },
          "hoverlabel": {
           "align": "left"
          },
          "hovermode": "closest",
          "mapbox": {
           "style": "light"
          },
          "paper_bgcolor": "white",
          "plot_bgcolor": "#E5ECF6",
          "polar": {
           "angularaxis": {
            "gridcolor": "white",
            "linecolor": "white",
            "ticks": ""
           },
           "bgcolor": "#E5ECF6",
           "radialaxis": {
            "gridcolor": "white",
            "linecolor": "white",
            "ticks": ""
           }
          },
          "scene": {
           "xaxis": {
            "backgroundcolor": "#E5ECF6",
            "gridcolor": "white",
            "gridwidth": 2,
            "linecolor": "white",
            "showbackground": true,
            "ticks": "",
            "zerolinecolor": "white"
           },
           "yaxis": {
            "backgroundcolor": "#E5ECF6",
            "gridcolor": "white",
            "gridwidth": 2,
            "linecolor": "white",
            "showbackground": true,
            "ticks": "",
            "zerolinecolor": "white"
           },
           "zaxis": {
            "backgroundcolor": "#E5ECF6",
            "gridcolor": "white",
            "gridwidth": 2,
            "linecolor": "white",
            "showbackground": true,
            "ticks": "",
            "zerolinecolor": "white"
           }
          },
          "shapedefaults": {
           "line": {
            "color": "#2a3f5f"
           }
          },
          "ternary": {
           "aaxis": {
            "gridcolor": "white",
            "linecolor": "white",
            "ticks": ""
           },
           "baxis": {
            "gridcolor": "white",
            "linecolor": "white",
            "ticks": ""
           },
           "bgcolor": "#E5ECF6",
           "caxis": {
            "gridcolor": "white",
            "linecolor": "white",
            "ticks": ""
           }
          },
          "title": {
           "x": 0.05
          },
          "xaxis": {
           "automargin": true,
           "gridcolor": "white",
           "linecolor": "white",
           "ticks": "",
           "title": {
            "standoff": 15
           },
           "zerolinecolor": "white",
           "zerolinewidth": 2
          },
          "yaxis": {
           "automargin": true,
           "gridcolor": "white",
           "linecolor": "white",
           "ticks": "",
           "title": {
            "standoff": 15
           },
           "zerolinecolor": "white",
           "zerolinewidth": 2
          }
         }
        },
        "xaxis": {
         "anchor": "y",
         "autorange": true,
         "domain": [
          0,
          1
         ],
         "range": [
          -1.730404836213469,
          2.0379520391979327
         ],
         "title": {
          "text": "PC1"
         },
         "type": "linear"
        },
        "yaxis": {
         "anchor": "x",
         "autorange": true,
         "domain": [
          0,
          1
         ],
         "range": [
          -0.947614978251957,
          1.0175038027201928
         ],
         "title": {
          "text": "PC2"
         },
         "type": "linear"
        }
       }
      },
      "image/png": "[encoded data removed]",
      "text/html": [
       "<div>                            <div id=\"ed6846dc-f9e2-4bfd-9fb4-983eaaf34180\" class=\"plotly-graph-div\" style=\"height:525px; width:100%;\"></div>            <script type=\"text/javascript\">                require([\"plotly\"], function(Plotly) {                    window.PLOTLYENV=window.PLOTLYENV || {};                                    if (document.getElementById(\"ed6846dc-f9e2-4bfd-9fb4-983eaaf34180\")) {                    Plotly.newPlot(                        \"ed6846dc-f9e2-4bfd-9fb4-983eaaf34180\",                        [{\"hovertemplate\":\"color=3<br>PC1=%{x}<br>PC2=%{y}<extra></extra>\",\"legendgroup\":\"3\",\"marker\":{\"color\":\"#636efa\",\"symbol\":\"circle\"},\"mode\":\"markers\",\"name\":\"3\",\"orientation\":\"v\",\"showlegend\":true,\"type\":\"scatter\",\"x\":[1.8129198054967512,1.8148644476053695,1.810853727722081,1.802509465229958,1.8164732251422735,1.8181621880492287,1.8164188702922244,1.822359594562698,1.8155828339945965,1.8106986217312104,1.8294895285180812,1.8165680790094079,1.8149911271213153,1.8017721083008031,1.8164048874216876,1.8357743723671944,1.8169645861541883,1.8190804088925494,1.8229872706296355,1.8280425118469452,1.8250015162342161,1.8300527514892466,1.8099954221147883,1.8221247894934662,1.8029229095749224,1.8269781155048503,1.7939898470286404,1.8137364912918794,1.827202375505038,1.8139739310880303,1.832432480837222,1.814403755505141,1.8267995532893277,1.814744188108325,1.799706803176044,1.8240535528582011,1.797812371602078,1.8218272497494292,1.8318289334073248,1.8165403382757104,1.8208117633763479,1.82289496158401,1.8263349293991422,1.8283186948719408,1.8078934617502629,1.8338987634664559,1.8088772383870597,1.8229554032925643,1.8192561288833216,1.8233943500989258,1.8152891935045075,1.821401232143955,1.8123492940205501,1.8109063754206034,1.818408970709781,1.8128022144710165,1.8195396672621198,1.806890579383628,1.8072787538168475,1.7969396090676963,1.8205074555304421,1.81126522858661,1.8279720787973395,1.8056602452380477,1.8186548074386406,1.8040327642259573,1.8096659567954367,1.8192973902301868,1.8290762688046558,1.8019510033776809,1.8353287591756862,1.8209313346234883,1.8129194981708536,1.8266852977804382,1.8097955210812546,1.8171742460370606,1.8148308931930774,1.8265177412234164,1.823162148641423,1.7938935272921679,1.802911532283069,1.8035041618485295,1.8220360860036249,1.8113761289741537,1.8070950688703205,1.8027864089390533,1.8189836298149693,1.831020620045062,1.820416628570882,1.8145226154012675,1.8188760223930132,1.8343054171021889,1.8084691012441487,1.8053021081293883,1.8199522536077128,1.8097328286466852,1.8113739506601012,1.7968557395000464,1.8037411416072002,1.8176082990373086,1.8244934692330983,1.8169924105692878,1.8230925219741383,1.8209990762611648,1.8193804941544671,1.8210040139754264,1.8219414317304208,1.8133182621048727,1.7995580745145623,1.8177486114663184,1.8147470651530493,1.8168773022612519,1.8192296763999534,1.818801128463702,1.8130902120616075,1.8224040011229832,1.8151367302827142,1.8104918685931315,1.8234851236351193,1.8181856128996174,1.8205411654841204,1.8204376971833256,1.816415864881259,1.8034322850072073,1.790049945616682,1.8179668452046827,1.8040428135461775,1.8040764601476968,1.799513438333014,1.8070828612542702,1.8211969529688015,1.811399341857217,1.8285615320283457,1.8187165337789022,1.8272765423963502,1.8258650328219923,1.7976659309373242,1.7939340832871684,1.8165236446416797,1.8181227322729714,1.8152245508016818,1.8107264088817336,1.8110670239991202,1.805222953885843,1.798931122794222,1.8269300316731896,1.8260708312736067,1.819567240385919,1.8154742354784605,1.8163232642488158,1.8288258889295184,1.820438997807048,1.8201245250915101,1.8127953776561263,1.8220342875258686,1.8225198384137378,1.8134677653892093,1.8174884881758908,1.7919346470980602,1.8171138066927885,1.8138577751154845,1.8084559418578943,1.819120674968645,1.8213593328936561],\"xaxis\":\"x\",\"y\":[-0.18698108130272342,-0.20910812685891209,-0.19014187593216492,-0.13843851939202928,-0.2264250060075752,-0.22654157395701646,-0.2115115972226904,-0.19371205381426804,-0.19499488263961243,-0.17512507637236086,-0.24318388871609226,-0.21005524797946484,-0.18615053587493427,-0.14744270480002916,-0.1918112166618837,-0.22376833398678292,-0.22692924045467616,-0.22829217427811152,-0.24394008955752078,-0.28868246226620786,-0.27894130152835844,-0.2981741842047061,-0.1629473814833805,-0.23804398654635098,-0.13743038436674884,-0.2809696868015067,-0.1023124771634478,-0.17904368138675522,-0.20611052834745863,-0.20157378679135163,-0.2397588985474244,-0.18931223263588215,-0.22297257190524963,-0.18509598252007273,-0.1304656597572263,-0.2623025495712607,-0.1056968050758626,-0.23111098111698494,-0.2604422148126299,-0.2116362476121357,-0.21539388337829227,-0.2396354814475849,-0.2224957750803156,-0.2305263079983576,-0.15336153578142345,-0.27097885684004874,-0.181485933195624,-0.22904975744823308,-0.22767135340080963,-0.236929019392651,-0.20587964322283064,-0.23264455853553195,-0.18693396775263027,-0.19180537013744237,-0.22760314472012685,-0.18148648503807338,-0.2444294173797144,-0.17444337722506542,-0.15675797961052335,-0.09791070669600777,-0.24228937078650367,-0.16585992346861145,-0.22918684230988728,-0.14927771907232898,-0.21711636111720445,-0.13910766177269027,-0.17164756641462367,-0.21285606591373948,-0.2303199615935342,-0.12399317447640576,-0.265017502855684,-0.24424090077539642,-0.1782965953064311,-0.2724320599455513,-0.17258884773485816,-0.18517191719206572,-0.17462295383310664,-0.2804972509231418,-0.2621961134781682,-0.08735600403118861,-0.15604079610399013,-0.13641739802475802,-0.21566651427168762,-0.17501201148812118,-0.14511341043966672,-0.1342500387066806,-0.20510527018701477,-0.2670415389388938,-0.221433442721495,-0.19551635396199676,-0.23631957038543275,-0.2208284813373126,-0.1736382881138349,-0.14810905428223145,-0.21272694176215118,-0.17493512459994587,-0.1906757284747171,-0.12467668647597646,-0.15554547323884885,-0.2119310438083265,-0.25694182164203344,-0.17997429245644775,-0.23321772540792374,-0.20637237576210127,-0.20972241280109943,-0.2385033143801202,-0.19248179065387597,-0.19007613458882897,-0.14015963907364512,-0.161682795001543,-0.1754293860776396,-0.19229600855552884,-0.22844535252636586,-0.21655668292379657,-0.16111222825896937,-0.24575215046784202,-0.20276705079643637,-0.1690935586257828,-0.24766992040743555,-0.16213124567377515,-0.2231707096062403,-0.22888387825324358,-0.19665088320885402,-0.13133261278162647,-0.07840069700150087,-0.2226767555339942,-0.15720171642201772,-0.14926908455048327,-0.12042062424196089,-0.1475186726596235,-0.2198164215939789,-0.15516717741446584,-0.20508750448393243,-0.23534758073310447,-0.24834173829502293,-0.25092050464233784,-0.12094250266220603,-0.09724422717605835,-0.18029438972655948,-0.19679300258946458,-0.21771480203555638,-0.18016461679483417,-0.19116190512668452,-0.13075240670101357,-0.12832298932544894,-0.21827088942346728,-0.2207907364641802,-0.21313298602090366,-0.18584515679949487,-0.17686982513651114,-0.2523494666731712,-0.22306586518246446,-0.22534356687299584,-0.18550672593272177,-0.237943935611286,-0.2334383603075454,-0.16812016573437225,-0.19855993125530783,-0.08033477680508286,-0.18832882868640963,-0.20145458758511792,-0.16458650186542445,-0.22010353572389807,-0.19026779607412314],\"yaxis\":\"y\"},{\"hovertemplate\":\"color=0<br>PC1=%{x}<br>PC2=%{y}<extra></extra>\",\"legendgroup\":\"0\",\"marker\":{\"color\":\"#EF553B\",\"symbol\":\"circle\"},\"mode\":\"markers\",\"name\":\"0\",\"orientation\":\"v\",\"showlegend\":true,\"type\":\"scatter\",\"x\":[-1.4805831820808137,-1.4712519511774007,-1.4899422329477465,-1.4939838549246693,-1.4840625336455904,-1.491235157857483,-1.4778979141340078,-1.5094385777036605,-1.4826105389869109,-1.490179658919496,-1.4797986775698446,-1.5259870967337745,-1.4965355633356576,-1.4770157661839676,-1.4706090363873507,-1.4629485531801942,-1.5029376728026376,-1.4760417999494855,-1.4853517051909613,-1.4723107481205617,-1.4969142699696347,-1.4968308150522647,-1.4855170966703246,-1.4983045979352827,-1.4955952786091244,-1.4806247369592147,-1.4969142699696347,-1.512879873093097,-1.4996949259009298,-1.4969142699696347,-1.4853474640900362,-1.5015473448369896,-1.5001570168713425,-1.4802346630177814,-1.4796939050326945,-1.4969450289593509,-1.477167633351223,-1.5140690979130131,-1.4877413467263434,-1.497145852238117,-1.468482291367007,-1.49764125085462,-1.5103490059364884,-1.5015473448369896,-1.4982763902959682,-1.4885345939849388,-1.4947175218757986,-1.5029376728026376,-1.5047237104659419,-1.4989294139791378,-1.4902559059610487,-1.4966631491536295,-1.4894209337831368,-1.5030011945960315,-1.5032664487981722,-1.4983045979352827,-1.47294529197903,-1.5015473448369896,-1.4749260281731704,-1.5134238770749675,-1.4943901254568226,-1.4909601727578417,-1.4983045979352827,-1.4973896386031134,-1.5001570168713425,-1.4910483814046878,-1.5004961910406156,-1.495054480958338,-1.498164660999204,-1.5009573334108293,-1.4660832589407506,-1.4956548248290185,-1.5015473448369896,-1.4953948061568196,-1.5001570168713425,-1.4784951588663697,-1.470086050430499,-1.4778286837607035,-1.4990046764829648,-1.4768373290332217,-1.5131922633888883,-1.4969142699696347,-1.4996949259009298,-1.4969142699696347,-1.4988048496804982,-1.4889721727558398,-1.5015473448369896,-1.4977919348982738,-1.5001570168713425,-1.5216804831102708,-1.4969142699696347,-1.4996949259009298,-1.4833062400815367,-1.5001570168713425,-1.4840697995374177,-1.4875119314809013,-1.4948262495911333,-1.478591662762723,-1.5068312192506363,-1.4873290615108294,-1.4952660760607666,-1.4778428903398095,-1.4677110314311164,-1.498547450476267,-1.5015473448369896,-1.4687640002852718,-1.4852819516527302,-1.4895066682133133,-1.4969142699696347,-1.5001570168713425,-1.4762048039090856,-1.495686965337533,-1.4901631916855835,-1.4813052637988233,-1.5001570168713425,-1.4969142699696347,-1.472228099505194,-1.5208558783259798,-1.5001570168713425,-1.475999224357155,-1.4919608796770696,-1.500356214445636,-1.4996949259009298,-1.4750519204681558,-1.5053463251168688,-1.5047818377853017,-1.5045103392682628,-1.4995254216065632,-1.4732961095998782,-1.5107745948718012,-1.4851309158392973,-1.4759273403426645,-1.5082003578029153,-1.5001570168713425,-1.4765247057964392,-1.4969142699696347,-1.5153269895022055,-1.5121199600250583,-1.4812076998645651,-1.5282271693827307,-1.5051771232591953,-1.4983045979352827,-1.4882485767480214,-1.4964221443439765,-1.4813533677930995,-1.4983045979352827,-1.4846976280850892,-1.4996949259009298,-1.473343934248319,-1.4969142699696347,-1.4995021855078898,-1.4967794679774653,-1.4920704398120304,-1.5107494002079616,-1.4775436636377102,-1.4808210498439562,-1.470100236208703,-1.496083417477343,-1.4778891402872552,-1.4969142699696347,-1.4958987365636756,-1.5126229927233632,-1.4900190877644868,-1.4772528565746228,-1.4950183592839486,-1.4989334140532888,-1.46494254907244,-1.4969545849071584,-1.5055208798694888,-1.5015473448369896,-1.5117279368381977,-1.5001570168713425,-1.5001570168713425,-1.5001570168713425,-1.5057590134490242,-1.5015473448369896,-1.4996949259009298,-1.4966349812799076,-1.5054537554717942,-1.504601054710606,-1.48665333581031,-1.4869791391479403,-1.4771057195434796,-1.5015473448369896,-1.4983045979352827,-1.5029376728026376,-1.518800446317409,-1.4847273777106338,-1.4969142699696347,-1.5029376728026376,-1.4996949259009298,-1.5015473448369896,-1.4946630214873362,-1.4868933928827621,-1.478389264273814,-1.46329148087447,-1.488697444036703,-1.5054640188255362,-1.4847670847781922,-1.4674743282625111,-1.4984454893108787,-1.473581635344881,-1.512691881967487,-1.508362020162341,-1.518125334728832,-1.4949131923394534,-1.4969142699696347,-1.4912249914591846,-1.5090055412475496,-1.4866839660424456,-1.5001570168713425,-1.50554889689355,-1.4981058556202853,-1.5087255200145673,-1.4977463846555217,-1.5074379608355533,-1.4665882887094865,-1.4996949259009298,-1.4906086984799294,-1.4796527719717525,-1.477759971823759,-1.497418481404698,-1.5001570168713425,-1.4767837515556612,-1.513559793391407,-1.4679438305247607,-1.5029376728026376,-1.5143780760171,-1.4956016157208358],\"xaxis\":\"x\",\"y\":[0.13447701289219638,0.1169413258385442,0.21488185514352381,0.2626184869364532,0.1573778319428039,0.1870248204427501,0.12510089972343816,0.30836882207416416,0.17450988279297788,0.19337048284355388,0.1352885997376356,0.37859917731484094,0.1814176221692577,0.12419563989804844,0.0969512569169869,0.03789669052191267,0.24906488398758886,0.12481280120892892,0.17436673156821292,0.09708090770613689,0.2059166518186738,0.2205115845460568,0.17006377603541428,0.21477222067634338,0.1788432352492716,0.15761442379224613,0.2059166518186738,0.31932909276994814,0.22362778953401255,0.2059166518186738,0.17731851408985594,0.24020931512991922,0.23135374627224972,0.14235650022836913,0.1269439447673815,0.22259954729725437,0.13903206004171867,0.30935620256190044,0.25379463819059106,0.18786324813383362,0.07248234735002464,0.2213432533980856,0.2509962333068319,0.24020931512991922,0.22199503320412192,0.17995787856723092,0.2520907497872674,0.24906488398758886,0.25573860354837985,0.23107935898805046,0.12798993922521945,0.24164751142300714,0.1703054346597628,0.28108580482222456,0.2542431622872486,0.21477222067634338,0.11787070889052836,0.24020931512991922,0.09976470690746234,0.33635444643234275,0.21057813506128775,0.1867426308584808,0.21477222067634338,0.2210850490199488,0.23135374627224972,0.15189076661096765,0.23735101768209063,0.21125989637498926,0.2218803766505649,0.21826534574242692,0.06921213885555914,0.20280025350774908,0.24020931512991922,0.20418032300775674,0.23135374627224972,0.1331426069275707,0.07824669289218707,0.12601523379164717,0.2663368304978373,0.1306330201972723,0.33369897490295974,0.2059166518186738,0.22362778953401255,0.2059166518186738,0.1986039926473977,0.18833825813508792,0.24020931512991922,0.2214978852951965,0.23135374627224972,0.3100535147954658,0.2059166518186738,0.22362778953401255,0.16036618107761322,0.23135374627224972,0.1677702378664142,0.17953968954259805,0.20556762701011808,0.12581282425091217,0.29907265959251256,0.17558757121592466,0.21147703517293004,0.1390937416842932,0.08574018810780865,0.20944020017402346,0.24020931512991922,0.08762906677637872,0.16982247032523418,0.18230900727312693,0.2059166518186738,0.23135374627224972,0.10850580091768203,0.2287373379115775,0.1933535841755968,0.1277891978917934,0.23135374627224972,0.2059166518186738,0.11847421601929839,0.35104707852322775,0.23135374627224972,0.12315246513739767,0.14459721234014872,0.23057278448662522,0.22362778953401255,0.10732271245459264,0.29513107223733526,0.28712298066300923,0.2752056734677172,0.23169098174442573,0.15009378972700171,0.3163603347071006,0.1622386625109011,0.11663526110899265,0.2498624136622292,0.23135374627224972,0.1393576663230425,0.2059166518186738,0.2866210421563514,0.26050520010332706,0.12768907782680142,0.38832675378030734,0.2792986628534579,0.21477222067634338,0.18691612700312524,0.22009220685095454,0.1583621444228117,0.21477222067634338,0.17665165267693353,0.22362778953401255,0.09814116284085139,0.2059166518186738,0.2355226471471727,0.21303007727000034,0.21899061435614667,0.3245716173947702,0.1478788359777064,0.15665344600270212,0.11709892618058275,0.2123157905631341,0.1267085410239205,0.2059166518186738,0.21212627109346704,0.27346125222216633,0.24852618434063914,0.1318677568804143,0.211222828329148,0.19524862340040108,0.05399223555370514,0.22063859711489409,0.21713467531536712,0.24020931512991922,0.30749922705553334,0.23135374627224972,0.23135374627224972,0.23135374627224972,0.22426233989315128,0.24020931512991922,0.22362778953401255,0.2128818050866364,0.2639165903328102,0.27950864622268917,0.17122978412443968,0.1715641233614363,0.1336875214175864,0.24020931512991922,0.21477222067634338,0.24906488398758886,0.3452734374455055,0.1692533667979118,0.2059166518186738,0.24906488398758886,0.22362778953401255,0.24020931512991922,0.2438922155934394,0.15908299104045154,0.13007780320733453,0.04648574020616691,0.1799479394795228,0.25663101100702884,0.18334342152604605,0.07306462108834885,0.22216856253636724,0.10743055154737445,0.3356032733857429,0.3096818488845629,0.32595855113117955,0.20664222586475697,0.2059166518186738,0.13641322925418525,0.24540768984438643,0.17869003178596993,0.23135374627224972,0.27305250650879126,0.17238130614483496,0.2708083350763283,0.21899591860453352,0.29306762725191865,0.11349496725308847,0.22362778953401255,0.20419571271418901,0.14256768641042356,0.14724578818106024,0.171675923037215,0.23135374627224972,0.13022392754052622,0.33989548179475176,0.07192977907844514,0.24906488398758886,0.31764043575060263,0.21925018075082306],\"yaxis\":\"y\"},{\"hovertemplate\":\"color=1<br>PC1=%{x}<br>PC2=%{y}<extra></extra>\",\"legendgroup\":\"1\",\"marker\":{\"color\":\"#00cc96\",\"symbol\":\"circle\"},\"mode\":\"markers\",\"name\":\"1\",\"orientation\":\"v\",\"showlegend\":true,\"type\":\"scatter\",\"x\":[-0.3594850584350299,-0.3526396657518077,-0.3609081414371884,-0.36613868444044323,-0.35225681042851426,-0.35792268553009665,-0.38424545213640077,-0.3748756102256989,-0.3570602948632956,-0.3656247794896136,-0.3656182078468392,-0.369938822842381,-0.3614347311435089,-0.37710063067570776,-0.36496130153403333,-0.3637050798905372,-0.3654944498133629,-0.35513613524137566,-0.3636224336394525,-0.3690534947786274,-0.36979948109784266,-0.3621951799813783,-0.3677371891732707,-0.3703806021692657,-0.37726352998023954,-0.3697079940129802,-0.360307379950498,-0.3533274954429355,-0.3652396531912344,-0.3662602754293074,-0.35963059279709786,-0.3592940295068386,-0.3497900038743829,-0.3649952978520696,-0.36443595144132596,-0.36851839820997595,-0.36582610400785426,-0.3678188170747097,-0.3609147881152821,-0.3674885863649252,-0.37073108259138504,-0.3591545842231665,-0.3579478747689989,-0.3461816949504359,-0.3680254264928178,-0.35834573562761424,-0.37089316377848747,-0.36216525565308505,-0.3599045920831033,-0.36818817890204486,-0.36707837917566266,-0.35618858622327565,-0.36127814982616785,-0.37816462560391584,-0.3513003214363915,-0.3430164198073629,-0.356402742133239,-0.37110321800463003,-0.3730003070853508,-0.37270264889787436,-0.3572453275467422,-0.37003626919619886,-0.37885513020879025,-0.3881177163066773,-0.3526947124866256,-0.35409708518699223,-0.3745488146198691,-0.35259266726295413,-0.35620258216357764,-0.37348363837437576,-0.3527143792201778,-0.3608850586523524,-0.3709008256592635,-0.36388280112833,-0.35575844871593854,-0.36667903353344317,-0.3702623181650615,-0.3508770111424174,-0.3583596668007807,-0.3626511121529805,-0.35934693850577204,-0.3652407204023078,-0.363404704709715,-0.34733666120259776,-0.37273222665661393,-0.3624339080278577,-0.3574480592884937,-0.36279230935318957,-0.35731541953205065,-0.36357917522215705,-0.3734157087051127,-0.359596182139803,-0.3536472320846751,-0.35727236946944785,-0.36328619043982463,-0.3592663165805845,-0.36653284038073014,-0.37431094637907775,-0.3589394461121996,-0.3579120103628249,-0.35648252041152895,-0.36004427725622246,-0.3780112779099644,-0.3621251642797376,-0.3660903498694595,-0.3713703362627119,-0.35952690810529636,-0.3565436387090612,-0.36615191040613904,-0.38069596351028345,-0.36529124872139224,-0.35801334385013284,-0.3602726502260613,-0.3776511312130854,-0.3607655995607144,-0.3578866596056195,-0.35986209599558633,-0.35235924649884753,-0.36023699804628506,-0.3567833071016579,-0.3437397386303083,-0.35310894358089306,-0.37711444340543565,-0.3526711898269258,-0.35627750932526947,-0.3597520060225595,-0.36752953746364186,-0.348037935464181,-0.37550543142625536,-0.3711281132924319,-0.36862588317853184,-0.3548814874071766,-0.37360302852228905,-0.36137801563183286,-0.37715852836766767,-0.3669492849364355,-0.36183325496935864,-0.35899624057671115,-0.3672077611139048,-0.355248085513319,-0.36258361390270355,-0.36776870946912915,-0.36590271193459556,-0.3532456215307405,-0.3508941826985687,-0.3532092941708262,-0.377353652370615,-0.36260007877233297,-0.3538303170307774,-0.3590995238546258,-0.36060883739109256,-0.35231484130159046,-0.3510974715622224,-0.34371751408565404,-0.3641554355754548,-0.3727903698013624,-0.36497381631534304,-0.35603065062814243,-0.38045639709745066,-0.363645418310093,-0.3583522942006232,-0.36478506577621594,-0.35660912570320674,-0.3574921666332311,-0.3654340699556825,-0.35436669475690685,-0.3681201742899079,-0.3651185294130187,-0.37114446611510177,-0.3672071680619364,-0.37665525263894284,-0.3653169187123669,-0.36771733750314717,-0.3648443584849197,-0.3563967064201253,-0.3631282025953442,-0.3654559621968021,-0.34490999953148993,-0.35528160720059165,-0.3678887454823157,-0.36161172450253803,-0.36414556081358873,-0.36073766938659124,-0.36708999373974455,-0.35419233779270926,-0.36794228922147687,-0.3478029183249256,-0.3798607491956528,-0.37342135956046],\"xaxis\":\"x\",\"y\":[-0.7167782014669802,-0.7811713913963059,-0.7004602044744955,-0.6752239684981642,-0.7364602205572158,-0.743886886947584,-0.60178507202385,-0.6559732891213697,-0.7291130973434574,-0.6847896196173496,-0.6526704918962903,-0.6556654936828461,-0.7097664229584414,-0.6457228141481351,-0.6583556341171594,-0.6925789622436591,-0.6899415669901684,-0.7533669360095833,-0.6786144664355055,-0.6788604617331874,-0.6533906964477607,-0.7254531477301006,-0.682621865760084,-0.6799163744020915,-0.6381268320246289,-0.6814077492383336,-0.667158743161929,-0.7642684212979723,-0.6892176609221621,-0.6915662889041077,-0.7041890139783017,-0.7151893221840456,-0.7745190859600274,-0.69045379650598,-0.686009594420173,-0.6794095775887327,-0.6797546190052867,-0.682538099244728,-0.6946412137432548,-0.678048580366069,-0.6655002263417055,-0.72374500423226,-0.7324121438569051,-0.8145576830849408,-0.6600468098171167,-0.7071170009826329,-0.6770583380893399,-0.7254838560621941,-0.7269954254812074,-0.6821590603053937,-0.674259654187979,-0.7398542489548828,-0.7263942036585816,-0.6377404731726518,-0.7548926345799083,-0.7708223855977675,-0.7454466521706155,-0.6618994068278056,-0.6376661700817047,-0.6409277615158905,-0.7214944019565682,-0.6587844286008135,-0.6307654967123739,-0.5853715160998095,-0.7163176364617435,-0.7544403865601872,-0.6507576664792455,-0.7650225016422851,-0.7299932817260726,-0.66348387735727,-0.7450273359478214,-0.7193687787112539,-0.6472494718981627,-0.7088636818136635,-0.7617737781540997,-0.6714505281825542,-0.6657184725984622,-0.7141557039240322,-0.7113125854283306,-0.7077170286674082,-0.7267665446768418,-0.680355339395238,-0.6920860624657302,-0.746520300717849,-0.6547696604499565,-0.7037300428326189,-0.7237041484053246,-0.6910978572842263,-0.671838558744458,-0.6951259552271251,-0.6446687000595421,-0.6989433234764116,-0.7705608001237597,-0.7527913784336999,-0.7012459638478435,-0.7358875609520432,-0.6896771157138573,-0.631848512440426,-0.7213653654156659,-0.735660704359135,-0.7148483793607887,-0.7268592584770908,-0.6477444431077211,-0.7098662232968657,-0.6901311992754086,-0.6433661022300464,-0.7273830046075737,-0.7444937416595285,-0.6916774930416305,-0.6301317901024103,-0.6983800514415938,-0.7437938534207672,-0.7085411601977538,-0.6382674208831356,-0.7253107153470504,-0.7059786374267686,-0.7270390349469029,-0.7718825303465383,-0.7348914480731222,-0.738973969218261,-0.7700801161504142,-0.756255561679216,-0.6462469845986527,-0.7707540917360284,-0.7521956584434533,-0.7157031153220202,-0.6767528104953942,-0.7369378172183662,-0.6399309919616606,-0.6584723011945254,-0.6620238570303849,-0.7387778034958802,-0.6246078174245888,-0.7262917214141978,-0.6313441147679777,-0.6693811053763641,-0.7258245550129381,-0.7353563903154506,-0.6905939795252117,-0.7022412944600585,-0.7168173995763311,-0.6900183345780351,-0.6906850425695578,-0.7314182462225501,-0.7298897787000682,-0.7627730743716549,-0.6231767186061172,-0.7093716884033658,-0.7629441035040482,-0.7118928341753967,-0.710252665421123,-0.7381927602409106,-0.7880349930754881,-0.7859443212607607,-0.7077755819589217,-0.6559581718115505,-0.6995141229414228,-0.6980366683946538,-0.6131022135139066,-0.6902223972603951,-0.7293967153716963,-0.6750035841951837,-0.7221472719992469,-0.7113944911969696,-0.6900035287726772,-0.7409155506405929,-0.6777561664137105,-0.6680408915404393,-0.6648132127730724,-0.6799468388616724,-0.6473422948696766,-0.6834960790460533,-0.6505163659970545,-0.6649206875219892,-0.728184604341251,-0.715457398255496,-0.7088659496582418,-0.8158626963458696,-0.762263112700421,-0.6726269120004416,-0.6617929685444766,-0.6814791916674249,-0.7187188848568222,-0.6660177757443962,-0.7246273786545543,-0.6733731100916168,-0.8054651694636604,-0.6354615668462238,-0.664356110356821],\"yaxis\":\"y\"},{\"hovertemplate\":\"color=2<br>PC1=%{x}<br>PC2=%{y}<extra></extra>\",\"legendgroup\":\"2\",\"marker\":{\"color\":\"#ab63fa\",\"symbol\":\"circle\"},\"mode\":\"markers\",\"name\":\"2\",\"orientation\":\"v\",\"showlegend\":true,\"type\":\"scatter\",\"x\":[0.6753909406879092,0.6740006127222619,0.6740006127222619,0.6601493183190115,0.676781268653557,0.6818926602824107,0.6800240155552645,0.7006973599414248,0.6772433596239695,0.6772433596239695,0.6992968368701967,0.6875599070108392,0.6872629064177544,0.6916977282335224,0.6984581797204753,0.6719134036493191,0.6791125546767306,0.6821485079269276,0.6807282727349482,0.6880667940175103,0.6835289088745636,0.6865443950782485,0.678633687589617,0.7165178490010775,0.6740006127222619,0.6972877761005787,0.6870140047544986,0.6798191864013359,0.6545585698286577,0.6820697110447276,0.6979651715956023,0.6902381637450375,0.6966551085048193,0.6828548401663244,0.6741178651035887,0.6853001502648184,0.6746619012669687,0.6520036752252953,0.6794151379085114,0.7095493390237559,0.6735072133131019,0.6791936275239878,0.6753113979319448,0.6674673092830741,0.6576103086030755,0.6753909406879092,0.701397046508449,0.6800240155552645,0.6817054980660213,0.6783030433172638,0.6885721310678555,0.6950533648680581,0.7027691677343839,0.660869391145173,0.6717699644718778,0.6785836656076799,0.6740006127222619,0.7074206879543262,0.678633687589617,0.6703511484051446,0.7130569943690995,0.6796237233430661,0.6840243513642046,0.676781268653557,0.7126908221126116,0.669545832025532,0.6695454891557271,0.6753909406879092,0.678633687589617,0.6944908229095519,0.6885230924796647,0.6772433596239695,0.6904694592331095,0.696874622842548,0.6753909406879092,0.6682321675503718,0.6772433596239695,0.6964704252268683,0.6740006127222619,0.6758424985406302,0.6800240155552645,0.7080454646742058,0.6753909406879092,0.7128202982933445,0.69582052673276,0.6753909406879092,0.6916126974009891,0.6905042931288294,0.7149808820309378,0.6930375850023931,0.6975120736124363,0.6814273281240997,0.6772433596239695,0.6791962835294576,0.7099519941815458,0.6836206083250352,0.6753909406879092,0.7001107041638747,0.6830226893115655,0.676781268653557,0.678633687589617,0.6806755015091116,0.676781268653557,0.6766509996822044,0.6963629760712202,0.6753909406879092,0.6741098405168485,0.6789549411657677,0.6643213154448847,0.6979482266702715,0.6964716646960875,0.678633687589617,0.6630434177914464,0.6855563390984517,0.6812527400312175,0.7104167463576538,0.676781268653557,0.6802255741825255,0.6800240155552645,0.706050627499346,0.7026224303416607,0.6782654388382036,0.678633687589617,0.678633687589617,0.6828918471758704,0.7089996628336587,0.6881786791079366,0.671915564717016,0.6837187502121387,0.678633687589617,0.6953626915146424,0.7055199623350444,0.6697756686516164,0.6888299482299676,0.6795573232063209,0.672098829094433,0.6800240155552645,0.7121713845832464,0.6811466688432888,0.6948971534955629,0.6783689843359423,0.6772433596239695,0.6798284095236721,0.668784264359538,0.6670043865607015,0.7065867471462097,0.6808638984661535,0.678633687589617,0.7012816835090663,0.6911854685833444,0.6638136631569512,0.6740006127222619,0.676126111150495,0.6753909406879092,0.6722830053593033,0.7154337627662352,0.7071005019805893,0.6806434500121592,0.676781268653557,0.6790339073898525,0.6740006127222619,0.676781268653557,0.6666228326384817,0.7010607990519132,0.6730074652323877],\"xaxis\":\"x\",\"y\":[0.7484417197295689,0.7572972885872381,0.7572972885872381,0.8440128481639071,0.7395861508718993,0.7269120281742937,0.7141490564183232,0.6167752735631722,0.7318601941336624,0.7318601941336624,0.6586668105696026,0.6921893649414563,0.6787989509352622,0.7069193332659993,0.6487883790131281,0.8285389910445421,0.6951838766931266,0.7553862779149347,0.7841411926783783,0.7418841204874412,0.7145477279772571,0.7405848023697795,0.7230046252759929,0.550155235380056,0.7572972885872381,0.6797047064008496,0.6915480924083279,0.7429189967433366,0.8613815894071328,0.7870618435670863,0.6336283513553115,0.6757457432182772,0.6580675048063624,0.7184958246835031,0.7571395308645584,0.6516900942567573,0.7503522936346257,0.8857515208141056,0.737868653685403,0.5936420692987102,0.8004142767460404,0.7296817743642605,0.7624096949413276,0.8314921039014221,0.8601293410663718,0.7484417197295685,0.6186592787899649,0.7141490564183232,0.7196752790244515,0.7264771227522991,0.6888257531089274,0.6745688432608736,0.660077098093951,0.8448833769179604,0.7792848971928817,0.7302702836232898,0.7572972885872381,0.5966348125676898,0.7230046252759929,0.8287097652418881,0.5553234078484444,0.7292404102302033,0.7147937491216961,0.7395861508718993,0.5631279885828596,0.7742711893237134,0.8062647093579312,0.7484417197295685,0.7230046252759929,0.675146123563014,0.6775057485712924,0.7318601941336624,0.6773020886483875,0.6570339167837392,0.7484417197295685,0.7903441977170155,0.7318601941336624,0.6508282117710209,0.7572972885872381,0.7232366634203848,0.7141490564183232,0.6092346518261507,0.7484417197295685,0.590285412382929,0.6471995128533543,0.7484417197295685,0.7152450802645224,0.6680438264343526,0.6252122969895831,0.6758291131338183,0.6860950248183443,0.727389551823656,0.7318601941336624,0.7296790487726542,0.6080864946212646,0.7093098974251169,0.7484417197295685,0.6769848746421453,0.7054367045961326,0.7395861508718993,0.7230046252759929,0.728161075954247,0.7395861508718993,0.7939620124239223,0.658238545705547,0.7484417197295685,0.7292245969061556,0.7299267141965814,0.7891162913191839,0.6493116926014706,0.6508269398282718,0.7230046252759929,0.8352235768304282,0.6954078594051549,0.7275687140452207,0.6068012436403587,0.7395861508718993,0.728622791172295,0.7141490564183232,0.6112817528283265,0.6073709522621715,0.7400338525946358,0.7230046252759929,0.7230046252759929,0.7184578481071274,0.5973393372294535,0.7121939255471178,0.7873726197277483,0.7176092805871415,0.7230046252759929,0.644536152671801,0.6266839510412119,0.8158751038651009,0.7024334328709889,0.7293085500203519,0.7871845539069376,0.7141490564183232,0.5546155751901395,0.7222195058104851,0.7004638508441257,0.7369855563695332,0.7318601941336624,0.738429932787588,0.7676238947851842,0.7694504045733852,0.639638524306307,0.7205389281513237,0.7230046252759929,0.6236044559148715,0.6925873840237173,0.8166193867864739,0.7572972885872381,0.7838529035433974,0.7484417197295685,0.7748638613929126,0.5454555542683251,0.5961550647593962,0.7207651522546173,0.7395861508718993,0.7318164355849731,0.7572972885872381,0.7395861508718993,0.822689156585862,0.6180189575312071,0.7163065465685796],\"yaxis\":\"y\"}],                        {\"legend\":{\"title\":{\"text\":\"color\"},\"tracegroupgap\":0},\"margin\":{\"t\":60},\"template\":{\"data\":{\"bar\":[{\"error_x\":{\"color\":\"#2a3f5f\"},\"error_y\":{\"color\":\"#2a3f5f\"},\"marker\":{\"line\":{\"color\":\"#E5ECF6\",\"width\":0.5},\"pattern\":{\"fillmode\":\"overlay\",\"size\":10,\"solidity\":0.2}},\"type\":\"bar\"}],\"barpolar\":[{\"marker\":{\"line\":{\"color\":\"#E5ECF6\",\"width\":0.5},\"pattern\":{\"fillmode\":\"overlay\",\"size\":10,\"solidity\":0.2}},\"type\":\"barpolar\"}],\"carpet\":[{\"aaxis\":{\"endlinecolor\":\"#2a3f5f\",\"gridcolor\":\"white\",\"linecolor\":\"white\",\"minorgridcolor\":\"white\",\"startlinecolor\":\"#2a3f5f\"},\"baxis\":{\"endlinecolor\":\"#2a3f5f\",\"gridcolor\":\"white\",\"linecolor\":\"white\",\"minorgridcolor\":\"white\",\"startlinecolor\":\"#2a3f5f\"},\"type\":\"carpet\"}],\"choropleth\":[{\"colorbar\":{\"outlinewidth\":0,\"ticks\":\"\"},\"type\":\"choropleth\"}],\"contour\":[{\"colorbar\":{\"outlinewidth\":0,\"ticks\":\"\"},\"colorscale\":[[0.0,\"#0d0887\"],[0.1111111111111111,\"#46039f\"],[0.2222222222222222,\"#7201a8\"],[0.3333333333333333,\"#9c179e\"],[0.4444444444444444,\"#bd3786\"],[0.5555555555555556,\"#d8576b\"],[0.6666666666666666,\"#ed7953\"],[0.7777777777777778,\"#fb9f3a\"],[0.8888888888888888,\"#fdca26\"],[1.0,\"#f0f921\"]],\"type\":\"contour\"}],\"contourcarpet\":[{\"colorbar\":{\"outlinewidth\":0,\"ticks\":\"\"},\"type\":\"contourcarpet\"}],\"heatmap\":[{\"colorbar\":{\"outlinewidth\":0,\"ticks\":\"\"},\"colorscale\":[[0.0,\"#0d0887\"],[0.1111111111111111,\"#46039f\"],[0.2222222222222222,\"#7201a8\"],[0.3333333333333333,\"#9c179e\"],[0.4444444444444444,\"#bd3786\"],[0.5555555555555556,\"#d8576b\"],[0.6666666666666666,\"#ed7953\"],[0.7777777777777778,\"#fb9f3a\"],[0.8888888888888888,\"#fdca26\"],[1.0,\"#f0f921\"]],\"type\":\"heatmap\"}],\"heatmapgl\":[{\"colorbar\":{\"outlinewidth\":0,\"ticks\":\"\"},\"colorscale\":[[0.0,\"#0d0887\"],[0.1111111111111111,\"#46039f\"],[0.2222222222222222,\"#7201a8\"],[0.3333333333333333,\"#9c179e\"],[0.4444444444444444,\"#bd3786\"],[0.5555555555555556,\"#d8576b\"],[0.6666666666666666,\"#ed7953\"],[0.7777777777777778,\"#fb9f3a\"],[0.8888888888888888,\"#fdca26\"],[1.0,\"#f0f921\"]],\"type\":\"heatmapgl\"}],\"histogram\":[{\"marker\":{\"pattern\":{\"fillmode\":\"overlay\",\"size\":10,\"solidity\":0.2}},\"type\":\"histogram\"}],\"histogram2d\":[{\"colorbar\":{\"outlinewidth\":0,\"ticks\":\"\"},\"colorscale\":[[0.0,\"#0d0887\"],[0.1111111111111111,\"#46039f\"],[0.2222222222222222,\"#7201a8\"],[0.3333333333333333,\"#9c179e\"],[0.4444444444444444,\"#bd3786\"],[0.5555555555555556,\"#d8576b\"],[0.6666666666666666,\"#ed7953\"],[0.7777777777777778,\"#fb9f3a\"],[0.8888888888888888,\"#fdca26\"],[1.0,\"#f0f921\"]],\"type\":\"histogram2d\"}],\"histogram2dcontour\":[{\"colorbar\":{\"outlinewidth\":0,\"ticks\":\"\"},\"colorscale\":[[0.0,\"#0d0887\"],[0.1111111111111111,\"#46039f\"],[0.2222222222222222,\"#7201a8\"],[0.3333333333333333,\"#9c179e\"],[0.4444444444444444,\"#bd3786\"],[0.5555555555555556,\"#d8576b\"],[0.6666666666666666,\"#ed7953\"],[0.7777777777777778,\"#fb9f3a\"],[0.8888888888888888,\"#fdca26\"],[1.0,\"#f0f921\"]],\"type\":\"histogram2dcontour\"}],\"mesh3d\":[{\"colorbar\":{\"outlinewidth\":0,\"ticks\":\"\"},\"type\":\"mesh3d\"}],\"parcoords\":[{\"line\":{\"colorbar\":{\"outlinewidth\":0,\"ticks\":\"\"}},\"type\":\"parcoords\"}],\"pie\":[{\"automargin\":true,\"type\":\"pie\"}],\"scatter\":[{\"marker\":{\"colorbar\":{\"outlinewidth\":0,\"ticks\":\"\"}},\"type\":\"scatter\"}],\"scatter3d\":[{\"line\":{\"colorbar\":{\"outlinewidth\":0,\"ticks\":\"\"}},\"marker\":{\"colorbar\":{\"outlinewidth\":0,\"ticks\":\"\"}},\"type\":\"scatter3d\"}],\"scattercarpet\":[{\"marker\":{\"colorbar\":{\"outlinewidth\":0,\"ticks\":\"\"}},\"type\":\"scattercarpet\"}],\"scattergeo\":[{\"marker\":{\"colorbar\":{\"outlinewidth\":0,\"ticks\":\"\"}},\"type\":\"scattergeo\"}],\"scattergl\":[{\"marker\":{\"colorbar\":{\"outlinewidth\":0,\"ticks\":\"\"}},\"type\":\"scattergl\"}],\"scattermapbox\":[{\"marker\":{\"colorbar\":{\"outlinewidth\":0,\"ticks\":\"\"}},\"type\":\"scattermapbox\"}],\"scatterpolar\":[{\"marker\":{\"colorbar\":{\"outlinewidth\":0,\"ticks\":\"\"}},\"type\":\"scatterpolar\"}],\"scatterpolargl\":[{\"marker\":{\"colorbar\":{\"outlinewidth\":0,\"ticks\":\"\"}},\"type\":\"scatterpolargl\"}],\"scatterternary\":[{\"marker\":{\"colorbar\":{\"outlinewidth\":0,\"ticks\":\"\"}},\"type\":\"scatterternary\"}],\"surface\":[{\"colorbar\":{\"outlinewidth\":0,\"ticks\":\"\"},\"colorscale\":[[0.0,\"#0d0887\"],[0.1111111111111111,\"#46039f\"],[0.2222222222222222,\"#7201a8\"],[0.3333333333333333,\"#9c179e\"],[0.4444444444444444,\"#bd3786\"],[0.5555555555555556,\"#d8576b\"],[0.6666666666666666,\"#ed7953\"],[0.7777777777777778,\"#fb9f3a\"],[0.8888888888888888,\"#fdca26\"],[1.0,\"#f0f921\"]],\"type\":\"surface\"}],\"table\":[{\"cells\":{\"fill\":{\"color\":\"#EBF0F8\"},\"line\":{\"color\":\"white\"}},\"header\":{\"fill\":{\"color\":\"#C8D4E3\"},\"line\":{\"color\":\"white\"}},\"type\":\"table\"}]},\"layout\":{\"annotationdefaults\":{\"arrowcolor\":\"#2a3f5f\",\"arrowhead\":0,\"arrowwidth\":1},\"autotypenumbers\":\"strict\",\"coloraxis\":{\"colorbar\":{\"outlinewidth\":0,\"ticks\":\"\"}},\"colorscale\":{\"diverging\":[[0,\"#8e0152\"],[0.1,\"#c51b7d\"],[0.2,\"#de77ae\"],[0.3,\"#f1b6da\"],[0.4,\"#fde0ef\"],[0.5,\"#f7f7f7\"],[0.6,\"#e6f5d0\"],[0.7,\"#b8e186\"],[0.8,\"#7fbc41\"],[0.9,\"#4d9221\"],[1,\"#276419\"]],\"sequential\":[[0.0,\"#0d0887\"],[0.1111111111111111,\"#46039f\"],[0.2222222222222222,\"#7201a8\"],[0.3333333333333333,\"#9c179e\"],[0.4444444444444444,\"#bd3786\"],[0.5555555555555556,\"#d8576b\"],[0.6666666666666666,\"#ed7953\"],[0.7777777777777778,\"#fb9f3a\"],[0.8888888888888888,\"#fdca26\"],[1.0,\"#f0f921\"]],\"sequentialminus\":[[0.0,\"#0d0887\"],[0.1111111111111111,\"#46039f\"],[0.2222222222222222,\"#7201a8\"],[0.3333333333333333,\"#9c179e\"],[0.4444444444444444,\"#bd3786\"],[0.5555555555555556,\"#d8576b\"],[0.6666666666666666,\"#ed7953\"],[0.7777777777777778,\"#fb9f3a\"],[0.8888888888888888,\"#fdca26\"],[1.0,\"#f0f921\"]]},\"colorway\":[\"#636efa\",\"#EF553B\",\"#00cc96\",\"#ab63fa\",\"#FFA15A\",\"#19d3f3\",\"#FF6692\",\"#B6E880\",\"#FF97FF\",\"#FECB52\"],\"font\":{\"color\":\"#2a3f5f\"},\"geo\":{\"bgcolor\":\"white\",\"lakecolor\":\"white\",\"landcolor\":\"#E5ECF6\",\"showlakes\":true,\"showland\":true,\"subunitcolor\":\"white\"},\"hoverlabel\":{\"align\":\"left\"},\"hovermode\":\"closest\",\"mapbox\":{\"style\":\"light\"},\"paper_bgcolor\":\"white\",\"plot_bgcolor\":\"#E5ECF6\",\"polar\":{\"angularaxis\":{\"gridcolor\":\"white\",\"linecolor\":\"white\",\"ticks\":\"\"},\"bgcolor\":\"#E5ECF6\",\"radialaxis\":{\"gridcolor\":\"white\",\"linecolor\":\"white\",\"ticks\":\"\"}},\"scene\":{\"xaxis\":{\"backgroundcolor\":\"#E5ECF6\",\"gridcolor\":\"white\",\"gridwidth\":2,\"linecolor\":\"white\",\"showbackground\":true,\"ticks\":\"\",\"zerolinecolor\":\"white\"},\"yaxis\":{\"backgroundcolor\":\"#E5ECF6\",\"gridcolor\":\"white\",\"gridwidth\":2,\"linecolor\":\"white\",\"showbackground\":true,\"ticks\":\"\",\"zerolinecolor\":\"white\"},\"zaxis\":{\"backgroundcolor\":\"#E5ECF6\",\"gridcolor\":\"white\",\"gridwidth\":2,\"linecolor\":\"white\",\"showbackground\":true,\"ticks\":\"\",\"zerolinecolor\":\"white\"}},\"shapedefaults\":{\"line\":{\"color\":\"#2a3f5f\"}},\"ternary\":{\"aaxis\":{\"gridcolor\":\"white\",\"linecolor\":\"white\",\"ticks\":\"\"},\"baxis\":{\"gridcolor\":\"white\",\"linecolor\":\"white\",\"ticks\":\"\"},\"bgcolor\":\"#E5ECF6\",\"caxis\":{\"gridcolor\":\"white\",\"linecolor\":\"white\",\"ticks\":\"\"}},\"title\":{\"x\":0.05},\"xaxis\":{\"automargin\":true,\"gridcolor\":\"white\",\"linecolor\":\"white\",\"ticks\":\"\",\"title\":{\"standoff\":15},\"zerolinecolor\":\"white\",\"zerolinewidth\":2},\"yaxis\":{\"automargin\":true,\"gridcolor\":\"white\",\"linecolor\":\"white\",\"ticks\":\"\",\"title\":{\"standoff\":15},\"zerolinecolor\":\"white\",\"zerolinewidth\":2}}},\"xaxis\":{\"anchor\":\"y\",\"domain\":[0.0,1.0],\"title\":{\"text\":\"PC1\"}},\"yaxis\":{\"anchor\":\"x\",\"domain\":[0.0,1.0],\"title\":{\"text\":\"PC2\"}}},                        {\"responsive\": true}                    ).then(function(){\n",
       "                            \n",
       "var gd = document.getElementById('ed6846dc-f9e2-4bfd-9fb4-983eaaf34180');\n",
       "var x = new MutationObserver(function (mutations, observer) {{\n",
       "        var display = window.getComputedStyle(gd).display;\n",
       "        if (!display || display === 'none') {{\n",
       "            console.log([gd, 'removed!']);\n",
       "            Plotly.purge(gd);\n",
       "            observer.disconnect();\n",
       "        }}\n",
       "}});\n",
       "\n",
       "// Listen for the removal of the full notebook cells\n",
       "var notebookContainer = gd.closest('#notebook-container');\n",
       "if (notebookContainer) {{\n",
       "    x.observe(notebookContainer, {childList: true});\n",
       "}}\n",
       "\n",
       "// Listen for the clearing of the current output cell\n",
       "var outputEl = gd.closest('.output');\n",
       "if (outputEl) {{\n",
       "    x.observe(outputEl, {childList: true});\n",
       "}}\n",
       "\n",
       "                        })                };                });            </script>        </div>"
      ]
     },
     "metadata": {},
     "output_type": "display_data"
    }
   ],
   "source": [
    "from sklearn.decomposition import PCA\n",
    "pca = PCA(n_components=2)\n",
    "\n",
    "df_pca = pd.DataFrame(pca.fit_transform(df_seg_scaled), columns = ['PC1', 'PC2'])\n",
    "df_pca['Cluster'] = df_seg_scaled['Cluster']\n",
    "\n",
    "fig = px.scatter(df_pca, x='PC1', y='PC2', color=df_pca['Cluster'].astype(str))\n",
    "fig.show()"
   ]
  },
  {
   "cell_type": "code",
   "execution_count": 222,
   "id": "d833371a-1f76-4329-81ff-c7df66b52d6f",
   "metadata": {},
   "outputs": [
    {
     "data": {
      "text/html": [
       "<div>\n",
       "<style scoped>\n",
       "    .dataframe tbody tr th:only-of-type {\n",
       "        vertical-align: middle;\n",
       "    }\n",
       "\n",
       "    .dataframe tbody tr th {\n",
       "        vertical-align: top;\n",
       "    }\n",
       "\n",
       "    .dataframe thead th {\n",
       "        text-align: right;\n",
       "    }\n",
       "</style>\n",
       "<table border=\"1\" class=\"dataframe\">\n",
       "  <thead>\n",
       "    <tr style=\"text-align: right;\">\n",
       "      <th></th>\n",
       "      <th>PC1</th>\n",
       "      <th>PC2</th>\n",
       "      <th>Cluster</th>\n",
       "    </tr>\n",
       "  </thead>\n",
       "  <tbody>\n",
       "    <tr>\n",
       "      <th>0</th>\n",
       "      <td>1.812920</td>\n",
       "      <td>-0.186981</td>\n",
       "      <td>3</td>\n",
       "    </tr>\n",
       "    <tr>\n",
       "      <th>1</th>\n",
       "      <td>1.814864</td>\n",
       "      <td>-0.209108</td>\n",
       "      <td>3</td>\n",
       "    </tr>\n",
       "    <tr>\n",
       "      <th>2</th>\n",
       "      <td>-1.480583</td>\n",
       "      <td>0.134477</td>\n",
       "      <td>0</td>\n",
       "    </tr>\n",
       "    <tr>\n",
       "      <th>3</th>\n",
       "      <td>-1.471252</td>\n",
       "      <td>0.116941</td>\n",
       "      <td>0</td>\n",
       "    </tr>\n",
       "    <tr>\n",
       "      <th>4</th>\n",
       "      <td>-1.489942</td>\n",
       "      <td>0.214882</td>\n",
       "      <td>0</td>\n",
       "    </tr>\n",
       "    <tr>\n",
       "      <th>...</th>\n",
       "      <td>...</td>\n",
       "      <td>...</td>\n",
       "      <td>...</td>\n",
       "    </tr>\n",
       "    <tr>\n",
       "      <th>742</th>\n",
       "      <td>-1.514378</td>\n",
       "      <td>0.317640</td>\n",
       "      <td>0</td>\n",
       "    </tr>\n",
       "    <tr>\n",
       "      <th>743</th>\n",
       "      <td>1.819121</td>\n",
       "      <td>-0.220104</td>\n",
       "      <td>3</td>\n",
       "    </tr>\n",
       "    <tr>\n",
       "      <th>744</th>\n",
       "      <td>1.821359</td>\n",
       "      <td>-0.190268</td>\n",
       "      <td>3</td>\n",
       "    </tr>\n",
       "    <tr>\n",
       "      <th>745</th>\n",
       "      <td>-0.373421</td>\n",
       "      <td>-0.664356</td>\n",
       "      <td>1</td>\n",
       "    </tr>\n",
       "    <tr>\n",
       "      <th>746</th>\n",
       "      <td>-1.495602</td>\n",
       "      <td>0.219250</td>\n",
       "      <td>0</td>\n",
       "    </tr>\n",
       "  </tbody>\n",
       "</table>\n",
       "<p>747 rows × 3 columns</p>\n",
       "</div>"
      ],
      "text/plain": [
       "          PC1       PC2  Cluster\n",
       "0    1.812920 -0.186981        3\n",
       "1    1.814864 -0.209108        3\n",
       "2   -1.480583  0.134477        0\n",
       "3   -1.471252  0.116941        0\n",
       "4   -1.489942  0.214882        0\n",
       "..        ...       ...      ...\n",
       "742 -1.514378  0.317640        0\n",
       "743  1.819121 -0.220104        3\n",
       "744  1.821359 -0.190268        3\n",
       "745 -0.373421 -0.664356        1\n",
       "746 -1.495602  0.219250        0\n",
       "\n",
       "[747 rows x 3 columns]"
      ]
     },
     "execution_count": 222,
     "metadata": {},
     "output_type": "execute_result"
    }
   ],
   "source": [
    "df_pca"
   ]
  }
 ],
 "metadata": {
  "kernelspec": {
   "display_name": "Python 3 (ipykernel)",
   "language": "python",
   "name": "python3"
  },
  "language_info": {
   "codemirror_mode": {
    "name": "ipython",
    "version": 3
   },
   "file_extension": ".py",
   "mimetype": "text/x-python",
   "name": "python",
   "nbconvert_exporter": "python",
   "pygments_lexer": "ipython3",
   "version": "3.7.9"
  }
 },
 "nbformat": 4,
 "nbformat_minor": 5
}
