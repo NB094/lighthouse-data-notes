{
 "cells": [
  {
   "cell_type": "code",
   "execution_count": 1,
   "id": "8a8ba729-c96c-46d2-b5a6-865b0fda2dae",
   "metadata": {},
   "outputs": [],
   "source": [
    "import pandas as pd\n",
    "import matplotlib.pyplot as plt\n",
    "import numpy as np\n",
    "import plotly.express as px\n",
    "import plotly.graph_objects as go\n",
    "\n",
    "from sklearn.cluster import KMeans\n",
    "from sklearn.cluster import AgglomerativeClustering\n",
    "from sklearn.cluster import DBSCAN\n",
    "from sklearn.preprocessing import MinMaxScaler\n",
    "from sklearn.preprocessing import StandardScaler\n",
    "from sklearn.preprocessing import RobustScaler\n",
    "from sklearn.preprocessing import MaxAbsScaler\n",
    "from sklearn.decomposition import PCA"
   ]
  },
  {
   "cell_type": "markdown",
   "id": "df06f158-3a21-4482-81bd-ccbc29de2146",
   "metadata": {
    "tags": []
   },
   "source": [
    "# Data"
   ]
  },
  {
   "cell_type": "code",
   "execution_count": 2,
   "id": "1cfae0a7-babb-4a82-9ecb-7ba941e1f754",
   "metadata": {},
   "outputs": [
    {
     "data": {
      "text/html": [
       "<div>\n",
       "<style scoped>\n",
       "    .dataframe tbody tr th:only-of-type {\n",
       "        vertical-align: middle;\n",
       "    }\n",
       "\n",
       "    .dataframe tbody tr th {\n",
       "        vertical-align: top;\n",
       "    }\n",
       "\n",
       "    .dataframe thead th {\n",
       "        text-align: right;\n",
       "    }\n",
       "</style>\n",
       "<table border=\"1\" class=\"dataframe\">\n",
       "  <thead>\n",
       "    <tr style=\"text-align: right;\">\n",
       "      <th></th>\n",
       "      <th>cust_id</th>\n",
       "      <th>income</th>\n",
       "      <th>age</th>\n",
       "      <th>years_with_bank</th>\n",
       "      <th>nbr_children</th>\n",
       "      <th>gender</th>\n",
       "      <th>marital_status</th>\n",
       "      <th>name_prefix</th>\n",
       "      <th>first_name</th>\n",
       "      <th>last_name</th>\n",
       "      <th>street_nbr</th>\n",
       "      <th>street_name</th>\n",
       "      <th>postal_code</th>\n",
       "      <th>city_name</th>\n",
       "      <th>state_code</th>\n",
       "    </tr>\n",
       "  </thead>\n",
       "  <tbody>\n",
       "    <tr>\n",
       "      <th>0</th>\n",
       "      <td>1362691</td>\n",
       "      <td>26150</td>\n",
       "      <td>46</td>\n",
       "      <td>5</td>\n",
       "      <td>1</td>\n",
       "      <td>M</td>\n",
       "      <td>2</td>\n",
       "      <td></td>\n",
       "      <td>Donald                                        ...</td>\n",
       "      <td>Marek                                         ...</td>\n",
       "      <td>8298</td>\n",
       "      <td>Second                                        ...</td>\n",
       "      <td>89194</td>\n",
       "      <td>Las Vegas</td>\n",
       "      <td>NV</td>\n",
       "    </tr>\n",
       "    <tr>\n",
       "      <th>1</th>\n",
       "      <td>1362487</td>\n",
       "      <td>6605</td>\n",
       "      <td>71</td>\n",
       "      <td>1</td>\n",
       "      <td>0</td>\n",
       "      <td>M</td>\n",
       "      <td>2</td>\n",
       "      <td></td>\n",
       "      <td>ChingDyi                                      ...</td>\n",
       "      <td>Moussavi                                      ...</td>\n",
       "      <td>10603</td>\n",
       "      <td>Daffodil                                      ...</td>\n",
       "      <td>90159</td>\n",
       "      <td>Los Angeles</td>\n",
       "      <td>CA</td>\n",
       "    </tr>\n",
       "    <tr>\n",
       "      <th>2</th>\n",
       "      <td>1363160</td>\n",
       "      <td>18548</td>\n",
       "      <td>38</td>\n",
       "      <td>8</td>\n",
       "      <td>0</td>\n",
       "      <td>F</td>\n",
       "      <td>1</td>\n",
       "      <td></td>\n",
       "      <td>Rosa                                          ...</td>\n",
       "      <td>Johnston                                      ...</td>\n",
       "      <td>8817</td>\n",
       "      <td>Figueroa                                      ...</td>\n",
       "      <td>90024</td>\n",
       "      <td>Los Angeles</td>\n",
       "      <td>CA</td>\n",
       "    </tr>\n",
       "    <tr>\n",
       "      <th>3</th>\n",
       "      <td>1362752</td>\n",
       "      <td>47668</td>\n",
       "      <td>54</td>\n",
       "      <td>3</td>\n",
       "      <td>0</td>\n",
       "      <td>F</td>\n",
       "      <td>1</td>\n",
       "      <td></td>\n",
       "      <td>Lisa                                          ...</td>\n",
       "      <td>Martin                                        ...</td>\n",
       "      <td>676</td>\n",
       "      <td>Humble                                        ...</td>\n",
       "      <td>90172</td>\n",
       "      <td>Los Angeles</td>\n",
       "      <td>CA</td>\n",
       "    </tr>\n",
       "    <tr>\n",
       "      <th>4</th>\n",
       "      <td>1362548</td>\n",
       "      <td>44554</td>\n",
       "      <td>59</td>\n",
       "      <td>9</td>\n",
       "      <td>2</td>\n",
       "      <td>F</td>\n",
       "      <td>4</td>\n",
       "      <td></td>\n",
       "      <td>Barbara                                       ...</td>\n",
       "      <td>O'Malley                                      ...</td>\n",
       "      <td>6578</td>\n",
       "      <td>C                                             ...</td>\n",
       "      <td>10138</td>\n",
       "      <td>New York City</td>\n",
       "      <td>NY</td>\n",
       "    </tr>\n",
       "  </tbody>\n",
       "</table>\n",
       "</div>"
      ],
      "text/plain": [
       "   cust_id  income  age  years_with_bank  nbr_children gender  marital_status  \\\n",
       "0  1362691   26150   46                5             1     M                2   \n",
       "1  1362487    6605   71                1             0     M                2   \n",
       "2  1363160   18548   38                8             0     F                1   \n",
       "3  1362752   47668   54                3             0     F                1   \n",
       "4  1362548   44554   59                9             2     F                4   \n",
       "\n",
       "  name_prefix                                         first_name  \\\n",
       "0              Donald                                        ...   \n",
       "1              ChingDyi                                      ...   \n",
       "2              Rosa                                          ...   \n",
       "3              Lisa                                          ...   \n",
       "4              Barbara                                       ...   \n",
       "\n",
       "                                           last_name  street_nbr  \\\n",
       "0  Marek                                         ...        8298   \n",
       "1  Moussavi                                      ...       10603   \n",
       "2  Johnston                                      ...        8817   \n",
       "3  Martin                                        ...         676   \n",
       "4  O'Malley                                      ...        6578   \n",
       "\n",
       "                                         street_name  postal_code  \\\n",
       "0  Second                                        ...        89194   \n",
       "1  Daffodil                                      ...        90159   \n",
       "2  Figueroa                                      ...        90024   \n",
       "3  Humble                                        ...        90172   \n",
       "4  C                                             ...        10138   \n",
       "\n",
       "                                  city_name state_code  \n",
       "0  Las Vegas                                      NV    \n",
       "1  Los Angeles                                    CA    \n",
       "2  Los Angeles                                    CA    \n",
       "3  Los Angeles                                    CA    \n",
       "4  New York City                                  NY    "
      ]
     },
     "execution_count": 2,
     "metadata": {},
     "output_type": "execute_result"
    }
   ],
   "source": [
    "df_customer = pd.read_csv('twm_customer.csv', sep=';')\n",
    "df_customer.head(5)"
   ]
  },
  {
   "cell_type": "code",
   "execution_count": 3,
   "id": "046d7b1e-bf0f-4587-9fa3-869c5a80483a",
   "metadata": {},
   "outputs": [
    {
     "data": {
      "text/plain": [
       "gender\n",
       "F     19833.858852\n",
       "M     26405.693009\n",
       "Name: income, dtype: float64"
      ]
     },
     "execution_count": 3,
     "metadata": {},
     "output_type": "execute_result"
    }
   ],
   "source": [
    "df_customer.groupby('gender').mean()['income']"
   ]
  },
  {
   "cell_type": "code",
   "execution_count": 3,
   "id": "c9a33ce1-82b3-422d-81ff-4999278354a7",
   "metadata": {},
   "outputs": [
    {
     "name": "stdout",
     "output_type": "stream",
     "text": [
      "(747, 15)\n",
      "cust_id            0\n",
      "income             0\n",
      "age                0\n",
      "years_with_bank    0\n",
      "nbr_children       0\n",
      "gender             0\n",
      "marital_status     0\n",
      "name_prefix        0\n",
      "first_name         0\n",
      "last_name          0\n",
      "street_nbr         0\n",
      "street_name        0\n",
      "postal_code        0\n",
      "city_name          0\n",
      "state_code         0\n",
      "dtype: int64\n",
      "# of unique customer IDs:  747\n"
     ]
    }
   ],
   "source": [
    "print(df_customer.shape)\n",
    "print(df_customer.isnull().sum())\n",
    "print('# of unique customer IDs: ', df_customer['cust_id'].nunique())"
   ]
  },
  {
   "cell_type": "code",
   "execution_count": null,
   "id": "85ab0a04-f4fb-4646-a2bf-1a8521ddada0",
   "metadata": {},
   "outputs": [],
   "source": []
  },
  {
   "cell_type": "code",
   "execution_count": null,
   "id": "43eed921-5329-4f95-9e38-35b6b6365624",
   "metadata": {},
   "outputs": [],
   "source": []
  },
  {
   "cell_type": "code",
   "execution_count": 4,
   "id": "3438bd00-14d4-4f6d-8538-882c833540ae",
   "metadata": {},
   "outputs": [
    {
     "data": {
      "text/html": [
       "<div>\n",
       "<style scoped>\n",
       "    .dataframe tbody tr th:only-of-type {\n",
       "        vertical-align: middle;\n",
       "    }\n",
       "\n",
       "    .dataframe tbody tr th {\n",
       "        vertical-align: top;\n",
       "    }\n",
       "\n",
       "    .dataframe thead th {\n",
       "        text-align: right;\n",
       "    }\n",
       "</style>\n",
       "<table border=\"1\" class=\"dataframe\">\n",
       "  <thead>\n",
       "    <tr style=\"text-align: right;\">\n",
       "      <th></th>\n",
       "      <th>acct_nbr</th>\n",
       "      <th>cust_id</th>\n",
       "      <th>acct_type</th>\n",
       "      <th>account_active</th>\n",
       "      <th>acct_start_date</th>\n",
       "      <th>acct_end_date</th>\n",
       "      <th>starting_balance</th>\n",
       "      <th>ending_balance</th>\n",
       "    </tr>\n",
       "  </thead>\n",
       "  <tbody>\n",
       "    <tr>\n",
       "      <th>0</th>\n",
       "      <td>13628063</td>\n",
       "      <td>1362806</td>\n",
       "      <td>SV</td>\n",
       "      <td>Y</td>\n",
       "      <td>10.12.1995</td>\n",
       "      <td>NaN</td>\n",
       "      <td>1430.22</td>\n",
       "      <td>284.58</td>\n",
       "    </tr>\n",
       "    <tr>\n",
       "      <th>1</th>\n",
       "      <td>4561143213627090</td>\n",
       "      <td>1362709</td>\n",
       "      <td>CC</td>\n",
       "      <td>Y</td>\n",
       "      <td>15.3.1993</td>\n",
       "      <td>NaN</td>\n",
       "      <td>266.34</td>\n",
       "      <td>496.15</td>\n",
       "    </tr>\n",
       "    <tr>\n",
       "      <th>2</th>\n",
       "      <td>4561143213628360</td>\n",
       "      <td>1362836</td>\n",
       "      <td>CC</td>\n",
       "      <td>Y</td>\n",
       "      <td>18.3.1992</td>\n",
       "      <td>NaN</td>\n",
       "      <td>55.90</td>\n",
       "      <td>1000.00</td>\n",
       "    </tr>\n",
       "    <tr>\n",
       "      <th>3</th>\n",
       "      <td>13633112</td>\n",
       "      <td>1363311</td>\n",
       "      <td>CK</td>\n",
       "      <td>Y</td>\n",
       "      <td>6.7.1995</td>\n",
       "      <td>NaN</td>\n",
       "      <td>11017.13</td>\n",
       "      <td>968.46</td>\n",
       "    </tr>\n",
       "    <tr>\n",
       "      <th>4</th>\n",
       "      <td>4561143213633610</td>\n",
       "      <td>1363361</td>\n",
       "      <td>CC</td>\n",
       "      <td>Y</td>\n",
       "      <td>17.6.1994</td>\n",
       "      <td>NaN</td>\n",
       "      <td>849.37</td>\n",
       "      <td>462.28</td>\n",
       "    </tr>\n",
       "  </tbody>\n",
       "</table>\n",
       "</div>"
      ],
      "text/plain": [
       "           acct_nbr  cust_id acct_type account_active acct_start_date  \\\n",
       "0          13628063  1362806      SV               Y       10.12.1995   \n",
       "1  4561143213627090  1362709      CC               Y        15.3.1993   \n",
       "2  4561143213628360  1362836      CC               Y        18.3.1992   \n",
       "3          13633112  1363311      CK               Y         6.7.1995   \n",
       "4  4561143213633610  1363361      CC               Y        17.6.1994   \n",
       "\n",
       "  acct_end_date  starting_balance  ending_balance  \n",
       "0           NaN           1430.22          284.58  \n",
       "1           NaN            266.34          496.15  \n",
       "2           NaN             55.90         1000.00  \n",
       "3           NaN          11017.13          968.46  \n",
       "4           NaN            849.37          462.28  "
      ]
     },
     "execution_count": 4,
     "metadata": {},
     "output_type": "execute_result"
    }
   ],
   "source": [
    "df_accounts = pd.read_csv('twm_accounts.csv', sep=';')\n",
    "df_accounts.head(5)"
   ]
  },
  {
   "cell_type": "code",
   "execution_count": 5,
   "id": "aa1863bd-79d6-4a4c-b09b-c37406da89f7",
   "metadata": {},
   "outputs": [
    {
     "name": "stdout",
     "output_type": "stream",
     "text": [
      "(1409, 8)\n",
      "acct_nbr               0\n",
      "cust_id                0\n",
      "acct_type              0\n",
      "account_active         0\n",
      "acct_start_date        0\n",
      "acct_end_date       1266\n",
      "starting_balance       0\n",
      "ending_balance         0\n",
      "dtype: int64\n",
      "# of unique customer IDs:  665\n",
      "# of unique ACCOUNT numbers:  1409\n"
     ]
    }
   ],
   "source": [
    "print(df_accounts.shape)\n",
    "print(df_accounts.isnull().sum())\n",
    "print('# of unique customer IDs: ', df_accounts['cust_id'].nunique())\n",
    "print('# of unique ACCOUNT numbers: ', df_accounts['acct_nbr'].nunique())\n",
    "# Customers can have multiple accounts."
   ]
  },
  {
   "cell_type": "code",
   "execution_count": null,
   "id": "3dc242ba-4151-45a3-bd6a-2b247b5fc100",
   "metadata": {},
   "outputs": [],
   "source": []
  },
  {
   "cell_type": "code",
   "execution_count": null,
   "id": "045f6789-50b2-4eb0-9371-e6ecae64759c",
   "metadata": {},
   "outputs": [],
   "source": []
  },
  {
   "cell_type": "code",
   "execution_count": 6,
   "id": "b0a4145f-005b-4aa5-bfaf-0b753a3017d1",
   "metadata": {},
   "outputs": [
    {
     "data": {
      "text/html": [
       "<div>\n",
       "<style scoped>\n",
       "    .dataframe tbody tr th:only-of-type {\n",
       "        vertical-align: middle;\n",
       "    }\n",
       "\n",
       "    .dataframe tbody tr th {\n",
       "        vertical-align: top;\n",
       "    }\n",
       "\n",
       "    .dataframe thead th {\n",
       "        text-align: right;\n",
       "    }\n",
       "</style>\n",
       "<table border=\"1\" class=\"dataframe\">\n",
       "  <thead>\n",
       "    <tr style=\"text-align: right;\">\n",
       "      <th></th>\n",
       "      <th>cust_id</th>\n",
       "      <th>acct_nbr</th>\n",
       "      <th>minimum_balance</th>\n",
       "      <th>per_check_fee</th>\n",
       "      <th>account_active</th>\n",
       "      <th>acct_start_date</th>\n",
       "      <th>acct_end_date</th>\n",
       "      <th>starting_balance</th>\n",
       "      <th>ending_balance</th>\n",
       "    </tr>\n",
       "  </thead>\n",
       "  <tbody>\n",
       "    <tr>\n",
       "      <th>0</th>\n",
       "      <td>1362548</td>\n",
       "      <td>13625482</td>\n",
       "      <td>3000</td>\n",
       "      <td>0.00</td>\n",
       "      <td>Y</td>\n",
       "      <td>11.11.1986</td>\n",
       "      <td>NaN</td>\n",
       "      <td>6004.34</td>\n",
       "      <td>569.65</td>\n",
       "    </tr>\n",
       "    <tr>\n",
       "      <th>1</th>\n",
       "      <td>1362487</td>\n",
       "      <td>13624872</td>\n",
       "      <td>3000</td>\n",
       "      <td>0.00</td>\n",
       "      <td>Y</td>\n",
       "      <td>12.1.1995</td>\n",
       "      <td>NaN</td>\n",
       "      <td>2781.07</td>\n",
       "      <td>1401.21</td>\n",
       "    </tr>\n",
       "    <tr>\n",
       "      <th>2</th>\n",
       "      <td>1363017</td>\n",
       "      <td>13630172</td>\n",
       "      <td>3000</td>\n",
       "      <td>0.00</td>\n",
       "      <td>Y</td>\n",
       "      <td>19.3.1994</td>\n",
       "      <td>NaN</td>\n",
       "      <td>2694.91</td>\n",
       "      <td>147.15</td>\n",
       "    </tr>\n",
       "    <tr>\n",
       "      <th>3</th>\n",
       "      <td>1362752</td>\n",
       "      <td>13627522</td>\n",
       "      <td>100</td>\n",
       "      <td>0.15</td>\n",
       "      <td>Y</td>\n",
       "      <td>8.1.1994</td>\n",
       "      <td>NaN</td>\n",
       "      <td>487.69</td>\n",
       "      <td>3.76</td>\n",
       "    </tr>\n",
       "    <tr>\n",
       "      <th>4</th>\n",
       "      <td>1363282</td>\n",
       "      <td>13632822</td>\n",
       "      <td>100</td>\n",
       "      <td>0.15</td>\n",
       "      <td>Y</td>\n",
       "      <td>5.3.1988</td>\n",
       "      <td>NaN</td>\n",
       "      <td>133.90</td>\n",
       "      <td>84.18</td>\n",
       "    </tr>\n",
       "  </tbody>\n",
       "</table>\n",
       "</div>"
      ],
      "text/plain": [
       "   cust_id  acct_nbr  minimum_balance  per_check_fee account_active  \\\n",
       "0  1362548  13625482             3000           0.00             Y    \n",
       "1  1362487  13624872             3000           0.00             Y    \n",
       "2  1363017  13630172             3000           0.00             Y    \n",
       "3  1362752  13627522              100           0.15             Y    \n",
       "4  1363282  13632822              100           0.15             Y    \n",
       "\n",
       "  acct_start_date acct_end_date  starting_balance  ending_balance  \n",
       "0      11.11.1986           NaN           6004.34          569.65  \n",
       "1       12.1.1995           NaN           2781.07         1401.21  \n",
       "2       19.3.1994           NaN           2694.91          147.15  \n",
       "3        8.1.1994           NaN            487.69            3.76  \n",
       "4        5.3.1988           NaN            133.90           84.18  "
      ]
     },
     "execution_count": 6,
     "metadata": {},
     "output_type": "execute_result"
    }
   ],
   "source": [
    "df_checking_acct = pd.read_csv('twm_checking_acct.csv', sep=';')\n",
    "df_checking_acct.head(5)"
   ]
  },
  {
   "cell_type": "code",
   "execution_count": 7,
   "id": "9bb1de4c-1f80-4666-bb83-9ffc045f7ab1",
   "metadata": {},
   "outputs": [
    {
     "name": "stdout",
     "output_type": "stream",
     "text": [
      "(520, 9)\n",
      "cust_id               0\n",
      "acct_nbr              0\n",
      "minimum_balance       0\n",
      "per_check_fee         0\n",
      "account_active        0\n",
      "acct_start_date       0\n",
      "acct_end_date       468\n",
      "starting_balance      0\n",
      "ending_balance        0\n",
      "dtype: int64\n",
      "# of unique customer IDs:  520\n"
     ]
    }
   ],
   "source": [
    "print(df_checking_acct.shape)\n",
    "print(df_checking_acct.isnull().sum())\n",
    "print('# of unique customer IDs: ', df_checking_acct['cust_id'].nunique())"
   ]
  },
  {
   "cell_type": "code",
   "execution_count": null,
   "id": "7bf9a077-5811-4704-bfcd-d4a6b8766f48",
   "metadata": {},
   "outputs": [],
   "source": []
  },
  {
   "cell_type": "code",
   "execution_count": null,
   "id": "4564eb6f-eb84-43cf-9040-a0b696b58ecf",
   "metadata": {},
   "outputs": [],
   "source": []
  },
  {
   "cell_type": "code",
   "execution_count": 8,
   "id": "40e9bd20-96c2-4744-9077-51fe1fa17c57",
   "metadata": {},
   "outputs": [
    {
     "data": {
      "text/html": [
       "<div>\n",
       "<style scoped>\n",
       "    .dataframe tbody tr th:only-of-type {\n",
       "        vertical-align: middle;\n",
       "    }\n",
       "\n",
       "    .dataframe tbody tr th {\n",
       "        vertical-align: top;\n",
       "    }\n",
       "\n",
       "    .dataframe thead th {\n",
       "        text-align: right;\n",
       "    }\n",
       "</style>\n",
       "<table border=\"1\" class=\"dataframe\">\n",
       "  <thead>\n",
       "    <tr style=\"text-align: right;\">\n",
       "      <th></th>\n",
       "      <th>cust_id</th>\n",
       "      <th>acct_nbr</th>\n",
       "      <th>credit_limit</th>\n",
       "      <th>credit_rating</th>\n",
       "      <th>account_active</th>\n",
       "      <th>acct_start_date</th>\n",
       "      <th>acct_end_date</th>\n",
       "      <th>starting_balance</th>\n",
       "      <th>ending_balance</th>\n",
       "    </tr>\n",
       "  </thead>\n",
       "  <tbody>\n",
       "    <tr>\n",
       "      <th>0</th>\n",
       "      <td>1363160</td>\n",
       "      <td>4561143213631600</td>\n",
       "      <td>1000</td>\n",
       "      <td>0</td>\n",
       "      <td>Y</td>\n",
       "      <td>12.10.1988</td>\n",
       "      <td>NaN</td>\n",
       "      <td>657.46</td>\n",
       "      <td>286.69</td>\n",
       "    </tr>\n",
       "    <tr>\n",
       "      <th>1</th>\n",
       "      <td>1362487</td>\n",
       "      <td>4561143213624870</td>\n",
       "      <td>3000</td>\n",
       "      <td>0</td>\n",
       "      <td>Y</td>\n",
       "      <td>8.8.1995</td>\n",
       "      <td>NaN</td>\n",
       "      <td>0.00</td>\n",
       "      <td>1548.23</td>\n",
       "    </tr>\n",
       "    <tr>\n",
       "      <th>2</th>\n",
       "      <td>1362548</td>\n",
       "      <td>4561143213625480</td>\n",
       "      <td>6700</td>\n",
       "      <td>0</td>\n",
       "      <td>Y</td>\n",
       "      <td>11.11.1986</td>\n",
       "      <td>NaN</td>\n",
       "      <td>6965.25</td>\n",
       "      <td>68.68</td>\n",
       "    </tr>\n",
       "    <tr>\n",
       "      <th>3</th>\n",
       "      <td>1362752</td>\n",
       "      <td>4561143213627520</td>\n",
       "      <td>2400</td>\n",
       "      <td>0</td>\n",
       "      <td>N</td>\n",
       "      <td>9.10.1994</td>\n",
       "      <td>2.4.1995</td>\n",
       "      <td>2302.14</td>\n",
       "      <td>0.00</td>\n",
       "    </tr>\n",
       "    <tr>\n",
       "      <th>4</th>\n",
       "      <td>1363017</td>\n",
       "      <td>4561143213630170</td>\n",
       "      <td>1000</td>\n",
       "      <td>0</td>\n",
       "      <td>Y</td>\n",
       "      <td>8.2.1995</td>\n",
       "      <td>NaN</td>\n",
       "      <td>0.00</td>\n",
       "      <td>1000.00</td>\n",
       "    </tr>\n",
       "  </tbody>\n",
       "</table>\n",
       "</div>"
      ],
      "text/plain": [
       "   cust_id          acct_nbr  credit_limit  credit_rating account_active  \\\n",
       "0  1363160  4561143213631600          1000              0             Y    \n",
       "1  1362487  4561143213624870          3000              0             Y    \n",
       "2  1362548  4561143213625480          6700              0             Y    \n",
       "3  1362752  4561143213627520          2400              0             N    \n",
       "4  1363017  4561143213630170          1000              0             Y    \n",
       "\n",
       "  acct_start_date acct_end_date  starting_balance  ending_balance  \n",
       "0      12.10.1988           NaN            657.46          286.69  \n",
       "1        8.8.1995           NaN              0.00         1548.23  \n",
       "2      11.11.1986           NaN           6965.25           68.68  \n",
       "3       9.10.1994      2.4.1995           2302.14            0.00  \n",
       "4        8.2.1995           NaN              0.00         1000.00  "
      ]
     },
     "execution_count": 8,
     "metadata": {},
     "output_type": "execute_result"
    }
   ],
   "source": [
    "df_credit_acct = pd.read_csv('twm_credit_acct.csv', sep=';')\n",
    "df_credit_acct.head(5)"
   ]
  },
  {
   "cell_type": "code",
   "execution_count": 9,
   "id": "4d792656-78c5-4f39-b5dc-cc207e3ecfde",
   "metadata": {},
   "outputs": [
    {
     "name": "stdout",
     "output_type": "stream",
     "text": [
      "(468, 9)\n",
      "cust_id               0\n",
      "acct_nbr              0\n",
      "credit_limit          0\n",
      "credit_rating         0\n",
      "account_active        0\n",
      "acct_start_date       0\n",
      "acct_end_date       423\n",
      "starting_balance      0\n",
      "ending_balance        0\n",
      "dtype: int64\n",
      "# of unique customer IDs:  468\n"
     ]
    }
   ],
   "source": [
    "print(df_credit_acct.shape)\n",
    "print(df_credit_acct.isnull().sum())\n",
    "print('# of unique customer IDs: ', df_credit_acct['cust_id'].nunique())"
   ]
  },
  {
   "cell_type": "code",
   "execution_count": null,
   "id": "12d18294-32eb-497c-ae42-4a4165770e43",
   "metadata": {},
   "outputs": [],
   "source": []
  },
  {
   "cell_type": "code",
   "execution_count": null,
   "id": "7efc830a-4600-40ca-956e-b9554313f4b6",
   "metadata": {},
   "outputs": [],
   "source": []
  },
  {
   "cell_type": "code",
   "execution_count": 10,
   "id": "e8cdfb06-2595-45b0-b1a4-f8eec05389d4",
   "metadata": {},
   "outputs": [
    {
     "data": {
      "text/html": [
       "<div>\n",
       "<style scoped>\n",
       "    .dataframe tbody tr th:only-of-type {\n",
       "        vertical-align: middle;\n",
       "    }\n",
       "\n",
       "    .dataframe tbody tr th {\n",
       "        vertical-align: top;\n",
       "    }\n",
       "\n",
       "    .dataframe thead th {\n",
       "        text-align: right;\n",
       "    }\n",
       "</style>\n",
       "<table border=\"1\" class=\"dataframe\">\n",
       "  <thead>\n",
       "    <tr style=\"text-align: right;\">\n",
       "      <th></th>\n",
       "      <th>cust_id</th>\n",
       "      <th>acct_nbr</th>\n",
       "      <th>minimum_balance</th>\n",
       "      <th>acct_type</th>\n",
       "      <th>account_active</th>\n",
       "      <th>acct_start_date</th>\n",
       "      <th>acct_end_date</th>\n",
       "      <th>starting_balance</th>\n",
       "      <th>ending_balance</th>\n",
       "    </tr>\n",
       "  </thead>\n",
       "  <tbody>\n",
       "    <tr>\n",
       "      <th>0</th>\n",
       "      <td>1363160</td>\n",
       "      <td>13631603</td>\n",
       "      <td>100</td>\n",
       "      <td>BS</td>\n",
       "      <td>Y</td>\n",
       "      <td>9.5.1988</td>\n",
       "      <td>NaN</td>\n",
       "      <td>113.04</td>\n",
       "      <td>122.54</td>\n",
       "    </tr>\n",
       "    <tr>\n",
       "      <th>1</th>\n",
       "      <td>1362487</td>\n",
       "      <td>13624873</td>\n",
       "      <td>500</td>\n",
       "      <td>MM</td>\n",
       "      <td>N</td>\n",
       "      <td>27.6.1994</td>\n",
       "      <td>25.8.1995</td>\n",
       "      <td>651.73</td>\n",
       "      <td>12.89</td>\n",
       "    </tr>\n",
       "    <tr>\n",
       "      <th>2</th>\n",
       "      <td>1362548</td>\n",
       "      <td>13625483</td>\n",
       "      <td>100</td>\n",
       "      <td>BS</td>\n",
       "      <td>Y</td>\n",
       "      <td>11.11.1986</td>\n",
       "      <td>NaN</td>\n",
       "      <td>250.24</td>\n",
       "      <td>254.02</td>\n",
       "    </tr>\n",
       "    <tr>\n",
       "      <th>3</th>\n",
       "      <td>1362752</td>\n",
       "      <td>13627523</td>\n",
       "      <td>100</td>\n",
       "      <td>BS</td>\n",
       "      <td>Y</td>\n",
       "      <td>20.2.1995</td>\n",
       "      <td>NaN</td>\n",
       "      <td>600.26</td>\n",
       "      <td>609.33</td>\n",
       "    </tr>\n",
       "    <tr>\n",
       "      <th>4</th>\n",
       "      <td>1363017</td>\n",
       "      <td>13630173</td>\n",
       "      <td>100</td>\n",
       "      <td>BS</td>\n",
       "      <td>N</td>\n",
       "      <td>27.4.1994</td>\n",
       "      <td>31.10.1995</td>\n",
       "      <td>2011.02</td>\n",
       "      <td>2901.35</td>\n",
       "    </tr>\n",
       "  </tbody>\n",
       "</table>\n",
       "</div>"
      ],
      "text/plain": [
       "   cust_id  acct_nbr  minimum_balance acct_type account_active  \\\n",
       "0  1363160  13631603              100      BS               Y    \n",
       "1  1362487  13624873              500      MM               N    \n",
       "2  1362548  13625483              100      BS               Y    \n",
       "3  1362752  13627523              100      BS               Y    \n",
       "4  1363017  13630173              100      BS               N    \n",
       "\n",
       "  acct_start_date acct_end_date  starting_balance  ending_balance  \n",
       "0        9.5.1988           NaN            113.04          122.54  \n",
       "1       27.6.1994     25.8.1995            651.73           12.89  \n",
       "2      11.11.1986           NaN            250.24          254.02  \n",
       "3       20.2.1995           NaN            600.26          609.33  \n",
       "4       27.4.1994    31.10.1995           2011.02         2901.35  "
      ]
     },
     "execution_count": 10,
     "metadata": {},
     "output_type": "execute_result"
    }
   ],
   "source": [
    "df_savings_acct = pd.read_csv('twm_savings_acct.csv', sep=';')\n",
    "df_savings_acct.head(5)"
   ]
  },
  {
   "cell_type": "code",
   "execution_count": 11,
   "id": "4a98a6ca-2ecd-461f-a4f2-f27d5582c3c3",
   "metadata": {},
   "outputs": [
    {
     "name": "stdout",
     "output_type": "stream",
     "text": [
      "(421, 9)\n",
      "cust_id               0\n",
      "acct_nbr              0\n",
      "minimum_balance       0\n",
      "acct_type             0\n",
      "account_active        0\n",
      "acct_start_date       0\n",
      "acct_end_date       375\n",
      "starting_balance      0\n",
      "ending_balance        0\n",
      "dtype: int64\n",
      "# of unique customer IDs:  421\n"
     ]
    }
   ],
   "source": [
    "print(df_savings_acct.shape)\n",
    "print(df_savings_acct.isnull().sum())\n",
    "print('# of unique customer IDs: ', df_savings_acct['cust_id'].nunique())"
   ]
  },
  {
   "cell_type": "code",
   "execution_count": null,
   "id": "81e75d13-2293-46d2-8301-71ea25ed0e14",
   "metadata": {},
   "outputs": [],
   "source": []
  },
  {
   "cell_type": "code",
   "execution_count": null,
   "id": "eb95a80a-2d4d-48d6-9d4f-06f90395efba",
   "metadata": {},
   "outputs": [],
   "source": []
  },
  {
   "cell_type": "code",
   "execution_count": 12,
   "id": "0bf1e1b1-4253-4168-a687-745b9f8b38bf",
   "metadata": {},
   "outputs": [
    {
     "data": {
      "text/html": [
       "<div>\n",
       "<style scoped>\n",
       "    .dataframe tbody tr th:only-of-type {\n",
       "        vertical-align: middle;\n",
       "    }\n",
       "\n",
       "    .dataframe tbody tr th {\n",
       "        vertical-align: top;\n",
       "    }\n",
       "\n",
       "    .dataframe thead th {\n",
       "        text-align: right;\n",
       "    }\n",
       "</style>\n",
       "<table border=\"1\" class=\"dataframe\">\n",
       "  <thead>\n",
       "    <tr style=\"text-align: right;\">\n",
       "      <th></th>\n",
       "      <th>tran_id</th>\n",
       "      <th>acct_nbr</th>\n",
       "      <th>tran_amt</th>\n",
       "      <th>principal_amt</th>\n",
       "      <th>interest_amt</th>\n",
       "      <th>new_balance</th>\n",
       "      <th>tran_date</th>\n",
       "      <th>tran_time</th>\n",
       "      <th>channel</th>\n",
       "      <th>tran_code</th>\n",
       "    </tr>\n",
       "  </thead>\n",
       "  <tbody>\n",
       "    <tr>\n",
       "      <th>0</th>\n",
       "      <td>27</td>\n",
       "      <td>13625623</td>\n",
       "      <td>0.00</td>\n",
       "      <td>0.00</td>\n",
       "      <td>0.0</td>\n",
       "      <td>3753.34</td>\n",
       "      <td>21.10.1995</td>\n",
       "      <td>121656</td>\n",
       "      <td>A</td>\n",
       "      <td>IQ</td>\n",
       "    </tr>\n",
       "    <tr>\n",
       "      <th>1</th>\n",
       "      <td>97</td>\n",
       "      <td>13628392</td>\n",
       "      <td>0.00</td>\n",
       "      <td>0.00</td>\n",
       "      <td>0.0</td>\n",
       "      <td>254.49</td>\n",
       "      <td>5.2.1995</td>\n",
       "      <td>153053</td>\n",
       "      <td>V</td>\n",
       "      <td>IQ</td>\n",
       "    </tr>\n",
       "    <tr>\n",
       "      <th>2</th>\n",
       "      <td>21</td>\n",
       "      <td>13630842</td>\n",
       "      <td>-97.57</td>\n",
       "      <td>-97.57</td>\n",
       "      <td>0.0</td>\n",
       "      <td>3819.56</td>\n",
       "      <td>23.7.1995</td>\n",
       "      <td>0</td>\n",
       "      <td>P</td>\n",
       "      <td>WD</td>\n",
       "    </tr>\n",
       "    <tr>\n",
       "      <th>3</th>\n",
       "      <td>44</td>\n",
       "      <td>13631412</td>\n",
       "      <td>-0.15</td>\n",
       "      <td>-0.15</td>\n",
       "      <td>0.0</td>\n",
       "      <td>224.05</td>\n",
       "      <td>30.1.1995</td>\n",
       "      <td>0</td>\n",
       "      <td></td>\n",
       "      <td>FK</td>\n",
       "    </tr>\n",
       "    <tr>\n",
       "      <th>4</th>\n",
       "      <td>31</td>\n",
       "      <td>13625722</td>\n",
       "      <td>0.00</td>\n",
       "      <td>0.00</td>\n",
       "      <td>0.0</td>\n",
       "      <td>240.55</td>\n",
       "      <td>25.1.1995</td>\n",
       "      <td>204521</td>\n",
       "      <td>B</td>\n",
       "      <td>IQ</td>\n",
       "    </tr>\n",
       "  </tbody>\n",
       "</table>\n",
       "</div>"
      ],
      "text/plain": [
       "   tran_id  acct_nbr  tran_amt  principal_amt  interest_amt  new_balance  \\\n",
       "0       27  13625623      0.00           0.00           0.0      3753.34   \n",
       "1       97  13628392      0.00           0.00           0.0       254.49   \n",
       "2       21  13630842    -97.57         -97.57           0.0      3819.56   \n",
       "3       44  13631412     -0.15          -0.15           0.0       224.05   \n",
       "4       31  13625722      0.00           0.00           0.0       240.55   \n",
       "\n",
       "    tran_date  tran_time channel tran_code  \n",
       "0  21.10.1995     121656      A       IQ    \n",
       "1    5.2.1995     153053      V       IQ    \n",
       "2   23.7.1995          0      P       WD    \n",
       "3   30.1.1995          0              FK    \n",
       "4   25.1.1995     204521      B       IQ    "
      ]
     },
     "execution_count": 12,
     "metadata": {},
     "output_type": "execute_result"
    }
   ],
   "source": [
    "df_transactions = pd.read_csv('twm_transactions.csv', sep=';')\n",
    "df_transactions.head(5)"
   ]
  },
  {
   "cell_type": "code",
   "execution_count": 13,
   "id": "959cbc3e-64fd-4363-8e21-9a54a0e2ee0b",
   "metadata": {},
   "outputs": [
    {
     "name": "stdout",
     "output_type": "stream",
     "text": [
      "(77580, 10)\n",
      "tran_id          0\n",
      "acct_nbr         0\n",
      "tran_amt         0\n",
      "principal_amt    0\n",
      "interest_amt     0\n",
      "new_balance      0\n",
      "tran_date        0\n",
      "tran_time        0\n",
      "channel          0\n",
      "tran_code        0\n",
      "dtype: int64\n",
      "# of ACCOUNT numbers:  1398\n"
     ]
    }
   ],
   "source": [
    "print(df_transactions.shape)\n",
    "print(df_transactions.isnull().sum())\n",
    "print('# of ACCOUNT numbers: ', df_transactions['acct_nbr'].nunique())"
   ]
  },
  {
   "cell_type": "code",
   "execution_count": null,
   "id": "9d411c3d-4e10-43f7-ba67-08c62e749f3d",
   "metadata": {},
   "outputs": [],
   "source": []
  },
  {
   "cell_type": "code",
   "execution_count": null,
   "id": "f70b0422-aeae-4e28-bffe-3b58b2f61a1d",
   "metadata": {},
   "outputs": [],
   "source": []
  },
  {
   "cell_type": "code",
   "execution_count": 14,
   "id": "ec5ba98b-ea74-47a2-a1a3-b49028ddc3d2",
   "metadata": {},
   "outputs": [
    {
     "data": {
      "text/html": [
       "<div>\n",
       "<style scoped>\n",
       "    .dataframe tbody tr th:only-of-type {\n",
       "        vertical-align: middle;\n",
       "    }\n",
       "\n",
       "    .dataframe tbody tr th {\n",
       "        vertical-align: top;\n",
       "    }\n",
       "\n",
       "    .dataframe thead th {\n",
       "        text-align: right;\n",
       "    }\n",
       "</style>\n",
       "<table border=\"1\" class=\"dataframe\">\n",
       "  <thead>\n",
       "    <tr style=\"text-align: right;\">\n",
       "      <th></th>\n",
       "      <th>cust_id</th>\n",
       "      <th>tran_id</th>\n",
       "      <th>tran_amt</th>\n",
       "      <th>principal_amt</th>\n",
       "      <th>interest_amt</th>\n",
       "      <th>new_balance</th>\n",
       "      <th>tran_date</th>\n",
       "      <th>tran_time</th>\n",
       "      <th>channel</th>\n",
       "      <th>tran_code</th>\n",
       "    </tr>\n",
       "  </thead>\n",
       "  <tbody>\n",
       "    <tr>\n",
       "      <th>0</th>\n",
       "      <td>1363481</td>\n",
       "      <td>26</td>\n",
       "      <td>-0.15</td>\n",
       "      <td>-0.15</td>\n",
       "      <td>0.0</td>\n",
       "      <td>58.99</td>\n",
       "      <td>29.1.1995</td>\n",
       "      <td></td>\n",
       "      <td></td>\n",
       "      <td>FK</td>\n",
       "    </tr>\n",
       "    <tr>\n",
       "      <th>1</th>\n",
       "      <td>1362784</td>\n",
       "      <td>90</td>\n",
       "      <td>-200.00</td>\n",
       "      <td>-200.00</td>\n",
       "      <td>0.0</td>\n",
       "      <td>1380.69</td>\n",
       "      <td>2.7.1995</td>\n",
       "      <td>53313</td>\n",
       "      <td>A</td>\n",
       "      <td>WD</td>\n",
       "    </tr>\n",
       "    <tr>\n",
       "      <th>2</th>\n",
       "      <td>1363088</td>\n",
       "      <td>46</td>\n",
       "      <td>0.00</td>\n",
       "      <td>0.00</td>\n",
       "      <td>0.0</td>\n",
       "      <td>128.35</td>\n",
       "      <td>26.3.1995</td>\n",
       "      <td>834</td>\n",
       "      <td>A</td>\n",
       "      <td>IQ</td>\n",
       "    </tr>\n",
       "    <tr>\n",
       "      <th>3</th>\n",
       "      <td>1363306</td>\n",
       "      <td>32</td>\n",
       "      <td>-40.32</td>\n",
       "      <td>-40.32</td>\n",
       "      <td>0.0</td>\n",
       "      <td>433.06</td>\n",
       "      <td>29.1.1995</td>\n",
       "      <td></td>\n",
       "      <td>P</td>\n",
       "      <td>WD</td>\n",
       "    </tr>\n",
       "    <tr>\n",
       "      <th>4</th>\n",
       "      <td>1363251</td>\n",
       "      <td>11</td>\n",
       "      <td>-87.88</td>\n",
       "      <td>-87.88</td>\n",
       "      <td>0.0</td>\n",
       "      <td>1919.55</td>\n",
       "      <td>8.2.1995</td>\n",
       "      <td></td>\n",
       "      <td>P</td>\n",
       "      <td>WD</td>\n",
       "    </tr>\n",
       "  </tbody>\n",
       "</table>\n",
       "</div>"
      ],
      "text/plain": [
       "   cust_id  tran_id  tran_amt  principal_amt  interest_amt  new_balance  \\\n",
       "0  1363481       26     -0.15          -0.15           0.0        58.99   \n",
       "1  1362784       90   -200.00        -200.00           0.0      1380.69   \n",
       "2  1363088       46      0.00           0.00           0.0       128.35   \n",
       "3  1363306       32    -40.32         -40.32           0.0       433.06   \n",
       "4  1363251       11    -87.88         -87.88           0.0      1919.55   \n",
       "\n",
       "   tran_date     tran_time channel tran_code  \n",
       "0  29.1.1995                            FK    \n",
       "1   2.7.1995         53313      A       WD    \n",
       "2  26.3.1995           834      A       IQ    \n",
       "3  29.1.1995                    P       WD    \n",
       "4   8.2.1995                    P       WD    "
      ]
     },
     "execution_count": 14,
     "metadata": {},
     "output_type": "execute_result"
    }
   ],
   "source": [
    "df_checking_tran = pd.read_csv('twm_checking_tran.csv', sep=';')\n",
    "df_checking_tran.head(5)"
   ]
  },
  {
   "cell_type": "code",
   "execution_count": 15,
   "id": "d7d58586-20ef-4240-802b-bc3deffa119f",
   "metadata": {},
   "outputs": [
    {
     "name": "stdout",
     "output_type": "stream",
     "text": [
      "(46204, 10)\n",
      "cust_id          0\n",
      "tran_id          0\n",
      "tran_amt         0\n",
      "principal_amt    0\n",
      "interest_amt     0\n",
      "new_balance      0\n",
      "tran_date        0\n",
      "tran_time        0\n",
      "channel          0\n",
      "tran_code        0\n",
      "dtype: int64\n",
      "# of unique customer IDs:  520\n"
     ]
    }
   ],
   "source": [
    "print(df_checking_tran.shape)\n",
    "print(df_checking_tran.isnull().sum())\n",
    "print('# of unique customer IDs: ', df_checking_tran['cust_id'].nunique())"
   ]
  },
  {
   "cell_type": "code",
   "execution_count": null,
   "id": "cbd9f934-885d-47ef-9b43-b104d8e3c2e8",
   "metadata": {},
   "outputs": [],
   "source": []
  },
  {
   "cell_type": "code",
   "execution_count": null,
   "id": "e042bde4-1297-40b5-88a9-4f2630a191ea",
   "metadata": {},
   "outputs": [],
   "source": []
  },
  {
   "cell_type": "code",
   "execution_count": 16,
   "id": "3786d617-6ee7-4e64-b6c2-2e5bc6b2f3a7",
   "metadata": {},
   "outputs": [
    {
     "data": {
      "text/html": [
       "<div>\n",
       "<style scoped>\n",
       "    .dataframe tbody tr th:only-of-type {\n",
       "        vertical-align: middle;\n",
       "    }\n",
       "\n",
       "    .dataframe tbody tr th {\n",
       "        vertical-align: top;\n",
       "    }\n",
       "\n",
       "    .dataframe thead th {\n",
       "        text-align: right;\n",
       "    }\n",
       "</style>\n",
       "<table border=\"1\" class=\"dataframe\">\n",
       "  <thead>\n",
       "    <tr style=\"text-align: right;\">\n",
       "      <th></th>\n",
       "      <th>cust_id</th>\n",
       "      <th>tran_id</th>\n",
       "      <th>tran_amt</th>\n",
       "      <th>principal_amt</th>\n",
       "      <th>interest_amt</th>\n",
       "      <th>new_balance</th>\n",
       "      <th>tran_date</th>\n",
       "      <th>tran_time</th>\n",
       "      <th>channel</th>\n",
       "      <th>tran_code</th>\n",
       "    </tr>\n",
       "  </thead>\n",
       "  <tbody>\n",
       "    <tr>\n",
       "      <th>0</th>\n",
       "      <td>1363088</td>\n",
       "      <td>46</td>\n",
       "      <td>-121.49</td>\n",
       "      <td>-121.49</td>\n",
       "      <td>0.0</td>\n",
       "      <td>-141.00</td>\n",
       "      <td>20.10.1995</td>\n",
       "      <td>101144</td>\n",
       "      <td>E</td>\n",
       "      <td>CG</td>\n",
       "    </tr>\n",
       "    <tr>\n",
       "      <th>1</th>\n",
       "      <td>1363306</td>\n",
       "      <td>32</td>\n",
       "      <td>-220.64</td>\n",
       "      <td>-220.64</td>\n",
       "      <td>0.0</td>\n",
       "      <td>-520.13</td>\n",
       "      <td>13.10.1995</td>\n",
       "      <td>83115</td>\n",
       "      <td>E</td>\n",
       "      <td>CG</td>\n",
       "    </tr>\n",
       "    <tr>\n",
       "      <th>2</th>\n",
       "      <td>1362959</td>\n",
       "      <td>10</td>\n",
       "      <td>0.00</td>\n",
       "      <td>0.00</td>\n",
       "      <td>0.0</td>\n",
       "      <td>-3900.00</td>\n",
       "      <td>26.2.1995</td>\n",
       "      <td>84129</td>\n",
       "      <td>K</td>\n",
       "      <td>IQ</td>\n",
       "    </tr>\n",
       "    <tr>\n",
       "      <th>3</th>\n",
       "      <td>1363429</td>\n",
       "      <td>13</td>\n",
       "      <td>-195.27</td>\n",
       "      <td>-195.27</td>\n",
       "      <td>0.0</td>\n",
       "      <td>-1739.74</td>\n",
       "      <td>3.1.1995</td>\n",
       "      <td>191815</td>\n",
       "      <td>E</td>\n",
       "      <td>CG</td>\n",
       "    </tr>\n",
       "    <tr>\n",
       "      <th>4</th>\n",
       "      <td>1363393</td>\n",
       "      <td>14</td>\n",
       "      <td>-37.32</td>\n",
       "      <td>-37.32</td>\n",
       "      <td>0.0</td>\n",
       "      <td>-198.98</td>\n",
       "      <td>4.7.1995</td>\n",
       "      <td>100811</td>\n",
       "      <td>E</td>\n",
       "      <td>CG</td>\n",
       "    </tr>\n",
       "  </tbody>\n",
       "</table>\n",
       "</div>"
      ],
      "text/plain": [
       "   cust_id  tran_id  tran_amt  principal_amt  interest_amt  new_balance  \\\n",
       "0  1363088       46   -121.49        -121.49           0.0      -141.00   \n",
       "1  1363306       32   -220.64        -220.64           0.0      -520.13   \n",
       "2  1362959       10      0.00           0.00           0.0     -3900.00   \n",
       "3  1363429       13   -195.27        -195.27           0.0     -1739.74   \n",
       "4  1363393       14    -37.32         -37.32           0.0      -198.98   \n",
       "\n",
       "    tran_date tran_time channel tran_code  \n",
       "0  20.10.1995    101144      E       CG    \n",
       "1  13.10.1995     83115      E       CG    \n",
       "2   26.2.1995     84129      K       IQ    \n",
       "3    3.1.1995    191815      E       CG    \n",
       "4    4.7.1995    100811      E       CG    "
      ]
     },
     "execution_count": 16,
     "metadata": {},
     "output_type": "execute_result"
    }
   ],
   "source": [
    "df_credit_tran = pd.read_csv('twm_credit_tran.csv', sep=';')\n",
    "df_credit_tran.head(5)"
   ]
  },
  {
   "cell_type": "code",
   "execution_count": 17,
   "id": "1a566c97-7eaf-4c44-a2e4-34a8c071e7b6",
   "metadata": {},
   "outputs": [
    {
     "name": "stdout",
     "output_type": "stream",
     "text": [
      "(20167, 10)\n",
      "cust_id          0\n",
      "tran_id          0\n",
      "tran_amt         0\n",
      "principal_amt    0\n",
      "interest_amt     0\n",
      "new_balance      0\n",
      "tran_date        0\n",
      "tran_time        0\n",
      "channel          0\n",
      "tran_code        0\n",
      "dtype: int64\n",
      "# of unique customer IDs:  457\n"
     ]
    }
   ],
   "source": [
    "print(df_credit_tran.shape)\n",
    "print(df_credit_tran.isnull().sum())\n",
    "print('# of unique customer IDs: ', df_credit_tran['cust_id'].nunique())"
   ]
  },
  {
   "cell_type": "code",
   "execution_count": null,
   "id": "c2162434-f535-4eac-84f0-872f61bee1cd",
   "metadata": {},
   "outputs": [],
   "source": []
  },
  {
   "cell_type": "code",
   "execution_count": null,
   "id": "200361de-5c46-42a0-a43d-b7bd7b8d7890",
   "metadata": {},
   "outputs": [],
   "source": []
  },
  {
   "cell_type": "code",
   "execution_count": 18,
   "id": "8fc33535-cdc6-4ad0-8ec7-dc0844664ca9",
   "metadata": {},
   "outputs": [
    {
     "data": {
      "text/html": [
       "<div>\n",
       "<style scoped>\n",
       "    .dataframe tbody tr th:only-of-type {\n",
       "        vertical-align: middle;\n",
       "    }\n",
       "\n",
       "    .dataframe tbody tr th {\n",
       "        vertical-align: top;\n",
       "    }\n",
       "\n",
       "    .dataframe thead th {\n",
       "        text-align: right;\n",
       "    }\n",
       "</style>\n",
       "<table border=\"1\" class=\"dataframe\">\n",
       "  <thead>\n",
       "    <tr style=\"text-align: right;\">\n",
       "      <th></th>\n",
       "      <th>cust_id</th>\n",
       "      <th>tran_id</th>\n",
       "      <th>tran_amt</th>\n",
       "      <th>principal_amt</th>\n",
       "      <th>interest_amt</th>\n",
       "      <th>new_balance</th>\n",
       "      <th>tran_date</th>\n",
       "      <th>tran_time</th>\n",
       "      <th>channel</th>\n",
       "      <th>tran_code</th>\n",
       "    </tr>\n",
       "  </thead>\n",
       "  <tbody>\n",
       "    <tr>\n",
       "      <th>0</th>\n",
       "      <td>1363481</td>\n",
       "      <td>26</td>\n",
       "      <td>136.03</td>\n",
       "      <td>136.03</td>\n",
       "      <td>0.00</td>\n",
       "      <td>1521.57</td>\n",
       "      <td>26.10.1995</td>\n",
       "      <td>84111</td>\n",
       "      <td>A</td>\n",
       "      <td>DP</td>\n",
       "    </tr>\n",
       "    <tr>\n",
       "      <th>1</th>\n",
       "      <td>1362746</td>\n",
       "      <td>1</td>\n",
       "      <td>2.83</td>\n",
       "      <td>0.00</td>\n",
       "      <td>2.83</td>\n",
       "      <td>2265.90</td>\n",
       "      <td>31.1.1995</td>\n",
       "      <td>235959</td>\n",
       "      <td></td>\n",
       "      <td>IN</td>\n",
       "    </tr>\n",
       "    <tr>\n",
       "      <th>2</th>\n",
       "      <td>1363251</td>\n",
       "      <td>11</td>\n",
       "      <td>13.56</td>\n",
       "      <td>0.00</td>\n",
       "      <td>13.56</td>\n",
       "      <td>5438.90</td>\n",
       "      <td>30.4.1995</td>\n",
       "      <td>235959</td>\n",
       "      <td></td>\n",
       "      <td>IN</td>\n",
       "    </tr>\n",
       "    <tr>\n",
       "      <th>3</th>\n",
       "      <td>1362542</td>\n",
       "      <td>4</td>\n",
       "      <td>0.76</td>\n",
       "      <td>0.00</td>\n",
       "      <td>0.76</td>\n",
       "      <td>610.92</td>\n",
       "      <td>30.4.1995</td>\n",
       "      <td>235959</td>\n",
       "      <td></td>\n",
       "      <td>IN</td>\n",
       "    </tr>\n",
       "    <tr>\n",
       "      <th>4</th>\n",
       "      <td>1363387</td>\n",
       "      <td>11</td>\n",
       "      <td>148.69</td>\n",
       "      <td>148.69</td>\n",
       "      <td>0.00</td>\n",
       "      <td>470.05</td>\n",
       "      <td>21.5.1995</td>\n",
       "      <td>144736</td>\n",
       "      <td>E</td>\n",
       "      <td>DP</td>\n",
       "    </tr>\n",
       "  </tbody>\n",
       "</table>\n",
       "</div>"
      ],
      "text/plain": [
       "   cust_id  tran_id  tran_amt  principal_amt  interest_amt  new_balance  \\\n",
       "0  1363481       26    136.03         136.03          0.00      1521.57   \n",
       "1  1362746        1      2.83           0.00          2.83      2265.90   \n",
       "2  1363251       11     13.56           0.00         13.56      5438.90   \n",
       "3  1362542        4      0.76           0.00          0.76       610.92   \n",
       "4  1363387       11    148.69         148.69          0.00       470.05   \n",
       "\n",
       "    tran_date tran_time channel tran_code  \n",
       "0  26.10.1995     84111      A       DP    \n",
       "1   31.1.1995    235959              IN    \n",
       "2   30.4.1995    235959              IN    \n",
       "3   30.4.1995    235959              IN    \n",
       "4   21.5.1995    144736      E       DP    "
      ]
     },
     "execution_count": 18,
     "metadata": {},
     "output_type": "execute_result"
    }
   ],
   "source": [
    "df_savings_tran = pd.read_csv('twm_savings_tran.csv', sep=';')\n",
    "df_savings_tran.head(5)"
   ]
  },
  {
   "cell_type": "code",
   "execution_count": 19,
   "id": "046120fd-1137-4b62-8339-98765722b4d7",
   "metadata": {},
   "outputs": [
    {
     "name": "stdout",
     "output_type": "stream",
     "text": [
      "(11189, 10)\n",
      "cust_id          0\n",
      "tran_id          0\n",
      "tran_amt         0\n",
      "principal_amt    0\n",
      "interest_amt     0\n",
      "new_balance      0\n",
      "tran_date        0\n",
      "tran_time        0\n",
      "channel          0\n",
      "tran_code        0\n",
      "dtype: int64\n",
      "# of unique customer IDs:  420\n"
     ]
    }
   ],
   "source": [
    "print(df_savings_tran.shape)\n",
    "print(df_savings_tran.isnull().sum())\n",
    "print('# of unique customer IDs: ', df_savings_tran['cust_id'].nunique())"
   ]
  },
  {
   "cell_type": "code",
   "execution_count": null,
   "id": "d6494f05-a3cf-46a7-bd8c-3eeaab9b04a8",
   "metadata": {},
   "outputs": [],
   "source": []
  },
  {
   "cell_type": "code",
   "execution_count": null,
   "id": "6909d63c-363a-46a0-97e3-ff7a8a21adad",
   "metadata": {},
   "outputs": [],
   "source": []
  },
  {
   "cell_type": "markdown",
   "id": "d498377a-574b-4770-b981-c48f0db74897",
   "metadata": {},
   "source": [
    "# Analysis"
   ]
  },
  {
   "cell_type": "markdown",
   "id": "20ff5c88-48d9-4ca7-8c2c-123bb9a6b28c",
   "metadata": {},
   "source": [
    "Customer segmentation based on demographics:"
   ]
  },
  {
   "cell_type": "code",
   "execution_count": 20,
   "id": "e93abcc9-f873-4811-8193-313c0972decd",
   "metadata": {},
   "outputs": [
    {
     "data": {
      "text/html": [
       "<div>\n",
       "<style scoped>\n",
       "    .dataframe tbody tr th:only-of-type {\n",
       "        vertical-align: middle;\n",
       "    }\n",
       "\n",
       "    .dataframe tbody tr th {\n",
       "        vertical-align: top;\n",
       "    }\n",
       "\n",
       "    .dataframe thead th {\n",
       "        text-align: right;\n",
       "    }\n",
       "</style>\n",
       "<table border=\"1\" class=\"dataframe\">\n",
       "  <thead>\n",
       "    <tr style=\"text-align: right;\">\n",
       "      <th></th>\n",
       "      <th>cust_id</th>\n",
       "      <th>income</th>\n",
       "      <th>age</th>\n",
       "      <th>years_with_bank</th>\n",
       "      <th>nbr_children</th>\n",
       "      <th>gender</th>\n",
       "      <th>marital_status</th>\n",
       "      <th>name_prefix</th>\n",
       "      <th>first_name</th>\n",
       "      <th>last_name</th>\n",
       "      <th>street_nbr</th>\n",
       "      <th>street_name</th>\n",
       "      <th>postal_code</th>\n",
       "      <th>city_name</th>\n",
       "      <th>state_code</th>\n",
       "      <th>gender_num</th>\n",
       "    </tr>\n",
       "  </thead>\n",
       "  <tbody>\n",
       "    <tr>\n",
       "      <th>0</th>\n",
       "      <td>1362691</td>\n",
       "      <td>26150</td>\n",
       "      <td>46</td>\n",
       "      <td>5</td>\n",
       "      <td>1</td>\n",
       "      <td>M</td>\n",
       "      <td>2</td>\n",
       "      <td></td>\n",
       "      <td>Donald                                        ...</td>\n",
       "      <td>Marek                                         ...</td>\n",
       "      <td>8298</td>\n",
       "      <td>Second                                        ...</td>\n",
       "      <td>89194</td>\n",
       "      <td>Las Vegas</td>\n",
       "      <td>NV</td>\n",
       "      <td>0</td>\n",
       "    </tr>\n",
       "    <tr>\n",
       "      <th>1</th>\n",
       "      <td>1362487</td>\n",
       "      <td>6605</td>\n",
       "      <td>71</td>\n",
       "      <td>1</td>\n",
       "      <td>0</td>\n",
       "      <td>M</td>\n",
       "      <td>2</td>\n",
       "      <td></td>\n",
       "      <td>ChingDyi                                      ...</td>\n",
       "      <td>Moussavi                                      ...</td>\n",
       "      <td>10603</td>\n",
       "      <td>Daffodil                                      ...</td>\n",
       "      <td>90159</td>\n",
       "      <td>Los Angeles</td>\n",
       "      <td>CA</td>\n",
       "      <td>0</td>\n",
       "    </tr>\n",
       "    <tr>\n",
       "      <th>2</th>\n",
       "      <td>1363160</td>\n",
       "      <td>18548</td>\n",
       "      <td>38</td>\n",
       "      <td>8</td>\n",
       "      <td>0</td>\n",
       "      <td>F</td>\n",
       "      <td>1</td>\n",
       "      <td></td>\n",
       "      <td>Rosa                                          ...</td>\n",
       "      <td>Johnston                                      ...</td>\n",
       "      <td>8817</td>\n",
       "      <td>Figueroa                                      ...</td>\n",
       "      <td>90024</td>\n",
       "      <td>Los Angeles</td>\n",
       "      <td>CA</td>\n",
       "      <td>1</td>\n",
       "    </tr>\n",
       "    <tr>\n",
       "      <th>3</th>\n",
       "      <td>1362752</td>\n",
       "      <td>47668</td>\n",
       "      <td>54</td>\n",
       "      <td>3</td>\n",
       "      <td>0</td>\n",
       "      <td>F</td>\n",
       "      <td>1</td>\n",
       "      <td></td>\n",
       "      <td>Lisa                                          ...</td>\n",
       "      <td>Martin                                        ...</td>\n",
       "      <td>676</td>\n",
       "      <td>Humble                                        ...</td>\n",
       "      <td>90172</td>\n",
       "      <td>Los Angeles</td>\n",
       "      <td>CA</td>\n",
       "      <td>1</td>\n",
       "    </tr>\n",
       "    <tr>\n",
       "      <th>4</th>\n",
       "      <td>1362548</td>\n",
       "      <td>44554</td>\n",
       "      <td>59</td>\n",
       "      <td>9</td>\n",
       "      <td>2</td>\n",
       "      <td>F</td>\n",
       "      <td>4</td>\n",
       "      <td></td>\n",
       "      <td>Barbara                                       ...</td>\n",
       "      <td>O'Malley                                      ...</td>\n",
       "      <td>6578</td>\n",
       "      <td>C                                             ...</td>\n",
       "      <td>10138</td>\n",
       "      <td>New York City</td>\n",
       "      <td>NY</td>\n",
       "      <td>1</td>\n",
       "    </tr>\n",
       "  </tbody>\n",
       "</table>\n",
       "</div>"
      ],
      "text/plain": [
       "   cust_id  income  age  years_with_bank  nbr_children gender  marital_status  \\\n",
       "0  1362691   26150   46                5             1     M                2   \n",
       "1  1362487    6605   71                1             0     M                2   \n",
       "2  1363160   18548   38                8             0     F                1   \n",
       "3  1362752   47668   54                3             0     F                1   \n",
       "4  1362548   44554   59                9             2     F                4   \n",
       "\n",
       "  name_prefix                                         first_name  \\\n",
       "0              Donald                                        ...   \n",
       "1              ChingDyi                                      ...   \n",
       "2              Rosa                                          ...   \n",
       "3              Lisa                                          ...   \n",
       "4              Barbara                                       ...   \n",
       "\n",
       "                                           last_name  street_nbr  \\\n",
       "0  Marek                                         ...        8298   \n",
       "1  Moussavi                                      ...       10603   \n",
       "2  Johnston                                      ...        8817   \n",
       "3  Martin                                        ...         676   \n",
       "4  O'Malley                                      ...        6578   \n",
       "\n",
       "                                         street_name  postal_code  \\\n",
       "0  Second                                        ...        89194   \n",
       "1  Daffodil                                      ...        90159   \n",
       "2  Figueroa                                      ...        90024   \n",
       "3  Humble                                        ...        90172   \n",
       "4  C                                             ...        10138   \n",
       "\n",
       "                                  city_name state_code  gender_num  \n",
       "0  Las Vegas                                      NV             0  \n",
       "1  Los Angeles                                    CA             0  \n",
       "2  Los Angeles                                    CA             1  \n",
       "3  Los Angeles                                    CA             1  \n",
       "4  New York City                                  NY             1  "
      ]
     },
     "execution_count": 20,
     "metadata": {},
     "output_type": "execute_result"
    }
   ],
   "source": [
    "df_customer2 = df_customer.copy()\n",
    "df_customer2['gender_num'] = df_customer2.apply(lambda row: 0 if row['gender']=='M ' else 1, axis=1)\n",
    "df_customer2.head(5)"
   ]
  },
  {
   "cell_type": "code",
   "execution_count": null,
   "id": "99d8c8d3-dcf1-467b-93b5-ca36b70cdfd5",
   "metadata": {},
   "outputs": [],
   "source": []
  },
  {
   "cell_type": "code",
   "execution_count": 21,
   "id": "f5789cea-a630-4d74-9cbc-262642d3f0a6",
   "metadata": {},
   "outputs": [],
   "source": [
    "def plot_distortion(dataframe_name, max_clusters = 10):\n",
    "    distortions = []\n",
    "    \n",
    "    scaler = MinMaxScaler()\n",
    "    df_seg_scaled = pd.DataFrame(scaler.fit_transform(dataframe_name.astype(float)))\n",
    "    \n",
    "    X = df_seg_scaled.to_numpy()\n",
    "    \n",
    "    for i in range(1, max_clusters +1):\n",
    "        km = KMeans(n_clusters=i,\n",
    "                    init='k-means++',\n",
    "                    n_init=10,\n",
    "                    random_state=0)\n",
    "        km.fit(X)\n",
    "        distortions.append(km.inertia_)\n",
    "\n",
    "    plt.plot(range(1,max_clusters +1), distortions, marker='o')\n",
    "    plt.xlabel('Number of clusters')\n",
    "    plt.ylabel('Distortion')\n",
    "    plt.title('Distortion Plot')\n",
    "    plt.show() "
   ]
  },
  {
   "cell_type": "code",
   "execution_count": null,
   "id": "d74dd619-5564-4438-8eae-f3b83807402d",
   "metadata": {},
   "outputs": [],
   "source": []
  },
  {
   "cell_type": "code",
   "execution_count": 22,
   "id": "d21482f1-c729-4b85-9a9b-2c120c1ff000",
   "metadata": {},
   "outputs": [],
   "source": [
    "def plot_clusters(dataframe_name, cols, num_clusters, plt_cluster_centers = False):\n",
    "    # cols = list of two column numbers\n",
    "    \n",
    "    scaler = StandardScaler()\n",
    "    df_customer_scaled = pd.DataFrame(scaler.fit_transform(dataframe_name.iloc[:,cols].astype(float)))\n",
    "    X = df_customer_scaled.to_numpy()\n",
    "    \n",
    "    col1_title = dataframe_name.columns[cols[0]]\n",
    "    col2_title = dataframe_name.columns[cols[1]]\n",
    "    \n",
    "    km = KMeans(n_clusters=num_clusters, n_init=10, random_state=0)\n",
    "    y_res = km.fit_predict(X)\n",
    "    \n",
    "    X_centroids = []\n",
    "    Y_centroids = []\n",
    "    \n",
    "    for cluster in set(y_res):\n",
    "        x = X[y_res == cluster, 0]\n",
    "        y = X[y_res == cluster, 1]\n",
    "        X_centroids.append(np.mean(x))\n",
    "        Y_centroids.append(np.mean(y))\n",
    "        \n",
    "        \n",
    "        plt.scatter(x, y, s=50, marker='s', label = f'cluster {cluster}')\n",
    "    \n",
    "    if plt_cluster_centers:\n",
    "        plt.scatter(X_centroids, Y_centroids, marker = '*', c = 'red', s = 250, label = 'centroids')\n",
    "    \n",
    "    plt.legend()\n",
    "    plt.grid()\n",
    "    plt.title(f'KMeans Clustering of {col1_title} and {col2_title}')\n",
    "    \n",
    "    #plt.rcParams[\"figure.figsize\"] = (6,4)\n",
    "    \n",
    "    return"
   ]
  },
  {
   "cell_type": "code",
   "execution_count": null,
   "id": "076aced7-8997-4040-b77a-cb502ce69ed5",
   "metadata": {},
   "outputs": [],
   "source": []
  },
  {
   "cell_type": "markdown",
   "id": "4acb8791-1ce2-44b0-b5e4-b39adf072393",
   "metadata": {},
   "source": [
    "Customer segmentation based on their banking behavior:"
   ]
  },
  {
   "cell_type": "code",
   "execution_count": 23,
   "id": "29d22974-8332-453b-89be-641118393c6a",
   "metadata": {},
   "outputs": [
    {
     "data": {
      "text/plain": [
       "cust_id            665\n",
       "income             581\n",
       "age                 76\n",
       "gender               2\n",
       "nbr_children         6\n",
       "marital_status       4\n",
       "acct_nbr          1409\n",
       "acct_type            3\n",
       "acct_end_date      120\n",
       "ending_balance    1213\n",
       "dtype: int64"
      ]
     },
     "execution_count": 23,
     "metadata": {},
     "output_type": "execute_result"
    }
   ],
   "source": [
    "df_cust_accounts = pd.merge(df_customer,df_accounts,on='cust_id')[['cust_id','income','age','gender','nbr_children','marital_status',\n",
    "                                                                   'acct_nbr','acct_type','acct_end_date',\n",
    "                                                                   'ending_balance']]\n",
    "df_cust_accounts.nunique()"
   ]
  },
  {
   "cell_type": "code",
   "execution_count": 24,
   "id": "701ab96b-c37a-4ff8-ba31-1ef11bf3187c",
   "metadata": {},
   "outputs": [],
   "source": [
    "df_cust_accounts['acct_type'].value_counts()\n",
    "#CC = credit\n",
    "#CK = checking\n",
    "#SV = savings\n",
    "df_cust_accounts['credit_balance'] = df_cust_accounts['ending_balance'][df_cust_accounts['acct_type']=='CC  ']\n",
    "df_cust_accounts['checking_balance'] = df_cust_accounts['ending_balance'][df_cust_accounts['acct_type']=='CK  ']\n",
    "df_cust_accounts['savings_balance'] = df_cust_accounts['ending_balance'][df_cust_accounts['acct_type']=='SV  ']"
   ]
  },
  {
   "cell_type": "code",
   "execution_count": 25,
   "id": "b7fe352f-4470-44a6-b3c0-da363f476368",
   "metadata": {},
   "outputs": [
    {
     "data": {
      "text/html": [
       "<div>\n",
       "<style scoped>\n",
       "    .dataframe tbody tr th:only-of-type {\n",
       "        vertical-align: middle;\n",
       "    }\n",
       "\n",
       "    .dataframe tbody tr th {\n",
       "        vertical-align: top;\n",
       "    }\n",
       "\n",
       "    .dataframe thead th {\n",
       "        text-align: right;\n",
       "    }\n",
       "</style>\n",
       "<table border=\"1\" class=\"dataframe\">\n",
       "  <thead>\n",
       "    <tr style=\"text-align: right;\">\n",
       "      <th></th>\n",
       "      <th>cust_id</th>\n",
       "      <th>income</th>\n",
       "      <th>age</th>\n",
       "      <th>gender</th>\n",
       "      <th>nbr_children</th>\n",
       "      <th>marital_status</th>\n",
       "      <th>credit_balance</th>\n",
       "      <th>checking_balance</th>\n",
       "      <th>savings_balance</th>\n",
       "      <th>total_balance</th>\n",
       "    </tr>\n",
       "  </thead>\n",
       "  <tbody>\n",
       "    <tr>\n",
       "      <th>0</th>\n",
       "      <td>1362480</td>\n",
       "      <td>50890</td>\n",
       "      <td>33</td>\n",
       "      <td>M</td>\n",
       "      <td>2</td>\n",
       "      <td>2</td>\n",
       "      <td>20.0</td>\n",
       "      <td>86.86</td>\n",
       "      <td>1187.97</td>\n",
       "      <td>1254.83</td>\n",
       "    </tr>\n",
       "  </tbody>\n",
       "</table>\n",
       "</div>"
      ],
      "text/plain": [
       "   cust_id  income  age gender  nbr_children  marital_status  credit_balance  \\\n",
       "0  1362480   50890   33     M              2               2            20.0   \n",
       "\n",
       "   checking_balance  savings_balance  total_balance  \n",
       "0             86.86          1187.97        1254.83  "
      ]
     },
     "execution_count": 25,
     "metadata": {},
     "output_type": "execute_result"
    }
   ],
   "source": [
    "#df_cust_accounts['ending_balance'][df_cust_accounts['acct_type']=='CK  ']\n",
    "df_cust_info = df_cust_accounts.loc[:,~df_cust_accounts.columns.isin(['acct_nbr','ending_balance','acct_end_date','acct_type'])]\n",
    "df_cust_info = df_cust_info.groupby(['cust_id','income','age','gender','nbr_children','marital_status']).sum().reset_index()\n",
    "df_cust_info['total_balance'] = df_cust_info['checking_balance']+df_cust_info['savings_balance']-df_cust_info['credit_balance']\n",
    "df_cust_info[df_cust_info['cust_id']==1362480]\n",
    "#df_cust_info.head()"
   ]
  },
  {
   "cell_type": "code",
   "execution_count": 26,
   "id": "45357ba0-67ff-4305-b46d-b0fc5ae014a4",
   "metadata": {},
   "outputs": [
    {
     "data": {
      "text/html": [
       "<div>\n",
       "<style scoped>\n",
       "    .dataframe tbody tr th:only-of-type {\n",
       "        vertical-align: middle;\n",
       "    }\n",
       "\n",
       "    .dataframe tbody tr th {\n",
       "        vertical-align: top;\n",
       "    }\n",
       "\n",
       "    .dataframe thead th {\n",
       "        text-align: right;\n",
       "    }\n",
       "</style>\n",
       "<table border=\"1\" class=\"dataframe\">\n",
       "  <thead>\n",
       "    <tr style=\"text-align: right;\">\n",
       "      <th></th>\n",
       "      <th></th>\n",
       "      <th>acct_nbr</th>\n",
       "    </tr>\n",
       "    <tr>\n",
       "      <th>cust_id</th>\n",
       "      <th>acct_type</th>\n",
       "      <th></th>\n",
       "    </tr>\n",
       "  </thead>\n",
       "  <tbody>\n",
       "  </tbody>\n",
       "</table>\n",
       "</div>"
      ],
      "text/plain": [
       "Empty DataFrame\n",
       "Columns: [acct_nbr]\n",
       "Index: []"
      ]
     },
     "execution_count": 26,
     "metadata": {},
     "output_type": "execute_result"
    }
   ],
   "source": [
    "df_n = df_cust_accounts[['cust_id','acct_type','acct_nbr']].groupby(['cust_id','acct_type']).count()\n",
    "df_n[df_n['acct_nbr']>1]"
   ]
  },
  {
   "cell_type": "code",
   "execution_count": 27,
   "id": "ea211435-de8e-47dd-81a4-84ee8481ec8a",
   "metadata": {},
   "outputs": [
    {
     "data": {
      "text/html": [
       "<div>\n",
       "<style scoped>\n",
       "    .dataframe tbody tr th:only-of-type {\n",
       "        vertical-align: middle;\n",
       "    }\n",
       "\n",
       "    .dataframe tbody tr th {\n",
       "        vertical-align: top;\n",
       "    }\n",
       "\n",
       "    .dataframe thead th {\n",
       "        text-align: right;\n",
       "    }\n",
       "</style>\n",
       "<table border=\"1\" class=\"dataframe\">\n",
       "  <thead>\n",
       "    <tr style=\"text-align: right;\">\n",
       "      <th></th>\n",
       "      <th>acct_nbr</th>\n",
       "      <th>cust_id</th>\n",
       "      <th>acct_type</th>\n",
       "      <th>account_active</th>\n",
       "      <th>acct_start_date</th>\n",
       "      <th>acct_end_date</th>\n",
       "      <th>starting_balance</th>\n",
       "      <th>ending_balance</th>\n",
       "    </tr>\n",
       "  </thead>\n",
       "  <tbody>\n",
       "    <tr>\n",
       "      <th>1012</th>\n",
       "      <td>13624802</td>\n",
       "      <td>1362480</td>\n",
       "      <td>CK</td>\n",
       "      <td>Y</td>\n",
       "      <td>23.12.1992</td>\n",
       "      <td>NaN</td>\n",
       "      <td>331.85</td>\n",
       "      <td>86.86</td>\n",
       "    </tr>\n",
       "    <tr>\n",
       "      <th>1217</th>\n",
       "      <td>4561143213624800</td>\n",
       "      <td>1362480</td>\n",
       "      <td>CC</td>\n",
       "      <td>N</td>\n",
       "      <td>23.12.1992</td>\n",
       "      <td>15.12.1995</td>\n",
       "      <td>1607.40</td>\n",
       "      <td>20.00</td>\n",
       "    </tr>\n",
       "    <tr>\n",
       "      <th>1399</th>\n",
       "      <td>13624803</td>\n",
       "      <td>1362480</td>\n",
       "      <td>SV</td>\n",
       "      <td>Y</td>\n",
       "      <td>23.12.1992</td>\n",
       "      <td>NaN</td>\n",
       "      <td>707.09</td>\n",
       "      <td>1187.97</td>\n",
       "    </tr>\n",
       "  </tbody>\n",
       "</table>\n",
       "</div>"
      ],
      "text/plain": [
       "              acct_nbr  cust_id acct_type account_active acct_start_date  \\\n",
       "1012          13624802  1362480      CK               Y       23.12.1992   \n",
       "1217  4561143213624800  1362480      CC               N       23.12.1992   \n",
       "1399          13624803  1362480      SV               Y       23.12.1992   \n",
       "\n",
       "     acct_end_date  starting_balance  ending_balance  \n",
       "1012           NaN            331.85           86.86  \n",
       "1217    15.12.1995           1607.40           20.00  \n",
       "1399           NaN            707.09         1187.97  "
      ]
     },
     "execution_count": 27,
     "metadata": {},
     "output_type": "execute_result"
    }
   ],
   "source": [
    "df_accounts[df_accounts['cust_id'] == 1362480]"
   ]
  },
  {
   "cell_type": "code",
   "execution_count": 28,
   "id": "264adf42-6d34-46e2-8502-5b01c32cd8a6",
   "metadata": {},
   "outputs": [],
   "source": [
    "df_sv_counts = df_savings_tran[['cust_id','tran_id']].groupby('cust_id').count().reset_index()\n",
    "df_cc_counts = df_credit_tran[['cust_id','tran_id']].groupby('cust_id').count().reset_index()\n",
    "df_ck_counts = df_checking_tran[['cust_id','tran_id']].groupby('cust_id').count().reset_index()"
   ]
  },
  {
   "cell_type": "code",
   "execution_count": 29,
   "id": "e884ad24-5031-4c9e-9592-8c5c5b0669c5",
   "metadata": {},
   "outputs": [
    {
     "data": {
      "text/html": [
       "<div>\n",
       "<style scoped>\n",
       "    .dataframe tbody tr th:only-of-type {\n",
       "        vertical-align: middle;\n",
       "    }\n",
       "\n",
       "    .dataframe tbody tr th {\n",
       "        vertical-align: top;\n",
       "    }\n",
       "\n",
       "    .dataframe thead th {\n",
       "        text-align: right;\n",
       "    }\n",
       "</style>\n",
       "<table border=\"1\" class=\"dataframe\">\n",
       "  <thead>\n",
       "    <tr style=\"text-align: right;\">\n",
       "      <th></th>\n",
       "      <th>cust_id</th>\n",
       "      <th>income</th>\n",
       "      <th>age</th>\n",
       "      <th>gender</th>\n",
       "      <th>nbr_children</th>\n",
       "      <th>marital_status</th>\n",
       "      <th>credit_balance</th>\n",
       "      <th>checking_balance</th>\n",
       "      <th>savings_balance</th>\n",
       "      <th>total_balance</th>\n",
       "    </tr>\n",
       "  </thead>\n",
       "  <tbody>\n",
       "    <tr>\n",
       "      <th>0</th>\n",
       "      <td>1362480</td>\n",
       "      <td>50890</td>\n",
       "      <td>33</td>\n",
       "      <td>M</td>\n",
       "      <td>2</td>\n",
       "      <td>2</td>\n",
       "      <td>20.00</td>\n",
       "      <td>86.86</td>\n",
       "      <td>1187.97</td>\n",
       "      <td>1254.83</td>\n",
       "    </tr>\n",
       "    <tr>\n",
       "      <th>1</th>\n",
       "      <td>1362484</td>\n",
       "      <td>10053</td>\n",
       "      <td>42</td>\n",
       "      <td>F</td>\n",
       "      <td>0</td>\n",
       "      <td>1</td>\n",
       "      <td>369.72</td>\n",
       "      <td>95.32</td>\n",
       "      <td>2122.17</td>\n",
       "      <td>1847.77</td>\n",
       "    </tr>\n",
       "    <tr>\n",
       "      <th>2</th>\n",
       "      <td>1362485</td>\n",
       "      <td>22690</td>\n",
       "      <td>25</td>\n",
       "      <td>F</td>\n",
       "      <td>0</td>\n",
       "      <td>1</td>\n",
       "      <td>1100.00</td>\n",
       "      <td>45.49</td>\n",
       "      <td>0.00</td>\n",
       "      <td>-1054.51</td>\n",
       "    </tr>\n",
       "    <tr>\n",
       "      <th>3</th>\n",
       "      <td>1362486</td>\n",
       "      <td>10701</td>\n",
       "      <td>76</td>\n",
       "      <td>F</td>\n",
       "      <td>0</td>\n",
       "      <td>3</td>\n",
       "      <td>0.00</td>\n",
       "      <td>3312.27</td>\n",
       "      <td>116.24</td>\n",
       "      <td>3428.51</td>\n",
       "    </tr>\n",
       "    <tr>\n",
       "      <th>4</th>\n",
       "      <td>1362487</td>\n",
       "      <td>6605</td>\n",
       "      <td>71</td>\n",
       "      <td>M</td>\n",
       "      <td>0</td>\n",
       "      <td>2</td>\n",
       "      <td>1548.23</td>\n",
       "      <td>1401.21</td>\n",
       "      <td>12.89</td>\n",
       "      <td>-134.13</td>\n",
       "    </tr>\n",
       "    <tr>\n",
       "      <th>...</th>\n",
       "      <td>...</td>\n",
       "      <td>...</td>\n",
       "      <td>...</td>\n",
       "      <td>...</td>\n",
       "      <td>...</td>\n",
       "      <td>...</td>\n",
       "      <td>...</td>\n",
       "      <td>...</td>\n",
       "      <td>...</td>\n",
       "      <td>...</td>\n",
       "    </tr>\n",
       "    <tr>\n",
       "      <th>660</th>\n",
       "      <td>1363490</td>\n",
       "      <td>0</td>\n",
       "      <td>15</td>\n",
       "      <td>F</td>\n",
       "      <td>0</td>\n",
       "      <td>1</td>\n",
       "      <td>0.00</td>\n",
       "      <td>0.00</td>\n",
       "      <td>2301.53</td>\n",
       "      <td>2301.53</td>\n",
       "    </tr>\n",
       "    <tr>\n",
       "      <th>661</th>\n",
       "      <td>1363491</td>\n",
       "      <td>0</td>\n",
       "      <td>14</td>\n",
       "      <td>M</td>\n",
       "      <td>0</td>\n",
       "      <td>1</td>\n",
       "      <td>0.00</td>\n",
       "      <td>0.00</td>\n",
       "      <td>17.82</td>\n",
       "      <td>17.82</td>\n",
       "    </tr>\n",
       "    <tr>\n",
       "      <th>662</th>\n",
       "      <td>1363492</td>\n",
       "      <td>142274</td>\n",
       "      <td>54</td>\n",
       "      <td>M</td>\n",
       "      <td>0</td>\n",
       "      <td>3</td>\n",
       "      <td>6869.00</td>\n",
       "      <td>106.14</td>\n",
       "      <td>1116.10</td>\n",
       "      <td>-5646.76</td>\n",
       "    </tr>\n",
       "    <tr>\n",
       "      <th>663</th>\n",
       "      <td>1363493</td>\n",
       "      <td>30068</td>\n",
       "      <td>69</td>\n",
       "      <td>M</td>\n",
       "      <td>0</td>\n",
       "      <td>2</td>\n",
       "      <td>0.00</td>\n",
       "      <td>2053.90</td>\n",
       "      <td>553.61</td>\n",
       "      <td>2607.51</td>\n",
       "    </tr>\n",
       "    <tr>\n",
       "      <th>664</th>\n",
       "      <td>1363495</td>\n",
       "      <td>19639</td>\n",
       "      <td>36</td>\n",
       "      <td>F</td>\n",
       "      <td>3</td>\n",
       "      <td>3</td>\n",
       "      <td>0.00</td>\n",
       "      <td>178.50</td>\n",
       "      <td>2783.16</td>\n",
       "      <td>2961.66</td>\n",
       "    </tr>\n",
       "  </tbody>\n",
       "</table>\n",
       "<p>665 rows × 10 columns</p>\n",
       "</div>"
      ],
      "text/plain": [
       "     cust_id  income  age gender  nbr_children  marital_status  \\\n",
       "0    1362480   50890   33     M              2               2   \n",
       "1    1362484   10053   42     F              0               1   \n",
       "2    1362485   22690   25     F              0               1   \n",
       "3    1362486   10701   76     F              0               3   \n",
       "4    1362487    6605   71     M              0               2   \n",
       "..       ...     ...  ...    ...           ...             ...   \n",
       "660  1363490       0   15     F              0               1   \n",
       "661  1363491       0   14     M              0               1   \n",
       "662  1363492  142274   54     M              0               3   \n",
       "663  1363493   30068   69     M              0               2   \n",
       "664  1363495   19639   36     F              3               3   \n",
       "\n",
       "     credit_balance  checking_balance  savings_balance  total_balance  \n",
       "0             20.00             86.86          1187.97        1254.83  \n",
       "1            369.72             95.32          2122.17        1847.77  \n",
       "2           1100.00             45.49             0.00       -1054.51  \n",
       "3              0.00           3312.27           116.24        3428.51  \n",
       "4           1548.23           1401.21            12.89        -134.13  \n",
       "..              ...               ...              ...            ...  \n",
       "660            0.00              0.00          2301.53        2301.53  \n",
       "661            0.00              0.00            17.82          17.82  \n",
       "662         6869.00            106.14          1116.10       -5646.76  \n",
       "663            0.00           2053.90           553.61        2607.51  \n",
       "664            0.00            178.50          2783.16        2961.66  \n",
       "\n",
       "[665 rows x 10 columns]"
      ]
     },
     "execution_count": 29,
     "metadata": {},
     "output_type": "execute_result"
    }
   ],
   "source": [
    "df_cust_info"
   ]
  },
  {
   "cell_type": "markdown",
   "id": "4cb5ed92-f8b2-4f53-bb0c-84635525d41a",
   "metadata": {},
   "source": [
    "### Transactions analysis"
   ]
  },
  {
   "cell_type": "code",
   "execution_count": 30,
   "id": "b6b99017-c384-4899-ae04-3922650b81ae",
   "metadata": {},
   "outputs": [],
   "source": [
    "df_transactions2 = df_transactions.copy()"
   ]
  },
  {
   "cell_type": "code",
   "execution_count": 31,
   "id": "a21257e8-27b3-41b6-ab94-c50f84e46ccc",
   "metadata": {},
   "outputs": [
    {
     "data": {
      "text/html": [
       "<div>\n",
       "<style scoped>\n",
       "    .dataframe tbody tr th:only-of-type {\n",
       "        vertical-align: middle;\n",
       "    }\n",
       "\n",
       "    .dataframe tbody tr th {\n",
       "        vertical-align: top;\n",
       "    }\n",
       "\n",
       "    .dataframe thead th {\n",
       "        text-align: right;\n",
       "    }\n",
       "</style>\n",
       "<table border=\"1\" class=\"dataframe\">\n",
       "  <thead>\n",
       "    <tr style=\"text-align: right;\">\n",
       "      <th></th>\n",
       "      <th>tran_id</th>\n",
       "      <th>acct_nbr</th>\n",
       "      <th>tran_amt</th>\n",
       "      <th>principal_amt</th>\n",
       "      <th>interest_amt</th>\n",
       "      <th>new_balance</th>\n",
       "      <th>tran_date</th>\n",
       "      <th>tran_time</th>\n",
       "      <th>channel</th>\n",
       "      <th>tran_code</th>\n",
       "    </tr>\n",
       "  </thead>\n",
       "  <tbody>\n",
       "    <tr>\n",
       "      <th>0</th>\n",
       "      <td>27</td>\n",
       "      <td>13625623</td>\n",
       "      <td>0.00</td>\n",
       "      <td>0.00</td>\n",
       "      <td>0.0</td>\n",
       "      <td>3753.34</td>\n",
       "      <td>21.10.1995</td>\n",
       "      <td>121656</td>\n",
       "      <td>A</td>\n",
       "      <td>IQ</td>\n",
       "    </tr>\n",
       "    <tr>\n",
       "      <th>1</th>\n",
       "      <td>97</td>\n",
       "      <td>13628392</td>\n",
       "      <td>0.00</td>\n",
       "      <td>0.00</td>\n",
       "      <td>0.0</td>\n",
       "      <td>254.49</td>\n",
       "      <td>5.2.1995</td>\n",
       "      <td>153053</td>\n",
       "      <td>V</td>\n",
       "      <td>IQ</td>\n",
       "    </tr>\n",
       "    <tr>\n",
       "      <th>2</th>\n",
       "      <td>21</td>\n",
       "      <td>13630842</td>\n",
       "      <td>-97.57</td>\n",
       "      <td>-97.57</td>\n",
       "      <td>0.0</td>\n",
       "      <td>3819.56</td>\n",
       "      <td>23.7.1995</td>\n",
       "      <td>0</td>\n",
       "      <td>P</td>\n",
       "      <td>WD</td>\n",
       "    </tr>\n",
       "  </tbody>\n",
       "</table>\n",
       "</div>"
      ],
      "text/plain": [
       "   tran_id  acct_nbr  tran_amt  principal_amt  interest_amt  new_balance  \\\n",
       "0       27  13625623      0.00           0.00           0.0      3753.34   \n",
       "1       97  13628392      0.00           0.00           0.0       254.49   \n",
       "2       21  13630842    -97.57         -97.57           0.0      3819.56   \n",
       "\n",
       "    tran_date  tran_time channel tran_code  \n",
       "0  21.10.1995     121656      A       IQ    \n",
       "1    5.2.1995     153053      V       IQ    \n",
       "2   23.7.1995          0      P       WD    "
      ]
     },
     "execution_count": 31,
     "metadata": {},
     "output_type": "execute_result"
    }
   ],
   "source": [
    "df_transactions2.head(3)"
   ]
  },
  {
   "cell_type": "code",
   "execution_count": 32,
   "id": "167e8c81-ec47-48f6-83d4-15309b30a756",
   "metadata": {
    "tags": []
   },
   "outputs": [],
   "source": [
    "df_count_transacations = df_transactions2.groupby('acct_nbr').count()['tran_amt'].reset_index()\n",
    "df_count_transacations = df_count_transacations.rename(columns={'tran_amt':'count_tran_amt'})\n",
    "df_count_transacations;"
   ]
  },
  {
   "cell_type": "code",
   "execution_count": 33,
   "id": "70444561-859a-48c2-8005-ffb6c3199649",
   "metadata": {
    "tags": []
   },
   "outputs": [
    {
     "data": {
      "text/html": [
       "<div>\n",
       "<style scoped>\n",
       "    .dataframe tbody tr th:only-of-type {\n",
       "        vertical-align: middle;\n",
       "    }\n",
       "\n",
       "    .dataframe tbody tr th {\n",
       "        vertical-align: top;\n",
       "    }\n",
       "\n",
       "    .dataframe thead th {\n",
       "        text-align: right;\n",
       "    }\n",
       "</style>\n",
       "<table border=\"1\" class=\"dataframe\">\n",
       "  <thead>\n",
       "    <tr style=\"text-align: right;\">\n",
       "      <th></th>\n",
       "      <th>acct_nbr</th>\n",
       "      <th>avg_tran_amt</th>\n",
       "      <th>count_tran_amt</th>\n",
       "    </tr>\n",
       "  </thead>\n",
       "  <tbody>\n",
       "    <tr>\n",
       "      <th>0</th>\n",
       "      <td>13624802</td>\n",
       "      <td>-2.474646</td>\n",
       "      <td>99</td>\n",
       "    </tr>\n",
       "    <tr>\n",
       "      <th>1</th>\n",
       "      <td>13624803</td>\n",
       "      <td>18.550769</td>\n",
       "      <td>26</td>\n",
       "    </tr>\n",
       "    <tr>\n",
       "      <th>2</th>\n",
       "      <td>13624842</td>\n",
       "      <td>-25.435758</td>\n",
       "      <td>99</td>\n",
       "    </tr>\n",
       "    <tr>\n",
       "      <th>3</th>\n",
       "      <td>13624843</td>\n",
       "      <td>58.474545</td>\n",
       "      <td>33</td>\n",
       "    </tr>\n",
       "    <tr>\n",
       "      <th>4</th>\n",
       "      <td>13624852</td>\n",
       "      <td>-1.659495</td>\n",
       "      <td>99</td>\n",
       "    </tr>\n",
       "    <tr>\n",
       "      <th>...</th>\n",
       "      <td>...</td>\n",
       "      <td>...</td>\n",
       "      <td>...</td>\n",
       "    </tr>\n",
       "    <tr>\n",
       "      <th>1393</th>\n",
       "      <td>4561143213634830</td>\n",
       "      <td>0.334805</td>\n",
       "      <td>77</td>\n",
       "    </tr>\n",
       "    <tr>\n",
       "      <th>1394</th>\n",
       "      <td>4561143213634840</td>\n",
       "      <td>12.080513</td>\n",
       "      <td>39</td>\n",
       "    </tr>\n",
       "    <tr>\n",
       "      <th>1395</th>\n",
       "      <td>4561143213634850</td>\n",
       "      <td>139.239565</td>\n",
       "      <td>23</td>\n",
       "    </tr>\n",
       "    <tr>\n",
       "      <th>1396</th>\n",
       "      <td>4561143213634860</td>\n",
       "      <td>0.000000</td>\n",
       "      <td>38</td>\n",
       "    </tr>\n",
       "    <tr>\n",
       "      <th>1397</th>\n",
       "      <td>4561143213634920</td>\n",
       "      <td>-61.280690</td>\n",
       "      <td>29</td>\n",
       "    </tr>\n",
       "  </tbody>\n",
       "</table>\n",
       "<p>1398 rows × 3 columns</p>\n",
       "</div>"
      ],
      "text/plain": [
       "              acct_nbr  avg_tran_amt  count_tran_amt\n",
       "0             13624802     -2.474646              99\n",
       "1             13624803     18.550769              26\n",
       "2             13624842    -25.435758              99\n",
       "3             13624843     58.474545              33\n",
       "4             13624852     -1.659495              99\n",
       "...                ...           ...             ...\n",
       "1393  4561143213634830      0.334805              77\n",
       "1394  4561143213634840     12.080513              39\n",
       "1395  4561143213634850    139.239565              23\n",
       "1396  4561143213634860      0.000000              38\n",
       "1397  4561143213634920    -61.280690              29\n",
       "\n",
       "[1398 rows x 3 columns]"
      ]
     },
     "execution_count": 33,
     "metadata": {},
     "output_type": "execute_result"
    }
   ],
   "source": [
    "df_transacation_stats = df_transactions2.groupby('acct_nbr').mean()['tran_amt'].reset_index()\n",
    "df_transacation_stats = df_transacation_stats.rename(columns={'tran_amt':'avg_tran_amt'})\n",
    "df_transacation_stats['count_tran_amt'] = df_count_transacations['count_tran_amt']\n",
    "df_transacation_stats"
   ]
  },
  {
   "cell_type": "code",
   "execution_count": 34,
   "id": "c502c4a9-1bfb-4b98-aa62-55dac4045a94",
   "metadata": {
    "tags": []
   },
   "outputs": [
    {
     "data": {
      "text/html": [
       "<div>\n",
       "<style scoped>\n",
       "    .dataframe tbody tr th:only-of-type {\n",
       "        vertical-align: middle;\n",
       "    }\n",
       "\n",
       "    .dataframe tbody tr th {\n",
       "        vertical-align: top;\n",
       "    }\n",
       "\n",
       "    .dataframe thead th {\n",
       "        text-align: right;\n",
       "    }\n",
       "</style>\n",
       "<table border=\"1\" class=\"dataframe\">\n",
       "  <thead>\n",
       "    <tr style=\"text-align: right;\">\n",
       "      <th></th>\n",
       "      <th>acct_nbr</th>\n",
       "      <th>cust_id</th>\n",
       "      <th>acct_type</th>\n",
       "      <th>account_active</th>\n",
       "      <th>acct_start_date</th>\n",
       "      <th>acct_end_date</th>\n",
       "      <th>starting_balance</th>\n",
       "      <th>ending_balance</th>\n",
       "    </tr>\n",
       "  </thead>\n",
       "  <tbody>\n",
       "    <tr>\n",
       "      <th>0</th>\n",
       "      <td>13628063</td>\n",
       "      <td>1362806</td>\n",
       "      <td>SV</td>\n",
       "      <td>Y</td>\n",
       "      <td>10.12.1995</td>\n",
       "      <td>NaN</td>\n",
       "      <td>1430.22</td>\n",
       "      <td>284.58</td>\n",
       "    </tr>\n",
       "    <tr>\n",
       "      <th>1</th>\n",
       "      <td>4561143213627090</td>\n",
       "      <td>1362709</td>\n",
       "      <td>CC</td>\n",
       "      <td>Y</td>\n",
       "      <td>15.3.1993</td>\n",
       "      <td>NaN</td>\n",
       "      <td>266.34</td>\n",
       "      <td>496.15</td>\n",
       "    </tr>\n",
       "    <tr>\n",
       "      <th>2</th>\n",
       "      <td>4561143213628360</td>\n",
       "      <td>1362836</td>\n",
       "      <td>CC</td>\n",
       "      <td>Y</td>\n",
       "      <td>18.3.1992</td>\n",
       "      <td>NaN</td>\n",
       "      <td>55.90</td>\n",
       "      <td>1000.00</td>\n",
       "    </tr>\n",
       "    <tr>\n",
       "      <th>3</th>\n",
       "      <td>13633112</td>\n",
       "      <td>1363311</td>\n",
       "      <td>CK</td>\n",
       "      <td>Y</td>\n",
       "      <td>6.7.1995</td>\n",
       "      <td>NaN</td>\n",
       "      <td>11017.13</td>\n",
       "      <td>968.46</td>\n",
       "    </tr>\n",
       "    <tr>\n",
       "      <th>4</th>\n",
       "      <td>4561143213633610</td>\n",
       "      <td>1363361</td>\n",
       "      <td>CC</td>\n",
       "      <td>Y</td>\n",
       "      <td>17.6.1994</td>\n",
       "      <td>NaN</td>\n",
       "      <td>849.37</td>\n",
       "      <td>462.28</td>\n",
       "    </tr>\n",
       "    <tr>\n",
       "      <th>...</th>\n",
       "      <td>...</td>\n",
       "      <td>...</td>\n",
       "      <td>...</td>\n",
       "      <td>...</td>\n",
       "      <td>...</td>\n",
       "      <td>...</td>\n",
       "      <td>...</td>\n",
       "      <td>...</td>\n",
       "    </tr>\n",
       "    <tr>\n",
       "      <th>1404</th>\n",
       "      <td>4561143213625560</td>\n",
       "      <td>1362556</td>\n",
       "      <td>CC</td>\n",
       "      <td>N</td>\n",
       "      <td>20.1.1992</td>\n",
       "      <td>19.8.1995</td>\n",
       "      <td>1433.94</td>\n",
       "      <td>20.00</td>\n",
       "    </tr>\n",
       "    <tr>\n",
       "      <th>1405</th>\n",
       "      <td>4561143213626240</td>\n",
       "      <td>1362624</td>\n",
       "      <td>CC</td>\n",
       "      <td>Y</td>\n",
       "      <td>29.11.1990</td>\n",
       "      <td>NaN</td>\n",
       "      <td>632.75</td>\n",
       "      <td>1400.00</td>\n",
       "    </tr>\n",
       "    <tr>\n",
       "      <th>1406</th>\n",
       "      <td>4561143213628750</td>\n",
       "      <td>1362875</td>\n",
       "      <td>CC</td>\n",
       "      <td>Y</td>\n",
       "      <td>24.2.1989</td>\n",
       "      <td>NaN</td>\n",
       "      <td>2810.91</td>\n",
       "      <td>3000.00</td>\n",
       "    </tr>\n",
       "    <tr>\n",
       "      <th>1407</th>\n",
       "      <td>13626543</td>\n",
       "      <td>1362654</td>\n",
       "      <td>SV</td>\n",
       "      <td>Y</td>\n",
       "      <td>17.10.1992</td>\n",
       "      <td>NaN</td>\n",
       "      <td>784.53</td>\n",
       "      <td>622.46</td>\n",
       "    </tr>\n",
       "    <tr>\n",
       "      <th>1408</th>\n",
       "      <td>13627032</td>\n",
       "      <td>1362703</td>\n",
       "      <td>CK</td>\n",
       "      <td>Y</td>\n",
       "      <td>18.9.1994</td>\n",
       "      <td>NaN</td>\n",
       "      <td>3649.18</td>\n",
       "      <td>107.33</td>\n",
       "    </tr>\n",
       "  </tbody>\n",
       "</table>\n",
       "<p>1409 rows × 8 columns</p>\n",
       "</div>"
      ],
      "text/plain": [
       "              acct_nbr  cust_id acct_type account_active acct_start_date  \\\n",
       "0             13628063  1362806      SV               Y       10.12.1995   \n",
       "1     4561143213627090  1362709      CC               Y        15.3.1993   \n",
       "2     4561143213628360  1362836      CC               Y        18.3.1992   \n",
       "3             13633112  1363311      CK               Y         6.7.1995   \n",
       "4     4561143213633610  1363361      CC               Y        17.6.1994   \n",
       "...                ...      ...       ...            ...             ...   \n",
       "1404  4561143213625560  1362556      CC               N        20.1.1992   \n",
       "1405  4561143213626240  1362624      CC               Y       29.11.1990   \n",
       "1406  4561143213628750  1362875      CC               Y        24.2.1989   \n",
       "1407          13626543  1362654      SV               Y       17.10.1992   \n",
       "1408          13627032  1362703      CK               Y        18.9.1994   \n",
       "\n",
       "     acct_end_date  starting_balance  ending_balance  \n",
       "0              NaN           1430.22          284.58  \n",
       "1              NaN            266.34          496.15  \n",
       "2              NaN             55.90         1000.00  \n",
       "3              NaN          11017.13          968.46  \n",
       "4              NaN            849.37          462.28  \n",
       "...            ...               ...             ...  \n",
       "1404     19.8.1995           1433.94           20.00  \n",
       "1405           NaN            632.75         1400.00  \n",
       "1406           NaN           2810.91         3000.00  \n",
       "1407           NaN            784.53          622.46  \n",
       "1408           NaN           3649.18          107.33  \n",
       "\n",
       "[1409 rows x 8 columns]"
      ]
     },
     "execution_count": 34,
     "metadata": {},
     "output_type": "execute_result"
    }
   ],
   "source": [
    "df_accounts"
   ]
  },
  {
   "cell_type": "code",
   "execution_count": 35,
   "id": "e98822c2-78d7-4cc5-b6dc-1d41df6fb3c1",
   "metadata": {},
   "outputs": [
    {
     "data": {
      "text/html": [
       "<div>\n",
       "<style scoped>\n",
       "    .dataframe tbody tr th:only-of-type {\n",
       "        vertical-align: middle;\n",
       "    }\n",
       "\n",
       "    .dataframe tbody tr th {\n",
       "        vertical-align: top;\n",
       "    }\n",
       "\n",
       "    .dataframe thead th {\n",
       "        text-align: right;\n",
       "    }\n",
       "</style>\n",
       "<table border=\"1\" class=\"dataframe\">\n",
       "  <thead>\n",
       "    <tr style=\"text-align: right;\">\n",
       "      <th></th>\n",
       "      <th>acct_nbr</th>\n",
       "      <th>cust_id</th>\n",
       "      <th>acct_type</th>\n",
       "      <th>avg_tran_amt</th>\n",
       "      <th>count_tran_amt</th>\n",
       "      <th>starting_balance</th>\n",
       "      <th>ending_balance</th>\n",
       "      <th>account_active</th>\n",
       "      <th>acct_start_date</th>\n",
       "      <th>acct_end_date</th>\n",
       "    </tr>\n",
       "  </thead>\n",
       "  <tbody>\n",
       "    <tr>\n",
       "      <th>0</th>\n",
       "      <td>13628063</td>\n",
       "      <td>1362806</td>\n",
       "      <td>SV</td>\n",
       "      <td>-28.641000</td>\n",
       "      <td>40</td>\n",
       "      <td>1430.22</td>\n",
       "      <td>284.58</td>\n",
       "      <td>Y</td>\n",
       "      <td>10.12.1995</td>\n",
       "      <td>NaN</td>\n",
       "    </tr>\n",
       "    <tr>\n",
       "      <th>1</th>\n",
       "      <td>4561143213627090</td>\n",
       "      <td>1362709</td>\n",
       "      <td>CC</td>\n",
       "      <td>-4.110182</td>\n",
       "      <td>55</td>\n",
       "      <td>266.34</td>\n",
       "      <td>496.15</td>\n",
       "      <td>Y</td>\n",
       "      <td>15.3.1993</td>\n",
       "      <td>NaN</td>\n",
       "    </tr>\n",
       "    <tr>\n",
       "      <th>2</th>\n",
       "      <td>4561143213628360</td>\n",
       "      <td>1362836</td>\n",
       "      <td>CC</td>\n",
       "      <td>-19.863659</td>\n",
       "      <td>41</td>\n",
       "      <td>55.90</td>\n",
       "      <td>1000.00</td>\n",
       "      <td>Y</td>\n",
       "      <td>18.3.1992</td>\n",
       "      <td>NaN</td>\n",
       "    </tr>\n",
       "    <tr>\n",
       "      <th>3</th>\n",
       "      <td>13633112</td>\n",
       "      <td>1363311</td>\n",
       "      <td>CK</td>\n",
       "      <td>-101.501717</td>\n",
       "      <td>99</td>\n",
       "      <td>11017.13</td>\n",
       "      <td>968.46</td>\n",
       "      <td>Y</td>\n",
       "      <td>6.7.1995</td>\n",
       "      <td>NaN</td>\n",
       "    </tr>\n",
       "    <tr>\n",
       "      <th>4</th>\n",
       "      <td>4561143213633610</td>\n",
       "      <td>1363361</td>\n",
       "      <td>CC</td>\n",
       "      <td>9.280233</td>\n",
       "      <td>43</td>\n",
       "      <td>849.37</td>\n",
       "      <td>462.28</td>\n",
       "      <td>Y</td>\n",
       "      <td>17.6.1994</td>\n",
       "      <td>NaN</td>\n",
       "    </tr>\n",
       "    <tr>\n",
       "      <th>...</th>\n",
       "      <td>...</td>\n",
       "      <td>...</td>\n",
       "      <td>...</td>\n",
       "      <td>...</td>\n",
       "      <td>...</td>\n",
       "      <td>...</td>\n",
       "      <td>...</td>\n",
       "      <td>...</td>\n",
       "      <td>...</td>\n",
       "      <td>...</td>\n",
       "    </tr>\n",
       "    <tr>\n",
       "      <th>1392</th>\n",
       "      <td>4561143213625560</td>\n",
       "      <td>1362556</td>\n",
       "      <td>CC</td>\n",
       "      <td>38.396190</td>\n",
       "      <td>42</td>\n",
       "      <td>1433.94</td>\n",
       "      <td>20.00</td>\n",
       "      <td>N</td>\n",
       "      <td>20.1.1992</td>\n",
       "      <td>19.8.1995</td>\n",
       "    </tr>\n",
       "    <tr>\n",
       "      <th>1393</th>\n",
       "      <td>4561143213626240</td>\n",
       "      <td>1362624</td>\n",
       "      <td>CC</td>\n",
       "      <td>-14.251837</td>\n",
       "      <td>49</td>\n",
       "      <td>632.75</td>\n",
       "      <td>1400.00</td>\n",
       "      <td>Y</td>\n",
       "      <td>29.11.1990</td>\n",
       "      <td>NaN</td>\n",
       "    </tr>\n",
       "    <tr>\n",
       "      <th>1394</th>\n",
       "      <td>4561143213628750</td>\n",
       "      <td>1362875</td>\n",
       "      <td>CC</td>\n",
       "      <td>5.022105</td>\n",
       "      <td>38</td>\n",
       "      <td>2810.91</td>\n",
       "      <td>3000.00</td>\n",
       "      <td>Y</td>\n",
       "      <td>24.2.1989</td>\n",
       "      <td>NaN</td>\n",
       "    </tr>\n",
       "    <tr>\n",
       "      <th>1395</th>\n",
       "      <td>13626543</td>\n",
       "      <td>1362654</td>\n",
       "      <td>SV</td>\n",
       "      <td>-7.717619</td>\n",
       "      <td>21</td>\n",
       "      <td>784.53</td>\n",
       "      <td>622.46</td>\n",
       "      <td>Y</td>\n",
       "      <td>17.10.1992</td>\n",
       "      <td>NaN</td>\n",
       "    </tr>\n",
       "    <tr>\n",
       "      <th>1396</th>\n",
       "      <td>13627032</td>\n",
       "      <td>1362703</td>\n",
       "      <td>CK</td>\n",
       "      <td>-35.776263</td>\n",
       "      <td>99</td>\n",
       "      <td>3649.18</td>\n",
       "      <td>107.33</td>\n",
       "      <td>Y</td>\n",
       "      <td>18.9.1994</td>\n",
       "      <td>NaN</td>\n",
       "    </tr>\n",
       "  </tbody>\n",
       "</table>\n",
       "<p>1397 rows × 10 columns</p>\n",
       "</div>"
      ],
      "text/plain": [
       "              acct_nbr  cust_id acct_type  avg_tran_amt  count_tran_amt  \\\n",
       "0             13628063  1362806      SV      -28.641000              40   \n",
       "1     4561143213627090  1362709      CC       -4.110182              55   \n",
       "2     4561143213628360  1362836      CC      -19.863659              41   \n",
       "3             13633112  1363311      CK     -101.501717              99   \n",
       "4     4561143213633610  1363361      CC        9.280233              43   \n",
       "...                ...      ...       ...           ...             ...   \n",
       "1392  4561143213625560  1362556      CC       38.396190              42   \n",
       "1393  4561143213626240  1362624      CC      -14.251837              49   \n",
       "1394  4561143213628750  1362875      CC        5.022105              38   \n",
       "1395          13626543  1362654      SV       -7.717619              21   \n",
       "1396          13627032  1362703      CK      -35.776263              99   \n",
       "\n",
       "      starting_balance  ending_balance account_active acct_start_date  \\\n",
       "0              1430.22          284.58             Y       10.12.1995   \n",
       "1               266.34          496.15             Y        15.3.1993   \n",
       "2                55.90         1000.00             Y        18.3.1992   \n",
       "3             11017.13          968.46             Y         6.7.1995   \n",
       "4               849.37          462.28             Y        17.6.1994   \n",
       "...                ...             ...            ...             ...   \n",
       "1392           1433.94           20.00             N        20.1.1992   \n",
       "1393            632.75         1400.00             Y       29.11.1990   \n",
       "1394           2810.91         3000.00             Y        24.2.1989   \n",
       "1395            784.53          622.46             Y       17.10.1992   \n",
       "1396           3649.18          107.33             Y        18.9.1994   \n",
       "\n",
       "     acct_end_date  \n",
       "0              NaN  \n",
       "1              NaN  \n",
       "2              NaN  \n",
       "3              NaN  \n",
       "4              NaN  \n",
       "...            ...  \n",
       "1392     19.8.1995  \n",
       "1393           NaN  \n",
       "1394           NaN  \n",
       "1395           NaN  \n",
       "1396           NaN  \n",
       "\n",
       "[1397 rows x 10 columns]"
      ]
     },
     "execution_count": 35,
     "metadata": {},
     "output_type": "execute_result"
    }
   ],
   "source": [
    "df_account_transaction_summary = pd.merge(df_accounts,df_transacation_stats,on='acct_nbr')[['acct_nbr','cust_id','acct_type','avg_tran_amt','count_tran_amt','starting_balance',\n",
    "                                                                                               'ending_balance','account_active','acct_start_date',\n",
    "                                                                                               'acct_end_date']]\n",
    "df_account_transaction_summary"
   ]
  },
  {
   "cell_type": "code",
   "execution_count": 36,
   "id": "90d2733c-b574-454f-a770-3336260b4291",
   "metadata": {},
   "outputs": [
    {
     "data": {
      "text/html": [
       "<div>\n",
       "<style scoped>\n",
       "    .dataframe tbody tr th:only-of-type {\n",
       "        vertical-align: middle;\n",
       "    }\n",
       "\n",
       "    .dataframe tbody tr th {\n",
       "        vertical-align: top;\n",
       "    }\n",
       "\n",
       "    .dataframe thead th {\n",
       "        text-align: right;\n",
       "    }\n",
       "</style>\n",
       "<table border=\"1\" class=\"dataframe\">\n",
       "  <thead>\n",
       "    <tr style=\"text-align: right;\">\n",
       "      <th></th>\n",
       "      <th>cust_id</th>\n",
       "      <th>income</th>\n",
       "      <th>age</th>\n",
       "      <th>gender</th>\n",
       "      <th>nbr_children</th>\n",
       "      <th>marital_status</th>\n",
       "      <th>acct_nbr</th>\n",
       "      <th>acct_type</th>\n",
       "      <th>acct_end_date</th>\n",
       "      <th>ending_balance</th>\n",
       "      <th>credit_balance</th>\n",
       "      <th>checking_balance</th>\n",
       "      <th>savings_balance</th>\n",
       "      <th>avg_tran_amt</th>\n",
       "      <th>count_tran_amt</th>\n",
       "    </tr>\n",
       "  </thead>\n",
       "  <tbody>\n",
       "    <tr>\n",
       "      <th>0</th>\n",
       "      <td>1362487</td>\n",
       "      <td>6605</td>\n",
       "      <td>71</td>\n",
       "      <td>M</td>\n",
       "      <td>0</td>\n",
       "      <td>2</td>\n",
       "      <td>4561143213624870</td>\n",
       "      <td>CC</td>\n",
       "      <td>NaN</td>\n",
       "      <td>1548.23</td>\n",
       "      <td>1548.23</td>\n",
       "      <td>NaN</td>\n",
       "      <td>NaN</td>\n",
       "      <td>-47.987188</td>\n",
       "      <td>32.0</td>\n",
       "    </tr>\n",
       "    <tr>\n",
       "      <th>1</th>\n",
       "      <td>1362487</td>\n",
       "      <td>6605</td>\n",
       "      <td>71</td>\n",
       "      <td>M</td>\n",
       "      <td>0</td>\n",
       "      <td>2</td>\n",
       "      <td>13624873</td>\n",
       "      <td>SV</td>\n",
       "      <td>25.8.1995</td>\n",
       "      <td>12.89</td>\n",
       "      <td>NaN</td>\n",
       "      <td>NaN</td>\n",
       "      <td>12.89</td>\n",
       "      <td>-33.623158</td>\n",
       "      <td>19.0</td>\n",
       "    </tr>\n",
       "    <tr>\n",
       "      <th>2</th>\n",
       "      <td>1362487</td>\n",
       "      <td>6605</td>\n",
       "      <td>71</td>\n",
       "      <td>M</td>\n",
       "      <td>0</td>\n",
       "      <td>2</td>\n",
       "      <td>13624872</td>\n",
       "      <td>CK</td>\n",
       "      <td>NaN</td>\n",
       "      <td>1401.21</td>\n",
       "      <td>NaN</td>\n",
       "      <td>1401.21</td>\n",
       "      <td>NaN</td>\n",
       "      <td>-26.513269</td>\n",
       "      <td>52.0</td>\n",
       "    </tr>\n",
       "    <tr>\n",
       "      <th>3</th>\n",
       "      <td>1363160</td>\n",
       "      <td>18548</td>\n",
       "      <td>38</td>\n",
       "      <td>F</td>\n",
       "      <td>0</td>\n",
       "      <td>1</td>\n",
       "      <td>4561143213631600</td>\n",
       "      <td>CC</td>\n",
       "      <td>NaN</td>\n",
       "      <td>286.69</td>\n",
       "      <td>286.69</td>\n",
       "      <td>NaN</td>\n",
       "      <td>NaN</td>\n",
       "      <td>5.588676</td>\n",
       "      <td>68.0</td>\n",
       "    </tr>\n",
       "    <tr>\n",
       "      <th>4</th>\n",
       "      <td>1363160</td>\n",
       "      <td>18548</td>\n",
       "      <td>38</td>\n",
       "      <td>F</td>\n",
       "      <td>0</td>\n",
       "      <td>1</td>\n",
       "      <td>13631603</td>\n",
       "      <td>SV</td>\n",
       "      <td>NaN</td>\n",
       "      <td>122.54</td>\n",
       "      <td>NaN</td>\n",
       "      <td>NaN</td>\n",
       "      <td>122.54</td>\n",
       "      <td>0.197917</td>\n",
       "      <td>48.0</td>\n",
       "    </tr>\n",
       "    <tr>\n",
       "      <th>...</th>\n",
       "      <td>...</td>\n",
       "      <td>...</td>\n",
       "      <td>...</td>\n",
       "      <td>...</td>\n",
       "      <td>...</td>\n",
       "      <td>...</td>\n",
       "      <td>...</td>\n",
       "      <td>...</td>\n",
       "      <td>...</td>\n",
       "      <td>...</td>\n",
       "      <td>...</td>\n",
       "      <td>...</td>\n",
       "      <td>...</td>\n",
       "      <td>...</td>\n",
       "      <td>...</td>\n",
       "    </tr>\n",
       "    <tr>\n",
       "      <th>1404</th>\n",
       "      <td>1362569</td>\n",
       "      <td>61300</td>\n",
       "      <td>50</td>\n",
       "      <td>M</td>\n",
       "      <td>2</td>\n",
       "      <td>2</td>\n",
       "      <td>4561143213625690</td>\n",
       "      <td>CC</td>\n",
       "      <td>NaN</td>\n",
       "      <td>9200.00</td>\n",
       "      <td>9200.00</td>\n",
       "      <td>NaN</td>\n",
       "      <td>NaN</td>\n",
       "      <td>-328.571429</td>\n",
       "      <td>28.0</td>\n",
       "    </tr>\n",
       "    <tr>\n",
       "      <th>1405</th>\n",
       "      <td>1363364</td>\n",
       "      <td>15100</td>\n",
       "      <td>37</td>\n",
       "      <td>F</td>\n",
       "      <td>0</td>\n",
       "      <td>2</td>\n",
       "      <td>13633642</td>\n",
       "      <td>CK</td>\n",
       "      <td>NaN</td>\n",
       "      <td>296.28</td>\n",
       "      <td>NaN</td>\n",
       "      <td>296.28</td>\n",
       "      <td>NaN</td>\n",
       "      <td>-10.008081</td>\n",
       "      <td>99.0</td>\n",
       "    </tr>\n",
       "    <tr>\n",
       "      <th>1406</th>\n",
       "      <td>1363364</td>\n",
       "      <td>15100</td>\n",
       "      <td>37</td>\n",
       "      <td>F</td>\n",
       "      <td>0</td>\n",
       "      <td>2</td>\n",
       "      <td>4561143213633640</td>\n",
       "      <td>CC</td>\n",
       "      <td>23.7.1995</td>\n",
       "      <td>1785.97</td>\n",
       "      <td>1785.97</td>\n",
       "      <td>NaN</td>\n",
       "      <td>NaN</td>\n",
       "      <td>0.247333</td>\n",
       "      <td>75.0</td>\n",
       "    </tr>\n",
       "    <tr>\n",
       "      <th>1407</th>\n",
       "      <td>1363303</td>\n",
       "      <td>17875</td>\n",
       "      <td>18</td>\n",
       "      <td>F</td>\n",
       "      <td>0</td>\n",
       "      <td>1</td>\n",
       "      <td>13633032</td>\n",
       "      <td>CK</td>\n",
       "      <td>NaN</td>\n",
       "      <td>39.22</td>\n",
       "      <td>NaN</td>\n",
       "      <td>39.22</td>\n",
       "      <td>NaN</td>\n",
       "      <td>-27.777677</td>\n",
       "      <td>99.0</td>\n",
       "    </tr>\n",
       "    <tr>\n",
       "      <th>1408</th>\n",
       "      <td>1363303</td>\n",
       "      <td>17875</td>\n",
       "      <td>18</td>\n",
       "      <td>F</td>\n",
       "      <td>0</td>\n",
       "      <td>1</td>\n",
       "      <td>4561143213633030</td>\n",
       "      <td>CC</td>\n",
       "      <td>NaN</td>\n",
       "      <td>1000.00</td>\n",
       "      <td>1000.00</td>\n",
       "      <td>NaN</td>\n",
       "      <td>NaN</td>\n",
       "      <td>-16.393443</td>\n",
       "      <td>61.0</td>\n",
       "    </tr>\n",
       "  </tbody>\n",
       "</table>\n",
       "<p>1409 rows × 15 columns</p>\n",
       "</div>"
      ],
      "text/plain": [
       "      cust_id  income  age gender  nbr_children  marital_status  \\\n",
       "0     1362487    6605   71     M              0               2   \n",
       "1     1362487    6605   71     M              0               2   \n",
       "2     1362487    6605   71     M              0               2   \n",
       "3     1363160   18548   38     F              0               1   \n",
       "4     1363160   18548   38     F              0               1   \n",
       "...       ...     ...  ...    ...           ...             ...   \n",
       "1404  1362569   61300   50     M              2               2   \n",
       "1405  1363364   15100   37     F              0               2   \n",
       "1406  1363364   15100   37     F              0               2   \n",
       "1407  1363303   17875   18     F              0               1   \n",
       "1408  1363303   17875   18     F              0               1   \n",
       "\n",
       "              acct_nbr acct_type acct_end_date  ending_balance  \\\n",
       "0     4561143213624870      CC             NaN         1548.23   \n",
       "1             13624873      SV       25.8.1995           12.89   \n",
       "2             13624872      CK             NaN         1401.21   \n",
       "3     4561143213631600      CC             NaN          286.69   \n",
       "4             13631603      SV             NaN          122.54   \n",
       "...                ...       ...           ...             ...   \n",
       "1404  4561143213625690      CC             NaN         9200.00   \n",
       "1405          13633642      CK             NaN          296.28   \n",
       "1406  4561143213633640      CC       23.7.1995         1785.97   \n",
       "1407          13633032      CK             NaN           39.22   \n",
       "1408  4561143213633030      CC             NaN         1000.00   \n",
       "\n",
       "      credit_balance  checking_balance  savings_balance  avg_tran_amt  \\\n",
       "0            1548.23               NaN              NaN    -47.987188   \n",
       "1                NaN               NaN            12.89    -33.623158   \n",
       "2                NaN           1401.21              NaN    -26.513269   \n",
       "3             286.69               NaN              NaN      5.588676   \n",
       "4                NaN               NaN           122.54      0.197917   \n",
       "...              ...               ...              ...           ...   \n",
       "1404         9200.00               NaN              NaN   -328.571429   \n",
       "1405             NaN            296.28              NaN    -10.008081   \n",
       "1406         1785.97               NaN              NaN      0.247333   \n",
       "1407             NaN             39.22              NaN    -27.777677   \n",
       "1408         1000.00               NaN              NaN    -16.393443   \n",
       "\n",
       "      count_tran_amt  \n",
       "0               32.0  \n",
       "1               19.0  \n",
       "2               52.0  \n",
       "3               68.0  \n",
       "4               48.0  \n",
       "...              ...  \n",
       "1404            28.0  \n",
       "1405            99.0  \n",
       "1406            75.0  \n",
       "1407            99.0  \n",
       "1408            61.0  \n",
       "\n",
       "[1409 rows x 15 columns]"
      ]
     },
     "execution_count": 36,
     "metadata": {},
     "output_type": "execute_result"
    }
   ],
   "source": [
    "df_cust_accounts2 = pd.merge(df_cust_accounts, df_transacation_stats,how = 'left')\n",
    "df_cust_accounts2"
   ]
  },
  {
   "cell_type": "code",
   "execution_count": 37,
   "id": "3fe74ca9-1c83-4c22-96c3-da7ccffdcbcd",
   "metadata": {},
   "outputs": [
    {
     "data": {
      "text/html": [
       "<div>\n",
       "<style scoped>\n",
       "    .dataframe tbody tr th:only-of-type {\n",
       "        vertical-align: middle;\n",
       "    }\n",
       "\n",
       "    .dataframe tbody tr th {\n",
       "        vertical-align: top;\n",
       "    }\n",
       "\n",
       "    .dataframe thead th {\n",
       "        text-align: right;\n",
       "    }\n",
       "</style>\n",
       "<table border=\"1\" class=\"dataframe\">\n",
       "  <thead>\n",
       "    <tr style=\"text-align: right;\">\n",
       "      <th></th>\n",
       "      <th>cust_id</th>\n",
       "      <th>income</th>\n",
       "      <th>age</th>\n",
       "      <th>gender</th>\n",
       "      <th>nbr_children</th>\n",
       "      <th>marital_status</th>\n",
       "      <th>acct_nbr</th>\n",
       "      <th>acct_type</th>\n",
       "      <th>acct_end_date</th>\n",
       "      <th>ending_balance</th>\n",
       "      <th>...</th>\n",
       "      <th>checking_balance</th>\n",
       "      <th>savings_balance</th>\n",
       "      <th>avg_tran_amt</th>\n",
       "      <th>count_tran_amt</th>\n",
       "      <th>avg_savings_tran_amt</th>\n",
       "      <th>avg_checking_tran_amt</th>\n",
       "      <th>avg_credit_tran_amt</th>\n",
       "      <th>cnt_savings_tran</th>\n",
       "      <th>cnt_checking_tran</th>\n",
       "      <th>cnt_credit_tran</th>\n",
       "    </tr>\n",
       "  </thead>\n",
       "  <tbody>\n",
       "    <tr>\n",
       "      <th>0</th>\n",
       "      <td>1362487</td>\n",
       "      <td>6605</td>\n",
       "      <td>71</td>\n",
       "      <td>M</td>\n",
       "      <td>0</td>\n",
       "      <td>2</td>\n",
       "      <td>4561143213624870</td>\n",
       "      <td>CC</td>\n",
       "      <td>NaN</td>\n",
       "      <td>1548.23</td>\n",
       "      <td>...</td>\n",
       "      <td>NaN</td>\n",
       "      <td>NaN</td>\n",
       "      <td>-47.987188</td>\n",
       "      <td>32.0</td>\n",
       "      <td>NaN</td>\n",
       "      <td>NaN</td>\n",
       "      <td>-47.987188</td>\n",
       "      <td>NaN</td>\n",
       "      <td>NaN</td>\n",
       "      <td>32.0</td>\n",
       "    </tr>\n",
       "    <tr>\n",
       "      <th>1</th>\n",
       "      <td>1362487</td>\n",
       "      <td>6605</td>\n",
       "      <td>71</td>\n",
       "      <td>M</td>\n",
       "      <td>0</td>\n",
       "      <td>2</td>\n",
       "      <td>13624873</td>\n",
       "      <td>SV</td>\n",
       "      <td>25.8.1995</td>\n",
       "      <td>12.89</td>\n",
       "      <td>...</td>\n",
       "      <td>NaN</td>\n",
       "      <td>12.89</td>\n",
       "      <td>-33.623158</td>\n",
       "      <td>19.0</td>\n",
       "      <td>-33.623158</td>\n",
       "      <td>NaN</td>\n",
       "      <td>NaN</td>\n",
       "      <td>19.0</td>\n",
       "      <td>NaN</td>\n",
       "      <td>NaN</td>\n",
       "    </tr>\n",
       "    <tr>\n",
       "      <th>2</th>\n",
       "      <td>1362487</td>\n",
       "      <td>6605</td>\n",
       "      <td>71</td>\n",
       "      <td>M</td>\n",
       "      <td>0</td>\n",
       "      <td>2</td>\n",
       "      <td>13624872</td>\n",
       "      <td>CK</td>\n",
       "      <td>NaN</td>\n",
       "      <td>1401.21</td>\n",
       "      <td>...</td>\n",
       "      <td>1401.21</td>\n",
       "      <td>NaN</td>\n",
       "      <td>-26.513269</td>\n",
       "      <td>52.0</td>\n",
       "      <td>NaN</td>\n",
       "      <td>-26.513269</td>\n",
       "      <td>NaN</td>\n",
       "      <td>NaN</td>\n",
       "      <td>52.0</td>\n",
       "      <td>NaN</td>\n",
       "    </tr>\n",
       "    <tr>\n",
       "      <th>3</th>\n",
       "      <td>1363160</td>\n",
       "      <td>18548</td>\n",
       "      <td>38</td>\n",
       "      <td>F</td>\n",
       "      <td>0</td>\n",
       "      <td>1</td>\n",
       "      <td>4561143213631600</td>\n",
       "      <td>CC</td>\n",
       "      <td>NaN</td>\n",
       "      <td>286.69</td>\n",
       "      <td>...</td>\n",
       "      <td>NaN</td>\n",
       "      <td>NaN</td>\n",
       "      <td>5.588676</td>\n",
       "      <td>68.0</td>\n",
       "      <td>NaN</td>\n",
       "      <td>NaN</td>\n",
       "      <td>5.588676</td>\n",
       "      <td>NaN</td>\n",
       "      <td>NaN</td>\n",
       "      <td>68.0</td>\n",
       "    </tr>\n",
       "    <tr>\n",
       "      <th>4</th>\n",
       "      <td>1363160</td>\n",
       "      <td>18548</td>\n",
       "      <td>38</td>\n",
       "      <td>F</td>\n",
       "      <td>0</td>\n",
       "      <td>1</td>\n",
       "      <td>13631603</td>\n",
       "      <td>SV</td>\n",
       "      <td>NaN</td>\n",
       "      <td>122.54</td>\n",
       "      <td>...</td>\n",
       "      <td>NaN</td>\n",
       "      <td>122.54</td>\n",
       "      <td>0.197917</td>\n",
       "      <td>48.0</td>\n",
       "      <td>0.197917</td>\n",
       "      <td>NaN</td>\n",
       "      <td>NaN</td>\n",
       "      <td>48.0</td>\n",
       "      <td>NaN</td>\n",
       "      <td>NaN</td>\n",
       "    </tr>\n",
       "    <tr>\n",
       "      <th>...</th>\n",
       "      <td>...</td>\n",
       "      <td>...</td>\n",
       "      <td>...</td>\n",
       "      <td>...</td>\n",
       "      <td>...</td>\n",
       "      <td>...</td>\n",
       "      <td>...</td>\n",
       "      <td>...</td>\n",
       "      <td>...</td>\n",
       "      <td>...</td>\n",
       "      <td>...</td>\n",
       "      <td>...</td>\n",
       "      <td>...</td>\n",
       "      <td>...</td>\n",
       "      <td>...</td>\n",
       "      <td>...</td>\n",
       "      <td>...</td>\n",
       "      <td>...</td>\n",
       "      <td>...</td>\n",
       "      <td>...</td>\n",
       "      <td>...</td>\n",
       "    </tr>\n",
       "    <tr>\n",
       "      <th>1404</th>\n",
       "      <td>1362569</td>\n",
       "      <td>61300</td>\n",
       "      <td>50</td>\n",
       "      <td>M</td>\n",
       "      <td>2</td>\n",
       "      <td>2</td>\n",
       "      <td>4561143213625690</td>\n",
       "      <td>CC</td>\n",
       "      <td>NaN</td>\n",
       "      <td>9200.00</td>\n",
       "      <td>...</td>\n",
       "      <td>NaN</td>\n",
       "      <td>NaN</td>\n",
       "      <td>-328.571429</td>\n",
       "      <td>28.0</td>\n",
       "      <td>NaN</td>\n",
       "      <td>NaN</td>\n",
       "      <td>-328.571429</td>\n",
       "      <td>NaN</td>\n",
       "      <td>NaN</td>\n",
       "      <td>28.0</td>\n",
       "    </tr>\n",
       "    <tr>\n",
       "      <th>1405</th>\n",
       "      <td>1363364</td>\n",
       "      <td>15100</td>\n",
       "      <td>37</td>\n",
       "      <td>F</td>\n",
       "      <td>0</td>\n",
       "      <td>2</td>\n",
       "      <td>13633642</td>\n",
       "      <td>CK</td>\n",
       "      <td>NaN</td>\n",
       "      <td>296.28</td>\n",
       "      <td>...</td>\n",
       "      <td>296.28</td>\n",
       "      <td>NaN</td>\n",
       "      <td>-10.008081</td>\n",
       "      <td>99.0</td>\n",
       "      <td>NaN</td>\n",
       "      <td>-10.008081</td>\n",
       "      <td>NaN</td>\n",
       "      <td>NaN</td>\n",
       "      <td>99.0</td>\n",
       "      <td>NaN</td>\n",
       "    </tr>\n",
       "    <tr>\n",
       "      <th>1406</th>\n",
       "      <td>1363364</td>\n",
       "      <td>15100</td>\n",
       "      <td>37</td>\n",
       "      <td>F</td>\n",
       "      <td>0</td>\n",
       "      <td>2</td>\n",
       "      <td>4561143213633640</td>\n",
       "      <td>CC</td>\n",
       "      <td>23.7.1995</td>\n",
       "      <td>1785.97</td>\n",
       "      <td>...</td>\n",
       "      <td>NaN</td>\n",
       "      <td>NaN</td>\n",
       "      <td>0.247333</td>\n",
       "      <td>75.0</td>\n",
       "      <td>NaN</td>\n",
       "      <td>NaN</td>\n",
       "      <td>0.247333</td>\n",
       "      <td>NaN</td>\n",
       "      <td>NaN</td>\n",
       "      <td>75.0</td>\n",
       "    </tr>\n",
       "    <tr>\n",
       "      <th>1407</th>\n",
       "      <td>1363303</td>\n",
       "      <td>17875</td>\n",
       "      <td>18</td>\n",
       "      <td>F</td>\n",
       "      <td>0</td>\n",
       "      <td>1</td>\n",
       "      <td>13633032</td>\n",
       "      <td>CK</td>\n",
       "      <td>NaN</td>\n",
       "      <td>39.22</td>\n",
       "      <td>...</td>\n",
       "      <td>39.22</td>\n",
       "      <td>NaN</td>\n",
       "      <td>-27.777677</td>\n",
       "      <td>99.0</td>\n",
       "      <td>NaN</td>\n",
       "      <td>-27.777677</td>\n",
       "      <td>NaN</td>\n",
       "      <td>NaN</td>\n",
       "      <td>99.0</td>\n",
       "      <td>NaN</td>\n",
       "    </tr>\n",
       "    <tr>\n",
       "      <th>1408</th>\n",
       "      <td>1363303</td>\n",
       "      <td>17875</td>\n",
       "      <td>18</td>\n",
       "      <td>F</td>\n",
       "      <td>0</td>\n",
       "      <td>1</td>\n",
       "      <td>4561143213633030</td>\n",
       "      <td>CC</td>\n",
       "      <td>NaN</td>\n",
       "      <td>1000.00</td>\n",
       "      <td>...</td>\n",
       "      <td>NaN</td>\n",
       "      <td>NaN</td>\n",
       "      <td>-16.393443</td>\n",
       "      <td>61.0</td>\n",
       "      <td>NaN</td>\n",
       "      <td>NaN</td>\n",
       "      <td>-16.393443</td>\n",
       "      <td>NaN</td>\n",
       "      <td>NaN</td>\n",
       "      <td>61.0</td>\n",
       "    </tr>\n",
       "  </tbody>\n",
       "</table>\n",
       "<p>1409 rows × 21 columns</p>\n",
       "</div>"
      ],
      "text/plain": [
       "      cust_id  income  age gender  nbr_children  marital_status  \\\n",
       "0     1362487    6605   71     M              0               2   \n",
       "1     1362487    6605   71     M              0               2   \n",
       "2     1362487    6605   71     M              0               2   \n",
       "3     1363160   18548   38     F              0               1   \n",
       "4     1363160   18548   38     F              0               1   \n",
       "...       ...     ...  ...    ...           ...             ...   \n",
       "1404  1362569   61300   50     M              2               2   \n",
       "1405  1363364   15100   37     F              0               2   \n",
       "1406  1363364   15100   37     F              0               2   \n",
       "1407  1363303   17875   18     F              0               1   \n",
       "1408  1363303   17875   18     F              0               1   \n",
       "\n",
       "              acct_nbr acct_type acct_end_date  ending_balance  ...  \\\n",
       "0     4561143213624870      CC             NaN         1548.23  ...   \n",
       "1             13624873      SV       25.8.1995           12.89  ...   \n",
       "2             13624872      CK             NaN         1401.21  ...   \n",
       "3     4561143213631600      CC             NaN          286.69  ...   \n",
       "4             13631603      SV             NaN          122.54  ...   \n",
       "...                ...       ...           ...             ...  ...   \n",
       "1404  4561143213625690      CC             NaN         9200.00  ...   \n",
       "1405          13633642      CK             NaN          296.28  ...   \n",
       "1406  4561143213633640      CC       23.7.1995         1785.97  ...   \n",
       "1407          13633032      CK             NaN           39.22  ...   \n",
       "1408  4561143213633030      CC             NaN         1000.00  ...   \n",
       "\n",
       "      checking_balance  savings_balance  avg_tran_amt  count_tran_amt  \\\n",
       "0                  NaN              NaN    -47.987188            32.0   \n",
       "1                  NaN            12.89    -33.623158            19.0   \n",
       "2              1401.21              NaN    -26.513269            52.0   \n",
       "3                  NaN              NaN      5.588676            68.0   \n",
       "4                  NaN           122.54      0.197917            48.0   \n",
       "...                ...              ...           ...             ...   \n",
       "1404               NaN              NaN   -328.571429            28.0   \n",
       "1405            296.28              NaN    -10.008081            99.0   \n",
       "1406               NaN              NaN      0.247333            75.0   \n",
       "1407             39.22              NaN    -27.777677            99.0   \n",
       "1408               NaN              NaN    -16.393443            61.0   \n",
       "\n",
       "      avg_savings_tran_amt  avg_checking_tran_amt  avg_credit_tran_amt  \\\n",
       "0                      NaN                    NaN           -47.987188   \n",
       "1               -33.623158                    NaN                  NaN   \n",
       "2                      NaN             -26.513269                  NaN   \n",
       "3                      NaN                    NaN             5.588676   \n",
       "4                 0.197917                    NaN                  NaN   \n",
       "...                    ...                    ...                  ...   \n",
       "1404                   NaN                    NaN          -328.571429   \n",
       "1405                   NaN             -10.008081                  NaN   \n",
       "1406                   NaN                    NaN             0.247333   \n",
       "1407                   NaN             -27.777677                  NaN   \n",
       "1408                   NaN                    NaN           -16.393443   \n",
       "\n",
       "      cnt_savings_tran  cnt_checking_tran  cnt_credit_tran  \n",
       "0                  NaN                NaN             32.0  \n",
       "1                 19.0                NaN              NaN  \n",
       "2                  NaN               52.0              NaN  \n",
       "3                  NaN                NaN             68.0  \n",
       "4                 48.0                NaN              NaN  \n",
       "...                ...                ...              ...  \n",
       "1404               NaN                NaN             28.0  \n",
       "1405               NaN               99.0              NaN  \n",
       "1406               NaN                NaN             75.0  \n",
       "1407               NaN               99.0              NaN  \n",
       "1408               NaN                NaN             61.0  \n",
       "\n",
       "[1409 rows x 21 columns]"
      ]
     },
     "execution_count": 37,
     "metadata": {},
     "output_type": "execute_result"
    }
   ],
   "source": [
    "df_cust_accounts2['avg_savings_tran_amt'] = df_cust_accounts2['avg_tran_amt'][df_cust_accounts2['acct_type']=='SV  ']\n",
    "df_cust_accounts2['avg_checking_tran_amt'] = df_cust_accounts2['avg_tran_amt'][df_cust_accounts2['acct_type']=='CK  ']\n",
    "df_cust_accounts2['avg_credit_tran_amt'] = df_cust_accounts2['avg_tran_amt'][df_cust_accounts2['acct_type']=='CC  ']\n",
    "df_cust_accounts2['cnt_savings_tran'] = df_cust_accounts2['count_tran_amt'][df_cust_accounts2['acct_type']=='SV  ']\n",
    "df_cust_accounts2['cnt_checking_tran'] = df_cust_accounts2['count_tran_amt'][df_cust_accounts2['acct_type']=='CK  ']\n",
    "df_cust_accounts2['cnt_credit_tran'] = df_cust_accounts2['count_tran_amt'][df_cust_accounts2['acct_type']=='CC  ']\n",
    "df_cust_accounts2"
   ]
  },
  {
   "cell_type": "code",
   "execution_count": 38,
   "id": "10d44501-5373-4372-a377-cefe81bcd47c",
   "metadata": {},
   "outputs": [
    {
     "data": {
      "text/html": [
       "<div>\n",
       "<style scoped>\n",
       "    .dataframe tbody tr th:only-of-type {\n",
       "        vertical-align: middle;\n",
       "    }\n",
       "\n",
       "    .dataframe tbody tr th {\n",
       "        vertical-align: top;\n",
       "    }\n",
       "\n",
       "    .dataframe thead th {\n",
       "        text-align: right;\n",
       "    }\n",
       "</style>\n",
       "<table border=\"1\" class=\"dataframe\">\n",
       "  <thead>\n",
       "    <tr style=\"text-align: right;\">\n",
       "      <th></th>\n",
       "      <th>cust_id</th>\n",
       "      <th>income</th>\n",
       "      <th>age</th>\n",
       "      <th>gender</th>\n",
       "      <th>nbr_children</th>\n",
       "      <th>marital_status</th>\n",
       "      <th>credit_balance</th>\n",
       "      <th>checking_balance</th>\n",
       "      <th>savings_balance</th>\n",
       "      <th>total_balance</th>\n",
       "    </tr>\n",
       "  </thead>\n",
       "  <tbody>\n",
       "    <tr>\n",
       "      <th>0</th>\n",
       "      <td>1362480</td>\n",
       "      <td>50890</td>\n",
       "      <td>33</td>\n",
       "      <td>M</td>\n",
       "      <td>2</td>\n",
       "      <td>2</td>\n",
       "      <td>20.00</td>\n",
       "      <td>86.86</td>\n",
       "      <td>1187.97</td>\n",
       "      <td>1254.83</td>\n",
       "    </tr>\n",
       "    <tr>\n",
       "      <th>1</th>\n",
       "      <td>1362484</td>\n",
       "      <td>10053</td>\n",
       "      <td>42</td>\n",
       "      <td>F</td>\n",
       "      <td>0</td>\n",
       "      <td>1</td>\n",
       "      <td>369.72</td>\n",
       "      <td>95.32</td>\n",
       "      <td>2122.17</td>\n",
       "      <td>1847.77</td>\n",
       "    </tr>\n",
       "    <tr>\n",
       "      <th>2</th>\n",
       "      <td>1362485</td>\n",
       "      <td>22690</td>\n",
       "      <td>25</td>\n",
       "      <td>F</td>\n",
       "      <td>0</td>\n",
       "      <td>1</td>\n",
       "      <td>1100.00</td>\n",
       "      <td>45.49</td>\n",
       "      <td>0.00</td>\n",
       "      <td>-1054.51</td>\n",
       "    </tr>\n",
       "  </tbody>\n",
       "</table>\n",
       "</div>"
      ],
      "text/plain": [
       "   cust_id  income  age gender  nbr_children  marital_status  credit_balance  \\\n",
       "0  1362480   50890   33     M              2               2           20.00   \n",
       "1  1362484   10053   42     F              0               1          369.72   \n",
       "2  1362485   22690   25     F              0               1         1100.00   \n",
       "\n",
       "   checking_balance  savings_balance  total_balance  \n",
       "0             86.86          1187.97        1254.83  \n",
       "1             95.32          2122.17        1847.77  \n",
       "2             45.49             0.00       -1054.51  "
      ]
     },
     "execution_count": 38,
     "metadata": {},
     "output_type": "execute_result"
    }
   ],
   "source": [
    "df_cust_info2 = df_cust_info.copy()\n",
    "df_cust_info2.head(3)"
   ]
  },
  {
   "cell_type": "code",
   "execution_count": 39,
   "id": "4600151a-278c-48ef-a63b-3b0ab419c7b3",
   "metadata": {},
   "outputs": [
    {
     "data": {
      "text/plain": [
       "Index(['cust_id', 'income', 'age', 'gender', 'nbr_children', 'marital_status',\n",
       "       'acct_nbr', 'acct_type', 'acct_end_date', 'ending_balance',\n",
       "       'credit_balance', 'checking_balance', 'savings_balance', 'avg_tran_amt',\n",
       "       'count_tran_amt', 'avg_savings_tran_amt', 'avg_checking_tran_amt',\n",
       "       'avg_credit_tran_amt', 'cnt_savings_tran', 'cnt_checking_tran',\n",
       "       'cnt_credit_tran'],\n",
       "      dtype='object')"
      ]
     },
     "execution_count": 39,
     "metadata": {},
     "output_type": "execute_result"
    }
   ],
   "source": [
    "df_cust_accounts2.columns"
   ]
  },
  {
   "cell_type": "code",
   "execution_count": 40,
   "id": "2d79159c-da7e-4bdc-aa2d-ea95e602eb05",
   "metadata": {},
   "outputs": [
    {
     "data": {
      "text/html": [
       "<div>\n",
       "<style scoped>\n",
       "    .dataframe tbody tr th:only-of-type {\n",
       "        vertical-align: middle;\n",
       "    }\n",
       "\n",
       "    .dataframe tbody tr th {\n",
       "        vertical-align: top;\n",
       "    }\n",
       "\n",
       "    .dataframe thead th {\n",
       "        text-align: right;\n",
       "    }\n",
       "</style>\n",
       "<table border=\"1\" class=\"dataframe\">\n",
       "  <thead>\n",
       "    <tr style=\"text-align: right;\">\n",
       "      <th></th>\n",
       "      <th>cust_id</th>\n",
       "      <th>income</th>\n",
       "      <th>age</th>\n",
       "      <th>gender</th>\n",
       "      <th>nbr_children</th>\n",
       "      <th>marital_status</th>\n",
       "      <th>credit_balance</th>\n",
       "      <th>checking_balance</th>\n",
       "      <th>savings_balance</th>\n",
       "      <th>avg_tran_amt</th>\n",
       "      <th>count_tran_amt</th>\n",
       "      <th>avg_savings_tran_amt</th>\n",
       "      <th>avg_checking_tran_amt</th>\n",
       "      <th>avg_credit_tran_amt</th>\n",
       "      <th>cnt_savings_tran</th>\n",
       "      <th>cnt_checking_tran</th>\n",
       "      <th>cnt_credit_tran</th>\n",
       "    </tr>\n",
       "  </thead>\n",
       "  <tbody>\n",
       "    <tr>\n",
       "      <th>0</th>\n",
       "      <td>1362480</td>\n",
       "      <td>50890</td>\n",
       "      <td>33</td>\n",
       "      <td>M</td>\n",
       "      <td>2</td>\n",
       "      <td>2</td>\n",
       "      <td>20.00</td>\n",
       "      <td>86.86</td>\n",
       "      <td>1187.97</td>\n",
       "      <td>76.971748</td>\n",
       "      <td>157.0</td>\n",
       "      <td>18.550769</td>\n",
       "      <td>-2.474646</td>\n",
       "      <td>60.895625</td>\n",
       "      <td>26.0</td>\n",
       "      <td>99.0</td>\n",
       "      <td>32.0</td>\n",
       "    </tr>\n",
       "    <tr>\n",
       "      <th>1</th>\n",
       "      <td>1362484</td>\n",
       "      <td>10053</td>\n",
       "      <td>42</td>\n",
       "      <td>F</td>\n",
       "      <td>0</td>\n",
       "      <td>1</td>\n",
       "      <td>369.72</td>\n",
       "      <td>95.32</td>\n",
       "      <td>2122.17</td>\n",
       "      <td>49.836424</td>\n",
       "      <td>187.0</td>\n",
       "      <td>58.474545</td>\n",
       "      <td>-25.435758</td>\n",
       "      <td>16.797636</td>\n",
       "      <td>33.0</td>\n",
       "      <td>99.0</td>\n",
       "      <td>55.0</td>\n",
       "    </tr>\n",
       "  </tbody>\n",
       "</table>\n",
       "</div>"
      ],
      "text/plain": [
       "   cust_id  income  age gender  nbr_children  marital_status  credit_balance  \\\n",
       "0  1362480   50890   33     M              2               2           20.00   \n",
       "1  1362484   10053   42     F              0               1          369.72   \n",
       "\n",
       "   checking_balance  savings_balance  avg_tran_amt  count_tran_amt  \\\n",
       "0             86.86          1187.97     76.971748           157.0   \n",
       "1             95.32          2122.17     49.836424           187.0   \n",
       "\n",
       "   avg_savings_tran_amt  avg_checking_tran_amt  avg_credit_tran_amt  \\\n",
       "0             18.550769              -2.474646            60.895625   \n",
       "1             58.474545             -25.435758            16.797636   \n",
       "\n",
       "   cnt_savings_tran  cnt_checking_tran  cnt_credit_tran  \n",
       "0              26.0               99.0             32.0  \n",
       "1              33.0               99.0             55.0  "
      ]
     },
     "execution_count": 40,
     "metadata": {},
     "output_type": "execute_result"
    }
   ],
   "source": [
    "df_cust_info2 = df_cust_accounts2.loc[:,~df_cust_accounts2.columns.isin(['acct_nbr','ending_balance','acct_end_date','acct_type'])]\n",
    "df_cust_info2 = df_cust_info2.groupby(['cust_id','income','age','gender','nbr_children','marital_status']).sum().reset_index()\n",
    "df_cust_info2.head(2)"
   ]
  },
  {
   "cell_type": "markdown",
   "id": "58de094a-e89b-47b6-aec1-fc6e17124629",
   "metadata": {},
   "source": [
    "### Demographic clustering"
   ]
  },
  {
   "cell_type": "code",
   "execution_count": 67,
   "id": "7104834a-3e8f-4153-8fa5-72d435bbdb04",
   "metadata": {},
   "outputs": [],
   "source": [
    "segmentation_cols = ['income', 'age','years_with_bank','nbr_children','marital_status','gender']"
   ]
  },
  {
   "cell_type": "code",
   "execution_count": 68,
   "id": "501e7d3c-3bb4-43f0-a97a-2061a25305be",
   "metadata": {},
   "outputs": [
    {
     "data": {
      "text/html": [
       "<div>\n",
       "<style scoped>\n",
       "    .dataframe tbody tr th:only-of-type {\n",
       "        vertical-align: middle;\n",
       "    }\n",
       "\n",
       "    .dataframe tbody tr th {\n",
       "        vertical-align: top;\n",
       "    }\n",
       "\n",
       "    .dataframe thead th {\n",
       "        text-align: right;\n",
       "    }\n",
       "</style>\n",
       "<table border=\"1\" class=\"dataframe\">\n",
       "  <thead>\n",
       "    <tr style=\"text-align: right;\">\n",
       "      <th></th>\n",
       "      <th>income</th>\n",
       "      <th>age</th>\n",
       "      <th>years_with_bank</th>\n",
       "      <th>nbr_children</th>\n",
       "      <th>marital_status</th>\n",
       "      <th>gender_M</th>\n",
       "    </tr>\n",
       "  </thead>\n",
       "  <tbody>\n",
       "    <tr>\n",
       "      <th>0</th>\n",
       "      <td>26150</td>\n",
       "      <td>46</td>\n",
       "      <td>5</td>\n",
       "      <td>1</td>\n",
       "      <td>2</td>\n",
       "      <td>1</td>\n",
       "    </tr>\n",
       "    <tr>\n",
       "      <th>1</th>\n",
       "      <td>6605</td>\n",
       "      <td>71</td>\n",
       "      <td>1</td>\n",
       "      <td>0</td>\n",
       "      <td>2</td>\n",
       "      <td>1</td>\n",
       "    </tr>\n",
       "    <tr>\n",
       "      <th>2</th>\n",
       "      <td>18548</td>\n",
       "      <td>38</td>\n",
       "      <td>8</td>\n",
       "      <td>0</td>\n",
       "      <td>1</td>\n",
       "      <td>0</td>\n",
       "    </tr>\n",
       "    <tr>\n",
       "      <th>3</th>\n",
       "      <td>47668</td>\n",
       "      <td>54</td>\n",
       "      <td>3</td>\n",
       "      <td>0</td>\n",
       "      <td>1</td>\n",
       "      <td>0</td>\n",
       "    </tr>\n",
       "    <tr>\n",
       "      <th>4</th>\n",
       "      <td>44554</td>\n",
       "      <td>59</td>\n",
       "      <td>9</td>\n",
       "      <td>2</td>\n",
       "      <td>4</td>\n",
       "      <td>0</td>\n",
       "    </tr>\n",
       "    <tr>\n",
       "      <th>...</th>\n",
       "      <td>...</td>\n",
       "      <td>...</td>\n",
       "      <td>...</td>\n",
       "      <td>...</td>\n",
       "      <td>...</td>\n",
       "      <td>...</td>\n",
       "    </tr>\n",
       "    <tr>\n",
       "      <th>742</th>\n",
       "      <td>14795</td>\n",
       "      <td>36</td>\n",
       "      <td>6</td>\n",
       "      <td>1</td>\n",
       "      <td>4</td>\n",
       "      <td>0</td>\n",
       "    </tr>\n",
       "    <tr>\n",
       "      <th>743</th>\n",
       "      <td>26387</td>\n",
       "      <td>56</td>\n",
       "      <td>6</td>\n",
       "      <td>1</td>\n",
       "      <td>2</td>\n",
       "      <td>1</td>\n",
       "    </tr>\n",
       "    <tr>\n",
       "      <th>744</th>\n",
       "      <td>61300</td>\n",
       "      <td>50</td>\n",
       "      <td>0</td>\n",
       "      <td>2</td>\n",
       "      <td>2</td>\n",
       "      <td>1</td>\n",
       "    </tr>\n",
       "    <tr>\n",
       "      <th>745</th>\n",
       "      <td>15100</td>\n",
       "      <td>37</td>\n",
       "      <td>7</td>\n",
       "      <td>0</td>\n",
       "      <td>2</td>\n",
       "      <td>0</td>\n",
       "    </tr>\n",
       "    <tr>\n",
       "      <th>746</th>\n",
       "      <td>17875</td>\n",
       "      <td>18</td>\n",
       "      <td>3</td>\n",
       "      <td>0</td>\n",
       "      <td>1</td>\n",
       "      <td>0</td>\n",
       "    </tr>\n",
       "  </tbody>\n",
       "</table>\n",
       "<p>747 rows × 6 columns</p>\n",
       "</div>"
      ],
      "text/plain": [
       "     income  age  years_with_bank  nbr_children  marital_status  gender_M \n",
       "0     26150   46                5             1               2          1\n",
       "1      6605   71                1             0               2          1\n",
       "2     18548   38                8             0               1          0\n",
       "3     47668   54                3             0               1          0\n",
       "4     44554   59                9             2               4          0\n",
       "..      ...  ...              ...           ...             ...        ...\n",
       "742   14795   36                6             1               4          0\n",
       "743   26387   56                6             1               2          1\n",
       "744   61300   50                0             2               2          1\n",
       "745   15100   37                7             0               2          0\n",
       "746   17875   18                3             0               1          0\n",
       "\n",
       "[747 rows x 6 columns]"
      ]
     },
     "execution_count": 68,
     "metadata": {},
     "output_type": "execute_result"
    }
   ],
   "source": [
    "df_seg_full = df_customer[segmentation_cols]\n",
    "#df_seg_full = df_seg_full.astype({'marital_status': str})\n",
    "df_seg_full = pd.get_dummies(df_seg_full, drop_first=True)\n",
    "df_seg_full"
   ]
  },
  {
   "cell_type": "code",
   "execution_count": 73,
   "id": "be1bea9a-82ea-47e2-8c79-9b767fbb7722",
   "metadata": {},
   "outputs": [
    {
     "data": {
      "image/png": "[encoded data removed]",
      "text/plain": [
       "<Figure size 432x288 with 1 Axes>"
      ]
     },
     "metadata": {
      "needs_background": "light"
     },
     "output_type": "display_data"
    }
   ],
   "source": [
    "# Demographics distortion plot\n",
    "plot_distortion(df_seg_full)"
   ]
  },
  {
   "cell_type": "markdown",
   "id": "83fc1d61-ba84-4681-973c-dee8443faeaa",
   "metadata": {},
   "source": [
    "# **Main function**"
   ]
  },
  {
   "cell_type": "code",
   "execution_count": 61,
   "id": "f0149bab-6ae0-4ef2-a11f-f0b6d0ca02b1",
   "metadata": {},
   "outputs": [],
   "source": [
    "def Nik(dataframe, ScalingMethod, ClusteringMethod, NumberOfClusters, epsilon=0.5, min_samples=5):   \n",
    "    if ScalingMethod == 'MinMax':\n",
    "        scaler = MinMaxScaler()\n",
    "    elif ScalingMethod == 'Standard':\n",
    "        scaler = StandardScaler()\n",
    "    elif ScalingMethod == 'Robust':\n",
    "        scaler = RobustScaler()\n",
    "    elif ScalingMethod == 'MaxAbs':\n",
    "        scaler = MaxAbsScaler()\n",
    "    else:\n",
    "        print('Error: no valid scaler specified')\n",
    "        \n",
    "    df_scaled = pd.DataFrame(scaler.fit_transform(dataframe.astype(float)), columns = dataframe.columns)\n",
    "    \n",
    "    if ClusteringMethod == 'KMeans':\n",
    "        df_scaled['Cluster'] = KMeans(n_clusters=NumberOfClusters, n_init=10).fit_predict(df_scaled)\n",
    "    elif ClusteringMethod == 'Agglomerative':\n",
    "        ac = AgglomerativeClustering(affinity='euclidean', linkage='ward', n_clusters = NumberOfClusters)\n",
    "        df_scaled['Cluster'] = ac.fit_predict(df_scaled)\n",
    "    elif ClusteringMethod == 'DBSCAN':\n",
    "        db = DBSCAN(eps=0.5, min_samples=5, metric='euclidean')\n",
    "        df_scaled['Cluster'] = db.fit_predict(df_scaled)\n",
    "    else:\n",
    "        print('Error: no valid clustering method specified')\n",
    "    \n",
    "    df_radar = df_scaled.groupby('Cluster').mean().divide(df_scaled.drop('Cluster',axis=1).mean())*100\n",
    "    \n",
    "    return df_radar"
   ]
  },
  {
   "cell_type": "code",
   "execution_count": 78,
   "id": "0600fd25-7d45-4d1d-b49d-b54c8edf2885",
   "metadata": {},
   "outputs": [],
   "source": [
    "from sklearn.feature_selection import VarianceThreshold\n",
    "\n",
    "vt = VarianceThreshold(0.1)\n",
    "df_seg_full_transformed = vt.fit_transform(df_seg_full)\n",
    "\n",
    "# columns we have selected\n",
    "# get_support() is method of VarianceThreshold and stores boolean of each variable in the numpy array.\n",
    "selected_columns = df_seg_full.columns[vt.get_support()]\n",
    "\n",
    "# transforming an array back to a data-frame preserves column labels\n",
    "df_seg_full_transformed = pd.DataFrame(df_seg_full_transformed, columns = selected_columns)"
   ]
  },
  {
   "cell_type": "code",
   "execution_count": 79,
   "id": "b0c236bf-7afa-4f61-8e07-60dab11d9791",
   "metadata": {},
   "outputs": [
    {
     "data": {
      "text/html": [
       "<div>\n",
       "<style scoped>\n",
       "    .dataframe tbody tr th:only-of-type {\n",
       "        vertical-align: middle;\n",
       "    }\n",
       "\n",
       "    .dataframe tbody tr th {\n",
       "        vertical-align: top;\n",
       "    }\n",
       "\n",
       "    .dataframe thead th {\n",
       "        text-align: right;\n",
       "    }\n",
       "</style>\n",
       "<table border=\"1\" class=\"dataframe\">\n",
       "  <thead>\n",
       "    <tr style=\"text-align: right;\">\n",
       "      <th></th>\n",
       "      <th>income</th>\n",
       "      <th>age</th>\n",
       "      <th>years_with_bank</th>\n",
       "      <th>nbr_children</th>\n",
       "      <th>marital_status</th>\n",
       "      <th>gender_M</th>\n",
       "    </tr>\n",
       "  </thead>\n",
       "  <tbody>\n",
       "    <tr>\n",
       "      <th>income</th>\n",
       "      <td>1.000000</td>\n",
       "      <td>0.244919</td>\n",
       "      <td>0.040604</td>\n",
       "      <td>0.283352</td>\n",
       "      <td>0.247422</td>\n",
       "      <td>0.147011</td>\n",
       "    </tr>\n",
       "    <tr>\n",
       "      <th>age</th>\n",
       "      <td>0.244919</td>\n",
       "      <td>1.000000</td>\n",
       "      <td>0.181478</td>\n",
       "      <td>0.057195</td>\n",
       "      <td>0.340570</td>\n",
       "      <td>0.008516</td>\n",
       "    </tr>\n",
       "    <tr>\n",
       "      <th>years_with_bank</th>\n",
       "      <td>0.040604</td>\n",
       "      <td>0.181478</td>\n",
       "      <td>1.000000</td>\n",
       "      <td>0.034814</td>\n",
       "      <td>0.010743</td>\n",
       "      <td>0.004427</td>\n",
       "    </tr>\n",
       "    <tr>\n",
       "      <th>nbr_children</th>\n",
       "      <td>0.283352</td>\n",
       "      <td>0.057195</td>\n",
       "      <td>0.034814</td>\n",
       "      <td>1.000000</td>\n",
       "      <td>0.476528</td>\n",
       "      <td>0.009320</td>\n",
       "    </tr>\n",
       "    <tr>\n",
       "      <th>marital_status</th>\n",
       "      <td>0.247422</td>\n",
       "      <td>0.340570</td>\n",
       "      <td>0.010743</td>\n",
       "      <td>0.476528</td>\n",
       "      <td>1.000000</td>\n",
       "      <td>0.000733</td>\n",
       "    </tr>\n",
       "    <tr>\n",
       "      <th>gender_M</th>\n",
       "      <td>0.147011</td>\n",
       "      <td>0.008516</td>\n",
       "      <td>0.004427</td>\n",
       "      <td>0.009320</td>\n",
       "      <td>0.000733</td>\n",
       "      <td>1.000000</td>\n",
       "    </tr>\n",
       "  </tbody>\n",
       "</table>\n",
       "</div>"
      ],
      "text/plain": [
       "                   income       age  years_with_bank  nbr_children  \\\n",
       "income           1.000000  0.244919         0.040604      0.283352   \n",
       "age              0.244919  1.000000         0.181478      0.057195   \n",
       "years_with_bank  0.040604  0.181478         1.000000      0.034814   \n",
       "nbr_children     0.283352  0.057195         0.034814      1.000000   \n",
       "marital_status   0.247422  0.340570         0.010743      0.476528   \n",
       "gender_M         0.147011  0.008516         0.004427      0.009320   \n",
       "\n",
       "                 marital_status  gender_M   \n",
       "income                 0.247422   0.147011  \n",
       "age                    0.340570   0.008516  \n",
       "years_with_bank        0.010743   0.004427  \n",
       "nbr_children           0.476528   0.009320  \n",
       "marital_status         1.000000   0.000733  \n",
       "gender_M               0.000733   1.000000  "
      ]
     },
     "execution_count": 79,
     "metadata": {},
     "output_type": "execute_result"
    }
   ],
   "source": [
    "# step 1\n",
    "df_corr = df_seg_full_transformed.corr().abs()\n",
    "df_corr"
   ]
  },
  {
   "cell_type": "code",
   "execution_count": 92,
   "id": "10eebe2a-4c0f-4498-9533-3c3fbbb832fc",
   "metadata": {},
   "outputs": [
    {
     "data": {
      "text/html": [
       "<div>\n",
       "<style scoped>\n",
       "    .dataframe tbody tr th:only-of-type {\n",
       "        vertical-align: middle;\n",
       "    }\n",
       "\n",
       "    .dataframe tbody tr th {\n",
       "        vertical-align: top;\n",
       "    }\n",
       "\n",
       "    .dataframe thead th {\n",
       "        text-align: right;\n",
       "    }\n",
       "</style>\n",
       "<table border=\"1\" class=\"dataframe\">\n",
       "  <thead>\n",
       "    <tr style=\"text-align: right;\">\n",
       "      <th></th>\n",
       "      <th>income</th>\n",
       "      <th>age</th>\n",
       "      <th>nbr_children</th>\n",
       "      <th>marital_status</th>\n",
       "    </tr>\n",
       "  </thead>\n",
       "  <tbody>\n",
       "    <tr>\n",
       "      <th>0</th>\n",
       "      <td>26150</td>\n",
       "      <td>46</td>\n",
       "      <td>1</td>\n",
       "      <td>2</td>\n",
       "    </tr>\n",
       "    <tr>\n",
       "      <th>1</th>\n",
       "      <td>6605</td>\n",
       "      <td>71</td>\n",
       "      <td>0</td>\n",
       "      <td>2</td>\n",
       "    </tr>\n",
       "    <tr>\n",
       "      <th>2</th>\n",
       "      <td>18548</td>\n",
       "      <td>38</td>\n",
       "      <td>0</td>\n",
       "      <td>1</td>\n",
       "    </tr>\n",
       "    <tr>\n",
       "      <th>3</th>\n",
       "      <td>47668</td>\n",
       "      <td>54</td>\n",
       "      <td>0</td>\n",
       "      <td>1</td>\n",
       "    </tr>\n",
       "    <tr>\n",
       "      <th>4</th>\n",
       "      <td>44554</td>\n",
       "      <td>59</td>\n",
       "      <td>2</td>\n",
       "      <td>4</td>\n",
       "    </tr>\n",
       "    <tr>\n",
       "      <th>...</th>\n",
       "      <td>...</td>\n",
       "      <td>...</td>\n",
       "      <td>...</td>\n",
       "      <td>...</td>\n",
       "    </tr>\n",
       "    <tr>\n",
       "      <th>742</th>\n",
       "      <td>14795</td>\n",
       "      <td>36</td>\n",
       "      <td>1</td>\n",
       "      <td>4</td>\n",
       "    </tr>\n",
       "    <tr>\n",
       "      <th>743</th>\n",
       "      <td>26387</td>\n",
       "      <td>56</td>\n",
       "      <td>1</td>\n",
       "      <td>2</td>\n",
       "    </tr>\n",
       "    <tr>\n",
       "      <th>744</th>\n",
       "      <td>61300</td>\n",
       "      <td>50</td>\n",
       "      <td>2</td>\n",
       "      <td>2</td>\n",
       "    </tr>\n",
       "    <tr>\n",
       "      <th>745</th>\n",
       "      <td>15100</td>\n",
       "      <td>37</td>\n",
       "      <td>0</td>\n",
       "      <td>2</td>\n",
       "    </tr>\n",
       "    <tr>\n",
       "      <th>746</th>\n",
       "      <td>17875</td>\n",
       "      <td>18</td>\n",
       "      <td>0</td>\n",
       "      <td>1</td>\n",
       "    </tr>\n",
       "  </tbody>\n",
       "</table>\n",
       "<p>747 rows × 4 columns</p>\n",
       "</div>"
      ],
      "text/plain": [
       "     income  age  nbr_children  marital_status\n",
       "0     26150   46             1               2\n",
       "1      6605   71             0               2\n",
       "2     18548   38             0               1\n",
       "3     47668   54             0               1\n",
       "4     44554   59             2               4\n",
       "..      ...  ...           ...             ...\n",
       "742   14795   36             1               4\n",
       "743   26387   56             1               2\n",
       "744   61300   50             2               2\n",
       "745   15100   37             0               2\n",
       "746   17875   18             0               1\n",
       "\n",
       "[747 rows x 4 columns]"
      ]
     },
     "execution_count": 92,
     "metadata": {},
     "output_type": "execute_result"
    }
   ],
   "source": [
    "df_seg_full2 = df_seg_full.copy()\n",
    "df_seg_full2 = df_seg_full2.drop(['years_with_bank', 'gender_M '], axis=1)\n",
    "df_seg_full2"
   ]
  },
  {
   "cell_type": "markdown",
   "id": "418961ea-6b47-400c-b6a6-c1f0d79849c1",
   "metadata": {},
   "source": [
    "### Banking behavior clustering"
   ]
  },
  {
   "cell_type": "code",
   "execution_count": 50,
   "id": "779ab333-b9b3-4b73-ae30-c158e1f495e8",
   "metadata": {},
   "outputs": [
    {
     "data": {
      "text/html": [
       "<div>\n",
       "<style scoped>\n",
       "    .dataframe tbody tr th:only-of-type {\n",
       "        vertical-align: middle;\n",
       "    }\n",
       "\n",
       "    .dataframe tbody tr th {\n",
       "        vertical-align: top;\n",
       "    }\n",
       "\n",
       "    .dataframe thead th {\n",
       "        text-align: right;\n",
       "    }\n",
       "</style>\n",
       "<table border=\"1\" class=\"dataframe\">\n",
       "  <thead>\n",
       "    <tr style=\"text-align: right;\">\n",
       "      <th></th>\n",
       "      <th>income</th>\n",
       "      <th>credit_balance</th>\n",
       "      <th>checking_balance</th>\n",
       "      <th>savings_balance</th>\n",
       "      <th>avg_tran_amt</th>\n",
       "      <th>count_tran_amt</th>\n",
       "      <th>avg_savings_tran_amt</th>\n",
       "      <th>avg_checking_tran_amt</th>\n",
       "      <th>avg_credit_tran_amt</th>\n",
       "      <th>cnt_savings_tran</th>\n",
       "      <th>cnt_checking_tran</th>\n",
       "      <th>cnt_credit_tran</th>\n",
       "    </tr>\n",
       "  </thead>\n",
       "  <tbody>\n",
       "    <tr>\n",
       "      <th>0</th>\n",
       "      <td>50890</td>\n",
       "      <td>20.00</td>\n",
       "      <td>86.86</td>\n",
       "      <td>1187.97</td>\n",
       "      <td>76.971748</td>\n",
       "      <td>157.0</td>\n",
       "      <td>18.550769</td>\n",
       "      <td>-2.474646</td>\n",
       "      <td>60.895625</td>\n",
       "      <td>26.0</td>\n",
       "      <td>99.0</td>\n",
       "      <td>32.0</td>\n",
       "    </tr>\n",
       "    <tr>\n",
       "      <th>1</th>\n",
       "      <td>10053</td>\n",
       "      <td>369.72</td>\n",
       "      <td>95.32</td>\n",
       "      <td>2122.17</td>\n",
       "      <td>49.836424</td>\n",
       "      <td>187.0</td>\n",
       "      <td>58.474545</td>\n",
       "      <td>-25.435758</td>\n",
       "      <td>16.797636</td>\n",
       "      <td>33.0</td>\n",
       "      <td>99.0</td>\n",
       "      <td>55.0</td>\n",
       "    </tr>\n",
       "  </tbody>\n",
       "</table>\n",
       "</div>"
      ],
      "text/plain": [
       "   income  credit_balance  checking_balance  savings_balance  avg_tran_amt  \\\n",
       "0   50890           20.00             86.86          1187.97     76.971748   \n",
       "1   10053          369.72             95.32          2122.17     49.836424   \n",
       "\n",
       "   count_tran_amt  avg_savings_tran_amt  avg_checking_tran_amt  \\\n",
       "0           157.0             18.550769              -2.474646   \n",
       "1           187.0             58.474545             -25.435758   \n",
       "\n",
       "   avg_credit_tran_amt  cnt_savings_tran  cnt_checking_tran  cnt_credit_tran  \n",
       "0            60.895625              26.0               99.0             32.0  \n",
       "1            16.797636              33.0               99.0             55.0  "
      ]
     },
     "execution_count": 50,
     "metadata": {},
     "output_type": "execute_result"
    }
   ],
   "source": [
    "df_cust_info3 = df_cust_info2.copy()\n",
    "df_cust_info3.columns\n",
    "df_cust_info3 = df_cust_info3.drop(columns=['cust_id', 'age', 'gender', 'nbr_children', 'marital_status'])\n",
    "df_cust_info3.head(2)"
   ]
  },
  {
   "cell_type": "code",
   "execution_count": 51,
   "id": "1dcc0595-f551-4672-99ad-6e4836b7b91b",
   "metadata": {},
   "outputs": [
    {
     "data": {
      "image/png": "[encoded data removed]",
      "text/plain": [
       "<Figure size 432x288 with 1 Axes>"
      ]
     },
     "metadata": {
      "needs_background": "light"
     },
     "output_type": "display_data"
    }
   ],
   "source": [
    "plot_distortion(df_cust_info3)"
   ]
  },
  {
   "cell_type": "code",
   "execution_count": 52,
   "id": "35e1ca12-9463-4a9e-acb5-79f0bb856591",
   "metadata": {},
   "outputs": [
    {
     "data": {
      "text/html": [
       "<div>\n",
       "<style scoped>\n",
       "    .dataframe tbody tr th:only-of-type {\n",
       "        vertical-align: middle;\n",
       "    }\n",
       "\n",
       "    .dataframe tbody tr th {\n",
       "        vertical-align: top;\n",
       "    }\n",
       "\n",
       "    .dataframe thead th {\n",
       "        text-align: right;\n",
       "    }\n",
       "</style>\n",
       "<table border=\"1\" class=\"dataframe\">\n",
       "  <thead>\n",
       "    <tr style=\"text-align: right;\">\n",
       "      <th></th>\n",
       "      <th>0</th>\n",
       "      <th>1</th>\n",
       "      <th>2</th>\n",
       "      <th>3</th>\n",
       "      <th>4</th>\n",
       "      <th>5</th>\n",
       "      <th>6</th>\n",
       "      <th>7</th>\n",
       "      <th>8</th>\n",
       "      <th>9</th>\n",
       "      <th>10</th>\n",
       "      <th>11</th>\n",
       "      <th>Cluster</th>\n",
       "    </tr>\n",
       "  </thead>\n",
       "  <tbody>\n",
       "    <tr>\n",
       "      <th>0</th>\n",
       "      <td>0.353018</td>\n",
       "      <td>0.002105</td>\n",
       "      <td>0.006588</td>\n",
       "      <td>0.052957</td>\n",
       "      <td>0.046217</td>\n",
       "      <td>0.596958</td>\n",
       "      <td>0.375927</td>\n",
       "      <td>0.717276</td>\n",
       "      <td>0.045422</td>\n",
       "      <td>0.419355</td>\n",
       "      <td>1.000000</td>\n",
       "      <td>0.206452</td>\n",
       "      <td>2</td>\n",
       "    </tr>\n",
       "    <tr>\n",
       "      <th>1</th>\n",
       "      <td>0.069736</td>\n",
       "      <td>0.038918</td>\n",
       "      <td>0.007229</td>\n",
       "      <td>0.094601</td>\n",
       "      <td>0.043202</td>\n",
       "      <td>0.711027</td>\n",
       "      <td>0.512149</td>\n",
       "      <td>0.621546</td>\n",
       "      <td>0.040569</td>\n",
       "      <td>0.532258</td>\n",
       "      <td>1.000000</td>\n",
       "      <td>0.354839</td>\n",
       "      <td>2</td>\n",
       "    </tr>\n",
       "    <tr>\n",
       "      <th>2</th>\n",
       "      <td>0.157398</td>\n",
       "      <td>0.115789</td>\n",
       "      <td>0.003450</td>\n",
       "      <td>0.000000</td>\n",
       "      <td>0.036306</td>\n",
       "      <td>0.650190</td>\n",
       "      <td>0.312631</td>\n",
       "      <td>0.720674</td>\n",
       "      <td>0.037557</td>\n",
       "      <td>0.000000</td>\n",
       "      <td>1.000000</td>\n",
       "      <td>0.464516</td>\n",
       "      <td>0</td>\n",
       "    </tr>\n",
       "    <tr>\n",
       "      <th>3</th>\n",
       "      <td>0.074232</td>\n",
       "      <td>0.000000</td>\n",
       "      <td>0.251206</td>\n",
       "      <td>0.005182</td>\n",
       "      <td>0.032739</td>\n",
       "      <td>0.190114</td>\n",
       "      <td>0.289669</td>\n",
       "      <td>0.570811</td>\n",
       "      <td>0.038720</td>\n",
       "      <td>0.403226</td>\n",
       "      <td>0.252525</td>\n",
       "      <td>0.000000</td>\n",
       "      <td>1</td>\n",
       "    </tr>\n",
       "    <tr>\n",
       "      <th>4</th>\n",
       "      <td>0.045818</td>\n",
       "      <td>0.162972</td>\n",
       "      <td>0.106269</td>\n",
       "      <td>0.000575</td>\n",
       "      <td>0.025651</td>\n",
       "      <td>0.391635</td>\n",
       "      <td>0.197907</td>\n",
       "      <td>0.617054</td>\n",
       "      <td>0.033440</td>\n",
       "      <td>0.306452</td>\n",
       "      <td>0.525253</td>\n",
       "      <td>0.206452</td>\n",
       "      <td>3</td>\n",
       "    </tr>\n",
       "    <tr>\n",
       "      <th>...</th>\n",
       "      <td>...</td>\n",
       "      <td>...</td>\n",
       "      <td>...</td>\n",
       "      <td>...</td>\n",
       "      <td>...</td>\n",
       "      <td>...</td>\n",
       "      <td>...</td>\n",
       "      <td>...</td>\n",
       "      <td>...</td>\n",
       "      <td>...</td>\n",
       "      <td>...</td>\n",
       "      <td>...</td>\n",
       "      <td>...</td>\n",
       "    </tr>\n",
       "    <tr>\n",
       "      <th>660</th>\n",
       "      <td>0.000000</td>\n",
       "      <td>0.000000</td>\n",
       "      <td>0.000000</td>\n",
       "      <td>0.102597</td>\n",
       "      <td>0.037982</td>\n",
       "      <td>0.045627</td>\n",
       "      <td>0.322366</td>\n",
       "      <td>0.727593</td>\n",
       "      <td>0.038720</td>\n",
       "      <td>0.193548</td>\n",
       "      <td>0.000000</td>\n",
       "      <td>0.000000</td>\n",
       "      <td>1</td>\n",
       "    </tr>\n",
       "    <tr>\n",
       "      <th>661</th>\n",
       "      <td>0.000000</td>\n",
       "      <td>0.000000</td>\n",
       "      <td>0.000000</td>\n",
       "      <td>0.000794</td>\n",
       "      <td>0.036507</td>\n",
       "      <td>0.068441</td>\n",
       "      <td>0.277064</td>\n",
       "      <td>0.727593</td>\n",
       "      <td>0.038720</td>\n",
       "      <td>0.290323</td>\n",
       "      <td>0.000000</td>\n",
       "      <td>0.000000</td>\n",
       "      <td>1</td>\n",
       "    </tr>\n",
       "    <tr>\n",
       "      <th>662</th>\n",
       "      <td>0.986938</td>\n",
       "      <td>0.723053</td>\n",
       "      <td>0.008050</td>\n",
       "      <td>0.049753</td>\n",
       "      <td>0.030188</td>\n",
       "      <td>0.581749</td>\n",
       "      <td>0.335024</td>\n",
       "      <td>0.675184</td>\n",
       "      <td>0.031977</td>\n",
       "      <td>0.403226</td>\n",
       "      <td>1.000000</td>\n",
       "      <td>0.187097</td>\n",
       "      <td>2</td>\n",
       "    </tr>\n",
       "    <tr>\n",
       "      <th>663</th>\n",
       "      <td>0.208578</td>\n",
       "      <td>0.000000</td>\n",
       "      <td>0.155770</td>\n",
       "      <td>0.024679</td>\n",
       "      <td>0.034398</td>\n",
       "      <td>0.448669</td>\n",
       "      <td>0.352575</td>\n",
       "      <td>0.556195</td>\n",
       "      <td>0.038720</td>\n",
       "      <td>0.306452</td>\n",
       "      <td>1.000000</td>\n",
       "      <td>0.000000</td>\n",
       "      <td>3</td>\n",
       "    </tr>\n",
       "    <tr>\n",
       "      <th>664</th>\n",
       "      <td>0.136233</td>\n",
       "      <td>0.000000</td>\n",
       "      <td>0.013538</td>\n",
       "      <td>0.124067</td>\n",
       "      <td>0.036366</td>\n",
       "      <td>0.513308</td>\n",
       "      <td>0.356400</td>\n",
       "      <td>0.625392</td>\n",
       "      <td>0.038720</td>\n",
       "      <td>0.580645</td>\n",
       "      <td>1.000000</td>\n",
       "      <td>0.000000</td>\n",
       "      <td>2</td>\n",
       "    </tr>\n",
       "  </tbody>\n",
       "</table>\n",
       "<p>665 rows × 13 columns</p>\n",
       "</div>"
      ],
      "text/plain": [
       "            0         1         2         3         4         5         6  \\\n",
       "0    0.353018  0.002105  0.006588  0.052957  0.046217  0.596958  0.375927   \n",
       "1    0.069736  0.038918  0.007229  0.094601  0.043202  0.711027  0.512149   \n",
       "2    0.157398  0.115789  0.003450  0.000000  0.036306  0.650190  0.312631   \n",
       "3    0.074232  0.000000  0.251206  0.005182  0.032739  0.190114  0.289669   \n",
       "4    0.045818  0.162972  0.106269  0.000575  0.025651  0.391635  0.197907   \n",
       "..        ...       ...       ...       ...       ...       ...       ...   \n",
       "660  0.000000  0.000000  0.000000  0.102597  0.037982  0.045627  0.322366   \n",
       "661  0.000000  0.000000  0.000000  0.000794  0.036507  0.068441  0.277064   \n",
       "662  0.986938  0.723053  0.008050  0.049753  0.030188  0.581749  0.335024   \n",
       "663  0.208578  0.000000  0.155770  0.024679  0.034398  0.448669  0.352575   \n",
       "664  0.136233  0.000000  0.013538  0.124067  0.036366  0.513308  0.356400   \n",
       "\n",
       "            7         8         9        10        11  Cluster  \n",
       "0    0.717276  0.045422  0.419355  1.000000  0.206452        2  \n",
       "1    0.621546  0.040569  0.532258  1.000000  0.354839        2  \n",
       "2    0.720674  0.037557  0.000000  1.000000  0.464516        0  \n",
       "3    0.570811  0.038720  0.403226  0.252525  0.000000        1  \n",
       "4    0.617054  0.033440  0.306452  0.525253  0.206452        3  \n",
       "..        ...       ...       ...       ...       ...      ...  \n",
       "660  0.727593  0.038720  0.193548  0.000000  0.000000        1  \n",
       "661  0.727593  0.038720  0.290323  0.000000  0.000000        1  \n",
       "662  0.675184  0.031977  0.403226  1.000000  0.187097        2  \n",
       "663  0.556195  0.038720  0.306452  1.000000  0.000000        3  \n",
       "664  0.625392  0.038720  0.580645  1.000000  0.000000        2  \n",
       "\n",
       "[665 rows x 13 columns]"
      ]
     },
     "execution_count": 52,
     "metadata": {},
     "output_type": "execute_result"
    }
   ],
   "source": [
    "scaler = MinMaxScaler()\n",
    "df_habits_scaled = pd.DataFrame(scaler.fit_transform(df_cust_info3.astype(float)))\n",
    "df_habits_scaled['Cluster'] = KMeans(n_clusters=4, n_init=10).fit_predict(df_habits_scaled)\n",
    "df_habits_scaled"
   ]
  },
  {
   "cell_type": "code",
   "execution_count": 53,
   "id": "39068ddf-9902-4b1a-b454-7fe43d5de29b",
   "metadata": {},
   "outputs": [
    {
     "data": {
      "text/plain": [
       "2    211\n",
       "1    189\n",
       "3    149\n",
       "0    116\n",
       "Name: Cluster, dtype: int64"
      ]
     },
     "execution_count": 53,
     "metadata": {},
     "output_type": "execute_result"
    }
   ],
   "source": [
    "df_habits_scaled['Cluster'].value_counts()"
   ]
  },
  {
   "cell_type": "markdown",
   "id": "e8260764-25cf-49e0-9cd1-ed42a92d1b26",
   "metadata": {
    "tags": []
   },
   "source": [
    "# Radar Chart"
   ]
  },
  {
   "cell_type": "code",
   "execution_count": 70,
   "id": "06d8028d-bac8-42be-a319-0a1a65e6e805",
   "metadata": {},
   "outputs": [],
   "source": [
    "def plot_radar_chart(df, mean=False):\n",
    "    data = []\n",
    "    for i in range(0,len(df)):\n",
    "        data.append(go.Scatterpolar(r = df.iloc[i].values,\n",
    "                                    theta = df.iloc[i].index,\n",
    "                                    name = f'cluster_{df.index[i]}',\n",
    "                                    fill = 'toself'))\n",
    "    # mean line\n",
    "    if mean == True:\n",
    "        data.append(go.Scatterpolar(r = [100]* df.shape[1],\n",
    "                                    theta= df.columns,\n",
    "                                    name = 'mean',\n",
    "                                    fill = 'toself'))\n",
    "    \n",
    "    layout = go.Layout(polar = dict(radialaxis = dict(visible = True)),\n",
    "                       showlegend = True)\n",
    "    fig = go.Figure(data = data, layout = layout)\n",
    "    fig.show()"
   ]
  },
  {
   "cell_type": "code",
   "execution_count": 58,
   "id": "e5417220-8d6b-453a-a9a6-a08e2d765178",
   "metadata": {},
   "outputs": [],
   "source": [
    "# Decent clusters:\n",
    "\n",
    "# df_seg_full, 'MinMax', 'Agglomerative', 3"
   ]
  },
  {
   "cell_type": "code",
   "execution_count": 97,
   "id": "821b8762-ec57-4cfa-ba61-b570d3d46f65",
   "metadata": {},
   "outputs": [
    {
     "data": {
      "application/vnd.plotly.v1+json": {
       "config": {
        "plotlyServerURL": "https://plot.ly"
       },
       "data": [
        {
         "fill": "toself",
         "name": "cluster_0",
         "r": [
          116.17989439886334,
          100.62200919293822,
          100.34143766185504,
          101.62050476418125,
          99.91651715088216,
          227.05167173252278
         ],
         "theta": [
          "income",
          "age",
          "years_with_bank",
          "nbr_children",
          "marital_status",
          "gender_M "
         ],
         "type": "scatterpolar"
        },
        {
         "fill": "toself",
         "name": "cluster_1",
         "r": [
          105.67427583604744,
          124.84264412246213,
          108.09825145139513,
          138.01623388824135,
          139.89119015839267,
          0
         ],
         "theta": [
          "income",
          "age",
          "years_with_bank",
          "nbr_children",
          "marital_status",
          "gender_M "
         ],
         "type": "scatterpolar"
        },
        {
         "fill": "toself",
         "name": "cluster_2",
         "r": [
          41.01013670416638,
          35.860574646279254,
          78.708317859518,
          0,
          0,
          0
         ],
         "theta": [
          "income",
          "age",
          "years_with_bank",
          "nbr_children",
          "marital_status",
          "gender_M "
         ],
         "type": "scatterpolar"
        }
       ],
       "layout": {
        "autosize": true,
        "polar": {
         "angularaxis": {
          "type": "category"
         },
         "radialaxis": {
          "autorange": true,
          "range": [
           0,
           236.9234835469803
          ],
          "type": "linear",
          "visible": true
         }
        },
        "showlegend": true,
        "template": {
         "data": {
          "bar": [
           {
            "error_x": {
             "color": "#2a3f5f"
            },
            "error_y": {
             "color": "#2a3f5f"
            },
            "marker": {
             "line": {
              "color": "#E5ECF6",
              "width": 0.5
             },
             "pattern": {
              "fillmode": "overlay",
              "size": 10,
              "solidity": 0.2
             }
            },
            "type": "bar"
           }
          ],
          "barpolar": [
           {
            "marker": {
             "line": {
              "color": "#E5ECF6",
              "width": 0.5
             },
             "pattern": {
              "fillmode": "overlay",
              "size": 10,
              "solidity": 0.2
             }
            },
            "type": "barpolar"
           }
          ],
          "carpet": [
           {
            "aaxis": {
             "endlinecolor": "#2a3f5f",
             "gridcolor": "white",
             "linecolor": "white",
             "minorgridcolor": "white",
             "startlinecolor": "#2a3f5f"
            },
            "baxis": {
             "endlinecolor": "#2a3f5f",
             "gridcolor": "white",
             "linecolor": "white",
             "minorgridcolor": "white",
             "startlinecolor": "#2a3f5f"
            },
            "type": "carpet"
           }
          ],
          "choropleth": [
           {
            "colorbar": {
             "outlinewidth": 0,
             "ticks": ""
            },
            "type": "choropleth"
           }
          ],
          "contour": [
           {
            "colorbar": {
             "outlinewidth": 0,
             "ticks": ""
            },
            "colorscale": [
             [
              0,
              "#0d0887"
             ],
             [
              0.1111111111111111,
              "#46039f"
             ],
             [
              0.2222222222222222,
              "#7201a8"
             ],
             [
              0.3333333333333333,
              "#9c179e"
             ],
             [
              0.4444444444444444,
              "#bd3786"
             ],
             [
              0.5555555555555556,
              "#d8576b"
             ],
             [
              0.6666666666666666,
              "#ed7953"
             ],
             [
              0.7777777777777778,
              "#fb9f3a"
             ],
             [
              0.8888888888888888,
              "#fdca26"
             ],
             [
              1,
              "#f0f921"
             ]
            ],
            "type": "contour"
           }
          ],
          "contourcarpet": [
           {
            "colorbar": {
             "outlinewidth": 0,
             "ticks": ""
            },
            "type": "contourcarpet"
           }
          ],
          "heatmap": [
           {
            "colorbar": {
             "outlinewidth": 0,
             "ticks": ""
            },
            "colorscale": [
             [
              0,
              "#0d0887"
             ],
             [
              0.1111111111111111,
              "#46039f"
             ],
             [
              0.2222222222222222,
              "#7201a8"
             ],
             [
              0.3333333333333333,
              "#9c179e"
             ],
             [
              0.4444444444444444,
              "#bd3786"
             ],
             [
              0.5555555555555556,
              "#d8576b"
             ],
             [
              0.6666666666666666,
              "#ed7953"
             ],
             [
              0.7777777777777778,
              "#fb9f3a"
             ],
             [
              0.8888888888888888,
              "#fdca26"
             ],
             [
              1,
              "#f0f921"
             ]
            ],
            "type": "heatmap"
           }
          ],
          "heatmapgl": [
           {
            "colorbar": {
             "outlinewidth": 0,
             "ticks": ""
            },
            "colorscale": [
             [
              0,
              "#0d0887"
             ],
             [
              0.1111111111111111,
              "#46039f"
             ],
             [
              0.2222222222222222,
              "#7201a8"
             ],
             [
              0.3333333333333333,
              "#9c179e"
             ],
             [
              0.4444444444444444,
              "#bd3786"
             ],
             [
              0.5555555555555556,
              "#d8576b"
             ],
             [
              0.6666666666666666,
              "#ed7953"
             ],
             [
              0.7777777777777778,
              "#fb9f3a"
             ],
             [
              0.8888888888888888,
              "#fdca26"
             ],
             [
              1,
              "#f0f921"
             ]
            ],
            "type": "heatmapgl"
           }
          ],
          "histogram": [
           {
            "marker": {
             "pattern": {
              "fillmode": "overlay",
              "size": 10,
              "solidity": 0.2
             }
            },
            "type": "histogram"
           }
          ],
          "histogram2d": [
           {
            "colorbar": {
             "outlinewidth": 0,
             "ticks": ""
            },
            "colorscale": [
             [
              0,
              "#0d0887"
             ],
             [
              0.1111111111111111,
              "#46039f"
             ],
             [
              0.2222222222222222,
              "#7201a8"
             ],
             [
              0.3333333333333333,
              "#9c179e"
             ],
             [
              0.4444444444444444,
              "#bd3786"
             ],
             [
              0.5555555555555556,
              "#d8576b"
             ],
             [
              0.6666666666666666,
              "#ed7953"
             ],
             [
              0.7777777777777778,
              "#fb9f3a"
             ],
             [
              0.8888888888888888,
              "#fdca26"
             ],
             [
              1,
              "#f0f921"
             ]
            ],
            "type": "histogram2d"
           }
          ],
          "histogram2dcontour": [
           {
            "colorbar": {
             "outlinewidth": 0,
             "ticks": ""
            },
            "colorscale": [
             [
              0,
              "#0d0887"
             ],
             [
              0.1111111111111111,
              "#46039f"
             ],
             [
              0.2222222222222222,
              "#7201a8"
             ],
             [
              0.3333333333333333,
              "#9c179e"
             ],
             [
              0.4444444444444444,
              "#bd3786"
             ],
             [
              0.5555555555555556,
              "#d8576b"
             ],
             [
              0.6666666666666666,
              "#ed7953"
             ],
             [
              0.7777777777777778,
              "#fb9f3a"
             ],
             [
              0.8888888888888888,
              "#fdca26"
             ],
             [
              1,
              "#f0f921"
             ]
            ],
            "type": "histogram2dcontour"
           }
          ],
          "mesh3d": [
           {
            "colorbar": {
             "outlinewidth": 0,
             "ticks": ""
            },
            "type": "mesh3d"
           }
          ],
          "parcoords": [
           {
            "line": {
             "colorbar": {
              "outlinewidth": 0,
              "ticks": ""
             }
            },
            "type": "parcoords"
           }
          ],
          "pie": [
           {
            "automargin": true,
            "type": "pie"
           }
          ],
          "scatter": [
           {
            "marker": {
             "colorbar": {
              "outlinewidth": 0,
              "ticks": ""
             }
            },
            "type": "scatter"
           }
          ],
          "scatter3d": [
           {
            "line": {
             "colorbar": {
              "outlinewidth": 0,
              "ticks": ""
             }
            },
            "marker": {
             "colorbar": {
              "outlinewidth": 0,
              "ticks": ""
             }
            },
            "type": "scatter3d"
           }
          ],
          "scattercarpet": [
           {
            "marker": {
             "colorbar": {
              "outlinewidth": 0,
              "ticks": ""
             }
            },
            "type": "scattercarpet"
           }
          ],
          "scattergeo": [
           {
            "marker": {
             "colorbar": {
              "outlinewidth": 0,
              "ticks": ""
             }
            },
            "type": "scattergeo"
           }
          ],
          "scattergl": [
           {
            "marker": {
             "colorbar": {
              "outlinewidth": 0,
              "ticks": ""
             }
            },
            "type": "scattergl"
           }
          ],
          "scattermapbox": [
           {
            "marker": {
             "colorbar": {
              "outlinewidth": 0,
              "ticks": ""
             }
            },
            "type": "scattermapbox"
           }
          ],
          "scatterpolar": [
           {
            "marker": {
             "colorbar": {
              "outlinewidth": 0,
              "ticks": ""
             }
            },
            "type": "scatterpolar"
           }
          ],
          "scatterpolargl": [
           {
            "marker": {
             "colorbar": {
              "outlinewidth": 0,
              "ticks": ""
             }
            },
            "type": "scatterpolargl"
           }
          ],
          "scatterternary": [
           {
            "marker": {
             "colorbar": {
              "outlinewidth": 0,
              "ticks": ""
             }
            },
            "type": "scatterternary"
           }
          ],
          "surface": [
           {
            "colorbar": {
             "outlinewidth": 0,
             "ticks": ""
            },
            "colorscale": [
             [
              0,
              "#0d0887"
             ],
             [
              0.1111111111111111,
              "#46039f"
             ],
             [
              0.2222222222222222,
              "#7201a8"
             ],
             [
              0.3333333333333333,
              "#9c179e"
             ],
             [
              0.4444444444444444,
              "#bd3786"
             ],
             [
              0.5555555555555556,
              "#d8576b"
             ],
             [
              0.6666666666666666,
              "#ed7953"
             ],
             [
              0.7777777777777778,
              "#fb9f3a"
             ],
             [
              0.8888888888888888,
              "#fdca26"
             ],
             [
              1,
              "#f0f921"
             ]
            ],
            "type": "surface"
           }
          ],
          "table": [
           {
            "cells": {
             "fill": {
              "color": "#EBF0F8"
             },
             "line": {
              "color": "white"
             }
            },
            "header": {
             "fill": {
              "color": "#C8D4E3"
             },
             "line": {
              "color": "white"
             }
            },
            "type": "table"
           }
          ]
         },
         "layout": {
          "annotationdefaults": {
           "arrowcolor": "#2a3f5f",
           "arrowhead": 0,
           "arrowwidth": 1
          },
          "autotypenumbers": "strict",
          "coloraxis": {
           "colorbar": {
            "outlinewidth": 0,
            "ticks": ""
           }
          },
          "colorscale": {
           "diverging": [
            [
             0,
             "#8e0152"
            ],
            [
             0.1,
             "#c51b7d"
            ],
            [
             0.2,
             "#de77ae"
            ],
            [
             0.3,
             "#f1b6da"
            ],
            [
             0.4,
             "#fde0ef"
            ],
            [
             0.5,
             "#f7f7f7"
            ],
            [
             0.6,
             "#e6f5d0"
            ],
            [
             0.7,
             "#b8e186"
            ],
            [
             0.8,
             "#7fbc41"
            ],
            [
             0.9,
             "#4d9221"
            ],
            [
             1,
             "#276419"
            ]
           ],
           "sequential": [
            [
             0,
             "#0d0887"
            ],
            [
             0.1111111111111111,
             "#46039f"
            ],
            [
             0.2222222222222222,
             "#7201a8"
            ],
            [
             0.3333333333333333,
             "#9c179e"
            ],
            [
             0.4444444444444444,
             "#bd3786"
            ],
            [
             0.5555555555555556,
             "#d8576b"
            ],
            [
             0.6666666666666666,
             "#ed7953"
            ],
            [
             0.7777777777777778,
             "#fb9f3a"
            ],
            [
             0.8888888888888888,
             "#fdca26"
            ],
            [
             1,
             "#f0f921"
            ]
           ],
           "sequentialminus": [
            [
             0,
             "#0d0887"
            ],
            [
             0.1111111111111111,
             "#46039f"
            ],
            [
             0.2222222222222222,
             "#7201a8"
            ],
            [
             0.3333333333333333,
             "#9c179e"
            ],
            [
             0.4444444444444444,
             "#bd3786"
            ],
            [
             0.5555555555555556,
             "#d8576b"
            ],
            [
             0.6666666666666666,
             "#ed7953"
            ],
            [
             0.7777777777777778,
             "#fb9f3a"
            ],
            [
             0.8888888888888888,
             "#fdca26"
            ],
            [
             1,
             "#f0f921"
            ]
           ]
          },
          "colorway": [
           "#636efa",
           "#EF553B",
           "#00cc96",
           "#ab63fa",
           "#FFA15A",
           "#19d3f3",
           "#FF6692",
           "#B6E880",
           "#FF97FF",
           "#FECB52"
          ],
          "font": {
           "color": "#2a3f5f"
          },
          "geo": {
           "bgcolor": "white",
           "lakecolor": "white",
           "landcolor": "#E5ECF6",
           "showlakes": true,
           "showland": true,
           "subunitcolor": "white"
          },
          "hoverlabel": {
           "align": "left"
          },
          "hovermode": "closest",
          "mapbox": {
           "style": "light"
          },
          "paper_bgcolor": "white",
          "plot_bgcolor": "#E5ECF6",
          "polar": {
           "angularaxis": {
            "gridcolor": "white",
            "linecolor": "white",
            "ticks": ""
           },
           "bgcolor": "#E5ECF6",
           "radialaxis": {
            "gridcolor": "white",
            "linecolor": "white",
            "ticks": ""
           }
          },
          "scene": {
           "xaxis": {
            "backgroundcolor": "#E5ECF6",
            "gridcolor": "white",
            "gridwidth": 2,
            "linecolor": "white",
            "showbackground": true,
            "ticks": "",
            "zerolinecolor": "white"
           },
           "yaxis": {
            "backgroundcolor": "#E5ECF6",
            "gridcolor": "white",
            "gridwidth": 2,
            "linecolor": "white",
            "showbackground": true,
            "ticks": "",
            "zerolinecolor": "white"
           },
           "zaxis": {
            "backgroundcolor": "#E5ECF6",
            "gridcolor": "white",
            "gridwidth": 2,
            "linecolor": "white",
            "showbackground": true,
            "ticks": "",
            "zerolinecolor": "white"
           }
          },
          "shapedefaults": {
           "line": {
            "color": "#2a3f5f"
           }
          },
          "ternary": {
           "aaxis": {
            "gridcolor": "white",
            "linecolor": "white",
            "ticks": ""
           },
           "baxis": {
            "gridcolor": "white",
            "linecolor": "white",
            "ticks": ""
           },
           "bgcolor": "#E5ECF6",
           "caxis": {
            "gridcolor": "white",
            "linecolor": "white",
            "ticks": ""
           }
          },
          "title": {
           "x": 0.05
          },
          "xaxis": {
           "automargin": true,
           "gridcolor": "white",
           "linecolor": "white",
           "ticks": "",
           "title": {
            "standoff": 15
           },
           "zerolinecolor": "white",
           "zerolinewidth": 2
          },
          "yaxis": {
           "automargin": true,
           "gridcolor": "white",
           "linecolor": "white",
           "ticks": "",
           "title": {
            "standoff": 15
           },
           "zerolinecolor": "white",
           "zerolinewidth": 2
          }
         }
        }
       }
      },
      "image/png": "[encoded data removed]",
      "text/html": [
       "<div>                            <div id=\"19dbfb86-2052-4031-a34c-5003f3d199dd\" class=\"plotly-graph-div\" style=\"height:525px; width:100%;\"></div>            <script type=\"text/javascript\">                require([\"plotly\"], function(Plotly) {                    window.PLOTLYENV=window.PLOTLYENV || {};                                    if (document.getElementById(\"19dbfb86-2052-4031-a34c-5003f3d199dd\")) {                    Plotly.newPlot(                        \"19dbfb86-2052-4031-a34c-5003f3d199dd\",                        [{\"fill\":\"toself\",\"name\":\"cluster_0\",\"r\":[116.17989439886334,100.62200919293822,100.34143766185504,101.62050476418125,99.91651715088216,227.05167173252278],\"theta\":[\"income\",\"age\",\"years_with_bank\",\"nbr_children\",\"marital_status\",\"gender_M \"],\"type\":\"scatterpolar\"},{\"fill\":\"toself\",\"name\":\"cluster_1\",\"r\":[105.67427583604744,124.84264412246213,108.09825145139513,138.01623388824135,139.89119015839267,0.0],\"theta\":[\"income\",\"age\",\"years_with_bank\",\"nbr_children\",\"marital_status\",\"gender_M \"],\"type\":\"scatterpolar\"},{\"fill\":\"toself\",\"name\":\"cluster_2\",\"r\":[41.01013670416638,35.860574646279254,78.708317859518,0.0,0.0,0.0],\"theta\":[\"income\",\"age\",\"years_with_bank\",\"nbr_children\",\"marital_status\",\"gender_M \"],\"type\":\"scatterpolar\"}],                        {\"polar\":{\"radialaxis\":{\"visible\":true}},\"showlegend\":true,\"template\":{\"data\":{\"bar\":[{\"error_x\":{\"color\":\"#2a3f5f\"},\"error_y\":{\"color\":\"#2a3f5f\"},\"marker\":{\"line\":{\"color\":\"#E5ECF6\",\"width\":0.5},\"pattern\":{\"fillmode\":\"overlay\",\"size\":10,\"solidity\":0.2}},\"type\":\"bar\"}],\"barpolar\":[{\"marker\":{\"line\":{\"color\":\"#E5ECF6\",\"width\":0.5},\"pattern\":{\"fillmode\":\"overlay\",\"size\":10,\"solidity\":0.2}},\"type\":\"barpolar\"}],\"carpet\":[{\"aaxis\":{\"endlinecolor\":\"#2a3f5f\",\"gridcolor\":\"white\",\"linecolor\":\"white\",\"minorgridcolor\":\"white\",\"startlinecolor\":\"#2a3f5f\"},\"baxis\":{\"endlinecolor\":\"#2a3f5f\",\"gridcolor\":\"white\",\"linecolor\":\"white\",\"minorgridcolor\":\"white\",\"startlinecolor\":\"#2a3f5f\"},\"type\":\"carpet\"}],\"choropleth\":[{\"colorbar\":{\"outlinewidth\":0,\"ticks\":\"\"},\"type\":\"choropleth\"}],\"contour\":[{\"colorbar\":{\"outlinewidth\":0,\"ticks\":\"\"},\"colorscale\":[[0.0,\"#0d0887\"],[0.1111111111111111,\"#46039f\"],[0.2222222222222222,\"#7201a8\"],[0.3333333333333333,\"#9c179e\"],[0.4444444444444444,\"#bd3786\"],[0.5555555555555556,\"#d8576b\"],[0.6666666666666666,\"#ed7953\"],[0.7777777777777778,\"#fb9f3a\"],[0.8888888888888888,\"#fdca26\"],[1.0,\"#f0f921\"]],\"type\":\"contour\"}],\"contourcarpet\":[{\"colorbar\":{\"outlinewidth\":0,\"ticks\":\"\"},\"type\":\"contourcarpet\"}],\"heatmap\":[{\"colorbar\":{\"outlinewidth\":0,\"ticks\":\"\"},\"colorscale\":[[0.0,\"#0d0887\"],[0.1111111111111111,\"#46039f\"],[0.2222222222222222,\"#7201a8\"],[0.3333333333333333,\"#9c179e\"],[0.4444444444444444,\"#bd3786\"],[0.5555555555555556,\"#d8576b\"],[0.6666666666666666,\"#ed7953\"],[0.7777777777777778,\"#fb9f3a\"],[0.8888888888888888,\"#fdca26\"],[1.0,\"#f0f921\"]],\"type\":\"heatmap\"}],\"heatmapgl\":[{\"colorbar\":{\"outlinewidth\":0,\"ticks\":\"\"},\"colorscale\":[[0.0,\"#0d0887\"],[0.1111111111111111,\"#46039f\"],[0.2222222222222222,\"#7201a8\"],[0.3333333333333333,\"#9c179e\"],[0.4444444444444444,\"#bd3786\"],[0.5555555555555556,\"#d8576b\"],[0.6666666666666666,\"#ed7953\"],[0.7777777777777778,\"#fb9f3a\"],[0.8888888888888888,\"#fdca26\"],[1.0,\"#f0f921\"]],\"type\":\"heatmapgl\"}],\"histogram\":[{\"marker\":{\"pattern\":{\"fillmode\":\"overlay\",\"size\":10,\"solidity\":0.2}},\"type\":\"histogram\"}],\"histogram2d\":[{\"colorbar\":{\"outlinewidth\":0,\"ticks\":\"\"},\"colorscale\":[[0.0,\"#0d0887\"],[0.1111111111111111,\"#46039f\"],[0.2222222222222222,\"#7201a8\"],[0.3333333333333333,\"#9c179e\"],[0.4444444444444444,\"#bd3786\"],[0.5555555555555556,\"#d8576b\"],[0.6666666666666666,\"#ed7953\"],[0.7777777777777778,\"#fb9f3a\"],[0.8888888888888888,\"#fdca26\"],[1.0,\"#f0f921\"]],\"type\":\"histogram2d\"}],\"histogram2dcontour\":[{\"colorbar\":{\"outlinewidth\":0,\"ticks\":\"\"},\"colorscale\":[[0.0,\"#0d0887\"],[0.1111111111111111,\"#46039f\"],[0.2222222222222222,\"#7201a8\"],[0.3333333333333333,\"#9c179e\"],[0.4444444444444444,\"#bd3786\"],[0.5555555555555556,\"#d8576b\"],[0.6666666666666666,\"#ed7953\"],[0.7777777777777778,\"#fb9f3a\"],[0.8888888888888888,\"#fdca26\"],[1.0,\"#f0f921\"]],\"type\":\"histogram2dcontour\"}],\"mesh3d\":[{\"colorbar\":{\"outlinewidth\":0,\"ticks\":\"\"},\"type\":\"mesh3d\"}],\"parcoords\":[{\"line\":{\"colorbar\":{\"outlinewidth\":0,\"ticks\":\"\"}},\"type\":\"parcoords\"}],\"pie\":[{\"automargin\":true,\"type\":\"pie\"}],\"scatter\":[{\"marker\":{\"colorbar\":{\"outlinewidth\":0,\"ticks\":\"\"}},\"type\":\"scatter\"}],\"scatter3d\":[{\"line\":{\"colorbar\":{\"outlinewidth\":0,\"ticks\":\"\"}},\"marker\":{\"colorbar\":{\"outlinewidth\":0,\"ticks\":\"\"}},\"type\":\"scatter3d\"}],\"scattercarpet\":[{\"marker\":{\"colorbar\":{\"outlinewidth\":0,\"ticks\":\"\"}},\"type\":\"scattercarpet\"}],\"scattergeo\":[{\"marker\":{\"colorbar\":{\"outlinewidth\":0,\"ticks\":\"\"}},\"type\":\"scattergeo\"}],\"scattergl\":[{\"marker\":{\"colorbar\":{\"outlinewidth\":0,\"ticks\":\"\"}},\"type\":\"scattergl\"}],\"scattermapbox\":[{\"marker\":{\"colorbar\":{\"outlinewidth\":0,\"ticks\":\"\"}},\"type\":\"scattermapbox\"}],\"scatterpolar\":[{\"marker\":{\"colorbar\":{\"outlinewidth\":0,\"ticks\":\"\"}},\"type\":\"scatterpolar\"}],\"scatterpolargl\":[{\"marker\":{\"colorbar\":{\"outlinewidth\":0,\"ticks\":\"\"}},\"type\":\"scatterpolargl\"}],\"scatterternary\":[{\"marker\":{\"colorbar\":{\"outlinewidth\":0,\"ticks\":\"\"}},\"type\":\"scatterternary\"}],\"surface\":[{\"colorbar\":{\"outlinewidth\":0,\"ticks\":\"\"},\"colorscale\":[[0.0,\"#0d0887\"],[0.1111111111111111,\"#46039f\"],[0.2222222222222222,\"#7201a8\"],[0.3333333333333333,\"#9c179e\"],[0.4444444444444444,\"#bd3786\"],[0.5555555555555556,\"#d8576b\"],[0.6666666666666666,\"#ed7953\"],[0.7777777777777778,\"#fb9f3a\"],[0.8888888888888888,\"#fdca26\"],[1.0,\"#f0f921\"]],\"type\":\"surface\"}],\"table\":[{\"cells\":{\"fill\":{\"color\":\"#EBF0F8\"},\"line\":{\"color\":\"white\"}},\"header\":{\"fill\":{\"color\":\"#C8D4E3\"},\"line\":{\"color\":\"white\"}},\"type\":\"table\"}]},\"layout\":{\"annotationdefaults\":{\"arrowcolor\":\"#2a3f5f\",\"arrowhead\":0,\"arrowwidth\":1},\"autotypenumbers\":\"strict\",\"coloraxis\":{\"colorbar\":{\"outlinewidth\":0,\"ticks\":\"\"}},\"colorscale\":{\"diverging\":[[0,\"#8e0152\"],[0.1,\"#c51b7d\"],[0.2,\"#de77ae\"],[0.3,\"#f1b6da\"],[0.4,\"#fde0ef\"],[0.5,\"#f7f7f7\"],[0.6,\"#e6f5d0\"],[0.7,\"#b8e186\"],[0.8,\"#7fbc41\"],[0.9,\"#4d9221\"],[1,\"#276419\"]],\"sequential\":[[0.0,\"#0d0887\"],[0.1111111111111111,\"#46039f\"],[0.2222222222222222,\"#7201a8\"],[0.3333333333333333,\"#9c179e\"],[0.4444444444444444,\"#bd3786\"],[0.5555555555555556,\"#d8576b\"],[0.6666666666666666,\"#ed7953\"],[0.7777777777777778,\"#fb9f3a\"],[0.8888888888888888,\"#fdca26\"],[1.0,\"#f0f921\"]],\"sequentialminus\":[[0.0,\"#0d0887\"],[0.1111111111111111,\"#46039f\"],[0.2222222222222222,\"#7201a8\"],[0.3333333333333333,\"#9c179e\"],[0.4444444444444444,\"#bd3786\"],[0.5555555555555556,\"#d8576b\"],[0.6666666666666666,\"#ed7953\"],[0.7777777777777778,\"#fb9f3a\"],[0.8888888888888888,\"#fdca26\"],[1.0,\"#f0f921\"]]},\"colorway\":[\"#636efa\",\"#EF553B\",\"#00cc96\",\"#ab63fa\",\"#FFA15A\",\"#19d3f3\",\"#FF6692\",\"#B6E880\",\"#FF97FF\",\"#FECB52\"],\"font\":{\"color\":\"#2a3f5f\"},\"geo\":{\"bgcolor\":\"white\",\"lakecolor\":\"white\",\"landcolor\":\"#E5ECF6\",\"showlakes\":true,\"showland\":true,\"subunitcolor\":\"white\"},\"hoverlabel\":{\"align\":\"left\"},\"hovermode\":\"closest\",\"mapbox\":{\"style\":\"light\"},\"paper_bgcolor\":\"white\",\"plot_bgcolor\":\"#E5ECF6\",\"polar\":{\"angularaxis\":{\"gridcolor\":\"white\",\"linecolor\":\"white\",\"ticks\":\"\"},\"bgcolor\":\"#E5ECF6\",\"radialaxis\":{\"gridcolor\":\"white\",\"linecolor\":\"white\",\"ticks\":\"\"}},\"scene\":{\"xaxis\":{\"backgroundcolor\":\"#E5ECF6\",\"gridcolor\":\"white\",\"gridwidth\":2,\"linecolor\":\"white\",\"showbackground\":true,\"ticks\":\"\",\"zerolinecolor\":\"white\"},\"yaxis\":{\"backgroundcolor\":\"#E5ECF6\",\"gridcolor\":\"white\",\"gridwidth\":2,\"linecolor\":\"white\",\"showbackground\":true,\"ticks\":\"\",\"zerolinecolor\":\"white\"},\"zaxis\":{\"backgroundcolor\":\"#E5ECF6\",\"gridcolor\":\"white\",\"gridwidth\":2,\"linecolor\":\"white\",\"showbackground\":true,\"ticks\":\"\",\"zerolinecolor\":\"white\"}},\"shapedefaults\":{\"line\":{\"color\":\"#2a3f5f\"}},\"ternary\":{\"aaxis\":{\"gridcolor\":\"white\",\"linecolor\":\"white\",\"ticks\":\"\"},\"baxis\":{\"gridcolor\":\"white\",\"linecolor\":\"white\",\"ticks\":\"\"},\"bgcolor\":\"#E5ECF6\",\"caxis\":{\"gridcolor\":\"white\",\"linecolor\":\"white\",\"ticks\":\"\"}},\"title\":{\"x\":0.05},\"xaxis\":{\"automargin\":true,\"gridcolor\":\"white\",\"linecolor\":\"white\",\"ticks\":\"\",\"title\":{\"standoff\":15},\"zerolinecolor\":\"white\",\"zerolinewidth\":2},\"yaxis\":{\"automargin\":true,\"gridcolor\":\"white\",\"linecolor\":\"white\",\"ticks\":\"\",\"title\":{\"standoff\":15},\"zerolinecolor\":\"white\",\"zerolinewidth\":2}}}},                        {\"responsive\": true}                    ).then(function(){\n",
       "                            \n",
       "var gd = document.getElementById('19dbfb86-2052-4031-a34c-5003f3d199dd');\n",
       "var x = new MutationObserver(function (mutations, observer) {{\n",
       "        var display = window.getComputedStyle(gd).display;\n",
       "        if (!display || display === 'none') {{\n",
       "            console.log([gd, 'removed!']);\n",
       "            Plotly.purge(gd);\n",
       "            observer.disconnect();\n",
       "        }}\n",
       "}});\n",
       "\n",
       "// Listen for the removal of the full notebook cells\n",
       "var notebookContainer = gd.closest('#notebook-container');\n",
       "if (notebookContainer) {{\n",
       "    x.observe(notebookContainer, {childList: true});\n",
       "}}\n",
       "\n",
       "// Listen for the clearing of the current output cell\n",
       "var outputEl = gd.closest('.output');\n",
       "if (outputEl) {{\n",
       "    x.observe(outputEl, {childList: true});\n",
       "}}\n",
       "\n",
       "                        })                };                });            </script>        </div>"
      ]
     },
     "metadata": {},
     "output_type": "display_data"
    }
   ],
   "source": [
    "plot_radar_chart(Nik(df_seg_full, 'MinMax', 'Agglomerative', 3, epsilon=0.2, min_samples=10))"
   ]
  },
  {
   "cell_type": "code",
   "execution_count": 98,
   "id": "4f5b3467-1657-42bc-8e2e-5889b7226532",
   "metadata": {},
   "outputs": [
    {
     "data": {
      "application/vnd.plotly.v1+json": {
       "config": {
        "plotlyServerURL": "https://plot.ly"
       },
       "data": [
        {
         "fill": "toself",
         "name": "cluster_0",
         "r": [
          118.66789138137118,
          131.6503078230521,
          135.07668985197054,
          108.85540862779013
         ],
         "theta": [
          "income",
          "age",
          "nbr_children",
          "marital_status"
         ],
         "type": "scatterpolar"
        },
        {
         "fill": "toself",
         "name": "cluster_1",
         "r": [
          62.882748987757786,
          46.86824153648803,
          0,
          0
         ],
         "theta": [
          "income",
          "age",
          "nbr_children",
          "marital_status"
         ],
         "type": "scatterpolar"
        },
        {
         "fill": "toself",
         "name": "cluster_2",
         "r": [
          121.64206475199752,
          114.49481247385356,
          209.2124888137609,
          296.9261552096894
         ],
         "theta": [
          "income",
          "age",
          "nbr_children",
          "marital_status"
         ],
         "type": "scatterpolar"
        }
       ],
       "layout": {
        "autosize": true,
        "polar": {
         "angularaxis": {
          "type": "category"
         },
         "radialaxis": {
          "autorange": true,
          "range": [
           0,
           309.83598804489327
          ],
          "type": "linear",
          "visible": true
         }
        },
        "showlegend": true,
        "template": {
         "data": {
          "bar": [
           {
            "error_x": {
             "color": "#2a3f5f"
            },
            "error_y": {
             "color": "#2a3f5f"
            },
            "marker": {
             "line": {
              "color": "#E5ECF6",
              "width": 0.5
             },
             "pattern": {
              "fillmode": "overlay",
              "size": 10,
              "solidity": 0.2
             }
            },
            "type": "bar"
           }
          ],
          "barpolar": [
           {
            "marker": {
             "line": {
              "color": "#E5ECF6",
              "width": 0.5
             },
             "pattern": {
              "fillmode": "overlay",
              "size": 10,
              "solidity": 0.2
             }
            },
            "type": "barpolar"
           }
          ],
          "carpet": [
           {
            "aaxis": {
             "endlinecolor": "#2a3f5f",
             "gridcolor": "white",
             "linecolor": "white",
             "minorgridcolor": "white",
             "startlinecolor": "#2a3f5f"
            },
            "baxis": {
             "endlinecolor": "#2a3f5f",
             "gridcolor": "white",
             "linecolor": "white",
             "minorgridcolor": "white",
             "startlinecolor": "#2a3f5f"
            },
            "type": "carpet"
           }
          ],
          "choropleth": [
           {
            "colorbar": {
             "outlinewidth": 0,
             "ticks": ""
            },
            "type": "choropleth"
           }
          ],
          "contour": [
           {
            "colorbar": {
             "outlinewidth": 0,
             "ticks": ""
            },
            "colorscale": [
             [
              0,
              "#0d0887"
             ],
             [
              0.1111111111111111,
              "#46039f"
             ],
             [
              0.2222222222222222,
              "#7201a8"
             ],
             [
              0.3333333333333333,
              "#9c179e"
             ],
             [
              0.4444444444444444,
              "#bd3786"
             ],
             [
              0.5555555555555556,
              "#d8576b"
             ],
             [
              0.6666666666666666,
              "#ed7953"
             ],
             [
              0.7777777777777778,
              "#fb9f3a"
             ],
             [
              0.8888888888888888,
              "#fdca26"
             ],
             [
              1,
              "#f0f921"
             ]
            ],
            "type": "contour"
           }
          ],
          "contourcarpet": [
           {
            "colorbar": {
             "outlinewidth": 0,
             "ticks": ""
            },
            "type": "contourcarpet"
           }
          ],
          "heatmap": [
           {
            "colorbar": {
             "outlinewidth": 0,
             "ticks": ""
            },
            "colorscale": [
             [
              0,
              "#0d0887"
             ],
             [
              0.1111111111111111,
              "#46039f"
             ],
             [
              0.2222222222222222,
              "#7201a8"
             ],
             [
              0.3333333333333333,
              "#9c179e"
             ],
             [
              0.4444444444444444,
              "#bd3786"
             ],
             [
              0.5555555555555556,
              "#d8576b"
             ],
             [
              0.6666666666666666,
              "#ed7953"
             ],
             [
              0.7777777777777778,
              "#fb9f3a"
             ],
             [
              0.8888888888888888,
              "#fdca26"
             ],
             [
              1,
              "#f0f921"
             ]
            ],
            "type": "heatmap"
           }
          ],
          "heatmapgl": [
           {
            "colorbar": {
             "outlinewidth": 0,
             "ticks": ""
            },
            "colorscale": [
             [
              0,
              "#0d0887"
             ],
             [
              0.1111111111111111,
              "#46039f"
             ],
             [
              0.2222222222222222,
              "#7201a8"
             ],
             [
              0.3333333333333333,
              "#9c179e"
             ],
             [
              0.4444444444444444,
              "#bd3786"
             ],
             [
              0.5555555555555556,
              "#d8576b"
             ],
             [
              0.6666666666666666,
              "#ed7953"
             ],
             [
              0.7777777777777778,
              "#fb9f3a"
             ],
             [
              0.8888888888888888,
              "#fdca26"
             ],
             [
              1,
              "#f0f921"
             ]
            ],
            "type": "heatmapgl"
           }
          ],
          "histogram": [
           {
            "marker": {
             "pattern": {
              "fillmode": "overlay",
              "size": 10,
              "solidity": 0.2
             }
            },
            "type": "histogram"
           }
          ],
          "histogram2d": [
           {
            "colorbar": {
             "outlinewidth": 0,
             "ticks": ""
            },
            "colorscale": [
             [
              0,
              "#0d0887"
             ],
             [
              0.1111111111111111,
              "#46039f"
             ],
             [
              0.2222222222222222,
              "#7201a8"
             ],
             [
              0.3333333333333333,
              "#9c179e"
             ],
             [
              0.4444444444444444,
              "#bd3786"
             ],
             [
              0.5555555555555556,
              "#d8576b"
             ],
             [
              0.6666666666666666,
              "#ed7953"
             ],
             [
              0.7777777777777778,
              "#fb9f3a"
             ],
             [
              0.8888888888888888,
              "#fdca26"
             ],
             [
              1,
              "#f0f921"
             ]
            ],
            "type": "histogram2d"
           }
          ],
          "histogram2dcontour": [
           {
            "colorbar": {
             "outlinewidth": 0,
             "ticks": ""
            },
            "colorscale": [
             [
              0,
              "#0d0887"
             ],
             [
              0.1111111111111111,
              "#46039f"
             ],
             [
              0.2222222222222222,
              "#7201a8"
             ],
             [
              0.3333333333333333,
              "#9c179e"
             ],
             [
              0.4444444444444444,
              "#bd3786"
             ],
             [
              0.5555555555555556,
              "#d8576b"
             ],
             [
              0.6666666666666666,
              "#ed7953"
             ],
             [
              0.7777777777777778,
              "#fb9f3a"
             ],
             [
              0.8888888888888888,
              "#fdca26"
             ],
             [
              1,
              "#f0f921"
             ]
            ],
            "type": "histogram2dcontour"
           }
          ],
          "mesh3d": [
           {
            "colorbar": {
             "outlinewidth": 0,
             "ticks": ""
            },
            "type": "mesh3d"
           }
          ],
          "parcoords": [
           {
            "line": {
             "colorbar": {
              "outlinewidth": 0,
              "ticks": ""
             }
            },
            "type": "parcoords"
           }
          ],
          "pie": [
           {
            "automargin": true,
            "type": "pie"
           }
          ],
          "scatter": [
           {
            "marker": {
             "colorbar": {
              "outlinewidth": 0,
              "ticks": ""
             }
            },
            "type": "scatter"
           }
          ],
          "scatter3d": [
           {
            "line": {
             "colorbar": {
              "outlinewidth": 0,
              "ticks": ""
             }
            },
            "marker": {
             "colorbar": {
              "outlinewidth": 0,
              "ticks": ""
             }
            },
            "type": "scatter3d"
           }
          ],
          "scattercarpet": [
           {
            "marker": {
             "colorbar": {
              "outlinewidth": 0,
              "ticks": ""
             }
            },
            "type": "scattercarpet"
           }
          ],
          "scattergeo": [
           {
            "marker": {
             "colorbar": {
              "outlinewidth": 0,
              "ticks": ""
             }
            },
            "type": "scattergeo"
           }
          ],
          "scattergl": [
           {
            "marker": {
             "colorbar": {
              "outlinewidth": 0,
              "ticks": ""
             }
            },
            "type": "scattergl"
           }
          ],
          "scattermapbox": [
           {
            "marker": {
             "colorbar": {
              "outlinewidth": 0,
              "ticks": ""
             }
            },
            "type": "scattermapbox"
           }
          ],
          "scatterpolar": [
           {
            "marker": {
             "colorbar": {
              "outlinewidth": 0,
              "ticks": ""
             }
            },
            "type": "scatterpolar"
           }
          ],
          "scatterpolargl": [
           {
            "marker": {
             "colorbar": {
              "outlinewidth": 0,
              "ticks": ""
             }
            },
            "type": "scatterpolargl"
           }
          ],
          "scatterternary": [
           {
            "marker": {
             "colorbar": {
              "outlinewidth": 0,
              "ticks": ""
             }
            },
            "type": "scatterternary"
           }
          ],
          "surface": [
           {
            "colorbar": {
             "outlinewidth": 0,
             "ticks": ""
            },
            "colorscale": [
             [
              0,
              "#0d0887"
             ],
             [
              0.1111111111111111,
              "#46039f"
             ],
             [
              0.2222222222222222,
              "#7201a8"
             ],
             [
              0.3333333333333333,
              "#9c179e"
             ],
             [
              0.4444444444444444,
              "#bd3786"
             ],
             [
              0.5555555555555556,
              "#d8576b"
             ],
             [
              0.6666666666666666,
              "#ed7953"
             ],
             [
              0.7777777777777778,
              "#fb9f3a"
             ],
             [
              0.8888888888888888,
              "#fdca26"
             ],
             [
              1,
              "#f0f921"
             ]
            ],
            "type": "surface"
           }
          ],
          "table": [
           {
            "cells": {
             "fill": {
              "color": "#EBF0F8"
             },
             "line": {
              "color": "white"
             }
            },
            "header": {
             "fill": {
              "color": "#C8D4E3"
             },
             "line": {
              "color": "white"
             }
            },
            "type": "table"
           }
          ]
         },
         "layout": {
          "annotationdefaults": {
           "arrowcolor": "#2a3f5f",
           "arrowhead": 0,
           "arrowwidth": 1
          },
          "autotypenumbers": "strict",
          "coloraxis": {
           "colorbar": {
            "outlinewidth": 0,
            "ticks": ""
           }
          },
          "colorscale": {
           "diverging": [
            [
             0,
             "#8e0152"
            ],
            [
             0.1,
             "#c51b7d"
            ],
            [
             0.2,
             "#de77ae"
            ],
            [
             0.3,
             "#f1b6da"
            ],
            [
             0.4,
             "#fde0ef"
            ],
            [
             0.5,
             "#f7f7f7"
            ],
            [
             0.6,
             "#e6f5d0"
            ],
            [
             0.7,
             "#b8e186"
            ],
            [
             0.8,
             "#7fbc41"
            ],
            [
             0.9,
             "#4d9221"
            ],
            [
             1,
             "#276419"
            ]
           ],
           "sequential": [
            [
             0,
             "#0d0887"
            ],
            [
             0.1111111111111111,
             "#46039f"
            ],
            [
             0.2222222222222222,
             "#7201a8"
            ],
            [
             0.3333333333333333,
             "#9c179e"
            ],
            [
             0.4444444444444444,
             "#bd3786"
            ],
            [
             0.5555555555555556,
             "#d8576b"
            ],
            [
             0.6666666666666666,
             "#ed7953"
            ],
            [
             0.7777777777777778,
             "#fb9f3a"
            ],
            [
             0.8888888888888888,
             "#fdca26"
            ],
            [
             1,
             "#f0f921"
            ]
           ],
           "sequentialminus": [
            [
             0,
             "#0d0887"
            ],
            [
             0.1111111111111111,
             "#46039f"
            ],
            [
             0.2222222222222222,
             "#7201a8"
            ],
            [
             0.3333333333333333,
             "#9c179e"
            ],
            [
             0.4444444444444444,
             "#bd3786"
            ],
            [
             0.5555555555555556,
             "#d8576b"
            ],
            [
             0.6666666666666666,
             "#ed7953"
            ],
            [
             0.7777777777777778,
             "#fb9f3a"
            ],
            [
             0.8888888888888888,
             "#fdca26"
            ],
            [
             1,
             "#f0f921"
            ]
           ]
          },
          "colorway": [
           "#636efa",
           "#EF553B",
           "#00cc96",
           "#ab63fa",
           "#FFA15A",
           "#19d3f3",
           "#FF6692",
           "#B6E880",
           "#FF97FF",
           "#FECB52"
          ],
          "font": {
           "color": "#2a3f5f"
          },
          "geo": {
           "bgcolor": "white",
           "lakecolor": "white",
           "landcolor": "#E5ECF6",
           "showlakes": true,
           "showland": true,
           "subunitcolor": "white"
          },
          "hoverlabel": {
           "align": "left"
          },
          "hovermode": "closest",
          "mapbox": {
           "style": "light"
          },
          "paper_bgcolor": "white",
          "plot_bgcolor": "#E5ECF6",
          "polar": {
           "angularaxis": {
            "gridcolor": "white",
            "linecolor": "white",
            "ticks": ""
           },
           "bgcolor": "#E5ECF6",
           "radialaxis": {
            "gridcolor": "white",
            "linecolor": "white",
            "ticks": ""
           }
          },
          "scene": {
           "xaxis": {
            "backgroundcolor": "#E5ECF6",
            "gridcolor": "white",
            "gridwidth": 2,
            "linecolor": "white",
            "showbackground": true,
            "ticks": "",
            "zerolinecolor": "white"
           },
           "yaxis": {
            "backgroundcolor": "#E5ECF6",
            "gridcolor": "white",
            "gridwidth": 2,
            "linecolor": "white",
            "showbackground": true,
            "ticks": "",
            "zerolinecolor": "white"
           },
           "zaxis": {
            "backgroundcolor": "#E5ECF6",
            "gridcolor": "white",
            "gridwidth": 2,
            "linecolor": "white",
            "showbackground": true,
            "ticks": "",
            "zerolinecolor": "white"
           }
          },
          "shapedefaults": {
           "line": {
            "color": "#2a3f5f"
           }
          },
          "ternary": {
           "aaxis": {
            "gridcolor": "white",
            "linecolor": "white",
            "ticks": ""
           },
           "baxis": {
            "gridcolor": "white",
            "linecolor": "white",
            "ticks": ""
           },
           "bgcolor": "#E5ECF6",
           "caxis": {
            "gridcolor": "white",
            "linecolor": "white",
            "ticks": ""
           }
          },
          "title": {
           "x": 0.05
          },
          "xaxis": {
           "automargin": true,
           "gridcolor": "white",
           "linecolor": "white",
           "ticks": "",
           "title": {
            "standoff": 15
           },
           "zerolinecolor": "white",
           "zerolinewidth": 2
          },
          "yaxis": {
           "automargin": true,
           "gridcolor": "white",
           "linecolor": "white",
           "ticks": "",
           "title": {
            "standoff": 15
           },
           "zerolinecolor": "white",
           "zerolinewidth": 2
          }
         }
        }
       }
      },
      "image/png": "[encoded data removed]",
      "text/html": [
       "<div>                            <div id=\"07416a29-4ecd-4eb0-aabd-20a4758193e3\" class=\"plotly-graph-div\" style=\"height:525px; width:100%;\"></div>            <script type=\"text/javascript\">                require([\"plotly\"], function(Plotly) {                    window.PLOTLYENV=window.PLOTLYENV || {};                                    if (document.getElementById(\"07416a29-4ecd-4eb0-aabd-20a4758193e3\")) {                    Plotly.newPlot(                        \"07416a29-4ecd-4eb0-aabd-20a4758193e3\",                        [{\"fill\":\"toself\",\"name\":\"cluster_0\",\"r\":[118.66789138137118,131.6503078230521,135.07668985197054,108.85540862779013],\"theta\":[\"income\",\"age\",\"nbr_children\",\"marital_status\"],\"type\":\"scatterpolar\"},{\"fill\":\"toself\",\"name\":\"cluster_1\",\"r\":[62.882748987757786,46.86824153648803,0.0,0.0],\"theta\":[\"income\",\"age\",\"nbr_children\",\"marital_status\"],\"type\":\"scatterpolar\"},{\"fill\":\"toself\",\"name\":\"cluster_2\",\"r\":[121.64206475199752,114.49481247385356,209.2124888137609,296.9261552096894],\"theta\":[\"income\",\"age\",\"nbr_children\",\"marital_status\"],\"type\":\"scatterpolar\"}],                        {\"polar\":{\"radialaxis\":{\"visible\":true}},\"showlegend\":true,\"template\":{\"data\":{\"bar\":[{\"error_x\":{\"color\":\"#2a3f5f\"},\"error_y\":{\"color\":\"#2a3f5f\"},\"marker\":{\"line\":{\"color\":\"#E5ECF6\",\"width\":0.5},\"pattern\":{\"fillmode\":\"overlay\",\"size\":10,\"solidity\":0.2}},\"type\":\"bar\"}],\"barpolar\":[{\"marker\":{\"line\":{\"color\":\"#E5ECF6\",\"width\":0.5},\"pattern\":{\"fillmode\":\"overlay\",\"size\":10,\"solidity\":0.2}},\"type\":\"barpolar\"}],\"carpet\":[{\"aaxis\":{\"endlinecolor\":\"#2a3f5f\",\"gridcolor\":\"white\",\"linecolor\":\"white\",\"minorgridcolor\":\"white\",\"startlinecolor\":\"#2a3f5f\"},\"baxis\":{\"endlinecolor\":\"#2a3f5f\",\"gridcolor\":\"white\",\"linecolor\":\"white\",\"minorgridcolor\":\"white\",\"startlinecolor\":\"#2a3f5f\"},\"type\":\"carpet\"}],\"choropleth\":[{\"colorbar\":{\"outlinewidth\":0,\"ticks\":\"\"},\"type\":\"choropleth\"}],\"contour\":[{\"colorbar\":{\"outlinewidth\":0,\"ticks\":\"\"},\"colorscale\":[[0.0,\"#0d0887\"],[0.1111111111111111,\"#46039f\"],[0.2222222222222222,\"#7201a8\"],[0.3333333333333333,\"#9c179e\"],[0.4444444444444444,\"#bd3786\"],[0.5555555555555556,\"#d8576b\"],[0.6666666666666666,\"#ed7953\"],[0.7777777777777778,\"#fb9f3a\"],[0.8888888888888888,\"#fdca26\"],[1.0,\"#f0f921\"]],\"type\":\"contour\"}],\"contourcarpet\":[{\"colorbar\":{\"outlinewidth\":0,\"ticks\":\"\"},\"type\":\"contourcarpet\"}],\"heatmap\":[{\"colorbar\":{\"outlinewidth\":0,\"ticks\":\"\"},\"colorscale\":[[0.0,\"#0d0887\"],[0.1111111111111111,\"#46039f\"],[0.2222222222222222,\"#7201a8\"],[0.3333333333333333,\"#9c179e\"],[0.4444444444444444,\"#bd3786\"],[0.5555555555555556,\"#d8576b\"],[0.6666666666666666,\"#ed7953\"],[0.7777777777777778,\"#fb9f3a\"],[0.8888888888888888,\"#fdca26\"],[1.0,\"#f0f921\"]],\"type\":\"heatmap\"}],\"heatmapgl\":[{\"colorbar\":{\"outlinewidth\":0,\"ticks\":\"\"},\"colorscale\":[[0.0,\"#0d0887\"],[0.1111111111111111,\"#46039f\"],[0.2222222222222222,\"#7201a8\"],[0.3333333333333333,\"#9c179e\"],[0.4444444444444444,\"#bd3786\"],[0.5555555555555556,\"#d8576b\"],[0.6666666666666666,\"#ed7953\"],[0.7777777777777778,\"#fb9f3a\"],[0.8888888888888888,\"#fdca26\"],[1.0,\"#f0f921\"]],\"type\":\"heatmapgl\"}],\"histogram\":[{\"marker\":{\"pattern\":{\"fillmode\":\"overlay\",\"size\":10,\"solidity\":0.2}},\"type\":\"histogram\"}],\"histogram2d\":[{\"colorbar\":{\"outlinewidth\":0,\"ticks\":\"\"},\"colorscale\":[[0.0,\"#0d0887\"],[0.1111111111111111,\"#46039f\"],[0.2222222222222222,\"#7201a8\"],[0.3333333333333333,\"#9c179e\"],[0.4444444444444444,\"#bd3786\"],[0.5555555555555556,\"#d8576b\"],[0.6666666666666666,\"#ed7953\"],[0.7777777777777778,\"#fb9f3a\"],[0.8888888888888888,\"#fdca26\"],[1.0,\"#f0f921\"]],\"type\":\"histogram2d\"}],\"histogram2dcontour\":[{\"colorbar\":{\"outlinewidth\":0,\"ticks\":\"\"},\"colorscale\":[[0.0,\"#0d0887\"],[0.1111111111111111,\"#46039f\"],[0.2222222222222222,\"#7201a8\"],[0.3333333333333333,\"#9c179e\"],[0.4444444444444444,\"#bd3786\"],[0.5555555555555556,\"#d8576b\"],[0.6666666666666666,\"#ed7953\"],[0.7777777777777778,\"#fb9f3a\"],[0.8888888888888888,\"#fdca26\"],[1.0,\"#f0f921\"]],\"type\":\"histogram2dcontour\"}],\"mesh3d\":[{\"colorbar\":{\"outlinewidth\":0,\"ticks\":\"\"},\"type\":\"mesh3d\"}],\"parcoords\":[{\"line\":{\"colorbar\":{\"outlinewidth\":0,\"ticks\":\"\"}},\"type\":\"parcoords\"}],\"pie\":[{\"automargin\":true,\"type\":\"pie\"}],\"scatter\":[{\"marker\":{\"colorbar\":{\"outlinewidth\":0,\"ticks\":\"\"}},\"type\":\"scatter\"}],\"scatter3d\":[{\"line\":{\"colorbar\":{\"outlinewidth\":0,\"ticks\":\"\"}},\"marker\":{\"colorbar\":{\"outlinewidth\":0,\"ticks\":\"\"}},\"type\":\"scatter3d\"}],\"scattercarpet\":[{\"marker\":{\"colorbar\":{\"outlinewidth\":0,\"ticks\":\"\"}},\"type\":\"scattercarpet\"}],\"scattergeo\":[{\"marker\":{\"colorbar\":{\"outlinewidth\":0,\"ticks\":\"\"}},\"type\":\"scattergeo\"}],\"scattergl\":[{\"marker\":{\"colorbar\":{\"outlinewidth\":0,\"ticks\":\"\"}},\"type\":\"scattergl\"}],\"scattermapbox\":[{\"marker\":{\"colorbar\":{\"outlinewidth\":0,\"ticks\":\"\"}},\"type\":\"scattermapbox\"}],\"scatterpolar\":[{\"marker\":{\"colorbar\":{\"outlinewidth\":0,\"ticks\":\"\"}},\"type\":\"scatterpolar\"}],\"scatterpolargl\":[{\"marker\":{\"colorbar\":{\"outlinewidth\":0,\"ticks\":\"\"}},\"type\":\"scatterpolargl\"}],\"scatterternary\":[{\"marker\":{\"colorbar\":{\"outlinewidth\":0,\"ticks\":\"\"}},\"type\":\"scatterternary\"}],\"surface\":[{\"colorbar\":{\"outlinewidth\":0,\"ticks\":\"\"},\"colorscale\":[[0.0,\"#0d0887\"],[0.1111111111111111,\"#46039f\"],[0.2222222222222222,\"#7201a8\"],[0.3333333333333333,\"#9c179e\"],[0.4444444444444444,\"#bd3786\"],[0.5555555555555556,\"#d8576b\"],[0.6666666666666666,\"#ed7953\"],[0.7777777777777778,\"#fb9f3a\"],[0.8888888888888888,\"#fdca26\"],[1.0,\"#f0f921\"]],\"type\":\"surface\"}],\"table\":[{\"cells\":{\"fill\":{\"color\":\"#EBF0F8\"},\"line\":{\"color\":\"white\"}},\"header\":{\"fill\":{\"color\":\"#C8D4E3\"},\"line\":{\"color\":\"white\"}},\"type\":\"table\"}]},\"layout\":{\"annotationdefaults\":{\"arrowcolor\":\"#2a3f5f\",\"arrowhead\":0,\"arrowwidth\":1},\"autotypenumbers\":\"strict\",\"coloraxis\":{\"colorbar\":{\"outlinewidth\":0,\"ticks\":\"\"}},\"colorscale\":{\"diverging\":[[0,\"#8e0152\"],[0.1,\"#c51b7d\"],[0.2,\"#de77ae\"],[0.3,\"#f1b6da\"],[0.4,\"#fde0ef\"],[0.5,\"#f7f7f7\"],[0.6,\"#e6f5d0\"],[0.7,\"#b8e186\"],[0.8,\"#7fbc41\"],[0.9,\"#4d9221\"],[1,\"#276419\"]],\"sequential\":[[0.0,\"#0d0887\"],[0.1111111111111111,\"#46039f\"],[0.2222222222222222,\"#7201a8\"],[0.3333333333333333,\"#9c179e\"],[0.4444444444444444,\"#bd3786\"],[0.5555555555555556,\"#d8576b\"],[0.6666666666666666,\"#ed7953\"],[0.7777777777777778,\"#fb9f3a\"],[0.8888888888888888,\"#fdca26\"],[1.0,\"#f0f921\"]],\"sequentialminus\":[[0.0,\"#0d0887\"],[0.1111111111111111,\"#46039f\"],[0.2222222222222222,\"#7201a8\"],[0.3333333333333333,\"#9c179e\"],[0.4444444444444444,\"#bd3786\"],[0.5555555555555556,\"#d8576b\"],[0.6666666666666666,\"#ed7953\"],[0.7777777777777778,\"#fb9f3a\"],[0.8888888888888888,\"#fdca26\"],[1.0,\"#f0f921\"]]},\"colorway\":[\"#636efa\",\"#EF553B\",\"#00cc96\",\"#ab63fa\",\"#FFA15A\",\"#19d3f3\",\"#FF6692\",\"#B6E880\",\"#FF97FF\",\"#FECB52\"],\"font\":{\"color\":\"#2a3f5f\"},\"geo\":{\"bgcolor\":\"white\",\"lakecolor\":\"white\",\"landcolor\":\"#E5ECF6\",\"showlakes\":true,\"showland\":true,\"subunitcolor\":\"white\"},\"hoverlabel\":{\"align\":\"left\"},\"hovermode\":\"closest\",\"mapbox\":{\"style\":\"light\"},\"paper_bgcolor\":\"white\",\"plot_bgcolor\":\"#E5ECF6\",\"polar\":{\"angularaxis\":{\"gridcolor\":\"white\",\"linecolor\":\"white\",\"ticks\":\"\"},\"bgcolor\":\"#E5ECF6\",\"radialaxis\":{\"gridcolor\":\"white\",\"linecolor\":\"white\",\"ticks\":\"\"}},\"scene\":{\"xaxis\":{\"backgroundcolor\":\"#E5ECF6\",\"gridcolor\":\"white\",\"gridwidth\":2,\"linecolor\":\"white\",\"showbackground\":true,\"ticks\":\"\",\"zerolinecolor\":\"white\"},\"yaxis\":{\"backgroundcolor\":\"#E5ECF6\",\"gridcolor\":\"white\",\"gridwidth\":2,\"linecolor\":\"white\",\"showbackground\":true,\"ticks\":\"\",\"zerolinecolor\":\"white\"},\"zaxis\":{\"backgroundcolor\":\"#E5ECF6\",\"gridcolor\":\"white\",\"gridwidth\":2,\"linecolor\":\"white\",\"showbackground\":true,\"ticks\":\"\",\"zerolinecolor\":\"white\"}},\"shapedefaults\":{\"line\":{\"color\":\"#2a3f5f\"}},\"ternary\":{\"aaxis\":{\"gridcolor\":\"white\",\"linecolor\":\"white\",\"ticks\":\"\"},\"baxis\":{\"gridcolor\":\"white\",\"linecolor\":\"white\",\"ticks\":\"\"},\"bgcolor\":\"#E5ECF6\",\"caxis\":{\"gridcolor\":\"white\",\"linecolor\":\"white\",\"ticks\":\"\"}},\"title\":{\"x\":0.05},\"xaxis\":{\"automargin\":true,\"gridcolor\":\"white\",\"linecolor\":\"white\",\"ticks\":\"\",\"title\":{\"standoff\":15},\"zerolinecolor\":\"white\",\"zerolinewidth\":2},\"yaxis\":{\"automargin\":true,\"gridcolor\":\"white\",\"linecolor\":\"white\",\"ticks\":\"\",\"title\":{\"standoff\":15},\"zerolinecolor\":\"white\",\"zerolinewidth\":2}}}},                        {\"responsive\": true}                    ).then(function(){\n",
       "                            \n",
       "var gd = document.getElementById('07416a29-4ecd-4eb0-aabd-20a4758193e3');\n",
       "var x = new MutationObserver(function (mutations, observer) {{\n",
       "        var display = window.getComputedStyle(gd).display;\n",
       "        if (!display || display === 'none') {{\n",
       "            console.log([gd, 'removed!']);\n",
       "            Plotly.purge(gd);\n",
       "            observer.disconnect();\n",
       "        }}\n",
       "}});\n",
       "\n",
       "// Listen for the removal of the full notebook cells\n",
       "var notebookContainer = gd.closest('#notebook-container');\n",
       "if (notebookContainer) {{\n",
       "    x.observe(notebookContainer, {childList: true});\n",
       "}}\n",
       "\n",
       "// Listen for the clearing of the current output cell\n",
       "var outputEl = gd.closest('.output');\n",
       "if (outputEl) {{\n",
       "    x.observe(outputEl, {childList: true});\n",
       "}}\n",
       "\n",
       "                        })                };                });            </script>        </div>"
      ]
     },
     "metadata": {},
     "output_type": "display_data"
    }
   ],
   "source": [
    "plot_radar_chart(Nik(df_seg_full2, 'MinMax', 'Agglomerative', 3, epsilon=0.2, min_samples=10))"
   ]
  },
  {
   "cell_type": "code",
   "execution_count": 72,
   "id": "6a7df2af-5f24-4cd9-b0b3-e89aed8fe5cf",
   "metadata": {},
   "outputs": [
    {
     "data": {
      "application/vnd.plotly.v1+json": {
       "config": {
        "plotlyServerURL": "https://plot.ly"
       },
       "data": [
        {
         "fill": "toself",
         "name": "cluster_0",
         "r": [
          98.1713977824396,
          123.74537091065578,
          116.8633045265175,
          185.0093463109674,
          90.85600250611789,
          146.69679367632193,
          107.25955286856932,
          98.10967599761,
          90.18864488106459,
          185.39831986306808,
          141.750975787985,
          136.55573120839094
         ],
         "theta": [
          "income",
          "credit_balance",
          "checking_balance",
          "savings_balance",
          "avg_tran_amt",
          "count_tran_amt",
          "avg_savings_tran_amt",
          "avg_checking_tran_amt",
          "avg_credit_tran_amt",
          "cnt_savings_tran",
          "cnt_checking_tran",
          "cnt_credit_tran"
         ],
         "type": "scatterpolar"
        },
        {
         "fill": "toself",
         "name": "cluster_1",
         "r": [
          85.40409949261445,
          84.39977021356242,
          62.83978690455652,
          102.17958955414596,
          102.75031929173888,
          41.041821863121406,
          100.09946413245603,
          106.0566930344685,
          100.04200963111502,
          112.48315971705021,
          8.559464147724904,
          75.8242747135492
         ],
         "theta": [
          "income",
          "credit_balance",
          "checking_balance",
          "savings_balance",
          "avg_tran_amt",
          "count_tran_amt",
          "avg_savings_tran_amt",
          "avg_checking_tran_amt",
          "avg_credit_tran_amt",
          "cnt_savings_tran",
          "cnt_checking_tran",
          "cnt_credit_tran"
         ],
         "type": "scatterpolar"
        },
        {
         "fill": "toself",
         "name": "cluster_2",
         "r": [
          133.17054667994444,
          187.52623483890824,
          123.18639587631822,
          16.084762469502188,
          87.02919942600069,
          130.31037753166473,
          92.05175288121116,
          97.4633903810959,
          90.77582868673724,
          9.267576660491311,
          141.3411268229767,
          172.19480053418354
         ],
         "theta": [
          "income",
          "credit_balance",
          "checking_balance",
          "savings_balance",
          "avg_tran_amt",
          "count_tran_amt",
          "avg_savings_tran_amt",
          "avg_checking_tran_amt",
          "avg_credit_tran_amt",
          "cnt_savings_tran",
          "cnt_checking_tran",
          "cnt_credit_tran"
         ],
         "type": "scatterpolar"
        },
        {
         "fill": "toself",
         "name": "cluster_3",
         "r": [
          94.76418881338529,
          15.714792221068768,
          104.96005650706208,
          42.537983205789295,
          120.0008679782473,
          84.44522213217411,
          95.83216859669923,
          96.9623354831331,
          121.43338996448934,
          34.20451208457283,
          124.45273754900632,
          20.659634905680413
         ],
         "theta": [
          "income",
          "credit_balance",
          "checking_balance",
          "savings_balance",
          "avg_tran_amt",
          "count_tran_amt",
          "avg_savings_tran_amt",
          "avg_checking_tran_amt",
          "avg_credit_tran_amt",
          "cnt_savings_tran",
          "cnt_checking_tran",
          "cnt_credit_tran"
         ],
         "type": "scatterpolar"
        }
       ],
       "layout": {
        "autosize": true,
        "polar": {
         "angularaxis": {
          "type": "category"
         },
         "radialaxis": {
          "autorange": true,
          "range": [
           0,
           195.67954939712163
          ],
          "type": "linear",
          "visible": true
         }
        },
        "showlegend": true,
        "template": {
         "data": {
          "bar": [
           {
            "error_x": {
             "color": "#2a3f5f"
            },
            "error_y": {
             "color": "#2a3f5f"
            },
            "marker": {
             "line": {
              "color": "#E5ECF6",
              "width": 0.5
             },
             "pattern": {
              "fillmode": "overlay",
              "size": 10,
              "solidity": 0.2
             }
            },
            "type": "bar"
           }
          ],
          "barpolar": [
           {
            "marker": {
             "line": {
              "color": "#E5ECF6",
              "width": 0.5
             },
             "pattern": {
              "fillmode": "overlay",
              "size": 10,
              "solidity": 0.2
             }
            },
            "type": "barpolar"
           }
          ],
          "carpet": [
           {
            "aaxis": {
             "endlinecolor": "#2a3f5f",
             "gridcolor": "white",
             "linecolor": "white",
             "minorgridcolor": "white",
             "startlinecolor": "#2a3f5f"
            },
            "baxis": {
             "endlinecolor": "#2a3f5f",
             "gridcolor": "white",
             "linecolor": "white",
             "minorgridcolor": "white",
             "startlinecolor": "#2a3f5f"
            },
            "type": "carpet"
           }
          ],
          "choropleth": [
           {
            "colorbar": {
             "outlinewidth": 0,
             "ticks": ""
            },
            "type": "choropleth"
           }
          ],
          "contour": [
           {
            "colorbar": {
             "outlinewidth": 0,
             "ticks": ""
            },
            "colorscale": [
             [
              0,
              "#0d0887"
             ],
             [
              0.1111111111111111,
              "#46039f"
             ],
             [
              0.2222222222222222,
              "#7201a8"
             ],
             [
              0.3333333333333333,
              "#9c179e"
             ],
             [
              0.4444444444444444,
              "#bd3786"
             ],
             [
              0.5555555555555556,
              "#d8576b"
             ],
             [
              0.6666666666666666,
              "#ed7953"
             ],
             [
              0.7777777777777778,
              "#fb9f3a"
             ],
             [
              0.8888888888888888,
              "#fdca26"
             ],
             [
              1,
              "#f0f921"
             ]
            ],
            "type": "contour"
           }
          ],
          "contourcarpet": [
           {
            "colorbar": {
             "outlinewidth": 0,
             "ticks": ""
            },
            "type": "contourcarpet"
           }
          ],
          "heatmap": [
           {
            "colorbar": {
             "outlinewidth": 0,
             "ticks": ""
            },
            "colorscale": [
             [
              0,
              "#0d0887"
             ],
             [
              0.1111111111111111,
              "#46039f"
             ],
             [
              0.2222222222222222,
              "#7201a8"
             ],
             [
              0.3333333333333333,
              "#9c179e"
             ],
             [
              0.4444444444444444,
              "#bd3786"
             ],
             [
              0.5555555555555556,
              "#d8576b"
             ],
             [
              0.6666666666666666,
              "#ed7953"
             ],
             [
              0.7777777777777778,
              "#fb9f3a"
             ],
             [
              0.8888888888888888,
              "#fdca26"
             ],
             [
              1,
              "#f0f921"
             ]
            ],
            "type": "heatmap"
           }
          ],
          "heatmapgl": [
           {
            "colorbar": {
             "outlinewidth": 0,
             "ticks": ""
            },
            "colorscale": [
             [
              0,
              "#0d0887"
             ],
             [
              0.1111111111111111,
              "#46039f"
             ],
             [
              0.2222222222222222,
              "#7201a8"
             ],
             [
              0.3333333333333333,
              "#9c179e"
             ],
             [
              0.4444444444444444,
              "#bd3786"
             ],
             [
              0.5555555555555556,
              "#d8576b"
             ],
             [
              0.6666666666666666,
              "#ed7953"
             ],
             [
              0.7777777777777778,
              "#fb9f3a"
             ],
             [
              0.8888888888888888,
              "#fdca26"
             ],
             [
              1,
              "#f0f921"
             ]
            ],
            "type": "heatmapgl"
           }
          ],
          "histogram": [
           {
            "marker": {
             "pattern": {
              "fillmode": "overlay",
              "size": 10,
              "solidity": 0.2
             }
            },
            "type": "histogram"
           }
          ],
          "histogram2d": [
           {
            "colorbar": {
             "outlinewidth": 0,
             "ticks": ""
            },
            "colorscale": [
             [
              0,
              "#0d0887"
             ],
             [
              0.1111111111111111,
              "#46039f"
             ],
             [
              0.2222222222222222,
              "#7201a8"
             ],
             [
              0.3333333333333333,
              "#9c179e"
             ],
             [
              0.4444444444444444,
              "#bd3786"
             ],
             [
              0.5555555555555556,
              "#d8576b"
             ],
             [
              0.6666666666666666,
              "#ed7953"
             ],
             [
              0.7777777777777778,
              "#fb9f3a"
             ],
             [
              0.8888888888888888,
              "#fdca26"
             ],
             [
              1,
              "#f0f921"
             ]
            ],
            "type": "histogram2d"
           }
          ],
          "histogram2dcontour": [
           {
            "colorbar": {
             "outlinewidth": 0,
             "ticks": ""
            },
            "colorscale": [
             [
              0,
              "#0d0887"
             ],
             [
              0.1111111111111111,
              "#46039f"
             ],
             [
              0.2222222222222222,
              "#7201a8"
             ],
             [
              0.3333333333333333,
              "#9c179e"
             ],
             [
              0.4444444444444444,
              "#bd3786"
             ],
             [
              0.5555555555555556,
              "#d8576b"
             ],
             [
              0.6666666666666666,
              "#ed7953"
             ],
             [
              0.7777777777777778,
              "#fb9f3a"
             ],
             [
              0.8888888888888888,
              "#fdca26"
             ],
             [
              1,
              "#f0f921"
             ]
            ],
            "type": "histogram2dcontour"
           }
          ],
          "mesh3d": [
           {
            "colorbar": {
             "outlinewidth": 0,
             "ticks": ""
            },
            "type": "mesh3d"
           }
          ],
          "parcoords": [
           {
            "line": {
             "colorbar": {
              "outlinewidth": 0,
              "ticks": ""
             }
            },
            "type": "parcoords"
           }
          ],
          "pie": [
           {
            "automargin": true,
            "type": "pie"
           }
          ],
          "scatter": [
           {
            "marker": {
             "colorbar": {
              "outlinewidth": 0,
              "ticks": ""
             }
            },
            "type": "scatter"
           }
          ],
          "scatter3d": [
           {
            "line": {
             "colorbar": {
              "outlinewidth": 0,
              "ticks": ""
             }
            },
            "marker": {
             "colorbar": {
              "outlinewidth": 0,
              "ticks": ""
             }
            },
            "type": "scatter3d"
           }
          ],
          "scattercarpet": [
           {
            "marker": {
             "colorbar": {
              "outlinewidth": 0,
              "ticks": ""
             }
            },
            "type": "scattercarpet"
           }
          ],
          "scattergeo": [
           {
            "marker": {
             "colorbar": {
              "outlinewidth": 0,
              "ticks": ""
             }
            },
            "type": "scattergeo"
           }
          ],
          "scattergl": [
           {
            "marker": {
             "colorbar": {
              "outlinewidth": 0,
              "ticks": ""
             }
            },
            "type": "scattergl"
           }
          ],
          "scattermapbox": [
           {
            "marker": {
             "colorbar": {
              "outlinewidth": 0,
              "ticks": ""
             }
            },
            "type": "scattermapbox"
           }
          ],
          "scatterpolar": [
           {
            "marker": {
             "colorbar": {
              "outlinewidth": 0,
              "ticks": ""
             }
            },
            "type": "scatterpolar"
           }
          ],
          "scatterpolargl": [
           {
            "marker": {
             "colorbar": {
              "outlinewidth": 0,
              "ticks": ""
             }
            },
            "type": "scatterpolargl"
           }
          ],
          "scatterternary": [
           {
            "marker": {
             "colorbar": {
              "outlinewidth": 0,
              "ticks": ""
             }
            },
            "type": "scatterternary"
           }
          ],
          "surface": [
           {
            "colorbar": {
             "outlinewidth": 0,
             "ticks": ""
            },
            "colorscale": [
             [
              0,
              "#0d0887"
             ],
             [
              0.1111111111111111,
              "#46039f"
             ],
             [
              0.2222222222222222,
              "#7201a8"
             ],
             [
              0.3333333333333333,
              "#9c179e"
             ],
             [
              0.4444444444444444,
              "#bd3786"
             ],
             [
              0.5555555555555556,
              "#d8576b"
             ],
             [
              0.6666666666666666,
              "#ed7953"
             ],
             [
              0.7777777777777778,
              "#fb9f3a"
             ],
             [
              0.8888888888888888,
              "#fdca26"
             ],
             [
              1,
              "#f0f921"
             ]
            ],
            "type": "surface"
           }
          ],
          "table": [
           {
            "cells": {
             "fill": {
              "color": "#EBF0F8"
             },
             "line": {
              "color": "white"
             }
            },
            "header": {
             "fill": {
              "color": "#C8D4E3"
             },
             "line": {
              "color": "white"
             }
            },
            "type": "table"
           }
          ]
         },
         "layout": {
          "annotationdefaults": {
           "arrowcolor": "#2a3f5f",
           "arrowhead": 0,
           "arrowwidth": 1
          },
          "autotypenumbers": "strict",
          "coloraxis": {
           "colorbar": {
            "outlinewidth": 0,
            "ticks": ""
           }
          },
          "colorscale": {
           "diverging": [
            [
             0,
             "#8e0152"
            ],
            [
             0.1,
             "#c51b7d"
            ],
            [
             0.2,
             "#de77ae"
            ],
            [
             0.3,
             "#f1b6da"
            ],
            [
             0.4,
             "#fde0ef"
            ],
            [
             0.5,
             "#f7f7f7"
            ],
            [
             0.6,
             "#e6f5d0"
            ],
            [
             0.7,
             "#b8e186"
            ],
            [
             0.8,
             "#7fbc41"
            ],
            [
             0.9,
             "#4d9221"
            ],
            [
             1,
             "#276419"
            ]
           ],
           "sequential": [
            [
             0,
             "#0d0887"
            ],
            [
             0.1111111111111111,
             "#46039f"
            ],
            [
             0.2222222222222222,
             "#7201a8"
            ],
            [
             0.3333333333333333,
             "#9c179e"
            ],
            [
             0.4444444444444444,
             "#bd3786"
            ],
            [
             0.5555555555555556,
             "#d8576b"
            ],
            [
             0.6666666666666666,
             "#ed7953"
            ],
            [
             0.7777777777777778,
             "#fb9f3a"
            ],
            [
             0.8888888888888888,
             "#fdca26"
            ],
            [
             1,
             "#f0f921"
            ]
           ],
           "sequentialminus": [
            [
             0,
             "#0d0887"
            ],
            [
             0.1111111111111111,
             "#46039f"
            ],
            [
             0.2222222222222222,
             "#7201a8"
            ],
            [
             0.3333333333333333,
             "#9c179e"
            ],
            [
             0.4444444444444444,
             "#bd3786"
            ],
            [
             0.5555555555555556,
             "#d8576b"
            ],
            [
             0.6666666666666666,
             "#ed7953"
            ],
            [
             0.7777777777777778,
             "#fb9f3a"
            ],
            [
             0.8888888888888888,
             "#fdca26"
            ],
            [
             1,
             "#f0f921"
            ]
           ]
          },
          "colorway": [
           "#636efa",
           "#EF553B",
           "#00cc96",
           "#ab63fa",
           "#FFA15A",
           "#19d3f3",
           "#FF6692",
           "#B6E880",
           "#FF97FF",
           "#FECB52"
          ],
          "font": {
           "color": "#2a3f5f"
          },
          "geo": {
           "bgcolor": "white",
           "lakecolor": "white",
           "landcolor": "#E5ECF6",
           "showlakes": true,
           "showland": true,
           "subunitcolor": "white"
          },
          "hoverlabel": {
           "align": "left"
          },
          "hovermode": "closest",
          "mapbox": {
           "style": "light"
          },
          "paper_bgcolor": "white",
          "plot_bgcolor": "#E5ECF6",
          "polar": {
           "angularaxis": {
            "gridcolor": "white",
            "linecolor": "white",
            "ticks": ""
           },
           "bgcolor": "#E5ECF6",
           "radialaxis": {
            "gridcolor": "white",
            "linecolor": "white",
            "ticks": ""
           }
          },
          "scene": {
           "xaxis": {
            "backgroundcolor": "#E5ECF6",
            "gridcolor": "white",
            "gridwidth": 2,
            "linecolor": "white",
            "showbackground": true,
            "ticks": "",
            "zerolinecolor": "white"
           },
           "yaxis": {
            "backgroundcolor": "#E5ECF6",
            "gridcolor": "white",
            "gridwidth": 2,
            "linecolor": "white",
            "showbackground": true,
            "ticks": "",
            "zerolinecolor": "white"
           },
           "zaxis": {
            "backgroundcolor": "#E5ECF6",
            "gridcolor": "white",
            "gridwidth": 2,
            "linecolor": "white",
            "showbackground": true,
            "ticks": "",
            "zerolinecolor": "white"
           }
          },
          "shapedefaults": {
           "line": {
            "color": "#2a3f5f"
           }
          },
          "ternary": {
           "aaxis": {
            "gridcolor": "white",
            "linecolor": "white",
            "ticks": ""
           },
           "baxis": {
            "gridcolor": "white",
            "linecolor": "white",
            "ticks": ""
           },
           "bgcolor": "#E5ECF6",
           "caxis": {
            "gridcolor": "white",
            "linecolor": "white",
            "ticks": ""
           }
          },
          "title": {
           "x": 0.05
          },
          "xaxis": {
           "automargin": true,
           "gridcolor": "white",
           "linecolor": "white",
           "ticks": "",
           "title": {
            "standoff": 15
           },
           "zerolinecolor": "white",
           "zerolinewidth": 2
          },
          "yaxis": {
           "automargin": true,
           "gridcolor": "white",
           "linecolor": "white",
           "ticks": "",
           "title": {
            "standoff": 15
           },
           "zerolinecolor": "white",
           "zerolinewidth": 2
          }
         }
        }
       }
      },
      "image/png": "[encoded data removed]",
      "text/html": [
       "<div>                            <div id=\"72af58b8-564d-4c1c-a103-984622af33f2\" class=\"plotly-graph-div\" style=\"height:525px; width:100%;\"></div>            <script type=\"text/javascript\">                require([\"plotly\"], function(Plotly) {                    window.PLOTLYENV=window.PLOTLYENV || {};                                    if (document.getElementById(\"72af58b8-564d-4c1c-a103-984622af33f2\")) {                    Plotly.newPlot(                        \"72af58b8-564d-4c1c-a103-984622af33f2\",                        [{\"fill\":\"toself\",\"name\":\"cluster_0\",\"r\":[98.1713977824396,123.74537091065578,116.8633045265175,185.0093463109674,90.85600250611789,146.69679367632193,107.25955286856932,98.10967599761,90.18864488106459,185.39831986306808,141.750975787985,136.55573120839094],\"theta\":[\"income\",\"credit_balance\",\"checking_balance\",\"savings_balance\",\"avg_tran_amt\",\"count_tran_amt\",\"avg_savings_tran_amt\",\"avg_checking_tran_amt\",\"avg_credit_tran_amt\",\"cnt_savings_tran\",\"cnt_checking_tran\",\"cnt_credit_tran\"],\"type\":\"scatterpolar\"},{\"fill\":\"toself\",\"name\":\"cluster_1\",\"r\":[85.40409949261445,84.39977021356242,62.83978690455652,102.17958955414596,102.75031929173888,41.041821863121406,100.09946413245603,106.0566930344685,100.04200963111502,112.48315971705021,8.559464147724904,75.8242747135492],\"theta\":[\"income\",\"credit_balance\",\"checking_balance\",\"savings_balance\",\"avg_tran_amt\",\"count_tran_amt\",\"avg_savings_tran_amt\",\"avg_checking_tran_amt\",\"avg_credit_tran_amt\",\"cnt_savings_tran\",\"cnt_checking_tran\",\"cnt_credit_tran\"],\"type\":\"scatterpolar\"},{\"fill\":\"toself\",\"name\":\"cluster_2\",\"r\":[133.17054667994444,187.52623483890824,123.18639587631822,16.084762469502188,87.02919942600069,130.31037753166473,92.05175288121116,97.4633903810959,90.77582868673724,9.267576660491311,141.3411268229767,172.19480053418354],\"theta\":[\"income\",\"credit_balance\",\"checking_balance\",\"savings_balance\",\"avg_tran_amt\",\"count_tran_amt\",\"avg_savings_tran_amt\",\"avg_checking_tran_amt\",\"avg_credit_tran_amt\",\"cnt_savings_tran\",\"cnt_checking_tran\",\"cnt_credit_tran\"],\"type\":\"scatterpolar\"},{\"fill\":\"toself\",\"name\":\"cluster_3\",\"r\":[94.76418881338529,15.714792221068768,104.96005650706208,42.537983205789295,120.0008679782473,84.44522213217411,95.83216859669923,96.9623354831331,121.43338996448934,34.20451208457283,124.45273754900632,20.659634905680413],\"theta\":[\"income\",\"credit_balance\",\"checking_balance\",\"savings_balance\",\"avg_tran_amt\",\"count_tran_amt\",\"avg_savings_tran_amt\",\"avg_checking_tran_amt\",\"avg_credit_tran_amt\",\"cnt_savings_tran\",\"cnt_checking_tran\",\"cnt_credit_tran\"],\"type\":\"scatterpolar\"}],                        {\"polar\":{\"radialaxis\":{\"visible\":true}},\"showlegend\":true,\"template\":{\"data\":{\"bar\":[{\"error_x\":{\"color\":\"#2a3f5f\"},\"error_y\":{\"color\":\"#2a3f5f\"},\"marker\":{\"line\":{\"color\":\"#E5ECF6\",\"width\":0.5},\"pattern\":{\"fillmode\":\"overlay\",\"size\":10,\"solidity\":0.2}},\"type\":\"bar\"}],\"barpolar\":[{\"marker\":{\"line\":{\"color\":\"#E5ECF6\",\"width\":0.5},\"pattern\":{\"fillmode\":\"overlay\",\"size\":10,\"solidity\":0.2}},\"type\":\"barpolar\"}],\"carpet\":[{\"aaxis\":{\"endlinecolor\":\"#2a3f5f\",\"gridcolor\":\"white\",\"linecolor\":\"white\",\"minorgridcolor\":\"white\",\"startlinecolor\":\"#2a3f5f\"},\"baxis\":{\"endlinecolor\":\"#2a3f5f\",\"gridcolor\":\"white\",\"linecolor\":\"white\",\"minorgridcolor\":\"white\",\"startlinecolor\":\"#2a3f5f\"},\"type\":\"carpet\"}],\"choropleth\":[{\"colorbar\":{\"outlinewidth\":0,\"ticks\":\"\"},\"type\":\"choropleth\"}],\"contour\":[{\"colorbar\":{\"outlinewidth\":0,\"ticks\":\"\"},\"colorscale\":[[0.0,\"#0d0887\"],[0.1111111111111111,\"#46039f\"],[0.2222222222222222,\"#7201a8\"],[0.3333333333333333,\"#9c179e\"],[0.4444444444444444,\"#bd3786\"],[0.5555555555555556,\"#d8576b\"],[0.6666666666666666,\"#ed7953\"],[0.7777777777777778,\"#fb9f3a\"],[0.8888888888888888,\"#fdca26\"],[1.0,\"#f0f921\"]],\"type\":\"contour\"}],\"contourcarpet\":[{\"colorbar\":{\"outlinewidth\":0,\"ticks\":\"\"},\"type\":\"contourcarpet\"}],\"heatmap\":[{\"colorbar\":{\"outlinewidth\":0,\"ticks\":\"\"},\"colorscale\":[[0.0,\"#0d0887\"],[0.1111111111111111,\"#46039f\"],[0.2222222222222222,\"#7201a8\"],[0.3333333333333333,\"#9c179e\"],[0.4444444444444444,\"#bd3786\"],[0.5555555555555556,\"#d8576b\"],[0.6666666666666666,\"#ed7953\"],[0.7777777777777778,\"#fb9f3a\"],[0.8888888888888888,\"#fdca26\"],[1.0,\"#f0f921\"]],\"type\":\"heatmap\"}],\"heatmapgl\":[{\"colorbar\":{\"outlinewidth\":0,\"ticks\":\"\"},\"colorscale\":[[0.0,\"#0d0887\"],[0.1111111111111111,\"#46039f\"],[0.2222222222222222,\"#7201a8\"],[0.3333333333333333,\"#9c179e\"],[0.4444444444444444,\"#bd3786\"],[0.5555555555555556,\"#d8576b\"],[0.6666666666666666,\"#ed7953\"],[0.7777777777777778,\"#fb9f3a\"],[0.8888888888888888,\"#fdca26\"],[1.0,\"#f0f921\"]],\"type\":\"heatmapgl\"}],\"histogram\":[{\"marker\":{\"pattern\":{\"fillmode\":\"overlay\",\"size\":10,\"solidity\":0.2}},\"type\":\"histogram\"}],\"histogram2d\":[{\"colorbar\":{\"outlinewidth\":0,\"ticks\":\"\"},\"colorscale\":[[0.0,\"#0d0887\"],[0.1111111111111111,\"#46039f\"],[0.2222222222222222,\"#7201a8\"],[0.3333333333333333,\"#9c179e\"],[0.4444444444444444,\"#bd3786\"],[0.5555555555555556,\"#d8576b\"],[0.6666666666666666,\"#ed7953\"],[0.7777777777777778,\"#fb9f3a\"],[0.8888888888888888,\"#fdca26\"],[1.0,\"#f0f921\"]],\"type\":\"histogram2d\"}],\"histogram2dcontour\":[{\"colorbar\":{\"outlinewidth\":0,\"ticks\":\"\"},\"colorscale\":[[0.0,\"#0d0887\"],[0.1111111111111111,\"#46039f\"],[0.2222222222222222,\"#7201a8\"],[0.3333333333333333,\"#9c179e\"],[0.4444444444444444,\"#bd3786\"],[0.5555555555555556,\"#d8576b\"],[0.6666666666666666,\"#ed7953\"],[0.7777777777777778,\"#fb9f3a\"],[0.8888888888888888,\"#fdca26\"],[1.0,\"#f0f921\"]],\"type\":\"histogram2dcontour\"}],\"mesh3d\":[{\"colorbar\":{\"outlinewidth\":0,\"ticks\":\"\"},\"type\":\"mesh3d\"}],\"parcoords\":[{\"line\":{\"colorbar\":{\"outlinewidth\":0,\"ticks\":\"\"}},\"type\":\"parcoords\"}],\"pie\":[{\"automargin\":true,\"type\":\"pie\"}],\"scatter\":[{\"marker\":{\"colorbar\":{\"outlinewidth\":0,\"ticks\":\"\"}},\"type\":\"scatter\"}],\"scatter3d\":[{\"line\":{\"colorbar\":{\"outlinewidth\":0,\"ticks\":\"\"}},\"marker\":{\"colorbar\":{\"outlinewidth\":0,\"ticks\":\"\"}},\"type\":\"scatter3d\"}],\"scattercarpet\":[{\"marker\":{\"colorbar\":{\"outlinewidth\":0,\"ticks\":\"\"}},\"type\":\"scattercarpet\"}],\"scattergeo\":[{\"marker\":{\"colorbar\":{\"outlinewidth\":0,\"ticks\":\"\"}},\"type\":\"scattergeo\"}],\"scattergl\":[{\"marker\":{\"colorbar\":{\"outlinewidth\":0,\"ticks\":\"\"}},\"type\":\"scattergl\"}],\"scattermapbox\":[{\"marker\":{\"colorbar\":{\"outlinewidth\":0,\"ticks\":\"\"}},\"type\":\"scattermapbox\"}],\"scatterpolar\":[{\"marker\":{\"colorbar\":{\"outlinewidth\":0,\"ticks\":\"\"}},\"type\":\"scatterpolar\"}],\"scatterpolargl\":[{\"marker\":{\"colorbar\":{\"outlinewidth\":0,\"ticks\":\"\"}},\"type\":\"scatterpolargl\"}],\"scatterternary\":[{\"marker\":{\"colorbar\":{\"outlinewidth\":0,\"ticks\":\"\"}},\"type\":\"scatterternary\"}],\"surface\":[{\"colorbar\":{\"outlinewidth\":0,\"ticks\":\"\"},\"colorscale\":[[0.0,\"#0d0887\"],[0.1111111111111111,\"#46039f\"],[0.2222222222222222,\"#7201a8\"],[0.3333333333333333,\"#9c179e\"],[0.4444444444444444,\"#bd3786\"],[0.5555555555555556,\"#d8576b\"],[0.6666666666666666,\"#ed7953\"],[0.7777777777777778,\"#fb9f3a\"],[0.8888888888888888,\"#fdca26\"],[1.0,\"#f0f921\"]],\"type\":\"surface\"}],\"table\":[{\"cells\":{\"fill\":{\"color\":\"#EBF0F8\"},\"line\":{\"color\":\"white\"}},\"header\":{\"fill\":{\"color\":\"#C8D4E3\"},\"line\":{\"color\":\"white\"}},\"type\":\"table\"}]},\"layout\":{\"annotationdefaults\":{\"arrowcolor\":\"#2a3f5f\",\"arrowhead\":0,\"arrowwidth\":1},\"autotypenumbers\":\"strict\",\"coloraxis\":{\"colorbar\":{\"outlinewidth\":0,\"ticks\":\"\"}},\"colorscale\":{\"diverging\":[[0,\"#8e0152\"],[0.1,\"#c51b7d\"],[0.2,\"#de77ae\"],[0.3,\"#f1b6da\"],[0.4,\"#fde0ef\"],[0.5,\"#f7f7f7\"],[0.6,\"#e6f5d0\"],[0.7,\"#b8e186\"],[0.8,\"#7fbc41\"],[0.9,\"#4d9221\"],[1,\"#276419\"]],\"sequential\":[[0.0,\"#0d0887\"],[0.1111111111111111,\"#46039f\"],[0.2222222222222222,\"#7201a8\"],[0.3333333333333333,\"#9c179e\"],[0.4444444444444444,\"#bd3786\"],[0.5555555555555556,\"#d8576b\"],[0.6666666666666666,\"#ed7953\"],[0.7777777777777778,\"#fb9f3a\"],[0.8888888888888888,\"#fdca26\"],[1.0,\"#f0f921\"]],\"sequentialminus\":[[0.0,\"#0d0887\"],[0.1111111111111111,\"#46039f\"],[0.2222222222222222,\"#7201a8\"],[0.3333333333333333,\"#9c179e\"],[0.4444444444444444,\"#bd3786\"],[0.5555555555555556,\"#d8576b\"],[0.6666666666666666,\"#ed7953\"],[0.7777777777777778,\"#fb9f3a\"],[0.8888888888888888,\"#fdca26\"],[1.0,\"#f0f921\"]]},\"colorway\":[\"#636efa\",\"#EF553B\",\"#00cc96\",\"#ab63fa\",\"#FFA15A\",\"#19d3f3\",\"#FF6692\",\"#B6E880\",\"#FF97FF\",\"#FECB52\"],\"font\":{\"color\":\"#2a3f5f\"},\"geo\":{\"bgcolor\":\"white\",\"lakecolor\":\"white\",\"landcolor\":\"#E5ECF6\",\"showlakes\":true,\"showland\":true,\"subunitcolor\":\"white\"},\"hoverlabel\":{\"align\":\"left\"},\"hovermode\":\"closest\",\"mapbox\":{\"style\":\"light\"},\"paper_bgcolor\":\"white\",\"plot_bgcolor\":\"#E5ECF6\",\"polar\":{\"angularaxis\":{\"gridcolor\":\"white\",\"linecolor\":\"white\",\"ticks\":\"\"},\"bgcolor\":\"#E5ECF6\",\"radialaxis\":{\"gridcolor\":\"white\",\"linecolor\":\"white\",\"ticks\":\"\"}},\"scene\":{\"xaxis\":{\"backgroundcolor\":\"#E5ECF6\",\"gridcolor\":\"white\",\"gridwidth\":2,\"linecolor\":\"white\",\"showbackground\":true,\"ticks\":\"\",\"zerolinecolor\":\"white\"},\"yaxis\":{\"backgroundcolor\":\"#E5ECF6\",\"gridcolor\":\"white\",\"gridwidth\":2,\"linecolor\":\"white\",\"showbackground\":true,\"ticks\":\"\",\"zerolinecolor\":\"white\"},\"zaxis\":{\"backgroundcolor\":\"#E5ECF6\",\"gridcolor\":\"white\",\"gridwidth\":2,\"linecolor\":\"white\",\"showbackground\":true,\"ticks\":\"\",\"zerolinecolor\":\"white\"}},\"shapedefaults\":{\"line\":{\"color\":\"#2a3f5f\"}},\"ternary\":{\"aaxis\":{\"gridcolor\":\"white\",\"linecolor\":\"white\",\"ticks\":\"\"},\"baxis\":{\"gridcolor\":\"white\",\"linecolor\":\"white\",\"ticks\":\"\"},\"bgcolor\":\"#E5ECF6\",\"caxis\":{\"gridcolor\":\"white\",\"linecolor\":\"white\",\"ticks\":\"\"}},\"title\":{\"x\":0.05},\"xaxis\":{\"automargin\":true,\"gridcolor\":\"white\",\"linecolor\":\"white\",\"ticks\":\"\",\"title\":{\"standoff\":15},\"zerolinecolor\":\"white\",\"zerolinewidth\":2},\"yaxis\":{\"automargin\":true,\"gridcolor\":\"white\",\"linecolor\":\"white\",\"ticks\":\"\",\"title\":{\"standoff\":15},\"zerolinecolor\":\"white\",\"zerolinewidth\":2}}}},                        {\"responsive\": true}                    ).then(function(){\n",
       "                            \n",
       "var gd = document.getElementById('72af58b8-564d-4c1c-a103-984622af33f2');\n",
       "var x = new MutationObserver(function (mutations, observer) {{\n",
       "        var display = window.getComputedStyle(gd).display;\n",
       "        if (!display || display === 'none') {{\n",
       "            console.log([gd, 'removed!']);\n",
       "            Plotly.purge(gd);\n",
       "            observer.disconnect();\n",
       "        }}\n",
       "}});\n",
       "\n",
       "// Listen for the removal of the full notebook cells\n",
       "var notebookContainer = gd.closest('#notebook-container');\n",
       "if (notebookContainer) {{\n",
       "    x.observe(notebookContainer, {childList: true});\n",
       "}}\n",
       "\n",
       "// Listen for the clearing of the current output cell\n",
       "var outputEl = gd.closest('.output');\n",
       "if (outputEl) {{\n",
       "    x.observe(outputEl, {childList: true});\n",
       "}}\n",
       "\n",
       "                        })                };                });            </script>        </div>"
      ]
     },
     "metadata": {},
     "output_type": "display_data"
    }
   ],
   "source": [
    "plot_radar_chart(Nik(df_cust_info3, 'MinMax', 'KMeans', 4, epsilon=0.2, min_samples=10))"
   ]
  },
  {
   "cell_type": "markdown",
   "id": "872164fd-89f6-404c-825e-c92aa4c2d4fa",
   "metadata": {},
   "source": [
    "# PCA --> Scatterplot Visualizations"
   ]
  },
  {
   "cell_type": "code",
   "execution_count": 76,
   "id": "57b7a0cc-f562-4def-ac10-47b6662f3257",
   "metadata": {},
   "outputs": [
    {
     "data": {
      "application/vnd.plotly.v1+json": {
       "config": {
        "plotlyServerURL": "https://plot.ly"
       },
       "data": [
        {
         "hovertemplate": "color=1<br>PC1=%{x}<br>PC2=%{y}<extra></extra>",
         "legendgroup": "1",
         "marker": {
          "color": "#636efa",
          "symbol": "circle"
         },
         "mode": "markers",
         "name": "1",
         "orientation": "v",
         "showlegend": true,
         "type": "scatter",
         "x": [
          -0.20838284257714287,
          -0.20600996652372758,
          -0.2104337867857266,
          -0.2077795191365347,
          -0.20994047518213904,
          -0.2047188345085378,
          -0.2074991767847405,
          -0.20160486881356554,
          -0.2082226883280843,
          -0.20803959468690522,
          -0.20403876675285446,
          -0.20801276590765297,
          -0.2050500032757613,
          -0.2130934999820739,
          -0.206789057859291,
          -0.1986439879485221,
          -0.20971073884022062,
          -0.20650550158991576,
          -0.20831226008719805,
          -0.20873277126712386,
          -0.21113721800631122,
          -0.20902623770498874,
          -0.2060857418016832,
          -0.2091147883518118,
          -0.20674171270474528,
          -0.2102130570027669,
          -0.2105653240142476,
          -0.2038199016943703,
          -0.20057397767965782,
          -0.2074089545700864,
          -0.19998087748363147,
          -0.20990500241079832,
          -0.20486166004193085,
          -0.2079647938461996,
          -0.21159242343518617,
          -0.20689774501347108,
          -0.20804633835110783,
          -0.20522121334768856,
          -0.2054116876754936,
          -0.20744238430526082,
          -0.20458007407523793,
          -0.20595535962268197,
          -0.2050788954153341,
          -0.202303556634842,
          -0.20583515948097644,
          -0.20422873967176594,
          -0.20732520637406113,
          -0.20586044763018735,
          -0.2092226775123687,
          -0.20688857363496546,
          -0.20915839305145623,
          -0.20699665882313714,
          -0.20938134620220172,
          -0.20982581948991796,
          -0.2068194331966021,
          -0.20444080125453684,
          -0.21097346910660986,
          -0.21366866130204176,
          -0.2071718453528737,
          -0.20795280373500655,
          -0.20958443986828848,
          -0.20490869068088455,
          -0.20391417021526334,
          -0.20611187284630872,
          -0.20596244902252656,
          -0.20695455943437882,
          -0.20688978786830153,
          -0.20673667366465093,
          -0.20339790505194685,
          -0.20636204673672134,
          -0.20232678768898826,
          -0.2058908292683532,
          -0.20487727821167123,
          -0.20690062602426074,
          -0.20904519212694242,
          -0.20519598742307102,
          -0.20575435991689128,
          -0.2104283054672671,
          -0.20953050413607655,
          -0.20814364634226698,
          -0.21379411716932786,
          -0.20705329942251136,
          -0.20545619366448797,
          -0.2055068433124214,
          -0.20497509285425045,
          -0.2087810685563315,
          -0.205650016635103,
          -0.20702297144332515,
          -0.20744672866919453,
          -0.2081350428012693,
          -0.21005040091008206,
          -0.19848629937292525,
          -0.20628267527973576,
          -0.20907865419971092,
          -0.20922982560828185,
          -0.20569181824468283,
          -0.2101905560208414,
          -0.21347312408525734,
          -0.21045848990886712,
          -0.20974239214593837,
          -0.20989066997760916,
          -0.2056802791117084,
          -0.20684561620198172,
          -0.207507026578265,
          -0.20786452196156513,
          -0.20905545627686561,
          -0.2045997152552237,
          -0.2090767127789877,
          -0.2145279480657375,
          -0.20045994489576066,
          -0.2036696103700934,
          -0.2065681798195655,
          -0.20643571141469513,
          -0.20936876101224325,
          -0.20503804393817632,
          -0.20520228254556558,
          -0.2068652866214816,
          -0.20631955448516348,
          -0.20691278478565886,
          -0.2002556244302275,
          -0.20680514949777548,
          -0.208670234049442,
          -0.20503386990476316,
          -0.20748617984328163,
          -0.2103399912023901,
          -0.20815718416037393,
          -0.21326518546175421,
          -0.21128433752455875,
          -0.20881684497133265,
          -0.2066134308993984,
          -0.20544925683981513,
          -0.2034285523727015,
          -0.19830587230010485,
          -0.2079089878016337,
          -0.20630680670102436,
          -0.2080160379922488,
          -0.21131327929899765,
          -0.2109906707387603,
          -0.2031001171156969,
          -0.2048191741268264,
          -0.20929093811126837,
          -0.20762732844600437,
          -0.207534725910771,
          -0.2050163204221954,
          -0.2090073510128633,
          -0.20153539401692874,
          -0.20212119151980767,
          -0.20661050494930547,
          -0.207623459454225,
          -0.20436050879402054,
          -0.2072150385121621,
          -0.20685291809932038,
          -0.20998336160156822,
          -0.205493276365423,
          -0.2041417864832415,
          -0.2093293571568563,
          -0.20387889235399326,
          -0.2067483459626626,
          -0.2094587971038749,
          -0.20405754227867373,
          -0.20746326341343715,
          -0.20563882374342812,
          -0.2080526530967625,
          -0.20043991181457585
         ],
         "xaxis": "x",
         "y": [
          -0.5272077740953629,
          -0.5472440089011658,
          -0.5286175539608048,
          -0.4711222665244123,
          -0.5675761172655256,
          -0.5656528128153013,
          -0.5528223055726466,
          -0.5408489275162734,
          -0.5377186271726174,
          -0.5136698486533714,
          -0.5944987508000737,
          -0.5516770785277352,
          -0.5266684549748487,
          -0.4816295143574561,
          -0.5338490599972736,
          -0.5838253180631198,
          -0.5685217319938007,
          -0.5700067513899562,
          -0.5893098851465063,
          -0.6359395280871301,
          -0.6253494280357246,
          -0.6471327986720634,
          -0.49954035818705667,
          -0.5843446702365558,
          -0.46940722788587413,
          -0.6291533549588734,
          -0.43002968652400403,
          -0.5183617055831106,
          -0.5574933688429082,
          -0.5407924641199955,
          -0.5906915956556797,
          -0.532650447465275,
          -0.5753865688604682,
          -0.5273476897017138,
          -0.4630056679009648,
          -0.6062890436951202,
          -0.436879740193415,
          -0.575292993292564,
          -0.6136500969320139,
          -0.5530560683487175,
          -0.5576977603768514,
          -0.58467238740953,
          -0.5744924092038938,
          -0.5794693077220923,
          -0.4881705728528451,
          -0.6228118417879921,
          -0.5163347711236572,
          -0.5745993502357859,
          -0.5714993851641704,
          -0.5827686982626236,
          -0.5478491984812284,
          -0.5774901555980164,
          -0.5266161564978454,
          -0.5301512497589539,
          -0.5687145816423456,
          -0.5184367183621146,
          -0.5881266324332491,
          -0.5129474021837991,
          -0.49243917240541785,
          -0.42838184288265646,
          -0.5865419127218486,
          -0.5034164524148144,
          -0.5809484581449089,
          -0.4834321569716596,
          -0.5594942047189245,
          -0.472049442278027,
          -0.5076632883201463,
          -0.5569295849859827,
          -0.5830734503775308,
          -0.4569068231506433,
          -0.6182392373492435,
          -0.58563118847716,
          -0.516293547049631,
          -0.618678389125548,
          -0.5104994726606614,
          -0.5280050722968328,
          -0.5167427390890601,
          -0.6282673735918407,
          -0.6071603939732076,
          -0.41519511422189914,
          -0.49114691711044056,
          -0.4690934602777167,
          -0.5622001518336351,
          -0.5123868578016776,
          -0.4793094778355935,
          -0.46885617327134355,
          -0.5490011557385652,
          -0.619419116978321,
          -0.5664081408636434,
          -0.5371106333969964,
          -0.5795248573468866,
          -0.57848763791961,
          -0.5082247156959983,
          -0.4838973931221796,
          -0.5593443209060392,
          -0.5106567345485031,
          -0.529618712905552,
          -0.45615216148604076,
          -0.4896503230984568,
          -0.5562658021646538,
          -0.6049847315741647,
          -0.5243497467618339,
          -0.5803148255131364,
          -0.554034307360268,
          -0.55422476422604,
          -0.5836201358349636,
          -0.541198645327015,
          -0.5304196137519294,
          -0.47406326261113624,
          -0.5066959830975557,
          -0.5149310784571283,
          -0.5347582131846748,
          -0.5702940138101136,
          -0.5604343896214138,
          -0.5021908346508817,
          -0.5884653065654724,
          -0.5430302485958819,
          -0.5073797291578251,
          -0.5931327462392313,
          -0.5075369838721084,
          -0.5680801860598751,
          -0.5737732904188665,
          -0.538167314878398,
          -0.46564974798461317,
          -0.40449282919834706,
          -0.5650646536463843,
          -0.49332404593889156,
          -0.48555787408804435,
          -0.45128972088267555,
          -0.48330520122771814,
          -0.5638906433062065,
          -0.4944769369979162,
          -0.5560898224734832,
          -0.5766310842175144,
          -0.597564505390738,
          -0.6002996756542157,
          -0.4517534454789173,
          -0.4266169835787465,
          -0.5222931517712971,
          -0.5400197717126356,
          -0.557848464318903,
          -0.5170287111924783,
          -0.5278735744417338,
          -0.46507663876574906,
          -0.45841972501455025,
          -0.567599238552701,
          -0.5678187344469443,
          -0.5574489063718895,
          -0.5287526516925894,
          -0.519042770946501,
          -0.6045654094274252,
          -0.5678835663488064,
          -0.5703058441591472,
          -0.5238751540812352,
          -0.5804291965057542,
          -0.5817995475068619,
          -0.507655191731938,
          -0.5428183979730733,
          -0.4081199006101537,
          -0.5307535106009986,
          -0.5405689242058519,
          -0.49944241096859743,
          -0.5639141033154459,
          -0.534904726640805
         ],
         "yaxis": "y"
        },
        {
         "hovertemplate": "color=0<br>PC1=%{x}<br>PC2=%{y}<extra></extra>",
         "legendgroup": "0",
         "marker": {
          "color": "#EF553B",
          "symbol": "circle"
         },
         "mode": "markers",
         "name": "0",
         "orientation": "v",
         "showlegend": true,
         "type": "scatter",
         "x": [
          -1.4825695297444312,
          -1.4751565035037069,
          -1.486062965787534,
          -1.4791039411918026,
          -1.482860626785023,
          -1.4825141264512602,
          -1.4803314038380055,
          -1.485060923506768,
          -1.475134660202297,
          -1.4807872708155658,
          -1.4777707695157016,
          -1.4891443554929422,
          -1.49333489269368,
          -1.4799189546648748,
          -1.476191585368048,
          -1.4790274286846952,
          -1.4809284175306545,
          -1.4750316114142163,
          -1.4787806860195258,
          -1.4814191867683586,
          -1.4857068014719694,
          -1.4817732180597356,
          -1.4777269802410233,
          -1.4851234946978682,
          -1.4923119098007411,
          -1.476672908503247,
          -1.4857068014719694,
          -1.4854365486420145,
          -1.4845401879237672,
          -1.4857068014719694,
          -1.4764143123237505,
          -1.4815117243047566,
          -1.4820950310788574,
          -1.4789572410973015,
          -1.481171121213169,
          -1.4802503583785906,
          -1.476095396333149,
          -1.491806300887342,
          -1.4778178804831033,
          -1.4918035260498599,
          -1.4788972916606047,
          -1.482152138145127,
          -1.4909758121597914,
          -1.4815117243047566,
          -1.4824490982382663,
          -1.4815482922445997,
          -1.4853941375591408,
          -1.4809284175306545,
          -1.489089915091759,
          -1.4807329338405235,
          -1.494416282882799,
          -1.4871378992769995,
          -1.4841325961991712,
          -1.486334538378897,
          -1.4884085709137453,
          -1.4851234946978682,
          -1.4781642088938975,
          -1.4815117243047566,
          -1.4826419636224617,
          -1.4838075380059583,
          -1.4818654271832932,
          -1.4823855568876567,
          -1.4851234946978682,
          -1.4820344965804906,
          -1.4820950310788574,
          -1.4938860714729942,
          -1.4873640639661496,
          -1.4821760472751413,
          -1.4823968590916896,
          -1.4902640932289415,
          -1.4799916037771301,
          -1.489223034412842,
          -1.4815117243047566,
          -1.483568522700021,
          -1.4820950310788574,
          -1.4793772901898667,
          -1.4779224617433007,
          -1.4795109048515018,
          -1.4845326146719193,
          -1.480818152334239,
          -1.4853318771527926,
          -1.4857068014719694,
          -1.4845401879237672,
          -1.4857068014719694,
          -1.4919291877741407,
          -1.483667374602509,
          -1.4815117243047566,
          -1.4822225906233153,
          -1.4820950310788574,
          -1.4944367187509775,
          -1.4857068014719694,
          -1.4845401879237672,
          -1.4779266480210889,
          -1.4820950310788574,
          -1.4792662771639677,
          -1.4774263112583843,
          -1.481726432988448,
          -1.480655766716433,
          -1.4828592242635663,
          -1.481921183154739,
          -1.4822749787809402,
          -1.4800549475165374,
          -1.4782859584010966,
          -1.4889071852324043,
          -1.4815117243047566,
          -1.4765622928895203,
          -1.4776170379483862,
          -1.4874100553839558,
          -1.4857068014719694,
          -1.4820950310788574,
          -1.4820065004896543,
          -1.478428793418517,
          -1.4807795715435663,
          -1.484140495819104,
          -1.4820950310788574,
          -1.4857068014719694,
          -1.4798964584021286,
          -1.4904453171910217,
          -1.4820950310788574,
          -1.479443669497684,
          -1.4927467330185036,
          -1.4829762963626467,
          -1.4845401879237672,
          -1.481467468661823,
          -1.4837975908597336,
          -1.4847670202640004,
          -1.4882734965399949,
          -1.4810115978141802,
          -1.4732464013120166,
          -1.4866682058364664,
          -1.4787797770313484,
          -1.4798552858300082,
          -1.4912863217486259,
          -1.4820950310788574,
          -1.47500666464473,
          -1.4857068014719694,
          -1.4911691833068847,
          -1.4941015619035252,
          -1.4840948797022044,
          -1.4889583477115855,
          -1.4833858584384307,
          -1.4851234946978682,
          -1.478753356644878,
          -1.4815821436535563,
          -1.4770135805922533,
          -1.4851234946978682,
          -1.4761104808373213,
          -1.4845401879237672,
          -1.4819022539954196,
          -1.4857068014719694,
          -1.4891152978387563,
          -1.4829825667140484,
          -1.4854797138123421,
          -1.4832070878417138,
          -1.4847059405236804,
          -1.4761249731298733,
          -1.4766855915765986,
          -1.4826571275932985,
          -1.4758953372719585,
          -1.4857068014719694,
          -1.4825707798438859,
          -1.4935026736531947,
          -1.4786883447408175,
          -1.4787964504872004,
          -1.4821591585494647,
          -1.4900701331895203,
          -1.4797089936059948,
          -1.4818310867815383,
          -1.4914358588496637,
          -1.4815117243047566,
          -1.4849646120820355,
          -1.4820950310788574,
          -1.4820950310788574,
          -1.4820950310788574,
          -1.4960609189746679,
          -1.4815117243047566,
          -1.4845401879237672,
          -1.4829150118113443,
          -1.4881978923468413,
          -1.48591585098464,
          -1.4782582300089842,
          -1.4784105596915533,
          -1.4771513959085167,
          -1.4815117243047566,
          -1.4851234946978682,
          -1.4809284175306545,
          -1.4861372809547344,
          -1.4773577463365346,
          -1.4857068014719694,
          -1.4809284175306545,
          -1.4845401879237672,
          -1.4815117243047566,
          -1.4836692372273348,
          -1.4896607677721987,
          -1.4816921698299048,
          -1.4757384266736715,
          -1.4801965810346578,
          -1.488625179047206,
          -1.4771255815260314,
          -1.4739940531387214,
          -1.482528160655035,
          -1.4763480710088595,
          -1.4834652929474033,
          -1.4829249475692696,
          -1.4928687168435988,
          -1.480978952904133,
          -1.4857068014719694,
          -1.4936360237636797,
          -1.4927477335280928,
          -1.4770391951737682,
          -1.4820950310788574,
          -1.4875923715947892,
          -1.4941357368618648,
          -1.4887326637404532,
          -1.4899502154510413,
          -1.4871755969246898,
          -1.4750435769439465,
          -1.4845401879237672,
          -1.4773901219031416,
          -1.4764691951731372,
          -1.476566840675851,
          -1.4938143543467917,
          -1.4820950310788574,
          -1.477937398294753,
          -1.4836870083378835,
          -1.4786455337450097,
          -1.4809284175306545,
          -1.4899856474804574,
          -1.4811985046595206
         ],
         "xaxis": "x",
         "y": [
          0.3142588115492475,
          0.29221141919860505,
          0.39511084253959766,
          0.44898269241802735,
          0.33840302897233204,
          0.37418041527943796,
          0.30435330248490716,
          0.5032903733335378,
          0.35737027804221416,
          0.3794737314840613,
          0.3179227286236271,
          0.5826029098202075,
          0.37063213571347225,
          0.3026556258808466,
          0.2735258692826354,
          0.21009803451971504,
          0.44495687712237353,
          0.3059549275464858,
          0.35812006181073347,
          0.27162709970103677,
          0.3956636102795728,
          0.41123053767994866,
          0.3556392884571914,
          0.4056638728775902,
          0.36739019968727127,
          0.33889943375256826,
          0.3956636102795728,
          0.517237682921686,
          0.41566413547560743,
          0.3956636102795728,
          0.3626374372692243,
          0.43495661452435624,
          0.4249563519263389,
          0.32349953718588365,
          0.30780965210252786,
          0.41446736504340753,
          0.31867542606460175,
          0.5050893418180451,
          0.43294988986856925,
          0.3776988519534288,
          0.24745917952027344,
          0.4127902056479906,
          0.4503610721482915,
          0.43495661452435624,
          0.4140125191724317,
          0.3651058385605745,
          0.4328853770489538,
          0.44495687712237353,
          0.4474043297013227,
          0.42410236645095045,
          0.31432152422902704,
          0.4259997088462611,
          0.35603976943004373,
          0.470360320582239,
          0.44459985791259954,
          0.4056638728775902,
          0.29288338030947575,
          0.43495661452435624,
          0.2766601553899115,
          0.5343661911872669,
          0.39920887451683956,
          0.3736512117936681,
          0.4056638728775902,
          0.41230598275470065,
          0.4249563519263389,
          0.3366659740308307,
          0.4272061841878442,
          0.40048741378188074,
          0.4137974983098941,
          0.41138104884115057,
          0.24025544780235075,
          0.3909109818146603,
          0.43495661452435624,
          0.39381775959977827,
          0.4249563519263389,
          0.3128272917971784,
          0.2555013046066915,
          0.305728582433799,
          0.4524797429925504,
          0.30704999008017864,
          0.5299012384326792,
          0.3956636102795728,
          0.41566413547560743,
          0.3956636102795728,
          0.389648540067972,
          0.3754587909325663,
          0.43495661452435624,
          0.41308019416466174,
          0.4249563519263389,
          0.5137412857695843,
          0.3956636102795728,
          0.41566413547560743,
          0.3440599344534701,
          0.4249563519263389,
          0.35026715283457704,
          0.3668029127425355,
          0.39574060844351466,
          0.30568840825261284,
          0.4935347995774642,
          0.35933860527265055,
          0.4008946244486516,
          0.31630977671259497,
          0.2580372711980967,
          0.40043131382417035,
          0.43495661452435624,
          0.26265052970364106,
          0.35518675643587605,
          0.364696280724662,
          0.3956636102795728,
          0.4249563519263389,
          0.2864457378874554,
          0.41937084944653624,
          0.37944204061208675,
          0.308323840377654,
          0.4249563519263389,
          0.3956636102795728,
          0.29085501391628077,
          0.5507541693517637,
          0.4249563519263389,
          0.3006993108700253,
          0.33225191988478314,
          0.42383119133260183,
          0.41566413547560743,
          0.2842270360871668,
          0.486657932932162,
          0.47824698460177606,
          0.46594003678620716,
          0.4252493715591936,
          0.32479563267559847,
          0.5105992754683434,
          0.34757148752549827,
          0.2947448805183752,
          0.4471520961902913,
          0.4249563519263389,
          0.31894663692534503,
          0.3956636102795728,
          0.48808505449425843,
          0.4594330576044724,
          0.30813608048025576,
          0.5942384895645288,
          0.4728375644660734,
          0.4056638728775902,
          0.3729583352898775,
          0.4104440588356748,
          0.34030166964692987,
          0.4056638728775902,
          0.3613868404934511,
          0.41566413547560743,
          0.27361544634589685,
          0.3956636102795728,
          0.422706399449693,
          0.40380711781173984,
          0.4019674959823585,
          0.5204622326342878,
          0.3220202269971871,
          0.33884704955928124,
          0.28934682269975676,
          0.402467582137199,
          0.30951009816273695,
          0.3956636102795728,
          0.40211216730419314,
          0.47103112439358674,
          0.43108708278689595,
          0.31043650515444676,
          0.4004178983207751,
          0.3886054061210781,
          0.2259978073548274,
          0.4114687303628548,
          0.414357863973743,
          0.43495661452435624,
          0.5048314478940675,
          0.4249563519263389,
          0.4249563519263389,
          0.4249563519263389,
          0.4178931257302799,
          0.43495661452435624,
          0.41566413547560743,
          0.4035290559673172,
          0.4561338905617763,
          0.47057446766460514,
          0.35782595862344113,
          0.3584529608216488,
          0.3131703677110823,
          0.43495661452435624,
          0.4056638728775902,
          0.44495687712237353,
          0.5465863046979695,
          0.35411948965066575,
          0.3956636102795728,
          0.44495687712237353,
          0.41566413547560743,
          0.43495661452435624,
          0.4296826147442073,
          0.34144597574049945,
          0.3080979623347282,
          0.22066943601722155,
          0.36649756825315627,
          0.4511493653575961,
          0.36625827158272384,
          0.2506930548695777,
          0.4143379469437842,
          0.28657118168673157,
          0.5329574808136845,
          0.5052377759574953,
          0.5235254809503318,
          0.39741644053306907,
          0.3956636102795728,
          0.3235111138762095,
          0.4433157496653716,
          0.3652095093301335,
          0.4249563519263389,
          0.4650739681249218,
          0.3634647766615316,
          0.46662367488048967,
          0.40699851454717073,
          0.486223394495564,
          0.2825881479175534,
          0.41566413547560743,
          0.39214955058333395,
          0.3249665395522687,
          0.3260616454455963,
          0.3621419383281387,
          0.4249563519263389,
          0.30910353712373306,
          0.5365007698825582,
          0.24642292208290933,
          0.44495687712237353,
          0.5135148882632032,
          0.40886496742997086
         ],
         "yaxis": "y"
        },
        {
         "hovertemplate": "color=2<br>PC1=%{x}<br>PC2=%{y}<extra></extra>",
         "legendgroup": "2",
         "marker": {
          "color": "#00cc96",
          "symbol": "circle"
         },
         "mode": "markers",
         "name": "2",
         "orientation": "v",
         "showlegend": true,
         "type": "scatter",
         "x": [
          0.5275727469883029,
          0.5231581201231428,
          0.5293740951431684,
          0.5289959871635869,
          0.526453704955702,
          0.5257698715593877,
          0.5236006426148179,
          0.5205813855611413,
          0.5258404612743074,
          0.5285862597263586,
          0.5301400706365716,
          0.5268866066603458,
          0.526261901195985,
          0.5215061914163507,
          0.530846482182999,
          0.5276671093882991,
          0.5240311536739145,
          0.5280553521280034,
          0.527956480617637,
          0.5236004746044782,
          0.5285843863968441,
          0.5240229923145543,
          0.5275986004257867,
          0.5213473538295694,
          0.522663383711958,
          0.5244611664417993,
          0.5319731494115642,
          0.5232356631326147,
          0.5249384143491853,
          0.5270557769205856,
          0.5283387839501046,
          0.5234141758936743,
          0.5258722470619782,
          0.5242645326821551,
          0.5291420974919948,
          0.5238506595505242,
          0.526742074810547,
          0.5275604352172732,
          0.5261723791684653,
          0.5259647794900885,
          0.526449532397167,
          0.5236945705281785,
          0.5230254127318902,
          0.5236085175921591,
          0.5261485867119051,
          0.529522872039935,
          0.5248435779570989,
          0.5240369834647469,
          0.5273099411934983,
          0.5273877397184475,
          0.5285566319323937,
          0.5233820431441079,
          0.5244517506982644,
          0.5215103151318133,
          0.5264661049880641,
          0.5291058956062398,
          0.5264805226437218,
          0.5251088364840107,
          0.5279219186452037,
          0.5256966982694177,
          0.5269873050860446,
          0.5280077491397122,
          0.523060546694225,
          0.5226242432564906,
          0.531980936188701,
          0.5235258448841743,
          0.5233033483886336,
          0.5235792327971049,
          0.5262414857212455,
          0.522946589962884,
          0.5278264471164142,
          0.5258688969086909,
          0.5276701772943032,
          0.525700655390203,
          0.5220990684521827,
          0.5275766427730166,
          0.5231376092963347,
          0.5338800828559113,
          0.5271162988528421,
          0.5228938470320321,
          0.5247713387087093,
          0.5270157715119459,
          0.5250082161270032,
          0.5291534000712717,
          0.5240042873501405,
          0.5253954606949887,
          0.5252598872917418,
          0.5297265065451578,
          0.533955395365335,
          0.5260933458825012,
          0.5264943411630357,
          0.5294398201272752,
          0.5240687960809508,
          0.522624589292353,
          0.5244136233739176,
          0.5241590293512381,
          0.5263449870890426,
          0.5261780931743651,
          0.5267785700348171,
          0.529224200948722,
          0.528577312371039,
          0.5222293150926778,
          0.5187160266091227,
          0.5237231063069212,
          0.5265518739785755,
          0.5276347346134864,
          0.5274865277222593,
          0.5286306284786214,
          0.527106443097614,
          0.5199275111833866,
          0.5256921385033333,
          0.5257274841694554,
          0.5284378636751575,
          0.521750399957602,
          0.5241080422865649,
          0.5291541616912052,
          0.527329810282529,
          0.5246709950543251,
          0.5237051862426269,
          0.5245882025609119,
          0.5287677071533616,
          0.5267871854824578,
          0.5207679728575948,
          0.526741127805876,
          0.5275217015117848,
          0.524648601388446,
          0.5259813016503107,
          0.533140057850286,
          0.5234853844827355,
          0.5252812741471783,
          0.5278997472686859,
          0.5256258088895979,
          0.5284741973241823,
          0.5244050583390422,
          0.5232140729515091,
          0.5282177157451649,
          0.5241922107228,
          0.5265012858346394,
          0.5266127790230698,
          0.5330697386102452,
          0.5272907178427411,
          0.5263505070478635,
          0.5244799919657469,
          0.5270406638681708,
          0.5312926025103711,
          0.5277228926029154,
          0.5250879589594223,
          0.5285163757076337,
          0.5252165505592684,
          0.5288379515135904,
          0.5288076609821981,
          0.5256591432707912,
          0.522794227149014,
          0.5277599390803974,
          0.5277891670491072,
          0.5267200665947757,
          0.5236245721757827,
          0.5328879269735685,
          0.524138863128633,
          0.5293276345828647,
          0.5258197374780337,
          0.5290455211389551,
          0.5272847619064094,
          0.5297378816128676,
          0.5240593843379123,
          0.5264498525286164,
          0.5262885006109158,
          0.5279069837346413,
          0.5227251601232039,
          0.5266797087151797,
          0.5223541500340889,
          0.5281468485358276,
          0.5291586204263219,
          0.5282192501118632,
          0.5255673709165384,
          0.5242367608612164,
          0.5205331579842107,
          0.5242031000814052,
          0.5223220161886825,
          0.5253784103565554,
          0.5324125803379794,
          0.5275278144938436,
          0.5231384749268843,
          0.5269852235793553,
          0.5284147335571643,
          0.5281527099099718,
          0.5240838689825265,
          0.521449051220693,
          0.5207597263132779
         ],
         "xaxis": "x",
         "y": [
          -0.5631832807651203,
          -0.6324327796624338,
          -0.5457953783156397,
          -0.5177747063037127,
          -0.5924569405703568,
          -0.5910285999968113,
          -0.4340309741866329,
          -0.49601067355766937,
          -0.5791935113170048,
          -0.527520686148794,
          -0.49795700720827385,
          -0.4969666709482493,
          -0.5561257867807154,
          -0.4838977408153336,
          -0.502526597361638,
          -0.5371073378538304,
          -0.5348181942390712,
          -0.601129024961899,
          -0.5252040225081643,
          -0.5206442778782009,
          -0.49321561471825165,
          -0.5707439009190152,
          -0.5234553947223703,
          -0.522109502181254,
          -0.47625964084665123,
          -0.52224945945683,
          -0.516934572135773,
          -0.617108001336701,
          -0.5338000329335066,
          -0.5336222899698025,
          -0.5522732125837132,
          -0.5668515826214644,
          -0.628653598216245,
          -0.5357788024981733,
          -0.5298085626481241,
          -0.5216740608363444,
          -0.5228361120486077,
          -0.523298303410754,
          -0.5436316642686622,
          -0.5196366970274265,
          -0.5056313385104754,
          -0.5722983394530611,
          -0.5819452317904582,
          -0.6696338953997989,
          -0.5046681817890208,
          -0.5561782715869317,
          -0.5165214138062941,
          -0.5708014897078724,
          -0.5725652524725787,
          -0.5225874737447422,
          -0.5159662820287729,
          -0.5922149178034106,
          -0.5725087076497315,
          -0.475031820475192,
          -0.6082330619010194,
          -0.6314998731841605,
          -0.5939537015562767,
          -0.502050418483363,
          -0.4764256971183246,
          -0.48152407189635055,
          -0.5715128160902925,
          -0.49964388998098813,
          -0.46680853887759755,
          -0.41594888683909503,
          -0.5689265662972118,
          -0.6068699610708527,
          -0.4891731591991504,
          -0.6185221639033113,
          -0.5808441627561998,
          -0.5029209387313006,
          -0.5966786192703827,
          -0.5659406005627737,
          -0.48779071178363664,
          -0.5528468999455548,
          -0.6124296789567035,
          -0.5138700623155691,
          -0.5081942512744874,
          -0.5669731042091086,
          -0.5606113120853617,
          -0.554939349205848,
          -0.5747929100193654,
          -0.5239626714329964,
          -0.5388398681212718,
          -0.6052310589445088,
          -0.4946078444547671,
          -0.5508975035571694,
          -0.5751418795012914,
          -0.5348447303204475,
          -0.524124918200362,
          -0.541368855656065,
          -0.48295086818518806,
          -0.5469535287931422,
          -0.6212304374087668,
          -0.6021915644378445,
          -0.5478249262768974,
          -0.5837050450932432,
          -0.5316653676878633,
          -0.4711043311972499,
          -0.56968489412468,
          -0.5811377003415988,
          -0.5656562201934746,
          -0.5760377355198641,
          -0.4866707552669624,
          -0.5573839020017194,
          -0.5325169320864075,
          -0.48501413735931104,
          -0.57329209795561,
          -0.5910957084436502,
          -0.5338308363531193,
          -0.4668549231097481,
          -0.5413793901519162,
          -0.5908541298199188,
          -0.5543429722337873,
          -0.476020030461498,
          -0.5720627243606476,
          -0.5556293781544461,
          -0.5726470353679973,
          -0.6237091406640733,
          -0.5818369874570609,
          -0.5889898692936035,
          -0.6301078601517263,
          -0.6076171563449103,
          -0.4843774791477978,
          -0.6205219713973876,
          -0.5989324726957862,
          -0.5638240093787258,
          -0.5196235740371138,
          -0.5903914437813641,
          -0.479643067382524,
          -0.5001294976023524,
          -0.5027987845496348,
          -0.5907111873870982,
          -0.4646357812870412,
          -0.5723165178454983,
          -0.46964343165464484,
          -0.5129093346785857,
          -0.5714404185783285,
          -0.5816379607317257,
          -0.5317988721640361,
          -0.551236453021618,
          -0.5600849235709979,
          -0.530719337944513,
          -0.534462686241459,
          -0.5851023997639957,
          -0.5835936483131045,
          -0.6121617966145736,
          -0.46143699521679515,
          -0.552728633829445,
          -0.613553490564761,
          -0.5585393281479436,
          -0.5561305546813933,
          -0.5927858953402331,
          -0.6407866088730282,
          -0.6426536313663722,
          -0.5497353798571313,
          -0.4943436768337467,
          -0.5445771230425936,
          -0.54785741126771,
          -0.4486475404689553,
          -0.5332029386949229,
          -0.5781394599992893,
          -0.518947342819785,
          -0.5727371741871188,
          -0.5596939589286014,
          -0.5349343941029783,
          -0.5931342721729217,
          -0.5199192812558664,
          -0.5135678354927253,
          -0.5064965746704269,
          -0.5216106574125777,
          -0.48518504672943846,
          -0.5266807819134447,
          -0.49391727293666876,
          -0.5122224617382218,
          -0.5790381980687205,
          -0.56019133726787,
          -0.5549930627857944,
          -0.672081248545195,
          -0.6133473511957112,
          -0.5155612118672156,
          -0.5089727933309303,
          -0.5260702848003417,
          -0.5673787124067086,
          -0.5097737906694393,
          -0.5773882356019768,
          -0.5143037039173297,
          -0.6591892790700082,
          -0.47126134288832927,
          -0.5056276334874032
         ],
         "yaxis": "y"
        },
        {
         "hovertemplate": "color=3<br>PC1=%{x}<br>PC2=%{y}<extra></extra>",
         "legendgroup": "3",
         "marker": {
          "color": "#ab63fa",
          "symbol": "circle"
         },
         "mode": "markers",
         "name": "3",
         "orientation": "v",
         "showlegend": true,
         "type": "scatter",
         "x": [
          1.6624151080619711,
          1.6629984148360726,
          1.6629984148360726,
          1.657496664489225,
          1.66183180128787,
          1.6629882816220265,
          1.6582200308947577,
          1.6619034431513968,
          1.6593866444429601,
          1.6593866444429601,
          1.6669240942488386,
          1.6629205666526403,
          1.6596752699969846,
          1.6690465903475284,
          1.6657899362827842,
          1.6628128970950693,
          1.6523887801905077,
          1.6588981859013943,
          1.6615349472539263,
          1.6604319305635225,
          1.6575703673805746,
          1.662504497446749,
          1.6588033376688593,
          1.665098801060329,
          1.6629984148360726,
          1.6701761370032953,
          1.6549520764943169,
          1.6553423971851104,
          1.6535008038630312,
          1.6646956384236142,
          1.660876735596058,
          1.6610663545927522,
          1.666180264529674,
          1.6622047937759394,
          1.656936944778138,
          1.6491150166568012,
          1.6614345232749523,
          1.655274567978781,
          1.6638513997973812,
          1.66579146510291,
          1.6624732728362634,
          1.6617263461049585,
          1.660716804310585,
          1.6613174729533575,
          1.6558285173962852,
          1.6624151080619711,
          1.6674506769188933,
          1.6582200308947577,
          1.6616674177055277,
          1.659585283449419,
          1.6646732763675962,
          1.6678980797227387,
          1.6620320202247247,
          1.6572499834622931,
          1.6570957512047675,
          1.655324866260984,
          1.6629984148360726,
          1.6670121942983942,
          1.6588033376688593,
          1.661237962956481,
          1.6679126392948829,
          1.6619274378435245,
          1.6654588951715366,
          1.66183180128787,
          1.6689747911146267,
          1.6556333677537707,
          1.6563730778039731,
          1.6624151080619711,
          1.6588033376688593,
          1.6676350626566945,
          1.660264471274618,
          1.6593866444429601,
          1.6641786094613704,
          1.6640669165094812,
          1.6624151080619711,
          1.656675006679847,
          1.6593866444429601,
          1.664860559643369,
          1.6629984148360726,
          1.6511772444116852,
          1.6582200308947577,
          1.665339057008432,
          1.6624151080619711,
          1.6673208054431832,
          1.6642598817556937,
          1.6624151080619711,
          1.6613225278611656,
          1.6599574276259155,
          1.6744977687291158,
          1.6647396176195275,
          1.6692983813925106,
          1.6627707150971396,
          1.6593866444429601,
          1.661727587923023,
          1.66844643899526,
          1.6572016479098488,
          1.6624151080619711,
          1.6700681479788089,
          1.661392820261743,
          1.66183180128787,
          1.6588033376688593,
          1.6624191977970364,
          1.66183180128787,
          1.6600945408229502,
          1.6592519956333918,
          1.6624151080619711,
          1.6527671980396124,
          1.6616147480549028,
          1.6516603306380369,
          1.6655515072144147,
          1.664861139158466,
          1.6588033376688593,
          1.6570330958050674,
          1.6613440747704402,
          1.6626890862563712,
          1.6664477521763497,
          1.66183180128787,
          1.662208833816923,
          1.6582200308947577,
          1.6644063688541788,
          1.6615701557475997,
          1.6641019870801852,
          1.6588033376688593,
          1.6588033376688593,
          1.6622220964409709,
          1.6664710022870903,
          1.6613770025540773,
          1.6606131649517748,
          1.6626087157983613,
          1.6588033376688593,
          1.6631092815857413,
          1.6666249678786904,
          1.6593466848551663,
          1.6664724008525424,
          1.6618963923919137,
          1.6606988503982196,
          1.6582200308947577,
          1.663066607191835,
          1.6629823970426882,
          1.6612529713778699,
          1.6584463138556746,
          1.6593866444429601,
          1.6648327556171632,
          1.654043939983873,
          1.6532117563049669,
          1.667374474094833,
          1.6612739269548478,
          1.6588033376688593,
          1.6634100002624623,
          1.6663403707630529,
          1.652562121983094,
          1.6629984148360726,
          1.6597824762449234,
          1.6624151080619711,
          1.657097213416068,
          1.6677905437499088,
          1.6646465088475109,
          1.6611708560555003,
          1.66183180128787,
          1.6632279293032664,
          1.6629984148360726,
          1.66183180128787,
          1.6566287987265704,
          1.6665053338229794,
          1.6520010514614065
         ],
         "xaxis": "x",
         "y": [
          0.6575552449602062,
          0.6675555075582237,
          0.6675555075582237,
          0.7579892792144365,
          0.6475549823621889,
          0.6303936049840967,
          0.6182622407154227,
          0.5091138837844112,
          0.6382627659114575,
          0.6382627659114575,
          0.55080106185948,
          0.5927755253870988,
          0.5791280749522117,
          0.6044172975175169,
          0.542721556327146,
          0.7334765149982176,
          0.6001735192509051,
          0.6523176755119943,
          0.6803300875330459,
          0.633603445407145,
          0.6150805179183495,
          0.6388213016775846,
          0.6282625033134401,
          0.43256911656238717,
          0.6675555075582237,
          0.5742723890501074,
          0.5877663980176534,
          0.6421512027279598,
          0.7767917158859677,
          0.6852806283099776,
          0.5264342936653542,
          0.5734022499867298,
          0.5535161352969146,
          0.6212173050574198,
          0.6653550552792713,
          0.5516425945680288,
          0.6593884517012294,
          0.8031760505461948,
          0.6439946645725794,
          0.4800160554390883,
          0.7077169026636966,
          0.6355878411293587,
          0.6692168654145976,
          0.7406005609663008,
          0.7744315999098149,
          0.6575552449602062,
          0.5144495438035742,
          0.6182622407154227,
          0.6234291916164237,
          0.6323460312419372,
          0.5899671507828179,
          0.5712478666692167,
          0.5454492128822649,
          0.7580358893642273,
          0.6855078114196441,
          0.6347868986482541,
          0.6675555075582237,
          0.4866994434849109,
          0.6282625033134401,
          0.7339723406324905,
          0.44440314488906635,
          0.6347601300753115,
          0.6191845623335687,
          0.6475549823621889,
          0.4524324397074999,
          0.6847838343046988,
          0.7120404935000526,
          0.6575552449602062,
          0.6282625033134401,
          0.5723304677473179,
          0.5767028713409913,
          0.6382627659114575,
          0.5770524791563277,
          0.5505068438277638,
          0.6575552449602062,
          0.6996408363328054,
          0.6382627659114575,
          0.5465469512603425,
          0.6675555075582237,
          0.6287184013206705,
          0.6182622407154227,
          0.4949725988803747,
          0.6575552449602062,
          0.47372115782631985,
          0.5439202743210919,
          0.6575552449602062,
          0.609032338980491,
          0.565565485734594,
          0.5061861734663131,
          0.5725403554990746,
          0.5785784958748005,
          0.6312891276889284,
          0.6382627659114575,
          0.6355827296983951,
          0.49389036024415495,
          0.6092783308083788,
          0.6575552449602062,
          0.5677613908663971,
          0.6092621007133827,
          0.6475549823621889,
          0.6282625033134401,
          0.6327360034137057,
          0.6475549823621889,
          0.6950606897290087,
          0.5525994072795531,
          0.6575552449602062,
          0.6365127188207973,
          0.636047188391959,
          0.7009427677888307,
          0.5437029510721668,
          0.5465445659258924,
          0.6282625033134401,
          0.7465274138698688,
          0.5970615374665458,
          0.6316251190842723,
          0.49040911331602727,
          0.6475549823621889,
          0.6336018798189483,
          0.6182622407154227,
          0.4988116242961407,
          0.49808451975237883,
          0.6477157505717226,
          0.6282625033134401,
          0.6282625033134401,
          0.6211460857859932,
          0.4845211060410543,
          0.6101513420858753,
          0.6951390503819033,
          0.6195547269459765,
          0.6282625033134401,
          0.5413541598646706,
          0.5144820859418348,
          0.7229413376606717,
          0.6026116810404248,
          0.634887915849403,
          0.6947863616454112,
          0.6182622407154227,
          0.44093380295336976,
          0.6275216725231978,
          0.5891833351331737,
          0.6413587894805083,
          0.6382627659114575,
          0.6447078438306462,
          0.6789248530734314,
          0.682350193343206,
          0.524491445734436,
          0.6250488337077725,
          0.6282625033134401,
          0.5153139678419864,
          0.590753924430217,
          0.7258703474032209,
          0.6675555075582237,
          0.6858814714497753,
          0.6575552449602062,
          0.6813892077455768,
          0.432504496831149,
          0.484728794787574,
          0.6254730824777558,
          0.6475549823621889,
          0.6389122443433283,
          0.6675555075582237,
          0.6475549823621889,
          0.7298035918130636,
          0.5135881330475616,
          0.6265718522031092
         ],
         "yaxis": "y"
        }
       ],
       "layout": {
        "autosize": true,
        "legend": {
         "title": {
          "text": "color"
         },
         "tracegroupgap": 0
        },
        "margin": {
         "t": 60
        },
        "template": {
         "data": {
          "bar": [
           {
            "error_x": {
             "color": "#2a3f5f"
            },
            "error_y": {
             "color": "#2a3f5f"
            },
            "marker": {
             "line": {
              "color": "#E5ECF6",
              "width": 0.5
             },
             "pattern": {
              "fillmode": "overlay",
              "size": 10,
              "solidity": 0.2
             }
            },
            "type": "bar"
           }
          ],
          "barpolar": [
           {
            "marker": {
             "line": {
              "color": "#E5ECF6",
              "width": 0.5
             },
             "pattern": {
              "fillmode": "overlay",
              "size": 10,
              "solidity": 0.2
             }
            },
            "type": "barpolar"
           }
          ],
          "carpet": [
           {
            "aaxis": {
             "endlinecolor": "#2a3f5f",
             "gridcolor": "white",
             "linecolor": "white",
             "minorgridcolor": "white",
             "startlinecolor": "#2a3f5f"
            },
            "baxis": {
             "endlinecolor": "#2a3f5f",
             "gridcolor": "white",
             "linecolor": "white",
             "minorgridcolor": "white",
             "startlinecolor": "#2a3f5f"
            },
            "type": "carpet"
           }
          ],
          "choropleth": [
           {
            "colorbar": {
             "outlinewidth": 0,
             "ticks": ""
            },
            "type": "choropleth"
           }
          ],
          "contour": [
           {
            "colorbar": {
             "outlinewidth": 0,
             "ticks": ""
            },
            "colorscale": [
             [
              0,
              "#0d0887"
             ],
             [
              0.1111111111111111,
              "#46039f"
             ],
             [
              0.2222222222222222,
              "#7201a8"
             ],
             [
              0.3333333333333333,
              "#9c179e"
             ],
             [
              0.4444444444444444,
              "#bd3786"
             ],
             [
              0.5555555555555556,
              "#d8576b"
             ],
             [
              0.6666666666666666,
              "#ed7953"
             ],
             [
              0.7777777777777778,
              "#fb9f3a"
             ],
             [
              0.8888888888888888,
              "#fdca26"
             ],
             [
              1,
              "#f0f921"
             ]
            ],
            "type": "contour"
           }
          ],
          "contourcarpet": [
           {
            "colorbar": {
             "outlinewidth": 0,
             "ticks": ""
            },
            "type": "contourcarpet"
           }
          ],
          "heatmap": [
           {
            "colorbar": {
             "outlinewidth": 0,
             "ticks": ""
            },
            "colorscale": [
             [
              0,
              "#0d0887"
             ],
             [
              0.1111111111111111,
              "#46039f"
             ],
             [
              0.2222222222222222,
              "#7201a8"
             ],
             [
              0.3333333333333333,
              "#9c179e"
             ],
             [
              0.4444444444444444,
              "#bd3786"
             ],
             [
              0.5555555555555556,
              "#d8576b"
             ],
             [
              0.6666666666666666,
              "#ed7953"
             ],
             [
              0.7777777777777778,
              "#fb9f3a"
             ],
             [
              0.8888888888888888,
              "#fdca26"
             ],
             [
              1,
              "#f0f921"
             ]
            ],
            "type": "heatmap"
           }
          ],
          "heatmapgl": [
           {
            "colorbar": {
             "outlinewidth": 0,
             "ticks": ""
            },
            "colorscale": [
             [
              0,
              "#0d0887"
             ],
             [
              0.1111111111111111,
              "#46039f"
             ],
             [
              0.2222222222222222,
              "#7201a8"
             ],
             [
              0.3333333333333333,
              "#9c179e"
             ],
             [
              0.4444444444444444,
              "#bd3786"
             ],
             [
              0.5555555555555556,
              "#d8576b"
             ],
             [
              0.6666666666666666,
              "#ed7953"
             ],
             [
              0.7777777777777778,
              "#fb9f3a"
             ],
             [
              0.8888888888888888,
              "#fdca26"
             ],
             [
              1,
              "#f0f921"
             ]
            ],
            "type": "heatmapgl"
           }
          ],
          "histogram": [
           {
            "marker": {
             "pattern": {
              "fillmode": "overlay",
              "size": 10,
              "solidity": 0.2
             }
            },
            "type": "histogram"
           }
          ],
          "histogram2d": [
           {
            "colorbar": {
             "outlinewidth": 0,
             "ticks": ""
            },
            "colorscale": [
             [
              0,
              "#0d0887"
             ],
             [
              0.1111111111111111,
              "#46039f"
             ],
             [
              0.2222222222222222,
              "#7201a8"
             ],
             [
              0.3333333333333333,
              "#9c179e"
             ],
             [
              0.4444444444444444,
              "#bd3786"
             ],
             [
              0.5555555555555556,
              "#d8576b"
             ],
             [
              0.6666666666666666,
              "#ed7953"
             ],
             [
              0.7777777777777778,
              "#fb9f3a"
             ],
             [
              0.8888888888888888,
              "#fdca26"
             ],
             [
              1,
              "#f0f921"
             ]
            ],
            "type": "histogram2d"
           }
          ],
          "histogram2dcontour": [
           {
            "colorbar": {
             "outlinewidth": 0,
             "ticks": ""
            },
            "colorscale": [
             [
              0,
              "#0d0887"
             ],
             [
              0.1111111111111111,
              "#46039f"
             ],
             [
              0.2222222222222222,
              "#7201a8"
             ],
             [
              0.3333333333333333,
              "#9c179e"
             ],
             [
              0.4444444444444444,
              "#bd3786"
             ],
             [
              0.5555555555555556,
              "#d8576b"
             ],
             [
              0.6666666666666666,
              "#ed7953"
             ],
             [
              0.7777777777777778,
              "#fb9f3a"
             ],
             [
              0.8888888888888888,
              "#fdca26"
             ],
             [
              1,
              "#f0f921"
             ]
            ],
            "type": "histogram2dcontour"
           }
          ],
          "mesh3d": [
           {
            "colorbar": {
             "outlinewidth": 0,
             "ticks": ""
            },
            "type": "mesh3d"
           }
          ],
          "parcoords": [
           {
            "line": {
             "colorbar": {
              "outlinewidth": 0,
              "ticks": ""
             }
            },
            "type": "parcoords"
           }
          ],
          "pie": [
           {
            "automargin": true,
            "type": "pie"
           }
          ],
          "scatter": [
           {
            "marker": {
             "colorbar": {
              "outlinewidth": 0,
              "ticks": ""
             }
            },
            "type": "scatter"
           }
          ],
          "scatter3d": [
           {
            "line": {
             "colorbar": {
              "outlinewidth": 0,
              "ticks": ""
             }
            },
            "marker": {
             "colorbar": {
              "outlinewidth": 0,
              "ticks": ""
             }
            },
            "type": "scatter3d"
           }
          ],
          "scattercarpet": [
           {
            "marker": {
             "colorbar": {
              "outlinewidth": 0,
              "ticks": ""
             }
            },
            "type": "scattercarpet"
           }
          ],
          "scattergeo": [
           {
            "marker": {
             "colorbar": {
              "outlinewidth": 0,
              "ticks": ""
             }
            },
            "type": "scattergeo"
           }
          ],
          "scattergl": [
           {
            "marker": {
             "colorbar": {
              "outlinewidth": 0,
              "ticks": ""
             }
            },
            "type": "scattergl"
           }
          ],
          "scattermapbox": [
           {
            "marker": {
             "colorbar": {
              "outlinewidth": 0,
              "ticks": ""
             }
            },
            "type": "scattermapbox"
           }
          ],
          "scatterpolar": [
           {
            "marker": {
             "colorbar": {
              "outlinewidth": 0,
              "ticks": ""
             }
            },
            "type": "scatterpolar"
           }
          ],
          "scatterpolargl": [
           {
            "marker": {
             "colorbar": {
              "outlinewidth": 0,
              "ticks": ""
             }
            },
            "type": "scatterpolargl"
           }
          ],
          "scatterternary": [
           {
            "marker": {
             "colorbar": {
              "outlinewidth": 0,
              "ticks": ""
             }
            },
            "type": "scatterternary"
           }
          ],
          "surface": [
           {
            "colorbar": {
             "outlinewidth": 0,
             "ticks": ""
            },
            "colorscale": [
             [
              0,
              "#0d0887"
             ],
             [
              0.1111111111111111,
              "#46039f"
             ],
             [
              0.2222222222222222,
              "#7201a8"
             ],
             [
              0.3333333333333333,
              "#9c179e"
             ],
             [
              0.4444444444444444,
              "#bd3786"
             ],
             [
              0.5555555555555556,
              "#d8576b"
             ],
             [
              0.6666666666666666,
              "#ed7953"
             ],
             [
              0.7777777777777778,
              "#fb9f3a"
             ],
             [
              0.8888888888888888,
              "#fdca26"
             ],
             [
              1,
              "#f0f921"
             ]
            ],
            "type": "surface"
           }
          ],
          "table": [
           {
            "cells": {
             "fill": {
              "color": "#EBF0F8"
             },
             "line": {
              "color": "white"
             }
            },
            "header": {
             "fill": {
              "color": "#C8D4E3"
             },
             "line": {
              "color": "white"
             }
            },
            "type": "table"
           }
          ]
         },
         "layout": {
          "annotationdefaults": {
           "arrowcolor": "#2a3f5f",
           "arrowhead": 0,
           "arrowwidth": 1
          },
          "autotypenumbers": "strict",
          "coloraxis": {
           "colorbar": {
            "outlinewidth": 0,
            "ticks": ""
           }
          },
          "colorscale": {
           "diverging": [
            [
             0,
             "#8e0152"
            ],
            [
             0.1,
             "#c51b7d"
            ],
            [
             0.2,
             "#de77ae"
            ],
            [
             0.3,
             "#f1b6da"
            ],
            [
             0.4,
             "#fde0ef"
            ],
            [
             0.5,
             "#f7f7f7"
            ],
            [
             0.6,
             "#e6f5d0"
            ],
            [
             0.7,
             "#b8e186"
            ],
            [
             0.8,
             "#7fbc41"
            ],
            [
             0.9,
             "#4d9221"
            ],
            [
             1,
             "#276419"
            ]
           ],
           "sequential": [
            [
             0,
             "#0d0887"
            ],
            [
             0.1111111111111111,
             "#46039f"
            ],
            [
             0.2222222222222222,
             "#7201a8"
            ],
            [
             0.3333333333333333,
             "#9c179e"
            ],
            [
             0.4444444444444444,
             "#bd3786"
            ],
            [
             0.5555555555555556,
             "#d8576b"
            ],
            [
             0.6666666666666666,
             "#ed7953"
            ],
            [
             0.7777777777777778,
             "#fb9f3a"
            ],
            [
             0.8888888888888888,
             "#fdca26"
            ],
            [
             1,
             "#f0f921"
            ]
           ],
           "sequentialminus": [
            [
             0,
             "#0d0887"
            ],
            [
             0.1111111111111111,
             "#46039f"
            ],
            [
             0.2222222222222222,
             "#7201a8"
            ],
            [
             0.3333333333333333,
             "#9c179e"
            ],
            [
             0.4444444444444444,
             "#bd3786"
            ],
            [
             0.5555555555555556,
             "#d8576b"
            ],
            [
             0.6666666666666666,
             "#ed7953"
            ],
            [
             0.7777777777777778,
             "#fb9f3a"
            ],
            [
             0.8888888888888888,
             "#fdca26"
            ],
            [
             1,
             "#f0f921"
            ]
           ]
          },
          "colorway": [
           "#636efa",
           "#EF553B",
           "#00cc96",
           "#ab63fa",
           "#FFA15A",
           "#19d3f3",
           "#FF6692",
           "#B6E880",
           "#FF97FF",
           "#FECB52"
          ],
          "font": {
           "color": "#2a3f5f"
          },
          "geo": {
           "bgcolor": "white",
           "lakecolor": "white",
           "landcolor": "#E5ECF6",
           "showlakes": true,
           "showland": true,
           "subunitcolor": "white"
          },
          "hoverlabel": {
           "align": "left"
          },
          "hovermode": "closest",
          "mapbox": {
           "style": "light"
          },
          "paper_bgcolor": "white",
          "plot_bgcolor": "#E5ECF6",
          "polar": {
           "angularaxis": {
            "gridcolor": "white",
            "linecolor": "white",
            "ticks": ""
           },
           "bgcolor": "#E5ECF6",
           "radialaxis": {
            "gridcolor": "white",
            "linecolor": "white",
            "ticks": ""
           }
          },
          "scene": {
           "xaxis": {
            "backgroundcolor": "#E5ECF6",
            "gridcolor": "white",
            "gridwidth": 2,
            "linecolor": "white",
            "showbackground": true,
            "ticks": "",
            "zerolinecolor": "white"
           },
           "yaxis": {
            "backgroundcolor": "#E5ECF6",
            "gridcolor": "white",
            "gridwidth": 2,
            "linecolor": "white",
            "showbackground": true,
            "ticks": "",
            "zerolinecolor": "white"
           },
           "zaxis": {
            "backgroundcolor": "#E5ECF6",
            "gridcolor": "white",
            "gridwidth": 2,
            "linecolor": "white",
            "showbackground": true,
            "ticks": "",
            "zerolinecolor": "white"
           }
          },
          "shapedefaults": {
           "line": {
            "color": "#2a3f5f"
           }
          },
          "ternary": {
           "aaxis": {
            "gridcolor": "white",
            "linecolor": "white",
            "ticks": ""
           },
           "baxis": {
            "gridcolor": "white",
            "linecolor": "white",
            "ticks": ""
           },
           "bgcolor": "#E5ECF6",
           "caxis": {
            "gridcolor": "white",
            "linecolor": "white",
            "ticks": ""
           }
          },
          "title": {
           "x": 0.05
          },
          "xaxis": {
           "automargin": true,
           "gridcolor": "white",
           "linecolor": "white",
           "ticks": "",
           "title": {
            "standoff": 15
           },
           "zerolinecolor": "white",
           "zerolinewidth": 2
          },
          "yaxis": {
           "automargin": true,
           "gridcolor": "white",
           "linecolor": "white",
           "ticks": "",
           "title": {
            "standoff": 15
           },
           "zerolinecolor": "white",
           "zerolinewidth": 2
          }
         }
        },
        "xaxis": {
         "anchor": "y",
         "autorange": true,
         "domain": [
          0,
          1
         ],
         "range": [
          -1.684072485361415,
          1.862509335115863
         ],
         "title": {
          "text": "PC1"
         },
         "type": "linear"
        },
        "yaxis": {
         "anchor": "x",
         "autorange": true,
         "domain": [
          0,
          1
         ],
         "range": [
          -0.7863072073987278,
          0.9174020093997276
         ],
         "title": {
          "text": "PC2"
         },
         "type": "linear"
        }
       }
      },
      "image/png": "[encoded data removed]",
      "text/html": [
       "<div>                            <div id=\"123a5fe1-e3e8-439d-a69b-4ccb265183d4\" class=\"plotly-graph-div\" style=\"height:525px; width:100%;\"></div>            <script type=\"text/javascript\">                require([\"plotly\"], function(Plotly) {                    window.PLOTLYENV=window.PLOTLYENV || {};                                    if (document.getElementById(\"123a5fe1-e3e8-439d-a69b-4ccb265183d4\")) {                    Plotly.newPlot(                        \"123a5fe1-e3e8-439d-a69b-4ccb265183d4\",                        [{\"hovertemplate\":\"color=1<br>PC1=%{x}<br>PC2=%{y}<extra></extra>\",\"legendgroup\":\"1\",\"marker\":{\"color\":\"#636efa\",\"symbol\":\"circle\"},\"mode\":\"markers\",\"name\":\"1\",\"orientation\":\"v\",\"showlegend\":true,\"type\":\"scatter\",\"x\":[-0.20838284257714287,-0.20600996652372758,-0.2104337867857266,-0.2077795191365347,-0.20994047518213904,-0.2047188345085378,-0.2074991767847405,-0.20160486881356554,-0.2082226883280843,-0.20803959468690522,-0.20403876675285446,-0.20801276590765297,-0.2050500032757613,-0.2130934999820739,-0.206789057859291,-0.1986439879485221,-0.20971073884022062,-0.20650550158991576,-0.20831226008719805,-0.20873277126712386,-0.21113721800631122,-0.20902623770498874,-0.2060857418016832,-0.2091147883518118,-0.20674171270474528,-0.2102130570027669,-0.2105653240142476,-0.2038199016943703,-0.20057397767965782,-0.2074089545700864,-0.19998087748363147,-0.20990500241079832,-0.20486166004193085,-0.2079647938461996,-0.21159242343518617,-0.20689774501347108,-0.20804633835110783,-0.20522121334768856,-0.2054116876754936,-0.20744238430526082,-0.20458007407523793,-0.20595535962268197,-0.2050788954153341,-0.202303556634842,-0.20583515948097644,-0.20422873967176594,-0.20732520637406113,-0.20586044763018735,-0.2092226775123687,-0.20688857363496546,-0.20915839305145623,-0.20699665882313714,-0.20938134620220172,-0.20982581948991796,-0.2068194331966021,-0.20444080125453684,-0.21097346910660986,-0.21366866130204176,-0.2071718453528737,-0.20795280373500655,-0.20958443986828848,-0.20490869068088455,-0.20391417021526334,-0.20611187284630872,-0.20596244902252656,-0.20695455943437882,-0.20688978786830153,-0.20673667366465093,-0.20339790505194685,-0.20636204673672134,-0.20232678768898826,-0.2058908292683532,-0.20487727821167123,-0.20690062602426074,-0.20904519212694242,-0.20519598742307102,-0.20575435991689128,-0.2104283054672671,-0.20953050413607655,-0.20814364634226698,-0.21379411716932786,-0.20705329942251136,-0.20545619366448797,-0.2055068433124214,-0.20497509285425045,-0.2087810685563315,-0.205650016635103,-0.20702297144332515,-0.20744672866919453,-0.2081350428012693,-0.21005040091008206,-0.19848629937292525,-0.20628267527973576,-0.20907865419971092,-0.20922982560828185,-0.20569181824468283,-0.2101905560208414,-0.21347312408525734,-0.21045848990886712,-0.20974239214593837,-0.20989066997760916,-0.2056802791117084,-0.20684561620198172,-0.207507026578265,-0.20786452196156513,-0.20905545627686561,-0.2045997152552237,-0.2090767127789877,-0.2145279480657375,-0.20045994489576066,-0.2036696103700934,-0.2065681798195655,-0.20643571141469513,-0.20936876101224325,-0.20503804393817632,-0.20520228254556558,-0.2068652866214816,-0.20631955448516348,-0.20691278478565886,-0.2002556244302275,-0.20680514949777548,-0.208670234049442,-0.20503386990476316,-0.20748617984328163,-0.2103399912023901,-0.20815718416037393,-0.21326518546175421,-0.21128433752455875,-0.20881684497133265,-0.2066134308993984,-0.20544925683981513,-0.2034285523727015,-0.19830587230010485,-0.2079089878016337,-0.20630680670102436,-0.2080160379922488,-0.21131327929899765,-0.2109906707387603,-0.2031001171156969,-0.2048191741268264,-0.20929093811126837,-0.20762732844600437,-0.207534725910771,-0.2050163204221954,-0.2090073510128633,-0.20153539401692874,-0.20212119151980767,-0.20661050494930547,-0.207623459454225,-0.20436050879402054,-0.2072150385121621,-0.20685291809932038,-0.20998336160156822,-0.205493276365423,-0.2041417864832415,-0.2093293571568563,-0.20387889235399326,-0.2067483459626626,-0.2094587971038749,-0.20405754227867373,-0.20746326341343715,-0.20563882374342812,-0.2080526530967625,-0.20043991181457585],\"xaxis\":\"x\",\"y\":[-0.5272077740953629,-0.5472440089011658,-0.5286175539608048,-0.4711222665244123,-0.5675761172655256,-0.5656528128153013,-0.5528223055726466,-0.5408489275162734,-0.5377186271726174,-0.5136698486533714,-0.5944987508000737,-0.5516770785277352,-0.5266684549748487,-0.4816295143574561,-0.5338490599972736,-0.5838253180631198,-0.5685217319938007,-0.5700067513899562,-0.5893098851465063,-0.6359395280871301,-0.6253494280357246,-0.6471327986720634,-0.49954035818705667,-0.5843446702365558,-0.46940722788587413,-0.6291533549588734,-0.43002968652400403,-0.5183617055831106,-0.5574933688429082,-0.5407924641199955,-0.5906915956556797,-0.532650447465275,-0.5753865688604682,-0.5273476897017138,-0.4630056679009648,-0.6062890436951202,-0.436879740193415,-0.575292993292564,-0.6136500969320139,-0.5530560683487175,-0.5576977603768514,-0.58467238740953,-0.5744924092038938,-0.5794693077220923,-0.4881705728528451,-0.6228118417879921,-0.5163347711236572,-0.5745993502357859,-0.5714993851641704,-0.5827686982626236,-0.5478491984812284,-0.5774901555980164,-0.5266161564978454,-0.5301512497589539,-0.5687145816423456,-0.5184367183621146,-0.5881266324332491,-0.5129474021837991,-0.49243917240541785,-0.42838184288265646,-0.5865419127218486,-0.5034164524148144,-0.5809484581449089,-0.4834321569716596,-0.5594942047189245,-0.472049442278027,-0.5076632883201463,-0.5569295849859827,-0.5830734503775308,-0.4569068231506433,-0.6182392373492435,-0.58563118847716,-0.516293547049631,-0.618678389125548,-0.5104994726606614,-0.5280050722968328,-0.5167427390890601,-0.6282673735918407,-0.6071603939732076,-0.41519511422189914,-0.49114691711044056,-0.4690934602777167,-0.5622001518336351,-0.5123868578016776,-0.4793094778355935,-0.46885617327134355,-0.5490011557385652,-0.619419116978321,-0.5664081408636434,-0.5371106333969964,-0.5795248573468866,-0.57848763791961,-0.5082247156959983,-0.4838973931221796,-0.5593443209060392,-0.5106567345485031,-0.529618712905552,-0.45615216148604076,-0.4896503230984568,-0.5562658021646538,-0.6049847315741647,-0.5243497467618339,-0.5803148255131364,-0.554034307360268,-0.55422476422604,-0.5836201358349636,-0.541198645327015,-0.5304196137519294,-0.47406326261113624,-0.5066959830975557,-0.5149310784571283,-0.5347582131846748,-0.5702940138101136,-0.5604343896214138,-0.5021908346508817,-0.5884653065654724,-0.5430302485958819,-0.5073797291578251,-0.5931327462392313,-0.5075369838721084,-0.5680801860598751,-0.5737732904188665,-0.538167314878398,-0.46564974798461317,-0.40449282919834706,-0.5650646536463843,-0.49332404593889156,-0.48555787408804435,-0.45128972088267555,-0.48330520122771814,-0.5638906433062065,-0.4944769369979162,-0.5560898224734832,-0.5766310842175144,-0.597564505390738,-0.6002996756542157,-0.4517534454789173,-0.4266169835787465,-0.5222931517712971,-0.5400197717126356,-0.557848464318903,-0.5170287111924783,-0.5278735744417338,-0.46507663876574906,-0.45841972501455025,-0.567599238552701,-0.5678187344469443,-0.5574489063718895,-0.5287526516925894,-0.519042770946501,-0.6045654094274252,-0.5678835663488064,-0.5703058441591472,-0.5238751540812352,-0.5804291965057542,-0.5817995475068619,-0.507655191731938,-0.5428183979730733,-0.4081199006101537,-0.5307535106009986,-0.5405689242058519,-0.49944241096859743,-0.5639141033154459,-0.534904726640805],\"yaxis\":\"y\"},{\"hovertemplate\":\"color=0<br>PC1=%{x}<br>PC2=%{y}<extra></extra>\",\"legendgroup\":\"0\",\"marker\":{\"color\":\"#EF553B\",\"symbol\":\"circle\"},\"mode\":\"markers\",\"name\":\"0\",\"orientation\":\"v\",\"showlegend\":true,\"type\":\"scatter\",\"x\":[-1.4825695297444312,-1.4751565035037069,-1.486062965787534,-1.4791039411918026,-1.482860626785023,-1.4825141264512602,-1.4803314038380055,-1.485060923506768,-1.475134660202297,-1.4807872708155658,-1.4777707695157016,-1.4891443554929422,-1.49333489269368,-1.4799189546648748,-1.476191585368048,-1.4790274286846952,-1.4809284175306545,-1.4750316114142163,-1.4787806860195258,-1.4814191867683586,-1.4857068014719694,-1.4817732180597356,-1.4777269802410233,-1.4851234946978682,-1.4923119098007411,-1.476672908503247,-1.4857068014719694,-1.4854365486420145,-1.4845401879237672,-1.4857068014719694,-1.4764143123237505,-1.4815117243047566,-1.4820950310788574,-1.4789572410973015,-1.481171121213169,-1.4802503583785906,-1.476095396333149,-1.491806300887342,-1.4778178804831033,-1.4918035260498599,-1.4788972916606047,-1.482152138145127,-1.4909758121597914,-1.4815117243047566,-1.4824490982382663,-1.4815482922445997,-1.4853941375591408,-1.4809284175306545,-1.489089915091759,-1.4807329338405235,-1.494416282882799,-1.4871378992769995,-1.4841325961991712,-1.486334538378897,-1.4884085709137453,-1.4851234946978682,-1.4781642088938975,-1.4815117243047566,-1.4826419636224617,-1.4838075380059583,-1.4818654271832932,-1.4823855568876567,-1.4851234946978682,-1.4820344965804906,-1.4820950310788574,-1.4938860714729942,-1.4873640639661496,-1.4821760472751413,-1.4823968590916896,-1.4902640932289415,-1.4799916037771301,-1.489223034412842,-1.4815117243047566,-1.483568522700021,-1.4820950310788574,-1.4793772901898667,-1.4779224617433007,-1.4795109048515018,-1.4845326146719193,-1.480818152334239,-1.4853318771527926,-1.4857068014719694,-1.4845401879237672,-1.4857068014719694,-1.4919291877741407,-1.483667374602509,-1.4815117243047566,-1.4822225906233153,-1.4820950310788574,-1.4944367187509775,-1.4857068014719694,-1.4845401879237672,-1.4779266480210889,-1.4820950310788574,-1.4792662771639677,-1.4774263112583843,-1.481726432988448,-1.480655766716433,-1.4828592242635663,-1.481921183154739,-1.4822749787809402,-1.4800549475165374,-1.4782859584010966,-1.4889071852324043,-1.4815117243047566,-1.4765622928895203,-1.4776170379483862,-1.4874100553839558,-1.4857068014719694,-1.4820950310788574,-1.4820065004896543,-1.478428793418517,-1.4807795715435663,-1.484140495819104,-1.4820950310788574,-1.4857068014719694,-1.4798964584021286,-1.4904453171910217,-1.4820950310788574,-1.479443669497684,-1.4927467330185036,-1.4829762963626467,-1.4845401879237672,-1.481467468661823,-1.4837975908597336,-1.4847670202640004,-1.4882734965399949,-1.4810115978141802,-1.4732464013120166,-1.4866682058364664,-1.4787797770313484,-1.4798552858300082,-1.4912863217486259,-1.4820950310788574,-1.47500666464473,-1.4857068014719694,-1.4911691833068847,-1.4941015619035252,-1.4840948797022044,-1.4889583477115855,-1.4833858584384307,-1.4851234946978682,-1.478753356644878,-1.4815821436535563,-1.4770135805922533,-1.4851234946978682,-1.4761104808373213,-1.4845401879237672,-1.4819022539954196,-1.4857068014719694,-1.4891152978387563,-1.4829825667140484,-1.4854797138123421,-1.4832070878417138,-1.4847059405236804,-1.4761249731298733,-1.4766855915765986,-1.4826571275932985,-1.4758953372719585,-1.4857068014719694,-1.4825707798438859,-1.4935026736531947,-1.4786883447408175,-1.4787964504872004,-1.4821591585494647,-1.4900701331895203,-1.4797089936059948,-1.4818310867815383,-1.4914358588496637,-1.4815117243047566,-1.4849646120820355,-1.4820950310788574,-1.4820950310788574,-1.4820950310788574,-1.4960609189746679,-1.4815117243047566,-1.4845401879237672,-1.4829150118113443,-1.4881978923468413,-1.48591585098464,-1.4782582300089842,-1.4784105596915533,-1.4771513959085167,-1.4815117243047566,-1.4851234946978682,-1.4809284175306545,-1.4861372809547344,-1.4773577463365346,-1.4857068014719694,-1.4809284175306545,-1.4845401879237672,-1.4815117243047566,-1.4836692372273348,-1.4896607677721987,-1.4816921698299048,-1.4757384266736715,-1.4801965810346578,-1.488625179047206,-1.4771255815260314,-1.4739940531387214,-1.482528160655035,-1.4763480710088595,-1.4834652929474033,-1.4829249475692696,-1.4928687168435988,-1.480978952904133,-1.4857068014719694,-1.4936360237636797,-1.4927477335280928,-1.4770391951737682,-1.4820950310788574,-1.4875923715947892,-1.4941357368618648,-1.4887326637404532,-1.4899502154510413,-1.4871755969246898,-1.4750435769439465,-1.4845401879237672,-1.4773901219031416,-1.4764691951731372,-1.476566840675851,-1.4938143543467917,-1.4820950310788574,-1.477937398294753,-1.4836870083378835,-1.4786455337450097,-1.4809284175306545,-1.4899856474804574,-1.4811985046595206],\"xaxis\":\"x\",\"y\":[0.3142588115492475,0.29221141919860505,0.39511084253959766,0.44898269241802735,0.33840302897233204,0.37418041527943796,0.30435330248490716,0.5032903733335378,0.35737027804221416,0.3794737314840613,0.3179227286236271,0.5826029098202075,0.37063213571347225,0.3026556258808466,0.2735258692826354,0.21009803451971504,0.44495687712237353,0.3059549275464858,0.35812006181073347,0.27162709970103677,0.3956636102795728,0.41123053767994866,0.3556392884571914,0.4056638728775902,0.36739019968727127,0.33889943375256826,0.3956636102795728,0.517237682921686,0.41566413547560743,0.3956636102795728,0.3626374372692243,0.43495661452435624,0.4249563519263389,0.32349953718588365,0.30780965210252786,0.41446736504340753,0.31867542606460175,0.5050893418180451,0.43294988986856925,0.3776988519534288,0.24745917952027344,0.4127902056479906,0.4503610721482915,0.43495661452435624,0.4140125191724317,0.3651058385605745,0.4328853770489538,0.44495687712237353,0.4474043297013227,0.42410236645095045,0.31432152422902704,0.4259997088462611,0.35603976943004373,0.470360320582239,0.44459985791259954,0.4056638728775902,0.29288338030947575,0.43495661452435624,0.2766601553899115,0.5343661911872669,0.39920887451683956,0.3736512117936681,0.4056638728775902,0.41230598275470065,0.4249563519263389,0.3366659740308307,0.4272061841878442,0.40048741378188074,0.4137974983098941,0.41138104884115057,0.24025544780235075,0.3909109818146603,0.43495661452435624,0.39381775959977827,0.4249563519263389,0.3128272917971784,0.2555013046066915,0.305728582433799,0.4524797429925504,0.30704999008017864,0.5299012384326792,0.3956636102795728,0.41566413547560743,0.3956636102795728,0.389648540067972,0.3754587909325663,0.43495661452435624,0.41308019416466174,0.4249563519263389,0.5137412857695843,0.3956636102795728,0.41566413547560743,0.3440599344534701,0.4249563519263389,0.35026715283457704,0.3668029127425355,0.39574060844351466,0.30568840825261284,0.4935347995774642,0.35933860527265055,0.4008946244486516,0.31630977671259497,0.2580372711980967,0.40043131382417035,0.43495661452435624,0.26265052970364106,0.35518675643587605,0.364696280724662,0.3956636102795728,0.4249563519263389,0.2864457378874554,0.41937084944653624,0.37944204061208675,0.308323840377654,0.4249563519263389,0.3956636102795728,0.29085501391628077,0.5507541693517637,0.4249563519263389,0.3006993108700253,0.33225191988478314,0.42383119133260183,0.41566413547560743,0.2842270360871668,0.486657932932162,0.47824698460177606,0.46594003678620716,0.4252493715591936,0.32479563267559847,0.5105992754683434,0.34757148752549827,0.2947448805183752,0.4471520961902913,0.4249563519263389,0.31894663692534503,0.3956636102795728,0.48808505449425843,0.4594330576044724,0.30813608048025576,0.5942384895645288,0.4728375644660734,0.4056638728775902,0.3729583352898775,0.4104440588356748,0.34030166964692987,0.4056638728775902,0.3613868404934511,0.41566413547560743,0.27361544634589685,0.3956636102795728,0.422706399449693,0.40380711781173984,0.4019674959823585,0.5204622326342878,0.3220202269971871,0.33884704955928124,0.28934682269975676,0.402467582137199,0.30951009816273695,0.3956636102795728,0.40211216730419314,0.47103112439358674,0.43108708278689595,0.31043650515444676,0.4004178983207751,0.3886054061210781,0.2259978073548274,0.4114687303628548,0.414357863973743,0.43495661452435624,0.5048314478940675,0.4249563519263389,0.4249563519263389,0.4249563519263389,0.4178931257302799,0.43495661452435624,0.41566413547560743,0.4035290559673172,0.4561338905617763,0.47057446766460514,0.35782595862344113,0.3584529608216488,0.3131703677110823,0.43495661452435624,0.4056638728775902,0.44495687712237353,0.5465863046979695,0.35411948965066575,0.3956636102795728,0.44495687712237353,0.41566413547560743,0.43495661452435624,0.4296826147442073,0.34144597574049945,0.3080979623347282,0.22066943601722155,0.36649756825315627,0.4511493653575961,0.36625827158272384,0.2506930548695777,0.4143379469437842,0.28657118168673157,0.5329574808136845,0.5052377759574953,0.5235254809503318,0.39741644053306907,0.3956636102795728,0.3235111138762095,0.4433157496653716,0.3652095093301335,0.4249563519263389,0.4650739681249218,0.3634647766615316,0.46662367488048967,0.40699851454717073,0.486223394495564,0.2825881479175534,0.41566413547560743,0.39214955058333395,0.3249665395522687,0.3260616454455963,0.3621419383281387,0.4249563519263389,0.30910353712373306,0.5365007698825582,0.24642292208290933,0.44495687712237353,0.5135148882632032,0.40886496742997086],\"yaxis\":\"y\"},{\"hovertemplate\":\"color=2<br>PC1=%{x}<br>PC2=%{y}<extra></extra>\",\"legendgroup\":\"2\",\"marker\":{\"color\":\"#00cc96\",\"symbol\":\"circle\"},\"mode\":\"markers\",\"name\":\"2\",\"orientation\":\"v\",\"showlegend\":true,\"type\":\"scatter\",\"x\":[0.5275727469883029,0.5231581201231428,0.5293740951431684,0.5289959871635869,0.526453704955702,0.5257698715593877,0.5236006426148179,0.5205813855611413,0.5258404612743074,0.5285862597263586,0.5301400706365716,0.5268866066603458,0.526261901195985,0.5215061914163507,0.530846482182999,0.5276671093882991,0.5240311536739145,0.5280553521280034,0.527956480617637,0.5236004746044782,0.5285843863968441,0.5240229923145543,0.5275986004257867,0.5213473538295694,0.522663383711958,0.5244611664417993,0.5319731494115642,0.5232356631326147,0.5249384143491853,0.5270557769205856,0.5283387839501046,0.5234141758936743,0.5258722470619782,0.5242645326821551,0.5291420974919948,0.5238506595505242,0.526742074810547,0.5275604352172732,0.5261723791684653,0.5259647794900885,0.526449532397167,0.5236945705281785,0.5230254127318902,0.5236085175921591,0.5261485867119051,0.529522872039935,0.5248435779570989,0.5240369834647469,0.5273099411934983,0.5273877397184475,0.5285566319323937,0.5233820431441079,0.5244517506982644,0.5215103151318133,0.5264661049880641,0.5291058956062398,0.5264805226437218,0.5251088364840107,0.5279219186452037,0.5256966982694177,0.5269873050860446,0.5280077491397122,0.523060546694225,0.5226242432564906,0.531980936188701,0.5235258448841743,0.5233033483886336,0.5235792327971049,0.5262414857212455,0.522946589962884,0.5278264471164142,0.5258688969086909,0.5276701772943032,0.525700655390203,0.5220990684521827,0.5275766427730166,0.5231376092963347,0.5338800828559113,0.5271162988528421,0.5228938470320321,0.5247713387087093,0.5270157715119459,0.5250082161270032,0.5291534000712717,0.5240042873501405,0.5253954606949887,0.5252598872917418,0.5297265065451578,0.533955395365335,0.5260933458825012,0.5264943411630357,0.5294398201272752,0.5240687960809508,0.522624589292353,0.5244136233739176,0.5241590293512381,0.5263449870890426,0.5261780931743651,0.5267785700348171,0.529224200948722,0.528577312371039,0.5222293150926778,0.5187160266091227,0.5237231063069212,0.5265518739785755,0.5276347346134864,0.5274865277222593,0.5286306284786214,0.527106443097614,0.5199275111833866,0.5256921385033333,0.5257274841694554,0.5284378636751575,0.521750399957602,0.5241080422865649,0.5291541616912052,0.527329810282529,0.5246709950543251,0.5237051862426269,0.5245882025609119,0.5287677071533616,0.5267871854824578,0.5207679728575948,0.526741127805876,0.5275217015117848,0.524648601388446,0.5259813016503107,0.533140057850286,0.5234853844827355,0.5252812741471783,0.5278997472686859,0.5256258088895979,0.5284741973241823,0.5244050583390422,0.5232140729515091,0.5282177157451649,0.5241922107228,0.5265012858346394,0.5266127790230698,0.5330697386102452,0.5272907178427411,0.5263505070478635,0.5244799919657469,0.5270406638681708,0.5312926025103711,0.5277228926029154,0.5250879589594223,0.5285163757076337,0.5252165505592684,0.5288379515135904,0.5288076609821981,0.5256591432707912,0.522794227149014,0.5277599390803974,0.5277891670491072,0.5267200665947757,0.5236245721757827,0.5328879269735685,0.524138863128633,0.5293276345828647,0.5258197374780337,0.5290455211389551,0.5272847619064094,0.5297378816128676,0.5240593843379123,0.5264498525286164,0.5262885006109158,0.5279069837346413,0.5227251601232039,0.5266797087151797,0.5223541500340889,0.5281468485358276,0.5291586204263219,0.5282192501118632,0.5255673709165384,0.5242367608612164,0.5205331579842107,0.5242031000814052,0.5223220161886825,0.5253784103565554,0.5324125803379794,0.5275278144938436,0.5231384749268843,0.5269852235793553,0.5284147335571643,0.5281527099099718,0.5240838689825265,0.521449051220693,0.5207597263132779],\"xaxis\":\"x\",\"y\":[-0.5631832807651203,-0.6324327796624338,-0.5457953783156397,-0.5177747063037127,-0.5924569405703568,-0.5910285999968113,-0.4340309741866329,-0.49601067355766937,-0.5791935113170048,-0.527520686148794,-0.49795700720827385,-0.4969666709482493,-0.5561257867807154,-0.4838977408153336,-0.502526597361638,-0.5371073378538304,-0.5348181942390712,-0.601129024961899,-0.5252040225081643,-0.5206442778782009,-0.49321561471825165,-0.5707439009190152,-0.5234553947223703,-0.522109502181254,-0.47625964084665123,-0.52224945945683,-0.516934572135773,-0.617108001336701,-0.5338000329335066,-0.5336222899698025,-0.5522732125837132,-0.5668515826214644,-0.628653598216245,-0.5357788024981733,-0.5298085626481241,-0.5216740608363444,-0.5228361120486077,-0.523298303410754,-0.5436316642686622,-0.5196366970274265,-0.5056313385104754,-0.5722983394530611,-0.5819452317904582,-0.6696338953997989,-0.5046681817890208,-0.5561782715869317,-0.5165214138062941,-0.5708014897078724,-0.5725652524725787,-0.5225874737447422,-0.5159662820287729,-0.5922149178034106,-0.5725087076497315,-0.475031820475192,-0.6082330619010194,-0.6314998731841605,-0.5939537015562767,-0.502050418483363,-0.4764256971183246,-0.48152407189635055,-0.5715128160902925,-0.49964388998098813,-0.46680853887759755,-0.41594888683909503,-0.5689265662972118,-0.6068699610708527,-0.4891731591991504,-0.6185221639033113,-0.5808441627561998,-0.5029209387313006,-0.5966786192703827,-0.5659406005627737,-0.48779071178363664,-0.5528468999455548,-0.6124296789567035,-0.5138700623155691,-0.5081942512744874,-0.5669731042091086,-0.5606113120853617,-0.554939349205848,-0.5747929100193654,-0.5239626714329964,-0.5388398681212718,-0.6052310589445088,-0.4946078444547671,-0.5508975035571694,-0.5751418795012914,-0.5348447303204475,-0.524124918200362,-0.541368855656065,-0.48295086818518806,-0.5469535287931422,-0.6212304374087668,-0.6021915644378445,-0.5478249262768974,-0.5837050450932432,-0.5316653676878633,-0.4711043311972499,-0.56968489412468,-0.5811377003415988,-0.5656562201934746,-0.5760377355198641,-0.4866707552669624,-0.5573839020017194,-0.5325169320864075,-0.48501413735931104,-0.57329209795561,-0.5910957084436502,-0.5338308363531193,-0.4668549231097481,-0.5413793901519162,-0.5908541298199188,-0.5543429722337873,-0.476020030461498,-0.5720627243606476,-0.5556293781544461,-0.5726470353679973,-0.6237091406640733,-0.5818369874570609,-0.5889898692936035,-0.6301078601517263,-0.6076171563449103,-0.4843774791477978,-0.6205219713973876,-0.5989324726957862,-0.5638240093787258,-0.5196235740371138,-0.5903914437813641,-0.479643067382524,-0.5001294976023524,-0.5027987845496348,-0.5907111873870982,-0.4646357812870412,-0.5723165178454983,-0.46964343165464484,-0.5129093346785857,-0.5714404185783285,-0.5816379607317257,-0.5317988721640361,-0.551236453021618,-0.5600849235709979,-0.530719337944513,-0.534462686241459,-0.5851023997639957,-0.5835936483131045,-0.6121617966145736,-0.46143699521679515,-0.552728633829445,-0.613553490564761,-0.5585393281479436,-0.5561305546813933,-0.5927858953402331,-0.6407866088730282,-0.6426536313663722,-0.5497353798571313,-0.4943436768337467,-0.5445771230425936,-0.54785741126771,-0.4486475404689553,-0.5332029386949229,-0.5781394599992893,-0.518947342819785,-0.5727371741871188,-0.5596939589286014,-0.5349343941029783,-0.5931342721729217,-0.5199192812558664,-0.5135678354927253,-0.5064965746704269,-0.5216106574125777,-0.48518504672943846,-0.5266807819134447,-0.49391727293666876,-0.5122224617382218,-0.5790381980687205,-0.56019133726787,-0.5549930627857944,-0.672081248545195,-0.6133473511957112,-0.5155612118672156,-0.5089727933309303,-0.5260702848003417,-0.5673787124067086,-0.5097737906694393,-0.5773882356019768,-0.5143037039173297,-0.6591892790700082,-0.47126134288832927,-0.5056276334874032],\"yaxis\":\"y\"},{\"hovertemplate\":\"color=3<br>PC1=%{x}<br>PC2=%{y}<extra></extra>\",\"legendgroup\":\"3\",\"marker\":{\"color\":\"#ab63fa\",\"symbol\":\"circle\"},\"mode\":\"markers\",\"name\":\"3\",\"orientation\":\"v\",\"showlegend\":true,\"type\":\"scatter\",\"x\":[1.6624151080619711,1.6629984148360726,1.6629984148360726,1.657496664489225,1.66183180128787,1.6629882816220265,1.6582200308947577,1.6619034431513968,1.6593866444429601,1.6593866444429601,1.6669240942488386,1.6629205666526403,1.6596752699969846,1.6690465903475284,1.6657899362827842,1.6628128970950693,1.6523887801905077,1.6588981859013943,1.6615349472539263,1.6604319305635225,1.6575703673805746,1.662504497446749,1.6588033376688593,1.665098801060329,1.6629984148360726,1.6701761370032953,1.6549520764943169,1.6553423971851104,1.6535008038630312,1.6646956384236142,1.660876735596058,1.6610663545927522,1.666180264529674,1.6622047937759394,1.656936944778138,1.6491150166568012,1.6614345232749523,1.655274567978781,1.6638513997973812,1.66579146510291,1.6624732728362634,1.6617263461049585,1.660716804310585,1.6613174729533575,1.6558285173962852,1.6624151080619711,1.6674506769188933,1.6582200308947577,1.6616674177055277,1.659585283449419,1.6646732763675962,1.6678980797227387,1.6620320202247247,1.6572499834622931,1.6570957512047675,1.655324866260984,1.6629984148360726,1.6670121942983942,1.6588033376688593,1.661237962956481,1.6679126392948829,1.6619274378435245,1.6654588951715366,1.66183180128787,1.6689747911146267,1.6556333677537707,1.6563730778039731,1.6624151080619711,1.6588033376688593,1.6676350626566945,1.660264471274618,1.6593866444429601,1.6641786094613704,1.6640669165094812,1.6624151080619711,1.656675006679847,1.6593866444429601,1.664860559643369,1.6629984148360726,1.6511772444116852,1.6582200308947577,1.665339057008432,1.6624151080619711,1.6673208054431832,1.6642598817556937,1.6624151080619711,1.6613225278611656,1.6599574276259155,1.6744977687291158,1.6647396176195275,1.6692983813925106,1.6627707150971396,1.6593866444429601,1.661727587923023,1.66844643899526,1.6572016479098488,1.6624151080619711,1.6700681479788089,1.661392820261743,1.66183180128787,1.6588033376688593,1.6624191977970364,1.66183180128787,1.6600945408229502,1.6592519956333918,1.6624151080619711,1.6527671980396124,1.6616147480549028,1.6516603306380369,1.6655515072144147,1.664861139158466,1.6588033376688593,1.6570330958050674,1.6613440747704402,1.6626890862563712,1.6664477521763497,1.66183180128787,1.662208833816923,1.6582200308947577,1.6644063688541788,1.6615701557475997,1.6641019870801852,1.6588033376688593,1.6588033376688593,1.6622220964409709,1.6664710022870903,1.6613770025540773,1.6606131649517748,1.6626087157983613,1.6588033376688593,1.6631092815857413,1.6666249678786904,1.6593466848551663,1.6664724008525424,1.6618963923919137,1.6606988503982196,1.6582200308947577,1.663066607191835,1.6629823970426882,1.6612529713778699,1.6584463138556746,1.6593866444429601,1.6648327556171632,1.654043939983873,1.6532117563049669,1.667374474094833,1.6612739269548478,1.6588033376688593,1.6634100002624623,1.6663403707630529,1.652562121983094,1.6629984148360726,1.6597824762449234,1.6624151080619711,1.657097213416068,1.6677905437499088,1.6646465088475109,1.6611708560555003,1.66183180128787,1.6632279293032664,1.6629984148360726,1.66183180128787,1.6566287987265704,1.6665053338229794,1.6520010514614065],\"xaxis\":\"x\",\"y\":[0.6575552449602062,0.6675555075582237,0.6675555075582237,0.7579892792144365,0.6475549823621889,0.6303936049840967,0.6182622407154227,0.5091138837844112,0.6382627659114575,0.6382627659114575,0.55080106185948,0.5927755253870988,0.5791280749522117,0.6044172975175169,0.542721556327146,0.7334765149982176,0.6001735192509051,0.6523176755119943,0.6803300875330459,0.633603445407145,0.6150805179183495,0.6388213016775846,0.6282625033134401,0.43256911656238717,0.6675555075582237,0.5742723890501074,0.5877663980176534,0.6421512027279598,0.7767917158859677,0.6852806283099776,0.5264342936653542,0.5734022499867298,0.5535161352969146,0.6212173050574198,0.6653550552792713,0.5516425945680288,0.6593884517012294,0.8031760505461948,0.6439946645725794,0.4800160554390883,0.7077169026636966,0.6355878411293587,0.6692168654145976,0.7406005609663008,0.7744315999098149,0.6575552449602062,0.5144495438035742,0.6182622407154227,0.6234291916164237,0.6323460312419372,0.5899671507828179,0.5712478666692167,0.5454492128822649,0.7580358893642273,0.6855078114196441,0.6347868986482541,0.6675555075582237,0.4866994434849109,0.6282625033134401,0.7339723406324905,0.44440314488906635,0.6347601300753115,0.6191845623335687,0.6475549823621889,0.4524324397074999,0.6847838343046988,0.7120404935000526,0.6575552449602062,0.6282625033134401,0.5723304677473179,0.5767028713409913,0.6382627659114575,0.5770524791563277,0.5505068438277638,0.6575552449602062,0.6996408363328054,0.6382627659114575,0.5465469512603425,0.6675555075582237,0.6287184013206705,0.6182622407154227,0.4949725988803747,0.6575552449602062,0.47372115782631985,0.5439202743210919,0.6575552449602062,0.609032338980491,0.565565485734594,0.5061861734663131,0.5725403554990746,0.5785784958748005,0.6312891276889284,0.6382627659114575,0.6355827296983951,0.49389036024415495,0.6092783308083788,0.6575552449602062,0.5677613908663971,0.6092621007133827,0.6475549823621889,0.6282625033134401,0.6327360034137057,0.6475549823621889,0.6950606897290087,0.5525994072795531,0.6575552449602062,0.6365127188207973,0.636047188391959,0.7009427677888307,0.5437029510721668,0.5465445659258924,0.6282625033134401,0.7465274138698688,0.5970615374665458,0.6316251190842723,0.49040911331602727,0.6475549823621889,0.6336018798189483,0.6182622407154227,0.4988116242961407,0.49808451975237883,0.6477157505717226,0.6282625033134401,0.6282625033134401,0.6211460857859932,0.4845211060410543,0.6101513420858753,0.6951390503819033,0.6195547269459765,0.6282625033134401,0.5413541598646706,0.5144820859418348,0.7229413376606717,0.6026116810404248,0.634887915849403,0.6947863616454112,0.6182622407154227,0.44093380295336976,0.6275216725231978,0.5891833351331737,0.6413587894805083,0.6382627659114575,0.6447078438306462,0.6789248530734314,0.682350193343206,0.524491445734436,0.6250488337077725,0.6282625033134401,0.5153139678419864,0.590753924430217,0.7258703474032209,0.6675555075582237,0.6858814714497753,0.6575552449602062,0.6813892077455768,0.432504496831149,0.484728794787574,0.6254730824777558,0.6475549823621889,0.6389122443433283,0.6675555075582237,0.6475549823621889,0.7298035918130636,0.5135881330475616,0.6265718522031092],\"yaxis\":\"y\"}],                        {\"legend\":{\"title\":{\"text\":\"color\"},\"tracegroupgap\":0},\"margin\":{\"t\":60},\"template\":{\"data\":{\"bar\":[{\"error_x\":{\"color\":\"#2a3f5f\"},\"error_y\":{\"color\":\"#2a3f5f\"},\"marker\":{\"line\":{\"color\":\"#E5ECF6\",\"width\":0.5},\"pattern\":{\"fillmode\":\"overlay\",\"size\":10,\"solidity\":0.2}},\"type\":\"bar\"}],\"barpolar\":[{\"marker\":{\"line\":{\"color\":\"#E5ECF6\",\"width\":0.5},\"pattern\":{\"fillmode\":\"overlay\",\"size\":10,\"solidity\":0.2}},\"type\":\"barpolar\"}],\"carpet\":[{\"aaxis\":{\"endlinecolor\":\"#2a3f5f\",\"gridcolor\":\"white\",\"linecolor\":\"white\",\"minorgridcolor\":\"white\",\"startlinecolor\":\"#2a3f5f\"},\"baxis\":{\"endlinecolor\":\"#2a3f5f\",\"gridcolor\":\"white\",\"linecolor\":\"white\",\"minorgridcolor\":\"white\",\"startlinecolor\":\"#2a3f5f\"},\"type\":\"carpet\"}],\"choropleth\":[{\"colorbar\":{\"outlinewidth\":0,\"ticks\":\"\"},\"type\":\"choropleth\"}],\"contour\":[{\"colorbar\":{\"outlinewidth\":0,\"ticks\":\"\"},\"colorscale\":[[0.0,\"#0d0887\"],[0.1111111111111111,\"#46039f\"],[0.2222222222222222,\"#7201a8\"],[0.3333333333333333,\"#9c179e\"],[0.4444444444444444,\"#bd3786\"],[0.5555555555555556,\"#d8576b\"],[0.6666666666666666,\"#ed7953\"],[0.7777777777777778,\"#fb9f3a\"],[0.8888888888888888,\"#fdca26\"],[1.0,\"#f0f921\"]],\"type\":\"contour\"}],\"contourcarpet\":[{\"colorbar\":{\"outlinewidth\":0,\"ticks\":\"\"},\"type\":\"contourcarpet\"}],\"heatmap\":[{\"colorbar\":{\"outlinewidth\":0,\"ticks\":\"\"},\"colorscale\":[[0.0,\"#0d0887\"],[0.1111111111111111,\"#46039f\"],[0.2222222222222222,\"#7201a8\"],[0.3333333333333333,\"#9c179e\"],[0.4444444444444444,\"#bd3786\"],[0.5555555555555556,\"#d8576b\"],[0.6666666666666666,\"#ed7953\"],[0.7777777777777778,\"#fb9f3a\"],[0.8888888888888888,\"#fdca26\"],[1.0,\"#f0f921\"]],\"type\":\"heatmap\"}],\"heatmapgl\":[{\"colorbar\":{\"outlinewidth\":0,\"ticks\":\"\"},\"colorscale\":[[0.0,\"#0d0887\"],[0.1111111111111111,\"#46039f\"],[0.2222222222222222,\"#7201a8\"],[0.3333333333333333,\"#9c179e\"],[0.4444444444444444,\"#bd3786\"],[0.5555555555555556,\"#d8576b\"],[0.6666666666666666,\"#ed7953\"],[0.7777777777777778,\"#fb9f3a\"],[0.8888888888888888,\"#fdca26\"],[1.0,\"#f0f921\"]],\"type\":\"heatmapgl\"}],\"histogram\":[{\"marker\":{\"pattern\":{\"fillmode\":\"overlay\",\"size\":10,\"solidity\":0.2}},\"type\":\"histogram\"}],\"histogram2d\":[{\"colorbar\":{\"outlinewidth\":0,\"ticks\":\"\"},\"colorscale\":[[0.0,\"#0d0887\"],[0.1111111111111111,\"#46039f\"],[0.2222222222222222,\"#7201a8\"],[0.3333333333333333,\"#9c179e\"],[0.4444444444444444,\"#bd3786\"],[0.5555555555555556,\"#d8576b\"],[0.6666666666666666,\"#ed7953\"],[0.7777777777777778,\"#fb9f3a\"],[0.8888888888888888,\"#fdca26\"],[1.0,\"#f0f921\"]],\"type\":\"histogram2d\"}],\"histogram2dcontour\":[{\"colorbar\":{\"outlinewidth\":0,\"ticks\":\"\"},\"colorscale\":[[0.0,\"#0d0887\"],[0.1111111111111111,\"#46039f\"],[0.2222222222222222,\"#7201a8\"],[0.3333333333333333,\"#9c179e\"],[0.4444444444444444,\"#bd3786\"],[0.5555555555555556,\"#d8576b\"],[0.6666666666666666,\"#ed7953\"],[0.7777777777777778,\"#fb9f3a\"],[0.8888888888888888,\"#fdca26\"],[1.0,\"#f0f921\"]],\"type\":\"histogram2dcontour\"}],\"mesh3d\":[{\"colorbar\":{\"outlinewidth\":0,\"ticks\":\"\"},\"type\":\"mesh3d\"}],\"parcoords\":[{\"line\":{\"colorbar\":{\"outlinewidth\":0,\"ticks\":\"\"}},\"type\":\"parcoords\"}],\"pie\":[{\"automargin\":true,\"type\":\"pie\"}],\"scatter\":[{\"marker\":{\"colorbar\":{\"outlinewidth\":0,\"ticks\":\"\"}},\"type\":\"scatter\"}],\"scatter3d\":[{\"line\":{\"colorbar\":{\"outlinewidth\":0,\"ticks\":\"\"}},\"marker\":{\"colorbar\":{\"outlinewidth\":0,\"ticks\":\"\"}},\"type\":\"scatter3d\"}],\"scattercarpet\":[{\"marker\":{\"colorbar\":{\"outlinewidth\":0,\"ticks\":\"\"}},\"type\":\"scattercarpet\"}],\"scattergeo\":[{\"marker\":{\"colorbar\":{\"outlinewidth\":0,\"ticks\":\"\"}},\"type\":\"scattergeo\"}],\"scattergl\":[{\"marker\":{\"colorbar\":{\"outlinewidth\":0,\"ticks\":\"\"}},\"type\":\"scattergl\"}],\"scattermapbox\":[{\"marker\":{\"colorbar\":{\"outlinewidth\":0,\"ticks\":\"\"}},\"type\":\"scattermapbox\"}],\"scatterpolar\":[{\"marker\":{\"colorbar\":{\"outlinewidth\":0,\"ticks\":\"\"}},\"type\":\"scatterpolar\"}],\"scatterpolargl\":[{\"marker\":{\"colorbar\":{\"outlinewidth\":0,\"ticks\":\"\"}},\"type\":\"scatterpolargl\"}],\"scatterternary\":[{\"marker\":{\"colorbar\":{\"outlinewidth\":0,\"ticks\":\"\"}},\"type\":\"scatterternary\"}],\"surface\":[{\"colorbar\":{\"outlinewidth\":0,\"ticks\":\"\"},\"colorscale\":[[0.0,\"#0d0887\"],[0.1111111111111111,\"#46039f\"],[0.2222222222222222,\"#7201a8\"],[0.3333333333333333,\"#9c179e\"],[0.4444444444444444,\"#bd3786\"],[0.5555555555555556,\"#d8576b\"],[0.6666666666666666,\"#ed7953\"],[0.7777777777777778,\"#fb9f3a\"],[0.8888888888888888,\"#fdca26\"],[1.0,\"#f0f921\"]],\"type\":\"surface\"}],\"table\":[{\"cells\":{\"fill\":{\"color\":\"#EBF0F8\"},\"line\":{\"color\":\"white\"}},\"header\":{\"fill\":{\"color\":\"#C8D4E3\"},\"line\":{\"color\":\"white\"}},\"type\":\"table\"}]},\"layout\":{\"annotationdefaults\":{\"arrowcolor\":\"#2a3f5f\",\"arrowhead\":0,\"arrowwidth\":1},\"autotypenumbers\":\"strict\",\"coloraxis\":{\"colorbar\":{\"outlinewidth\":0,\"ticks\":\"\"}},\"colorscale\":{\"diverging\":[[0,\"#8e0152\"],[0.1,\"#c51b7d\"],[0.2,\"#de77ae\"],[0.3,\"#f1b6da\"],[0.4,\"#fde0ef\"],[0.5,\"#f7f7f7\"],[0.6,\"#e6f5d0\"],[0.7,\"#b8e186\"],[0.8,\"#7fbc41\"],[0.9,\"#4d9221\"],[1,\"#276419\"]],\"sequential\":[[0.0,\"#0d0887\"],[0.1111111111111111,\"#46039f\"],[0.2222222222222222,\"#7201a8\"],[0.3333333333333333,\"#9c179e\"],[0.4444444444444444,\"#bd3786\"],[0.5555555555555556,\"#d8576b\"],[0.6666666666666666,\"#ed7953\"],[0.7777777777777778,\"#fb9f3a\"],[0.8888888888888888,\"#fdca26\"],[1.0,\"#f0f921\"]],\"sequentialminus\":[[0.0,\"#0d0887\"],[0.1111111111111111,\"#46039f\"],[0.2222222222222222,\"#7201a8\"],[0.3333333333333333,\"#9c179e\"],[0.4444444444444444,\"#bd3786\"],[0.5555555555555556,\"#d8576b\"],[0.6666666666666666,\"#ed7953\"],[0.7777777777777778,\"#fb9f3a\"],[0.8888888888888888,\"#fdca26\"],[1.0,\"#f0f921\"]]},\"colorway\":[\"#636efa\",\"#EF553B\",\"#00cc96\",\"#ab63fa\",\"#FFA15A\",\"#19d3f3\",\"#FF6692\",\"#B6E880\",\"#FF97FF\",\"#FECB52\"],\"font\":{\"color\":\"#2a3f5f\"},\"geo\":{\"bgcolor\":\"white\",\"lakecolor\":\"white\",\"landcolor\":\"#E5ECF6\",\"showlakes\":true,\"showland\":true,\"subunitcolor\":\"white\"},\"hoverlabel\":{\"align\":\"left\"},\"hovermode\":\"closest\",\"mapbox\":{\"style\":\"light\"},\"paper_bgcolor\":\"white\",\"plot_bgcolor\":\"#E5ECF6\",\"polar\":{\"angularaxis\":{\"gridcolor\":\"white\",\"linecolor\":\"white\",\"ticks\":\"\"},\"bgcolor\":\"#E5ECF6\",\"radialaxis\":{\"gridcolor\":\"white\",\"linecolor\":\"white\",\"ticks\":\"\"}},\"scene\":{\"xaxis\":{\"backgroundcolor\":\"#E5ECF6\",\"gridcolor\":\"white\",\"gridwidth\":2,\"linecolor\":\"white\",\"showbackground\":true,\"ticks\":\"\",\"zerolinecolor\":\"white\"},\"yaxis\":{\"backgroundcolor\":\"#E5ECF6\",\"gridcolor\":\"white\",\"gridwidth\":2,\"linecolor\":\"white\",\"showbackground\":true,\"ticks\":\"\",\"zerolinecolor\":\"white\"},\"zaxis\":{\"backgroundcolor\":\"#E5ECF6\",\"gridcolor\":\"white\",\"gridwidth\":2,\"linecolor\":\"white\",\"showbackground\":true,\"ticks\":\"\",\"zerolinecolor\":\"white\"}},\"shapedefaults\":{\"line\":{\"color\":\"#2a3f5f\"}},\"ternary\":{\"aaxis\":{\"gridcolor\":\"white\",\"linecolor\":\"white\",\"ticks\":\"\"},\"baxis\":{\"gridcolor\":\"white\",\"linecolor\":\"white\",\"ticks\":\"\"},\"bgcolor\":\"#E5ECF6\",\"caxis\":{\"gridcolor\":\"white\",\"linecolor\":\"white\",\"ticks\":\"\"}},\"title\":{\"x\":0.05},\"xaxis\":{\"automargin\":true,\"gridcolor\":\"white\",\"linecolor\":\"white\",\"ticks\":\"\",\"title\":{\"standoff\":15},\"zerolinecolor\":\"white\",\"zerolinewidth\":2},\"yaxis\":{\"automargin\":true,\"gridcolor\":\"white\",\"linecolor\":\"white\",\"ticks\":\"\",\"title\":{\"standoff\":15},\"zerolinecolor\":\"white\",\"zerolinewidth\":2}}},\"xaxis\":{\"anchor\":\"y\",\"domain\":[0.0,1.0],\"title\":{\"text\":\"PC1\"}},\"yaxis\":{\"anchor\":\"x\",\"domain\":[0.0,1.0],\"title\":{\"text\":\"PC2\"}}},                        {\"responsive\": true}                    ).then(function(){\n",
       "                            \n",
       "var gd = document.getElementById('123a5fe1-e3e8-439d-a69b-4ccb265183d4');\n",
       "var x = new MutationObserver(function (mutations, observer) {{\n",
       "        var display = window.getComputedStyle(gd).display;\n",
       "        if (!display || display === 'none') {{\n",
       "            console.log([gd, 'removed!']);\n",
       "            Plotly.purge(gd);\n",
       "            observer.disconnect();\n",
       "        }}\n",
       "}});\n",
       "\n",
       "// Listen for the removal of the full notebook cells\n",
       "var notebookContainer = gd.closest('#notebook-container');\n",
       "if (notebookContainer) {{\n",
       "    x.observe(notebookContainer, {childList: true});\n",
       "}}\n",
       "\n",
       "// Listen for the clearing of the current output cell\n",
       "var outputEl = gd.closest('.output');\n",
       "if (outputEl) {{\n",
       "    x.observe(outputEl, {childList: true});\n",
       "}}\n",
       "\n",
       "                        })                };                });            </script>        </div>"
      ]
     },
     "metadata": {},
     "output_type": "display_data"
    }
   ],
   "source": [
    "from sklearn.decomposition import PCA\n",
    "pca = PCA(n_components=2)\n",
    "\n",
    "df_pca = pd.DataFrame(pca.fit_transform(df_seg_scaled), columns = ['PC1', 'PC2'])\n",
    "df_pca['Cluster'] = df_seg_scaled['Cluster']\n",
    "\n",
    "fig = px.scatter(df_pca, x='PC1', y='PC2', color=df_pca['Cluster'].astype(str))\n",
    "fig.show()"
   ]
  },
  {
   "cell_type": "code",
   "execution_count": 77,
   "id": "d833371a-1f76-4329-81ff-c7df66b52d6f",
   "metadata": {},
   "outputs": [
    {
     "data": {
      "text/html": [
       "<div>\n",
       "<style scoped>\n",
       "    .dataframe tbody tr th:only-of-type {\n",
       "        vertical-align: middle;\n",
       "    }\n",
       "\n",
       "    .dataframe tbody tr th {\n",
       "        vertical-align: top;\n",
       "    }\n",
       "\n",
       "    .dataframe thead th {\n",
       "        text-align: right;\n",
       "    }\n",
       "</style>\n",
       "<table border=\"1\" class=\"dataframe\">\n",
       "  <thead>\n",
       "    <tr style=\"text-align: right;\">\n",
       "      <th></th>\n",
       "      <th>PC1</th>\n",
       "      <th>PC2</th>\n",
       "      <th>Cluster</th>\n",
       "    </tr>\n",
       "  </thead>\n",
       "  <tbody>\n",
       "    <tr>\n",
       "      <th>0</th>\n",
       "      <td>-0.208383</td>\n",
       "      <td>-0.527208</td>\n",
       "      <td>1</td>\n",
       "    </tr>\n",
       "    <tr>\n",
       "      <th>1</th>\n",
       "      <td>-0.206010</td>\n",
       "      <td>-0.547244</td>\n",
       "      <td>1</td>\n",
       "    </tr>\n",
       "    <tr>\n",
       "      <th>2</th>\n",
       "      <td>-1.482570</td>\n",
       "      <td>0.314259</td>\n",
       "      <td>0</td>\n",
       "    </tr>\n",
       "    <tr>\n",
       "      <th>3</th>\n",
       "      <td>-1.475157</td>\n",
       "      <td>0.292211</td>\n",
       "      <td>0</td>\n",
       "    </tr>\n",
       "    <tr>\n",
       "      <th>4</th>\n",
       "      <td>-1.486063</td>\n",
       "      <td>0.395111</td>\n",
       "      <td>0</td>\n",
       "    </tr>\n",
       "    <tr>\n",
       "      <th>...</th>\n",
       "      <td>...</td>\n",
       "      <td>...</td>\n",
       "      <td>...</td>\n",
       "    </tr>\n",
       "    <tr>\n",
       "      <th>742</th>\n",
       "      <td>-1.489986</td>\n",
       "      <td>0.513515</td>\n",
       "      <td>0</td>\n",
       "    </tr>\n",
       "    <tr>\n",
       "      <th>743</th>\n",
       "      <td>-0.208053</td>\n",
       "      <td>-0.563914</td>\n",
       "      <td>1</td>\n",
       "    </tr>\n",
       "    <tr>\n",
       "      <th>744</th>\n",
       "      <td>-0.200440</td>\n",
       "      <td>-0.534905</td>\n",
       "      <td>1</td>\n",
       "    </tr>\n",
       "    <tr>\n",
       "      <th>745</th>\n",
       "      <td>0.520760</td>\n",
       "      <td>-0.505628</td>\n",
       "      <td>2</td>\n",
       "    </tr>\n",
       "    <tr>\n",
       "      <th>746</th>\n",
       "      <td>-1.481199</td>\n",
       "      <td>0.408865</td>\n",
       "      <td>0</td>\n",
       "    </tr>\n",
       "  </tbody>\n",
       "</table>\n",
       "<p>747 rows × 3 columns</p>\n",
       "</div>"
      ],
      "text/plain": [
       "          PC1       PC2  Cluster\n",
       "0   -0.208383 -0.527208        1\n",
       "1   -0.206010 -0.547244        1\n",
       "2   -1.482570  0.314259        0\n",
       "3   -1.475157  0.292211        0\n",
       "4   -1.486063  0.395111        0\n",
       "..        ...       ...      ...\n",
       "742 -1.489986  0.513515        0\n",
       "743 -0.208053 -0.563914        1\n",
       "744 -0.200440 -0.534905        1\n",
       "745  0.520760 -0.505628        2\n",
       "746 -1.481199  0.408865        0\n",
       "\n",
       "[747 rows x 3 columns]"
      ]
     },
     "execution_count": 77,
     "metadata": {},
     "output_type": "execute_result"
    }
   ],
   "source": [
    "df_pca"
   ]
  }
 ],
 "metadata": {
  "kernelspec": {
   "display_name": "Python 3 (ipykernel)",
   "language": "python",
   "name": "python3"
  },
  "language_info": {
   "codemirror_mode": {
    "name": "ipython",
    "version": 3
   },
   "file_extension": ".py",
   "mimetype": "text/x-python",
   "name": "python",
   "nbconvert_exporter": "python",
   "pygments_lexer": "ipython3",
   "version": "3.7.11"
  }
 },
 "nbformat": 4,
 "nbformat_minor": 5
}
