{
 "cells": [
  {
   "cell_type": "markdown",
   "id": "b69fad1f-f5d1-431d-ba7d-36babaf61316",
   "metadata": {},
   "source": [
    "Reference: https://www.youtube.com/watch?v=ZDa-Z5JzLYM"
   ]
  },
  {
   "cell_type": "markdown",
   "id": "7d1d6aab-884f-478e-bbda-6a2506250fac",
   "metadata": {},
   "source": [
    "# Classes and Instances"
   ]
  },
  {
   "cell_type": "code",
   "execution_count": 2,
   "id": "766603ad-18f0-42b3-b26f-1887769000c9",
   "metadata": {},
   "outputs": [
    {
     "name": "stdout",
     "output_type": "stream",
     "text": [
      "Corey.Schafer@company.com\n",
      "Test.User@company.com\n",
      "Corey Schafer\n",
      "Corey Schafer\n"
     ]
    }
   ],
   "source": [
    "class Employee:\n",
    "    def __init__(self, first, last, pay):   # initialize\n",
    "        self.first = first\n",
    "        self.last = last\n",
    "        self.pay = pay\n",
    "        self.email = first + '.' + last + '@company.com'\n",
    "\n",
    "    def fullname(self):\n",
    "        return '{} {}'.format(self.first, self.last)\n",
    "        \n",
    "emp_1 = Employee('Corey', 'Schafer', 50000)\n",
    "emp_2 = Employee('Test', 'User', 60000)\n",
    "        \n",
    "# emp_1 = Employee()\n",
    "# emp_2 = Employee()\n",
    "\n",
    "# print(emp_1)\n",
    "# print(emp_2)\n",
    "\n",
    "# emp_1.first = 'Corey'\n",
    "# emp_1.last = 'Schafer'\n",
    "# emp_1.email = 'Corey.Schafer@company.com'\n",
    "# emp_1.pay = 50000\n",
    "\n",
    "# emp_2.first = 'Test'\n",
    "# emp_2.last = 'User'\n",
    "# emp_2.email = 'Test.User@company.com'\n",
    "# emp_2.pay = 60000\n",
    "\n",
    "print(emp_1.email)\n",
    "print(emp_2.email)\n",
    "\n",
    "print(emp_1.fullname())   # this shouldn't be an error, but it is\n",
    "print(Employee.fullname(emp_1))   # this shouldn't be an error, but it is\n"
   ]
  },
  {
   "cell_type": "markdown",
   "id": "d87533a4-3f8b-4899-91b1-76da59a3142e",
   "metadata": {},
   "source": [
    "# Class Variables"
   ]
  },
  {
   "cell_type": "code",
   "execution_count": 3,
   "id": "8b019fa7-f1a1-4c1d-905e-054eca4b4541",
   "metadata": {},
   "outputs": [
    {
     "name": "stdout",
     "output_type": "stream",
     "text": [
      "Current num_of_emps value: 0\n",
      "1.04\n",
      "1.05\n",
      "1.04\n",
      "{'first': 'Corey', 'last': 'Schafer', 'pay': 50000, 'email': 'Corey.Schafer@company.com', 'raise_amount': 1.05}\n",
      "{'__module__': '__main__', 'num_of_emps': 2, 'raise_amount': 1.04, '__init__': <function Employee.__init__ at 0x000002659BD648B8>, 'fullname': <function Employee.fullname at 0x000002659BD64B88>, 'apply_raise': <function Employee.apply_raise at 0x000002659BD64A68>, '__dict__': <attribute '__dict__' of 'Employee' objects>, '__weakref__': <attribute '__weakref__' of 'Employee' objects>, '__doc__': None}\n",
      "Current num_of_emps value: 2\n"
     ]
    }
   ],
   "source": [
    "class Employee:\n",
    "    num_of_emps = 0\n",
    "    raise_amount = 1.04\n",
    "    \n",
    "    def __init__(self, first, last, pay):   # initialize\n",
    "        self.first = first\n",
    "        self.last = last\n",
    "        self.pay = pay\n",
    "        self.email = first + '.' + last + '@company.com'\n",
    "        \n",
    "        Employee.num_of_emps += 1\n",
    "        \n",
    "    def fullname(self):\n",
    "        return '{} {}'.format(self.first, self.last)\n",
    "\n",
    "    def apply_raise(self):\n",
    "        self.pay = int(self.pay * Employee.raise_amount)\n",
    "\n",
    "print('Current num_of_emps value:', Employee.num_of_emps)\n",
    "    \n",
    "emp_1 = Employee('Corey', 'Schafer', 50000)\n",
    "emp_2 = Employee('Test', 'User', 60000)\n",
    "\n",
    "# print(emp_1.pay)\n",
    "# apply_raise(emp_1)\n",
    "# print(emp_1.pay)\n",
    "# emp_1.raise_amount\n",
    "\n",
    "emp_1.raise_amount = 1.05\n",
    "\n",
    "print(Employee.raise_amount)\n",
    "print(emp_1.raise_amount)   # checks for attribute in instance first (emp_1), then class (Employee)\n",
    "print(emp_2.raise_amount)\n",
    "\n",
    "print(emp_1.__dict__)\n",
    "print(Employee.__dict__)\n",
    "\n",
    "print('Current num_of_emps value:', Employee.num_of_emps)"
   ]
  },
  {
   "cell_type": "markdown",
   "id": "bee057af-045c-4eae-88c4-7499aaae4223",
   "metadata": {},
   "source": [
    "# classmethods and staticmethods"
   ]
  },
  {
   "cell_type": "code",
   "execution_count": 11,
   "id": "6bddce06-7580-49ad-bf52-4f52a075d3bf",
   "metadata": {},
   "outputs": [
    {
     "name": "stdout",
     "output_type": "stream",
     "text": [
      "True\n"
     ]
    }
   ],
   "source": [
    "class Employee:\n",
    "    num_of_emps = 0\n",
    "    raise_amount = 1.04\n",
    "    \n",
    "    def __init__(self, first, last, pay):   # initialize\n",
    "        self.first = first\n",
    "        self.last = last\n",
    "        self.pay = pay\n",
    "        self.email = first + '.' + last + '@company.com'\n",
    "        \n",
    "        Employee.num_of_emps += 1\n",
    "        \n",
    "    def fullname(self):\n",
    "        return '{} {}'.format(self.first, self.last)\n",
    "\n",
    "    def apply_raise(self):\n",
    "        self.pay = int(self.pay * Employee.raise_amount)\n",
    "        \n",
    "    @classmethod\n",
    "    def set_raise_amount(cls, amount):\n",
    "        cls.raise_amount = amount\n",
    "        \n",
    "    @classmethod\n",
    "    def from_string(cls, emp_str):  #always need to have cls as first argument for classmethod\n",
    "        first, last, pay = emp_str.split('-')\n",
    "        return cls(first, last, pay)\n",
    "    \n",
    "    @staticmethod\n",
    "    def is_workday(day):\n",
    "        if day.weekday() == 5 or day.weekday() == 6:\n",
    "            return False\n",
    "        else:\n",
    "            return True\n",
    "    \n",
    "emp_1 = Employee('Corey', 'Schafer', 50000)\n",
    "emp_2 = Employee('Test', 'User', 60000)\n",
    "\n",
    "\n",
    "### CLASS METHOD PORTION ###\n",
    "\n",
    "# Employee.set_raise_amount(1.05)\n",
    "# # could also do emp_1.set_raise_amount(1.05)\n",
    "\n",
    "# print(Employee.raise_amount)\n",
    "# print(emp_1.raise_amount)   # checks for attribute in instance first (emp_1), then class (Employee)\n",
    "# print(emp_2.raise_amount)\n",
    "\n",
    "# emp_str_1 = 'John-Doe-70000'\n",
    "# emp_str_2 = 'Steve-Smith-30000'\n",
    "# emp_str_3 = 'Jane-Doe-90000'\n",
    "\n",
    "# new_emp_1 = Employee.from_string(emp_str_1)\n",
    "\n",
    "# print(new_emp_1.email)\n",
    "# print(new_emp_1.pay)\n",
    "\n",
    "\n",
    "### STATIC METHOD PORTION ###\n",
    "\n",
    "import datetime\n",
    "my_date = datetime.date(2016,7,11)\n",
    "\n",
    "print(Employee.is_workday(my_date))"
   ]
  }
 ],
 "metadata": {
  "kernelspec": {
   "display_name": "Python 3 (ipykernel)",
   "language": "python",
   "name": "python3"
  },
  "language_info": {
   "codemirror_mode": {
    "name": "ipython",
    "version": 3
   },
   "file_extension": ".py",
   "mimetype": "text/x-python",
   "name": "python",
   "nbconvert_exporter": "python",
   "pygments_lexer": "ipython3",
   "version": "3.7.9"
  }
 },
 "nbformat": 4,
 "nbformat_minor": 5
}
