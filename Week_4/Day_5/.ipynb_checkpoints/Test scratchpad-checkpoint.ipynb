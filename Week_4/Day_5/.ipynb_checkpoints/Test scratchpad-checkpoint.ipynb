{
 "cells": [
  {
   "cell_type": "markdown",
   "id": "3c5939bd-28b5-4e8a-b2ca-a28005142ce8",
   "metadata": {},
   "source": [
    "### Q0"
   ]
  },
  {
   "cell_type": "code",
   "execution_count": 8,
   "id": "e60ff466-d9a4-4117-9346-1a142ac664dc",
   "metadata": {},
   "outputs": [],
   "source": [
    "def pie_chart(dictionary):\n",
    "    total_freq = 0\n",
    "    for k, v in dictionary.items():\n",
    "        total_freq += v\n",
    "    \n",
    "    for k, v in dictionary.items():\n",
    "        dictionary[k] = round(v/total_freq*360,1)\n",
    "    \n",
    "    return dictionary"
   ]
  },
  {
   "cell_type": "code",
   "execution_count": 9,
   "id": "a39a484c-c605-4686-95e2-8d1fba5f1fa5",
   "metadata": {},
   "outputs": [
    {
     "data": {
      "text/plain": [
       "{'a': 120.0, 'b': 240.0}"
      ]
     },
     "execution_count": 9,
     "metadata": {},
     "output_type": "execute_result"
    }
   ],
   "source": [
    "pie_chart({ \"a\": 1, \"b\": 2 })"
   ]
  },
  {
   "cell_type": "markdown",
   "id": "d931d916-e73e-4bb7-b6e0-1d3b54c7b6c6",
   "metadata": {},
   "source": [
    "### Q1"
   ]
  },
  {
   "cell_type": "code",
   "execution_count": 12,
   "id": "2eea9c0b-5285-4293-9923-7a697a24a771",
   "metadata": {},
   "outputs": [],
   "source": [
    "def even_odd_transform(lst,repeat):\n",
    "    for i in range(0,len(lst)):\n",
    "        if lst[i] % 2 == 0:   #even number\n",
    "            lst[i] = lst[i] - (2*repeat)\n",
    "        else:\n",
    "            lst[i] = lst[i] + (2*repeat)\n",
    "    return lst"
   ]
  },
  {
   "cell_type": "code",
   "execution_count": 13,
   "id": "2f41fd95-3e0d-40b0-a21a-d903298d2d64",
   "metadata": {},
   "outputs": [
    {
     "data": {
      "text/plain": [
       "[9, -2, 15]"
      ]
     },
     "execution_count": 13,
     "metadata": {},
     "output_type": "execute_result"
    }
   ],
   "source": [
    "even_odd_transform([3, 4, 9], 3)"
   ]
  },
  {
   "cell_type": "markdown",
   "id": "b7d6880f-8302-4037-bc45-d7a5cc272c34",
   "metadata": {},
   "source": [
    "### Q2"
   ]
  },
  {
   "cell_type": "code",
   "execution_count": 15,
   "id": "1863c561-0417-412c-a104-9b13f2682a53",
   "metadata": {},
   "outputs": [
    {
     "ename": "ModuleNotFoundError",
     "evalue": "No module named 'supporting_files'",
     "output_type": "error",
     "traceback": [
      "\u001b[1;31m---------------------------------------------------------------------------\u001b[0m",
      "\u001b[1;31mModuleNotFoundError\u001b[0m                       Traceback (most recent call last)",
      "\u001b[1;32m~\\AppData\\Local\\Temp/ipykernel_20820/2760816500.py\u001b[0m in \u001b[0;36m<module>\u001b[1;34m\u001b[0m\n\u001b[0;32m      1\u001b[0m \u001b[1;32mimport\u001b[0m \u001b[0mpandas\u001b[0m \u001b[1;32mas\u001b[0m \u001b[0mpd\u001b[0m\u001b[1;33m\u001b[0m\u001b[1;33m\u001b[0m\u001b[0m\n\u001b[0;32m      2\u001b[0m \u001b[1;32mimport\u001b[0m \u001b[0msys\u001b[0m\u001b[1;33m\u001b[0m\u001b[1;33m\u001b[0m\u001b[0m\n\u001b[1;32m----> 3\u001b[1;33m \u001b[1;32mfrom\u001b[0m \u001b[0msupporting_files\u001b[0m\u001b[1;33m.\u001b[0m\u001b[0mdata_loader\u001b[0m \u001b[1;32mimport\u001b[0m \u001b[0mload_excel\u001b[0m\u001b[1;33m\u001b[0m\u001b[1;33m\u001b[0m\u001b[0m\n\u001b[0m\u001b[0;32m      4\u001b[0m \u001b[1;33m\u001b[0m\u001b[0m\n\u001b[0;32m      5\u001b[0m \u001b[0mdf\u001b[0m \u001b[1;33m=\u001b[0m \u001b[0mload_excel\u001b[0m\u001b[1;33m(\u001b[0m\u001b[1;34m'SaleData.xlsx'\u001b[0m\u001b[1;33m)\u001b[0m\u001b[1;33m\u001b[0m\u001b[1;33m\u001b[0m\u001b[0m\n",
      "\u001b[1;31mModuleNotFoundError\u001b[0m: No module named 'supporting_files'"
     ]
    }
   ],
   "source": [
    "import pandas as pd\n",
    "import sys\n",
    "from supporting_files.data_loader import load_excel\n",
    "\n",
    "df = load_excel('SaleData.xlsx')"
   ]
  },
  {
   "cell_type": "code",
   "execution_count": null,
   "id": "7157e9e9-6956-4e6a-9384-5963aeb2c8b9",
   "metadata": {},
   "outputs": [],
   "source": [
    "def compute_total_sale(df):\n",
    "    \"IMPLEMENT ME\""
   ]
  }
 ],
 "metadata": {
  "kernelspec": {
   "display_name": "Python 3 (ipykernel)",
   "language": "python",
   "name": "python3"
  },
  "language_info": {
   "codemirror_mode": {
    "name": "ipython",
    "version": 3
   },
   "file_extension": ".py",
   "mimetype": "text/x-python",
   "name": "python",
   "nbconvert_exporter": "python",
   "pygments_lexer": "ipython3",
   "version": "3.7.9"
  }
 },
 "nbformat": 4,
 "nbformat_minor": 5
}
