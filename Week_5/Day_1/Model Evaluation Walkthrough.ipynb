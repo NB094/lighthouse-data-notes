{
 "cells": [
  {
   "cell_type": "code",
   "execution_count": 1,
   "id": "bf98a226-22ae-409c-8d37-e628ee485e36",
   "metadata": {},
   "outputs": [],
   "source": [
    "# import numpy\n",
    "import numpy as np"
   ]
  },
  {
   "cell_type": "code",
   "execution_count": 2,
   "id": "e0731027-574e-40be-b890-4fc8ffd1e88f",
   "metadata": {},
   "outputs": [],
   "source": [
    "# generate 'ground truth'\n",
    "y_true = np.random.normal(0,1,10)\n",
    "\n",
    "# generate random errors\n",
    "errors = np.random.normal(0,0.02,10)\n",
    "\n",
    "# simulate predictions\n",
    "y_pred = y_true + errors"
   ]
  },
  {
   "cell_type": "code",
   "execution_count": 5,
   "id": "cd33f60b-b379-48ed-a54b-cd339a3e8d77",
   "metadata": {},
   "outputs": [
    {
     "name": "stdout",
     "output_type": "stream",
     "text": [
      "[ 0.22808959 -0.59993143 -0.04073715 -0.65935664 -0.41587555  1.34032368\n",
      "  0.32167283  0.27901796 -1.85126556 -1.13186053]\n",
      "[ 0.02441881  0.0147115   0.00042956  0.01781248 -0.02184777 -0.0187058\n",
      " -0.0146124  -0.0106384  -0.020334    0.01320584]\n",
      "[ 0.2525084  -0.58521993 -0.04030759 -0.64154416 -0.43772333  1.32161788\n",
      "  0.30706044  0.26837956 -1.87159955 -1.11865469]\n"
     ]
    }
   ],
   "source": [
    "print(y_true)\n",
    "print(errors)\n",
    "print(y_pred)"
   ]
  },
  {
   "cell_type": "markdown",
   "id": "82fe89a9-65c8-4c45-a144-24527f6a8d5e",
   "metadata": {},
   "source": [
    "## Mean Squared Error (MSE) / Root Means Squared Error (RMSE)"
   ]
  },
  {
   "cell_type": "code",
   "execution_count": 3,
   "id": "af5ebdb0-c206-4385-95b1-4347f17b0fe7",
   "metadata": {},
   "outputs": [
    {
     "name": "stdout",
     "output_type": "stream",
     "text": [
      "0.00028719709985011363\n"
     ]
    }
   ],
   "source": [
    "# import MSE from sklearn\n",
    "from sklearn.metrics import mean_squared_error\n",
    "\n",
    "# compute MSE\n",
    "MSE = mean_squared_error(y_true,y_pred)  \n",
    "\n",
    "# print MSE\n",
    "print(MSE)"
   ]
  },
  {
   "cell_type": "code",
   "execution_count": 4,
   "id": "89e305d1-631d-4878-822b-030114cd13e0",
   "metadata": {},
   "outputs": [
    {
     "name": "stdout",
     "output_type": "stream",
     "text": [
      "0.016946890565826926\n",
      "0.016946890565826926\n"
     ]
    }
   ],
   "source": [
    "# RMSE by Numpy\n",
    "RMSE = np.sqrt(MSE)\n",
    "print(RMSE)\n",
    "\n",
    "# RMSE by sklearn\n",
    "RMSE = mean_squared_error(y_true,y_pred,squared=False)\n",
    "print(RMSE)"
   ]
  },
  {
   "cell_type": "markdown",
   "id": "59f0e097-675e-4340-909c-c3de4bf07164",
   "metadata": {},
   "source": [
    "## Classification Models Evaluation\n"
   ]
  },
  {
   "cell_type": "code",
   "execution_count": 6,
   "id": "a9728d3e-3ff7-403d-aa3d-a6b2466e180e",
   "metadata": {},
   "outputs": [],
   "source": [
    "# ground truth\n",
    "y_true = [1,1,0,1,0,0,1,0,0,1]\n",
    "\n",
    "# simulate probabilites of positive class\n",
    "y_proba = [0.9,0.7,0.2,0.99,0.7,0.1,0.5,0.2,0.4,0.6]\n",
    "\n",
    "# set the threshold to predict positive class\n",
    "thres = 0.5\n",
    "\n",
    "# class predictions\n",
    "y_pred = [int(value > thres) for value in y_proba]"
   ]
  },
  {
   "cell_type": "code",
   "execution_count": 7,
   "id": "528a29b6-dc07-4cc7-9452-5e153a355093",
   "metadata": {},
   "outputs": [
    {
     "name": "stdout",
     "output_type": "stream",
     "text": [
      "[1, 1, 0, 1, 0, 0, 1, 0, 0, 1]\n",
      "[1, 1, 0, 1, 1, 0, 0, 0, 0, 1]\n"
     ]
    }
   ],
   "source": [
    "print(y_true)\n",
    "print(y_pred)"
   ]
  },
  {
   "cell_type": "code",
   "execution_count": 8,
   "id": "916c2cb3-4b82-4a6a-90e9-e9e0915f6978",
   "metadata": {},
   "outputs": [
    {
     "name": "stdout",
     "output_type": "stream",
     "text": [
      "0.8\n"
     ]
    }
   ],
   "source": [
    "# import accuracy_score from sklearn\n",
    "from sklearn.metrics import accuracy_score\n",
    "\n",
    "# compute accuracy\n",
    "accuracy = accuracy_score(y_true,y_pred)\n",
    "\n",
    "# print accuracy\n",
    "print(accuracy)"
   ]
  },
  {
   "cell_type": "code",
   "execution_count": 9,
   "id": "c3332c40-1786-455a-8708-10db89c98eff",
   "metadata": {},
   "outputs": [
    {
     "name": "stdout",
     "output_type": "stream",
     "text": [
      "0.8000000000000002\n"
     ]
    }
   ],
   "source": [
    "# import f1_score from sklearn\n",
    "from sklearn.metrics import f1_score\n",
    "\n",
    "# compute F1-score\n",
    "f1_score = f1_score(y_true,y_pred)\n",
    "\n",
    "# print F1-score\n",
    "print(f1_score)"
   ]
  },
  {
   "cell_type": "code",
   "execution_count": 10,
   "id": "552794a5-e334-477b-a865-2764ad6d7689",
   "metadata": {},
   "outputs": [
    {
     "name": "stdout",
     "output_type": "stream",
     "text": [
      "0.9\n"
     ]
    }
   ],
   "source": [
    "# import roc_auc_score from sklearn\n",
    "from sklearn.metrics import roc_auc_score\n",
    "\n",
    "# compute AUC-score\n",
    "auc = roc_auc_score(y_true,y_proba)\n",
    "\n",
    "# print AUC-score\n",
    "print(auc)"
   ]
  },
  {
   "cell_type": "code",
   "execution_count": 11,
   "id": "ae2e1011-4261-4449-8894-cd5133a45797",
   "metadata": {},
   "outputs": [],
   "source": [
    "# In roc_auc_score we use probabilities (y_proba) instead of class labels. If we passed class labels no errors would be shown but the score would be inaccurate. \n",
    "# Be careful and read the documentation before using Sklearn functions."
   ]
  },
  {
   "cell_type": "code",
   "execution_count": null,
   "id": "b09a85f4-d0b8-41dd-b090-8052d615b23e",
   "metadata": {},
   "outputs": [],
   "source": []
  }
 ],
 "metadata": {
  "kernelspec": {
   "display_name": "Python 3 (ipykernel)",
   "language": "python",
   "name": "python3"
  },
  "language_info": {
   "codemirror_mode": {
    "name": "ipython",
    "version": 3
   },
   "file_extension": ".py",
   "mimetype": "text/x-python",
   "name": "python",
   "nbconvert_exporter": "python",
   "pygments_lexer": "ipython3",
   "version": "3.7.9"
  }
 },
 "nbformat": 4,
 "nbformat_minor": 5
}
