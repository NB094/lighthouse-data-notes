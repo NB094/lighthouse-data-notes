{
 "cells": [
  {
   "cell_type": "code",
   "execution_count": 1,
   "id": "000245b4-64a9-4e73-b9a9-eaeda2fd6eee",
   "metadata": {},
   "outputs": [],
   "source": [
    "import pandas as pd\n",
    "import os\n",
    "import requests as re\n",
    "import datetime\n",
    "import time\n",
    "from IPython.display import JSON\n",
    "import json"
   ]
  },
  {
   "cell_type": "markdown",
   "id": "62cad335-f622-4906-9b28-bdd687f846bb",
   "metadata": {},
   "source": [
    "# Import Dataframes"
   ]
  },
  {
   "cell_type": "markdown",
   "id": "12dfb33c-4a54-4d1f-b295-7601eb4f6d18",
   "metadata": {},
   "source": [
    "### Flights"
   ]
  },
  {
   "cell_type": "code",
   "execution_count": 2,
   "id": "309be76e-e3d5-41ce-9917-31eb4f1c8162",
   "metadata": {},
   "outputs": [],
   "source": [
    "pd.set_option('max_columns', None)\n",
    "#pd.reset_option('max_columns')"
   ]
  },
  {
   "cell_type": "code",
   "execution_count": 3,
   "id": "db3edd2f-fd66-4b2c-88f3-c8c689231a6f",
   "metadata": {
    "tags": []
   },
   "outputs": [],
   "source": [
    "# Import df_flights. Specify datatype of cancellation_code so there are not mixed datatypes present.\n",
    "df_flights = pd.read_csv('flights_data.csv', dtype={'cancellation_code':'object'})"
   ]
  },
  {
   "cell_type": "code",
   "execution_count": 4,
   "id": "4b5a7679-adcc-4990-8033-a19eacdd735f",
   "metadata": {},
   "outputs": [
    {
     "data": {
      "text/plain": [
       "(-50.801, 131.1]    312103\n",
       "(131.1, 311.2]        6333\n",
       "(311.2, 491.3]         753\n",
       "(491.3, 671.4]         174\n",
       "(671.4, 851.5]         129\n",
       "(851.5, 1031.6]         88\n",
       "(1031.6, 1211.7]        35\n",
       "(1391.8, 1571.9]        20\n",
       "(1211.7, 1391.8]        16\n",
       "(1571.9, 1752.0]         6\n",
       "Name: dep_delay, dtype: int64"
      ]
     },
     "execution_count": 4,
     "metadata": {},
     "output_type": "execute_result"
    }
   ],
   "source": [
    "# Check flight delay bins\n",
    "pd.cut(df_flights['dep_delay'], bins=10).value_counts()"
   ]
  },
  {
   "cell_type": "code",
   "execution_count": 5,
   "id": "da18abdd-27bb-4f12-bcdd-274fddb5b74f",
   "metadata": {
    "tags": []
   },
   "outputs": [],
   "source": [
    "# Filter out extreme delays which account for less than 1% of flights, for more accurate means\n",
    "df_flights = df_flights[df_flights['dep_delay'] < 311.2]"
   ]
  },
  {
   "cell_type": "code",
   "execution_count": 6,
   "id": "8f51212d-f8a7-4405-9a75-69da76016a02",
   "metadata": {},
   "outputs": [
    {
     "data": {
      "text/html": [
       "<div>\n",
       "<style scoped>\n",
       "    .dataframe tbody tr th:only-of-type {\n",
       "        vertical-align: middle;\n",
       "    }\n",
       "\n",
       "    .dataframe tbody tr th {\n",
       "        vertical-align: top;\n",
       "    }\n",
       "\n",
       "    .dataframe thead th {\n",
       "        text-align: right;\n",
       "    }\n",
       "</style>\n",
       "<table border=\"1\" class=\"dataframe\">\n",
       "  <thead>\n",
       "    <tr style=\"text-align: right;\">\n",
       "      <th></th>\n",
       "      <th>fl_date</th>\n",
       "      <th>mkt_unique_carrier</th>\n",
       "      <th>branded_code_share</th>\n",
       "      <th>mkt_carrier</th>\n",
       "      <th>mkt_carrier_fl_num</th>\n",
       "      <th>op_unique_carrier</th>\n",
       "      <th>tail_num</th>\n",
       "      <th>op_carrier_fl_num</th>\n",
       "      <th>origin_airport_id</th>\n",
       "      <th>origin</th>\n",
       "      <th>origin_city_name</th>\n",
       "      <th>dest_airport_id</th>\n",
       "      <th>dest</th>\n",
       "      <th>dest_city_name</th>\n",
       "      <th>crs_dep_time</th>\n",
       "      <th>dep_time</th>\n",
       "      <th>dep_delay</th>\n",
       "      <th>taxi_out</th>\n",
       "      <th>wheels_off</th>\n",
       "      <th>wheels_on</th>\n",
       "      <th>taxi_in</th>\n",
       "      <th>crs_arr_time</th>\n",
       "      <th>arr_time</th>\n",
       "      <th>arr_delay</th>\n",
       "      <th>cancelled</th>\n",
       "      <th>cancellation_code</th>\n",
       "      <th>diverted</th>\n",
       "      <th>dup</th>\n",
       "      <th>crs_elapsed_time</th>\n",
       "      <th>actual_elapsed_time</th>\n",
       "      <th>air_time</th>\n",
       "      <th>flights</th>\n",
       "      <th>distance</th>\n",
       "      <th>carrier_delay</th>\n",
       "      <th>weather_delay</th>\n",
       "      <th>nas_delay</th>\n",
       "      <th>security_delay</th>\n",
       "      <th>late_aircraft_delay</th>\n",
       "      <th>first_dep_time</th>\n",
       "      <th>total_add_gtime</th>\n",
       "      <th>longest_add_gtime</th>\n",
       "      <th>no_name</th>\n",
       "    </tr>\n",
       "  </thead>\n",
       "  <tbody>\n",
       "    <tr>\n",
       "      <th>0</th>\n",
       "      <td>2018-01-01</td>\n",
       "      <td>DL</td>\n",
       "      <td>DL_CODESHARE</td>\n",
       "      <td>DL</td>\n",
       "      <td>3468</td>\n",
       "      <td>9E</td>\n",
       "      <td>N292PQ</td>\n",
       "      <td>3468</td>\n",
       "      <td>15380</td>\n",
       "      <td>TVC</td>\n",
       "      <td>Traverse City, MI</td>\n",
       "      <td>11433</td>\n",
       "      <td>DTW</td>\n",
       "      <td>Detroit, MI</td>\n",
       "      <td>615</td>\n",
       "      <td>611.0</td>\n",
       "      <td>-4.0</td>\n",
       "      <td>26.0</td>\n",
       "      <td>637.0</td>\n",
       "      <td>712.0</td>\n",
       "      <td>9.0</td>\n",
       "      <td>738</td>\n",
       "      <td>721.0</td>\n",
       "      <td>-17.0</td>\n",
       "      <td>0.0</td>\n",
       "      <td>NaN</td>\n",
       "      <td>0.0</td>\n",
       "      <td>N</td>\n",
       "      <td>83.0</td>\n",
       "      <td>70.0</td>\n",
       "      <td>35.0</td>\n",
       "      <td>1.0</td>\n",
       "      <td>207.0</td>\n",
       "      <td>NaN</td>\n",
       "      <td>NaN</td>\n",
       "      <td>NaN</td>\n",
       "      <td>NaN</td>\n",
       "      <td>NaN</td>\n",
       "      <td>NaN</td>\n",
       "      <td>NaN</td>\n",
       "      <td>NaN</td>\n",
       "      <td>NaN</td>\n",
       "    </tr>\n",
       "  </tbody>\n",
       "</table>\n",
       "</div>"
      ],
      "text/plain": [
       "      fl_date mkt_unique_carrier branded_code_share mkt_carrier  \\\n",
       "0  2018-01-01                 DL       DL_CODESHARE          DL   \n",
       "\n",
       "   mkt_carrier_fl_num op_unique_carrier tail_num  op_carrier_fl_num  \\\n",
       "0                3468                9E   N292PQ               3468   \n",
       "\n",
       "   origin_airport_id origin   origin_city_name  dest_airport_id dest  \\\n",
       "0              15380    TVC  Traverse City, MI            11433  DTW   \n",
       "\n",
       "  dest_city_name  crs_dep_time  dep_time  dep_delay  taxi_out  wheels_off  \\\n",
       "0    Detroit, MI           615     611.0       -4.0      26.0       637.0   \n",
       "\n",
       "   wheels_on  taxi_in  crs_arr_time  arr_time  arr_delay  cancelled  \\\n",
       "0      712.0      9.0           738     721.0      -17.0        0.0   \n",
       "\n",
       "  cancellation_code  diverted dup  crs_elapsed_time  actual_elapsed_time  \\\n",
       "0               NaN       0.0   N              83.0                 70.0   \n",
       "\n",
       "   air_time  flights  distance  carrier_delay  weather_delay  nas_delay  \\\n",
       "0      35.0      1.0     207.0            NaN            NaN        NaN   \n",
       "\n",
       "   security_delay  late_aircraft_delay  first_dep_time  total_add_gtime  \\\n",
       "0             NaN                  NaN             NaN              NaN   \n",
       "\n",
       "   longest_add_gtime  no_name  \n",
       "0                NaN      NaN  "
      ]
     },
     "execution_count": 6,
     "metadata": {},
     "output_type": "execute_result"
    }
   ],
   "source": [
    "df_flights.head(1)"
   ]
  },
  {
   "cell_type": "markdown",
   "id": "d35b21a1-fcce-437c-a949-464bcd56e90b",
   "metadata": {},
   "source": [
    "### Flights_test"
   ]
  },
  {
   "cell_type": "code",
   "execution_count": 7,
   "id": "54bed6d1-005b-466c-b7e1-0a4952e80453",
   "metadata": {},
   "outputs": [],
   "source": [
    "# Look through flight data from January 2020\n",
    "df_flights_test = pd.read_csv('flights_test.csv')\n",
    "\n",
    "# Move column names to first row of data\n",
    "df_flights_test = (df_flights_test.T.reset_index().T.reset_index(drop=True))\n",
    "\n",
    "# Define new column names\n",
    "df_flights_test.columns = ['fl_date', 'mkt_unique_carrier', 'branded_code_share', 'mkt_carrier', 'mkt_carrier_fl_num', 'op_unique_carrier', 'tail_num', 'op_carrier_fl_num', 'origin_airport_id', 'origin', 'origin_city_name', 'dest_airport_id', 'dest', 'dest_city_name', 'crs_dep_time', 'crs_arr_time', 'dup', 'crs_elapsed_time', 'flights', 'distance']\n",
    "\n",
    "# Clean up fl_date\n",
    "df_flights_test['fl_date'] = df_flights_test['fl_date'].str[0:10]"
   ]
  },
  {
   "cell_type": "code",
   "execution_count": 8,
   "id": "0724854b-6104-470e-9c6b-a24474ecc1a2",
   "metadata": {},
   "outputs": [
    {
     "data": {
      "text/html": [
       "<div>\n",
       "<style scoped>\n",
       "    .dataframe tbody tr th:only-of-type {\n",
       "        vertical-align: middle;\n",
       "    }\n",
       "\n",
       "    .dataframe tbody tr th {\n",
       "        vertical-align: top;\n",
       "    }\n",
       "\n",
       "    .dataframe thead th {\n",
       "        text-align: right;\n",
       "    }\n",
       "</style>\n",
       "<table border=\"1\" class=\"dataframe\">\n",
       "  <thead>\n",
       "    <tr style=\"text-align: right;\">\n",
       "      <th></th>\n",
       "      <th>fl_date</th>\n",
       "      <th>mkt_unique_carrier</th>\n",
       "      <th>branded_code_share</th>\n",
       "      <th>mkt_carrier</th>\n",
       "      <th>mkt_carrier_fl_num</th>\n",
       "      <th>op_unique_carrier</th>\n",
       "      <th>tail_num</th>\n",
       "      <th>op_carrier_fl_num</th>\n",
       "      <th>origin_airport_id</th>\n",
       "      <th>origin</th>\n",
       "      <th>origin_city_name</th>\n",
       "      <th>dest_airport_id</th>\n",
       "      <th>dest</th>\n",
       "      <th>dest_city_name</th>\n",
       "      <th>crs_dep_time</th>\n",
       "      <th>crs_arr_time</th>\n",
       "      <th>dup</th>\n",
       "      <th>crs_elapsed_time</th>\n",
       "      <th>flights</th>\n",
       "      <th>distance</th>\n",
       "    </tr>\n",
       "  </thead>\n",
       "  <tbody>\n",
       "    <tr>\n",
       "      <th>0</th>\n",
       "      <td>2020-01-01</td>\n",
       "      <td>WN</td>\n",
       "      <td>WN.1</td>\n",
       "      <td>WN.2</td>\n",
       "      <td>5888</td>\n",
       "      <td>WN.3</td>\n",
       "      <td>N951WN</td>\n",
       "      <td>5888.1</td>\n",
       "      <td>13891</td>\n",
       "      <td>ONT</td>\n",
       "      <td>Ontario, CA</td>\n",
       "      <td>14771</td>\n",
       "      <td>SFO</td>\n",
       "      <td>San Francisco, CA</td>\n",
       "      <td>1810</td>\n",
       "      <td>1945</td>\n",
       "      <td>N</td>\n",
       "      <td>95</td>\n",
       "      <td>1</td>\n",
       "      <td>363</td>\n",
       "    </tr>\n",
       "  </tbody>\n",
       "</table>\n",
       "</div>"
      ],
      "text/plain": [
       "      fl_date mkt_unique_carrier branded_code_share mkt_carrier  \\\n",
       "0  2020-01-01                 WN               WN.1        WN.2   \n",
       "\n",
       "  mkt_carrier_fl_num op_unique_carrier tail_num op_carrier_fl_num  \\\n",
       "0               5888              WN.3   N951WN            5888.1   \n",
       "\n",
       "  origin_airport_id origin origin_city_name dest_airport_id dest  \\\n",
       "0             13891    ONT      Ontario, CA           14771  SFO   \n",
       "\n",
       "      dest_city_name crs_dep_time crs_arr_time dup crs_elapsed_time flights  \\\n",
       "0  San Francisco, CA         1810         1945   N               95       1   \n",
       "\n",
       "  distance  \n",
       "0      363  "
      ]
     },
     "execution_count": 8,
     "metadata": {},
     "output_type": "execute_result"
    }
   ],
   "source": [
    "df_flights_test.head(1)"
   ]
  },
  {
   "cell_type": "markdown",
   "id": "946c373e-12be-48c7-a820-85ffcefc0136",
   "metadata": {},
   "source": [
    "# Weather Lookup"
   ]
  },
  {
   "cell_type": "markdown",
   "id": "1c7c66c2-0ef2-4b4d-8e76-07127fd54482",
   "metadata": {},
   "source": [
    "Usage of weather data to estimate flight delay will depend on if there is an API with sufficient call allowances. Currently pending approval for student account on [OpenWeather](https://openweathermap.org/api)."
   ]
  },
  {
   "cell_type": "code",
   "execution_count": 9,
   "id": "af0092af-cf9d-4038-ba2b-b12ae72bcad5",
   "metadata": {},
   "outputs": [],
   "source": [
    "# Get hour of departure and arrival times (approximate using crs for 2020)\n",
    "df_flights['hour_of_day_dep'] = df_flights['dep_time'] // 100\n",
    "df_flights['hour_of_day_arr'] = df_flights['arr_time'] // 100\n",
    "df_flights_test['hour_of_day_dep'] = df_flights_test['crs_dep_time'].astype(int) // 100\n",
    "df_flights_test['hour_of_day_arr'] = df_flights_test['crs_arr_time'].astype(int) // 100\n",
    "\n",
    "# Set delay nulls to zero (zero minutes of delay instead of null)\n",
    "df_flights[['arr_delay', 'carrier_delay', 'weather_delay', 'nas_delay', 'security_delay', 'late_aircraft_delay']] = df_flights[['arr_delay', 'carrier_delay', 'weather_delay', 'nas_delay', 'security_delay', 'late_aircraft_delay']].fillna(value=0)"
   ]
  },
  {
   "cell_type": "code",
   "execution_count": 10,
   "id": "f15a20be-f409-4e3b-b7ed-054127721922",
   "metadata": {},
   "outputs": [],
   "source": [
    "# Create dataframes for one-day API lookups\n",
    "df_flights_20190101 = df_flights[df_flights['fl_date'] == '2019-01-01']\n",
    "df_flights_20200101 = df_flights_test[df_flights_test['fl_date'] == '2020-01-01']"
   ]
  },
  {
   "cell_type": "code",
   "execution_count": 11,
   "id": "dc9ecc1c-f342-4a14-ba5e-dab3ee8cfc23",
   "metadata": {},
   "outputs": [
    {
     "data": {
      "text/html": [
       "<div>\n",
       "<style scoped>\n",
       "    .dataframe tbody tr th:only-of-type {\n",
       "        vertical-align: middle;\n",
       "    }\n",
       "\n",
       "    .dataframe tbody tr th {\n",
       "        vertical-align: top;\n",
       "    }\n",
       "\n",
       "    .dataframe thead th {\n",
       "        text-align: right;\n",
       "    }\n",
       "</style>\n",
       "<table border=\"1\" class=\"dataframe\">\n",
       "  <thead>\n",
       "    <tr style=\"text-align: right;\">\n",
       "      <th></th>\n",
       "      <th>fl_date</th>\n",
       "      <th>mkt_unique_carrier</th>\n",
       "      <th>branded_code_share</th>\n",
       "      <th>mkt_carrier</th>\n",
       "      <th>mkt_carrier_fl_num</th>\n",
       "      <th>op_unique_carrier</th>\n",
       "      <th>tail_num</th>\n",
       "      <th>op_carrier_fl_num</th>\n",
       "      <th>origin_airport_id</th>\n",
       "      <th>origin</th>\n",
       "      <th>origin_city_name</th>\n",
       "      <th>dest_airport_id</th>\n",
       "      <th>dest</th>\n",
       "      <th>dest_city_name</th>\n",
       "      <th>crs_dep_time</th>\n",
       "      <th>dep_time</th>\n",
       "      <th>dep_delay</th>\n",
       "      <th>taxi_out</th>\n",
       "      <th>wheels_off</th>\n",
       "      <th>wheels_on</th>\n",
       "      <th>taxi_in</th>\n",
       "      <th>crs_arr_time</th>\n",
       "      <th>arr_time</th>\n",
       "      <th>arr_delay</th>\n",
       "      <th>cancelled</th>\n",
       "      <th>cancellation_code</th>\n",
       "      <th>diverted</th>\n",
       "      <th>dup</th>\n",
       "      <th>crs_elapsed_time</th>\n",
       "      <th>actual_elapsed_time</th>\n",
       "      <th>air_time</th>\n",
       "      <th>flights</th>\n",
       "      <th>distance</th>\n",
       "      <th>carrier_delay</th>\n",
       "      <th>weather_delay</th>\n",
       "      <th>nas_delay</th>\n",
       "      <th>security_delay</th>\n",
       "      <th>late_aircraft_delay</th>\n",
       "      <th>first_dep_time</th>\n",
       "      <th>total_add_gtime</th>\n",
       "      <th>longest_add_gtime</th>\n",
       "      <th>no_name</th>\n",
       "      <th>hour_of_day_dep</th>\n",
       "      <th>hour_of_day_arr</th>\n",
       "    </tr>\n",
       "  </thead>\n",
       "  <tbody>\n",
       "    <tr>\n",
       "      <th>154049</th>\n",
       "      <td>2019-01-01</td>\n",
       "      <td>AA</td>\n",
       "      <td>AA_CODESHARE</td>\n",
       "      <td>AA</td>\n",
       "      <td>5606</td>\n",
       "      <td>OH</td>\n",
       "      <td>N575NN</td>\n",
       "      <td>5606</td>\n",
       "      <td>13577</td>\n",
       "      <td>MYR</td>\n",
       "      <td>Myrtle Beach, SC</td>\n",
       "      <td>11057</td>\n",
       "      <td>CLT</td>\n",
       "      <td>Charlotte, NC</td>\n",
       "      <td>2157</td>\n",
       "      <td>2158.0</td>\n",
       "      <td>1.0</td>\n",
       "      <td>10.0</td>\n",
       "      <td>2208.0</td>\n",
       "      <td>2248.0</td>\n",
       "      <td>20.0</td>\n",
       "      <td>2311</td>\n",
       "      <td>2308.0</td>\n",
       "      <td>-3.0</td>\n",
       "      <td>0.0</td>\n",
       "      <td>NaN</td>\n",
       "      <td>0.0</td>\n",
       "      <td>N</td>\n",
       "      <td>74.0</td>\n",
       "      <td>70.0</td>\n",
       "      <td>40.0</td>\n",
       "      <td>1.0</td>\n",
       "      <td>157.0</td>\n",
       "      <td>0.0</td>\n",
       "      <td>0.0</td>\n",
       "      <td>0.0</td>\n",
       "      <td>0.0</td>\n",
       "      <td>0.0</td>\n",
       "      <td>NaN</td>\n",
       "      <td>NaN</td>\n",
       "      <td>NaN</td>\n",
       "      <td>NaN</td>\n",
       "      <td>21.0</td>\n",
       "      <td>23.0</td>\n",
       "    </tr>\n",
       "  </tbody>\n",
       "</table>\n",
       "</div>"
      ],
      "text/plain": [
       "           fl_date mkt_unique_carrier branded_code_share mkt_carrier  \\\n",
       "154049  2019-01-01                 AA       AA_CODESHARE          AA   \n",
       "\n",
       "        mkt_carrier_fl_num op_unique_carrier tail_num  op_carrier_fl_num  \\\n",
       "154049                5606                OH   N575NN               5606   \n",
       "\n",
       "        origin_airport_id origin  origin_city_name  dest_airport_id dest  \\\n",
       "154049              13577    MYR  Myrtle Beach, SC            11057  CLT   \n",
       "\n",
       "       dest_city_name  crs_dep_time  dep_time  dep_delay  taxi_out  \\\n",
       "154049  Charlotte, NC          2157    2158.0        1.0      10.0   \n",
       "\n",
       "        wheels_off  wheels_on  taxi_in  crs_arr_time  arr_time  arr_delay  \\\n",
       "154049      2208.0     2248.0     20.0          2311    2308.0       -3.0   \n",
       "\n",
       "        cancelled cancellation_code  diverted dup  crs_elapsed_time  \\\n",
       "154049        0.0               NaN       0.0   N              74.0   \n",
       "\n",
       "        actual_elapsed_time  air_time  flights  distance  carrier_delay  \\\n",
       "154049                 70.0      40.0      1.0     157.0            0.0   \n",
       "\n",
       "        weather_delay  nas_delay  security_delay  late_aircraft_delay  \\\n",
       "154049            0.0        0.0             0.0                  0.0   \n",
       "\n",
       "        first_dep_time  total_add_gtime  longest_add_gtime  no_name  \\\n",
       "154049             NaN              NaN                NaN      NaN   \n",
       "\n",
       "        hour_of_day_dep  hour_of_day_arr  \n",
       "154049             21.0             23.0  "
      ]
     },
     "execution_count": 11,
     "metadata": {},
     "output_type": "execute_result"
    }
   ],
   "source": [
    "df_flights_20190101.head(1)"
   ]
  },
  {
   "cell_type": "code",
   "execution_count": 12,
   "id": "6a95adb6-4d9c-4683-8ca4-2e4c51cd9b53",
   "metadata": {},
   "outputs": [
    {
     "data": {
      "text/html": [
       "<div>\n",
       "<style scoped>\n",
       "    .dataframe tbody tr th:only-of-type {\n",
       "        vertical-align: middle;\n",
       "    }\n",
       "\n",
       "    .dataframe tbody tr th {\n",
       "        vertical-align: top;\n",
       "    }\n",
       "\n",
       "    .dataframe thead th {\n",
       "        text-align: right;\n",
       "    }\n",
       "</style>\n",
       "<table border=\"1\" class=\"dataframe\">\n",
       "  <thead>\n",
       "    <tr style=\"text-align: right;\">\n",
       "      <th></th>\n",
       "      <th>fl_date</th>\n",
       "      <th>mkt_unique_carrier</th>\n",
       "      <th>branded_code_share</th>\n",
       "      <th>mkt_carrier</th>\n",
       "      <th>mkt_carrier_fl_num</th>\n",
       "      <th>op_unique_carrier</th>\n",
       "      <th>tail_num</th>\n",
       "      <th>op_carrier_fl_num</th>\n",
       "      <th>origin_airport_id</th>\n",
       "      <th>origin</th>\n",
       "      <th>origin_city_name</th>\n",
       "      <th>dest_airport_id</th>\n",
       "      <th>dest</th>\n",
       "      <th>dest_city_name</th>\n",
       "      <th>crs_dep_time</th>\n",
       "      <th>crs_arr_time</th>\n",
       "      <th>dup</th>\n",
       "      <th>crs_elapsed_time</th>\n",
       "      <th>flights</th>\n",
       "      <th>distance</th>\n",
       "      <th>hour_of_day_dep</th>\n",
       "      <th>hour_of_day_arr</th>\n",
       "    </tr>\n",
       "  </thead>\n",
       "  <tbody>\n",
       "    <tr>\n",
       "      <th>0</th>\n",
       "      <td>2020-01-01</td>\n",
       "      <td>WN</td>\n",
       "      <td>WN.1</td>\n",
       "      <td>WN.2</td>\n",
       "      <td>5888</td>\n",
       "      <td>WN.3</td>\n",
       "      <td>N951WN</td>\n",
       "      <td>5888.1</td>\n",
       "      <td>13891</td>\n",
       "      <td>ONT</td>\n",
       "      <td>Ontario, CA</td>\n",
       "      <td>14771</td>\n",
       "      <td>SFO</td>\n",
       "      <td>San Francisco, CA</td>\n",
       "      <td>1810</td>\n",
       "      <td>1945</td>\n",
       "      <td>N</td>\n",
       "      <td>95</td>\n",
       "      <td>1</td>\n",
       "      <td>363</td>\n",
       "      <td>18</td>\n",
       "      <td>19</td>\n",
       "    </tr>\n",
       "  </tbody>\n",
       "</table>\n",
       "</div>"
      ],
      "text/plain": [
       "      fl_date mkt_unique_carrier branded_code_share mkt_carrier  \\\n",
       "0  2020-01-01                 WN               WN.1        WN.2   \n",
       "\n",
       "  mkt_carrier_fl_num op_unique_carrier tail_num op_carrier_fl_num  \\\n",
       "0               5888              WN.3   N951WN            5888.1   \n",
       "\n",
       "  origin_airport_id origin origin_city_name dest_airport_id dest  \\\n",
       "0             13891    ONT      Ontario, CA           14771  SFO   \n",
       "\n",
       "      dest_city_name crs_dep_time crs_arr_time dup crs_elapsed_time flights  \\\n",
       "0  San Francisco, CA         1810         1945   N               95       1   \n",
       "\n",
       "  distance  hour_of_day_dep  hour_of_day_arr  \n",
       "0      363               18               19  "
      ]
     },
     "execution_count": 12,
     "metadata": {},
     "output_type": "execute_result"
    }
   ],
   "source": [
    "df_flights_20200101.head(1)"
   ]
  },
  {
   "cell_type": "code",
   "execution_count": 13,
   "id": "8b16ddf6-58bf-4396-86a0-8c6e27da111e",
   "metadata": {},
   "outputs": [],
   "source": [
    "# Set up API query function\n",
    "api_key = os.environ[\"VisualCrossing_API_Code\"]\n",
    "\n",
    "def weather_query_oneday(flightsDF):\n",
    "    '''\n",
    "    Given a dataframe of flights info on a given day, return a list of weather conditions for each unique origin city.\n",
    "    '''\n",
    "    \n",
    "    city_list = flightsDF['origin_city_name'].unique().tolist()\n",
    "    city_list_cleaned = []\n",
    "    \n",
    "    # Replace forward slashes in city names\n",
    "    for elem in city_list:\n",
    "        if elem.find('/') == -1:\n",
    "            city_list_cleaned.append(elem)\n",
    "        else:\n",
    "            city_list_cleaned.append(elem.replace('/','-'))\n",
    "    \n",
    "    date = flightsDF['fl_date'].iloc[0]\n",
    "    \n",
    "    weather_conditions_list = []\n",
    "    weather_conditions_dict = {}\n",
    "\n",
    "    for i in range(0,len(city_list_cleaned)):\n",
    "        res = re.get(f'https://weather.visualcrossing.com/VisualCrossingWebServices/rest/services/timeline/{city_list_cleaned[i]}/{date}?unitGroup=us&key={api_key}&include=current')\n",
    "        weather_conditions_list.append(res.json()['days'][0]['conditions'])\n",
    "        weather_conditions_dict.update({city_list[i]:weather_conditions_list[i]})\n",
    "    \n",
    "    return weather_conditions_dict"
   ]
  },
  {
   "cell_type": "code",
   "execution_count": 14,
   "id": "923f278d-5ae3-4acf-8b90-6c0f3311c3c7",
   "metadata": {},
   "outputs": [],
   "source": [
    "def weather_simplification_dict(weather_dict):\n",
    "    '''\n",
    "    Given a list of weather conditions in a dictionary with cities, simplify the types into Sunny, Cloudy, Rainy, or Snow.\n",
    "    '''\n",
    "\n",
    "    weather_simplified = weather_dict.copy()\n",
    "\n",
    "    for key, value in weather_dict.items():\n",
    "        \n",
    "        if value.find('Snow') > -1:\n",
    "            weather_simplified.update({key:'Snow'})\n",
    "            \n",
    "        elif value.find('Rain') > -1:\n",
    "            weather_simplified.update({key:'Rainy'})\n",
    "            \n",
    "        elif (value.find('cloudy') > -1) or (value.find('Overcast') > -1):\n",
    "            weather_simplified.update({key:'Cloudy'})\n",
    "            \n",
    "        else:\n",
    "            weather_simplified.update({key:'Sunny'})\n",
    "    \n",
    "    return weather_simplified"
   ]
  },
  {
   "cell_type": "code",
   "execution_count": 15,
   "id": "61c75a34-7eaf-44cf-a750-2eee483e2204",
   "metadata": {},
   "outputs": [],
   "source": [
    "# # Perform API queries (I did this and exported the results)\n",
    "# df_flights_20190101_weather = weather_query_oneday(df_flights_20190101)\n",
    "# df_flights_20200101_weather = weather_query_oneday(df_flights_20200101)"
   ]
  },
  {
   "cell_type": "code",
   "execution_count": 16,
   "id": "d1bdb2c8-9d78-47e7-8d77-d0d5e16e8285",
   "metadata": {},
   "outputs": [],
   "source": [
    "df_flights_20190101_weather = json.load(open('df_flights_20190101_weather.json', 'r'))\n",
    "df_flights_20200101_weather = json.load(open('df_flights_20200101_weather.json', 'r'))"
   ]
  },
  {
   "cell_type": "code",
   "execution_count": 17,
   "id": "20ce3827-c42c-48e6-8893-d1d0f95ff9c8",
   "metadata": {},
   "outputs": [],
   "source": [
    "# Simplify the weather results\n",
    "df_flights_20190101_weather_simplified = weather_simplification_dict(df_flights_20190101_weather)\n",
    "df_flights_20200101_weather_simplified = weather_simplification_dict(df_flights_20200101_weather)"
   ]
  },
  {
   "cell_type": "code",
   "execution_count": 18,
   "id": "4b63a820-6318-4ca6-9e9b-06e8fa79d551",
   "metadata": {},
   "outputs": [
    {
     "name": "stderr",
     "output_type": "stream",
     "text": [
      "F:\\Anaconda\\envs\\pycaret\\lib\\site-packages\\ipykernel_launcher.py:2: SettingWithCopyWarning: \n",
      "A value is trying to be set on a copy of a slice from a DataFrame.\n",
      "Try using .loc[row_indexer,col_indexer] = value instead\n",
      "\n",
      "See the caveats in the documentation: https://pandas.pydata.org/pandas-docs/stable/user_guide/indexing.html#returning-a-view-versus-a-copy\n",
      "  \n"
     ]
    }
   ],
   "source": [
    "# Apply weather results to df_flights_20190101\n",
    "df_flights_20190101['origin_weather'] = df_flights_20190101.apply(lambda row: df_flights_20190101_weather_simplified[row['origin_city_name']], axis=1)\n"
   ]
  },
  {
   "cell_type": "code",
   "execution_count": 19,
   "id": "f2f6f433-576c-452b-8ac0-ed85659a6f14",
   "metadata": {
    "tags": []
   },
   "outputs": [
    {
     "data": {
      "text/plain": [
       "origin_weather\n",
       "Cloudy    0.304863\n",
       "Rainy     0.170538\n",
       "Snow      3.141741\n",
       "Sunny     0.099901\n",
       "Name: weather_delay, dtype: float64"
      ]
     },
     "execution_count": 19,
     "metadata": {},
     "output_type": "execute_result"
    }
   ],
   "source": [
    "# Find mean weather day for the 4 possible conditions\n",
    "weather_delay_means = df_flights_20190101.groupby('origin_weather').mean()['weather_delay']\n",
    "weather_delay_std = df_flights_20190101.groupby('origin_weather').std()['weather_delay']\n",
    "weather_delay_means"
   ]
  },
  {
   "cell_type": "code",
   "execution_count": 20,
   "id": "38a32c6b-392c-4b74-9bfe-c6adbd924ad7",
   "metadata": {},
   "outputs": [],
   "source": [
    "# Make three assumptions due to API limitations:\n",
    "# 1.  2018/2019 weather for the first 8 days is the same as 2019-01-01\n",
    "# 2.  2020      weather for the first 8 days is the same as 2020-01-01\n",
    "# 3.  If a city's weather is not available, assume it is Sunny.\n",
    "\n",
    "\n",
    "# Apply the weather to the remaining days of the dataframe, apply the mean delays, and set any missing cities' delay equal to 0.\n",
    "\n",
    "df_flights['origin_weather'] = df_flights.apply(lambda row: df_flights_20190101_weather_simplified[row['origin_city_name']] if row['origin_city_name'] in df_flights_20190101_weather_simplified.keys() else 'Sunny', axis=1)\n",
    "df_flights['mean_weather_delay'] = df_flights.apply(lambda row: weather_delay_means[row['origin_weather']], axis=1)\n",
    "df_flights['std_weather_delay'] = df_flights.apply(lambda row: weather_delay_std[row['origin_weather']], axis=1)\n",
    "\n",
    "df_flights_test['origin_weather'] = df_flights_test.apply(lambda row: df_flights_20200101_weather_simplified[row['origin_city_name']] if row['origin_city_name'] in df_flights_20200101_weather_simplified.keys() else 'Sunny', axis=1)\n",
    "df_flights_test['mean_weather_delay'] = df_flights_test.apply(lambda row: weather_delay_means[row['origin_weather']], axis=1)\n",
    "df_flights_test['std_weather_delay'] = df_flights_test.apply(lambda row: weather_delay_std[row['origin_weather']], axis=1)"
   ]
  },
  {
   "cell_type": "code",
   "execution_count": 21,
   "id": "94702757-d300-4bcf-8dee-9ab1b8636c31",
   "metadata": {},
   "outputs": [],
   "source": [
    "df_flights;"
   ]
  },
  {
   "cell_type": "markdown",
   "id": "bc57980f-4172-4c35-895b-722cba182118",
   "metadata": {},
   "source": [
    "# Feature Engineering"
   ]
  },
  {
   "cell_type": "code",
   "execution_count": 22,
   "id": "8de7f6b5-d188-46e3-80fb-e1c7d36d3811",
   "metadata": {},
   "outputs": [],
   "source": [
    "# Exclude diverted and cancelled flights\n",
    "df_flights = df_flights[df_flights['diverted'] != 1]\n",
    "df_flights = df_flights[df_flights['cancelled'] != 1]\n",
    "\n",
    "# Format fl_date column as a date\n",
    "df_flights['fl_date'] = pd.to_datetime(df_flights['fl_date'])\n",
    "df_flights_test['fl_date'] = pd.to_datetime(df_flights_test['fl_date'])\n",
    "\n",
    "# Create 'state' column\n",
    "df_flights['state'] = df_flights['origin_city_name'].str[-2:]\n",
    "df_flights_test['state'] = df_flights_test['origin_city_name'].str[-2:]\n",
    "\n",
    "# Create fl_day column\n",
    "df_flights['fl_day'] = pd.DatetimeIndex(df_flights['fl_date']).day\n",
    "df_flights_test['fl_day'] = pd.DatetimeIndex(df_flights_test['fl_date']).day\n",
    "\n",
    "# Get and apply daily mean flight delay values\n",
    "df_daily_delay_means = df_flights.groupby('fl_day').mean()[['arr_delay', 'carrier_delay', 'weather_delay', 'nas_delay', 'security_delay', 'late_aircraft_delay']].reset_index()\n",
    "df_flights['daily_arr_delay_mean'] = df_flights.apply(lambda row: df_daily_delay_means['arr_delay'][row['fl_day']-1], axis=1)\n",
    "df_flights['daily_carrier_delay_mean'] = df_flights.apply(lambda row: df_daily_delay_means['carrier_delay'][row['fl_day']-1], axis=1)\n",
    "df_flights['daily_weather_delay_mean'] = df_flights.apply(lambda row: df_daily_delay_means['weather_delay'][row['fl_day']-1], axis=1)\n",
    "df_flights['daily_nas_delay_mean'] = df_flights.apply(lambda row: df_daily_delay_means['nas_delay'][row['fl_day']-1], axis=1)\n",
    "df_flights['daily_security_delay_mean'] = df_flights.apply(lambda row: df_daily_delay_means['security_delay'][row['fl_day']-1], axis=1)\n",
    "df_flights['daily_late_aircraft_delay_mean'] = df_flights.apply(lambda row: df_daily_delay_means['late_aircraft_delay'][row['fl_day']-1], axis=1)\n",
    "\n",
    "df_flights_test['daily_arr_delay_mean'] = df_flights_test.apply(lambda row: df_daily_delay_means['arr_delay'][row['fl_day']-1], axis=1)\n",
    "df_flights_test['daily_carrier_delay_mean'] = df_flights_test.apply(lambda row: df_daily_delay_means['carrier_delay'][row['fl_day']-1], axis=1)\n",
    "df_flights_test['daily_weather_delay_mean'] = df_flights_test.apply(lambda row: df_daily_delay_means['weather_delay'][row['fl_day']-1], axis=1)\n",
    "df_flights_test['daily_nas_delay_mean'] = df_flights_test.apply(lambda row: df_daily_delay_means['nas_delay'][row['fl_day']-1], axis=1)\n",
    "df_flights_test['daily_security_delay_mean'] = df_flights_test.apply(lambda row: df_daily_delay_means['security_delay'][row['fl_day']-1], axis=1)\n",
    "df_flights_test['daily_late_aircraft_delay_mean'] = df_flights_test.apply(lambda row: df_daily_delay_means['late_aircraft_delay'][row['fl_day']-1], axis=1)\n",
    "\n",
    "# Get and apply daily standard deviation of flight delay values\n",
    "df_daily_delay_std = df_flights.groupby('fl_day').std()[['arr_delay', 'carrier_delay', 'weather_delay', 'nas_delay', 'security_delay', 'late_aircraft_delay']].reset_index()\n",
    "df_flights['daily_arr_delay_std'] = df_flights.apply(lambda row: df_daily_delay_std['arr_delay'][row['fl_day']-1], axis=1)\n",
    "df_flights['daily_carrier_delay_std'] = df_flights.apply(lambda row: df_daily_delay_std['carrier_delay'][row['fl_day']-1], axis=1)\n",
    "df_flights['daily_weather_delay_std'] = df_flights.apply(lambda row: df_daily_delay_std['weather_delay'][row['fl_day']-1], axis=1)\n",
    "df_flights['daily_nas_delay_std'] = df_flights.apply(lambda row: df_daily_delay_std['nas_delay'][row['fl_day']-1], axis=1)\n",
    "df_flights['daily_security_delay_std'] = df_flights.apply(lambda row: df_daily_delay_std['security_delay'][row['fl_day']-1], axis=1)\n",
    "df_flights['daily_late_aircraft_delay_std'] = df_flights.apply(lambda row: df_daily_delay_std['late_aircraft_delay'][row['fl_day']-1], axis=1)\n",
    "\n",
    "df_flights_test['daily_arr_delay_std'] = df_flights_test.apply(lambda row: df_daily_delay_std['arr_delay'][row['fl_day']-1], axis=1)\n",
    "df_flights_test['daily_carrier_delay_std'] = df_flights_test.apply(lambda row: df_daily_delay_std['carrier_delay'][row['fl_day']-1], axis=1)\n",
    "df_flights_test['daily_weather_delay_std'] = df_flights_test.apply(lambda row: df_daily_delay_std['weather_delay'][row['fl_day']-1], axis=1)\n",
    "df_flights_test['daily_nas_delay_std'] = df_flights_test.apply(lambda row: df_daily_delay_std['nas_delay'][row['fl_day']-1], axis=1)\n",
    "df_flights_test['daily_security_delay_std'] = df_flights_test.apply(lambda row: df_daily_delay_std['security_delay'][row['fl_day']-1], axis=1)\n",
    "df_flights_test['daily_late_aircraft_delay_std'] = df_flights_test.apply(lambda row: df_daily_delay_std['late_aircraft_delay'][row['fl_day']-1], axis=1)"
   ]
  },
  {
   "cell_type": "code",
   "execution_count": 23,
   "id": "facb63e1-5294-4c38-a8b5-12d7231d0e37",
   "metadata": {},
   "outputs": [],
   "source": [
    "# Get and apply hourly mean flight delay values\n",
    "dep_hourly_delay_mean = df_flights.groupby('hour_of_day_dep').mean()['dep_delay']\n",
    "arr_hourly_delay_mean = df_flights.groupby('hour_of_day_arr').mean()['arr_delay']\n",
    "\n",
    "df_flights['dep_mean_hourly_delay'] = df_flights.apply(lambda row: dep_hourly_delay_mean[row['hour_of_day_dep']], axis=1)\n",
    "df_flights['arr_mean_hourly_delay'] = df_flights.apply(lambda row: arr_hourly_delay_mean[row['hour_of_day_arr']], axis=1)\n",
    "df_flights_test['dep_mean_hourly_delay'] = df_flights_test.apply(lambda row: dep_hourly_delay_mean[row['hour_of_day_dep']], axis=1)\n",
    "df_flights_test['arr_mean_hourly_delay'] = df_flights_test.apply(lambda row: arr_hourly_delay_mean[row['hour_of_day_arr']], axis=1)\n",
    "\n",
    "# Get and apply hourly standard deviation of flight delay values\n",
    "dep_hourly_delay_std = df_flights.groupby('hour_of_day_dep').std()['dep_delay']\n",
    "arr_hourly_delay_std = df_flights.groupby('hour_of_day_arr').std()['arr_delay']\n",
    "\n",
    "df_flights['dep_std_hourly_delay'] = df_flights.apply(lambda row: dep_hourly_delay_std[row['hour_of_day_dep']], axis=1)\n",
    "df_flights['arr_std_hourly_delay'] = df_flights.apply(lambda row: arr_hourly_delay_std[row['hour_of_day_arr']], axis=1)\n",
    "df_flights_test['dep_std_hourly_delay'] = df_flights_test.apply(lambda row: dep_hourly_delay_std[row['hour_of_day_dep']], axis=1)\n",
    "df_flights_test['arr_std_hourly_delay'] = df_flights_test.apply(lambda row: arr_hourly_delay_std[row['hour_of_day_arr']], axis=1)"
   ]
  },
  {
   "cell_type": "code",
   "execution_count": 24,
   "id": "ba28dd20-ced1-4503-ae6d-b82327c104a3",
   "metadata": {},
   "outputs": [],
   "source": [
    "# Calculate and apply mean marketing (mkt) and operating (op) carrier delays\n",
    "df_mean_mkt_carrier_delays = df_flights.groupby('mkt_unique_carrier').mean()['carrier_delay']\n",
    "df_mean_op_carrier_delays = df_flights.groupby('op_unique_carrier').mean()['carrier_delay']\n",
    "df_flights['mean_mkt_carrier_delay'] = df_flights.apply(lambda row: df_mean_mkt_carrier_delays[row['mkt_unique_carrier']], axis=1)\n",
    "df_flights['mean_op_carrier_delay'] = df_flights.apply(lambda row: df_mean_op_carrier_delays[row['op_unique_carrier']], axis=1)\n",
    "df_flights_test['mean_mkt_carrier_delay'] = df_flights_test.apply(lambda row: df_mean_mkt_carrier_delays[row['mkt_unique_carrier']], axis=1)\n",
    "df_flights_test['mean_op_carrier_delay'] = df_flights_test.apply(lambda row: df_mean_op_carrier_delays[row['op_unique_carrier']] if row['op_unique_carrier'] in df_mean_op_carrier_delays.index else df_mean_op_carrier_delays.mean(), axis=1)\n",
    "\n",
    "# Calculate and apply standard deviation of marketing (mkt) and operating (op) carrier delays\n",
    "df_std_mkt_carrier_delays = df_flights.groupby('mkt_unique_carrier').std()['carrier_delay']\n",
    "df_std_op_carrier_delays = df_flights.groupby('op_unique_carrier').std()['carrier_delay']\n",
    "df_flights['std_mkt_carrier_delay'] = df_flights.apply(lambda row: df_std_mkt_carrier_delays[row['mkt_unique_carrier']], axis=1)\n",
    "df_flights['std_op_carrier_delay'] = df_flights.apply(lambda row: df_std_op_carrier_delays[row['op_unique_carrier']], axis=1)\n",
    "df_flights_test['std_mkt_carrier_delay'] = df_flights_test.apply(lambda row: df_std_mkt_carrier_delays[row['mkt_unique_carrier']], axis=1)\n",
    "df_flights_test['std_op_carrier_delay'] = df_flights_test.apply(lambda row: df_std_op_carrier_delays[row['op_unique_carrier']] if row['op_unique_carrier'] in df_std_op_carrier_delays.index else df_std_op_carrier_delays.mean(), axis=1)"
   ]
  },
  {
   "cell_type": "code",
   "execution_count": 25,
   "id": "26a4f1c4-885e-4286-9a43-18c82479c672",
   "metadata": {
    "tags": []
   },
   "outputs": [],
   "source": [
    "# Add relationship between tail number and delay time\n",
    "tail_num_delay_means = df_flights.groupby('tail_num').mean()['arr_delay']\n",
    "tail_num_delay_std = df_flights.groupby('tail_num').std()['arr_delay']\n",
    "\n",
    "df_flights['mean_tail_num_arr_delay'] = df_flights.apply(lambda row: tail_num_delay_means[row['tail_num']] if row['tail_num'] in tail_num_delay_means.index else tail_num_delay_means.mean(), axis=1)\n",
    "df_flights['std_tail_num_arr_delay'] = df_flights.apply(lambda row: tail_num_delay_std[row['tail_num']] if row['tail_num'] in tail_num_delay_std.index else tail_num_delay_std.mean(), axis=1)\n",
    "df_flights['std_tail_num_arr_delay'].fillna(value=tail_num_delay_std.mean(),inplace=True)  # Fix null values\n",
    "\n",
    "df_flights_test['mean_tail_num_arr_delay'] = df_flights_test.apply(lambda row: tail_num_delay_means[row['tail_num']] if row['tail_num'] in tail_num_delay_means.index else tail_num_delay_means.mean(), axis=1)\n",
    "df_flights_test['std_tail_num_arr_delay'] = df_flights_test.apply(lambda row: tail_num_delay_std[row['tail_num']] if row['tail_num'] in tail_num_delay_std.index else tail_num_delay_std.mean(), axis=1)\n",
    "df_flights_test['std_tail_num_arr_delay'].fillna(value=tail_num_delay_std.mean(),inplace=True)  # Fix null values"
   ]
  },
  {
   "cell_type": "code",
   "execution_count": 26,
   "id": "17b16210-e485-48ea-9b32-c8651e720f5e",
   "metadata": {},
   "outputs": [],
   "source": [
    "df_flights;"
   ]
  },
  {
   "cell_type": "code",
   "execution_count": null,
   "id": "becd003d-c64b-42ff-bdba-b136ffbf6027",
   "metadata": {},
   "outputs": [],
   "source": [
    "# One hot encoding?"
   ]
  },
  {
   "cell_type": "markdown",
   "id": "f02e3137-573e-4524-9f1e-ffea94391d12",
   "metadata": {},
   "source": [
    "# Dropping Columns, Construct Final DFs"
   ]
  },
  {
   "cell_type": "code",
   "execution_count": 27,
   "id": "6fe5a096-8a8b-4a70-b3c3-a5401759e199",
   "metadata": {},
   "outputs": [],
   "source": [
    "# Drop inappropriate columns (this should be the final step, after other feature engineering is complete).\n",
    "# Except for the arr_delay column, df_flights_final should have the same columns as df_flights_test in order to use both as training/testing X values.\n",
    "\n",
    "df_flights_final = df_flights.drop(columns=['carrier_delay', 'weather_delay', 'nas_delay', 'security_delay', 'late_aircraft_delay', 'no_name', 'dep_time', 'dep_delay', 'taxi_out', 'wheels_off', 'wheels_on', 'taxi_in', \n",
    "                                      'arr_time', 'cancelled', 'cancellation_code', 'diverted', 'actual_elapsed_time', 'air_time', 'first_dep_time', 'total_add_gtime', 'longest_add_gtime',\n",
    "                                           'branded_code_share', 'mkt_carrier', 'mkt_carrier_fl_num', 'op_carrier_fl_num', 'origin_city_name', 'dest_city_name', 'dup', 'flights'])\n",
    "\n",
    "# Orignal columns of df_flights_test:\n",
    "# ['fl_date', 'mkt_unique_carrier', 'branded_code_share', 'mkt_carrier', 'mkt_carrier_fl_num', 'op_unique_carrier', 'tail_num', 'op_carrier_fl_num', 'origin_airport_id', 'origin', 'origin_city_name', 'dest_airport_id', 'dest', 'dest_city_name', 'crs_dep_time', 'crs_arr_time', 'dup', 'crs_elapsed_time', 'flights', 'distance']\n",
    "\n",
    "df_flights_test_final = df_flights_test.drop(columns=['branded_code_share', 'mkt_carrier', 'mkt_carrier_fl_num', 'op_carrier_fl_num', 'origin_city_name', 'dest_city_name', 'dup', 'flights'])\n",
    "df_flights_test_final = df_flights_test_final.dropna()   # Drop rows with missing tail numbers (235 rows, or 0.14%)"
   ]
  },
  {
   "cell_type": "code",
   "execution_count": 45,
   "id": "e34c382b-4b46-4706-8b76-898261d1e9a2",
   "metadata": {},
   "outputs": [],
   "source": [
    "df_flights_final;"
   ]
  },
  {
   "cell_type": "code",
   "execution_count": 46,
   "id": "be52bad5-bcd7-43d8-b538-9875c8f16643",
   "metadata": {},
   "outputs": [],
   "source": [
    "df_flights_test_final;"
   ]
  },
  {
   "cell_type": "code",
   "execution_count": 30,
   "id": "43b9e95d-2ba0-4bb7-983b-aa8e7863cbdd",
   "metadata": {
    "tags": []
   },
   "outputs": [],
   "source": [
    "# Export DFs to csv\n",
    "#df_flights_final.to_csv('df_flights_final.csv')\n",
    "#df_flights_test_final.to_csv('df_flights_test_final.csv')"
   ]
  },
  {
   "cell_type": "markdown",
   "id": "20e7fdaf-5dfc-4d08-8ed0-1b2d9258bd66",
   "metadata": {},
   "source": [
    "# Hypothesis"
   ]
  },
  {
   "cell_type": "markdown",
   "id": "a9b01ece-dde8-462c-b675-89685b7a0b37",
   "metadata": {},
   "source": [
    "I think these will be the most important feature(s):\n",
    "* mkt and op carrier delay stats (mean/std)\n",
    "* daily and hourly delay stats\n",
    "* weather delay stats\n",
    "\n",
    "I think these will be the least important feature(s):\n",
    "* tail number stats"
   ]
  }
 ],
 "metadata": {
  "kernelspec": {
   "display_name": "Python 3",
   "language": "python",
   "name": "python3"
  },
  "language_info": {
   "codemirror_mode": {
    "name": "ipython",
    "version": 3
   },
   "file_extension": ".py",
   "mimetype": "text/x-python",
   "name": "python",
   "nbconvert_exporter": "python",
   "pygments_lexer": "ipython3",
   "version": "3.7.11"
  }
 },
 "nbformat": 4,
 "nbformat_minor": 5
}
