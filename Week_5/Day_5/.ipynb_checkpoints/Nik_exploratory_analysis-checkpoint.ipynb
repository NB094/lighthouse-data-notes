{
 "cells": [
  {
   "cell_type": "markdown",
   "metadata": {},
   "source": [
    "## Exploratory Data Analysis\n",
    "\n",
    "Use this notebook to get familiar with the datasets we have. There is 10 questions we need to answer during the EDA.\n",
    "\n",
    "\n",
    "We shouldn't limit our EDA to these 10 questions. Let's be creative :)."
   ]
  },
  {
   "cell_type": "code",
   "execution_count": 1,
   "metadata": {},
   "outputs": [],
   "source": [
    "import pandas as pd\n",
    "from scipy import stats\n",
    "import numpy as np\n",
    "import matplotlib.pyplot as plt"
   ]
  },
  {
   "cell_type": "code",
   "execution_count": 2,
   "metadata": {},
   "outputs": [
    {
     "name": "stderr",
     "output_type": "stream",
     "text": [
      "F:\\Anaconda\\envs\\lhl\\lib\\site-packages\\IPython\\core\\interactiveshell.py:3170: DtypeWarning: Columns (25) have mixed types.Specify dtype option on import or set low_memory=False.\n",
      "  interactivity=interactivity, compiler=compiler, result=result)\n"
     ]
    },
    {
     "data": {
      "text/html": [
       "<div>\n",
       "<style scoped>\n",
       "    .dataframe tbody tr th:only-of-type {\n",
       "        vertical-align: middle;\n",
       "    }\n",
       "\n",
       "    .dataframe tbody tr th {\n",
       "        vertical-align: top;\n",
       "    }\n",
       "\n",
       "    .dataframe thead th {\n",
       "        text-align: right;\n",
       "    }\n",
       "</style>\n",
       "<table border=\"1\" class=\"dataframe\">\n",
       "  <thead>\n",
       "    <tr style=\"text-align: right;\">\n",
       "      <th></th>\n",
       "      <th>fl_date</th>\n",
       "      <th>mkt_unique_carrier</th>\n",
       "      <th>branded_code_share</th>\n",
       "      <th>mkt_carrier</th>\n",
       "      <th>mkt_carrier_fl_num</th>\n",
       "      <th>op_unique_carrier</th>\n",
       "      <th>tail_num</th>\n",
       "      <th>op_carrier_fl_num</th>\n",
       "      <th>origin_airport_id</th>\n",
       "      <th>origin</th>\n",
       "      <th>...</th>\n",
       "      <th>distance</th>\n",
       "      <th>carrier_delay</th>\n",
       "      <th>weather_delay</th>\n",
       "      <th>nas_delay</th>\n",
       "      <th>security_delay</th>\n",
       "      <th>late_aircraft_delay</th>\n",
       "      <th>first_dep_time</th>\n",
       "      <th>total_add_gtime</th>\n",
       "      <th>longest_add_gtime</th>\n",
       "      <th>no_name</th>\n",
       "    </tr>\n",
       "  </thead>\n",
       "  <tbody>\n",
       "    <tr>\n",
       "      <th>0</th>\n",
       "      <td>2018-01-01</td>\n",
       "      <td>DL</td>\n",
       "      <td>DL_CODESHARE</td>\n",
       "      <td>DL</td>\n",
       "      <td>3468</td>\n",
       "      <td>9E</td>\n",
       "      <td>N292PQ</td>\n",
       "      <td>3468</td>\n",
       "      <td>15380</td>\n",
       "      <td>TVC</td>\n",
       "      <td>...</td>\n",
       "      <td>207.0</td>\n",
       "      <td>NaN</td>\n",
       "      <td>NaN</td>\n",
       "      <td>NaN</td>\n",
       "      <td>NaN</td>\n",
       "      <td>NaN</td>\n",
       "      <td>NaN</td>\n",
       "      <td>NaN</td>\n",
       "      <td>NaN</td>\n",
       "      <td>NaN</td>\n",
       "    </tr>\n",
       "    <tr>\n",
       "      <th>1</th>\n",
       "      <td>2018-01-01</td>\n",
       "      <td>DL</td>\n",
       "      <td>DL_CODESHARE</td>\n",
       "      <td>DL</td>\n",
       "      <td>3470</td>\n",
       "      <td>9E</td>\n",
       "      <td>N309PQ</td>\n",
       "      <td>3470</td>\n",
       "      <td>13871</td>\n",
       "      <td>OMA</td>\n",
       "      <td>...</td>\n",
       "      <td>651.0</td>\n",
       "      <td>47.0</td>\n",
       "      <td>0.0</td>\n",
       "      <td>11.0</td>\n",
       "      <td>0.0</td>\n",
       "      <td>0.0</td>\n",
       "      <td>NaN</td>\n",
       "      <td>NaN</td>\n",
       "      <td>NaN</td>\n",
       "      <td>NaN</td>\n",
       "    </tr>\n",
       "    <tr>\n",
       "      <th>2</th>\n",
       "      <td>2018-01-01</td>\n",
       "      <td>DL</td>\n",
       "      <td>DL_CODESHARE</td>\n",
       "      <td>DL</td>\n",
       "      <td>3471</td>\n",
       "      <td>9E</td>\n",
       "      <td>N337PQ</td>\n",
       "      <td>3471</td>\n",
       "      <td>13487</td>\n",
       "      <td>MSP</td>\n",
       "      <td>...</td>\n",
       "      <td>386.0</td>\n",
       "      <td>23.0</td>\n",
       "      <td>0.0</td>\n",
       "      <td>0.0</td>\n",
       "      <td>0.0</td>\n",
       "      <td>0.0</td>\n",
       "      <td>NaN</td>\n",
       "      <td>NaN</td>\n",
       "      <td>NaN</td>\n",
       "      <td>NaN</td>\n",
       "    </tr>\n",
       "    <tr>\n",
       "      <th>3</th>\n",
       "      <td>2018-01-01</td>\n",
       "      <td>DL</td>\n",
       "      <td>DL_CODESHARE</td>\n",
       "      <td>DL</td>\n",
       "      <td>3472</td>\n",
       "      <td>9E</td>\n",
       "      <td>N932XJ</td>\n",
       "      <td>3472</td>\n",
       "      <td>12339</td>\n",
       "      <td>IND</td>\n",
       "      <td>...</td>\n",
       "      <td>945.0</td>\n",
       "      <td>NaN</td>\n",
       "      <td>NaN</td>\n",
       "      <td>NaN</td>\n",
       "      <td>NaN</td>\n",
       "      <td>NaN</td>\n",
       "      <td>NaN</td>\n",
       "      <td>NaN</td>\n",
       "      <td>NaN</td>\n",
       "      <td>NaN</td>\n",
       "    </tr>\n",
       "    <tr>\n",
       "      <th>4</th>\n",
       "      <td>2018-01-01</td>\n",
       "      <td>DL</td>\n",
       "      <td>DL_CODESHARE</td>\n",
       "      <td>DL</td>\n",
       "      <td>3472</td>\n",
       "      <td>9E</td>\n",
       "      <td>N932XJ</td>\n",
       "      <td>3472</td>\n",
       "      <td>14635</td>\n",
       "      <td>RSW</td>\n",
       "      <td>...</td>\n",
       "      <td>945.0</td>\n",
       "      <td>NaN</td>\n",
       "      <td>NaN</td>\n",
       "      <td>NaN</td>\n",
       "      <td>NaN</td>\n",
       "      <td>NaN</td>\n",
       "      <td>NaN</td>\n",
       "      <td>NaN</td>\n",
       "      <td>NaN</td>\n",
       "      <td>NaN</td>\n",
       "    </tr>\n",
       "    <tr>\n",
       "      <th>...</th>\n",
       "      <td>...</td>\n",
       "      <td>...</td>\n",
       "      <td>...</td>\n",
       "      <td>...</td>\n",
       "      <td>...</td>\n",
       "      <td>...</td>\n",
       "      <td>...</td>\n",
       "      <td>...</td>\n",
       "      <td>...</td>\n",
       "      <td>...</td>\n",
       "      <td>...</td>\n",
       "      <td>...</td>\n",
       "      <td>...</td>\n",
       "      <td>...</td>\n",
       "      <td>...</td>\n",
       "      <td>...</td>\n",
       "      <td>...</td>\n",
       "      <td>...</td>\n",
       "      <td>...</td>\n",
       "      <td>...</td>\n",
       "      <td>...</td>\n",
       "    </tr>\n",
       "    <tr>\n",
       "      <th>321093</th>\n",
       "      <td>2019-01-08</td>\n",
       "      <td>UA</td>\n",
       "      <td>UA_CODESHARE</td>\n",
       "      <td>UA</td>\n",
       "      <td>4408</td>\n",
       "      <td>EV</td>\n",
       "      <td>N14907</td>\n",
       "      <td>4408</td>\n",
       "      <td>14685</td>\n",
       "      <td>SAV</td>\n",
       "      <td>...</td>\n",
       "      <td>708.0</td>\n",
       "      <td>13.0</td>\n",
       "      <td>0.0</td>\n",
       "      <td>74.0</td>\n",
       "      <td>0.0</td>\n",
       "      <td>0.0</td>\n",
       "      <td>NaN</td>\n",
       "      <td>NaN</td>\n",
       "      <td>NaN</td>\n",
       "      <td>NaN</td>\n",
       "    </tr>\n",
       "    <tr>\n",
       "      <th>321094</th>\n",
       "      <td>2019-01-08</td>\n",
       "      <td>UA</td>\n",
       "      <td>UA_CODESHARE</td>\n",
       "      <td>UA</td>\n",
       "      <td>4409</td>\n",
       "      <td>EV</td>\n",
       "      <td>N881AS</td>\n",
       "      <td>4409</td>\n",
       "      <td>13930</td>\n",
       "      <td>ORD</td>\n",
       "      <td>...</td>\n",
       "      <td>463.0</td>\n",
       "      <td>NaN</td>\n",
       "      <td>NaN</td>\n",
       "      <td>NaN</td>\n",
       "      <td>NaN</td>\n",
       "      <td>NaN</td>\n",
       "      <td>NaN</td>\n",
       "      <td>NaN</td>\n",
       "      <td>NaN</td>\n",
       "      <td>NaN</td>\n",
       "    </tr>\n",
       "    <tr>\n",
       "      <th>321095</th>\n",
       "      <td>2019-01-08</td>\n",
       "      <td>UA</td>\n",
       "      <td>UA_CODESHARE</td>\n",
       "      <td>UA</td>\n",
       "      <td>4410</td>\n",
       "      <td>EV</td>\n",
       "      <td>N13913</td>\n",
       "      <td>4410</td>\n",
       "      <td>13930</td>\n",
       "      <td>ORD</td>\n",
       "      <td>...</td>\n",
       "      <td>315.0</td>\n",
       "      <td>NaN</td>\n",
       "      <td>NaN</td>\n",
       "      <td>NaN</td>\n",
       "      <td>NaN</td>\n",
       "      <td>NaN</td>\n",
       "      <td>NaN</td>\n",
       "      <td>NaN</td>\n",
       "      <td>NaN</td>\n",
       "      <td>NaN</td>\n",
       "    </tr>\n",
       "    <tr>\n",
       "      <th>321096</th>\n",
       "      <td>2019-01-08</td>\n",
       "      <td>UA</td>\n",
       "      <td>UA_CODESHARE</td>\n",
       "      <td>UA</td>\n",
       "      <td>4411</td>\n",
       "      <td>EV</td>\n",
       "      <td>N14570</td>\n",
       "      <td>4411</td>\n",
       "      <td>12266</td>\n",
       "      <td>IAH</td>\n",
       "      <td>...</td>\n",
       "      <td>295.0</td>\n",
       "      <td>NaN</td>\n",
       "      <td>NaN</td>\n",
       "      <td>NaN</td>\n",
       "      <td>NaN</td>\n",
       "      <td>NaN</td>\n",
       "      <td>NaN</td>\n",
       "      <td>NaN</td>\n",
       "      <td>NaN</td>\n",
       "      <td>NaN</td>\n",
       "    </tr>\n",
       "    <tr>\n",
       "      <th>321097</th>\n",
       "      <td>2019-01-08</td>\n",
       "      <td>UA</td>\n",
       "      <td>UA_CODESHARE</td>\n",
       "      <td>UA</td>\n",
       "      <td>4412</td>\n",
       "      <td>EV</td>\n",
       "      <td>N11165</td>\n",
       "      <td>4412</td>\n",
       "      <td>12266</td>\n",
       "      <td>IAH</td>\n",
       "      <td>...</td>\n",
       "      <td>1091.0</td>\n",
       "      <td>NaN</td>\n",
       "      <td>NaN</td>\n",
       "      <td>NaN</td>\n",
       "      <td>NaN</td>\n",
       "      <td>NaN</td>\n",
       "      <td>NaN</td>\n",
       "      <td>NaN</td>\n",
       "      <td>NaN</td>\n",
       "      <td>NaN</td>\n",
       "    </tr>\n",
       "  </tbody>\n",
       "</table>\n",
       "<p>321098 rows × 42 columns</p>\n",
       "</div>"
      ],
      "text/plain": [
       "           fl_date mkt_unique_carrier branded_code_share mkt_carrier  \\\n",
       "0       2018-01-01                 DL       DL_CODESHARE          DL   \n",
       "1       2018-01-01                 DL       DL_CODESHARE          DL   \n",
       "2       2018-01-01                 DL       DL_CODESHARE          DL   \n",
       "3       2018-01-01                 DL       DL_CODESHARE          DL   \n",
       "4       2018-01-01                 DL       DL_CODESHARE          DL   \n",
       "...            ...                ...                ...         ...   \n",
       "321093  2019-01-08                 UA       UA_CODESHARE          UA   \n",
       "321094  2019-01-08                 UA       UA_CODESHARE          UA   \n",
       "321095  2019-01-08                 UA       UA_CODESHARE          UA   \n",
       "321096  2019-01-08                 UA       UA_CODESHARE          UA   \n",
       "321097  2019-01-08                 UA       UA_CODESHARE          UA   \n",
       "\n",
       "        mkt_carrier_fl_num op_unique_carrier tail_num  op_carrier_fl_num  \\\n",
       "0                     3468                9E   N292PQ               3468   \n",
       "1                     3470                9E   N309PQ               3470   \n",
       "2                     3471                9E   N337PQ               3471   \n",
       "3                     3472                9E   N932XJ               3472   \n",
       "4                     3472                9E   N932XJ               3472   \n",
       "...                    ...               ...      ...                ...   \n",
       "321093                4408                EV   N14907               4408   \n",
       "321094                4409                EV   N881AS               4409   \n",
       "321095                4410                EV   N13913               4410   \n",
       "321096                4411                EV   N14570               4411   \n",
       "321097                4412                EV   N11165               4412   \n",
       "\n",
       "        origin_airport_id origin  ... distance  carrier_delay weather_delay  \\\n",
       "0                   15380    TVC  ...    207.0            NaN           NaN   \n",
       "1                   13871    OMA  ...    651.0           47.0           0.0   \n",
       "2                   13487    MSP  ...    386.0           23.0           0.0   \n",
       "3                   12339    IND  ...    945.0            NaN           NaN   \n",
       "4                   14635    RSW  ...    945.0            NaN           NaN   \n",
       "...                   ...    ...  ...      ...            ...           ...   \n",
       "321093              14685    SAV  ...    708.0           13.0           0.0   \n",
       "321094              13930    ORD  ...    463.0            NaN           NaN   \n",
       "321095              13930    ORD  ...    315.0            NaN           NaN   \n",
       "321096              12266    IAH  ...    295.0            NaN           NaN   \n",
       "321097              12266    IAH  ...   1091.0            NaN           NaN   \n",
       "\n",
       "       nas_delay  security_delay  late_aircraft_delay  first_dep_time  \\\n",
       "0            NaN             NaN                  NaN             NaN   \n",
       "1           11.0             0.0                  0.0             NaN   \n",
       "2            0.0             0.0                  0.0             NaN   \n",
       "3            NaN             NaN                  NaN             NaN   \n",
       "4            NaN             NaN                  NaN             NaN   \n",
       "...          ...             ...                  ...             ...   \n",
       "321093      74.0             0.0                  0.0             NaN   \n",
       "321094       NaN             NaN                  NaN             NaN   \n",
       "321095       NaN             NaN                  NaN             NaN   \n",
       "321096       NaN             NaN                  NaN             NaN   \n",
       "321097       NaN             NaN                  NaN             NaN   \n",
       "\n",
       "        total_add_gtime  longest_add_gtime  no_name  \n",
       "0                   NaN                NaN      NaN  \n",
       "1                   NaN                NaN      NaN  \n",
       "2                   NaN                NaN      NaN  \n",
       "3                   NaN                NaN      NaN  \n",
       "4                   NaN                NaN      NaN  \n",
       "...                 ...                ...      ...  \n",
       "321093              NaN                NaN      NaN  \n",
       "321094              NaN                NaN      NaN  \n",
       "321095              NaN                NaN      NaN  \n",
       "321096              NaN                NaN      NaN  \n",
       "321097              NaN                NaN      NaN  \n",
       "\n",
       "[321098 rows x 42 columns]"
      ]
     },
     "execution_count": 2,
     "metadata": {},
     "output_type": "execute_result"
    }
   ],
   "source": [
    "df_flights = pd.read_csv('Repo LHL_Midterm_1/flights_data.csv')\n",
    "df_flights"
   ]
  },
  {
   "cell_type": "code",
   "execution_count": null,
   "metadata": {},
   "outputs": [],
   "source": []
  },
  {
   "cell_type": "code",
   "execution_count": 3,
   "metadata": {},
   "outputs": [
    {
     "data": {
      "text/plain": [
       "fl_date                 object\n",
       "mkt_unique_carrier      object\n",
       "branded_code_share      object\n",
       "mkt_carrier             object\n",
       "mkt_carrier_fl_num       int64\n",
       "op_unique_carrier       object\n",
       "tail_num                object\n",
       "op_carrier_fl_num        int64\n",
       "origin_airport_id        int64\n",
       "origin                  object\n",
       "origin_city_name        object\n",
       "dest_airport_id          int64\n",
       "dest                    object\n",
       "dest_city_name          object\n",
       "crs_dep_time             int64\n",
       "dep_time               float64\n",
       "dep_delay              float64\n",
       "taxi_out               float64\n",
       "wheels_off             float64\n",
       "wheels_on              float64\n",
       "taxi_in                float64\n",
       "crs_arr_time             int64\n",
       "arr_time               float64\n",
       "arr_delay              float64\n",
       "cancelled              float64\n",
       "cancellation_code       object\n",
       "diverted               float64\n",
       "dup                     object\n",
       "crs_elapsed_time       float64\n",
       "actual_elapsed_time    float64\n",
       "air_time               float64\n",
       "flights                float64\n",
       "distance               float64\n",
       "carrier_delay          float64\n",
       "weather_delay          float64\n",
       "nas_delay              float64\n",
       "security_delay         float64\n",
       "late_aircraft_delay    float64\n",
       "first_dep_time         float64\n",
       "total_add_gtime        float64\n",
       "longest_add_gtime      float64\n",
       "no_name                float64\n",
       "dtype: object"
      ]
     },
     "execution_count": 3,
     "metadata": {},
     "output_type": "execute_result"
    }
   ],
   "source": [
    "df_flights.dtypes"
   ]
  },
  {
   "cell_type": "code",
   "execution_count": 4,
   "metadata": {},
   "outputs": [
    {
     "data": {
      "text/plain": [
       "count    319087.000000\n",
       "mean          6.209491\n",
       "std          52.340263\n",
       "min         -78.000000\n",
       "25%         -15.000000\n",
       "50%          -5.000000\n",
       "75%          10.000000\n",
       "max        1778.000000\n",
       "Name: arr_delay, dtype: float64"
      ]
     },
     "execution_count": 4,
     "metadata": {},
     "output_type": "execute_result"
    }
   ],
   "source": [
    "df_flights['arr_delay'].describe()"
   ]
  },
  {
   "cell_type": "code",
   "execution_count": 5,
   "metadata": {},
   "outputs": [
    {
     "data": {
      "text/plain": [
       "fl_date                     0\n",
       "mkt_unique_carrier          0\n",
       "branded_code_share          0\n",
       "mkt_carrier                 0\n",
       "mkt_carrier_fl_num          0\n",
       "op_unique_carrier           0\n",
       "tail_num                  135\n",
       "op_carrier_fl_num           0\n",
       "origin_airport_id           0\n",
       "origin                      0\n",
       "origin_city_name            0\n",
       "dest_airport_id             0\n",
       "dest                        0\n",
       "dest_city_name              0\n",
       "crs_dep_time                0\n",
       "dep_time                 1278\n",
       "dep_delay                1441\n",
       "taxi_out                 1308\n",
       "wheels_off               1308\n",
       "wheels_on                1416\n",
       "taxi_in                  1416\n",
       "crs_arr_time                0\n",
       "arr_time                 1416\n",
       "arr_delay                2011\n",
       "cancelled                   0\n",
       "cancellation_code      319770\n",
       "diverted                    0\n",
       "dup                         0\n",
       "crs_elapsed_time            0\n",
       "actual_elapsed_time      1962\n",
       "air_time                 1962\n",
       "flights                     0\n",
       "distance                    0\n",
       "carrier_delay          254537\n",
       "weather_delay          254537\n",
       "nas_delay              254537\n",
       "security_delay         254537\n",
       "late_aircraft_delay    254537\n",
       "first_dep_time         319201\n",
       "total_add_gtime        319201\n",
       "longest_add_gtime      319201\n",
       "no_name                321098\n",
       "dtype: int64"
      ]
     },
     "execution_count": 5,
     "metadata": {},
     "output_type": "execute_result"
    }
   ],
   "source": [
    "df_flights.isnull().sum()"
   ]
  },
  {
   "cell_type": "markdown",
   "metadata": {},
   "source": [
    "#### **Task 1**: Test the hypothesis that the delay is from Normal distribution. and that **mean** of the delay is 0. Be careful about the outliers."
   ]
  },
  {
   "cell_type": "code",
   "execution_count": 6,
   "metadata": {},
   "outputs": [
    {
     "data": {
      "text/plain": [
       "0"
      ]
     },
     "execution_count": 6,
     "metadata": {},
     "output_type": "execute_result"
    }
   ],
   "source": [
    "# Set null values in arr_delay equal to zero (no flight delay or earlier-than-expected arrival)\n",
    "arr_delay_df = df_flights['arr_delay'].fillna(value=0)\n",
    "arr_delay_df.isnull().sum()"
   ]
  },
  {
   "cell_type": "code",
   "execution_count": 7,
   "metadata": {},
   "outputs": [
    {
     "data": {
      "text/plain": [
       "(-79.856, 107.6]    310968\n",
       "(107.6, 293.2]        8753\n",
       "(293.2, 478.8]         897\n",
       "(478.8, 664.4]         182\n",
       "(664.4, 850.0]         138\n",
       "(850.0, 1035.6]         87\n",
       "(1035.6, 1221.2]        33\n",
       "(1221.2, 1406.8]        20\n",
       "(1406.8, 1592.4]        15\n",
       "(1592.4, 1778.0]         5\n",
       "Name: arr_delay, dtype: int64"
      ]
     },
     "execution_count": 7,
     "metadata": {},
     "output_type": "execute_result"
    }
   ],
   "source": [
    "# Get an idea of the flight delay binning.\n",
    "pd.cut(arr_delay_df, bins=10).value_counts()"
   ]
  },
  {
   "cell_type": "code",
   "execution_count": 8,
   "metadata": {},
   "outputs": [
    {
     "data": {
      "image/png": "[encoded data removed]",
      "text/plain": [
       "<Figure size 640x480 with 1 Axes>"
      ]
     },
     "metadata": {},
     "output_type": "display_data"
    }
   ],
   "source": [
    "arr_delay_df.plot(kind='hist')\n",
    "plt.show()\n",
    "\n",
    "# Basic histogram of flight delays times vs. frequency"
   ]
  },
  {
   "cell_type": "code",
   "execution_count": 9,
   "metadata": {},
   "outputs": [],
   "source": [
    "# Set dataframe range manually to deal with outliers, based on binning\n",
    "arr_delay_df_filtered = arr_delay_df[arr_delay_df <= 107.6]"
   ]
  },
  {
   "cell_type": "code",
   "execution_count": 10,
   "metadata": {},
   "outputs": [],
   "source": [
    "def evaluate_test(p,alpha):\n",
    "    if p < alpha:\n",
    "        return print(\"Since the p-value (\", p, \") is less than the significance level alpha (\", alpha, \"), we REJECT the null hypothesis.\")\n",
    "    elif p == alpha:\n",
    "        return print(\"Since the p-value (\", p, \") is equal to the significance level alpha (\", alpha, \"), rejection/acceptance of the null hypothesis is INCONCLUSIVE.\")\n",
    "    else:\n",
    "        return print(\"Since the p-value (\", p, \") is greater than the significance level alpha (\", alpha, \"), we ACCEPT the null hypothesis.\")"
   ]
  },
  {
   "cell_type": "code",
   "execution_count": 11,
   "metadata": {},
   "outputs": [
    {
     "name": "stdout",
     "output_type": "stream",
     "text": [
      "ShapiroResult(statistic=0.8776090145111084, pvalue=0.0)\n"
     ]
    }
   ],
   "source": [
    "# Sample 5000 points to meet Scipy's Shapiro function requirements\n",
    "arr_delay_df_5000 = np.random.choice(arr_delay_df_filtered, size=5000)\n",
    "\n",
    "print(stats.shapiro(arr_delay_df_5000))"
   ]
  },
  {
   "cell_type": "code",
   "execution_count": 12,
   "metadata": {},
   "outputs": [
    {
     "name": "stdout",
     "output_type": "stream",
     "text": [
      "Since the p-value ( 0.0 ) is less than the significance level alpha ( 0.05 ), we REJECT the null hypothesis.\n",
      "i.e. the data indicates the delays are not from a Normal Distribution.\n"
     ]
    }
   ],
   "source": [
    "evaluate_test(stats.shapiro(arr_delay_df_5000)[1], alpha=0.05)\n",
    "print('i.e. the data indicates the delays are not from a Normal Distribution.')"
   ]
  },
  {
   "cell_type": "code",
   "execution_count": 13,
   "metadata": {},
   "outputs": [
    {
     "data": {
      "text/plain": [
       "Ttest_1sampResult(statistic=-10.980086912872267, pvalue=4.821572176632269e-28)"
      ]
     },
     "execution_count": 13,
     "metadata": {},
     "output_type": "execute_result"
    }
   ],
   "source": [
    "# Test hypothesis that the mean of the delay is 0.\n",
    "stats.ttest_1samp(arr_delay_df_filtered, 0)"
   ]
  },
  {
   "cell_type": "code",
   "execution_count": 14,
   "metadata": {},
   "outputs": [
    {
     "name": "stdout",
     "output_type": "stream",
     "text": [
      "Since the p-value ( 4.821572176632269e-28 ) is less than the significance level alpha ( 0.05 ), we REJECT the null hypothesis.\n",
      "i.e. the data indicates the mean of the delays is not zero.\n"
     ]
    }
   ],
   "source": [
    "evaluate_test(stats.ttest_1samp(arr_delay_df_filtered, 0)[1], alpha=0.05)\n",
    "print('i.e. the data indicates the mean of the delays is not zero.')"
   ]
  },
  {
   "cell_type": "markdown",
   "metadata": {},
   "source": [
    "#### **Task 2**: Is average/median monthly delay different during the year? If yes, which are months with the biggest delays and what could be the reason?"
   ]
  },
  {
   "cell_type": "code",
   "execution_count": 15,
   "metadata": {},
   "outputs": [
    {
     "data": {
      "text/html": [
       "<div>\n",
       "<style scoped>\n",
       "    .dataframe tbody tr th:only-of-type {\n",
       "        vertical-align: middle;\n",
       "    }\n",
       "\n",
       "    .dataframe tbody tr th {\n",
       "        vertical-align: top;\n",
       "    }\n",
       "\n",
       "    .dataframe thead th {\n",
       "        text-align: right;\n",
       "    }\n",
       "</style>\n",
       "<table border=\"1\" class=\"dataframe\">\n",
       "  <thead>\n",
       "    <tr style=\"text-align: right;\">\n",
       "      <th></th>\n",
       "      <th>fl_date</th>\n",
       "      <th>mkt_unique_carrier</th>\n",
       "      <th>branded_code_share</th>\n",
       "      <th>mkt_carrier</th>\n",
       "      <th>mkt_carrier_fl_num</th>\n",
       "      <th>op_unique_carrier</th>\n",
       "      <th>tail_num</th>\n",
       "      <th>op_carrier_fl_num</th>\n",
       "      <th>origin_airport_id</th>\n",
       "      <th>origin</th>\n",
       "      <th>...</th>\n",
       "      <th>distance</th>\n",
       "      <th>carrier_delay</th>\n",
       "      <th>weather_delay</th>\n",
       "      <th>nas_delay</th>\n",
       "      <th>security_delay</th>\n",
       "      <th>late_aircraft_delay</th>\n",
       "      <th>first_dep_time</th>\n",
       "      <th>total_add_gtime</th>\n",
       "      <th>longest_add_gtime</th>\n",
       "      <th>no_name</th>\n",
       "    </tr>\n",
       "  </thead>\n",
       "  <tbody>\n",
       "    <tr>\n",
       "      <th>0</th>\n",
       "      <td>2019-03-31</td>\n",
       "      <td>AS</td>\n",
       "      <td>AS</td>\n",
       "      <td>AS</td>\n",
       "      <td>52</td>\n",
       "      <td>AS</td>\n",
       "      <td>N527AS</td>\n",
       "      <td>52</td>\n",
       "      <td>10299</td>\n",
       "      <td>ANC</td>\n",
       "      <td>...</td>\n",
       "      <td>1448.0</td>\n",
       "      <td>NaN</td>\n",
       "      <td>NaN</td>\n",
       "      <td>NaN</td>\n",
       "      <td>NaN</td>\n",
       "      <td>NaN</td>\n",
       "      <td>NaN</td>\n",
       "      <td>NaN</td>\n",
       "      <td>NaN</td>\n",
       "      <td>NaN</td>\n",
       "    </tr>\n",
       "    <tr>\n",
       "      <th>1</th>\n",
       "      <td>2019-07-08</td>\n",
       "      <td>B6</td>\n",
       "      <td>B6</td>\n",
       "      <td>B6</td>\n",
       "      <td>161</td>\n",
       "      <td>B6</td>\n",
       "      <td>N913JB</td>\n",
       "      <td>161</td>\n",
       "      <td>12478</td>\n",
       "      <td>JFK</td>\n",
       "      <td>...</td>\n",
       "      <td>2521.0</td>\n",
       "      <td>NaN</td>\n",
       "      <td>NaN</td>\n",
       "      <td>NaN</td>\n",
       "      <td>NaN</td>\n",
       "      <td>NaN</td>\n",
       "      <td>NaN</td>\n",
       "      <td>NaN</td>\n",
       "      <td>NaN</td>\n",
       "      <td>NaN</td>\n",
       "    </tr>\n",
       "    <tr>\n",
       "      <th>2</th>\n",
       "      <td>2019-09-13</td>\n",
       "      <td>AA</td>\n",
       "      <td>AA_CODESHARE</td>\n",
       "      <td>AA</td>\n",
       "      <td>4879</td>\n",
       "      <td>PT</td>\n",
       "      <td>N639AE</td>\n",
       "      <td>4879</td>\n",
       "      <td>14100</td>\n",
       "      <td>PHL</td>\n",
       "      <td>...</td>\n",
       "      <td>279.0</td>\n",
       "      <td>NaN</td>\n",
       "      <td>NaN</td>\n",
       "      <td>NaN</td>\n",
       "      <td>NaN</td>\n",
       "      <td>NaN</td>\n",
       "      <td>NaN</td>\n",
       "      <td>NaN</td>\n",
       "      <td>NaN</td>\n",
       "      <td>NaN</td>\n",
       "    </tr>\n",
       "    <tr>\n",
       "      <th>3</th>\n",
       "      <td>2019-09-17</td>\n",
       "      <td>DL</td>\n",
       "      <td>DL_CODESHARE</td>\n",
       "      <td>DL</td>\n",
       "      <td>3764</td>\n",
       "      <td>OO</td>\n",
       "      <td>N882AS</td>\n",
       "      <td>3764</td>\n",
       "      <td>11433</td>\n",
       "      <td>DTW</td>\n",
       "      <td>...</td>\n",
       "      <td>399.0</td>\n",
       "      <td>NaN</td>\n",
       "      <td>NaN</td>\n",
       "      <td>NaN</td>\n",
       "      <td>NaN</td>\n",
       "      <td>NaN</td>\n",
       "      <td>NaN</td>\n",
       "      <td>NaN</td>\n",
       "      <td>NaN</td>\n",
       "      <td>NaN</td>\n",
       "    </tr>\n",
       "    <tr>\n",
       "      <th>4</th>\n",
       "      <td>2019-11-04</td>\n",
       "      <td>UA</td>\n",
       "      <td>UA_CODESHARE</td>\n",
       "      <td>UA</td>\n",
       "      <td>4748</td>\n",
       "      <td>AX</td>\n",
       "      <td>N21144</td>\n",
       "      <td>4748</td>\n",
       "      <td>10868</td>\n",
       "      <td>CAE</td>\n",
       "      <td>...</td>\n",
       "      <td>666.0</td>\n",
       "      <td>NaN</td>\n",
       "      <td>NaN</td>\n",
       "      <td>NaN</td>\n",
       "      <td>NaN</td>\n",
       "      <td>NaN</td>\n",
       "      <td>NaN</td>\n",
       "      <td>NaN</td>\n",
       "      <td>NaN</td>\n",
       "      <td>NaN</td>\n",
       "    </tr>\n",
       "    <tr>\n",
       "      <th>...</th>\n",
       "      <td>...</td>\n",
       "      <td>...</td>\n",
       "      <td>...</td>\n",
       "      <td>...</td>\n",
       "      <td>...</td>\n",
       "      <td>...</td>\n",
       "      <td>...</td>\n",
       "      <td>...</td>\n",
       "      <td>...</td>\n",
       "      <td>...</td>\n",
       "      <td>...</td>\n",
       "      <td>...</td>\n",
       "      <td>...</td>\n",
       "      <td>...</td>\n",
       "      <td>...</td>\n",
       "      <td>...</td>\n",
       "      <td>...</td>\n",
       "      <td>...</td>\n",
       "      <td>...</td>\n",
       "      <td>...</td>\n",
       "      <td>...</td>\n",
       "    </tr>\n",
       "    <tr>\n",
       "      <th>299995</th>\n",
       "      <td>2019-08-27</td>\n",
       "      <td>B6</td>\n",
       "      <td>B6</td>\n",
       "      <td>B6</td>\n",
       "      <td>244</td>\n",
       "      <td>B6</td>\n",
       "      <td>N508JL</td>\n",
       "      <td>244</td>\n",
       "      <td>14027</td>\n",
       "      <td>PBI</td>\n",
       "      <td>...</td>\n",
       "      <td>1023.0</td>\n",
       "      <td>NaN</td>\n",
       "      <td>NaN</td>\n",
       "      <td>NaN</td>\n",
       "      <td>NaN</td>\n",
       "      <td>NaN</td>\n",
       "      <td>NaN</td>\n",
       "      <td>NaN</td>\n",
       "      <td>NaN</td>\n",
       "      <td>NaN</td>\n",
       "    </tr>\n",
       "    <tr>\n",
       "      <th>299996</th>\n",
       "      <td>2019-12-26</td>\n",
       "      <td>DL</td>\n",
       "      <td>DL_CODESHARE</td>\n",
       "      <td>DL</td>\n",
       "      <td>4784</td>\n",
       "      <td>9E</td>\n",
       "      <td>N835AY</td>\n",
       "      <td>4784</td>\n",
       "      <td>11433</td>\n",
       "      <td>DTW</td>\n",
       "      <td>...</td>\n",
       "      <td>98.0</td>\n",
       "      <td>NaN</td>\n",
       "      <td>NaN</td>\n",
       "      <td>NaN</td>\n",
       "      <td>NaN</td>\n",
       "      <td>NaN</td>\n",
       "      <td>NaN</td>\n",
       "      <td>NaN</td>\n",
       "      <td>NaN</td>\n",
       "      <td>NaN</td>\n",
       "    </tr>\n",
       "    <tr>\n",
       "      <th>299997</th>\n",
       "      <td>2019-02-01</td>\n",
       "      <td>G4</td>\n",
       "      <td>G4</td>\n",
       "      <td>G4</td>\n",
       "      <td>1758</td>\n",
       "      <td>G4</td>\n",
       "      <td>330NV</td>\n",
       "      <td>1758</td>\n",
       "      <td>11697</td>\n",
       "      <td>FLL</td>\n",
       "      <td>...</td>\n",
       "      <td>781.0</td>\n",
       "      <td>126.0</td>\n",
       "      <td>0.0</td>\n",
       "      <td>0.0</td>\n",
       "      <td>0.0</td>\n",
       "      <td>0.0</td>\n",
       "      <td>NaN</td>\n",
       "      <td>NaN</td>\n",
       "      <td>NaN</td>\n",
       "      <td>NaN</td>\n",
       "    </tr>\n",
       "    <tr>\n",
       "      <th>299998</th>\n",
       "      <td>2019-08-01</td>\n",
       "      <td>UA</td>\n",
       "      <td>UA_CODESHARE</td>\n",
       "      <td>UA</td>\n",
       "      <td>5780</td>\n",
       "      <td>OO</td>\n",
       "      <td>N134SY</td>\n",
       "      <td>5780</td>\n",
       "      <td>13485</td>\n",
       "      <td>MSN</td>\n",
       "      <td>...</td>\n",
       "      <td>1772.0</td>\n",
       "      <td>NaN</td>\n",
       "      <td>NaN</td>\n",
       "      <td>NaN</td>\n",
       "      <td>NaN</td>\n",
       "      <td>NaN</td>\n",
       "      <td>NaN</td>\n",
       "      <td>NaN</td>\n",
       "      <td>NaN</td>\n",
       "      <td>NaN</td>\n",
       "    </tr>\n",
       "    <tr>\n",
       "      <th>299999</th>\n",
       "      <td>2019-07-13</td>\n",
       "      <td>G4</td>\n",
       "      <td>G4</td>\n",
       "      <td>G4</td>\n",
       "      <td>1575</td>\n",
       "      <td>G4</td>\n",
       "      <td>262NV</td>\n",
       "      <td>1575</td>\n",
       "      <td>14082</td>\n",
       "      <td>PGD</td>\n",
       "      <td>...</td>\n",
       "      <td>1101.0</td>\n",
       "      <td>NaN</td>\n",
       "      <td>NaN</td>\n",
       "      <td>NaN</td>\n",
       "      <td>NaN</td>\n",
       "      <td>NaN</td>\n",
       "      <td>NaN</td>\n",
       "      <td>NaN</td>\n",
       "      <td>NaN</td>\n",
       "      <td>NaN</td>\n",
       "    </tr>\n",
       "  </tbody>\n",
       "</table>\n",
       "<p>300000 rows × 42 columns</p>\n",
       "</div>"
      ],
      "text/plain": [
       "           fl_date mkt_unique_carrier branded_code_share mkt_carrier  \\\n",
       "0       2019-03-31                 AS                 AS          AS   \n",
       "1       2019-07-08                 B6                 B6          B6   \n",
       "2       2019-09-13                 AA       AA_CODESHARE          AA   \n",
       "3       2019-09-17                 DL       DL_CODESHARE          DL   \n",
       "4       2019-11-04                 UA       UA_CODESHARE          UA   \n",
       "...            ...                ...                ...         ...   \n",
       "299995  2019-08-27                 B6                 B6          B6   \n",
       "299996  2019-12-26                 DL       DL_CODESHARE          DL   \n",
       "299997  2019-02-01                 G4                 G4          G4   \n",
       "299998  2019-08-01                 UA       UA_CODESHARE          UA   \n",
       "299999  2019-07-13                 G4                 G4          G4   \n",
       "\n",
       "        mkt_carrier_fl_num op_unique_carrier tail_num  op_carrier_fl_num  \\\n",
       "0                       52                AS   N527AS                 52   \n",
       "1                      161                B6   N913JB                161   \n",
       "2                     4879                PT   N639AE               4879   \n",
       "3                     3764                OO   N882AS               3764   \n",
       "4                     4748                AX   N21144               4748   \n",
       "...                    ...               ...      ...                ...   \n",
       "299995                 244                B6   N508JL                244   \n",
       "299996                4784                9E   N835AY               4784   \n",
       "299997                1758                G4    330NV               1758   \n",
       "299998                5780                OO   N134SY               5780   \n",
       "299999                1575                G4    262NV               1575   \n",
       "\n",
       "        origin_airport_id origin  ... distance  carrier_delay weather_delay  \\\n",
       "0                   10299    ANC  ...   1448.0            NaN           NaN   \n",
       "1                   12478    JFK  ...   2521.0            NaN           NaN   \n",
       "2                   14100    PHL  ...    279.0            NaN           NaN   \n",
       "3                   11433    DTW  ...    399.0            NaN           NaN   \n",
       "4                   10868    CAE  ...    666.0            NaN           NaN   \n",
       "...                   ...    ...  ...      ...            ...           ...   \n",
       "299995              14027    PBI  ...   1023.0            NaN           NaN   \n",
       "299996              11433    DTW  ...     98.0            NaN           NaN   \n",
       "299997              11697    FLL  ...    781.0          126.0           0.0   \n",
       "299998              13485    MSN  ...   1772.0            NaN           NaN   \n",
       "299999              14082    PGD  ...   1101.0            NaN           NaN   \n",
       "\n",
       "       nas_delay  security_delay  late_aircraft_delay  first_dep_time  \\\n",
       "0            NaN             NaN                  NaN             NaN   \n",
       "1            NaN             NaN                  NaN             NaN   \n",
       "2            NaN             NaN                  NaN             NaN   \n",
       "3            NaN             NaN                  NaN             NaN   \n",
       "4            NaN             NaN                  NaN             NaN   \n",
       "...          ...             ...                  ...             ...   \n",
       "299995       NaN             NaN                  NaN             NaN   \n",
       "299996       NaN             NaN                  NaN             NaN   \n",
       "299997       0.0             0.0                  0.0             NaN   \n",
       "299998       NaN             NaN                  NaN             NaN   \n",
       "299999       NaN             NaN                  NaN             NaN   \n",
       "\n",
       "        total_add_gtime  longest_add_gtime  no_name  \n",
       "0                   NaN                NaN      NaN  \n",
       "1                   NaN                NaN      NaN  \n",
       "2                   NaN                NaN      NaN  \n",
       "3                   NaN                NaN      NaN  \n",
       "4                   NaN                NaN      NaN  \n",
       "...                 ...                ...      ...  \n",
       "299995              NaN                NaN      NaN  \n",
       "299996              NaN                NaN      NaN  \n",
       "299997              NaN                NaN      NaN  \n",
       "299998              NaN                NaN      NaN  \n",
       "299999              NaN                NaN      NaN  \n",
       "\n",
       "[300000 rows x 42 columns]"
      ]
     },
     "execution_count": 15,
     "metadata": {},
     "output_type": "execute_result"
    }
   ],
   "source": [
    "df_flights_all_2019_months = pd.read_csv('Repo LHL_Midterm_1/flights_data_all_2019_Months.csv')\n",
    "df_flights_all_2019_months"
   ]
  },
  {
   "cell_type": "code",
   "execution_count": 16,
   "metadata": {},
   "outputs": [
    {
     "data": {
      "text/plain": [
       "0"
      ]
     },
     "execution_count": 16,
     "metadata": {},
     "output_type": "execute_result"
    }
   ],
   "source": [
    "# Set arr_del nulls equal to zero\n",
    "df_flights_all_2019_months['arr_delay'].fillna(value=0, inplace=True)\n",
    "df_flights_all_2019_months['arr_delay'].isnull().sum()"
   ]
  },
  {
   "cell_type": "code",
   "execution_count": 17,
   "metadata": {},
   "outputs": [],
   "source": [
    "# Format fl_date column as a date\n",
    "df_flights_all_2019_months['fl_date'] = pd.to_datetime(df_flights_all_2019_months['fl_date'])"
   ]
  },
  {
   "cell_type": "code",
   "execution_count": 18,
   "metadata": {
    "tags": []
   },
   "outputs": [],
   "source": [
    "# Create fl_month column\n",
    "df_flights_all_2019_months['fl_month'] = pd.DatetimeIndex(df_flights_all_2019_months['fl_date']).month"
   ]
  },
  {
   "cell_type": "code",
   "execution_count": 19,
   "metadata": {},
   "outputs": [],
   "source": [
    "# Filter data to remove big outliers based on histogram data above\n",
    "df_flights_all_2019_months_filtered = df_flights_all_2019_months[df_flights_all_2019_months['arr_delay'] < 293.2]"
   ]
  },
  {
   "cell_type": "code",
   "execution_count": 20,
   "metadata": {},
   "outputs": [
    {
     "data": {
      "text/html": [
       "<div>\n",
       "<style scoped>\n",
       "    .dataframe tbody tr th:only-of-type {\n",
       "        vertical-align: middle;\n",
       "    }\n",
       "\n",
       "    .dataframe tbody tr th {\n",
       "        vertical-align: top;\n",
       "    }\n",
       "\n",
       "    .dataframe thead th {\n",
       "        text-align: right;\n",
       "    }\n",
       "</style>\n",
       "<table border=\"1\" class=\"dataframe\">\n",
       "  <thead>\n",
       "    <tr style=\"text-align: right;\">\n",
       "      <th></th>\n",
       "      <th>fl_month</th>\n",
       "      <th>arr_delay</th>\n",
       "    </tr>\n",
       "  </thead>\n",
       "  <tbody>\n",
       "    <tr>\n",
       "      <th>0</th>\n",
       "      <td>1</td>\n",
       "      <td>1.943979</td>\n",
       "    </tr>\n",
       "    <tr>\n",
       "      <th>1</th>\n",
       "      <td>2</td>\n",
       "      <td>6.605568</td>\n",
       "    </tr>\n",
       "    <tr>\n",
       "      <th>2</th>\n",
       "      <td>3</td>\n",
       "      <td>1.210007</td>\n",
       "    </tr>\n",
       "    <tr>\n",
       "      <th>3</th>\n",
       "      <td>4</td>\n",
       "      <td>2.188060</td>\n",
       "    </tr>\n",
       "    <tr>\n",
       "      <th>4</th>\n",
       "      <td>5</td>\n",
       "      <td>4.098114</td>\n",
       "    </tr>\n",
       "    <tr>\n",
       "      <th>5</th>\n",
       "      <td>6</td>\n",
       "      <td>9.240838</td>\n",
       "    </tr>\n",
       "    <tr>\n",
       "      <th>6</th>\n",
       "      <td>7</td>\n",
       "      <td>5.837078</td>\n",
       "    </tr>\n",
       "    <tr>\n",
       "      <th>7</th>\n",
       "      <td>8</td>\n",
       "      <td>4.973081</td>\n",
       "    </tr>\n",
       "    <tr>\n",
       "      <th>8</th>\n",
       "      <td>9</td>\n",
       "      <td>-1.042919</td>\n",
       "    </tr>\n",
       "    <tr>\n",
       "      <th>9</th>\n",
       "      <td>10</td>\n",
       "      <td>1.178641</td>\n",
       "    </tr>\n",
       "    <tr>\n",
       "      <th>10</th>\n",
       "      <td>11</td>\n",
       "      <td>-1.248520</td>\n",
       "    </tr>\n",
       "    <tr>\n",
       "      <th>11</th>\n",
       "      <td>12</td>\n",
       "      <td>3.844628</td>\n",
       "    </tr>\n",
       "  </tbody>\n",
       "</table>\n",
       "</div>"
      ],
      "text/plain": [
       "    fl_month  arr_delay\n",
       "0          1   1.943979\n",
       "1          2   6.605568\n",
       "2          3   1.210007\n",
       "3          4   2.188060\n",
       "4          5   4.098114\n",
       "5          6   9.240838\n",
       "6          7   5.837078\n",
       "7          8   4.973081\n",
       "8          9  -1.042919\n",
       "9         10   1.178641\n",
       "10        11  -1.248520\n",
       "11        12   3.844628"
      ]
     },
     "execution_count": 20,
     "metadata": {},
     "output_type": "execute_result"
    }
   ],
   "source": [
    "delay_means = df_flights_all_2019_months_filtered.groupby('fl_month')['arr_delay'].mean().reset_index()\n",
    "delay_medians = df_flights_all_2019_months_filtered.groupby('fl_month')['arr_delay'].median().reset_index()\n",
    "delay_means"
   ]
  },
  {
   "cell_type": "code",
   "execution_count": 21,
   "metadata": {},
   "outputs": [
    {
     "data": {
      "image/png": "[encoded data removed]",
      "text/plain": [
       "<Figure size 640x480 with 1 Axes>"
      ]
     },
     "metadata": {},
     "output_type": "display_data"
    }
   ],
   "source": [
    "# Plot chart\n",
    "data = delay_means['arr_delay']\n",
    "labels = ['Jan', 'Feb', 'Mar', 'Apr', 'May', 'Jun', 'Jul', 'Aug', 'Sep', 'Oct', 'Nov', 'Dec']\n",
    "plt.xlabel('Month')\n",
    "plt.ylabel('Average Delay Time (minutes)')\n",
    "plt.title('Average Flight Delay Times in 2019 by Month')\n",
    "plt.bar(x=labels, height=data)\n",
    "plt.show()"
   ]
  },
  {
   "cell_type": "code",
   "execution_count": 22,
   "metadata": {},
   "outputs": [
    {
     "data": {
      "image/png": "[encoded data removed]",
      "text/plain": [
       "<Figure size 640x480 with 1 Axes>"
      ]
     },
     "metadata": {},
     "output_type": "display_data"
    }
   ],
   "source": [
    "# Plot chart\n",
    "data = delay_medians['arr_delay']\n",
    "labels = ['Jan', 'Feb', 'Mar', 'Apr', 'May', 'Jun', 'Jul', 'Aug', 'Sep', 'Oct', 'Nov', 'Dec']\n",
    "plt.xlabel('Month')\n",
    "plt.ylabel('Median Delay Time (minutes)')\n",
    "plt.title('Median Flight Delay Times in 2019 by Month')\n",
    "plt.bar(x=labels, height=data)\n",
    "plt.show()"
   ]
  },
  {
   "cell_type": "code",
   "execution_count": 23,
   "metadata": {},
   "outputs": [],
   "source": [
    "# Check flight counts by month from unfiltered dataset\n",
    "flight_counts = df_flights_all_2019_months.groupby('fl_month')['fl_date'].count().reset_index()"
   ]
  },
  {
   "cell_type": "code",
   "execution_count": 24,
   "metadata": {},
   "outputs": [
    {
     "data": {
      "image/png": "[encoded data removed]",
      "text/plain": [
       "<Figure size 640x480 with 1 Axes>"
      ]
     },
     "metadata": {},
     "output_type": "display_data"
    }
   ],
   "source": [
    "# Plot chart\n",
    "data = flight_counts['fl_date']\n",
    "labels = ['Jan', 'Feb', 'Mar', 'Apr', 'May', 'Jun', 'Jul', 'Aug', 'Sep', 'Oct', 'Nov', 'Dec']\n",
    "plt.xlabel('Month')\n",
    "plt.ylabel('Number of Flights')\n",
    "plt.title('Number of Flights in 2019 by Month')\n",
    "plt.bar(x=labels, height=data)\n",
    "plt.show()"
   ]
  },
  {
   "cell_type": "markdown",
   "metadata": {},
   "source": [
    "**Explanation**\n",
    "\n",
    "The delays seem higher in the February, June to August, and December. Possible reasons:\n",
    "\n",
    "* Not all flights are fully booked with passengers. However, during these months, the number of passengers per flight could be higher (due to holidays and vacations).\n",
    "* The proportion of non-business passengers flying during these months is probably higher than normal. Late-arriving aircraft could be more likely if the passengers feel less obligated to show up on time.\n",
    "* Air traffic control issues due to slightly higher number of flights in summer and December.\n",
    "* Possibly more extreme weather in these months (to be analyzed below)."
   ]
  },
  {
   "cell_type": "code",
   "execution_count": 25,
   "metadata": {},
   "outputs": [],
   "source": []
  },
  {
   "cell_type": "code",
   "execution_count": null,
   "metadata": {},
   "outputs": [],
   "source": []
  },
  {
   "cell_type": "markdown",
   "metadata": {},
   "source": [
    "#### **Task 3**: Does the weather affect the delay? \n",
    "Use the API to pull the weather information for flights. There is no need to get weather for ALL flights. We can choose the right representative sample. Let's focus on four weather types:\n",
    "- sunny\n",
    "- cloudy\n",
    "- rainy\n",
    "- snow.\n",
    "Test the hypothesis that these 4 delays are from the same distribution. If they are not, which ones are significantly different?"
   ]
  },
  {
   "cell_type": "code",
   "execution_count": 28,
   "metadata": {},
   "outputs": [],
   "source": [
    "import os\n",
    "from IPython.display import JSON\n",
    "import requests as re\n",
    "import time"
   ]
  },
  {
   "cell_type": "code",
   "execution_count": null,
   "metadata": {},
   "outputs": [],
   "source": [
    "pd.set_option('max_columns', None)\n",
    "#pd.reset_option('max_columns')"
   ]
  },
  {
   "cell_type": "code",
   "execution_count": 143,
   "metadata": {},
   "outputs": [],
   "source": [
    "df_flights['state'] = df_flights['origin_city_name'].str[-2:]"
   ]
  },
  {
   "cell_type": "code",
   "execution_count": 156,
   "metadata": {},
   "outputs": [
    {
     "data": {
      "text/plain": [
       "fl_date     origin_city_name\n",
       "2019-01-01  Aberdeen, SD         2\n",
       "            Abilene, TX          5\n",
       "            Aguadilla, PR        8\n",
       "            Akron, OH           19\n",
       "            Albany, GA           2\n",
       "                                ..\n",
       "            Wilmington, NC      19\n",
       "            Worcester, MA        4\n",
       "            Wrangell, AK         2\n",
       "            Yakima, WA           4\n",
       "            Yuma, AZ             3\n",
       "Length: 343, dtype: int64"
      ]
     },
     "execution_count": 156,
     "metadata": {},
     "output_type": "execute_result"
    }
   ],
   "source": [
    "# Find all unique cities on a given day for an API query.\n",
    "\n",
    "#df_flights[df_flights['fl_date'] < '2019-01-01'].groupby(by=['fl_date','state'],axis=0).size()\n",
    "#df_flights[(df_flights['fl_date'] >= '2019-01-01') & (df_flights['fl_date'] <= '2019-01-01')].groupby(by=['fl_date','origin_city_name'],axis=0).size()\n",
    "df_flights[df_flights['fl_date'] == '2019-01-01'].groupby(by=['fl_date','origin_city_name'],axis=0).size()"
   ]
  },
  {
   "cell_type": "code",
   "execution_count": 214,
   "metadata": {
    "tags": []
   },
   "outputs": [],
   "source": [
    "df_flights_20190101 = df_flights[df_flights['fl_date'] == '2019-01-01']\n",
    "df_flights_20190101['origin_city_name'].unique().tolist();"
   ]
  },
  {
   "cell_type": "code",
   "execution_count": 171,
   "metadata": {},
   "outputs": [],
   "source": [
    "# Set up API query function\n",
    "api_key = os.environ[\"VisualCrossing_API_Code\"]\n",
    "\n",
    "def weather_query_oneday(flightsDF):\n",
    "    '''\n",
    "    Given a dataframe of flights info on a given day, return a list of weather conditions for each unique origin city.\n",
    "    '''\n",
    "    \n",
    "    city_list = flightsDF['origin_city_name'].unique().tolist()\n",
    "    city_list_cleaned = []\n",
    "    \n",
    "    # Replace forward slashes in city names\n",
    "    for elem in city_list:\n",
    "        if elem.find('/') == -1:\n",
    "            city_list_cleaned.append(elem)\n",
    "        else:\n",
    "            city_list_cleaned.append(elem.replace('/','-'))\n",
    "    \n",
    "    date = flightsDF['fl_date'].iloc[0]\n",
    "    \n",
    "    weather_conditions_list = []\n",
    "    weather_conditions_dict = {}\n",
    "\n",
    "    for i in range(0,len(city_list_cleaned)):\n",
    "        res = re.get(f'https://weather.visualcrossing.com/VisualCrossingWebServices/rest/services/timeline/{city_list_cleaned[i]}/{date}?unitGroup=us&key={api_key}&include=current')\n",
    "        weather_conditions_list.append(res.json()['days'][0]['conditions'])\n",
    "        weather_conditions_dict.update({city_list[i]:weather_conditions_list[i]})\n",
    "    \n",
    "    return weather_conditions_dict"
   ]
  },
  {
   "cell_type": "code",
   "execution_count": 172,
   "metadata": {},
   "outputs": [],
   "source": [
    "df_flights_20190101_weather = weather_query_oneday(df_flights_20190101)"
   ]
  },
  {
   "cell_type": "code",
   "execution_count": 178,
   "metadata": {},
   "outputs": [],
   "source": [
    "def weather_simplification_dict(weather_dict):\n",
    "    '''\n",
    "    Given a list of weather conditions in a dictionary with cities, simplify the types into Sunny, Cloudy, Rainy, or Snow.\n",
    "    '''\n",
    "\n",
    "    weather_simplified = weather_dict\n",
    "\n",
    "    for key, value in df_flights_20190101_weather.items():\n",
    "        \n",
    "        if value.find('Snow') > -1:\n",
    "            df_flights_20190101_weather.update({key:'Snow'})\n",
    "            \n",
    "        elif value.find('Rain') > -1:\n",
    "            df_flights_20190101_weather.update({key:'Rainy'})\n",
    "            \n",
    "        elif (value.find('cloudy') > -1) or (value.find('Overcast') > -1):\n",
    "            df_flights_20190101_weather.update({key:'Cloudy'})\n",
    "            \n",
    "        else:\n",
    "            df_flights_20190101_weather.update({key:'Sunny'})\n",
    "    \n",
    "    return weather_simplified"
   ]
  },
  {
   "cell_type": "code",
   "execution_count": 213,
   "metadata": {
    "tags": []
   },
   "outputs": [],
   "source": [
    "df_flights_20190101_weather_simplified = weather_simplification_dict(df_flights_20190101_weather)\n",
    "df_flights_20190101_weather_simplified;"
   ]
  },
  {
   "cell_type": "code",
   "execution_count": 202,
   "metadata": {},
   "outputs": [
    {
     "name": "stderr",
     "output_type": "stream",
     "text": [
      "F:\\Anaconda\\envs\\lhl\\lib\\site-packages\\ipykernel_launcher.py:3: SettingWithCopyWarning: \n",
      "A value is trying to be set on a copy of a slice from a DataFrame.\n",
      "Try using .loc[row_indexer,col_indexer] = value instead\n",
      "\n",
      "See the caveats in the documentation: https://pandas.pydata.org/pandas-docs/stable/user_guide/indexing.html#returning-a-view-versus-a-copy\n",
      "  This is separate from the ipykernel package so we can avoid doing imports until\n",
      "F:\\Anaconda\\envs\\lhl\\lib\\site-packages\\pandas\\core\\generic.py:6245: SettingWithCopyWarning: \n",
      "A value is trying to be set on a copy of a slice from a DataFrame\n",
      "\n",
      "See the caveats in the documentation: https://pandas.pydata.org/pandas-docs/stable/user_guide/indexing.html#returning-a-view-versus-a-copy\n",
      "  self._update_inplace(new_data)\n"
     ]
    },
    {
     "data": {
      "text/plain": [
       "origin_weather\n",
       "Cloudy    8189\n",
       "Rainy     6592\n",
       "Snow      1859\n",
       "Sunny     3043\n",
       "dtype: int64"
      ]
     },
     "execution_count": 202,
     "metadata": {},
     "output_type": "execute_result"
    }
   ],
   "source": [
    "# Apply weather results to dataframe\n",
    "\n",
    "df_flights_20190101['origin_weather'] = df_flights_20190101.apply(lambda row: df_flights_20190101_weather_simplified[row['origin_city_name']], axis=1)\n",
    "\n",
    "# Set arr_delay nulls to zero\n",
    "df_flights_20190101['arr_delay'].fillna(value=0, inplace=True)\n",
    "\n",
    "df_flights_20190101.groupby('origin_weather').size()"
   ]
  },
  {
   "cell_type": "code",
   "execution_count": 204,
   "metadata": {
    "tags": []
   },
   "outputs": [],
   "source": [
    "# Create lists of delays for statistical analysis\n",
    "\n",
    "sunny_delays_20190101 = df_flights_20190101[df_flights_20190101['origin_weather'] == 'Sunny']['arr_delay'].tolist()\n",
    "cloudy_delays_20190101 = df_flights_20190101[df_flights_20190101['origin_weather'] == 'Cloudy']['arr_delay'].tolist()\n",
    "rainy_delays_20190101 = df_flights_20190101[df_flights_20190101['origin_weather'] == 'Rainy']['arr_delay'].tolist()\n",
    "snow_delays_20190101 = df_flights_20190101[df_flights_20190101['origin_weather'] == 'Snow']['arr_delay'].tolist()"
   ]
  },
  {
   "cell_type": "code",
   "execution_count": 212,
   "metadata": {},
   "outputs": [
    {
     "name": "stdout",
     "output_type": "stream",
     "text": [
      "All: F_onewayResult(statistic=199.96573100555258, pvalue=9.230996596172726e-128)\n",
      "Sunny/Cloudy: F_onewayResult(statistic=5.618589879251856, pvalue=0.017787732843944106)\n",
      "Sunny/Rainy: F_onewayResult(statistic=0.7420507738160768, pvalue=0.38902617442238785)\n",
      "Sunny/Snow: F_onewayResult(statistic=350.434101220448, pvalue=1.3980121220670004e-75)\n",
      "Cloudy/Rainy: F_onewayResult(statistic=3.9344092065461016, pvalue=0.04732622938858394)\n",
      "Cloudy/Snow: F_onewayResult(statistic=416.34107509426417, pvalue=1.0372025407809714e-90)\n",
      "Snow/Rainy: F_onewayResult(statistic=476.5242791641614, pvalue=8.141578299610299e-103)\n"
     ]
    }
   ],
   "source": [
    "# Try combinations of weather delays to see if they come from the same distribution.\n",
    "\n",
    "print('All:',stats.f_oneway(sunny_delays_20190101, cloudy_delays_20190101, rainy_delays_20190101, snow_delays_20190101))\n",
    "print('Sunny/Cloudy:',stats.f_oneway(sunny_delays_20190101, cloudy_delays_20190101))\n",
    "print('Sunny/Rainy:',stats.f_oneway(sunny_delays_20190101, rainy_delays_20190101))\n",
    "print('Sunny/Snow:',stats.f_oneway(sunny_delays_20190101, snow_delays_20190101))\n",
    "print('Cloudy/Rainy:',stats.f_oneway(cloudy_delays_20190101, rainy_delays_20190101))\n",
    "print('Cloudy/Snow:',stats.f_oneway(cloudy_delays_20190101, snow_delays_20190101))\n",
    "print('Snow/Rainy:',stats.f_oneway(snow_delays_20190101, rainy_delays_20190101))"
   ]
  },
  {
   "cell_type": "markdown",
   "metadata": {},
   "source": [
    "**Result:**\n",
    "\n",
    "With an alpha (significance level) of 0.05, we can reject the null hypothesis for all weather combinations except for Sunny/Rainy. One point to keep in mind is that these results are an approximation; this weather only corresponds to one day due to API limitations.\n",
    "\n",
    "In other words, no delays come from the same distribution except for the weather combination of Sunny/Rainy.\n",
    "\n",
    "Still, according to online research, weather delays only account for approximately 5 to 7% of primary flight delay reasons. [(reference)](https://www.bts.gov/topics/airlines-and-airports/understanding-reporting-causes-flight-delays-and-cancellations)"
   ]
  },
  {
   "cell_type": "code",
   "execution_count": null,
   "metadata": {},
   "outputs": [],
   "source": []
  },
  {
   "cell_type": "code",
   "execution_count": null,
   "metadata": {},
   "outputs": [],
   "source": []
  },
  {
   "cell_type": "markdown",
   "metadata": {},
   "source": [
    "#### **Task 4**: How taxi times changing during the day? Does higher traffic lead to bigger taxi times?"
   ]
  },
  {
   "cell_type": "code",
   "execution_count": 260,
   "metadata": {},
   "outputs": [],
   "source": [
    "# Taxi time - defined as the time between an airplane leaving a gate and the wheels being off the ground.\n",
    "\n",
    "df_flights['departure_hour'] = pd.cut(df_flights['dep_time'],bins=[0,100,200,300,400,500,600,700,800,900,1000,1100,1200,1300,1400,1500,1600,1700,1800,1900,2000,2100,2200,2300,2359])\n",
    "df_flights['arrival_hour'] = pd.cut(df_flights['arr_time'],bins=[0,100,200,300,400,500,600,700,800,900,1000,1100,1200,1300,1400,1500,1600,1700,1800,1900,2000,2100,2200,2300,2359])\n",
    "avg_taxi_out_times = df_flights.groupby('departure_hour').mean()['taxi_out'].tolist()\n",
    "avg_taxi_in_times = df_flights.groupby('arrival_hour').mean()['taxi_out'].tolist()\n",
    "flight_counts = df_flights.groupby('departure_hour').size().tolist()"
   ]
  },
  {
   "cell_type": "code",
   "execution_count": 252,
   "metadata": {},
   "outputs": [
    {
     "data": {
      "image/png": "[encoded data removed]",
      "text/plain": [
       "<Figure size 640x480 with 1 Axes>"
      ]
     },
     "metadata": {},
     "output_type": "display_data"
    }
   ],
   "source": [
    "# Plot the taxi times in a multi-bar chart.\n",
    "\n",
    "X = ['12 - 1 AM', '1 - 2 AM', '2 - 3 AM', '3 - 4 AM', '4 - 5 AM', '5 - 6 AM', '6 - 7 AM', '7 - 8 AM', '8 - 9 AM', '9 - 10 AM', '10 - 11 AM', '11 AM - 12 PM',\n",
    "     '12 - 1 PM', '1 - 2 PM', '2 - 3 PM', '3 - 4 PM', '4 - 5 PM', '5 - 6 PM', '6 - 7 PM', '7 - 8 PM', '8 - 9 PM', '9 - 10 PM', '10 - 11 PM', '11 PM - 12 AM',]\n",
    "\n",
    "X_axis = np.arange(len(X))\n",
    "\n",
    "width=0.3\n",
    "\n",
    "plt.bar(X_axis, avg_taxi_out_times, width=width, label = 'Taxi Out')\n",
    "plt.bar(X_axis + width, avg_taxi_in_times, width=width, label = 'Taxi In')\n",
    "\n",
    "plt.xticks(X_axis, X)\n",
    "plt.tick_params(axis = 'x', which = 'major', labelsize = 7, labelrotation =90)\n",
    "plt.xlabel(\"Time Range\")\n",
    "plt.ylabel(\"Taxi Time (minutes)\")\n",
    "plt.ylim(0, 22.5)\n",
    "plt.title(\"Average Airplane Taxi Times by Hour for Jan. 1 - 8, 2018/2019 \")\n",
    "plt.legend(loc='upper right')\n",
    "plt.show()"
   ]
  },
  {
   "cell_type": "code",
   "execution_count": 257,
   "metadata": {
    "jupyter": {
     "source_hidden": true
    },
    "tags": []
   },
   "outputs": [
    {
     "data": {
      "image/png": "[encoded data removed]",
      "text/plain": [
       "<Figure size 640x480 with 1 Axes>"
      ]
     },
     "metadata": {},
     "output_type": "display_data"
    }
   ],
   "source": [
    "# Plot the taxi times in a multi-bar chart.\n",
    "\n",
    "X = ['12 - 1 AM', '1 - 2 AM', '2 - 3 AM', '3 - 4 AM', '4 - 5 AM', '5 - 6 AM', '6 - 7 AM', '7 - 8 AM', '8 - 9 AM', '9 - 10 AM', '10 - 11 AM', '11 AM - 12 PM',\n",
    "     '12 - 1 PM', '1 - 2 PM', '2 - 3 PM', '3 - 4 PM', '4 - 5 PM', '5 - 6 PM', '6 - 7 PM', '7 - 8 PM', '8 - 9 PM', '9 - 10 PM', '10 - 11 PM', '11 PM - 12 AM',]\n",
    "\n",
    "X_axis = np.arange(len(X))\n",
    "\n",
    "plt.bar(X_axis, flight_counts, width=0.3)\n",
    "\n",
    "plt.xticks(X_axis, X)\n",
    "plt.tick_params(axis = 'x', which = 'major', labelsize = 7, labelrotation =90)\n",
    "plt.xlabel(\"Time Range\")\n",
    "plt.ylabel(\"Number of Departures\")\n",
    "plt.title(\"Number of Departures by Hour for Jan. 1 - 8, 2018/2019 \")\n",
    "plt.show()"
   ]
  },
  {
   "cell_type": "markdown",
   "metadata": {},
   "source": [
    "**Results**\n",
    "\n",
    "Based on the graphs above, we can conclude the following about taxi times:\n",
    "\n",
    "* The Taxi Out times noticeably faster than Taxi In times in the early hours of the morning (12 - 4 AM). The Taxi Out times are likely faster because there is less traffic at these hours. Taxi In times may be longer due to less personnel available to guide planes upon landing.\n",
    "* The Taxi Out times noticeably longer than Taxi In times in the later in the morning (5 - 7 AM). The Taxi Out times are likely longer due to higher traffic from business flights.\n",
    "* The rest of the taxi times are relatively comparable throughout the day. The highest difference occurs in the morning."
   ]
  },
  {
   "cell_type": "code",
   "execution_count": null,
   "metadata": {},
   "outputs": [],
   "source": []
  },
  {
   "cell_type": "code",
   "execution_count": null,
   "metadata": {},
   "outputs": [],
   "source": []
  },
  {
   "cell_type": "markdown",
   "metadata": {},
   "source": [
    "#### **Task 5**: What is the average percentage of delays that is already created before departure? (aka are arrival delays caused by departure delays?) Are airlines able to lower the delay during the flights?"
   ]
  },
  {
   "cell_type": "code",
   "execution_count": 269,
   "metadata": {},
   "outputs": [
    {
     "data": {
      "text/plain": [
       "carrier_delay          36607\n",
       "weather_delay           4576\n",
       "nas_delay              33154\n",
       "security_delay           345\n",
       "late_aircraft_delay    35354\n",
       "dtype: int64"
      ]
     },
     "execution_count": 269,
     "metadata": {},
     "output_type": "execute_result"
    }
   ],
   "source": [
    "delay_df = df_flights.iloc[:,33:38].fillna(value=0)\n",
    "delay_sums = delay_df.astype(bool).sum(axis=0)\n",
    "delay_sums"
   ]
  },
  {
   "cell_type": "code",
   "execution_count": 304,
   "metadata": {},
   "outputs": [
    {
     "data": {
      "text/plain": [
       "[33, 4, 30, 0.31, 32]"
      ]
     },
     "execution_count": 304,
     "metadata": {},
     "output_type": "execute_result"
    }
   ],
   "source": [
    "delay_percentages = []\n",
    "\n",
    "for i in range(0,len(delay_sums)):\n",
    "    if i == 3:\n",
    "        # Add extra significant digits\n",
    "        delay_percentages.append(round(delay_sums[i]/sum(delay_sums)*100,2))\n",
    "    else:\n",
    "        delay_percentages.append(round(delay_sums[i]/sum(delay_sums)*100,))\n",
    "\n",
    "delay_percentages"
   ]
  },
  {
   "cell_type": "code",
   "execution_count": 305,
   "metadata": {},
   "outputs": [
    {
     "name": "stdout",
     "output_type": "stream",
     "text": [
      "Percentage of delays created by late aircraft: 32%\n"
     ]
    }
   ],
   "source": [
    "print(f'Percentage of delays created by late aircraft: {round(delay_sums[4]/sum(delay_sums)*100,)}%')"
   ]
  },
  {
   "cell_type": "code",
   "execution_count": 306,
   "metadata": {},
   "outputs": [
    {
     "name": "stdout",
     "output_type": "stream",
     "text": [
      "Percentage of delays created by air carrier: 33%\n",
      "Percentage of delays created by weather: 4%\n",
      "Percentage of delays created by national aviation system: 30%\n",
      "Percentage of delays created by security: 0.31%\n"
     ]
    }
   ],
   "source": [
    "# Extra statistics\n",
    "\n",
    "print(f'Percentage of delays created by air carrier: {delay_percentages[0]}%')\n",
    "print(f'Percentage of delays created by weather: {delay_percentages[1]}%')\n",
    "print(f'Percentage of delays created by national aviation system: {delay_percentages[2]}%')\n",
    "print(f'Percentage of delays created by security: {delay_percentages[3]}%')"
   ]
  },
  {
   "cell_type": "code",
   "execution_count": 307,
   "metadata": {},
   "outputs": [
    {
     "data": {
      "image/png": "[encoded data removed]",
      "text/plain": [
       "<Figure size 640x480 with 1 Axes>"
      ]
     },
     "metadata": {},
     "output_type": "display_data"
    }
   ],
   "source": [
    "# Plot pie chart.\n",
    "\n",
    "X = ['Air Carrier', 'Weather', 'NAS', 'Security', 'Late Aircraft']\n",
    "\n",
    "width=0.3\n",
    "\n",
    "plt.pie(x=delay_percentages, labels=X, autopct='%.1f%%')\n",
    "\n",
    "plt.title(\"Aircraft Delay Causes for Jan. 1 - 8, 2018/2019 \")\n",
    "plt.show()"
   ]
  },
  {
   "cell_type": "markdown",
   "metadata": {},
   "source": [
    "**Result**\n",
    "\n",
    "About one third of all flights are delayed by late aircraft. According to some reading, pilots actually can choose to fly faster to lower the delay during the flight, but at the cost of higher fuel consumption. [(reference)](https://fivethirtyeight.com/features/flight-delayed-your-pilot-really-can-make-up-the-time-in-the-air/)"
   ]
  },
  {
   "cell_type": "code",
   "execution_count": null,
   "metadata": {},
   "outputs": [],
   "source": []
  },
  {
   "cell_type": "code",
   "execution_count": null,
   "metadata": {},
   "outputs": [],
   "source": []
  },
  {
   "cell_type": "markdown",
   "metadata": {},
   "source": [
    "#### **Task 6**: How many states cover 50% of US air traffic? "
   ]
  },
  {
   "cell_type": "code",
   "execution_count": null,
   "metadata": {},
   "outputs": [],
   "source": []
  },
  {
   "cell_type": "code",
   "execution_count": null,
   "metadata": {},
   "outputs": [],
   "source": []
  },
  {
   "cell_type": "markdown",
   "metadata": {},
   "source": [
    "#### **Task 7**: Test the hypothesis whether planes fly faster when there is the departure delay? "
   ]
  },
  {
   "cell_type": "code",
   "execution_count": null,
   "metadata": {},
   "outputs": [],
   "source": []
  },
  {
   "cell_type": "code",
   "execution_count": null,
   "metadata": {},
   "outputs": [],
   "source": []
  },
  {
   "cell_type": "markdown",
   "metadata": {},
   "source": [
    "#### **Task 8**: When (which hour) do most 'LONG', 'SHORT', 'MEDIUM' haul flights take off?"
   ]
  },
  {
   "cell_type": "code",
   "execution_count": null,
   "metadata": {},
   "outputs": [],
   "source": []
  },
  {
   "cell_type": "code",
   "execution_count": null,
   "metadata": {},
   "outputs": [],
   "source": []
  },
  {
   "cell_type": "markdown",
   "metadata": {},
   "source": [
    "#### **Task 9**: Find the top 10 the bussiest airports. Does the biggest number of flights mean that the biggest number of passengers went through the particular airport? How much traffic do these 10 airports cover?"
   ]
  },
  {
   "cell_type": "code",
   "execution_count": null,
   "metadata": {},
   "outputs": [],
   "source": []
  },
  {
   "cell_type": "code",
   "execution_count": null,
   "metadata": {},
   "outputs": [],
   "source": []
  },
  {
   "cell_type": "markdown",
   "metadata": {},
   "source": [
    "#### **Task 10**: Do bigger delays lead to bigger fuel comsumption per passenger? \n",
    "We need to do four things to answer this as accurate as possible:\n",
    "- Find out average monthly delay per air carrier (monthly delay is sum of all delays in 1 month)\n",
    "- Find out distance covered monthly by different air carriers\n",
    "- Find out number of passengers that were carried by different air carriers\n",
    "- Find out total fuel comsumption per air carrier.\n",
    "\n",
    "Use this information to get the average fuel comsumption per passenger per km. Is this higher for the airlines with bigger average delays?"
   ]
  },
  {
   "cell_type": "code",
   "execution_count": null,
   "metadata": {},
   "outputs": [],
   "source": []
  },
  {
   "cell_type": "code",
   "execution_count": null,
   "metadata": {},
   "outputs": [],
   "source": []
  }
 ],
 "metadata": {
  "kernelspec": {
   "display_name": "Python 3",
   "language": "python",
   "name": "python3"
  },
  "language_info": {
   "codemirror_mode": {
    "name": "ipython",
    "version": 3
   },
   "file_extension": ".py",
   "mimetype": "text/x-python",
   "name": "python",
   "nbconvert_exporter": "python",
   "pygments_lexer": "ipython3",
   "version": "3.7.11"
  },
  "toc": {
   "base_numbering": 1,
   "nav_menu": {},
   "number_sections": true,
   "sideBar": true,
   "skip_h1_title": false,
   "title_cell": "Table of Contents",
   "title_sidebar": "Contents",
   "toc_cell": false,
   "toc_position": {},
   "toc_section_display": true,
   "toc_window_display": false
  },
  "varInspector": {
   "cols": {
    "lenName": 16,
    "lenType": 16,
    "lenVar": 40
   },
   "kernels_config": {
    "python": {
     "delete_cmd_postfix": "",
     "delete_cmd_prefix": "del ",
     "library": "var_list.py",
     "varRefreshCmd": "print(var_dic_list())"
    },
    "r": {
     "delete_cmd_postfix": ") ",
     "delete_cmd_prefix": "rm(",
     "library": "var_list.r",
     "varRefreshCmd": "cat(var_dic_list()) "
    }
   },
   "types_to_exclude": [
    "module",
    "function",
    "builtin_function_or_method",
    "instance",
    "_Feature"
   ],
   "window_display": false
  }
 },
 "nbformat": 4,
 "nbformat_minor": 4
}
