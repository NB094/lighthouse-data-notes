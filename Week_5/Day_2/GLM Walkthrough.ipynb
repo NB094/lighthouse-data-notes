{
 "cells": [
  {
   "cell_type": "markdown",
   "id": "74247883-7268-46f8-a831-e64596c5b571",
   "metadata": {},
   "source": [
    "ref: https://www.kaggle.com/ykondo/regression-challenge-day-1-python/notebook\n",
    "\n",
    "GLM =  Generalized Linear Model"
   ]
  },
  {
   "cell_type": "code",
   "execution_count": 2,
   "id": "7b84afa1-cede-4611-bbb8-271cf90f6469",
   "metadata": {},
   "outputs": [
    {
     "data": {
      "text/html": [
       "<div>\n",
       "<style scoped>\n",
       "    .dataframe tbody tr th:only-of-type {\n",
       "        vertical-align: middle;\n",
       "    }\n",
       "\n",
       "    .dataframe tbody tr th {\n",
       "        vertical-align: top;\n",
       "    }\n",
       "\n",
       "    .dataframe thead th {\n",
       "        text-align: right;\n",
       "    }\n",
       "</style>\n",
       "<table border=\"1\" class=\"dataframe\">\n",
       "  <thead>\n",
       "    <tr style=\"text-align: right;\">\n",
       "      <th></th>\n",
       "      <th>Unnamed: 0</th>\n",
       "      <th>Date</th>\n",
       "      <th>Day</th>\n",
       "      <th>High Temp (°F)</th>\n",
       "      <th>Low Temp (°F)</th>\n",
       "      <th>Precipitation</th>\n",
       "      <th>Brooklyn Bridge</th>\n",
       "      <th>Manhattan Bridge</th>\n",
       "      <th>Williamsburg Bridge</th>\n",
       "      <th>Queensboro Bridge</th>\n",
       "      <th>Total</th>\n",
       "    </tr>\n",
       "  </thead>\n",
       "  <tbody>\n",
       "    <tr>\n",
       "      <th>0</th>\n",
       "      <td>0</td>\n",
       "      <td>2016-04-01 00:00:00</td>\n",
       "      <td>2016-04-01 00:00:00</td>\n",
       "      <td>78.1</td>\n",
       "      <td>66.0</td>\n",
       "      <td>0.01</td>\n",
       "      <td>1704.0</td>\n",
       "      <td>3126</td>\n",
       "      <td>4115.0</td>\n",
       "      <td>2552.0</td>\n",
       "      <td>11497</td>\n",
       "    </tr>\n",
       "    <tr>\n",
       "      <th>1</th>\n",
       "      <td>1</td>\n",
       "      <td>2016-04-02 00:00:00</td>\n",
       "      <td>2016-04-02 00:00:00</td>\n",
       "      <td>55.0</td>\n",
       "      <td>48.9</td>\n",
       "      <td>0.15</td>\n",
       "      <td>827.0</td>\n",
       "      <td>1646</td>\n",
       "      <td>2565.0</td>\n",
       "      <td>1884.0</td>\n",
       "      <td>6922</td>\n",
       "    </tr>\n",
       "    <tr>\n",
       "      <th>2</th>\n",
       "      <td>2</td>\n",
       "      <td>2016-04-03 00:00:00</td>\n",
       "      <td>2016-04-03 00:00:00</td>\n",
       "      <td>39.9</td>\n",
       "      <td>34.0</td>\n",
       "      <td>0.09</td>\n",
       "      <td>526.0</td>\n",
       "      <td>1232</td>\n",
       "      <td>1695.0</td>\n",
       "      <td>1306.0</td>\n",
       "      <td>4759</td>\n",
       "    </tr>\n",
       "    <tr>\n",
       "      <th>3</th>\n",
       "      <td>3</td>\n",
       "      <td>2016-04-04 00:00:00</td>\n",
       "      <td>2016-04-04 00:00:00</td>\n",
       "      <td>44.1</td>\n",
       "      <td>33.1</td>\n",
       "      <td>0.47 (S)</td>\n",
       "      <td>521.0</td>\n",
       "      <td>1067</td>\n",
       "      <td>1440.0</td>\n",
       "      <td>1307.0</td>\n",
       "      <td>4335</td>\n",
       "    </tr>\n",
       "    <tr>\n",
       "      <th>4</th>\n",
       "      <td>4</td>\n",
       "      <td>2016-04-05 00:00:00</td>\n",
       "      <td>2016-04-05 00:00:00</td>\n",
       "      <td>42.1</td>\n",
       "      <td>26.1</td>\n",
       "      <td>0</td>\n",
       "      <td>1416.0</td>\n",
       "      <td>2617</td>\n",
       "      <td>3081.0</td>\n",
       "      <td>2357.0</td>\n",
       "      <td>9471</td>\n",
       "    </tr>\n",
       "  </tbody>\n",
       "</table>\n",
       "</div>"
      ],
      "text/plain": [
       "   Unnamed: 0                 Date                  Day  High Temp (°F)  \\\n",
       "0           0  2016-04-01 00:00:00  2016-04-01 00:00:00            78.1   \n",
       "1           1  2016-04-02 00:00:00  2016-04-02 00:00:00            55.0   \n",
       "2           2  2016-04-03 00:00:00  2016-04-03 00:00:00            39.9   \n",
       "3           3  2016-04-04 00:00:00  2016-04-04 00:00:00            44.1   \n",
       "4           4  2016-04-05 00:00:00  2016-04-05 00:00:00            42.1   \n",
       "\n",
       "   Low Temp (°F) Precipitation  Brooklyn Bridge  Manhattan Bridge  \\\n",
       "0           66.0          0.01           1704.0              3126   \n",
       "1           48.9          0.15            827.0              1646   \n",
       "2           34.0          0.09            526.0              1232   \n",
       "3           33.1      0.47 (S)            521.0              1067   \n",
       "4           26.1             0           1416.0              2617   \n",
       "\n",
       "   Williamsburg Bridge  Queensboro Bridge  Total  \n",
       "0               4115.0             2552.0  11497  \n",
       "1               2565.0             1884.0   6922  \n",
       "2               1695.0             1306.0   4759  \n",
       "3               1440.0             1307.0   4335  \n",
       "4               3081.0             2357.0   9471  "
      ]
     },
     "execution_count": 2,
     "metadata": {},
     "output_type": "execute_result"
    }
   ],
   "source": [
    "import pandas as pd\n",
    "import numpy as np\n",
    "import seaborn as sns\n",
    "import matplotlib.pyplot as plt\n",
    "\n",
    "%matplotlib inline\n",
    "\n",
    "# importing bikes dataset\n",
    "bikes = pd.read_csv(\"nyc-east-river-bicycle-counts.csv\")\n",
    "bikes.head()"
   ]
  },
  {
   "cell_type": "code",
   "execution_count": 3,
   "id": "f7347551-c97e-4c6a-ade4-ddaa60bc0694",
   "metadata": {},
   "outputs": [],
   "source": [
    "# dropping 'Unnamed: 0' column, because it is not necessary for our analysis\n",
    "bikes = bikes.drop('Unnamed: 0', 1)"
   ]
  },
  {
   "cell_type": "code",
   "execution_count": 4,
   "id": "b4b38192-b311-4d64-975d-95089f073cc5",
   "metadata": {},
   "outputs": [
    {
     "data": {
      "text/plain": [
       "Date                    object\n",
       "Day                     object\n",
       "High Temp (°F)         float64\n",
       "Low Temp (°F)          float64\n",
       "Precipitation           object\n",
       "Brooklyn Bridge        float64\n",
       "Manhattan Bridge         int64\n",
       "Williamsburg Bridge    float64\n",
       "Queensboro Bridge      float64\n",
       "Total                    int64\n",
       "dtype: object"
      ]
     },
     "execution_count": 4,
     "metadata": {},
     "output_type": "execute_result"
    }
   ],
   "source": [
    "# checking data types to identify which variables are continuous, categorical and count\n",
    "# note: my dependent variable, \"Total\" is an integer (count)\n",
    "bikes.dtypes"
   ]
  },
  {
   "cell_type": "code",
   "execution_count": 5,
   "id": "a8fb6b66-e20e-4a2a-bea2-348b8559e802",
   "metadata": {},
   "outputs": [
    {
     "data": {
      "text/plain": [
       "False"
      ]
     },
     "execution_count": 5,
     "metadata": {},
     "output_type": "execute_result"
    }
   ],
   "source": [
    "# checking if there are any nans in the dataset\n",
    "bikes.isnull().values.any()"
   ]
  },
  {
   "cell_type": "code",
   "execution_count": 6,
   "id": "e8b5c838-8d21-44bd-b171-1beb819c0b6e",
   "metadata": {},
   "outputs": [
    {
     "data": {
      "text/plain": [
       "count      210.000000\n",
       "mean     14534.500000\n",
       "std       5569.173496\n",
       "min       4335.000000\n",
       "25%       9596.000000\n",
       "50%      15292.500000\n",
       "75%      18315.000000\n",
       "max      23318.000000\n",
       "Name: Total, dtype: float64"
      ]
     },
     "execution_count": 6,
     "metadata": {},
     "output_type": "execute_result"
    }
   ],
   "source": [
    "# generating descriptive statistics summary\n",
    "bikes['Total'].describe()"
   ]
  },
  {
   "cell_type": "code",
   "execution_count": 7,
   "id": "f55c345b-ed3c-4ad5-ac2f-111fdc8c6ded",
   "metadata": {},
   "outputs": [
    {
     "name": "stdout",
     "output_type": "stream",
     "text": [
      "Skewness: -0.242981\n",
      "Kurtosis: -0.907534\n"
     ]
    },
    {
     "name": "stderr",
     "output_type": "stream",
     "text": [
      "F:\\Anaconda\\envs\\lhl\\lib\\site-packages\\seaborn\\distributions.py:2557: FutureWarning: `distplot` is a deprecated function and will be removed in a future version. Please adapt your code to use either `displot` (a figure-level function with similar flexibility) or `histplot` (an axes-level function for histograms).\n",
      "  warnings.warn(msg, FutureWarning)\n"
     ]
    },
    {
     "data": {
      "image/png": "[encoded data removed]",
      "text/plain": [
       "<Figure size 432x288 with 1 Axes>"
      ]
     },
     "metadata": {
      "needs_background": "light"
     },
     "output_type": "display_data"
    }
   ],
   "source": [
    "# checking the distribution to see if there are any outliers\n",
    "sns.distplot(bikes['Total']);\n",
    "\n",
    "#skewness and kurtosis\n",
    "print(\"Skewness: %f\" % bikes['Total'].skew())\n",
    "print(\"Kurtosis: %f\" % bikes['Total'].kurt())"
   ]
  },
  {
   "cell_type": "code",
   "execution_count": 8,
   "id": "3de8ad8c-118a-48b1-83b4-9bdc3409ffeb",
   "metadata": {},
   "outputs": [],
   "source": [
    "# creating a new column for average temperature by adding the highest and\n",
    "#the lowest temperature and dividing it by 2\n",
    "bikes['Average Temp'] = (bikes['High Temp (°F)'] + bikes['Low Temp (°F)'])/2"
   ]
  },
  {
   "cell_type": "code",
   "execution_count": 9,
   "id": "a0180add-042e-41bf-8ee4-4a3cdf9b0d6f",
   "metadata": {},
   "outputs": [
    {
     "name": "stderr",
     "output_type": "stream",
     "text": [
      "F:\\Anaconda\\envs\\lhl\\lib\\site-packages\\seaborn\\_decorators.py:43: FutureWarning: Pass the following variables as keyword args: x, y. From version 0.12, the only valid positional argument will be `data`, and passing other arguments without an explicit keyword will result in an error or misinterpretation.\n",
      "  FutureWarning\n"
     ]
    },
    {
     "data": {
      "text/plain": [
       "<seaborn.axisgrid.FacetGrid at 0x1bbf3401fc8>"
      ]
     },
     "execution_count": 9,
     "metadata": {},
     "output_type": "execute_result"
    },
    {
     "data": {
      "image/png": "[encoded data removed]",
      "text/plain": [
       "<Figure size 360x360 with 1 Axes>"
      ]
     },
     "metadata": {
      "needs_background": "light"
     },
     "output_type": "display_data"
    }
   ],
   "source": [
    "# plotting average temperature against total number of bikes \n",
    "# linear regression\n",
    "sns.lmplot('Average Temp', 'Total', data=bikes)"
   ]
  },
  {
   "cell_type": "code",
   "execution_count": 10,
   "id": "0ef62217-d372-4c97-9587-78c836f9ab5c",
   "metadata": {},
   "outputs": [],
   "source": [
    "# since I am predicting a count value, I should fit a poisson regression. \n",
    "import statsmodels.api as sm\n",
    "\n",
    "X = bikes['Average Temp']\n",
    "y = bikes['Total']\n",
    "\n",
    "# add intercept to input variable\n",
    "X = sm.add_constant(X)\n",
    "\n",
    "# fit poisson regression model \n",
    "model = sm.GLM(y, X, family=sm.families.Poisson()).fit()\n",
    "\n",
    "# add poisson fitted values to dataframe\n",
    "bikes['reg_fit'] = model.fittedvalues"
   ]
  },
  {
   "cell_type": "code",
   "execution_count": 11,
   "id": "f64c19b3-d221-475e-961e-eee9badbec4b",
   "metadata": {},
   "outputs": [
    {
     "name": "stderr",
     "output_type": "stream",
     "text": [
      "F:\\Anaconda\\envs\\lhl\\lib\\site-packages\\seaborn\\_decorators.py:43: FutureWarning: Pass the following variables as keyword args: x, y. From version 0.12, the only valid positional argument will be `data`, and passing other arguments without an explicit keyword will result in an error or misinterpretation.\n",
      "  FutureWarning\n"
     ]
    },
    {
     "data": {
      "image/png": "[encoded data removed]",
      "text/plain": [
       "<Figure size 432x288 with 1 Axes>"
      ]
     },
     "metadata": {
      "needs_background": "light"
     },
     "output_type": "display_data"
    }
   ],
   "source": [
    "# plot & add a regression line\n",
    "sns.regplot(bikes['Average Temp'], bikes['Total'], fit_reg=False)\n",
    "plt.plot(bikes['Average Temp'], bikes['reg_fit']);"
   ]
  },
  {
   "cell_type": "code",
   "execution_count": null,
   "id": "1e7ca478-1c48-4379-81cd-0c3ca8eead47",
   "metadata": {},
   "outputs": [],
   "source": []
  }
 ],
 "metadata": {
  "kernelspec": {
   "display_name": "Python 3 (ipykernel)",
   "language": "python",
   "name": "python3"
  },
  "language_info": {
   "codemirror_mode": {
    "name": "ipython",
    "version": 3
   },
   "file_extension": ".py",
   "mimetype": "text/x-python",
   "name": "python",
   "nbconvert_exporter": "python",
   "pygments_lexer": "ipython3",
   "version": "3.7.9"
  }
 },
 "nbformat": 4,
 "nbformat_minor": 5
}
