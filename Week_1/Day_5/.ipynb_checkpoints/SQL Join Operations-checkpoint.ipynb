{
 "cells": [
  {
   "cell_type": "markdown",
   "id": "4005bcc9-d19a-4735-87d3-8c9a9dc7f17e",
   "metadata": {},
   "source": [
    "https://sqlzoo.net/wiki/More_JOIN_operations\n",
    "\n",
    "Two different methods to join tables:"
   ]
  },
  {
   "cell_type": "code",
   "execution_count": null,
   "id": "7b91d490-2e5b-4ad5-8d2d-7ea489ff8054",
   "metadata": {},
   "outputs": [],
   "source": [
    "SELECT title FROM movie, casting, actor\n",
    "  WHERE actor.name = 'Harrison Ford'\n",
    "  AND casting.movieid = movie.id\n",
    "  AND casting.actorid = actor.id\n",
    "\n",
    "\n",
    "SELECT title FROM movie\n",
    "JOIN casting ON movie.id=casting.movieid\n",
    "JOIN actor ON actor.id=casting.actorid\n",
    "WHERE name = 'Harrison Ford'"
   ]
  }
 ],
 "metadata": {
  "kernelspec": {
   "display_name": "Python 3",
   "language": "python",
   "name": "python3"
  },
  "language_info": {
   "codemirror_mode": {
    "name": "ipython",
    "version": 3
   },
   "file_extension": ".py",
   "mimetype": "text/x-python",
   "name": "python",
   "nbconvert_exporter": "python",
   "pygments_lexer": "ipython3",
   "version": "3.8.8"
  }
 },
 "nbformat": 4,
 "nbformat_minor": 5
}
