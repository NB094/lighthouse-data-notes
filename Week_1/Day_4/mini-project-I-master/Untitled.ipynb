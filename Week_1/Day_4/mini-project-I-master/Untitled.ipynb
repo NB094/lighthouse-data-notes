{
 "cells": [
  {
   "cell_type": "code",
   "execution_count": 27,
   "id": "3f0faa36-b1db-4e81-9017-fd17cdb52ea5",
   "metadata": {},
   "outputs": [],
   "source": [
    "def divisible(integer):\n",
    "    decision = False\n",
    "    if integer % 100 == 0:\n",
    "        decision = True\n",
    "    return decision"
   ]
  },
  {
   "cell_type": "code",
   "execution_count": 28,
   "id": "84b27580-634c-4cc8-a6f4-bcfdaf02d292",
   "metadata": {},
   "outputs": [
    {
     "data": {
      "text/plain": [
       "True"
      ]
     },
     "execution_count": 28,
     "metadata": {},
     "output_type": "execute_result"
    }
   ],
   "source": [
    "divisible(1000)"
   ]
  }
 ],
 "metadata": {
  "kernelspec": {
   "display_name": "Python 3",
   "language": "python",
   "name": "python3"
  },
  "language_info": {
   "codemirror_mode": {
    "name": "ipython",
    "version": 3
   },
   "file_extension": ".py",
   "mimetype": "text/x-python",
   "name": "python",
   "nbconvert_exporter": "python",
   "pygments_lexer": "ipython3",
   "version": "3.8.8"
  }
 },
 "nbformat": 4,
 "nbformat_minor": 5
}
