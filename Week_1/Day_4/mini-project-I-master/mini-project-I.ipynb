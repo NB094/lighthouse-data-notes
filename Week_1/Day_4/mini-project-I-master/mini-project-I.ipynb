{
 "cells": [
  {
   "cell_type": "markdown",
   "metadata": {},
   "source": [
    "# Mini-Project I\n",
    "During this project, we will practice handling of complex lists and dictionaries in Python. Plus, we will learn how to work with API documentation. Don't be afraid to search for the information in the [**documentation**](https://api.tfl.gov.uk/swagger/ui/index.html?url=/swagger/docs/v1#!/AccidentStats/AccidentStats_Get).\n",
    "\n",
    "Let's go to the tasks, we have some parsing to do :)!!"
   ]
  },
  {
   "cell_type": "code",
   "execution_count": 1,
   "metadata": {},
   "outputs": [],
   "source": [
    "import requests as re\n",
    "import os\n",
    "import json\n",
    "from IPython.display import JSON"
   ]
  },
  {
   "cell_type": "markdown",
   "metadata": {},
   "source": [
    "##### Useful JSON functions:\n",
    "print(json.dumps(res.json(), indent=4, sort_keys=True))\n",
    "\n",
    "JSON(res.json())"
   ]
  },
  {
   "cell_type": "markdown",
   "metadata": {},
   "source": [
    "## Demo"
   ]
  },
  {
   "cell_type": "code",
   "execution_count": 2,
   "metadata": {},
   "outputs": [],
   "source": [
    "# don't forget package os\n",
    "app_id = os.environ[\"TransportForLondonPrimaryKey\"]\n",
    "app_key = os.environ[\"TransportForLondonSecondaryKey\"]\n",
    "url_append = f'?app_id={app_id}&app_key={app_key}' "
   ]
  },
  {
   "cell_type": "code",
   "execution_count": 3,
   "metadata": {},
   "outputs": [],
   "source": [
    "#print(url_append)"
   ]
  },
  {
   "cell_type": "code",
   "execution_count": 3,
   "metadata": {},
   "outputs": [],
   "source": [
    "# URL\n",
    "root_endpoint = 'https://api.tfl.gov.uk/' \n",
    "api_method = \"AirQuality\"\n",
    "endpoint = root_endpoint + api_method"
   ]
  },
  {
   "cell_type": "code",
   "execution_count": 14,
   "metadata": {},
   "outputs": [],
   "source": [
    "# We send the request to the API\n",
    "# NOTE: if you don't have your APP_KEY, run this without the url_append\n",
    "\n",
    "res = re.get(endpoint)"
   ]
  },
  {
   "cell_type": "code",
   "execution_count": 15,
   "metadata": {},
   "outputs": [
    {
     "data": {
      "text/plain": [
       "200"
      ]
     },
     "execution_count": 15,
     "metadata": {},
     "output_type": "execute_result"
    }
   ],
   "source": [
    "# We can check if the request was successful\n",
    "res.status_code"
   ]
  },
  {
   "cell_type": "code",
   "execution_count": 128,
   "metadata": {},
   "outputs": [],
   "source": [
    "# We can export the information that was returned using method .json()\n",
    "\n",
    "#res.json()"
   ]
  },
  {
   "cell_type": "markdown",
   "metadata": {},
   "source": [
    "## Task\n",
    "Parse the dictionary and print the AirQuality predictions for tomorrow"
   ]
  },
  {
   "cell_type": "code",
   "execution_count": 17,
   "metadata": {},
   "outputs": [
    {
     "data": {
      "text/plain": [
       "'Low air pollution forecast valid from Friday 23 July to end of Friday 23 July GMT'"
      ]
     },
     "execution_count": 17,
     "metadata": {},
     "output_type": "execute_result"
    }
   ],
   "source": [
    "# Structure of res.json():    dictionary{ list [ dictionary {} ] }\n",
    "\n",
    "res.json()['currentForecast'][1]['forecastSummary']"
   ]
  },
  {
   "cell_type": "markdown",
   "metadata": {},
   "source": [
    "## Task\n",
    "What are the different modes of transport which are operated by Transfer for London? How many of modes do they have?\n",
    "\n",
    "Print the list with different modes of transport, plus their count. Example output:\n",
    "```\n",
    "[bus, cable-car,.....]\n",
    "Number of different modes of transport is: xyz\n",
    "```\n",
    "\n",
    "We need to search the documentation for correct request."
   ]
  },
  {
   "cell_type": "code",
   "execution_count": 75,
   "metadata": {},
   "outputs": [
    {
     "name": "stdout",
     "output_type": "stream",
     "text": [
      "['bus', 'cable-car', 'coach', 'cycle', 'cycle-hire', 'dlr', 'interchange-keep-sitting', 'interchange-secure', 'national-rail', 'overground', 'replacement-bus', 'river-bus', 'river-tour', 'taxi', 'tflrail', 'tram', 'tube', 'walking']\n",
      "Number of different tranport modes: 18\n"
     ]
    }
   ],
   "source": [
    "def JourneyModes():\n",
    "    api_method = 'Line/Meta/Modes'\n",
    "    endpoint = root_endpoint + api_method\n",
    "    \n",
    "    res = re.get(endpoint)\n",
    "    \n",
    "    TransportModes = []\n",
    "    \n",
    "    for dct in res.json():\n",
    "        TransportModes.append(dct['modeName'])\n",
    "    \n",
    "    return TransportModes\n",
    "\n",
    "#res.json()\n",
    "print(JourneyModes())\n",
    "print(\"Number of different tranport modes:\", len(JourneyModes()))"
   ]
  },
  {
   "cell_type": "markdown",
   "metadata": {},
   "source": [
    "## Task\n",
    "How many BikePoints in London are operated by Transfor for London? How many docks are in **all** BikePoints? There is the information for empty and full docks for each BikePoint."
   ]
  },
  {
   "cell_type": "code",
   "execution_count": 24,
   "metadata": {},
   "outputs": [
    {
     "name": "stdout",
     "output_type": "stream",
     "text": [
      "Number of BikePoint Stations: 782\n",
      "Number of docks in all BikePoints: 32241 (11457 empty + 20784 full)\n",
      "Number of broken docks: 927 (~3%)\n",
      "Average number of docks at each BikePoint: 41\n"
     ]
    }
   ],
   "source": [
    "def BikePointsFunc():\n",
    "    api_method = 'BikePoint'\n",
    "    endpoint = root_endpoint + api_method\n",
    "    \n",
    "    res = re.get(endpoint)\n",
    "    \n",
    "    BikePointsNum = []\n",
    "    EmptyDocks = 0\n",
    "    FullDocks = 0\n",
    "    NumBikes = 0\n",
    "    \n",
    "    for dct in res.json():\n",
    "        BikePointsNum.append(dct['id']) # Determine number of BikePoints.\n",
    "        \n",
    "        for addPropListElement in dct['additionalProperties']: # Determine number of empty and full BikePoint docks at each BikePoint.\n",
    "            if addPropListElement['key'] == 'NbEmptyDocks':\n",
    "                EmptyDocks += int(addPropListElement['value'])\n",
    "            if addPropListElement['key'] == 'NbDocks':\n",
    "                FullDocks += int(addPropListElement['value'])\n",
    "            if addPropListElement['key'] == 'NbBikes':\n",
    "                NumBikes += int(addPropListElement['value'])\n",
    "    \n",
    "    # nbDocks - (nbBikes + nbSpaces) != 0\n",
    "    BrokenDocks = FullDocks - (NumBikes + EmptyDocks)\n",
    "    \n",
    "    print('Number of BikePoint Stations:', len(BikePointsNum))\n",
    "    print(f'Number of docks in all BikePoints: {EmptyDocks + FullDocks} ({EmptyDocks} empty + {FullDocks} full)')    \n",
    "    #print(f'Number of bikes: {NumBikes}')\n",
    "    print(f'Number of broken docks: {BrokenDocks} (~{round(927/32245*100)}%)')\n",
    "    print(f'Average number of docks at each BikePoint: {round((EmptyDocks + FullDocks)/len(BikePointsNum))}')\n",
    "    #print(res.json()[0]['additionalProperties'][0]['key'])\n",
    "    #JSON(res.json())\n",
    "    \n",
    "    return #JSON(res.json())\n",
    "\n",
    "BikePointsFunc()"
   ]
  },
  {
   "cell_type": "code",
   "execution_count": null,
   "metadata": {},
   "outputs": [],
   "source": []
  },
  {
   "cell_type": "markdown",
   "metadata": {},
   "source": [
    "## Task\n",
    "How many tube and bus lines are in London? Print names of all tube lines."
   ]
  },
  {
   "cell_type": "code",
   "execution_count": 91,
   "metadata": {},
   "outputs": [
    {
     "name": "stdout",
     "output_type": "stream",
     "text": [
      "Number of bus lines: 676\n",
      "Number of tube lines: 11\n",
      "Tube line name list: ['Bakerloo', 'Central', 'Circle', 'District', 'Hammersmith & City', 'Jubilee', 'Metropolitan', 'Northern', 'Piccadilly', 'Victoria', 'Waterloo & City']\n"
     ]
    }
   ],
   "source": [
    "def LineInfo(modeName):\n",
    "    api_method = 'Line/Mode/'\n",
    "    endpoint = root_endpoint + api_method + modeName\n",
    "    \n",
    "    res = re.get(endpoint)    \n",
    "    \n",
    "    itemNum = 0\n",
    "    \n",
    "    if modeName == 'tube':\n",
    "        tubeNames = []\n",
    "        for dct in res.json():\n",
    "            itemNum += 1\n",
    "            tubeNames.append(dct['name'])\n",
    "    else:\n",
    "        for dct in res.json():\n",
    "            itemNum += 1\n",
    "    \n",
    "    print(f'Number of {modeName} lines: {itemNum}')\n",
    "    if modeName == 'tube':\n",
    "        print(f'Tube line name list: {tubeNames}')\n",
    "    \n",
    "    #print(json.dumps(res.json(), indent=4, sort_keys=True))\n",
    "        \n",
    "    return\n",
    "\n",
    "LineInfo('bus')\n",
    "LineInfo('tube')"
   ]
  },
  {
   "cell_type": "code",
   "execution_count": null,
   "metadata": {},
   "outputs": [],
   "source": []
  },
  {
   "cell_type": "markdown",
   "metadata": {},
   "source": [
    "## Task\n",
    "How many station has `victoria` line?"
   ]
  },
  {
   "cell_type": "code",
   "execution_count": 104,
   "metadata": {},
   "outputs": [
    {
     "name": "stdout",
     "output_type": "stream",
     "text": [
      "Number of stations serving the victoria line: 16\n"
     ]
    }
   ],
   "source": [
    "# Get a list of the stations that serve the given line id\n",
    "\n",
    "def StationServingGivenLine(Line):\n",
    "    api_method = 'Line/'\n",
    "    endpoint = root_endpoint + api_method + Line + '/StopPoints'\n",
    "    \n",
    "    res = re.get(endpoint)    \n",
    "    \n",
    "    lineQuantity = 0\n",
    "    \n",
    "    for dct in res.json():\n",
    "        lineQuantity += 1\n",
    "        \n",
    "    print(f'Number of stations serving the {Line} line: {lineQuantity}')\n",
    "    #print(json.dumps(res.json(), indent=4, sort_keys=True))\n",
    "        \n",
    "    return\n",
    "\n",
    "StationServingGivenLine('victoria')"
   ]
  },
  {
   "cell_type": "markdown",
   "metadata": {},
   "source": [
    "## Task\n",
    "Plan the journey from Heathrow Airport to Tower Bridge using Bus and Tube? Which way is faster? Example output:\n",
    "```\n",
    "Planned duration:\n",
    "Bus: x minutes\n",
    "Tube: y minutes\n",
    "```\n",
    "\n",
    "We need to search the documentation for correct requests and parameters we need."
   ]
  },
  {
   "cell_type": "code",
   "execution_count": 127,
   "metadata": {},
   "outputs": [
    {
     "name": "stdout",
     "output_type": "stream",
     "text": [
      "Fastest bus journey: 104 minutes\n",
      "Fastest tube journey: 81 minutes\n"
     ]
    }
   ],
   "source": [
    "def JourneyPlanner(Start,Dest,Mode):\n",
    "    api_method = '/Journey/JourneyResults/'\n",
    "    endpoint = root_endpoint + api_method + Start + '/to/' + Dest\n",
    "    \n",
    "    res = re.get(endpoint,  #use endpoint and all the parameters we need in a dictionary\n",
    "              params={'mode': Mode})\n",
    "    \n",
    "    journeyTimeList = []\n",
    "    \n",
    "    for journey in res.json()['journeys']:\n",
    "        journeyTimeList.append(journey['duration'])\n",
    "    \n",
    "    print(f'Fastest {Mode} journey: {min(journeyTimeList)} minutes')\n",
    "    \n",
    "    return \n",
    "\n",
    "JourneyPlanner('51.46962511264,-0.44968473098', '51.50599630145,-0.07502752221','bus')\n",
    "JourneyPlanner('51.46962511264,-0.44968473098', '51.50599630145,-0.07502752221','tube')"
   ]
  },
  {
   "cell_type": "markdown",
   "metadata": {},
   "source": []
  },
  {
   "cell_type": "code",
   "execution_count": null,
   "metadata": {},
   "outputs": [],
   "source": []
  },
  {
   "cell_type": "code",
   "execution_count": null,
   "metadata": {},
   "outputs": [],
   "source": []
  }
 ],
 "metadata": {
  "kernelspec": {
   "display_name": "Python 3",
   "language": "python",
   "name": "python3"
  },
  "language_info": {
   "codemirror_mode": {
    "name": "ipython",
    "version": 3
   },
   "file_extension": ".py",
   "mimetype": "text/x-python",
   "name": "python",
   "nbconvert_exporter": "python",
   "pygments_lexer": "ipython3",
   "version": "3.8.8"
  }
 },
 "nbformat": 4,
 "nbformat_minor": 4
}
