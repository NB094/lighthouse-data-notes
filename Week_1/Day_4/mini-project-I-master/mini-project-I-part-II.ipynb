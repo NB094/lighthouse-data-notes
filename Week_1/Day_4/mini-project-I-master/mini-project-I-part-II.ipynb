{
 "cells": [
  {
   "cell_type": "markdown",
   "metadata": {},
   "source": [
    "## Movies\n",
    "In this part of mini-project, we need to have our API-KEY ready because this API won't work without it.\n",
    "\n",
    "We encourage you to look for correct endpoints in [the documentation](https://developers.themoviedb.org/3/account). We can also play around with requests there before copying them to Python."
   ]
  },
  {
   "cell_type": "code",
   "execution_count": 1,
   "metadata": {},
   "outputs": [],
   "source": [
    "import requests as re\n",
    "import os\n",
    "import json\n",
    "import cpi\n",
    "from IPython.display import JSON\n",
    "\n",
    "import numpy as np\n",
    "import pandas as pd\n",
    "from pandas import Series, DataFrame\n",
    "import matplotlib.pyplot as plt"
   ]
  },
  {
   "cell_type": "markdown",
   "metadata": {},
   "source": [
    "## Demo"
   ]
  },
  {
   "cell_type": "code",
   "execution_count": 2,
   "metadata": {},
   "outputs": [],
   "source": [
    "base = \"https://api.themoviedb.org/3\"\n",
    "url = \"/search/movie\"\n",
    "\n",
    "query = 'The Shining'\n",
    "api_key = os.environ[\"TheMovieDB_API_Key\"]\n",
    "params = f'?query={query}&api_key={api_key}' "
   ]
  },
  {
   "cell_type": "code",
   "execution_count": 3,
   "metadata": {},
   "outputs": [],
   "source": [
    "res = re.get(base+url+params)"
   ]
  },
  {
   "cell_type": "code",
   "execution_count": 5,
   "metadata": {},
   "outputs": [
    {
     "data": {
      "text/plain": [
       "200"
      ]
     },
     "execution_count": 5,
     "metadata": {},
     "output_type": "execute_result"
    }
   ],
   "source": [
    "res.status_code"
   ]
  },
  {
   "cell_type": "code",
   "execution_count": 13,
   "metadata": {},
   "outputs": [
    {
     "data": {
      "application/json": {
       "page": 1,
       "results": [
        {
         "adult": false,
         "backdrop_path": "/AdKA2F1SzYPhSZdEbjH1Zh75UVQ.jpg",
         "genre_ids": [
          27,
          53
         ],
         "id": 694,
         "original_language": "en",
         "original_title": "The Shining",
         "overview": "Jack Torrance accepts a caretaker job at the Overlook Hotel, where he, along with his wife Wendy and their son Danny, must live isolated from the rest of the world for the winter. But they aren't prepared for the madness that lurks within.",
         "popularity": 43.944,
         "poster_path": "/b6ko0IKC8MdYBBPkkA1aBPLe2yz.jpg",
         "release_date": "1980-05-23",
         "title": "The Shining",
         "video": false,
         "vote_average": 8.2,
         "vote_count": 13117
        },
        {
         "adult": false,
         "backdrop_path": "/m8PPjY6igKfsMp0wZC1JtmMRgTT.jpg",
         "genre_ids": [
          99
         ],
         "id": 18875,
         "original_language": "en",
         "original_title": "Making The Shining",
         "overview": "Directed and edited by Stanley Kubrick's daughter Vivian Kubrick, this film offers a look behind the scenes during the making of The Shining.",
         "popularity": 4.217,
         "poster_path": "/upBsuweJjBftrkJGqVf8PHCdH0l.jpg",
         "release_date": "1980-10-04",
         "title": "Making The Shining",
         "video": false,
         "vote_average": 7.1,
         "vote_count": 77
        },
        {
         "adult": false,
         "backdrop_path": "/r44SvivavoZ5KNOZtMhbit5S52j.jpg",
         "genre_ids": [
          18,
          10749
         ],
         "id": 111463,
         "original_language": "en",
         "original_title": "The Shining Hour",
         "overview": "A nightclub dancer shakes the foundations of a wealthy farming family after she marries into it.",
         "popularity": 2.608,
         "poster_path": "/pdMSAH2qOt9CVXSqYUSFEGl8LNo.jpg",
         "release_date": "1938-11-18",
         "title": "The Shining Hour",
         "video": false,
         "vote_average": 6.4,
         "vote_count": 12
        },
        {
         "adult": false,
         "backdrop_path": null,
         "genre_ids": [
          10402,
          99
         ],
         "id": 257402,
         "original_language": "en",
         "original_title": "The Shining Future",
         "overview": "Documentary short film intended to drum up support for the Fifth War Loan Campaign. It shows a happy family in the future of 1960 enjoying the prosperity and advantages made possible by the successful prosecution of the war, and how the sacrifices of 1944 have made the world a better place.",
         "popularity": 1.4,
         "poster_path": "/4NA3Gz1ALgHwHGlCTtUkneTzNbh.jpg",
         "release_date": "1944-04-11",
         "title": "The Shining Future",
         "video": false,
         "vote_average": 2,
         "vote_count": 1
        },
        {
         "adult": false,
         "backdrop_path": null,
         "genre_ids": [
          27
         ],
         "id": 267574,
         "original_language": "en",
         "original_title": "The Shining: Forwards and Backwards",
         "overview": "An experimental film comprised of Stanley Kubrick's THE SHINING played forwards and backwards at the same time on the same screen, creating bizarre juxtapositions and startling synchronicities",
         "popularity": 0.863,
         "poster_path": "/vm99XR4Qxc9vuAG25VNxuSm2Z0W.jpg",
         "release_date": "2011-03-09",
         "title": "The Shining: Forwards and Backwards",
         "video": false,
         "vote_average": 0,
         "vote_count": 0
        },
        {
         "adult": false,
         "backdrop_path": null,
         "genre_ids": [],
         "id": 182225,
         "original_language": "en",
         "original_title": "The Shining Code 2.0",
         "overview": "The makers of \"The Shining Code 2.0\" are one of five featured conspiracists in \"Room 237\" who’ve all ascribed different meanings and markers and signifiers to Stanley Kubrick’s 1980 adaptation of Stephen King’s \"The Shining\", in their case that the filmmaker’s ostensible horror movie is actually a coded confession regarding his participation in the faking of the Apollo moon landings...",
         "popularity": 0.6,
         "poster_path": null,
         "release_date": "2012-01-01",
         "title": "The Shining Code 2.0",
         "video": false,
         "vote_average": 0,
         "vote_count": 0
        },
        {
         "adult": false,
         "backdrop_path": null,
         "genre_ids": [
          16
         ],
         "id": 775443,
         "original_language": "fr",
         "original_title": "Short Cuts : The Shining",
         "overview": "",
         "popularity": 0.6,
         "poster_path": null,
         "release_date": "2017-06-15",
         "title": "Short Cuts : The Shining",
         "video": false,
         "vote_average": 5,
         "vote_count": 1
        },
        {
         "adult": false,
         "backdrop_path": null,
         "genre_ids": [],
         "id": 401662,
         "original_language": "en",
         "original_title": "Bigger Than The Shining",
         "overview": "Mark Cousins (The Story of Film: An Odyssey) reflects on questions concerning copyright and the extent to which a film can conform to the associations of the person watching it. Can two people ever really see the same film?",
         "popularity": 0.6,
         "poster_path": null,
         "release_date": "2016-02-03",
         "title": "Bigger Than The Shining",
         "video": false,
         "vote_average": 0,
         "vote_count": 0
        },
        {
         "adult": false,
         "backdrop_path": null,
         "genre_ids": [
          99
         ],
         "id": 228633,
         "original_language": "en",
         "original_title": "View from the Overlook: Crafting 'The Shining'",
         "overview": "An overview of the making of, and a look at the continuing popularity of, Stanley Kubrick's The Shining.",
         "popularity": 0.82,
         "poster_path": "/hasJFizAMYeqeWcYAAgkaufwO38.jpg",
         "release_date": "2007-10-23",
         "title": "View from the Overlook: Crafting 'The Shining'",
         "video": false,
         "vote_average": 7.8,
         "vote_count": 4
        },
        {
         "adult": false,
         "backdrop_path": null,
         "genre_ids": [
          99
         ],
         "id": 258857,
         "original_language": "en",
         "original_title": "Staircases to Nowhere: Making Stanley Kubrick's The Shining",
         "overview": "The full oral history story of the making of Stanley Kubrick's horror masterpiece \"The Shining\".",
         "popularity": 0.905,
         "poster_path": null,
         "release_date": "2013-05-20",
         "title": "Staircases to Nowhere: Making Stanley Kubrick's The Shining",
         "video": false,
         "vote_average": 8.5,
         "vote_count": 2
        },
        {
         "adult": false,
         "backdrop_path": null,
         "genre_ids": [
          99
         ],
         "id": 392507,
         "original_language": "en",
         "original_title": "The Shining Star of Losers Everywhere",
         "overview": "In Japanese, Haru Urara means “Glorious Spring.” But as this 30 for 30 Short, directed by Mickey Duzyj, makes delightfully clear, the name means a great deal more to the Japanese people. Haru Urara was a thoroughbred mare who never won a race. She first came to the public’s attention after her 88th straight loss at troubled Kochi Racetrack, then picked up more and more supporters with each defeat. With her pink Hello Kitty patches, she became a symbol of hope in Japan. And though she never did win, Haru Urara did accomplish something greater: she saved the racetrack.",
         "popularity": 0.6,
         "poster_path": null,
         "release_date": "2016-05-20",
         "title": "The Shining Star of Losers Everywhere",
         "video": false,
         "vote_average": 6,
         "vote_count": 3
        },
        {
         "adult": false,
         "backdrop_path": null,
         "genre_ids": [],
         "id": 269571,
         "original_language": "en",
         "original_title": "Angelina Ballerina: The Shining Star Trophy",
         "overview": "Angelina shines brighter than ever in this all-new movie! Ms. Mimi announces that there’s going to be a big talent show at Camembert Academy – and the winner will walk away with the Shining Star Trophy. With celebrity guest judge Perry Parmesan deciding the winner, every minute of practice counts. But when Angelina goes out of her way to help her friends find their special talents, she has little time to work on her own routine. Who will take center stage and win the Shining Star Trophy? Watch as Angelina follows her heart to become a true shining star!",
         "popularity": 0.6,
         "poster_path": null,
         "release_date": "2011-08-01",
         "title": "Angelina Ballerina: The Shining Star Trophy",
         "video": false,
         "vote_average": 0,
         "vote_count": 0
        },
        {
         "adult": false,
         "backdrop_path": null,
         "genre_ids": [],
         "id": 666517,
         "original_language": "ja",
         "original_title": "舞台 あんさんぶるスターズ! オン・ステージ ～To the shining future～",
         "overview": "The 3rd live-action Ensamble Stars",
         "popularity": 0.6,
         "poster_path": "/xzvANtq9wX3iq6krVJEEEOOgxb7.jpg",
         "release_date": "2018-04-24",
         "title": "Ensemble Stars! On Stage ~To the Shining Future~",
         "video": false,
         "vote_average": 0,
         "vote_count": 0
        },
        {
         "adult": false,
         "backdrop_path": null,
         "genre_ids": [
          18
         ],
         "id": 475008,
         "original_language": "en",
         "original_title": "Shining the Ball",
         "overview": "An attractive young man joins a cricket club and finds that the vice captain may have an unexpected vice...",
         "popularity": 0.6,
         "poster_path": null,
         "release_date": "2005-06-10",
         "title": "Shining the Ball",
         "video": false,
         "vote_average": 0,
         "vote_count": 0
        },
        {
         "adult": false,
         "backdrop_path": "/7SSpqETdnPK49WWPqUATfyciQMI.jpg",
         "genre_ids": [
          16,
          10751
         ],
         "id": 437947,
         "original_language": "ja",
         "original_title": "それいけ!アンパンマン キラキラ星の涙",
         "overview": "Anpanman helps the princess Nandananda to find the The Shining Star's Tear.",
         "popularity": 1.96,
         "poster_path": "/rOLyOzCe8x27EgAiOSVvuHDcmN0.jpg",
         "release_date": "1989-11-03",
         "title": "Go! Anpanman: The Shining Star's Tear",
         "video": false,
         "vote_average": 0,
         "vote_count": 0
        },
        {
         "adult": false,
         "backdrop_path": "/ap6Zc5NDOfbZaMhkRDyghbGeLf0.jpg",
         "genre_ids": [
          27,
          18,
          14,
          53
         ],
         "id": 501170,
         "original_language": "en",
         "original_title": "Doctor Sleep",
         "overview": "Still irrevocably scarred by the trauma he endured as a child at the Overlook, Dan Torrance has fought to find some semblance of peace. But that peace is shattered when he encounters Abra, a courageous teenager with her own powerful extrasensory gift, known as the 'shine'. Instinctively recognising that Dan shares her power, Abra has sought him out, desperate for his help against the merciless Rose the Hat and her followers.",
         "popularity": 25.98,
         "poster_path": "/p69QzIBbN06aTYqRRiCOY1emNBh.jpg",
         "release_date": "2019-10-30",
         "title": "Doctor Sleep",
         "video": false,
         "vote_average": 7.2,
         "vote_count": 2785
        },
        {
         "adult": false,
         "backdrop_path": null,
         "genre_ids": [
          18,
          10770
         ],
         "id": 782181,
         "original_language": "nl",
         "original_title": "Het glinsterend pantser",
         "overview": "After losing sight of each other for 25 years, the paths of three childhood friends cross paths. It concerns successful conductor Victor Slingeland, successful writer Sander Vastenhout and general practitioner Bert Duprez. Slingeland enjoys a reputation as a womanizer. This intrigues Vastenhout who, as is often the case with authors, is without inspiration. Vastenhout sees the unraveling of Slingeland's complex personality as possible new material for a novel. With the help of Dr. Duprez, Vastenhout tries to find out about Slingeland's secret by imitating his behavior and thus challenging him.",
         "popularity": 0.805,
         "poster_path": "/v6yVioZUMGznMHfqwTFahWACMGs.jpg",
         "release_date": "1998-10-23",
         "title": "The Shining Armour",
         "video": false,
         "vote_average": 0,
         "vote_count": 0
        },
        {
         "adult": false,
         "backdrop_path": "/jo9cG2inZr6c8psZ53De93rR6yE.jpg",
         "genre_ids": [
          18,
          10749
         ],
         "id": 660646,
         "original_language": "zh",
         "original_title": "耀眼的你",
         "overview": "Coming Soon",
         "popularity": 0.6,
         "poster_path": "/gWUM1NkjdiUSzH4JpxrIXDIp6ou.jpg",
         "release_date": "2020-01-03",
         "title": "The Shining Girl",
         "video": false,
         "vote_average": 0,
         "vote_count": 0
        },
        {
         "adult": false,
         "backdrop_path": null,
         "genre_ids": [],
         "id": 309688,
         "original_language": "en",
         "original_title": "Bob Marley: Sun Is Shining: The Remixes",
         "overview": "A small package provides a big musical experience in this video from one of reggae's most influential figures. The first Jamaican artist to achieve international stardom, Bob Marley introduced the world to the music of his country. Featuring three versions of Marley's hit \"Sun Is Shining,\" also included are two music videos -- \"The Ibiza Allstars/Island Mix\" and \"The Messy Boys Remix\" -- and the audio track \"Island Mix - Extended Version.\"",
         "popularity": 0.6,
         "poster_path": null,
         "release_date": "1999-01-01",
         "title": "Bob Marley: Sun Is Shining: The Remixes",
         "video": false,
         "vote_average": 0,
         "vote_count": 0
        },
        {
         "adult": false,
         "backdrop_path": null,
         "genre_ids": [],
         "id": 258473,
         "original_language": "zh",
         "original_title": "弧光",
         "overview": "The Shining Arc is a 1989 Chinese drama film directed by Zhang Junzhao.",
         "popularity": 0.6,
         "poster_path": "/hXVCOWmnIbzvzzoLHHLXDE4r3Wx.jpg",
         "release_date": "1989-07-01",
         "title": "The Shining Arc",
         "video": false,
         "vote_average": 0,
         "vote_count": 0
        }
       ],
       "total_pages": 2,
       "total_results": 29
      },
      "text/plain": [
       "<IPython.core.display.JSON object>"
      ]
     },
     "execution_count": 13,
     "metadata": {
      "application/json": {
       "expanded": false,
       "root": "root"
      }
     },
     "output_type": "execute_result"
    }
   ],
   "source": [
    "JSON(res.json())"
   ]
  },
  {
   "cell_type": "markdown",
   "metadata": {},
   "source": [
    "## Task\n",
    "Search for you favorite movie and return the information about the movie:\n",
    "- name\n",
    "- release date\n",
    "- runtime\n",
    "- revenue\n",
    "- length of the overview\n",
    "- number of votes\n",
    "- voting average"
   ]
  },
  {
   "cell_type": "code",
   "execution_count": 4,
   "metadata": {},
   "outputs": [
    {
     "data": {
      "text/plain": [
       "['The Shining',\n",
       " \"He came as the caretaker, but this hotel had its own guardians - who'd been there a long time\",\n",
       " 1980,\n",
       " 44781695,\n",
       " 140655282]"
      ]
     },
     "execution_count": 4,
     "metadata": {},
     "output_type": "execute_result"
    }
   ],
   "source": [
    "def FaveMovie(name):\n",
    "    root_endpoint = \"https://api.themoviedb.org/3\"        \n",
    "    api_method = \"/search/movie\"\n",
    "    endpoint = root_endpoint + api_method\n",
    "    \n",
    "    res = re.get(endpoint, params={'query': name, 'api_key': api_key})\n",
    "    movieID = res.json()['results'][0]['id']\n",
    "    #movieID = TheShiningResults['results'][0]['id']\n",
    "    \n",
    "    api_method = f'/movie/{movieID}'\n",
    "    endpoint = root_endpoint + api_method\n",
    "    res = re.get(endpoint, params={'api_key': api_key})\n",
    "    \n",
    "    title = res.json()['original_title']\n",
    "    tagline = res.json()['tagline']\n",
    "    year = int(res.json()['release_date'][0:4])\n",
    "    revenue = res.json()['revenue']\n",
    "    infl_revenue = round(cpi.inflate(revenue,year))\n",
    "    voteAvg = res.json()['vote_average']\n",
    "    \n",
    "    #infoList = [title, tagline, year, revenue, infl_revenue, voteAvg]\n",
    "    infoList = [title, tagline, year, revenue, infl_revenue]\n",
    "    \n",
    "    return infoList\n",
    "\n",
    "FaveMovie('The Shining')"
   ]
  },
  {
   "cell_type": "code",
   "execution_count": 22,
   "metadata": {},
   "outputs": [
    {
     "name": "stdout",
     "output_type": "stream",
     "text": [
      "For three men the Civil War wasn't hell. It was practice.\n",
      "He came as the caretaker, but this hotel had its own guardians - who'd been there a long time\n",
      "Why So Serious?\n",
      "Your mind is the scene of the crime.\n"
     ]
    }
   ],
   "source": [
    "TheGBUStats = FaveMovie('The Good, the Bad and the Ugly')\n",
    "TheShiningStats = FaveMovie('The Shining')\n",
    "TheDarkKnightStats = FaveMovie('The Dark Knight')\n",
    "InceptionStats = FaveMovie('Inception')\n",
    "\n",
    "print(TheGBUStats[1])\n",
    "print(TheShiningStats[1])\n",
    "print(TheDarkKnightStats[1])\n",
    "print(InceptionStats[1])"
   ]
  },
  {
   "cell_type": "code",
   "execution_count": 17,
   "metadata": {},
   "outputs": [
    {
     "data": {
      "application/json": {
       "adult": false,
       "backdrop_path": "/AdKA2F1SzYPhSZdEbjH1Zh75UVQ.jpg",
       "belongs_to_collection": {
        "backdrop_path": "/8L2bt7OWxrVhZPrFPkyZW4rEXzq.jpg",
        "id": 530064,
        "name": "The Shining Collection",
        "poster_path": "/oeuzvbyE1bCsNUndKv1acHbmtmg.jpg"
       },
       "budget": 19000000,
       "genres": [
        {
         "id": 27,
         "name": "Horror"
        },
        {
         "id": 53,
         "name": "Thriller"
        }
       ],
       "homepage": "",
       "id": 694,
       "imdb_id": "tt0081505",
       "original_language": "en",
       "original_title": "The Shining",
       "overview": "Jack Torrance accepts a caretaker job at the Overlook Hotel, where he, along with his wife Wendy and their son Danny, must live isolated from the rest of the world for the winter. But they aren't prepared for the madness that lurks within.",
       "popularity": 43.944,
       "poster_path": "/b6ko0IKC8MdYBBPkkA1aBPLe2yz.jpg",
       "production_companies": [
        {
         "id": 88,
         "logo_path": null,
         "name": "Hawk Films",
         "origin_country": ""
        },
        {
         "id": 11272,
         "logo_path": null,
         "name": "Peregrine",
         "origin_country": ""
        },
        {
         "id": 174,
         "logo_path": "/IuAlhI9eVC9Z8UQWOIDdWRKSEJ.png",
         "name": "Warner Bros. Pictures",
         "origin_country": "US"
        },
        {
         "id": 734,
         "logo_path": null,
         "name": "Producers Circle",
         "origin_country": ""
        }
       ],
       "production_countries": [
        {
         "iso_3166_1": "US",
         "name": "United States of America"
        },
        {
         "iso_3166_1": "GB",
         "name": "United Kingdom"
        }
       ],
       "release_date": "1980-05-23",
       "revenue": 44781695,
       "runtime": 144,
       "spoken_languages": [
        {
         "english_name": "English",
         "iso_639_1": "en",
         "name": "English"
        }
       ],
       "status": "Released",
       "tagline": "He came as the caretaker, but this hotel had its own guardians - who'd been there a long time",
       "title": "The Shining",
       "video": false,
       "vote_average": 8.2,
       "vote_count": 13118
      },
      "text/plain": [
       "<IPython.core.display.JSON object>"
      ]
     },
     "execution_count": 17,
     "metadata": {
      "application/json": {
       "expanded": false,
       "root": "root"
      }
     },
     "output_type": "execute_result"
    }
   ],
   "source": [
    "JSON(TheShiningDetails)"
   ]
  },
  {
   "cell_type": "code",
   "execution_count": 13,
   "metadata": {},
   "outputs": [
    {
     "name": "stdout",
     "output_type": "stream",
     "text": [
      "Il buono, il brutto, il cattivo\n"
     ]
    }
   ],
   "source": [
    "print(TheGBUStats[0])"
   ]
  },
  {
   "cell_type": "code",
   "execution_count": 49,
   "metadata": {},
   "outputs": [
    {
     "data": {
      "image/png": "[encoded data removed]",
      "text/plain": [
       "<Figure size 432x288 with 1 Axes>"
      ]
     },
     "metadata": {
      "needs_background": "light"
     },
     "output_type": "display_data"
    }
   ],
   "source": [
    "movie_names = [\"The GBU\"+' ('+str(TheGBUStats[2])+')',TheShiningStats[0]+' ('+str(TheShiningStats[2])+')',TheDarkKnightStats[0]+' ('+str(TheDarkKnightStats[2])+')',InceptionStats[0]+' ('+str(InceptionStats[2])+')']\n",
    "\n",
    "original_revenue = [TheGBUStats[3],TheShiningStats[3],TheDarkKnightStats[3],InceptionStats[3]]\n",
    "inflated_revenue = [TheGBUStats[4],TheShiningStats[4],TheDarkKnightStats[4],InceptionStats[4]]\n",
    "\n",
    "width =0.3\n",
    "plt.bar(np.arange(len(original_revenue)), original_revenue, width=width)\n",
    "plt.bar(np.arange(len(inflated_revenue))+ width, inflated_revenue, width=width)\n",
    "plt.xticks(range(len(original_revenue)), movie_names)\n",
    "plt.tick_params(axis = 'x', which = 'major', labelsize = 7)\n",
    "#plt.xlabel('Movie Titles')\n",
    "plt.ylabel('Revenue (Billions)')\n",
    "plt.legend(['Revenue', 'Revenue (inflation adj.)'],loc=2)\n",
    "plt.title(\"Revenue of Nik's Favorite Movies\",fontsize=18)\n",
    "plt.savefig(\"myimage.pdf\", dpi=1200)\n",
    "plt.show()"
   ]
  },
  {
   "cell_type": "markdown",
   "metadata": {},
   "source": [
    "## Task\n",
    "Search for you favorite actor/actress and return the information about him/her:\n",
    "- name\n",
    "- date of birth\n",
    "- place of birth\n",
    "- length of the biography"
   ]
  },
  {
   "cell_type": "code",
   "execution_count": null,
   "metadata": {},
   "outputs": [],
   "source": []
  },
  {
   "cell_type": "code",
   "execution_count": null,
   "metadata": {},
   "outputs": [],
   "source": []
  },
  {
   "cell_type": "code",
   "execution_count": null,
   "metadata": {},
   "outputs": [],
   "source": []
  },
  {
   "cell_type": "markdown",
   "metadata": {},
   "source": [
    "## Task\n",
    "Search for you favorite tv-show and return the information about it:\n",
    "- name\n",
    "- first air date\n",
    "- number of seasons\n",
    "- number of episodes\n",
    "- genres"
   ]
  },
  {
   "cell_type": "code",
   "execution_count": null,
   "metadata": {},
   "outputs": [],
   "source": []
  },
  {
   "cell_type": "code",
   "execution_count": null,
   "metadata": {},
   "outputs": [],
   "source": []
  },
  {
   "cell_type": "code",
   "execution_count": null,
   "metadata": {},
   "outputs": [],
   "source": []
  },
  {
   "cell_type": "markdown",
   "metadata": {},
   "source": [
    "## Task \n",
    "Find top 5 trending:\n",
    "- movies\n",
    "- tv-shows\n",
    "- people"
   ]
  },
  {
   "cell_type": "code",
   "execution_count": null,
   "metadata": {},
   "outputs": [],
   "source": []
  },
  {
   "cell_type": "code",
   "execution_count": null,
   "metadata": {},
   "outputs": [],
   "source": []
  }
 ],
 "metadata": {
  "kernelspec": {
   "display_name": "Python 3",
   "language": "python",
   "name": "python3"
  },
  "language_info": {
   "codemirror_mode": {
    "name": "ipython",
    "version": 3
   },
   "file_extension": ".py",
   "mimetype": "text/x-python",
   "name": "python",
   "nbconvert_exporter": "python",
   "pygments_lexer": "ipython3",
   "version": "3.8.8"
  }
 },
 "nbformat": 4,
 "nbformat_minor": 4
}
