{
 "cells": [
  {
   "cell_type": "code",
   "execution_count": 1,
   "metadata": {},
   "outputs": [],
   "source": [
    "import twitter\n",
    "import requests as re\n",
    "import os\n",
    "import json"
   ]
  },
  {
   "cell_type": "markdown",
   "metadata": {},
   "source": [
    "**Task:** Load the values of access tokens and keys from environmental variables to python variables"
   ]
  },
  {
   "cell_type": "code",
   "execution_count": 2,
   "metadata": {},
   "outputs": [],
   "source": [
    "consumer_key = os.environ['TwitterConsumerKey']\n",
    "consumer_secret = os.environ['TwitterSecretConsumerKey']\n",
    "access_token = os.environ['TwitterAccessToken']\n",
    "access_token_secret = os.environ['TwitterSecretAccessToken']"
   ]
  },
  {
   "cell_type": "code",
   "execution_count": 3,
   "metadata": {},
   "outputs": [],
   "source": [
    "api = twitter.Api(consumer_key=consumer_key,\n",
    "                  consumer_secret=consumer_secret,\n",
    "                  access_token_key=access_token,\n",
    "                  access_token_secret=access_token_secret)"
   ]
  },
  {
   "cell_type": "code",
   "execution_count": 4,
   "metadata": {},
   "outputs": [
    {
     "name": "stdout",
     "output_type": "stream",
     "text": [
      "<class 'twitter.api.Api'>\n"
     ]
    }
   ],
   "source": [
    "# Checking the type of api object\n",
    "print(type(api))"
   ]
  },
  {
   "cell_type": "code",
   "execution_count": 24,
   "metadata": {},
   "outputs": [],
   "source": [
    "## FOLLOWING FUNCTION WILL COLLECT REAL-TIME TWEETS IN OUR COMPUTER\n",
    "\n",
    "# data returned will be for any tweet mentioning strings in the list FILTER\n",
    "#FILTER = ['#datascience']\n",
    "\n",
    "# Languages to filter tweets by is a list. This will be joined by Twitter\n",
    "# to return data mentioning tweets only in the english language.\n",
    "#LANGUAGES = ['en']\n",
    "#SaveLocation = 'C:/Users/Nik/Coding/Compass/Week1/API_challenge-master/TestLocation/output.txt'\n",
    "\n",
    "\n",
    "def main(FILTER, LANGUAGES, SaveLocation):\n",
    "    with open(SaveLocation, 'a') as f:\n",
    "        # api.GetStreamFilter will return a generator that yields one status\n",
    "        # message (i.e., Tweet) at a time as a JSON dictionary.\n",
    "        for line in api.GetStreamFilter(track=FILTER, languages=LANGUAGES):\n",
    "            f.write(json.dumps(line))\n",
    "            f.write('\\n')\n",
    "            \n",
    "          "
   ]
  },
  {
   "cell_type": "code",
   "execution_count": 26,
   "metadata": {},
   "outputs": [
    {
     "name": "stdout",
     "output_type": "stream",
     "text": [
      "usage: main(['#datascience', 'computers', 'math'], ['en','fr'], filepath)\n"
     ]
    }
   ],
   "source": [
    "print(\"usage: main(['#datascience', 'computers', 'math'], ['en','fr'], filepath)\")\n",
    "\n",
    "#main(['#love'],['en'],'C:/Users/Nik/Coding/Compass/Week1/API_challenge-master/TestLocation/output.txt')"
   ]
  },
  {
   "cell_type": "markdown",
   "metadata": {
    "tags": []
   },
   "source": [
    "# Execute function\n",
    "\n",
    "# creating the hashtag list\n",
    "FILTER = []\n",
    "n = int(input(\"Enter the number of hashtags desired to be queried: \"))\n",
    " \n",
    "for i in range(0, n):\n",
    "    ele = input(\"Enter the hashtag: \")\n",
    "    lst.append(ele) # adding the elements\n",
    "    \n",
    "print('Hashtag list: ',lst)\n",
    "\n",
    "\n",
    "# creating the language list\n",
    "LANGUAGES = []\n",
    "n = int(input(\"Enter the number of languages desired to be queried: \"))\n",
    " \n",
    "for i in range(0, n):\n",
    "    ele = input(\"Enter the language abbreviation: \")\n",
    "    lst.append(ele) # adding the elements\n",
    "    \n",
    "print('Language list: ',lst)\n",
    "\n",
    "\n",
    "# specifying the save path\n",
    "SaveLocation = input(\"Specify the path to write output.txt: \")\n",
    "\n",
    "\n",
    "#main(['#love'],['en'],'C:/Users/Nik/Coding/Compass/Week1/API_challenge-master/TestLocation/output.txt')"
   ]
  },
  {
   "cell_type": "markdown",
   "metadata": {},
   "source": [
    "**Task:** Edit function `main` so it can store tweets anywhere (location specified as parameter). The FILTER and LANGUAGES should be parameters as well. Test it with different values and languages."
   ]
  },
  {
   "cell_type": "markdown",
   "metadata": {},
   "source": [
    "**Task:** Create File `stream_tweets.py` that can be executed from the Terminal"
   ]
  },
  {
   "cell_type": "markdown",
   "metadata": {},
   "source": [
    "**Task:** Start storing tweets with either happy smiley (`:)`) or sad smiley (`:(`). We will use this dataset during the NLP section."
   ]
  },
  {
   "cell_type": "code",
   "execution_count": null,
   "metadata": {},
   "outputs": [],
   "source": []
  }
 ],
 "metadata": {
  "kernelspec": {
   "display_name": "Python 3",
   "language": "python",
   "name": "python3"
  },
  "language_info": {
   "codemirror_mode": {
    "name": "ipython",
    "version": 3
   },
   "file_extension": ".py",
   "mimetype": "text/x-python",
   "name": "python",
   "nbconvert_exporter": "python",
   "pygments_lexer": "ipython3",
   "version": "3.8.8"
  }
 },
 "nbformat": 4,
 "nbformat_minor": 4
}
