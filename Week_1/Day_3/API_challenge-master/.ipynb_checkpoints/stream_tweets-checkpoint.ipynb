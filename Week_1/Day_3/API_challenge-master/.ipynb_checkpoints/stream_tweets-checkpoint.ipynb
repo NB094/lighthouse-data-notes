{
 "cells": [
  {
   "cell_type": "code",
   "execution_count": 1,
   "metadata": {},
   "outputs": [
    {
     "ename": "ModuleNotFoundError",
     "evalue": "No module named 'twitter'",
     "output_type": "error",
     "traceback": [
      "\u001b[1;31m---------------------------------------------------------------------------\u001b[0m",
      "\u001b[1;31mModuleNotFoundError\u001b[0m                       Traceback (most recent call last)",
      "\u001b[1;32m~\\AppData\\Local\\Temp/ipykernel_11664/4042648373.py\u001b[0m in \u001b[0;36m<module>\u001b[1;34m\u001b[0m\n\u001b[1;32m----> 1\u001b[1;33m \u001b[1;32mimport\u001b[0m \u001b[0mtwitter\u001b[0m\u001b[1;33m\u001b[0m\u001b[1;33m\u001b[0m\u001b[0m\n\u001b[0m\u001b[0;32m      2\u001b[0m \u001b[1;32mimport\u001b[0m \u001b[0mrequests\u001b[0m \u001b[1;32mas\u001b[0m \u001b[0mre\u001b[0m\u001b[1;33m\u001b[0m\u001b[1;33m\u001b[0m\u001b[0m\n\u001b[0;32m      3\u001b[0m \u001b[1;32mimport\u001b[0m \u001b[0mos\u001b[0m\u001b[1;33m\u001b[0m\u001b[1;33m\u001b[0m\u001b[0m\n\u001b[0;32m      4\u001b[0m \u001b[1;32mimport\u001b[0m \u001b[0mjson\u001b[0m\u001b[1;33m\u001b[0m\u001b[1;33m\u001b[0m\u001b[0m\n",
      "\u001b[1;31mModuleNotFoundError\u001b[0m: No module named 'twitter'"
     ]
    }
   ],
   "source": [
    "import twitter\n",
    "import requests as re\n",
    "import os\n",
    "import json"
   ]
  },
  {
   "cell_type": "markdown",
   "metadata": {},
   "source": [
    "**Task:** Load the values of access tokens and keys from environmental variables to python variables"
   ]
  },
  {
   "cell_type": "code",
   "execution_count": null,
   "metadata": {},
   "outputs": [],
   "source": [
    "consumer_key = os.environ['TwitterConsumerKey']\n",
    "consumer_secret = os.environ['TwitterSecretConsumerKey']\n",
    "access_token = os.environ['TwitterAccessToken']\n",
    "access_token_secret = os.environ['TwitterSecretAccessToken']"
   ]
  },
  {
   "cell_type": "code",
   "execution_count": null,
   "metadata": {},
   "outputs": [],
   "source": [
    "api = twitter.Api(consumer_key=consumer_key,\n",
    "                  consumer_secret=consumer_secret,\n",
    "                  access_token_key=access_token,\n",
    "                  access_token_secret=access_token_secret)"
   ]
  },
  {
   "cell_type": "code",
   "execution_count": null,
   "metadata": {},
   "outputs": [],
   "source": [
    "# Checking the type of api object\n",
    "print(type(api))"
   ]
  },
  {
   "cell_type": "code",
   "execution_count": null,
   "metadata": {},
   "outputs": [],
   "source": [
    "## FOLLOWING FUNCTION WILL COLLECT REAL-TIME TWEETS IN OUR COMPUTER\n",
    "\n",
    "# data returned will be for any tweet mentioning strings in the list FILTER\n",
    "#FILTER = ['#datascience']\n",
    "\n",
    "# Languages to filter tweets by is a list. This will be joined by Twitter\n",
    "# to return data mentioning tweets only in the english language.\n",
    "#LANGUAGES = ['en']\n",
    "#SaveLocation = 'C:/Users/Nik/Coding/Compass/Week1/API_challenge-master/TestLocation/output.txt'\n",
    "\n",
    "\n",
    "def main(FILTER, LANGUAGES, SaveLocation):\n",
    "    with open(SaveLocation, 'a') as f:\n",
    "        # api.GetStreamFilter will return a generator that yields one status\n",
    "        # message (i.e., Tweet) at a time as a JSON dictionary.\n",
    "        for line in api.GetStreamFilter(track=FILTER, languages=LANGUAGES):\n",
    "            f.write(json.dumps(line))\n",
    "            f.write('\\n')\n",
    "\n",
    "#GetStreamFilter is a twitter Python method, not a Twitter API method. The \"track\" filter goes through the message contents.\n",
    "          "
   ]
  },
  {
   "cell_type": "code",
   "execution_count": null,
   "metadata": {},
   "outputs": [],
   "source": [
    "#print(\"usage: main(['#datascience', 'computers', 'math'], ['en','fr'], filepath)\")\n",
    "\n",
    "main([':)',':('],['en'],'C:/Users/Nik/Coding/Compass/NOTES/Week_8/Day_4/tweets.txt')"
   ]
  },
  {
   "cell_type": "markdown",
   "metadata": {},
   "source": [
    "**Task:** Edit function `main` so it can store tweets anywhere (location specified as parameter). The FILTER and LANGUAGES should be parameters as well. Test it with different values and languages."
   ]
  },
  {
   "cell_type": "markdown",
   "metadata": {},
   "source": [
    "**Task:** Create File `stream_tweets.py` that can be executed from the Terminal"
   ]
  },
  {
   "cell_type": "markdown",
   "metadata": {},
   "source": [
    "**Task:** Start storing tweets with either happy smiley (`:)`) or sad smiley (`:(`). We will use this dataset during the NLP section."
   ]
  },
  {
   "cell_type": "code",
   "execution_count": null,
   "metadata": {},
   "outputs": [],
   "source": []
  }
 ],
 "metadata": {
  "kernelspec": {
   "display_name": "Python 3 (ipykernel)",
   "language": "python",
   "name": "python3"
  },
  "language_info": {
   "codemirror_mode": {
    "name": "ipython",
    "version": 3
   },
   "file_extension": ".py",
   "mimetype": "text/x-python",
   "name": "python",
   "nbconvert_exporter": "python",
   "pygments_lexer": "ipython3",
   "version": "3.7.10"
  }
 },
 "nbformat": 4,
 "nbformat_minor": 4
}
