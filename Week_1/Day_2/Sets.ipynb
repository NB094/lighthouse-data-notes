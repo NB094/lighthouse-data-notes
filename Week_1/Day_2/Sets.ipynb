{
 "cells": [
  {
   "cell_type": "markdown",
   "id": "dd50206e-948d-402c-b4ab-290c117492a1",
   "metadata": {},
   "source": [
    "# Sets"
   ]
  },
  {
   "cell_type": "markdown",
   "id": "5d22ce9b-5df5-4d68-b73f-d15b8cad4bbd",
   "metadata": {},
   "source": [
    "Python’s built-in set type has the following characteristics:\n",
    "\n",
    "* Sets are unordered.\n",
    "* Set elements are unique. Duplicate elements are not allowed.\n",
    "* A set itself may be modified, but the elements contained in the set must be of an immutable type.\n",
    "\n",
    "https://realpython.com/python-sets/"
   ]
  },
  {
   "cell_type": "code",
   "execution_count": 3,
   "id": "385120f9-d294-4f7c-b9d0-e1aeb81c7802",
   "metadata": {},
   "outputs": [
    {
     "data": {
      "text/plain": [
       "{'bar', 'baz', 'foo', 'qux'}"
      ]
     },
     "execution_count": 3,
     "metadata": {},
     "output_type": "execute_result"
    }
   ],
   "source": [
    "x = set(['foo', 'bar', 'baz', 'foo', 'qux'])\n",
    "x"
   ]
  },
  {
   "cell_type": "code",
   "execution_count": 5,
   "id": "9c3b26a3-2047-437a-9aae-fec64f572b73",
   "metadata": {},
   "outputs": [
    {
     "name": "stdout",
     "output_type": "stream",
     "text": [
      "['q', 'u', 'u', 'x']\n",
      "{'x', 'q', 'u'}\n"
     ]
    }
   ],
   "source": [
    "s = 'quux'\n",
    "\n",
    "print(list(s))\n",
    "\n",
    "print(set(s))"
   ]
  },
  {
   "cell_type": "code",
   "execution_count": 6,
   "id": "15ceae80-7092-4292-b13b-ce9e8a1dcbd5",
   "metadata": {},
   "outputs": [
    {
     "data": {
      "text/plain": [
       "{'q', 'u', 'x'}"
      ]
     },
     "execution_count": 6,
     "metadata": {},
     "output_type": "execute_result"
    }
   ],
   "source": [
    "# Curly braces can also be used to define sets.\n",
    "\n",
    "x = {'q', 'u', 'u', 'x'}\n",
    "x\n",
    "\n",
    "# The only way to define an empty set is with the set() function"
   ]
  },
  {
   "cell_type": "markdown",
   "id": "f1f6e404-2a87-4d9c-9f0e-59b4adc4eeed",
   "metadata": {},
   "source": [
    "## Operators vs. Methods"
   ]
  },
  {
   "cell_type": "code",
   "execution_count": 7,
   "id": "99faa36d-0a25-4fb3-beca-db8f45b2b55e",
   "metadata": {},
   "outputs": [
    {
     "data": {
      "text/plain": [
       "{'bar', 'baz', 'foo', 'quux', 'qux'}"
      ]
     },
     "execution_count": 7,
     "metadata": {},
     "output_type": "execute_result"
    }
   ],
   "source": [
    "# Set unions: performed with the | operator.\n",
    "x1 = {'foo', 'bar', 'baz'}\n",
    "x2 = {'baz', 'qux', 'quux'}\n",
    "x1 | x2"
   ]
  },
  {
   "cell_type": "code",
   "execution_count": 8,
   "id": "12ba5642-986c-47ef-a8f4-63a2f8f3cf88",
   "metadata": {},
   "outputs": [
    {
     "data": {
      "text/plain": [
       "{'bar', 'baz', 'foo', 'quux', 'qux'}"
      ]
     },
     "execution_count": 8,
     "metadata": {},
     "output_type": "execute_result"
    }
   ],
   "source": [
    "# The Method method.\n",
    "x1.union(x2)"
   ]
  },
  {
   "cell_type": "markdown",
   "id": "aec016a6-35ba-40c5-a006-b81f75828e85",
   "metadata": {},
   "source": [
    "There is a subtle difference between these. When you use the | operator, both operands must be sets. The .union() method, on the other hand, will take any iterable as an argument, convert it to a set, and then perform the union.\n",
    "\n",
    "For example..."
   ]
  },
  {
   "cell_type": "code",
   "execution_count": 10,
   "id": "302cc095-b7b8-4d01-8257-f15b2e5d918d",
   "metadata": {},
   "outputs": [
    {
     "ename": "TypeError",
     "evalue": "unsupported operand type(s) for |: 'set' and 'tuple'",
     "output_type": "error",
     "traceback": [
      "\u001b[1;31m---------------------------------------------------------------------------\u001b[0m",
      "\u001b[1;31mTypeError\u001b[0m                                 Traceback (most recent call last)",
      "\u001b[1;32m<ipython-input-10-d83d33f7fbad>\u001b[0m in \u001b[0;36m<module>\u001b[1;34m\u001b[0m\n\u001b[1;32m----> 1\u001b[1;33m \u001b[0mx1\u001b[0m \u001b[1;33m|\u001b[0m \u001b[1;33m(\u001b[0m\u001b[1;34m'baz'\u001b[0m\u001b[1;33m,\u001b[0m \u001b[1;34m'qux'\u001b[0m\u001b[1;33m,\u001b[0m \u001b[1;34m'quux'\u001b[0m\u001b[1;33m)\u001b[0m\u001b[1;33m\u001b[0m\u001b[1;33m\u001b[0m\u001b[0m\n\u001b[0m",
      "\u001b[1;31mTypeError\u001b[0m: unsupported operand type(s) for |: 'set' and 'tuple'"
     ]
    }
   ],
   "source": [
    "# Generates an error.\n",
    "\n",
    "x1 | ('baz', 'qux', 'quux')"
   ]
  },
  {
   "cell_type": "code",
   "execution_count": 12,
   "id": "bd0b0845-59ba-400d-a12e-6e718d874c33",
   "metadata": {},
   "outputs": [
    {
     "data": {
      "text/plain": [
       "{'bar', 'baz', 'foo', 'quux', 'qux'}"
      ]
     },
     "execution_count": 12,
     "metadata": {},
     "output_type": "execute_result"
    }
   ],
   "source": [
    "x1.union(('baz', 'qux', 'quux'))"
   ]
  },
  {
   "cell_type": "code",
   "execution_count": 13,
   "id": "05fcafe0-a48e-4896-86d6-a5e486781c4d",
   "metadata": {},
   "outputs": [
    {
     "data": {
      "text/plain": [
       "{1, 2, 3, 4, 5, 6, 7}"
      ]
     },
     "execution_count": 13,
     "metadata": {},
     "output_type": "execute_result"
    }
   ],
   "source": [
    "# Unions: The resulting set contains all elements that are present in any of the specified sets.\n",
    "\n",
    "a = {1, 2, 3, 4}\n",
    "b = {2, 3, 4, 5}\n",
    "c = {3, 4, 5, 6}\n",
    "d = {4, 5, 6, 7}\n",
    "\n",
    "a.union(b, c, d)\n",
    "\n",
    "\n",
    "a | b | c | d"
   ]
  },
  {
   "cell_type": "code",
   "execution_count": 14,
   "id": "c7f4e863-0edb-420b-9f52-c3ed10988eaa",
   "metadata": {},
   "outputs": [
    {
     "data": {
      "text/plain": [
       "{'baz'}"
      ]
     },
     "execution_count": 14,
     "metadata": {},
     "output_type": "execute_result"
    }
   ],
   "source": [
    "# Intersections: returns the set of elements common to both x1 and x2.\n",
    "\n",
    "x1 = {'foo', 'bar', 'baz'}\n",
    "x2 = {'baz', 'qux', 'quux'}\n",
    "\n",
    "x1.intersection(x2)\n",
    "\n",
    "\n",
    "x1 & x2"
   ]
  },
  {
   "cell_type": "code",
   "execution_count": 16,
   "id": "57180afe-2261-406b-83c0-6d9ee64eb251",
   "metadata": {},
   "outputs": [
    {
     "data": {
      "text/plain": [
       "{'bar', 'foo'}"
      ]
     },
     "execution_count": 16,
     "metadata": {},
     "output_type": "execute_result"
    }
   ],
   "source": [
    "# Differences:   x1.difference(x2) and x1 - x2 return the set of all elements that are in x1 but not in x2:\n",
    "x1 = {'foo', 'bar', 'baz'}\n",
    "x2 = {'baz', 'qux', 'quux'}\n",
    "\n",
    "x1.difference(x2)\n",
    "\n",
    "\n",
    "x1 - x2\n",
    "\n",
    "# Another way to think of this is that x1.difference(x2) and x1 - x2 return the set that results when any elements in x2 are removed or subtracted from x1."
   ]
  },
  {
   "cell_type": "code",
   "execution_count": 17,
   "id": "3707b96d-19a9-4de1-aa89-10ac7e5e0fed",
   "metadata": {},
   "outputs": [
    {
     "data": {
      "text/plain": [
       "{1, 2, 3}"
      ]
     },
     "execution_count": 17,
     "metadata": {},
     "output_type": "execute_result"
    }
   ],
   "source": [
    "# You can specify more than 2 sets for a lot of these methods.\n",
    "\n",
    "a = {1, 2, 3, 30, 300}\n",
    "b = {10, 20, 30, 40}\n",
    "c = {100, 200, 300, 400}\n",
    "\n",
    "a.difference(b, c)\n",
    "\n",
    "\n",
    "a - b - c\n"
   ]
  },
  {
   "cell_type": "code",
   "execution_count": 19,
   "id": "46d6bef1-721e-4b3a-9fed-c27e60f4bc8d",
   "metadata": {},
   "outputs": [
    {
     "data": {
      "text/plain": [
       "{'bar', 'foo', 'quux', 'qux'}"
      ]
     },
     "execution_count": 19,
     "metadata": {},
     "output_type": "execute_result"
    }
   ],
   "source": [
    "# x1.symmetric_difference(x2) and x1 ^ x2 return the set of all elements in either x1 or x2, but not both:\n",
    "\n",
    "x1 = {'foo', 'bar', 'baz'}\n",
    "x2 = {'baz', 'qux', 'quux'}\n",
    "\n",
    "x1.symmetric_difference(x2)\n",
    "\n",
    "\n",
    "x1 ^ x2\n",
    "\n",
    "# Curiously, although the ^ operator allows multiple sets, the .symmetric_difference() method doesn’t."
   ]
  },
  {
   "cell_type": "code",
   "execution_count": 25,
   "id": "2fd3d556-cf15-4ce0-aa87-d53f4d16db80",
   "metadata": {},
   "outputs": [
    {
     "name": "stdout",
     "output_type": "stream",
     "text": [
      "False\n",
      "{'qux', 'quux'}\n",
      "True\n"
     ]
    }
   ],
   "source": [
    "# x1.isdisjoint(x2) returns True if x1 and x2 have no elements in common:\n",
    "\n",
    "x1 = {'foo', 'bar', 'baz'}\n",
    "x2 = {'baz', 'qux', 'quux'}\n",
    "\n",
    "print(x1.isdisjoint(x2))\n",
    "\n",
    "\n",
    "print(x2 - {'baz'})\n",
    "\n",
    "print(x1.isdisjoint(x2 - {'baz'}))"
   ]
  },
  {
   "cell_type": "code",
   "execution_count": 26,
   "id": "c636f78d-6e49-4123-a3c9-c13c6c674f5a",
   "metadata": {},
   "outputs": [
    {
     "name": "stdout",
     "output_type": "stream",
     "text": [
      "True\n",
      "set()\n"
     ]
    }
   ],
   "source": [
    "# If x1.isdisjoint(x2) is True, then x1 & x2 is the empty set:\n",
    "\n",
    "x1 = {1, 3, 5}\n",
    "x2 = {2, 4, 6}\n",
    "\n",
    "print(x1.isdisjoint(x2))\n",
    "\n",
    "print(x1 & x2)\n",
    "\n",
    "\n",
    "# Note: There is no operator that corresponds to the .isdisjoint() method."
   ]
  },
  {
   "cell_type": "code",
   "execution_count": 27,
   "id": "81f3a61f-54a6-408d-91e2-11bd9608ec7b",
   "metadata": {},
   "outputs": [
    {
     "name": "stdout",
     "output_type": "stream",
     "text": [
      "True\n",
      "False\n"
     ]
    }
   ],
   "source": [
    "# In set theory, a set x1 is considered a subset of another set x2 if every element of x1 is in x2.\n",
    "\n",
    "x1 = {'foo', 'bar', 'baz'}\n",
    "print(x1.issubset({'foo', 'bar', 'baz', 'qux', 'quux'}))\n",
    "\n",
    "\n",
    "x2 = {'baz', 'qux', 'quux'}\n",
    "print(x1 <= x2)"
   ]
  },
  {
   "cell_type": "markdown",
   "id": "f4a31c95-a07e-46af-83de-e60a69b13b63",
   "metadata": {},
   "source": [
    "x1 < x2   Determines whether one set is a proper subset of the other\n",
    "\n",
    "A proper subset is the same as a subset, except that the sets can’t be identical. A set x1 is considered a proper subset of another set x2 if every element of x1 is in x2, and x1 and x2 are not equal."
   ]
  },
  {
   "cell_type": "code",
   "execution_count": 28,
   "id": "a496baac-2024-44ad-95cb-44346b05d72f",
   "metadata": {},
   "outputs": [
    {
     "name": "stdout",
     "output_type": "stream",
     "text": [
      "True\n",
      "False\n"
     ]
    }
   ],
   "source": [
    "x1 = {'foo', 'bar'}\n",
    "x2 = {'foo', 'bar', 'baz'}\n",
    "print(x1 < x2)\n",
    "\n",
    "\n",
    "x1 = {'foo', 'bar', 'baz'}\n",
    "x2 = {'foo', 'bar', 'baz'}\n",
    "print(x1 < x2)"
   ]
  },
  {
   "cell_type": "code",
   "execution_count": 29,
   "id": "76f1b2fc-6497-4f23-a159-a3644c4420ec",
   "metadata": {},
   "outputs": [
    {
     "name": "stdout",
     "output_type": "stream",
     "text": [
      "True\n",
      "False\n"
     ]
    }
   ],
   "source": [
    "# A superset is the reverse of a subset. A set x1 is considered a superset of another set x2 if x1 contains every element of x2.\n",
    "\n",
    "x1 = {'foo', 'bar', 'baz'}\n",
    "\n",
    "print(x1.issuperset({'foo', 'bar'}))\n",
    "\n",
    "\n",
    "x2 = {'baz', 'qux', 'quux'}\n",
    "print(x1 >= x2)"
   ]
  },
  {
   "cell_type": "markdown",
   "id": "e30b8e6c-8582-4dfa-bf0f-85fdac55c935",
   "metadata": {},
   "source": [
    "A proper superset is the same as a superset, except that the sets can’t be identical. A set x1 is considered a proper superset of another set x2 if x1 contains every element of x2, and x1 and x2 are not equal."
   ]
  },
  {
   "cell_type": "markdown",
   "id": "a3f15114-9bdb-4a3d-bdf1-74ff2eb9cd04",
   "metadata": {},
   "source": [
    "## Modifying a Set"
   ]
  },
  {
   "cell_type": "code",
   "execution_count": null,
   "id": "ccdbaa31-0a8c-478d-8c8a-f736dfbb540b",
   "metadata": {},
   "outputs": [],
   "source": [
    "# x1.update(x2) and x1 |= x2 add to x1 any elements in x2 that x1 does not already have.\n",
    "\n",
    "# x1.intersection_update(x2) and x1 &= x2 update x1, retaining only elements found in both x1 and x2\n",
    "\n",
    "# x1.difference_update(x2) and x1 -= x2 update x1, removing elements found in x2\n",
    "\n",
    "# x1.symmetric_difference_update(x2) and x1 ^= x2 update x1, retaining elements found in either x1 or x2, but not both"
   ]
  },
  {
   "cell_type": "code",
   "execution_count": 31,
   "id": "3acbcff7-208e-41c3-962f-d8c9543941af",
   "metadata": {},
   "outputs": [
    {
     "data": {
      "text/plain": [
       "{'bar', 'baz', 'foo', 'qux'}"
      ]
     },
     "execution_count": 31,
     "metadata": {},
     "output_type": "execute_result"
    }
   ],
   "source": [
    "# x.add(<elem>) adds <elem>, which must be a single immutable object, to x:\n",
    "\n",
    "x = {'foo', 'bar', 'baz'}\n",
    "\n",
    "x.add('qux')\n",
    "x"
   ]
  },
  {
   "cell_type": "code",
   "execution_count": null,
   "id": "cb17c09f-080f-4dc8-a7d3-5aba4cb65f92",
   "metadata": {},
   "outputs": [],
   "source": [
    "# x.remove(<elem>) removes <elem> from x. Python raises an exception if <elem> is not in x\n",
    "\n",
    "# x.discard(<elem>) also removes <elem> from x. However, if <elem> is not in x, this method quietly does nothing instead of raising an exception\n",
    "\n",
    "# x.pop() removes and returns an arbitrarily chosen element from x. If x is empty, x.pop() raises an exception\n",
    "\n",
    "# x.clear() removes all elements from x"
   ]
  },
  {
   "cell_type": "markdown",
   "id": "30e2325a-f985-4d01-9314-d1e608a15062",
   "metadata": {},
   "source": [
    "## Frozen Sets"
   ]
  },
  {
   "cell_type": "code",
   "execution_count": 32,
   "id": "06dcdf65-895c-468d-b91e-145e1ce3d071",
   "metadata": {},
   "outputs": [
    {
     "name": "stdout",
     "output_type": "stream",
     "text": [
      "frozenset({'baz', 'foo', 'bar'})\n",
      "3\n",
      "frozenset({'baz'})\n"
     ]
    }
   ],
   "source": [
    "# exactly like a set, except that a frozenset is immutable. You can perform non-modifying operations on a frozenset:\n",
    "\n",
    "x = frozenset(['foo', 'bar', 'baz'])\n",
    "print(x)\n",
    "\n",
    "\n",
    "print(len(x))\n",
    "\n",
    "\n",
    "print(x & {'baz', 'qux', 'quux'})\n"
   ]
  },
  {
   "cell_type": "code",
   "execution_count": null,
   "id": "ab1e210d-ed96-4555-9eec-379e81adaded",
   "metadata": {},
   "outputs": [],
   "source": [
    "# But methods that attempt to modify a frozenset fail.  E.g.:\n",
    "\n",
    "x = frozenset(['foo', 'bar', 'baz'])\n",
    "\n",
    "x.add('qux')"
   ]
  },
  {
   "cell_type": "markdown",
   "id": "89ec6ccb-3486-4e08-ab53-a56d381922a8",
   "metadata": {},
   "source": [
    "Frozensets are useful in situations where you want to use a set, but you need an immutable object. For example, you can’t define a set whose elements are also sets, because set elements must be immutable:"
   ]
  }
 ],
 "metadata": {
  "kernelspec": {
   "display_name": "Python 3",
   "language": "python",
   "name": "python3"
  },
  "language_info": {
   "codemirror_mode": {
    "name": "ipython",
    "version": 3
   },
   "file_extension": ".py",
   "mimetype": "text/x-python",
   "name": "python",
   "nbconvert_exporter": "python",
   "pygments_lexer": "ipython3",
   "version": "3.8.8"
  }
 },
 "nbformat": 4,
 "nbformat_minor": 5
}
