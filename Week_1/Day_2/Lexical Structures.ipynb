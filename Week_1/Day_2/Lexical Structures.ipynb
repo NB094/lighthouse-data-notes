{
 "cells": [
  {
   "cell_type": "markdown",
   "id": "7a122da5-1768-4db0-abda-640438ebc1b7",
   "metadata": {},
   "source": [
    "## Implicit Line Continuation"
   ]
  },
  {
   "cell_type": "code",
   "execution_count": 1,
   "id": "b3e7dfb0-3333-4f2d-8a57-28c6a024fb7d",
   "metadata": {},
   "outputs": [
    {
     "data": {
      "text/plain": [
       "[[1, 2, 3, 4, 5],\n",
       " [6, 7, 8, 9, 10],\n",
       " [11, 12, 13, 14, 15],\n",
       " [16, 17, 18, 19, 20],\n",
       " [21, 22, 23, 24, 25]]"
      ]
     },
     "execution_count": 1,
     "metadata": {},
     "output_type": "execute_result"
    }
   ],
   "source": [
    "a = [\n",
    "    [1, 2, 3, 4, 5],\n",
    "    [6, 7, 8, 9, 10],\n",
    "    [11, 12, 13, 14, 15],\n",
    "    [16, 17, 18, 19, 20],\n",
    "    [21, 22, 23, 24, 25]\n",
    "]\n",
    "\n",
    "a\n"
   ]
  },
  {
   "cell_type": "code",
   "execution_count": 4,
   "id": "6d9df965-db84-47bd-9c56-5cc35f026a5e",
   "metadata": {},
   "outputs": [
    {
     "data": {
      "text/plain": [
       "True"
      ]
     },
     "execution_count": 4,
     "metadata": {},
     "output_type": "execute_result"
    }
   ],
   "source": [
    "person1_age = 15\n",
    "person2_age = 21\n",
    "person3_age = 30\n",
    "\n",
    "someone_is_of_working_age = (\n",
    "    (person1_age >= 18 and person1_age <= 65)\n",
    "    or (person2_age >= 18 and person2_age <= 65)\n",
    "    or (person3_age >= 18 and person3_age <= 65)\n",
    ")\n",
    "\n",
    "someone_is_of_working_age\n"
   ]
  },
  {
   "cell_type": "code",
   "execution_count": 5,
   "id": "af154f54-9590-4e7a-8ca2-b2de580440d5",
   "metadata": {},
   "outputs": [
    {
     "data": {
      "text/plain": [
       "21"
      ]
     },
     "execution_count": 5,
     "metadata": {},
     "output_type": "execute_result"
    }
   ],
   "source": [
    "x = (\n",
    "    1 + 2\n",
    "    + 3 + 4\n",
    "    + 5 + 6\n",
    ")\n",
    "x"
   ]
  },
  {
   "cell_type": "code",
   "execution_count": 6,
   "id": "887006ec-f29e-49d0-9d79-19bb71e31aed",
   "metadata": {},
   "outputs": [
    {
     "data": {
      "text/plain": [
       "'---abc---'"
      ]
     },
     "execution_count": 6,
     "metadata": {},
     "output_type": "execute_result"
    }
   ],
   "source": [
    "'abc'.center(\n",
    "    9,\n",
    "    '-'\n",
    ")"
   ]
  },
  {
   "cell_type": "code",
   "execution_count": 7,
   "id": "7191a1cd-92e3-48db-beba-0adf9769c5f8",
   "metadata": {},
   "outputs": [],
   "source": [
    "d = {\n",
    "    'a': 1,\n",
    "    'b': 2\n",
    "}"
   ]
  },
  {
   "cell_type": "markdown",
   "id": "661c66df-d88e-4bae-9e17-f9312b854323",
   "metadata": {},
   "source": [
    "## Explicit Line Continuation"
   ]
  },
  {
   "cell_type": "code",
   "execution_count": 11,
   "id": "6cdeac9a-b937-455f-adb5-ef55a471b3a9",
   "metadata": {},
   "outputs": [
    {
     "data": {
      "text/plain": [
       "'Hello, World!'"
      ]
     },
     "execution_count": 11,
     "metadata": {},
     "output_type": "execute_result"
    }
   ],
   "source": [
    "# PEP 8 recommends using explicit line continuation only when implicit line continuation is not feasible.\n",
    "\n",
    "s = \\\n",
    "'Hello, World!'\n",
    "s"
   ]
  },
  {
   "cell_type": "code",
   "execution_count": 9,
   "id": "82e36d5b-022f-4f9e-81c8-ce662ed15c3b",
   "metadata": {},
   "outputs": [
    {
     "data": {
      "text/plain": [
       "21"
      ]
     },
     "execution_count": 9,
     "metadata": {},
     "output_type": "execute_result"
    }
   ],
   "source": [
    "x = 1 + 2 \\\n",
    "    + 3 + 4 \\\n",
    "    + 5 + 6\n",
    "x"
   ]
  },
  {
   "cell_type": "markdown",
   "id": "2a2bdaa1-da75-4d0c-9796-7749d99dc58d",
   "metadata": {},
   "source": [
    "## Multiple Statements Per Line"
   ]
  },
  {
   "cell_type": "code",
   "execution_count": 12,
   "id": "154694e3-bea8-4c8b-ac19-03bef8a4d9f6",
   "metadata": {},
   "outputs": [
    {
     "name": "stdout",
     "output_type": "stream",
     "text": [
      "1\n",
      "2\n",
      "3\n"
     ]
    }
   ],
   "source": [
    "x = 1; y = 2; z = 3\n",
    "print(x); print(y); print(z)"
   ]
  },
  {
   "cell_type": "code",
   "execution_count": 13,
   "id": "064779e2-5fb9-42f0-8e14-d48611fb01c4",
   "metadata": {},
   "outputs": [
    {
     "name": "stdout",
     "output_type": "stream",
     "text": [
      "1\n",
      "2\n",
      "3\n"
     ]
    }
   ],
   "source": [
    "# More desirable:\n",
    "x, y, z = 1, 2, 3\n",
    "print(x, y, z, sep='\\n')"
   ]
  },
  {
   "cell_type": "markdown",
   "id": "25a9b4c6-43a6-426c-87ca-77f37784075c",
   "metadata": {},
   "source": [
    "## Comments"
   ]
  },
  {
   "cell_type": "code",
   "execution_count": 14,
   "id": "ae177362-2530-46d7-bb9e-429fbeea65ce",
   "metadata": {},
   "outputs": [],
   "source": [
    "# Normally just done with a hashtag"
   ]
  },
  {
   "cell_type": "code",
   "execution_count": 15,
   "id": "bc4def7a-db0b-4b7a-96cb-2a83bd0186a3",
   "metadata": {},
   "outputs": [
    {
     "data": {
      "text/plain": [
       "'Multi-line comments can be achieved with triple-quotes.\\n\\nAlthough, this type of commenting is typically reserved for docstrings (function descriptions). Therefore, hashtags on each line is preferable for multi-line comments.\\n'"
      ]
     },
     "execution_count": 15,
     "metadata": {},
     "output_type": "execute_result"
    }
   ],
   "source": [
    "\"\"\"Multi-line comments can be achieved with triple-quotes.\n",
    "\n",
    "Although, this type of commenting is typically reserved for docstrings (function descriptions). Therefore, hashtags on each line is preferable for multi-line comments.\n",
    "\"\"\""
   ]
  },
  {
   "cell_type": "markdown",
   "id": "6442d4eb-d35e-4b5b-9085-a6089ce0b634",
   "metadata": {},
   "source": [
    "## Whitespace"
   ]
  },
  {
   "cell_type": "code",
   "execution_count": null,
   "id": "f0c15fc6-40e2-4b4b-9ac8-4bcc71ee34c0",
   "metadata": {},
   "outputs": [],
   "source": [
    "# Technically is needed only to distinguish one token from the next. Example:\n",
    "# for x in....  (correct)\n",
    "# vs.\n",
    "# for xin....   (incorrect)"
   ]
  }
 ],
 "metadata": {
  "kernelspec": {
   "display_name": "Python 3",
   "language": "python",
   "name": "python3"
  },
  "language_info": {
   "codemirror_mode": {
    "name": "ipython",
    "version": 3
   },
   "file_extension": ".py",
   "mimetype": "text/x-python",
   "name": "python",
   "nbconvert_exporter": "python",
   "pygments_lexer": "ipython3",
   "version": "3.8.8"
  }
 },
 "nbformat": 4,
 "nbformat_minor": 5
}
