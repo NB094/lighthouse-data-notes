{
 "cells": [
  {
   "cell_type": "markdown",
   "id": "3144b14d-7e1b-4182-a01b-5a690cfc26bd",
   "metadata": {},
   "source": [
    "try :\n",
    "    #statements in try block\n",
    "except :\n",
    "    #executed when error in try block"
   ]
  },
  {
   "cell_type": "markdown",
   "id": "5d594038-36f2-46ab-9049-66e60a720670",
   "metadata": {},
   "source": [
    "There may be multiple except clauses with different exception types in a single try block. If the type of exception doesn't match any of the except blocks, it will remain unhandled and the program will terminate.\n",
    "\n",
    "The rest of the statements after the except block will continue to be executed, regardless if the exception is encountered or not."
   ]
  },
  {
   "cell_type": "code",
   "execution_count": 1,
   "id": "19b6cc26-f04e-49b0-bd16-5f799733b827",
   "metadata": {},
   "outputs": [
    {
     "name": "stdout",
     "output_type": "stream",
     "text": [
      "Some error occurred.\n",
      "Out of try except blocks.\n"
     ]
    }
   ],
   "source": [
    "try:\n",
    "    a=5\n",
    "    b='0'\n",
    "    print(a/b)\n",
    "except:\n",
    "    print('Some error occurred.')\n",
    "print(\"Out of try except blocks.\")"
   ]
  },
  {
   "cell_type": "code",
   "execution_count": 4,
   "id": "d7cfc6d7-c13e-44cc-9fbc-6b1c31406520",
   "metadata": {},
   "outputs": [
    {
     "name": "stdout",
     "output_type": "stream",
     "text": [
      "Unsupported operation\n",
      "Out of try except blocks\n"
     ]
    }
   ],
   "source": [
    "try:\n",
    "    a=5\n",
    "    b='0'\n",
    "    print (a+b)\n",
    "except TypeError:\n",
    "    print('Unsupported operation')\n",
    "print (\"Out of try except blocks\")"
   ]
  },
  {
   "cell_type": "code",
   "execution_count": 5,
   "id": "e0132c19-0a8b-4c13-bb5b-7a529426d71b",
   "metadata": {},
   "outputs": [
    {
     "name": "stdout",
     "output_type": "stream",
     "text": [
      "Division by zero not allowed\n",
      "Out of try except blocks\n"
     ]
    }
   ],
   "source": [
    "try:\n",
    "    a=5\n",
    "    b=0\n",
    "    print (a/b)\n",
    "except TypeError:\n",
    "    print('Unsupported operation')\n",
    "except ZeroDivisionError:\n",
    "    print ('Division by zero not allowed')\n",
    "print ('Out of try except blocks')"
   ]
  },
  {
   "cell_type": "markdown",
   "id": "6606e5f4-37ac-416e-8998-8eb7086a6bc7",
   "metadata": {},
   "source": [
    "## else and finally"
   ]
  },
  {
   "cell_type": "markdown",
   "id": "17dcb613-7602-4274-af60-c15a32ba830b",
   "metadata": {},
   "source": [
    "try:\n",
    "    #statements in try block\n",
    "except:\n",
    "    #executed when error in try block\n",
    "else:\n",
    "    #executed if try block is error-free\n",
    "finally:\n",
    "    #executed irrespective of exception occured or not"
   ]
  },
  {
   "cell_type": "code",
   "execution_count": 7,
   "id": "afc87643-4241-41a9-bc81-efe29b7a1a9e",
   "metadata": {},
   "outputs": [
    {
     "name": "stdout",
     "output_type": "stream",
     "text": [
      "try block\n"
     ]
    },
    {
     "name": "stdin",
     "output_type": "stream",
     "text": [
      "Enter a number:  5\n",
      "Enter another number:  2\n"
     ]
    },
    {
     "name": "stdout",
     "output_type": "stream",
     "text": [
      "else block\n",
      "Division =  2.5\n",
      "finally block\n",
      "Out of try, except, else and finally blocks.\n"
     ]
    }
   ],
   "source": [
    "try:\n",
    "    print('try block')\n",
    "    x=int(input('Enter a number: '))\n",
    "    y=int(input('Enter another number: '))\n",
    "    z=x/y\n",
    "except ZeroDivisionError:\n",
    "    print(\"except ZeroDivisionError block\")\n",
    "    print(\"Division by 0 not accepted\")\n",
    "else:\n",
    "    print(\"else block\")\n",
    "    print(\"Division = \", z)\n",
    "finally:\n",
    "    print(\"finally block\")\n",
    "    x=0\n",
    "    y=0\n",
    "print (\"Out of try, except, else and finally blocks.\" )\n"
   ]
  },
  {
   "cell_type": "markdown",
   "id": "81f668ff-c2c1-41ef-b18e-6554cc8bc31b",
   "metadata": {},
   "source": [
    "## Raise an Exception"
   ]
  },
  {
   "cell_type": "code",
   "execution_count": 10,
   "id": "3c294f27-cf30-4d47-9ad5-0b9cc45d50c1",
   "metadata": {},
   "outputs": [
    {
     "name": "stdin",
     "output_type": "stream",
     "text": [
      "Enter a number upto 100:  101\n"
     ]
    },
    {
     "name": "stdout",
     "output_type": "stream",
     "text": [
      "101 is out of allowed range\n"
     ]
    }
   ],
   "source": [
    "try:\n",
    "    x=int(input('Enter a number upto 100: '))\n",
    "    if x > 100:\n",
    "        raise ValueError(x)\n",
    "except ValueError:\n",
    "    print(x, \"is out of allowed range\")\n",
    "else:\n",
    "    print(x, \"is within the allowed range\")\n"
   ]
  },
  {
   "cell_type": "markdown",
   "id": "e80a57c8-17c6-4f2c-a9c1-75d62563e5a7",
   "metadata": {},
   "source": [
    "## Shallow Copy vs. Deep Copy\n",
    "\n",
    "See here: https://www.programiz.com/python-programming/shallow-deep-copy"
   ]
  }
 ],
 "metadata": {
  "kernelspec": {
   "display_name": "Python 3",
   "language": "python",
   "name": "python3"
  },
  "language_info": {
   "codemirror_mode": {
    "name": "ipython",
    "version": 3
   },
   "file_extension": ".py",
   "mimetype": "text/x-python",
   "name": "python",
   "nbconvert_exporter": "python",
   "pygments_lexer": "ipython3",
   "version": "3.8.8"
  }
 },
 "nbformat": 4,
 "nbformat_minor": 5
}
