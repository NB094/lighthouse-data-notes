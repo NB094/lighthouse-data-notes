{
 "cells": [
  {
   "cell_type": "markdown",
   "id": "e28c5184-c626-462d-b4ea-73af7b922ef1",
   "metadata": {},
   "source": [
    "For more info: https://towardsdatascience.com/pythons-collections-module-high-performance-container-data-types-cb4187afb5fc\n",
    "\n",
    "https://stackabuse.com/introduction-to-pythons-collections-module"
   ]
  },
  {
   "cell_type": "markdown",
   "id": "5b7c8836-af75-4725-9299-4e0b2951fff8",
   "metadata": {},
   "source": [
    "## Named Tuple"
   ]
  },
  {
   "cell_type": "code",
   "execution_count": 17,
   "id": "3fb0c73c-3455-4fd2-a135-5da58a6112c4",
   "metadata": {},
   "outputs": [],
   "source": [
    "from collections import namedtuple\n",
    "fruit = namedtuple('fruit','number variety color')\n",
    "guava = fruit(number=2,variety='HoneyCrisp',color='green')\n",
    "apple = fruit(number=5,variety='Granny Smith',color='red')"
   ]
  },
  {
   "cell_type": "code",
   "execution_count": 2,
   "id": "288e1f3b-709e-4f30-8624-6ccb6e538f44",
   "metadata": {},
   "outputs": [
    {
     "name": "stdout",
     "output_type": "stream",
     "text": [
      "green\n",
      "Granny Smith\n"
     ]
    }
   ],
   "source": [
    "print(guava.color)\n",
    "print(apple.variety)"
   ]
  },
  {
   "cell_type": "code",
   "execution_count": 20,
   "id": "079c9a0f-5e73-4c00-819a-123501ea29f6",
   "metadata": {},
   "outputs": [
    {
     "name": "stdout",
     "output_type": "stream",
     "text": [
      "Student(fname='John', lname='Clarke', age='13')\n",
      "John\n"
     ]
    }
   ],
   "source": [
    "Student = namedtuple('Student', 'fname, lname, age')\n",
    "s1 = Student('John', 'Clarke', '13')\n",
    "print(s1)\n",
    "print(s1.fname)"
   ]
  },
  {
   "cell_type": "markdown",
   "id": "a97c3d05-4c91-4a68-a57b-78a097ef5b61",
   "metadata": {},
   "source": [
    "## Counter"
   ]
  },
  {
   "cell_type": "code",
   "execution_count": 3,
   "id": "a1d64d30-b52d-4e4d-bc2d-5f989b12f239",
   "metadata": {},
   "outputs": [],
   "source": [
    "from collections import Counter"
   ]
  },
  {
   "cell_type": "code",
   "execution_count": 4,
   "id": "fa6012eb-97c5-4610-9827-3ca00d998cb2",
   "metadata": {},
   "outputs": [
    {
     "name": "stdout",
     "output_type": "stream",
     "text": [
      "Counter({'a': 4, 'c': 4, 'b': 2, 'd': 2})\n"
     ]
    }
   ],
   "source": [
    "c = Counter('abcacdabcacd')\n",
    "print(c)"
   ]
  },
  {
   "cell_type": "code",
   "execution_count": 5,
   "id": "510fa2e3-3f84-45c0-bea1-3860fe6f2094",
   "metadata": {
    "tags": []
   },
   "outputs": [
    {
     "name": "stdout",
     "output_type": "stream",
     "text": [
      "Counter({5: 3, 7: 3, 1: 2, 9: 2, 6: 1, 3: 1, 2: 1})\n"
     ]
    }
   ],
   "source": [
    "lst = [5,6,7,1,3,9,9,1,2,5,5,7,7]\n",
    "c = Counter(lst)\n",
    "print(c)"
   ]
  },
  {
   "cell_type": "code",
   "execution_count": 6,
   "id": "9b12665e-af3b-46bb-a3d4-b60371569133",
   "metadata": {},
   "outputs": [
    {
     "name": "stdout",
     "output_type": "stream",
     "text": [
      "3\n"
     ]
    }
   ],
   "source": [
    "cnt = Counter()\n",
    "lst = [1,2,3,4,1,2,6,7,3,8,1]\n",
    "cnt = Counter(lst)\n",
    "\n",
    "# when you print cnt[1], you will get the count of 1.\n",
    "print(cnt[1])"
   ]
  },
  {
   "cell_type": "markdown",
   "id": "960124f1-8501-444b-9dc5-7c14f7ce3020",
   "metadata": {},
   "source": [
    "#### The element() Function"
   ]
  },
  {
   "cell_type": "code",
   "execution_count": 7,
   "id": "52f59256-2e54-42cb-9d9f-45388645ff3c",
   "metadata": {},
   "outputs": [
    {
     "name": "stdout",
     "output_type": "stream",
     "text": [
      "[1, 1, 1, 2, 2, 2, 2]\n"
     ]
    }
   ],
   "source": [
    "# You can get the items of a Counter object with elements() function. It returns a list containing all the elements in the Counter object.\n",
    "\n",
    "cnt = Counter({1:3,2:4})\n",
    "print(list(cnt.elements()))"
   ]
  },
  {
   "cell_type": "markdown",
   "id": "1940b696-af1c-4bf7-986f-03ff4b9af543",
   "metadata": {},
   "source": [
    "#### The most_common() Function"
   ]
  },
  {
   "cell_type": "code",
   "execution_count": 9,
   "id": "71f88a98-1e46-463f-a938-e81caf3e2557",
   "metadata": {},
   "outputs": [
    {
     "name": "stdout",
     "output_type": "stream",
     "text": [
      "[(1, 3), (2, 2), (3, 2), (4, 1), (6, 1), (7, 1), (8, 1)]\n"
     ]
    }
   ],
   "source": [
    "lst = [1,2,3,4,1,2,6,7,3,8,1]\n",
    "cnt = Counter(lst)\n",
    "print(cnt.most_common())"
   ]
  },
  {
   "cell_type": "markdown",
   "id": "a0a0b1fa-f6eb-44fd-b413-0a06085f6daf",
   "metadata": {},
   "source": [
    "## OrderedDict"
   ]
  },
  {
   "cell_type": "markdown",
   "id": "cacd9d0f-01d6-4343-9eed-64ce0da0e89a",
   "metadata": {},
   "source": [
    "OrderedDict is a dictionary where keys maintain the order in which they are inserted, which means if you change the value of a key later, it will not change the position of the key."
   ]
  },
  {
   "cell_type": "code",
   "execution_count": 11,
   "id": "77f5e3a4-5095-4006-ac06-a322491162f0",
   "metadata": {},
   "outputs": [
    {
     "name": "stdout",
     "output_type": "stream",
     "text": [
      "a 4\n",
      "c 3\n",
      "b 2\n"
     ]
    }
   ],
   "source": [
    "from collections import OrderedDict\n",
    "\n",
    "lst = [\"a\",\"c\",\"c\",\"a\",\"b\",\"a\",\"a\",\"b\",\"c\"]\n",
    "cnt = Counter(lst)\n",
    "od = OrderedDict(cnt.most_common())\n",
    "for key, value in od.items():\n",
    "    print(key, value)"
   ]
  },
  {
   "cell_type": "markdown",
   "id": "cfba6d79-57fb-455a-8251-cd90276831ab",
   "metadata": {},
   "source": [
    "## Deque"
   ]
  },
  {
   "cell_type": "markdown",
   "id": "3d269781-e880-4fec-a259-8be091876469",
   "metadata": {},
   "source": [
    "The deque is a list optimized for inserting and removing items."
   ]
  },
  {
   "cell_type": "code",
   "execution_count": 12,
   "id": "c8fc6822-80f2-418b-829f-f0d937adb41c",
   "metadata": {},
   "outputs": [
    {
     "name": "stdout",
     "output_type": "stream",
     "text": [
      "deque(['a', 'b', 'c'])\n"
     ]
    }
   ],
   "source": [
    "from collections import deque\n",
    "\n",
    "lst = [\"a\",\"b\",\"c\"]\n",
    "deq = deque(lst)\n",
    "print(deq)"
   ]
  },
  {
   "cell_type": "code",
   "execution_count": 14,
   "id": "e7784107-2cd7-4061-922e-59a04862f258",
   "metadata": {},
   "outputs": [
    {
     "name": "stdout",
     "output_type": "stream",
     "text": [
      "deque(['e', 'a', 'b', 'c', 'd'])\n"
     ]
    }
   ],
   "source": [
    "deq.append(\"d\")\n",
    "deq.appendleft(\"e\")\n",
    "print(deq)"
   ]
  },
  {
   "cell_type": "code",
   "execution_count": 15,
   "id": "89ae5e40-c51a-4e64-ba1c-7f692ec4d45e",
   "metadata": {},
   "outputs": [
    {
     "name": "stdout",
     "output_type": "stream",
     "text": [
      "1\n"
     ]
    }
   ],
   "source": [
    "lst = [\"a\",\"b\",\"c\"]\n",
    "deq = deque(lst)\n",
    "print(deq.count(\"a\"))"
   ]
  }
 ],
 "metadata": {
  "kernelspec": {
   "display_name": "Python 3",
   "language": "python",
   "name": "python3"
  },
  "language_info": {
   "codemirror_mode": {
    "name": "ipython",
    "version": 3
   },
   "file_extension": ".py",
   "mimetype": "text/x-python",
   "name": "python",
   "nbconvert_exporter": "python",
   "pygments_lexer": "ipython3",
   "version": "3.8.8"
  }
 },
 "nbformat": 4,
 "nbformat_minor": 5
}
