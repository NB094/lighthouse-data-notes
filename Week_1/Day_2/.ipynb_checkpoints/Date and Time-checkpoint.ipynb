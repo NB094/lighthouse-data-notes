{
 "cells": [
  {
   "cell_type": "markdown",
   "id": "33658176-f143-42b0-9d6d-0a325d551621",
   "metadata": {},
   "source": [
    "https://www.dataquest.io/blog/python-datetime-tutorial/"
   ]
  },
  {
   "cell_type": "code",
   "execution_count": 1,
   "id": "1131aca3-7035-459b-bc05-0cf397d0836a",
   "metadata": {},
   "outputs": [
    {
     "name": "stdout",
     "output_type": "stream",
     "text": [
      "2021-07-20 18:54:10.018010\n",
      "Type :-  <class 'datetime.datetime'>\n"
     ]
    }
   ],
   "source": [
    "from datetime import datetime\n",
    "\n",
    "# get current date\n",
    "datetime_object = datetime.now()\n",
    "print(datetime_object)\n",
    "print('Type :- ',type(datetime_object))"
   ]
  },
  {
   "cell_type": "code",
   "execution_count": 4,
   "id": "885c7dae-0330-49ae-96ee-bd282d8127ac",
   "metadata": {},
   "outputs": [
    {
     "name": "stdout",
     "output_type": "stream",
     "text": [
      "2019-10-31 00:00:00\n",
      "Type:  <class 'datetime.datetime'>\n",
      "Month:  10\n",
      "Year:  2019\n"
     ]
    }
   ],
   "source": [
    "my_string = '2019-10-31'\n",
    "\n",
    "# Create date object in given time format yyyy-mm-dd\n",
    "my_date = datetime.strptime(my_string, \"%Y-%m-%d\")\n",
    "\n",
    "print(my_date)\n",
    "print('Type: ',type(my_date))\n",
    "\n",
    "print('Month: ', my_date.month) # To Get month from date\n",
    "print('Year: ', my_date.year) # To Get month from year"
   ]
  },
  {
   "cell_type": "markdown",
   "id": "56193719-8bda-45ce-b846-357fe71d88fa",
   "metadata": {},
   "source": [
    "### Getting Day of the Month and Day of the Week from a Date"
   ]
  },
  {
   "cell_type": "code",
   "execution_count": 5,
   "id": "229fc717-3377-4b67-9d57-6cb8404e32cd",
   "metadata": {},
   "outputs": [
    {
     "name": "stdout",
     "output_type": "stream",
     "text": [
      "Day of Month: 31\n",
      "Day of Week (number):  3\n",
      "Day of Week (name):  Thursday\n"
     ]
    }
   ],
   "source": [
    "# import calendar module\n",
    "import calendar\n",
    "print('Day of Month:', my_date.day)\n",
    "\n",
    "# to get name of day(in number) from date\n",
    "print('Day of Week (number): ', my_date.weekday())\n",
    "\n",
    "# to get name of day from date\n",
    "print('Day of Week (name): ', calendar.day_name[my_date.weekday()])"
   ]
  },
  {
   "cell_type": "code",
   "execution_count": 6,
   "id": "f4e40c04-b076-408f-b48d-c1bf2faa4bc2",
   "metadata": {},
   "outputs": [
    {
     "name": "stdout",
     "output_type": "stream",
     "text": [
      "0 - Monday\n",
      "1 - Tuesday\n",
      "2 - Wednesday\n",
      "3 - Thursday\n",
      "4 - Friday\n",
      "5 - Saturday\n",
      "6 - Sunday\n"
     ]
    }
   ],
   "source": [
    "j = 0\n",
    "for i in calendar.day_name:\n",
    "    print(j,'-',i)\n",
    "    j+=1"
   ]
  },
  {
   "cell_type": "markdown",
   "id": "8b255cb4-e006-4937-82b4-551bb5bb132c",
   "metadata": {},
   "source": [
    "### Getting Hours and Minutes From a Python Datetime Object"
   ]
  },
  {
   "cell_type": "code",
   "execution_count": 8,
   "id": "fa0d6bfb-f1f2-4df6-aca1-849c4be945ab",
   "metadata": {},
   "outputs": [
    {
     "name": "stdout",
     "output_type": "stream",
     "text": [
      "Hour:  19\n",
      "Minute:  1\n"
     ]
    }
   ],
   "source": [
    "from datetime import datetime\n",
    "\n",
    "todays_date = datetime.now()\n",
    "\n",
    "# to get hour from datetime\n",
    "print('Hour: ', todays_date.hour)\n",
    "\n",
    "# to get minute from datetime\n",
    "print('Minute: ', todays_date.minute)"
   ]
  },
  {
   "cell_type": "markdown",
   "id": "6d916042-25b1-4942-9575-bf3f42412c24",
   "metadata": {},
   "source": [
    "### Getting Week of the Year from a Datetime Object"
   ]
  },
  {
   "cell_type": "code",
   "execution_count": 11,
   "id": "7d8b6e3e-0f84-46bc-877f-71212965ce19",
   "metadata": {},
   "outputs": [
    {
     "data": {
      "text/plain": [
       "(2021, 29, 2)"
      ]
     },
     "execution_count": 11,
     "metadata": {},
     "output_type": "execute_result"
    }
   ],
   "source": [
    "# Return a 3-tuple, (ISO year, ISO week number, ISO weekday).\n",
    "todays_date.isocalendar()"
   ]
  },
  {
   "cell_type": "code",
   "execution_count": 12,
   "id": "40977747-d43f-4b6a-a6b5-439823af7363",
   "metadata": {},
   "outputs": [
    {
     "data": {
      "text/plain": [
       "29"
      ]
     },
     "execution_count": 12,
     "metadata": {},
     "output_type": "execute_result"
    }
   ],
   "source": [
    "todays_date.isocalendar()[1]"
   ]
  },
  {
   "cell_type": "markdown",
   "id": "f691c827-8492-4c1e-9893-08cc22982ffd",
   "metadata": {},
   "source": [
    "### Measuring Time Span with Timedelta Objects"
   ]
  },
  {
   "cell_type": "code",
   "execution_count": 13,
   "id": "9a6dbf31-9d3c-49e5-9f00-0b9eae136801",
   "metadata": {},
   "outputs": [
    {
     "name": "stdout",
     "output_type": "stream",
     "text": [
      "14 days, 0:00:00\n",
      "<class 'datetime.timedelta'>\n",
      "14\n"
     ]
    }
   ],
   "source": [
    "#import datetime\n",
    "from datetime import timedelta\n",
    "# create timedelta object with difference of 2 weeks\n",
    "d = timedelta(weeks=2)\n",
    "\n",
    "print(d)\n",
    "print(type(d))\n",
    "print(d.days)"
   ]
  },
  {
   "cell_type": "code",
   "execution_count": 14,
   "id": "9ff45559-37fe-4ad6-a711-9c9bc46c4345",
   "metadata": {},
   "outputs": [
    {
     "name": "stdout",
     "output_type": "stream",
     "text": [
      "Today's date:  2021-07-20 19:18:04.114850\n",
      "Date after 15 days:  2021-08-04 19:18:04.114850\n",
      "Date two weeks ago:  2021-07-06 19:18:04.114850\n",
      "two_weeks_ago object type:  <class 'datetime.datetime'>\n"
     ]
    }
   ],
   "source": [
    "#import datetime\n",
    "from datetime import datetime, timedelta\n",
    "# get current time\n",
    "now = datetime.now()\n",
    "print (\"Today's date: \", str(now))\n",
    "\n",
    "#add 15 days to current date\n",
    "future_date_after_15days = now + timedelta(days = 15)\n",
    "print('Date after 15 days: ', future_date_after_15days)\n",
    "\n",
    "#subtract 2 weeks from current date\n",
    "two_weeks_ago = now - timedelta(weeks = 2)\n",
    "print('Date two weeks ago: ', two_weeks_ago)\n",
    "print('two_weeks_ago object type: ', type(two_weeks_ago))"
   ]
  },
  {
   "cell_type": "code",
   "execution_count": 15,
   "id": "2080e316-a3f1-4f8f-a073-79c0bb2fe32a",
   "metadata": {},
   "outputs": [
    {
     "name": "stdout",
     "output_type": "stream",
     "text": [
      "Difference:  36 days, 10:04:20\n"
     ]
    }
   ],
   "source": [
    "# import datetime\n",
    "from datetime import datetime\n",
    "# create two dates with year, month, day, hour, minute, and second\n",
    "date1 = datetime(2017, 6, 21, 18, 25, 30)\n",
    "date2 = datetime(2017, 5, 16, 8, 21, 10)\n",
    "\n",
    "# Difference between two dates\n",
    "diff = date1-date2\n",
    "print(\"Difference: \", diff)"
   ]
  },
  {
   "cell_type": "markdown",
   "id": "7ad55211-675c-4941-ac43-f0c45839731d",
   "metadata": {},
   "source": [
    "### Formatting Dates: More on strftime() and strptime()\n"
   ]
  },
  {
   "cell_type": "markdown",
   "id": "f2561eb9-9b15-4c9a-807c-6f36d3f91186",
   "metadata": {},
   "source": [
    "Also see [Python strftime cheatsheet](https://strftime.org/)."
   ]
  },
  {
   "cell_type": "code",
   "execution_count": 16,
   "id": "f38d9c20-b63e-41ad-be41-1f4a5c7ad835",
   "metadata": {},
   "outputs": [
    {
     "name": "stdout",
     "output_type": "stream",
     "text": [
      "date_object:  2019-08-01 00:00:00\n"
     ]
    }
   ],
   "source": [
    "# import datetime\n",
    "from datetime import datetime\n",
    "date_string = \"1 August, 2019\"\n",
    "\n",
    "# format date\n",
    "date_object = datetime.strptime(date_string, \"%d %B, %Y\")\n",
    "\n",
    "print(\"date_object: \", date_object)"
   ]
  },
  {
   "cell_type": "markdown",
   "id": "54a7677e-61a3-416c-9fbb-ceb0a1836cab",
   "metadata": {},
   "source": [
    "### Tying it all together"
   ]
  },
  {
   "cell_type": "markdown",
   "id": "94c48877-65f5-4a9f-a083-6e50074a66f5",
   "metadata": {},
   "source": [
    "strptime() can read strings with date and time information and convert them to datetime objects.\n",
    "\n",
    "strftime() converts datetime objects back into strings."
   ]
  },
  {
   "cell_type": "code",
   "execution_count": 17,
   "id": "f1ca765a-564c-48ae-afa1-e8ad7375e4cc",
   "metadata": {},
   "outputs": [
    {
     "name": "stdout",
     "output_type": "stream",
     "text": [
      "dt_object1: 2018-11-12 09:15:32\n",
      "dt_object2: 2018-12-11 09:15:32\n",
      "Unix Timestamp:  1544544932.0\n",
      "Output 1: Tue Dec 11 09:15:32 2018\n",
      "Output 2: 12/11/18\n",
      "Output 3: 09:15:32\n"
     ]
    }
   ],
   "source": [
    "# import datetime\n",
    "from datetime import datetime\n",
    "dt_string = \"12/11/2018 09:15:32\"\n",
    "# Considering date is in dd/mm/yyyy format\n",
    "dt_object1 = datetime.strptime(dt_string, \"%d/%m/%Y %H:%M:%S\")\n",
    "print(\"dt_object1:\", dt_object1)\n",
    "# Considering date is in mm/dd/yyyy format\n",
    "dt_object2 = datetime.strptime(dt_string, \"%m/%d/%Y %H:%M:%S\")\n",
    "print(\"dt_object2:\", dt_object2)\n",
    "\n",
    "# Convert dt_object2 to Unix Timestamp\n",
    "timestamp = datetime.timestamp(dt_object2)\n",
    "print('Unix Timestamp: ', timestamp)\n",
    "\n",
    "# Convert back into datetime\n",
    "date_time = datetime.fromtimestamp(timestamp)\n",
    "d = date_time.strftime(\"%c\")\n",
    "print(\"Output 1:\", d)\n",
    "d = date_time.strftime(\"%x\")\n",
    "print(\"Output 2:\", d)\n",
    "d = date_time.strftime(\"%X\")\n",
    "print(\"Output 3:\", d)"
   ]
  },
  {
   "cell_type": "code",
   "execution_count": 18,
   "id": "a21d72e8-89e9-4e20-a92a-00b867b55f99",
   "metadata": {},
   "outputs": [
    {
     "name": "stdout",
     "output_type": "stream",
     "text": [
      "Year: 2021\n",
      "Month; 07\n",
      "Day: 20\n",
      "Time: 19:31:22\n",
      "Date and Time: 07/20/2021, 19:31:22\n"
     ]
    }
   ],
   "source": [
    "# current date and time\n",
    "now = datetime.now()\n",
    "\n",
    "# get year from date\n",
    "year = now.strftime(\"%Y\")\n",
    "print(\"Year:\", year)\n",
    "\n",
    "# get month from date\n",
    "month = now.strftime(\"%m\")\n",
    "print(\"Month;\", month)\n",
    "\n",
    "# get day from date\n",
    "day = now.strftime(\"%d\")\n",
    "print(\"Day:\", day)\n",
    "\n",
    "# format time in HH:MM:SS\n",
    "time = now.strftime(\"%H:%M:%S\")\n",
    "print(\"Time:\", time)\n",
    "\n",
    "# format date\n",
    "date_time = now.strftime(\"%m/%d/%Y, %H:%M:%S\")\n",
    "print(\"Date and Time:\",date_time)"
   ]
  },
  {
   "cell_type": "markdown",
   "id": "9608094e-2aae-4441-a69a-2bb67b77d7cd",
   "metadata": {},
   "source": [
    "### Handling Timezones"
   ]
  },
  {
   "cell_type": "code",
   "execution_count": 19,
   "id": "2ec04c6c-439d-42dd-9c30-2b40fdba2278",
   "metadata": {},
   "outputs": [
    {
     "name": "stdout",
     "output_type": "stream",
     "text": [
      "2011-11-02 07:27:00-04:00\n",
      "2011-11-02 16:57:00+05:30\n",
      "2011-11-02 22:27:00+11:00\n"
     ]
    }
   ],
   "source": [
    "# import timezone from pytz module\n",
    "from pytz import timezone\n",
    "# Create timezone US/Eastern\n",
    "east = timezone('US/Eastern')\n",
    "# Localize date\n",
    "loc_dt = east.localize(datetime(2011, 11, 2, 7, 27, 0))\n",
    "print(loc_dt)\n",
    "\n",
    "# Convert localized date into Asia/Kolkata timezone\n",
    "kolkata = timezone(\"Asia/Kolkata\")\n",
    "print(loc_dt.astimezone(kolkata))\n",
    "\n",
    "# Convert localized date into Australia/Sydney timezone\n",
    "au_tz = timezone('Australia/Sydney')\n",
    "print(loc_dt.astimezone(au_tz))"
   ]
  },
  {
   "cell_type": "markdown",
   "id": "f749822f-bed1-4f74-b4b1-f333f6cdff66",
   "metadata": {},
   "source": [
    "### Working with pandas Datetime Objects"
   ]
  },
  {
   "cell_type": "code",
   "execution_count": 25,
   "id": "0c688054-92ac-4c6d-a856-f96eb06262d2",
   "metadata": {},
   "outputs": [
    {
     "name": "stdout",
     "output_type": "stream",
     "text": [
      "2019-09-08 00:00:00\n"
     ]
    }
   ],
   "source": [
    "# import pandas module as pd\n",
    "import pandas as pd\n",
    "# create date object using to_datetime() function\n",
    "date = pd.to_datetime(\"8th of sep, 2019\")\n",
    "print(date)"
   ]
  },
  {
   "cell_type": "code",
   "execution_count": 22,
   "id": "52d3af78-59e3-4f82-a963-e15b11a853ae",
   "metadata": {},
   "outputs": [
    {
     "name": "stdout",
     "output_type": "stream",
     "text": [
      "DatetimeIndex(['2019-09-08', '2019-09-09', '2019-09-10', '2019-09-11',\n",
      "               '2019-09-12', '2019-09-13', '2019-09-14', '2019-09-15',\n",
      "               '2019-09-16', '2019-09-17', '2019-09-18', '2019-09-19'],\n",
      "              dtype='datetime64[ns]', freq=None)\n",
      "DatetimeIndex(['2019-08-10', '2019-08-11', '2019-08-12', '2019-08-13',\n",
      "               '2019-08-14', '2019-08-15', '2019-08-16', '2019-08-17',\n",
      "               '2019-08-18', '2019-08-19', '2019-08-20', '2019-08-21'],\n",
      "              dtype='datetime64[ns]', freq='D')\n"
     ]
    }
   ],
   "source": [
    "import numpy as np\n",
    "\n",
    "# Create date series using numpy and to_timedelta() function\n",
    "date_series = date + pd.to_timedelta(np.arange(12), 'D')\n",
    "print(date_series)\n",
    "\n",
    "# Create date series using date_range() function\n",
    "date_series = pd.date_range('08/10/2019', periods = 12, freq ='D')\n",
    "print(date_series)"
   ]
  },
  {
   "cell_type": "code",
   "execution_count": 26,
   "id": "ba0c548d-a4bb-44ca-a45b-c17b5d6ef27e",
   "metadata": {},
   "outputs": [
    {
     "ename": "SyntaxError",
     "evalue": "invalid syntax (<ipython-input-26-a2ccef161938>, line 3)",
     "output_type": "error",
     "traceback": [
      "\u001b[1;36m  File \u001b[1;32m\"<ipython-input-26-a2ccef161938>\"\u001b[1;36m, line \u001b[1;32m3\u001b[0m\n\u001b[1;33m    df['date'] = date_series df.head()\u001b[0m\n\u001b[1;37m                             ^\u001b[0m\n\u001b[1;31mSyntaxError\u001b[0m\u001b[1;31m:\u001b[0m invalid syntax\n"
     ]
    }
   ],
   "source": [
    "# Create a DataFrame with one column date\n",
    "df = pd.DataFrame()\n",
    "df['date'] = date_series df.head()"
   ]
  },
  {
   "cell_type": "code",
   "execution_count": 27,
   "id": "84976915-943f-4f54-8b35-b03ff9735cc8",
   "metadata": {},
   "outputs": [
    {
     "ename": "NameError",
     "evalue": "name 'df' is not defined",
     "output_type": "error",
     "traceback": [
      "\u001b[1;31m---------------------------------------------------------------------------\u001b[0m",
      "\u001b[1;31mNameError\u001b[0m                                 Traceback (most recent call last)",
      "\u001b[1;32m<ipython-input-27-550cdb2d98a0>\u001b[0m in \u001b[0;36m<module>\u001b[1;34m\u001b[0m\n\u001b[0;32m      1\u001b[0m \u001b[1;31m# Extract year, month, day, hour, and minute. Assign all these date component to new column.\u001b[0m\u001b[1;33m\u001b[0m\u001b[1;33m\u001b[0m\u001b[1;33m\u001b[0m\u001b[0m\n\u001b[1;32m----> 2\u001b[1;33m \u001b[0mdf\u001b[0m\u001b[1;33m[\u001b[0m\u001b[1;34m'year'\u001b[0m\u001b[1;33m]\u001b[0m \u001b[1;33m=\u001b[0m \u001b[0mdf\u001b[0m\u001b[1;33m[\u001b[0m\u001b[1;34m'date'\u001b[0m\u001b[1;33m]\u001b[0m\u001b[1;33m.\u001b[0m\u001b[0mdt\u001b[0m\u001b[1;33m.\u001b[0m\u001b[0myear\u001b[0m\u001b[1;33m\u001b[0m\u001b[1;33m\u001b[0m\u001b[0m\n\u001b[0m\u001b[0;32m      3\u001b[0m \u001b[0mdf\u001b[0m\u001b[1;33m[\u001b[0m\u001b[1;34m'month'\u001b[0m\u001b[1;33m]\u001b[0m \u001b[1;33m=\u001b[0m \u001b[0mdf\u001b[0m\u001b[1;33m[\u001b[0m\u001b[1;34m'date'\u001b[0m\u001b[1;33m]\u001b[0m\u001b[1;33m.\u001b[0m\u001b[0mdt\u001b[0m\u001b[1;33m.\u001b[0m\u001b[0mmonth\u001b[0m\u001b[1;33m\u001b[0m\u001b[1;33m\u001b[0m\u001b[0m\n\u001b[0;32m      4\u001b[0m \u001b[0mdf\u001b[0m\u001b[1;33m[\u001b[0m\u001b[1;34m'day'\u001b[0m\u001b[1;33m]\u001b[0m \u001b[1;33m=\u001b[0m \u001b[0mdf\u001b[0m\u001b[1;33m[\u001b[0m\u001b[1;34m'date'\u001b[0m\u001b[1;33m]\u001b[0m\u001b[1;33m.\u001b[0m\u001b[0mdt\u001b[0m\u001b[1;33m.\u001b[0m\u001b[0mday\u001b[0m\u001b[1;33m\u001b[0m\u001b[1;33m\u001b[0m\u001b[0m\n\u001b[0;32m      5\u001b[0m \u001b[0mdf\u001b[0m\u001b[1;33m[\u001b[0m\u001b[1;34m'hour'\u001b[0m\u001b[1;33m]\u001b[0m \u001b[1;33m=\u001b[0m \u001b[0mdf\u001b[0m\u001b[1;33m[\u001b[0m\u001b[1;34m'date'\u001b[0m\u001b[1;33m]\u001b[0m\u001b[1;33m.\u001b[0m\u001b[0mdt\u001b[0m\u001b[1;33m.\u001b[0m\u001b[0mhour\u001b[0m\u001b[1;33m\u001b[0m\u001b[1;33m\u001b[0m\u001b[0m\n",
      "\u001b[1;31mNameError\u001b[0m: name 'df' is not defined"
     ]
    }
   ],
   "source": [
    "# Extract year, month, day, hour, and minute. Assign all these date component to new column.\n",
    "df['year'] = df['date'].dt.year\n",
    "df['month'] = df['date'].dt.month\n",
    "df['day'] = df['date'].dt.day\n",
    "df['hour'] = df['date'].dt.hour\n",
    "df['minute'] = df['date'].dt.minute\n",
    "df.head()"
   ]
  }
 ],
 "metadata": {
  "kernelspec": {
   "display_name": "Python 3",
   "language": "python",
   "name": "python3"
  },
  "language_info": {
   "codemirror_mode": {
    "name": "ipython",
    "version": 3
   },
   "file_extension": ".py",
   "mimetype": "text/x-python",
   "name": "python",
   "nbconvert_exporter": "python",
   "pygments_lexer": "ipython3",
   "version": "3.8.8"
  }
 },
 "nbformat": 4,
 "nbformat_minor": 5
}
