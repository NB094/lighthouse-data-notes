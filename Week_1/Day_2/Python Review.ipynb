{
 "cells": [
  {
   "cell_type": "markdown",
   "id": "333a0845-eeb4-4f09-90b6-0654afb22109",
   "metadata": {},
   "source": [
    "## Lists"
   ]
  },
  {
   "cell_type": "code",
   "execution_count": 1,
   "id": "d5e2483a-e305-4e67-80bf-7cd54e5d7fe8",
   "metadata": {},
   "outputs": [],
   "source": [
    "myList = [1,2,3,4]"
   ]
  },
  {
   "cell_type": "code",
   "execution_count": 2,
   "id": "7c73a61a-3966-4ffb-8bb1-fba8abb4593a",
   "metadata": {},
   "outputs": [],
   "source": [
    "myList.append(5)"
   ]
  },
  {
   "cell_type": "code",
   "execution_count": 3,
   "id": "647ba12e-80f8-4a56-b49d-5c426b684ed6",
   "metadata": {},
   "outputs": [
    {
     "name": "stdout",
     "output_type": "stream",
     "text": [
      "[1, 2, 3, 4, 5]\n"
     ]
    }
   ],
   "source": [
    "print(myList)"
   ]
  },
  {
   "cell_type": "code",
   "execution_count": 4,
   "id": "01e15f08-29ea-4218-a665-0ebfa4626792",
   "metadata": {},
   "outputs": [],
   "source": [
    "myList2 = [12,745,165]"
   ]
  },
  {
   "cell_type": "code",
   "execution_count": 5,
   "id": "4ae6ebbe-cfc8-4422-b374-bc441c1093c4",
   "metadata": {},
   "outputs": [],
   "source": [
    "myList3 = myList + myList2"
   ]
  },
  {
   "cell_type": "code",
   "execution_count": 6,
   "id": "c8294879-8e40-4db3-9708-e5c487593e0b",
   "metadata": {},
   "outputs": [
    {
     "name": "stdout",
     "output_type": "stream",
     "text": [
      "[1, 2, 3, 4, 5, 12, 745, 165]\n"
     ]
    }
   ],
   "source": [
    "print(myList3)"
   ]
  },
  {
   "cell_type": "code",
   "execution_count": 7,
   "id": "95d1ce87-7aaa-4c32-83b2-df49eb5c3851",
   "metadata": {},
   "outputs": [
    {
     "data": {
      "text/plain": [
       "True"
      ]
     },
     "execution_count": 7,
     "metadata": {},
     "output_type": "execute_result"
    }
   ],
   "source": [
    "12 in myList3"
   ]
  },
  {
   "cell_type": "markdown",
   "id": "1edcebc2-d8e2-4bb4-a78d-316d799237f0",
   "metadata": {},
   "source": [
    "## Dictionaries"
   ]
  },
  {
   "cell_type": "code",
   "execution_count": 8,
   "id": "2975e8b8-5e9e-4198-a458-8e637d51bb98",
   "metadata": {},
   "outputs": [],
   "source": [
    "english_french = {'paper':'papier', 'pen':'stylo', 'car':'voiture', 'table':'table','door':'porte'}"
   ]
  },
  {
   "cell_type": "code",
   "execution_count": 9,
   "id": "3cf6e878-f50a-4196-81ae-5148da0fcd57",
   "metadata": {},
   "outputs": [
    {
     "data": {
      "text/plain": [
       "'stylo'"
      ]
     },
     "execution_count": 9,
     "metadata": {},
     "output_type": "execute_result"
    }
   ],
   "source": [
    "english_french['pen']"
   ]
  },
  {
   "cell_type": "code",
   "execution_count": 10,
   "id": "ea4e3de0-996f-4004-a273-2a6e7be026de",
   "metadata": {},
   "outputs": [
    {
     "data": {
      "text/plain": [
       "5"
      ]
     },
     "execution_count": 10,
     "metadata": {},
     "output_type": "execute_result"
    }
   ],
   "source": [
    "len(english_french)"
   ]
  },
  {
   "cell_type": "code",
   "execution_count": 11,
   "id": "414fc2a6-73a5-4dbe-b836-7c53cd320223",
   "metadata": {},
   "outputs": [],
   "source": [
    "del english_french['door']"
   ]
  },
  {
   "cell_type": "code",
   "execution_count": 12,
   "id": "5a73d9bb-46ba-4b8e-869c-2ce9fe346ca7",
   "metadata": {},
   "outputs": [
    {
     "name": "stdout",
     "output_type": "stream",
     "text": [
      "{'paper': 'papier', 'pen': 'stylo', 'car': 'voiture', 'table': 'table'}\n"
     ]
    }
   ],
   "source": [
    "print(english_french)"
   ]
  },
  {
   "cell_type": "code",
   "execution_count": 16,
   "id": "b3f00cff-0eed-4da0-862d-a6104a743de6",
   "metadata": {},
   "outputs": [
    {
     "data": {
      "text/plain": [
       "False"
      ]
     },
     "execution_count": 16,
     "metadata": {},
     "output_type": "execute_result"
    }
   ],
   "source": [
    "'door' in english_french"
   ]
  },
  {
   "cell_type": "code",
   "execution_count": 17,
   "id": "0be3e674-50d4-4ac0-be1d-91ba448105ba",
   "metadata": {},
   "outputs": [],
   "source": [
    "new_english_french = english_french.copy()"
   ]
  },
  {
   "cell_type": "code",
   "execution_count": 18,
   "id": "eacbe77d-6d5c-422d-b577-9a1fcc0bd389",
   "metadata": {},
   "outputs": [],
   "source": [
    "student = {'ID':{'name':'Abder-Rahman', 'number':'1234'}}"
   ]
  },
  {
   "cell_type": "code",
   "execution_count": 19,
   "id": "14fae86d-293a-430a-82ec-7c1669b9b9ef",
   "metadata": {},
   "outputs": [
    {
     "data": {
      "text/plain": [
       "{'name': 'Abder-Rahman', 'number': '1234'}"
      ]
     },
     "execution_count": 19,
     "metadata": {},
     "output_type": "execute_result"
    }
   ],
   "source": [
    "student['ID']"
   ]
  },
  {
   "cell_type": "code",
   "execution_count": 21,
   "id": "5e07827d-2631-4001-83cb-3c42d82ea98e",
   "metadata": {},
   "outputs": [
    {
     "name": "stdout",
     "output_type": "stream",
     "text": [
      "paper\n",
      "pen\n",
      "car\n",
      "table\n"
     ]
    }
   ],
   "source": [
    "for word in english_french:\n",
    "    print(word)"
   ]
  },
  {
   "cell_type": "code",
   "execution_count": 28,
   "id": "3009b7eb-3d99-441b-a4da-ef7444d87863",
   "metadata": {},
   "outputs": [
    {
     "ename": "SyntaxError",
     "evalue": "invalid syntax (<ipython-input-28-a7b58773c674>, line 1)",
     "output_type": "error",
     "traceback": [
      "\u001b[1;36m  File \u001b[1;32m\"<ipython-input-28-a7b58773c674>\"\u001b[1;36m, line \u001b[1;32m1\u001b[0m\n\u001b[1;33m    for meaning in iter(english_french.values())\u001b[0m\n\u001b[1;37m                                                ^\u001b[0m\n\u001b[1;31mSyntaxError\u001b[0m\u001b[1;31m:\u001b[0m invalid syntax\n"
     ]
    }
   ],
   "source": [
    "#Outdated?\n",
    "for meaning in iter(english_french.values())\n",
    "    print(meaning)"
   ]
  },
  {
   "cell_type": "markdown",
   "id": "fb3715b4-88ca-49c4-a511-90e7f9431700",
   "metadata": {},
   "source": [
    "## Tuples"
   ]
  },
  {
   "cell_type": "code",
   "execution_count": 29,
   "id": "2f2ba81a-ff36-4e1b-a0fc-ae1a024dde5c",
   "metadata": {},
   "outputs": [],
   "source": [
    "tuple1 = (1,2,3,4,5)"
   ]
  },
  {
   "cell_type": "code",
   "execution_count": 30,
   "id": "b6cb6585-0415-4b31-a013-c407a7eeb163",
   "metadata": {},
   "outputs": [
    {
     "data": {
      "text/plain": [
       "4"
      ]
     },
     "execution_count": 30,
     "metadata": {},
     "output_type": "execute_result"
    }
   ],
   "source": [
    "tuple1.index(5)"
   ]
  },
  {
   "cell_type": "code",
   "execution_count": 31,
   "id": "ba8da478-a667-4359-8416-e35e64dbc933",
   "metadata": {},
   "outputs": [
    {
     "data": {
      "text/plain": [
       "4"
      ]
     },
     "execution_count": 31,
     "metadata": {},
     "output_type": "execute_result"
    }
   ],
   "source": [
    "tuple3 = (65,67,5,67,34,76,67,231,98,67)\n",
    "tuple3.count(67)"
   ]
  },
  {
   "cell_type": "code",
   "execution_count": 33,
   "id": "83a9f78a-1164-464c-8379-9f2c752e155f",
   "metadata": {},
   "outputs": [
    {
     "data": {
      "text/plain": [
       "(5, 67, 34)"
      ]
     },
     "execution_count": 33,
     "metadata": {},
     "output_type": "execute_result"
    }
   ],
   "source": [
    "tuple3[2:5]"
   ]
  },
  {
   "cell_type": "code",
   "execution_count": 35,
   "id": "e543c89b-682f-4118-9321-75bc95871c47",
   "metadata": {},
   "outputs": [
    {
     "data": {
      "text/plain": [
       "(34, 76, 67, 231, 98, 67)"
      ]
     },
     "execution_count": 35,
     "metadata": {},
     "output_type": "execute_result"
    }
   ],
   "source": [
    "tuple3[4:]"
   ]
  },
  {
   "cell_type": "markdown",
   "id": "d981d31e-b510-423e-8714-694c4ad0a774",
   "metadata": {},
   "source": [
    "## Conditionals"
   ]
  },
  {
   "cell_type": "code",
   "execution_count": 37,
   "id": "af5827e6-f341-4b7e-8a20-c0eaac2f2ba7",
   "metadata": {},
   "outputs": [],
   "source": [
    "# Don't forget that \"not\" can be used as a boolean operator (in addition to \"or\" and \"and\")."
   ]
  }
 ],
 "metadata": {
  "kernelspec": {
   "display_name": "LHL_env",
   "language": "python",
   "name": "lhl_env"
  },
  "language_info": {
   "codemirror_mode": {
    "name": "ipython",
    "version": 3
   },
   "file_extension": ".py",
   "mimetype": "text/x-python",
   "name": "python",
   "nbconvert_exporter": "python",
   "pygments_lexer": "ipython3",
   "version": "3.8.8"
  }
 },
 "nbformat": 4,
 "nbformat_minor": 5
}
