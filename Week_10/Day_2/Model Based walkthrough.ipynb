{
 "cells": [
  {
   "cell_type": "code",
   "execution_count": 3,
   "id": "a06b9751-ff5d-4038-b397-59f239b6fab4",
   "metadata": {},
   "outputs": [
    {
     "data": {
      "text/html": [
       "<div>\n",
       "<style scoped>\n",
       "    .dataframe tbody tr th:only-of-type {\n",
       "        vertical-align: middle;\n",
       "    }\n",
       "\n",
       "    .dataframe tbody tr th {\n",
       "        vertical-align: top;\n",
       "    }\n",
       "\n",
       "    .dataframe thead th {\n",
       "        text-align: right;\n",
       "    }\n",
       "</style>\n",
       "<table border=\"1\" class=\"dataframe\">\n",
       "  <thead>\n",
       "    <tr style=\"text-align: right;\">\n",
       "      <th></th>\n",
       "      <th>uid</th>\n",
       "      <th>iid</th>\n",
       "      <th>rating</th>\n",
       "    </tr>\n",
       "  </thead>\n",
       "  <tbody>\n",
       "    <tr>\n",
       "      <th>0</th>\n",
       "      <td>1</td>\n",
       "      <td>1</td>\n",
       "      <td>2.0</td>\n",
       "    </tr>\n",
       "    <tr>\n",
       "      <th>1</th>\n",
       "      <td>1</td>\n",
       "      <td>2</td>\n",
       "      <td>4.0</td>\n",
       "    </tr>\n",
       "    <tr>\n",
       "      <th>2</th>\n",
       "      <td>1</td>\n",
       "      <td>3</td>\n",
       "      <td>3.5</td>\n",
       "    </tr>\n",
       "    <tr>\n",
       "      <th>3</th>\n",
       "      <td>1</td>\n",
       "      <td>4</td>\n",
       "      <td>3.0</td>\n",
       "    </tr>\n",
       "    <tr>\n",
       "      <th>4</th>\n",
       "      <td>1</td>\n",
       "      <td>5</td>\n",
       "      <td>4.0</td>\n",
       "    </tr>\n",
       "  </tbody>\n",
       "</table>\n",
       "</div>"
      ],
      "text/plain": [
       "   uid  iid  rating\n",
       "0    1    1     2.0\n",
       "1    1    2     4.0\n",
       "2    1    3     3.5\n",
       "3    1    4     3.0\n",
       "4    1    5     4.0"
      ]
     },
     "execution_count": 3,
     "metadata": {},
     "output_type": "execute_result"
    }
   ],
   "source": [
    "import numpy as np\n",
    "import pandas as pd\n",
    "import urllib\n",
    "import io\n",
    "import zipfile\n",
    "\n",
    "dataset = pd.read_table('ratings.txt', sep = ' ', names = ['uid', 'iid', 'rating'])\n",
    "\n",
    "dataset.head()"
   ]
  },
  {
   "cell_type": "markdown",
   "id": "8823f200-7222-45e3-b809-7eef551ab180",
   "metadata": {},
   "source": [
    "In a sparse format, the first column is the row number of the matrix ii; the second column is the column number of the matrix jj; and the third row is the matrix entry RijRij. For this dataset, the first column is the user ID, the second is the ID of the movie they’ve reviewed, and the third column is their review score. This sparse format is also the input that matrix factorisation methods require, rather than the full matrix RR, this is because they only use the non-missing matrix entries."
   ]
  },
  {
   "cell_type": "markdown",
   "id": "a566301e-1bd0-431a-bb13-3dec21d6a042",
   "metadata": {},
   "source": [
    "# Fitting the Model\n"
   ]
  },
  {
   "cell_type": "code",
   "execution_count": 4,
   "id": "dded1148-93a3-4329-9215-995bec20edb6",
   "metadata": {},
   "outputs": [
    {
     "name": "stdout",
     "output_type": "stream",
     "text": [
      "Review range: 0.5 to 4.0\n"
     ]
    }
   ],
   "source": [
    "import surprise\n",
    "\n",
    "lower_rating = dataset['rating'].min()\n",
    "upper_rating = dataset['rating'].max()\n",
    "print('Review range: {0} to {1}'.format(lower_rating, upper_rating))"
   ]
  },
  {
   "cell_type": "code",
   "execution_count": 5,
   "id": "848f652b-2047-4970-906c-81bbf8728db7",
   "metadata": {},
   "outputs": [
    {
     "data": {
      "text/plain": [
       "<surprise.dataset.DatasetAutoFolds at 0x1a89ecd8c40>"
      ]
     },
     "execution_count": 5,
     "metadata": {},
     "output_type": "execute_result"
    }
   ],
   "source": [
    "reader = surprise.Reader(rating_scale = (0.5, 4.))\n",
    "data = surprise.Dataset.load_from_df(dataset, reader)\n",
    "data"
   ]
  },
  {
   "cell_type": "code",
   "execution_count": 6,
   "id": "0232bf38-ccda-4358-9a1e-5a91000b3bd6",
   "metadata": {},
   "outputs": [],
   "source": [
    "alg = surprise.SVDpp()\n",
    "output = alg.fit(data.build_full_trainset())"
   ]
  },
  {
   "cell_type": "markdown",
   "id": "2612a952-2a69-4b4b-8c37-549f0bd2aa05",
   "metadata": {},
   "source": [
    "For now we’ve just trained the model on the whole dataset, which is not good practice but we do it just to give you an idea of how the models and predictions work. Later on we’ll cover proper testing and evaluation; as well as hyperparameter tuning to maximise performance."
   ]
  },
  {
   "cell_type": "code",
   "execution_count": 8,
   "id": "ec31b756-daae-42d4-bec8-e03229806e9f",
   "metadata": {},
   "outputs": [
    {
     "name": "stdout",
     "output_type": "stream",
     "text": [
      "3.0028030537791928\n"
     ]
    }
   ],
   "source": [
    "# The uids and iids should be set as strings\n",
    "pred = alg.predict(uid='50', iid='52')\n",
    "score = pred.est\n",
    "print(score)"
   ]
  },
  {
   "cell_type": "markdown",
   "id": "dadd90de-1ac3-4c58-a898-339c2857869e",
   "metadata": {},
   "source": [
    "So in this case the estimate was a score of 3. But in order to recommend the best products to users, we need to find `n` items that have the highest predicted score. We'll do this in the next section."
   ]
  },
  {
   "cell_type": "markdown",
   "id": "961ef167-99f8-42af-8e1c-878134be0ba2",
   "metadata": {},
   "source": [
    "# Making Recommendations\n"
   ]
  },
  {
   "cell_type": "code",
   "execution_count": 9,
   "id": "13ba51f9-3169-40cc-a18d-5254e5e84c5d",
   "metadata": {},
   "outputs": [],
   "source": [
    "# Get a list of all movie ids\n",
    "iids = dataset['iid'].unique()\n",
    "# Get a list of iids that uid 50 has rated\n",
    "iids50 = dataset.loc[dataset['uid'] == 50, 'iid']\n",
    "# Remove the iids that uid 50 has rated from the list of all movie ids, so we don't recommend them movies they've already watched.\n",
    "iids_to_pred = np.setdiff1d(iids, iids50)"
   ]
  },
  {
   "cell_type": "markdown",
   "id": "2c2af86e-deeb-41d8-9620-b897f07e8c3a",
   "metadata": {},
   "source": [
    "Next we want to predict the score of each of the movie ids that user 50 didn’t rate, and find the best one. For this we have to create another dataset with the `iids` we want to predict in the sparse format as before of: `uid`, `iid`, `rating`. We'll just arbitrarily set all the ratings of this test set to 4, as they are not needed."
   ]
  },
  {
   "cell_type": "code",
   "execution_count": 12,
   "id": "3e30d54e-5546-4f47-96d3-a7fec8f2c404",
   "metadata": {},
   "outputs": [
    {
     "data": {
      "text/plain": [
       "[Prediction(uid=50, iid=14, r_ui=4.0, est=3.114136241549389, details={'was_impossible': False}),\n",
       " Prediction(uid=50, iid=15, r_ui=4.0, est=3.2888408583873936, details={'was_impossible': False}),\n",
       " Prediction(uid=50, iid=16, r_ui=4.0, est=3.6259739911198596, details={'was_impossible': False})]"
      ]
     },
     "execution_count": 12,
     "metadata": {},
     "output_type": "execute_result"
    }
   ],
   "source": [
    "testset = [[50, iid, 4.] for iid in iids_to_pred]\n",
    "predictions = alg.test(testset)\n",
    "predictions[0:3] # show first 3"
   ]
  },
  {
   "cell_type": "code",
   "execution_count": 13,
   "id": "61978ad6-a17a-496d-99f6-4d3f8c9463b3",
   "metadata": {},
   "outputs": [
    {
     "name": "stdout",
     "output_type": "stream",
     "text": [
      "Top item for user 50 has iid 286 with predicted rating 4.0\n"
     ]
    }
   ],
   "source": [
    "# Convert to array of ratings to find the iid with the best predicted rating\n",
    "pred_ratings = np.array([pred.est for pred in predictions])\n",
    "# Find the index of the maximum predicted rating\n",
    "i_max = pred_ratings.argmax()\n",
    "# Use this to find the corresponding iid to recommend\n",
    "iid = iids_to_pred[i_max]\n",
    "print('Top item for user 50 has iid {0} with predicted rating {1}'.format(iid, pred_ratings[i_max]))"
   ]
  },
  {
   "cell_type": "markdown",
   "id": "4b8896b4-e161-48cd-aea1-fea13f9875e8",
   "metadata": {},
   "source": [
    "Similarly you can get the top `n` items for user 50, just replace the `argmax()` method with the `argpartition()` method as per this [stackoverflow question](https://stackoverflow.com/questions/6910641/how-do-i-get-indices-of-n-maximum-values-in-a-numpy-array)."
   ]
  },
  {
   "cell_type": "markdown",
   "id": "677f6484-457b-4e46-a171-9aa28889e5f5",
   "metadata": {},
   "source": [
    "# Tuning and Evaluating the Model\n"
   ]
  },
  {
   "cell_type": "code",
   "execution_count": 15,
   "id": "91957317-4288-4318-8075-be42cb05be52",
   "metadata": {},
   "outputs": [
    {
     "name": "stdout",
     "output_type": "stream",
     "text": [
      "{'lr_all': 0.01, 'reg_all': 0.1}\n"
     ]
    }
   ],
   "source": [
    "param_grid = {'lr_all': [0.001, 0.01], 'reg_all': [0.1, 0.5]}\n",
    "gs = surprise.model_selection.GridSearchCV(surprise.SVDpp, param_grid, measures = ['rmse', 'mae'], cv=3)\n",
    "gs.fit(data)\n",
    "print(gs.best_params['rmse'])"
   ]
  },
  {
   "cell_type": "code",
   "execution_count": 16,
   "id": "11be7034-4085-4755-89c4-a1b7178c2ef5",
   "metadata": {},
   "outputs": [
    {
     "name": "stdout",
     "output_type": "stream",
     "text": [
      "Evaluating RMSE, MAE of algorithm SVDpp on 5 split(s).\n",
      "\n",
      "                  Fold 1  Fold 2  Fold 3  Fold 4  Fold 5  Mean    Std     \n",
      "RMSE (testset)    0.8287  0.8193  0.8331  0.8328  0.8258  0.8279  0.0051  \n",
      "MAE (testset)     0.6543  0.6444  0.6603  0.6586  0.6567  0.6549  0.0056  \n",
      "Fit time          10.49   10.43   10.50   10.54   10.73   10.54   0.10    \n",
      "Test time         0.18    0.22    0.19    0.18    0.18    0.19    0.01    \n"
     ]
    }
   ],
   "source": [
    "alg = surprise.SVDpp(lr_all = 0.001) # parameter choices can be added here.\n",
    "output = surprise.model_selection.cross_validate(alg, data, verbose = True)"
   ]
  },
  {
   "cell_type": "code",
   "execution_count": null,
   "id": "6ffcf65b-7f06-438c-871c-ff4aeda2d19d",
   "metadata": {},
   "outputs": [],
   "source": []
  }
 ],
 "metadata": {
  "kernelspec": {
   "display_name": "Python 3 (ipykernel)",
   "language": "python",
   "name": "python3"
  },
  "language_info": {
   "codemirror_mode": {
    "name": "ipython",
    "version": 3
   },
   "file_extension": ".py",
   "mimetype": "text/x-python",
   "name": "python",
   "nbconvert_exporter": "python",
   "pygments_lexer": "ipython3",
   "version": "3.9.7"
  }
 },
 "nbformat": 4,
 "nbformat_minor": 5
}
