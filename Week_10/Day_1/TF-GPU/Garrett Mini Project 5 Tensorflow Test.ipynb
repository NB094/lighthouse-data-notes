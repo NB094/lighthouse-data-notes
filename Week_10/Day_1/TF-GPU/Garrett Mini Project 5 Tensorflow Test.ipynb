{
 "cells": [
  {
   "cell_type": "code",
   "execution_count": 1,
   "id": "87ef6532-9295-4eb7-9bcc-a41b101dde6f",
   "metadata": {},
   "outputs": [],
   "source": [
    "import nltk\n",
    "import string\n",
    "import re\n",
    "from numpy import array, argmax, random, take\n",
    "import pandas as pd\n",
    "from keras.models import Sequential\n",
    "from keras.layers import Dense, LSTM, Embedding, RepeatVector\n",
    "from keras.preprocessing.text import Tokenizer\n",
    "from keras.callbacks import ModelCheckpoint\n",
    "from keras.preprocessing.sequence import pad_sequences\n",
    "from keras.models import load_model\n",
    "from keras import optimizers\n",
    "import matplotlib.pyplot as plt\n",
    "%matplotlib inline\n",
    "pd.set_option('display.max_colwidth', 200)"
   ]
  },
  {
   "cell_type": "code",
   "execution_count": 2,
   "id": "ed2c1b2b-6f16-40c9-a502-e43e22aa2600",
   "metadata": {},
   "outputs": [
    {
     "name": "stderr",
     "output_type": "stream",
     "text": [
      "[nltk_data] Downloading package comtrans to C:\\nltk_data...\n",
      "[nltk_data]   Package comtrans is already up-to-date!\n"
     ]
    },
    {
     "data": {
      "text/plain": [
       "True"
      ]
     },
     "execution_count": 2,
     "metadata": {},
     "output_type": "execute_result"
    }
   ],
   "source": [
    "nltk.download('comtrans')"
   ]
  },
  {
   "cell_type": "code",
   "execution_count": 3,
   "id": "66f85312-ce8e-4781-a4f5-be3beccbbbbb",
   "metadata": {},
   "outputs": [
    {
     "name": "stdout",
     "output_type": "stream",
     "text": [
      "<AlignedSent: 'Please rise , then ,...' -> 'Je vous invite à vou...'>\n"
     ]
    }
   ],
   "source": [
    "from nltk.corpus import comtrans\n",
    "print(comtrans.aligned_sents('alignment-en-fr.txt')[3])"
   ]
  },
  {
   "cell_type": "code",
   "execution_count": 4,
   "id": "a57354f4-420d-4fea-b26c-6b62560c86e2",
   "metadata": {},
   "outputs": [
    {
     "data": {
      "text/plain": [
       "33334"
      ]
     },
     "execution_count": 4,
     "metadata": {},
     "output_type": "execute_result"
    }
   ],
   "source": [
    "len(comtrans.aligned_sents('alignment-en-fr.txt'))"
   ]
  },
  {
   "cell_type": "code",
   "execution_count": 5,
   "id": "6b374f59-c877-442f-8b66-7290a5d75e46",
   "metadata": {},
   "outputs": [
    {
     "name": "stdout",
     "output_type": "stream",
     "text": [
      "['Please', 'rise', ',', 'then', ',', 'for', 'this', 'minute', \"'\", 's', 'silence', '.']\n"
     ]
    }
   ],
   "source": [
    "print(comtrans.aligned_sents('alignment-en-fr.txt')[3].words)"
   ]
  },
  {
   "cell_type": "code",
   "execution_count": 6,
   "id": "a042967b-849a-420d-bfaa-1e1715716ee8",
   "metadata": {},
   "outputs": [
    {
     "name": "stdout",
     "output_type": "stream",
     "text": [
      "['Je', 'vous', 'invite', 'à', 'vous', 'lever', 'pour', 'cette', 'minute', 'de', 'silence', '.']\n"
     ]
    }
   ],
   "source": [
    "print(comtrans.aligned_sents('alignment-en-fr.txt')[3].mots)"
   ]
  },
  {
   "cell_type": "code",
   "execution_count": 7,
   "id": "727ba69d-272f-4541-9689-dc777767aed5",
   "metadata": {},
   "outputs": [
    {
     "name": "stdout",
     "output_type": "stream",
     "text": [
      "0-0 0-1 0-2 0-4 1-5 5-6 6-7 7-8 8-10 9-9 9-10 10-10 11-11\n"
     ]
    }
   ],
   "source": [
    "print(comtrans.aligned_sents('alignment-en-fr.txt')[3].alignment)"
   ]
  },
  {
   "cell_type": "code",
   "execution_count": 8,
   "id": "e81f19d0-c048-43e3-a312-08187c4b6395",
   "metadata": {},
   "outputs": [],
   "source": [
    "import pickle\n",
    "import re\n",
    "import string\n",
    "from collections import Counter"
   ]
  },
  {
   "cell_type": "code",
   "execution_count": 9,
   "id": "a795509d-7e9d-4bc3-bac8-c93b58255e64",
   "metadata": {},
   "outputs": [],
   "source": [
    "english_sent = [sent.words for sent in comtrans.aligned_sents('alignment-en-fr.txt')]\n",
    "french_sent = [sent.mots for sent in comtrans.aligned_sents('alignment-en-fr.txt')]"
   ]
  },
  {
   "cell_type": "code",
   "execution_count": 10,
   "id": "d93b44a6-d991-4e9c-a3ff-8e3efdc8ffdb",
   "metadata": {},
   "outputs": [
    {
     "data": {
      "text/plain": [
       "['Resumption', 'of', 'the', 'session']"
      ]
     },
     "execution_count": 10,
     "metadata": {},
     "output_type": "execute_result"
    }
   ],
   "source": [
    "english_sent[0]"
   ]
  },
  {
   "cell_type": "code",
   "execution_count": 11,
   "id": "051b9df3-3453-4643-be71-cca62c693442",
   "metadata": {},
   "outputs": [
    {
     "data": {
      "text/plain": [
       "['Reprise', 'de', 'la', 'session']"
      ]
     },
     "execution_count": 11,
     "metadata": {},
     "output_type": "execute_result"
    }
   ],
   "source": [
    "french_sent[0]"
   ]
  },
  {
   "cell_type": "code",
   "execution_count": 12,
   "id": "c6343b3a-463b-42cb-92a6-6972c1e3da2a",
   "metadata": {},
   "outputs": [
    {
     "data": {
      "text/plain": [
       "33334"
      ]
     },
     "execution_count": 12,
     "metadata": {},
     "output_type": "execute_result"
    }
   ],
   "source": [
    "len(english_sent)"
   ]
  },
  {
   "cell_type": "code",
   "execution_count": 13,
   "id": "bff33d07-759d-46c6-bcc4-0ea108527ce3",
   "metadata": {},
   "outputs": [
    {
     "data": {
      "text/plain": [
       "33334"
      ]
     },
     "execution_count": 13,
     "metadata": {},
     "output_type": "execute_result"
    }
   ],
   "source": [
    "len(french_sent)"
   ]
  },
  {
   "cell_type": "code",
   "execution_count": 14,
   "id": "25c6ff20-3f5e-45e5-b6d9-eb2c98de00f0",
   "metadata": {},
   "outputs": [],
   "source": [
    "def clean_sentence(sentence):\n",
    "    sentence2 = [s.translate(str.maketrans('','',string.punctuation)) for s in sentence]\n",
    "    clean_words = [word.lower() for word in sentence2 if word != '']\n",
    "    return clean_words"
   ]
  },
  {
   "cell_type": "code",
   "execution_count": 15,
   "id": "1d55dc18-85b4-41b1-8c28-8e5fc3301c80",
   "metadata": {},
   "outputs": [],
   "source": [
    "clean_sen_en = [clean_sentence(s) for s in english_sent]"
   ]
  },
  {
   "cell_type": "code",
   "execution_count": 16,
   "id": "f4136e39-4f86-48ab-b3d0-5a486b9ed848",
   "metadata": {},
   "outputs": [],
   "source": [
    "clean_sen_fr = [clean_sentence(s) for s in french_sent]"
   ]
  },
  {
   "cell_type": "code",
   "execution_count": 17,
   "id": "26d659ca-de60-49e1-8915-14a6a38189f2",
   "metadata": {},
   "outputs": [],
   "source": [
    "def filter_sentence_length(sentences_l1, sentences_l2, min_len=0, max_len=20):\n",
    "    filtered_sentences_l1=[]\n",
    "    filtered_sentences_l2=[]\n",
    "    for i in range(len(sentences_l1)):\n",
    "        if min_len <= len(sentences_l1[i]) <= max_len and min_len <= len(sentences_l2[i]) <= max_len:\n",
    "            filtered_sentences_l1.append(sentences_l1[i])\n",
    "            filtered_sentences_l2.append(sentences_l2[i])\n",
    "    return filtered_sentences_l1, filtered_sentences_l2"
   ]
  },
  {
   "cell_type": "code",
   "execution_count": 18,
   "id": "cbab2b73-5742-4916-9cbe-cd41af1548dd",
   "metadata": {},
   "outputs": [],
   "source": [
    "filt_clean_sen_en, filt_clean_sen_fr = filter_sentence_length(clean_sen_en, clean_sen_fr)"
   ]
  },
  {
   "cell_type": "code",
   "execution_count": 19,
   "id": "b0510020-7715-4b44-bb96-2936ee2acb19",
   "metadata": {},
   "outputs": [],
   "source": [
    "def create_indexed_dictionary(sentences, dict_size=10000, storage_path=None):\n",
    "    count_words = Counter()\n",
    "    dict_words = {}\n",
    "    for sen in sentences:\n",
    "        for word in sen:\n",
    "            count_words[word] += 1\n",
    "    \n",
    "    for idx, item in enumerate(count_words.most_common(dict_size)):\n",
    "        dict_words[item[0]] = idx +1\n",
    "        \n",
    "    if storage_path:\n",
    "        pickle.dump(dict_words, open(storage_path, 'wb'))\n",
    "    return dict_words\n",
    "            "
   ]
  },
  {
   "cell_type": "code",
   "execution_count": 20,
   "id": "ad3bee1c-6b97-4db2-9f06-593ab54cf8f4",
   "metadata": {},
   "outputs": [],
   "source": [
    "def sentences_to_indexes(sentences, indexed_dictionary):\n",
    "    indexed_sentences = []\n",
    "    not_found_counter = 0\n",
    "    for sent in sentences:\n",
    "        idx_sent = []\n",
    "        for word in sent:\n",
    "            try:\n",
    "                idx_sent.append(indexed_dictionary[word])\n",
    "            except KeyError:\n",
    "                idx_sent.append(data_utils.UNK_ID)\n",
    "                not_found_counter += 1\n",
    "        indexed_sentences.append(idx_sent)\n",
    "\n",
    "    print('[sentences_to_indexes] Did not find {} words'.format(not_found_counter))\n",
    "    return indexed_sentences"
   ]
  },
  {
   "cell_type": "code",
   "execution_count": 21,
   "id": "dcbe7fa6-b57f-46cc-874f-60ecaf67d32c",
   "metadata": {},
   "outputs": [],
   "source": [
    "dict_en = create_indexed_dictionary(filt_clean_sen_en, dict_size=15000, storage_path='en_dict.pickle')"
   ]
  },
  {
   "cell_type": "code",
   "execution_count": 22,
   "id": "f93a937b-4225-4748-a9f1-9b1f28a40caf",
   "metadata": {},
   "outputs": [],
   "source": [
    "dict_fr = create_indexed_dictionary(filt_clean_sen_fr, dict_size=15000, storage_path='fr_dict.pickle')"
   ]
  },
  {
   "cell_type": "code",
   "execution_count": 23,
   "id": "329f3d73-0ff7-4872-9ddb-a68c9cff4ce7",
   "metadata": {},
   "outputs": [
    {
     "name": "stdout",
     "output_type": "stream",
     "text": [
      "[sentences_to_indexes] Did not find 0 words\n"
     ]
    }
   ],
   "source": [
    "idx_sentences_en = sentences_to_indexes(filt_clean_sen_en, dict_en)"
   ]
  },
  {
   "cell_type": "code",
   "execution_count": 24,
   "id": "7c4a5cfb-67c6-4e9a-9a0a-3f6b07365427",
   "metadata": {},
   "outputs": [
    {
     "name": "stdout",
     "output_type": "stream",
     "text": [
      "[sentences_to_indexes] Did not find 0 words\n"
     ]
    }
   ],
   "source": [
    "idx_sentences_fr = sentences_to_indexes(filt_clean_sen_fr, dict_fr)"
   ]
  },
  {
   "cell_type": "code",
   "execution_count": 25,
   "id": "4f05acad-565f-4559-809c-23c2715c79ec",
   "metadata": {},
   "outputs": [],
   "source": [
    "def extract_max_length(corpora):\n",
    "    return max([len(sentence) for sentence in corpora])"
   ]
  },
  {
   "cell_type": "code",
   "execution_count": 26,
   "id": "60d55864-5666-4f72-8dad-92cebfe05cf1",
   "metadata": {},
   "outputs": [],
   "source": [
    "max_length_en = extract_max_length(idx_sentences_en)\n",
    "max_length_fr = extract_max_length(idx_sentences_fr)"
   ]
  },
  {
   "cell_type": "code",
   "execution_count": 27,
   "id": "44745ce0-9094-44e7-b7a5-cde39325df7a",
   "metadata": {},
   "outputs": [],
   "source": [
    "def prepare_sentences(sentences_en, sentences_fr, len_en, len_fr):\n",
    "    assert len(sentences_en) == len(sentences_fr)\n",
    "    data_set = []\n",
    "    for i in range(len(sentences_en)):\n",
    "        padding_en = len_en - len(sentences_en[i])\n",
    "        pad_sentence_en = sentences_en[i] + ([0] * padding_en)\n",
    "        padding_fr = len_fr - len(sentences_fr[i])\n",
    "        pad_sentence_fr = sentences_fr[i] + ([0] * padding_fr)\n",
    "        data_set.append([pad_sentence_en, pad_sentence_fr])\n",
    "    return data_set"
   ]
  },
  {
   "cell_type": "code",
   "execution_count": 28,
   "id": "e31733b7-df95-44ae-8379-dd25f88a602d",
   "metadata": {},
   "outputs": [],
   "source": [
    "data_set = prepare_sentences(idx_sentences_en, idx_sentences_fr, max_length_en, max_length_fr)"
   ]
  },
  {
   "cell_type": "code",
   "execution_count": 29,
   "id": "cc421270-7030-4bf6-8165-531f05768c40",
   "metadata": {},
   "outputs": [],
   "source": [
    "data_set = array(data_set)"
   ]
  },
  {
   "cell_type": "code",
   "execution_count": 30,
   "id": "cdbf183b-ceb7-4bc0-8537-b4ac6a3c8cce",
   "metadata": {},
   "outputs": [],
   "source": [
    "from sklearn.model_selection import train_test_split"
   ]
  },
  {
   "cell_type": "code",
   "execution_count": 31,
   "id": "608d3e96-afa2-444b-9421-3ae883687288",
   "metadata": {},
   "outputs": [],
   "source": [
    "en_encoded = []\n",
    "fr_encoded = []\n",
    "for i in range(len(data_set)):\n",
    "    en_encoded.append(data_set[i][0])\n",
    "    fr_encoded.append(data_set[i][1])"
   ]
  },
  {
   "cell_type": "code",
   "execution_count": 32,
   "id": "999f03d8-745b-47ff-b2c0-e4a375f91f65",
   "metadata": {},
   "outputs": [],
   "source": [
    "en_encoded = array(en_encoded)\n",
    "fr_encoded = array(fr_encoded)"
   ]
  },
  {
   "cell_type": "code",
   "execution_count": 33,
   "id": "5323ae6e-c4d8-492b-ab1d-b923b41a6ebf",
   "metadata": {},
   "outputs": [],
   "source": [
    "en_train, en_test, fr_train, fr_test = train_test_split(en_encoded, fr_encoded, random_state = 50)"
   ]
  },
  {
   "cell_type": "code",
   "execution_count": 34,
   "id": "693ad376-2ca5-4f3b-93ad-8787c426ca0d",
   "metadata": {},
   "outputs": [],
   "source": [
    "model = Sequential()\n",
    "model.add(Embedding(len(dict_fr), 256, input_length = len(fr_train[0]), mask_zero=True))\n",
    "model.add(LSTM(256))\n",
    "model.add(RepeatVector(len(en_train[0])))\n",
    "model.add(LSTM(256, return_sequences=True))\n",
    "model.add(Dense(len(dict_en), activation='softmax'))"
   ]
  },
  {
   "cell_type": "code",
   "execution_count": 35,
   "id": "a5fcda15-2dc4-4162-9d3d-9318bd7fca71",
   "metadata": {},
   "outputs": [],
   "source": [
    "from tensorflow.keras import optimizers"
   ]
  },
  {
   "cell_type": "code",
   "execution_count": 36,
   "id": "cb92bb32-94d8-4dad-b28f-39150bf14886",
   "metadata": {},
   "outputs": [],
   "source": [
    "model.compile(optimizer='adam', loss='sparse_categorical_crossentropy')"
   ]
  },
  {
   "cell_type": "code",
   "execution_count": 37,
   "id": "1aac2117-e8e7-4c23-aa87-1de6651e5b3b",
   "metadata": {},
   "outputs": [],
   "source": [
    "filename = 'model.h1.16_sep_21'\n",
    "checkpoint = ModelCheckpoint(filename, monitor='val_loss', verbose=1, save_best_only=False, mode='min')"
   ]
  },
  {
   "cell_type": "code",
   "execution_count": 38,
   "id": "13562587-0fb1-48e4-b32a-fb07e5e4c37a",
   "metadata": {},
   "outputs": [
    {
     "name": "stdout",
     "output_type": "stream",
     "text": [
      "Epoch 1/30\n",
      "40/40 [==============================] - 8s 86ms/step - loss: 6.0419 - val_loss: nan\n",
      "\n",
      "Epoch 00001: saving model to model.h1.16_sep_21\n"
     ]
    },
    {
     "name": "stderr",
     "output_type": "stream",
     "text": [
      "WARNING:absl:Found untraced functions such as lstm_cell_layer_call_and_return_conditional_losses, lstm_cell_layer_call_fn, lstm_cell_1_layer_call_and_return_conditional_losses, lstm_cell_1_layer_call_fn, lstm_cell_layer_call_fn while saving (showing 5 of 10). These functions will not be directly callable after loading.\n"
     ]
    },
    {
     "name": "stdout",
     "output_type": "stream",
     "text": [
      "INFO:tensorflow:Assets written to: model.h1.16_sep_21\\assets\n"
     ]
    },
    {
     "name": "stderr",
     "output_type": "stream",
     "text": [
      "INFO:tensorflow:Assets written to: model.h1.16_sep_21\\assets\n"
     ]
    },
    {
     "name": "stdout",
     "output_type": "stream",
     "text": [
      "Epoch 2/30\n",
      "40/40 [==============================] - 2s 62ms/step - loss: 4.5372 - val_loss: nan\n",
      "\n",
      "Epoch 00002: saving model to model.h1.16_sep_21\n"
     ]
    },
    {
     "name": "stderr",
     "output_type": "stream",
     "text": [
      "WARNING:absl:Found untraced functions such as lstm_cell_layer_call_and_return_conditional_losses, lstm_cell_layer_call_fn, lstm_cell_1_layer_call_and_return_conditional_losses, lstm_cell_1_layer_call_fn, lstm_cell_layer_call_fn while saving (showing 5 of 10). These functions will not be directly callable after loading.\n"
     ]
    },
    {
     "name": "stdout",
     "output_type": "stream",
     "text": [
      "INFO:tensorflow:Assets written to: model.h1.16_sep_21\\assets\n"
     ]
    },
    {
     "name": "stderr",
     "output_type": "stream",
     "text": [
      "INFO:tensorflow:Assets written to: model.h1.16_sep_21\\assets\n"
     ]
    },
    {
     "name": "stdout",
     "output_type": "stream",
     "text": [
      "Epoch 3/30\n",
      "40/40 [==============================] - 2s 57ms/step - loss: 4.5137 - val_loss: nan\n",
      "\n",
      "Epoch 00003: saving model to model.h1.16_sep_21\n"
     ]
    },
    {
     "name": "stderr",
     "output_type": "stream",
     "text": [
      "WARNING:absl:Found untraced functions such as lstm_cell_layer_call_and_return_conditional_losses, lstm_cell_layer_call_fn, lstm_cell_1_layer_call_and_return_conditional_losses, lstm_cell_1_layer_call_fn, lstm_cell_layer_call_fn while saving (showing 5 of 10). These functions will not be directly callable after loading.\n"
     ]
    },
    {
     "name": "stdout",
     "output_type": "stream",
     "text": [
      "INFO:tensorflow:Assets written to: model.h1.16_sep_21\\assets\n"
     ]
    },
    {
     "name": "stderr",
     "output_type": "stream",
     "text": [
      "INFO:tensorflow:Assets written to: model.h1.16_sep_21\\assets\n"
     ]
    },
    {
     "name": "stdout",
     "output_type": "stream",
     "text": [
      "Epoch 4/30\n",
      "40/40 [==============================] - 2s 54ms/step - loss: 4.5025 - val_loss: nan\n",
      "\n",
      "Epoch 00004: saving model to model.h1.16_sep_21\n"
     ]
    },
    {
     "name": "stderr",
     "output_type": "stream",
     "text": [
      "WARNING:absl:Found untraced functions such as lstm_cell_layer_call_and_return_conditional_losses, lstm_cell_layer_call_fn, lstm_cell_1_layer_call_and_return_conditional_losses, lstm_cell_1_layer_call_fn, lstm_cell_layer_call_fn while saving (showing 5 of 10). These functions will not be directly callable after loading.\n"
     ]
    },
    {
     "name": "stdout",
     "output_type": "stream",
     "text": [
      "INFO:tensorflow:Assets written to: model.h1.16_sep_21\\assets\n"
     ]
    },
    {
     "name": "stderr",
     "output_type": "stream",
     "text": [
      "INFO:tensorflow:Assets written to: model.h1.16_sep_21\\assets\n"
     ]
    },
    {
     "name": "stdout",
     "output_type": "stream",
     "text": [
      "Epoch 5/30\n",
      "40/40 [==============================] - 2s 59ms/step - loss: 4.4757 - val_loss: nan\n",
      "\n",
      "Epoch 00005: saving model to model.h1.16_sep_21\n"
     ]
    },
    {
     "name": "stderr",
     "output_type": "stream",
     "text": [
      "WARNING:absl:Found untraced functions such as lstm_cell_layer_call_and_return_conditional_losses, lstm_cell_layer_call_fn, lstm_cell_1_layer_call_and_return_conditional_losses, lstm_cell_1_layer_call_fn, lstm_cell_layer_call_fn while saving (showing 5 of 10). These functions will not be directly callable after loading.\n"
     ]
    },
    {
     "name": "stdout",
     "output_type": "stream",
     "text": [
      "INFO:tensorflow:Assets written to: model.h1.16_sep_21\\assets\n"
     ]
    },
    {
     "name": "stderr",
     "output_type": "stream",
     "text": [
      "INFO:tensorflow:Assets written to: model.h1.16_sep_21\\assets\n"
     ]
    },
    {
     "name": "stdout",
     "output_type": "stream",
     "text": [
      "Epoch 6/30\n",
      "40/40 [==============================] - 2s 59ms/step - loss: 4.4342 - val_loss: nan\n",
      "\n",
      "Epoch 00006: saving model to model.h1.16_sep_21\n"
     ]
    },
    {
     "name": "stderr",
     "output_type": "stream",
     "text": [
      "WARNING:absl:Found untraced functions such as lstm_cell_layer_call_and_return_conditional_losses, lstm_cell_layer_call_fn, lstm_cell_1_layer_call_and_return_conditional_losses, lstm_cell_1_layer_call_fn, lstm_cell_layer_call_fn while saving (showing 5 of 10). These functions will not be directly callable after loading.\n"
     ]
    },
    {
     "name": "stdout",
     "output_type": "stream",
     "text": [
      "INFO:tensorflow:Assets written to: model.h1.16_sep_21\\assets\n"
     ]
    },
    {
     "name": "stderr",
     "output_type": "stream",
     "text": [
      "INFO:tensorflow:Assets written to: model.h1.16_sep_21\\assets\n"
     ]
    },
    {
     "name": "stdout",
     "output_type": "stream",
     "text": [
      "Epoch 7/30\n",
      "40/40 [==============================] - 2s 59ms/step - loss: 4.3796 - val_loss: nan\n",
      "\n",
      "Epoch 00007: saving model to model.h1.16_sep_21\n"
     ]
    },
    {
     "name": "stderr",
     "output_type": "stream",
     "text": [
      "WARNING:absl:Found untraced functions such as lstm_cell_layer_call_and_return_conditional_losses, lstm_cell_layer_call_fn, lstm_cell_1_layer_call_and_return_conditional_losses, lstm_cell_1_layer_call_fn, lstm_cell_layer_call_fn while saving (showing 5 of 10). These functions will not be directly callable after loading.\n"
     ]
    },
    {
     "name": "stdout",
     "output_type": "stream",
     "text": [
      "INFO:tensorflow:Assets written to: model.h1.16_sep_21\\assets\n"
     ]
    },
    {
     "name": "stderr",
     "output_type": "stream",
     "text": [
      "INFO:tensorflow:Assets written to: model.h1.16_sep_21\\assets\n"
     ]
    },
    {
     "name": "stdout",
     "output_type": "stream",
     "text": [
      "Epoch 8/30\n",
      "40/40 [==============================] - 2s 61ms/step - loss: 4.3126 - val_loss: nan\n",
      "\n",
      "Epoch 00008: saving model to model.h1.16_sep_21\n"
     ]
    },
    {
     "name": "stderr",
     "output_type": "stream",
     "text": [
      "WARNING:absl:Found untraced functions such as lstm_cell_layer_call_and_return_conditional_losses, lstm_cell_layer_call_fn, lstm_cell_1_layer_call_and_return_conditional_losses, lstm_cell_1_layer_call_fn, lstm_cell_layer_call_fn while saving (showing 5 of 10). These functions will not be directly callable after loading.\n"
     ]
    },
    {
     "name": "stdout",
     "output_type": "stream",
     "text": [
      "INFO:tensorflow:Assets written to: model.h1.16_sep_21\\assets\n"
     ]
    },
    {
     "name": "stderr",
     "output_type": "stream",
     "text": [
      "INFO:tensorflow:Assets written to: model.h1.16_sep_21\\assets\n"
     ]
    },
    {
     "name": "stdout",
     "output_type": "stream",
     "text": [
      "Epoch 9/30\n",
      "40/40 [==============================] - 3s 64ms/step - loss: 4.2520 - val_loss: nan\n",
      "\n",
      "Epoch 00009: saving model to model.h1.16_sep_21\n"
     ]
    },
    {
     "name": "stderr",
     "output_type": "stream",
     "text": [
      "WARNING:absl:Found untraced functions such as lstm_cell_layer_call_and_return_conditional_losses, lstm_cell_layer_call_fn, lstm_cell_1_layer_call_and_return_conditional_losses, lstm_cell_1_layer_call_fn, lstm_cell_layer_call_fn while saving (showing 5 of 10). These functions will not be directly callable after loading.\n"
     ]
    },
    {
     "name": "stdout",
     "output_type": "stream",
     "text": [
      "INFO:tensorflow:Assets written to: model.h1.16_sep_21\\assets\n"
     ]
    },
    {
     "name": "stderr",
     "output_type": "stream",
     "text": [
      "INFO:tensorflow:Assets written to: model.h1.16_sep_21\\assets\n"
     ]
    },
    {
     "name": "stdout",
     "output_type": "stream",
     "text": [
      "Epoch 10/30\n",
      "40/40 [==============================] - 2s 59ms/step - loss: 4.1942 - val_loss: nan\n",
      "\n",
      "Epoch 00010: saving model to model.h1.16_sep_21\n"
     ]
    },
    {
     "name": "stderr",
     "output_type": "stream",
     "text": [
      "WARNING:absl:Found untraced functions such as lstm_cell_layer_call_and_return_conditional_losses, lstm_cell_layer_call_fn, lstm_cell_1_layer_call_and_return_conditional_losses, lstm_cell_1_layer_call_fn, lstm_cell_layer_call_fn while saving (showing 5 of 10). These functions will not be directly callable after loading.\n"
     ]
    },
    {
     "name": "stdout",
     "output_type": "stream",
     "text": [
      "INFO:tensorflow:Assets written to: model.h1.16_sep_21\\assets\n"
     ]
    },
    {
     "name": "stderr",
     "output_type": "stream",
     "text": [
      "INFO:tensorflow:Assets written to: model.h1.16_sep_21\\assets\n"
     ]
    },
    {
     "name": "stdout",
     "output_type": "stream",
     "text": [
      "Epoch 11/30\n",
      "40/40 [==============================] - 2s 60ms/step - loss: 4.1498 - val_loss: nan59 - ETA: 0s - loss: 4.\n",
      "\n",
      "Epoch 00011: saving model to model.h1.16_sep_21\n"
     ]
    },
    {
     "name": "stderr",
     "output_type": "stream",
     "text": [
      "WARNING:absl:Found untraced functions such as lstm_cell_layer_call_and_return_conditional_losses, lstm_cell_layer_call_fn, lstm_cell_1_layer_call_and_return_conditional_losses, lstm_cell_1_layer_call_fn, lstm_cell_layer_call_fn while saving (showing 5 of 10). These functions will not be directly callable after loading.\n"
     ]
    },
    {
     "name": "stdout",
     "output_type": "stream",
     "text": [
      "INFO:tensorflow:Assets written to: model.h1.16_sep_21\\assets\n"
     ]
    },
    {
     "name": "stderr",
     "output_type": "stream",
     "text": [
      "INFO:tensorflow:Assets written to: model.h1.16_sep_21\\assets\n"
     ]
    },
    {
     "name": "stdout",
     "output_type": "stream",
     "text": [
      "Epoch 12/30\n",
      "40/40 [==============================] - 2s 63ms/step - loss: 4.1150 - val_loss: nan\n",
      "\n",
      "Epoch 00012: saving model to model.h1.16_sep_21\n"
     ]
    },
    {
     "name": "stderr",
     "output_type": "stream",
     "text": [
      "WARNING:absl:Found untraced functions such as lstm_cell_layer_call_and_return_conditional_losses, lstm_cell_layer_call_fn, lstm_cell_1_layer_call_and_return_conditional_losses, lstm_cell_1_layer_call_fn, lstm_cell_layer_call_fn while saving (showing 5 of 10). These functions will not be directly callable after loading.\n"
     ]
    },
    {
     "name": "stdout",
     "output_type": "stream",
     "text": [
      "INFO:tensorflow:Assets written to: model.h1.16_sep_21\\assets\n"
     ]
    },
    {
     "name": "stderr",
     "output_type": "stream",
     "text": [
      "INFO:tensorflow:Assets written to: model.h1.16_sep_21\\assets\n"
     ]
    },
    {
     "name": "stdout",
     "output_type": "stream",
     "text": [
      "Epoch 13/30\n",
      "40/40 [==============================] - 3s 65ms/step - loss: 4.0869 - val_loss: nan\n",
      "\n",
      "Epoch 00013: saving model to model.h1.16_sep_21\n"
     ]
    },
    {
     "name": "stderr",
     "output_type": "stream",
     "text": [
      "WARNING:absl:Found untraced functions such as lstm_cell_layer_call_and_return_conditional_losses, lstm_cell_layer_call_fn, lstm_cell_1_layer_call_and_return_conditional_losses, lstm_cell_1_layer_call_fn, lstm_cell_layer_call_fn while saving (showing 5 of 10). These functions will not be directly callable after loading.\n"
     ]
    },
    {
     "name": "stdout",
     "output_type": "stream",
     "text": [
      "INFO:tensorflow:Assets written to: model.h1.16_sep_21\\assets\n"
     ]
    },
    {
     "name": "stderr",
     "output_type": "stream",
     "text": [
      "INFO:tensorflow:Assets written to: model.h1.16_sep_21\\assets\n"
     ]
    },
    {
     "name": "stdout",
     "output_type": "stream",
     "text": [
      "Epoch 14/30\n",
      "40/40 [==============================] - 2s 58ms/step - loss: 4.0616 - val_loss: nan\n",
      "\n",
      "Epoch 00014: saving model to model.h1.16_sep_21\n"
     ]
    },
    {
     "name": "stderr",
     "output_type": "stream",
     "text": [
      "WARNING:absl:Found untraced functions such as lstm_cell_layer_call_and_return_conditional_losses, lstm_cell_layer_call_fn, lstm_cell_1_layer_call_and_return_conditional_losses, lstm_cell_1_layer_call_fn, lstm_cell_layer_call_fn while saving (showing 5 of 10). These functions will not be directly callable after loading.\n"
     ]
    },
    {
     "name": "stdout",
     "output_type": "stream",
     "text": [
      "INFO:tensorflow:Assets written to: model.h1.16_sep_21\\assets\n"
     ]
    },
    {
     "name": "stderr",
     "output_type": "stream",
     "text": [
      "INFO:tensorflow:Assets written to: model.h1.16_sep_21\\assets\n"
     ]
    },
    {
     "name": "stdout",
     "output_type": "stream",
     "text": [
      "Epoch 15/30\n",
      "40/40 [==============================] - 2s 63ms/step - loss: 4.0375 - val_loss: nan\n",
      "\n",
      "Epoch 00015: saving model to model.h1.16_sep_21\n"
     ]
    },
    {
     "name": "stderr",
     "output_type": "stream",
     "text": [
      "WARNING:absl:Found untraced functions such as lstm_cell_layer_call_and_return_conditional_losses, lstm_cell_layer_call_fn, lstm_cell_1_layer_call_and_return_conditional_losses, lstm_cell_1_layer_call_fn, lstm_cell_layer_call_fn while saving (showing 5 of 10). These functions will not be directly callable after loading.\n"
     ]
    },
    {
     "name": "stdout",
     "output_type": "stream",
     "text": [
      "INFO:tensorflow:Assets written to: model.h1.16_sep_21\\assets\n"
     ]
    },
    {
     "name": "stderr",
     "output_type": "stream",
     "text": [
      "INFO:tensorflow:Assets written to: model.h1.16_sep_21\\assets\n"
     ]
    },
    {
     "name": "stdout",
     "output_type": "stream",
     "text": [
      "Epoch 16/30\n",
      "40/40 [==============================] - 2s 59ms/step - loss: 4.0223 - val_loss: nan\n",
      "\n",
      "Epoch 00016: saving model to model.h1.16_sep_21\n"
     ]
    },
    {
     "name": "stderr",
     "output_type": "stream",
     "text": [
      "WARNING:absl:Found untraced functions such as lstm_cell_layer_call_and_return_conditional_losses, lstm_cell_layer_call_fn, lstm_cell_1_layer_call_and_return_conditional_losses, lstm_cell_1_layer_call_fn, lstm_cell_layer_call_fn while saving (showing 5 of 10). These functions will not be directly callable after loading.\n"
     ]
    },
    {
     "name": "stdout",
     "output_type": "stream",
     "text": [
      "INFO:tensorflow:Assets written to: model.h1.16_sep_21\\assets\n"
     ]
    },
    {
     "name": "stderr",
     "output_type": "stream",
     "text": [
      "INFO:tensorflow:Assets written to: model.h1.16_sep_21\\assets\n"
     ]
    },
    {
     "name": "stdout",
     "output_type": "stream",
     "text": [
      "Epoch 17/30\n",
      "40/40 [==============================] - 2s 58ms/step - loss: 3.9987 - val_loss: nan\n",
      "\n",
      "Epoch 00017: saving model to model.h1.16_sep_21\n"
     ]
    },
    {
     "name": "stderr",
     "output_type": "stream",
     "text": [
      "WARNING:absl:Found untraced functions such as lstm_cell_layer_call_and_return_conditional_losses, lstm_cell_layer_call_fn, lstm_cell_1_layer_call_and_return_conditional_losses, lstm_cell_1_layer_call_fn, lstm_cell_layer_call_fn while saving (showing 5 of 10). These functions will not be directly callable after loading.\n"
     ]
    },
    {
     "name": "stdout",
     "output_type": "stream",
     "text": [
      "INFO:tensorflow:Assets written to: model.h1.16_sep_21\\assets\n"
     ]
    },
    {
     "name": "stderr",
     "output_type": "stream",
     "text": [
      "INFO:tensorflow:Assets written to: model.h1.16_sep_21\\assets\n"
     ]
    },
    {
     "name": "stdout",
     "output_type": "stream",
     "text": [
      "Epoch 18/30\n",
      "40/40 [==============================] - 2s 59ms/step - loss: 3.9746 - val_loss: nan\n",
      "\n",
      "Epoch 00018: saving model to model.h1.16_sep_21\n"
     ]
    },
    {
     "name": "stderr",
     "output_type": "stream",
     "text": [
      "WARNING:absl:Found untraced functions such as lstm_cell_layer_call_and_return_conditional_losses, lstm_cell_layer_call_fn, lstm_cell_1_layer_call_and_return_conditional_losses, lstm_cell_1_layer_call_fn, lstm_cell_layer_call_fn while saving (showing 5 of 10). These functions will not be directly callable after loading.\n"
     ]
    },
    {
     "name": "stdout",
     "output_type": "stream",
     "text": [
      "INFO:tensorflow:Assets written to: model.h1.16_sep_21\\assets\n"
     ]
    },
    {
     "name": "stderr",
     "output_type": "stream",
     "text": [
      "INFO:tensorflow:Assets written to: model.h1.16_sep_21\\assets\n"
     ]
    },
    {
     "name": "stdout",
     "output_type": "stream",
     "text": [
      "Epoch 19/30\n",
      "40/40 [==============================] - 2s 61ms/step - loss: 3.9634 - val_loss: nan\n",
      "\n",
      "Epoch 00019: saving model to model.h1.16_sep_21\n"
     ]
    },
    {
     "name": "stderr",
     "output_type": "stream",
     "text": [
      "WARNING:absl:Found untraced functions such as lstm_cell_layer_call_and_return_conditional_losses, lstm_cell_layer_call_fn, lstm_cell_1_layer_call_and_return_conditional_losses, lstm_cell_1_layer_call_fn, lstm_cell_layer_call_fn while saving (showing 5 of 10). These functions will not be directly callable after loading.\n"
     ]
    },
    {
     "name": "stdout",
     "output_type": "stream",
     "text": [
      "INFO:tensorflow:Assets written to: model.h1.16_sep_21\\assets\n"
     ]
    },
    {
     "name": "stderr",
     "output_type": "stream",
     "text": [
      "INFO:tensorflow:Assets written to: model.h1.16_sep_21\\assets\n"
     ]
    },
    {
     "name": "stdout",
     "output_type": "stream",
     "text": [
      "Epoch 20/30\n",
      "40/40 [==============================] - 2s 58ms/step - loss: 3.9530 - val_loss: nan\n",
      "\n",
      "Epoch 00020: saving model to model.h1.16_sep_21\n"
     ]
    },
    {
     "name": "stderr",
     "output_type": "stream",
     "text": [
      "WARNING:absl:Found untraced functions such as lstm_cell_layer_call_and_return_conditional_losses, lstm_cell_layer_call_fn, lstm_cell_1_layer_call_and_return_conditional_losses, lstm_cell_1_layer_call_fn, lstm_cell_layer_call_fn while saving (showing 5 of 10). These functions will not be directly callable after loading.\n"
     ]
    },
    {
     "name": "stdout",
     "output_type": "stream",
     "text": [
      "INFO:tensorflow:Assets written to: model.h1.16_sep_21\\assets\n"
     ]
    },
    {
     "name": "stderr",
     "output_type": "stream",
     "text": [
      "INFO:tensorflow:Assets written to: model.h1.16_sep_21\\assets\n"
     ]
    },
    {
     "name": "stdout",
     "output_type": "stream",
     "text": [
      "Epoch 21/30\n",
      "40/40 [==============================] - 2s 58ms/step - loss: 3.9413 - val_loss: nan\n",
      "\n",
      "Epoch 00021: saving model to model.h1.16_sep_21\n"
     ]
    },
    {
     "name": "stderr",
     "output_type": "stream",
     "text": [
      "WARNING:absl:Found untraced functions such as lstm_cell_layer_call_and_return_conditional_losses, lstm_cell_layer_call_fn, lstm_cell_1_layer_call_and_return_conditional_losses, lstm_cell_1_layer_call_fn, lstm_cell_layer_call_fn while saving (showing 5 of 10). These functions will not be directly callable after loading.\n"
     ]
    },
    {
     "name": "stdout",
     "output_type": "stream",
     "text": [
      "INFO:tensorflow:Assets written to: model.h1.16_sep_21\\assets\n"
     ]
    },
    {
     "name": "stderr",
     "output_type": "stream",
     "text": [
      "INFO:tensorflow:Assets written to: model.h1.16_sep_21\\assets\n"
     ]
    },
    {
     "name": "stdout",
     "output_type": "stream",
     "text": [
      "Epoch 22/30\n",
      "40/40 [==============================] - 2s 59ms/step - loss: 3.9318 - val_loss: nan\n",
      "\n",
      "Epoch 00022: saving model to model.h1.16_sep_21\n"
     ]
    },
    {
     "name": "stderr",
     "output_type": "stream",
     "text": [
      "WARNING:absl:Found untraced functions such as lstm_cell_layer_call_and_return_conditional_losses, lstm_cell_layer_call_fn, lstm_cell_1_layer_call_and_return_conditional_losses, lstm_cell_1_layer_call_fn, lstm_cell_layer_call_fn while saving (showing 5 of 10). These functions will not be directly callable after loading.\n"
     ]
    },
    {
     "name": "stdout",
     "output_type": "stream",
     "text": [
      "INFO:tensorflow:Assets written to: model.h1.16_sep_21\\assets\n"
     ]
    },
    {
     "name": "stderr",
     "output_type": "stream",
     "text": [
      "INFO:tensorflow:Assets written to: model.h1.16_sep_21\\assets\n"
     ]
    },
    {
     "name": "stdout",
     "output_type": "stream",
     "text": [
      "Epoch 23/30\n",
      "40/40 [==============================] - 2s 58ms/step - loss: 3.9241 - val_loss: nan\n",
      "\n",
      "Epoch 00023: saving model to model.h1.16_sep_21\n"
     ]
    },
    {
     "name": "stderr",
     "output_type": "stream",
     "text": [
      "WARNING:absl:Found untraced functions such as lstm_cell_layer_call_and_return_conditional_losses, lstm_cell_layer_call_fn, lstm_cell_1_layer_call_and_return_conditional_losses, lstm_cell_1_layer_call_fn, lstm_cell_layer_call_fn while saving (showing 5 of 10). These functions will not be directly callable after loading.\n"
     ]
    },
    {
     "name": "stdout",
     "output_type": "stream",
     "text": [
      "INFO:tensorflow:Assets written to: model.h1.16_sep_21\\assets\n"
     ]
    },
    {
     "name": "stderr",
     "output_type": "stream",
     "text": [
      "INFO:tensorflow:Assets written to: model.h1.16_sep_21\\assets\n"
     ]
    },
    {
     "name": "stdout",
     "output_type": "stream",
     "text": [
      "Epoch 24/30\n",
      "40/40 [==============================] - 2s 57ms/step - loss: 3.9133 - val_loss: nan\n",
      "\n",
      "Epoch 00024: saving model to model.h1.16_sep_21\n"
     ]
    },
    {
     "name": "stderr",
     "output_type": "stream",
     "text": [
      "WARNING:absl:Found untraced functions such as lstm_cell_layer_call_and_return_conditional_losses, lstm_cell_layer_call_fn, lstm_cell_1_layer_call_and_return_conditional_losses, lstm_cell_1_layer_call_fn, lstm_cell_layer_call_fn while saving (showing 5 of 10). These functions will not be directly callable after loading.\n"
     ]
    },
    {
     "name": "stdout",
     "output_type": "stream",
     "text": [
      "INFO:tensorflow:Assets written to: model.h1.16_sep_21\\assets\n"
     ]
    },
    {
     "name": "stderr",
     "output_type": "stream",
     "text": [
      "INFO:tensorflow:Assets written to: model.h1.16_sep_21\\assets\n"
     ]
    },
    {
     "name": "stdout",
     "output_type": "stream",
     "text": [
      "Epoch 25/30\n",
      "40/40 [==============================] - 2s 60ms/step - loss: 3.9034 - val_loss: nan\n",
      "\n",
      "Epoch 00025: saving model to model.h1.16_sep_21\n"
     ]
    },
    {
     "name": "stderr",
     "output_type": "stream",
     "text": [
      "WARNING:absl:Found untraced functions such as lstm_cell_layer_call_and_return_conditional_losses, lstm_cell_layer_call_fn, lstm_cell_1_layer_call_and_return_conditional_losses, lstm_cell_1_layer_call_fn, lstm_cell_layer_call_fn while saving (showing 5 of 10). These functions will not be directly callable after loading.\n"
     ]
    },
    {
     "name": "stdout",
     "output_type": "stream",
     "text": [
      "INFO:tensorflow:Assets written to: model.h1.16_sep_21\\assets\n"
     ]
    },
    {
     "name": "stderr",
     "output_type": "stream",
     "text": [
      "INFO:tensorflow:Assets written to: model.h1.16_sep_21\\assets\n"
     ]
    },
    {
     "name": "stdout",
     "output_type": "stream",
     "text": [
      "Epoch 26/30\n",
      "40/40 [==============================] - 3s 67ms/step - loss: 3.8985 - val_loss: nan\n",
      "\n",
      "Epoch 00026: saving model to model.h1.16_sep_21\n"
     ]
    },
    {
     "name": "stderr",
     "output_type": "stream",
     "text": [
      "WARNING:absl:Found untraced functions such as lstm_cell_layer_call_and_return_conditional_losses, lstm_cell_layer_call_fn, lstm_cell_1_layer_call_and_return_conditional_losses, lstm_cell_1_layer_call_fn, lstm_cell_layer_call_fn while saving (showing 5 of 10). These functions will not be directly callable after loading.\n"
     ]
    },
    {
     "name": "stdout",
     "output_type": "stream",
     "text": [
      "INFO:tensorflow:Assets written to: model.h1.16_sep_21\\assets\n"
     ]
    },
    {
     "name": "stderr",
     "output_type": "stream",
     "text": [
      "INFO:tensorflow:Assets written to: model.h1.16_sep_21\\assets\n"
     ]
    },
    {
     "name": "stdout",
     "output_type": "stream",
     "text": [
      "Epoch 27/30\n",
      "40/40 [==============================] - 2s 61ms/step - loss: 3.8839 - val_loss: nan\n",
      "\n",
      "Epoch 00027: saving model to model.h1.16_sep_21\n"
     ]
    },
    {
     "name": "stderr",
     "output_type": "stream",
     "text": [
      "WARNING:absl:Found untraced functions such as lstm_cell_layer_call_and_return_conditional_losses, lstm_cell_layer_call_fn, lstm_cell_1_layer_call_and_return_conditional_losses, lstm_cell_1_layer_call_fn, lstm_cell_layer_call_fn while saving (showing 5 of 10). These functions will not be directly callable after loading.\n"
     ]
    },
    {
     "name": "stdout",
     "output_type": "stream",
     "text": [
      "INFO:tensorflow:Assets written to: model.h1.16_sep_21\\assets\n"
     ]
    },
    {
     "name": "stderr",
     "output_type": "stream",
     "text": [
      "INFO:tensorflow:Assets written to: model.h1.16_sep_21\\assets\n"
     ]
    },
    {
     "name": "stdout",
     "output_type": "stream",
     "text": [
      "Epoch 28/30\n",
      "40/40 [==============================] - 2s 55ms/step - loss: 3.8702 - val_loss: nan\n",
      "\n",
      "Epoch 00028: saving model to model.h1.16_sep_21\n"
     ]
    },
    {
     "name": "stderr",
     "output_type": "stream",
     "text": [
      "WARNING:absl:Found untraced functions such as lstm_cell_layer_call_and_return_conditional_losses, lstm_cell_layer_call_fn, lstm_cell_1_layer_call_and_return_conditional_losses, lstm_cell_1_layer_call_fn, lstm_cell_layer_call_fn while saving (showing 5 of 10). These functions will not be directly callable after loading.\n"
     ]
    },
    {
     "name": "stdout",
     "output_type": "stream",
     "text": [
      "INFO:tensorflow:Assets written to: model.h1.16_sep_21\\assets\n"
     ]
    },
    {
     "name": "stderr",
     "output_type": "stream",
     "text": [
      "INFO:tensorflow:Assets written to: model.h1.16_sep_21\\assets\n"
     ]
    },
    {
     "name": "stdout",
     "output_type": "stream",
     "text": [
      "Epoch 29/30\n",
      "40/40 [==============================] - 2s 59ms/step - loss: 3.8597 - val_loss: nan\n",
      "\n",
      "Epoch 00029: saving model to model.h1.16_sep_21\n"
     ]
    },
    {
     "name": "stderr",
     "output_type": "stream",
     "text": [
      "WARNING:absl:Found untraced functions such as lstm_cell_layer_call_and_return_conditional_losses, lstm_cell_layer_call_fn, lstm_cell_1_layer_call_and_return_conditional_losses, lstm_cell_1_layer_call_fn, lstm_cell_layer_call_fn while saving (showing 5 of 10). These functions will not be directly callable after loading.\n"
     ]
    },
    {
     "name": "stdout",
     "output_type": "stream",
     "text": [
      "INFO:tensorflow:Assets written to: model.h1.16_sep_21\\assets\n"
     ]
    },
    {
     "name": "stderr",
     "output_type": "stream",
     "text": [
      "INFO:tensorflow:Assets written to: model.h1.16_sep_21\\assets\n"
     ]
    },
    {
     "name": "stdout",
     "output_type": "stream",
     "text": [
      "Epoch 30/30\n",
      "40/40 [==============================] - 2s 57ms/step - loss: 3.8573 - val_loss: nan\n",
      "\n",
      "Epoch 00030: saving model to model.h1.16_sep_21\n"
     ]
    },
    {
     "name": "stderr",
     "output_type": "stream",
     "text": [
      "WARNING:absl:Found untraced functions such as lstm_cell_layer_call_and_return_conditional_losses, lstm_cell_layer_call_fn, lstm_cell_1_layer_call_and_return_conditional_losses, lstm_cell_1_layer_call_fn, lstm_cell_layer_call_fn while saving (showing 5 of 10). These functions will not be directly callable after loading.\n"
     ]
    },
    {
     "name": "stdout",
     "output_type": "stream",
     "text": [
      "INFO:tensorflow:Assets written to: model.h1.16_sep_21\\assets\n"
     ]
    },
    {
     "name": "stderr",
     "output_type": "stream",
     "text": [
      "INFO:tensorflow:Assets written to: model.h1.16_sep_21\\assets\n"
     ]
    }
   ],
   "source": [
    "history = model.fit(fr_train, en_train.reshape(en_train.shape[0], en_train.shape[1], 1),\n",
    "                   epochs=30, batch_size=256, validation_split = 0.2, callbacks=[checkpoint],\n",
    "                   verbose=1)"
   ]
  },
  {
   "cell_type": "code",
   "execution_count": 39,
   "id": "aaadac98-d16d-41df-bd5f-01c52dcf26db",
   "metadata": {},
   "outputs": [],
   "source": [
    "model = load_model('model.h1.16_sep_21')"
   ]
  },
  {
   "cell_type": "code",
   "execution_count": null,
   "id": "a8e4c712-08f7-42da-870c-4c4807c210cf",
   "metadata": {},
   "outputs": [],
   "source": [
    "preds = argmax(model.predict(fr_test.reshape((fr_test.shape[0],fr_test.shape[1]))), axis=-1)"
   ]
  },
  {
   "cell_type": "code",
   "execution_count": null,
   "id": "8a633e7e-6d1c-4101-bc8c-ecaf3c65b674",
   "metadata": {},
   "outputs": [],
   "source": [
    "def get_word(n, dictionary):\n",
    "    for word, value in dictionary.items():\n",
    "    if value == n:\n",
    "        return word\n",
    "    return None"
   ]
  },
  {
   "cell_type": "code",
   "execution_count": null,
   "id": "12feaff8-ce0d-4eb5-bc36-f950ebe86f8e",
   "metadata": {},
   "outputs": [],
   "source": [
    "preds_text = []\n",
    "for i in preds:\n",
    "    temp = []\n",
    "    for j in range(len(i)):\n",
    "        t = get_word(i[j], dict_en)\n",
    "        if j > 0:\n",
    "            if (t == get_word(i[j-1], dict_en)) or (t == None):\n",
    "                temp.append('')\n",
    "            else:\n",
    "                temp.append(t)\n",
    "        else:\n",
    "            if(t == None):\n",
    "                temp.append('')\n",
    "        else:\n",
    "            temp.append(t)\n",
    "    preds_text.append(' '. join(temp))"
   ]
  },
  {
   "cell_type": "code",
   "execution_count": null,
   "id": "8dfe68ba-137b-40cc-b486-ddb507d43a06",
   "metadata": {},
   "outputs": [],
   "source": []
  }
 ],
 "metadata": {
  "kernelspec": {
   "display_name": "Python 3 (ipykernel)",
   "language": "python",
   "name": "python3"
  },
  "language_info": {
   "codemirror_mode": {
    "name": "ipython",
    "version": 3
   },
   "file_extension": ".py",
   "mimetype": "text/x-python",
   "name": "python",
   "nbconvert_exporter": "python",
   "pygments_lexer": "ipython3",
   "version": "3.9.7"
  }
 },
 "nbformat": 4,
 "nbformat_minor": 5
}
