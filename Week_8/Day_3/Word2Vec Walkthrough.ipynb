{
 "cells": [
  {
   "cell_type": "code",
   "execution_count": 2,
   "id": "440d94b1-fd62-40dc-bec2-9429220db585",
   "metadata": {},
   "outputs": [],
   "source": [
    "import gensim\n",
    "\n",
    "# Load Google's pre-trained Word2Vec model.\n",
    "model = gensim.models.KeyedVectors.load_word2vec_format('GoogleNews-vectors-negative300.bin', binary=True)  "
   ]
  },
  {
   "cell_type": "code",
   "execution_count": 3,
   "id": "0958fc2e-2538-4604-9f8f-ecdfd7a08c73",
   "metadata": {},
   "outputs": [
    {
     "data": {
      "text/plain": [
       "(300,)"
      ]
     },
     "execution_count": 3,
     "metadata": {},
     "output_type": "execute_result"
    }
   ],
   "source": [
    "vector = model['easy']\n",
    "# see the shape of the vector (300,)\n",
    "vector.shape"
   ]
  },
  {
   "cell_type": "code",
   "execution_count": 4,
   "id": "e89f0ce6-ef09-4606-bf57-45b8747aab6d",
   "metadata": {},
   "outputs": [
    {
     "data": {
      "text/plain": [
       "[('good', 0.6836092472076416),\n",
       " ('lovely', 0.6676311492919922),\n",
       " ('neat', 0.6616737246513367),\n",
       " ('fantastic', 0.6569241285324097),\n",
       " ('wonderful', 0.6561347246170044),\n",
       " ('terrific', 0.6552367210388184),\n",
       " ('great', 0.6454657316207886),\n",
       " ('awesome', 0.6404187083244324),\n",
       " ('nicer', 0.6302444934844971),\n",
       " ('decent', 0.5993332266807556)]"
      ]
     },
     "execution_count": 4,
     "metadata": {},
     "output_type": "execute_result"
    }
   ],
   "source": [
    "model.most_similar(\"nice\")"
   ]
  },
  {
   "cell_type": "code",
   "execution_count": 11,
   "id": "be84c71e-2033-4785-899a-4e0da68c214c",
   "metadata": {},
   "outputs": [
    {
     "data": {
      "text/plain": [
       "0.6836092"
      ]
     },
     "execution_count": 11,
     "metadata": {},
     "output_type": "execute_result"
    }
   ],
   "source": [
    "model.similarity(\"nice\",\"good\")"
   ]
  },
  {
   "cell_type": "code",
   "execution_count": 12,
   "id": "db6b88c2-e5f7-4ac6-98fe-350b1b36cd5f",
   "metadata": {},
   "outputs": [
    {
     "data": {
      "text/plain": [
       "0.7190051"
      ]
     },
     "execution_count": 12,
     "metadata": {},
     "output_type": "execute_result"
    }
   ],
   "source": [
    "# Interesting\n",
    "model.similarity(\"bad\",\"good\")"
   ]
  },
  {
   "cell_type": "code",
   "execution_count": 13,
   "id": "d8c1ecf8-57c0-4fe6-817f-070eded9865f",
   "metadata": {},
   "outputs": [
    {
     "data": {
      "text/plain": [
       "[('queen', 0.7118192911148071),\n",
       " ('monarch', 0.6189674139022827),\n",
       " ('princess', 0.5902431607246399),\n",
       " ('crown_prince', 0.5499460697174072),\n",
       " ('prince', 0.5377321243286133),\n",
       " ('kings', 0.5236844420433044),\n",
       " ('Queen_Consort', 0.5235945582389832),\n",
       " ('queens', 0.5181134343147278),\n",
       " ('sultan', 0.5098593235015869),\n",
       " ('monarchy', 0.5087411999702454)]"
      ]
     },
     "execution_count": 13,
     "metadata": {},
     "output_type": "execute_result"
    }
   ],
   "source": [
    "# king - queen = man - woman\n",
    "model.most_similar(positive=['woman', 'king'], negative=['man'])"
   ]
  },
  {
   "cell_type": "code",
   "execution_count": 14,
   "id": "d6e1b9eb-31f2-4fcd-858b-16049fe8c192",
   "metadata": {},
   "outputs": [
    {
     "data": {
      "text/plain": [
       "[('Dad', 0.6901611089706421),\n",
       " ('daddy', 0.6261975765228271),\n",
       " ('Mom', 0.621431827545166),\n",
       " ('grandpa', 0.6081058979034424),\n",
       " ('grandkids', 0.576514720916748),\n",
       " ('father', 0.57377690076828),\n",
       " ('grandpop', 0.5591607093811035),\n",
       " ('stepdad', 0.549279510974884),\n",
       " ('grandma', 0.5481815934181213),\n",
       " ('granddad', 0.531920313835144)]"
      ]
     },
     "execution_count": 14,
     "metadata": {},
     "output_type": "execute_result"
    }
   ],
   "source": [
    "# mom --> girl, dad --> ?\n",
    "model.most_similar(positive=['mom', 'dad'], negative=['girl'])"
   ]
  },
  {
   "cell_type": "code",
   "execution_count": 20,
   "id": "fab22d0b-09e7-4930-bf2b-2492738688a0",
   "metadata": {},
   "outputs": [
    {
     "data": {
      "text/plain": [
       "[('england', 0.5860578417778015),\n",
       " ('europe', 0.5715833902359009),\n",
       " ('italy', 0.5676708221435547),\n",
       " ('european', 0.5563634634017944),\n",
       " ('argentina', 0.5382688641548157),\n",
       " ('barcelona', 0.5336806774139404),\n",
       " ('newcastle', 0.5296775698661804),\n",
       " ('epl', 0.5269960165023804),\n",
       " ('madrid', 0.5256408452987671),\n",
       " ('adebayor', 0.5243755578994751)]"
      ]
     },
     "execution_count": 20,
     "metadata": {},
     "output_type": "execute_result"
    }
   ],
   "source": [
    "# france --> paris, spain --> ?\n",
    "model.most_similar(positive=['france', 'spain'], negative=['paris'])"
   ]
  },
  {
   "cell_type": "code",
   "execution_count": 21,
   "id": "0296783c-c8c7-4e59-b346-fda22194220e",
   "metadata": {},
   "outputs": [
    {
     "data": {
      "text/plain": [
       "[('daughter', 0.41385218501091003),\n",
       " ('father', 0.4006764888763428),\n",
       " ('son', 0.39039260149002075),\n",
       " ('aunt', 0.3831603527069092),\n",
       " ('maternal_grandmother', 0.378253310918808),\n",
       " ('stepmother', 0.37579309940338135),\n",
       " ('stepfather', 0.37096065282821655),\n",
       " ('grandmother', 0.3685411810874939),\n",
       " ('niece', 0.36319512128829956),\n",
       " ('daughters', 0.3575707674026489)]"
      ]
     },
     "execution_count": 21,
     "metadata": {},
     "output_type": "execute_result"
    }
   ],
   "source": [
    "# mother --> ?, table --> chair\n",
    "model.most_similar(positive=['mother'], negative=['table', 'chair'])"
   ]
  }
 ],
 "metadata": {
  "kernelspec": {
   "display_name": "Python 3 (ipykernel)",
   "language": "python",
   "name": "python3"
  },
  "language_info": {
   "codemirror_mode": {
    "name": "ipython",
    "version": 3
   },
   "file_extension": ".py",
   "mimetype": "text/x-python",
   "name": "python",
   "nbconvert_exporter": "python",
   "pygments_lexer": "ipython3",
   "version": "3.7.10"
  }
 },
 "nbformat": 4,
 "nbformat_minor": 5
}
