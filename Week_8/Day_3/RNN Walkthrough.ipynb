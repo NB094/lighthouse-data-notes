{
 "cells": [
  {
   "cell_type": "code",
   "execution_count": 1,
   "id": "b0075f09",
   "metadata": {},
   "outputs": [
    {
     "name": "stderr",
     "output_type": "stream",
     "text": [
      "F:\\Anaconda\\envs\\tf\\lib\\site-packages\\tensorflow\\python\\framework\\dtypes.py:516: FutureWarning: Passing (type, 1) or '1type' as a synonym of type is deprecated; in a future version of numpy, it will be understood as (type, (1,)) / '(1,)type'.\n",
      "  _np_qint8 = np.dtype([(\"qint8\", np.int8, 1)])\n",
      "F:\\Anaconda\\envs\\tf\\lib\\site-packages\\tensorflow\\python\\framework\\dtypes.py:517: FutureWarning: Passing (type, 1) or '1type' as a synonym of type is deprecated; in a future version of numpy, it will be understood as (type, (1,)) / '(1,)type'.\n",
      "  _np_quint8 = np.dtype([(\"quint8\", np.uint8, 1)])\n",
      "F:\\Anaconda\\envs\\tf\\lib\\site-packages\\tensorflow\\python\\framework\\dtypes.py:518: FutureWarning: Passing (type, 1) or '1type' as a synonym of type is deprecated; in a future version of numpy, it will be understood as (type, (1,)) / '(1,)type'.\n",
      "  _np_qint16 = np.dtype([(\"qint16\", np.int16, 1)])\n",
      "F:\\Anaconda\\envs\\tf\\lib\\site-packages\\tensorflow\\python\\framework\\dtypes.py:519: FutureWarning: Passing (type, 1) or '1type' as a synonym of type is deprecated; in a future version of numpy, it will be understood as (type, (1,)) / '(1,)type'.\n",
      "  _np_quint16 = np.dtype([(\"quint16\", np.uint16, 1)])\n",
      "F:\\Anaconda\\envs\\tf\\lib\\site-packages\\tensorflow\\python\\framework\\dtypes.py:520: FutureWarning: Passing (type, 1) or '1type' as a synonym of type is deprecated; in a future version of numpy, it will be understood as (type, (1,)) / '(1,)type'.\n",
      "  _np_qint32 = np.dtype([(\"qint32\", np.int32, 1)])\n",
      "F:\\Anaconda\\envs\\tf\\lib\\site-packages\\tensorflow\\python\\framework\\dtypes.py:525: FutureWarning: Passing (type, 1) or '1type' as a synonym of type is deprecated; in a future version of numpy, it will be understood as (type, (1,)) / '(1,)type'.\n",
      "  np_resource = np.dtype([(\"resource\", np.ubyte, 1)])\n",
      "F:\\Anaconda\\envs\\tf\\lib\\site-packages\\tensorboard\\compat\\tensorflow_stub\\dtypes.py:541: FutureWarning: Passing (type, 1) or '1type' as a synonym of type is deprecated; in a future version of numpy, it will be understood as (type, (1,)) / '(1,)type'.\n",
      "  _np_qint8 = np.dtype([(\"qint8\", np.int8, 1)])\n",
      "F:\\Anaconda\\envs\\tf\\lib\\site-packages\\tensorboard\\compat\\tensorflow_stub\\dtypes.py:542: FutureWarning: Passing (type, 1) or '1type' as a synonym of type is deprecated; in a future version of numpy, it will be understood as (type, (1,)) / '(1,)type'.\n",
      "  _np_quint8 = np.dtype([(\"quint8\", np.uint8, 1)])\n",
      "F:\\Anaconda\\envs\\tf\\lib\\site-packages\\tensorboard\\compat\\tensorflow_stub\\dtypes.py:543: FutureWarning: Passing (type, 1) or '1type' as a synonym of type is deprecated; in a future version of numpy, it will be understood as (type, (1,)) / '(1,)type'.\n",
      "  _np_qint16 = np.dtype([(\"qint16\", np.int16, 1)])\n",
      "F:\\Anaconda\\envs\\tf\\lib\\site-packages\\tensorboard\\compat\\tensorflow_stub\\dtypes.py:544: FutureWarning: Passing (type, 1) or '1type' as a synonym of type is deprecated; in a future version of numpy, it will be understood as (type, (1,)) / '(1,)type'.\n",
      "  _np_quint16 = np.dtype([(\"quint16\", np.uint16, 1)])\n",
      "F:\\Anaconda\\envs\\tf\\lib\\site-packages\\tensorboard\\compat\\tensorflow_stub\\dtypes.py:545: FutureWarning: Passing (type, 1) or '1type' as a synonym of type is deprecated; in a future version of numpy, it will be understood as (type, (1,)) / '(1,)type'.\n",
      "  _np_qint32 = np.dtype([(\"qint32\", np.int32, 1)])\n",
      "F:\\Anaconda\\envs\\tf\\lib\\site-packages\\tensorboard\\compat\\tensorflow_stub\\dtypes.py:550: FutureWarning: Passing (type, 1) or '1type' as a synonym of type is deprecated; in a future version of numpy, it will be understood as (type, (1,)) / '(1,)type'.\n",
      "  np_resource = np.dtype([(\"resource\", np.ubyte, 1)])\n"
     ]
    }
   ],
   "source": [
    "import tensorflow as tf\n",
    "from tensorflow.python import keras\n",
    "from tensorflow.python.keras import preprocessing\n",
    "from tensorflow.python.keras.preprocessing.text import Tokenizer\n",
    "from tensorflow.python.keras.models import Sequential\n",
    "from tensorflow.python.keras.layers import Dense, Dropout, LSTM, Reshape\n",
    "\n",
    "import numpy as np\n",
    "import pandas as pd"
   ]
  },
  {
   "cell_type": "code",
   "execution_count": 2,
   "id": "3e030dc5",
   "metadata": {},
   "outputs": [
    {
     "data": {
      "text/html": [
       "<div>\n",
       "<style scoped>\n",
       "    .dataframe tbody tr th:only-of-type {\n",
       "        vertical-align: middle;\n",
       "    }\n",
       "\n",
       "    .dataframe tbody tr th {\n",
       "        vertical-align: top;\n",
       "    }\n",
       "\n",
       "    .dataframe thead th {\n",
       "        text-align: right;\n",
       "    }\n",
       "</style>\n",
       "<table border=\"1\" class=\"dataframe\">\n",
       "  <thead>\n",
       "    <tr style=\"text-align: right;\">\n",
       "      <th></th>\n",
       "      <th>name</th>\n",
       "      <th>red</th>\n",
       "      <th>green</th>\n",
       "      <th>blue</th>\n",
       "    </tr>\n",
       "  </thead>\n",
       "  <tbody>\n",
       "    <tr>\n",
       "      <th>0</th>\n",
       "      <td>18th Century Green</td>\n",
       "      <td>165</td>\n",
       "      <td>147</td>\n",
       "      <td>68</td>\n",
       "    </tr>\n",
       "    <tr>\n",
       "      <th>1</th>\n",
       "      <td>1975 Earth Red</td>\n",
       "      <td>123</td>\n",
       "      <td>70</td>\n",
       "      <td>59</td>\n",
       "    </tr>\n",
       "    <tr>\n",
       "      <th>2</th>\n",
       "      <td>1989 Miami Hotline</td>\n",
       "      <td>221</td>\n",
       "      <td>51</td>\n",
       "      <td>102</td>\n",
       "    </tr>\n",
       "    <tr>\n",
       "      <th>3</th>\n",
       "      <td>20000 Leagues Under the Sea</td>\n",
       "      <td>25</td>\n",
       "      <td>25</td>\n",
       "      <td>112</td>\n",
       "    </tr>\n",
       "    <tr>\n",
       "      <th>4</th>\n",
       "      <td>3AM in Shibuya</td>\n",
       "      <td>34</td>\n",
       "      <td>85</td>\n",
       "      <td>119</td>\n",
       "    </tr>\n",
       "  </tbody>\n",
       "</table>\n",
       "</div>"
      ],
      "text/plain": [
       "                          name  red  green  blue\n",
       "0           18th Century Green  165    147    68\n",
       "1               1975 Earth Red  123     70    59\n",
       "2           1989 Miami Hotline  221     51   102\n",
       "3  20000 Leagues Under the Sea   25     25   112\n",
       "4               3AM in Shibuya   34     85   119"
      ]
     },
     "execution_count": 2,
     "metadata": {},
     "output_type": "execute_result"
    }
   ],
   "source": [
    "data = pd.read_csv(\"colors.csv\")\n",
    "names = data[\"name\"]\n",
    "data.head()"
   ]
  },
  {
   "cell_type": "code",
   "execution_count": 3,
   "id": "3c22e16b",
   "metadata": {},
   "outputs": [
    {
     "data": {
      "text/plain": [
       "0                 18th Century Green\n",
       "1                     1975 Earth Red\n",
       "2                 1989 Miami Hotline\n",
       "3        20000 Leagues Under the Sea\n",
       "4                     3AM in Shibuya\n",
       "                    ...             \n",
       "18601                 Zucchini Cream\n",
       "18602                Zucchini Flower\n",
       "18603                        Zumthor\n",
       "18604                           Zuni\n",
       "18605                    Zürich Blue\n",
       "Name: name, Length: 18606, dtype: object"
      ]
     },
     "execution_count": 3,
     "metadata": {},
     "output_type": "execute_result"
    }
   ],
   "source": [
    "names"
   ]
  },
  {
   "cell_type": "code",
   "execution_count": 4,
   "id": "690ff5d7",
   "metadata": {},
   "outputs": [
    {
     "data": {
      "text/plain": [
       "pandas.core.series.Series"
      ]
     },
     "execution_count": 4,
     "metadata": {},
     "output_type": "execute_result"
    }
   ],
   "source": [
    "type(names)"
   ]
  },
  {
   "cell_type": "markdown",
   "id": "0e34d2a0",
   "metadata": {},
   "source": [
    "# Data Preparation"
   ]
  },
  {
   "cell_type": "code",
   "execution_count": 5,
   "id": "992d027b",
   "metadata": {},
   "outputs": [
    {
     "data": {
      "image/png": "[encoded data removed]",
      "text/plain": [
       "<Figure size 432x288 with 1 Axes>"
      ]
     },
     "metadata": {
      "needs_background": "light"
     },
     "output_type": "display_data"
    }
   ],
   "source": [
    "h = sorted(names.str.len().values)\n",
    "import numpy as np\n",
    "import scipy.stats as stats\n",
    "import pylab as plt\n",
    "\n",
    "fit = stats.norm.pdf(h, np.mean(h), np.std(h))  #this is a fitting indeed\n",
    "plt.plot(h,fit,'-o')\n",
    "plt.hist(h,density=True)      #use this to draw histogram of your data\n",
    "plt.xlabel('Chars')\n",
    "plt.ylabel('Probability density')\n",
    "plt.show()"
   ]
  },
  {
   "cell_type": "code",
   "execution_count": 6,
   "id": "19b3c5cc",
   "metadata": {},
   "outputs": [
    {
     "name": "stdout",
     "output_type": "stream",
     "text": [
      "(18606, 25)\n"
     ]
    }
   ],
   "source": [
    "maxlen = 25\n",
    "t = Tokenizer(char_level=True)\n",
    "t.fit_on_texts(names)\n",
    "tokenized = t.texts_to_sequences(names)\n",
    "padded_names = preprocessing.sequence.pad_sequences(tokenized, maxlen=maxlen)\n",
    "print(padded_names.shape)"
   ]
  },
  {
   "cell_type": "markdown",
   "id": "5c212119",
   "metadata": {},
   "source": [
    "# One-hot Encoding\n"
   ]
  },
  {
   "cell_type": "code",
   "execution_count": 7,
   "id": "4542c1d9",
   "metadata": {},
   "outputs": [
    {
     "name": "stdout",
     "output_type": "stream",
     "text": [
      "{'e': 1, 'a': 2, ' ': 3, 'r': 4, 'i': 5, 'l': 6, 'n': 7, 'o': 8, 's': 9, 't': 10, 'c': 11, 'u': 12, 'd': 13, 'g': 14, 'p': 15, 'h': 16, 'b': 17, 'm': 18, 'y': 19, 'w': 20, 'k': 21, 'f': 22, 'v': 23, 'z': 24, 'j': 25, 'q': 26, 'x': 27, \"'\": 28, '-': 29, 'ō': 30, 'è': 31, 'é': 32, 'ā': 33, 'á': 34, 'ó': 35, 'ū': 36, '0': 37, '8': 38, '.': 39, 'ē': 40, 'ī': 41, 'ǎ': 42, '!': 43, 'í': 44, '&': 45, 'ǜ': 46, '9': 47, '2': 48, 'à': 49, 'ǐ': 50, '’': 51, '6': 52, 'ú': 53, '1': 54, '3': 55, 'â': 56, '4': 57, 'ǔ': 58, 'ì': 59, '7': 60, '5': 61, 'ê': 62, 'ö': 63, 'ł': 64, 'š': 65, 'ü': 66, '₂': 67, 'ò': 68, 'ñ': 69, 'ě': 70, 'ń': 71, 'ä': 72, 'œ': 73, 'ß': 74, '%': 75, 'ı': 76, 'ż': 77, '/': 78, 'î': 79, 'ë': 80, '(': 81, ')': 82, 'å': 83, '$': 84, 'я': 85, 'ő': 86, 'ğ': 87, 'ç': 88, 'ù': 89}\n"
     ]
    }
   ],
   "source": [
    "print(t.word_index)"
   ]
  },
  {
   "cell_type": "code",
   "execution_count": 8,
   "id": "f251ad59",
   "metadata": {},
   "outputs": [],
   "source": [
    "from tensorflow.python.keras.utils import np_utils\n",
    "one_hot_names = np_utils.to_categorical(padded_names)"
   ]
  },
  {
   "cell_type": "code",
   "execution_count": 29,
   "id": "f15f2fb9-096e-40dc-bb0a-a9175bd46657",
   "metadata": {},
   "outputs": [
    {
     "data": {
      "text/plain": [
       "array([[ 0,  0,  0, ...,  1,  1,  7],\n",
       "       [ 0,  0,  0, ...,  4,  1, 13],\n",
       "       [ 0,  0,  0, ...,  5,  7,  1],\n",
       "       ...,\n",
       "       [ 0,  0,  0, ..., 16,  8,  4],\n",
       "       [ 0,  0,  0, ..., 12,  7,  5],\n",
       "       [ 0,  0,  0, ...,  6, 12,  1]])"
      ]
     },
     "execution_count": 29,
     "metadata": {},
     "output_type": "execute_result"
    }
   ],
   "source": [
    "padded_names"
   ]
  },
  {
   "cell_type": "code",
   "execution_count": 32,
   "id": "f882c645-98d8-4ce8-97a1-8284978a4ec2",
   "metadata": {},
   "outputs": [
    {
     "data": {
      "text/plain": [
       "array([[1., 0., 0., ..., 0., 0., 0.],\n",
       "       [1., 0., 0., ..., 0., 0., 0.],\n",
       "       [1., 0., 0., ..., 0., 0., 0.],\n",
       "       ...,\n",
       "       [0., 1., 0., ..., 0., 0., 0.],\n",
       "       [0., 1., 0., ..., 0., 0., 0.],\n",
       "       [0., 0., 0., ..., 0., 0., 0.]], dtype=float32)"
      ]
     },
     "execution_count": 32,
     "metadata": {},
     "output_type": "execute_result"
    }
   ],
   "source": [
    "one_hot_names[0]"
   ]
  },
  {
   "cell_type": "code",
   "execution_count": 9,
   "id": "dd8486d0",
   "metadata": {},
   "outputs": [
    {
     "data": {
      "text/plain": [
       "(18606, 25, 90)"
      ]
     },
     "execution_count": 9,
     "metadata": {},
     "output_type": "execute_result"
    }
   ],
   "source": [
    "#  (# of training samples, max sequence length, # of unique tokens)\n",
    "one_hot_names.shape"
   ]
  },
  {
   "cell_type": "markdown",
   "id": "5a7f2e06",
   "metadata": {},
   "source": [
    "# Data Normalization"
   ]
  },
  {
   "cell_type": "code",
   "execution_count": 10,
   "id": "74fc75b2",
   "metadata": {},
   "outputs": [],
   "source": [
    "# The RGB values are between 0 - 255\n",
    "# scale them to be between 0 - 1\n",
    "def norm(value):\n",
    "    return value / 255.0\n",
    "\n",
    "normalized_values = np.column_stack([norm(data[\"red\"]), norm(data[\"green\"]), norm(data[\"blue\"])])"
   ]
  },
  {
   "cell_type": "code",
   "execution_count": 11,
   "id": "0ca1beeb",
   "metadata": {},
   "outputs": [
    {
     "data": {
      "text/plain": [
       "(18606, 3)"
      ]
     },
     "execution_count": 11,
     "metadata": {},
     "output_type": "execute_result"
    }
   ],
   "source": [
    "normalized_values.shape"
   ]
  },
  {
   "cell_type": "markdown",
   "id": "fe73659e",
   "metadata": {},
   "source": [
    "# Building the Model\n"
   ]
  },
  {
   "cell_type": "code",
   "execution_count": 12,
   "id": "ddb3246f",
   "metadata": {},
   "outputs": [
    {
     "name": "stdout",
     "output_type": "stream",
     "text": [
      "WARNING:tensorflow:From F:\\Anaconda\\envs\\tf\\lib\\site-packages\\tensorflow\\python\\ops\\init_ops.py:1251: calling VarianceScaling.__init__ (from tensorflow.python.ops.init_ops) with dtype is deprecated and will be removed in a future version.\n",
      "Instructions for updating:\n",
      "Call initializer instance with the dtype argument instead of passing it to the constructor\n"
     ]
    }
   ],
   "source": [
    "model = Sequential()\n",
    "model.add(LSTM(256, return_sequences=True, input_shape=(maxlen, 90)))\n",
    "model.add(LSTM(128))\n",
    "model.add(Dense(128, activation='relu'))\n",
    "model.add(Dense(3, activation='sigmoid'))\n",
    "model.compile(optimizer='adam', loss='mse', metrics=['acc'])"
   ]
  },
  {
   "cell_type": "code",
   "execution_count": 13,
   "id": "34b6e304",
   "metadata": {},
   "outputs": [
    {
     "name": "stdout",
     "output_type": "stream",
     "text": [
      "Train on 14884 samples, validate on 3722 samples\n",
      "WARNING:tensorflow:From F:\\Anaconda\\envs\\tf\\lib\\site-packages\\tensorflow\\python\\ops\\math_grad.py:1250: add_dispatch_support.<locals>.wrapper (from tensorflow.python.ops.array_ops) is deprecated and will be removed in a future version.\n",
      "Instructions for updating:\n",
      "Use tf.where in 2.0, which has the same broadcast rule as np.where\n",
      "Epoch 1/40\n",
      "14884/14884 [==============================] - 42s 3ms/sample - loss: 0.0685 - acc: 0.5824 - val_loss: 0.0632 - val_acc: 0.6018\n",
      "Epoch 2/40\n",
      "14884/14884 [==============================] - 39s 3ms/sample - loss: 0.0639 - acc: 0.6177 - val_loss: 0.0620 - val_acc: 0.5234\n",
      "Epoch 3/40\n",
      "14884/14884 [==============================] - 40s 3ms/sample - loss: 0.0614 - acc: 0.6343 - val_loss: 0.0604 - val_acc: 0.5669\n",
      "Epoch 4/40\n",
      "14884/14884 [==============================] - 40s 3ms/sample - loss: 0.0593 - acc: 0.6376 - val_loss: 0.0580 - val_acc: 0.6085\n",
      "Epoch 5/40\n",
      "14884/14884 [==============================] - 39s 3ms/sample - loss: 0.0569 - acc: 0.6373 - val_loss: 0.0576 - val_acc: 0.5680\n",
      "Epoch 6/40\n",
      "14884/14884 [==============================] - 39s 3ms/sample - loss: 0.0545 - acc: 0.6332 - val_loss: 0.0572 - val_acc: 0.5766\n",
      "Epoch 7/40\n",
      "14884/14884 [==============================] - 39s 3ms/sample - loss: 0.0523 - acc: 0.6439 - val_loss: 0.0574 - val_acc: 0.6139\n",
      "Epoch 8/40\n",
      "14884/14884 [==============================] - 39s 3ms/sample - loss: 0.0502 - acc: 0.6470 - val_loss: 0.0563 - val_acc: 0.6018\n",
      "Epoch 9/40\n",
      "14884/14884 [==============================] - 39s 3ms/sample - loss: 0.0481 - acc: 0.6553 - val_loss: 0.0563 - val_acc: 0.6029\n",
      "Epoch 10/40\n",
      "14884/14884 [==============================] - 39s 3ms/sample - loss: 0.0458 - acc: 0.6590 - val_loss: 0.0568 - val_acc: 0.6188\n",
      "Epoch 11/40\n",
      "14884/14884 [==============================] - 39s 3ms/sample - loss: 0.0432 - acc: 0.6634 - val_loss: 0.0573 - val_acc: 0.5860\n",
      "Epoch 12/40\n",
      "14884/14884 [==============================] - 39s 3ms/sample - loss: 0.0406 - acc: 0.6666 - val_loss: 0.0573 - val_acc: 0.6171\n",
      "Epoch 13/40\n",
      "14884/14884 [==============================] - 39s 3ms/sample - loss: 0.0375 - acc: 0.6782 - val_loss: 0.0584 - val_acc: 0.5973\n",
      "Epoch 14/40\n",
      "14884/14884 [==============================] - 39s 3ms/sample - loss: 0.0340 - acc: 0.6787 - val_loss: 0.0601 - val_acc: 0.5922\n",
      "Epoch 15/40\n",
      "14884/14884 [==============================] - 39s 3ms/sample - loss: 0.0307 - acc: 0.6868 - val_loss: 0.0610 - val_acc: 0.5956\n",
      "Epoch 16/40\n",
      "14884/14884 [==============================] - 39s 3ms/sample - loss: 0.0275 - acc: 0.6940 - val_loss: 0.0626 - val_acc: 0.5852\n",
      "Epoch 17/40\n",
      "14884/14884 [==============================] - 39s 3ms/sample - loss: 0.0241 - acc: 0.6990 - val_loss: 0.0625 - val_acc: 0.5680\n",
      "Epoch 18/40\n",
      "14884/14884 [==============================] - 39s 3ms/sample - loss: 0.0209 - acc: 0.7084 - val_loss: 0.0646 - val_acc: 0.5930\n",
      "Epoch 19/40\n",
      "14884/14884 [==============================] - 41s 3ms/sample - loss: 0.0184 - acc: 0.7122 - val_loss: 0.0663 - val_acc: 0.5750\n",
      "Epoch 20/40\n",
      "14884/14884 [==============================] - 39s 3ms/sample - loss: 0.0161 - acc: 0.7206 - val_loss: 0.0664 - val_acc: 0.5900\n",
      "Epoch 21/40\n",
      "14884/14884 [==============================] - 39s 3ms/sample - loss: 0.0140 - acc: 0.7264 - val_loss: 0.0675 - val_acc: 0.5645\n",
      "Epoch 22/40\n",
      "14884/14884 [==============================] - 39s 3ms/sample - loss: 0.0123 - acc: 0.7402 - val_loss: 0.0690 - val_acc: 0.5572\n",
      "Epoch 23/40\n",
      "14884/14884 [==============================] - 39s 3ms/sample - loss: 0.0109 - acc: 0.7446 - val_loss: 0.0682 - val_acc: 0.5736\n",
      "Epoch 24/40\n",
      "14884/14884 [==============================] - 39s 3ms/sample - loss: 0.0098 - acc: 0.7550 - val_loss: 0.0684 - val_acc: 0.5755\n",
      "Epoch 25/40\n",
      "14884/14884 [==============================] - 39s 3ms/sample - loss: 0.0086 - acc: 0.7582 - val_loss: 0.0698 - val_acc: 0.5728\n",
      "Epoch 26/40\n",
      "14884/14884 [==============================] - 39s 3ms/sample - loss: 0.0083 - acc: 0.7632 - val_loss: 0.0688 - val_acc: 0.5631\n",
      "Epoch 27/40\n",
      "14884/14884 [==============================] - 38s 3ms/sample - loss: 0.0075 - acc: 0.7663 - val_loss: 0.0691 - val_acc: 0.5599\n",
      "Epoch 28/40\n",
      "14884/14884 [==============================] - 38s 3ms/sample - loss: 0.0065 - acc: 0.7815 - val_loss: 0.0694 - val_acc: 0.5656\n",
      "Epoch 29/40\n",
      "14884/14884 [==============================] - 38s 3ms/sample - loss: 0.0062 - acc: 0.7882 - val_loss: 0.0693 - val_acc: 0.5494\n",
      "Epoch 30/40\n",
      "14884/14884 [==============================] - 38s 3ms/sample - loss: 0.0057 - acc: 0.7874 - val_loss: 0.0695 - val_acc: 0.5355\n",
      "Epoch 31/40\n",
      "14884/14884 [==============================] - 38s 3ms/sample - loss: 0.0056 - acc: 0.7868 - val_loss: 0.0683 - val_acc: 0.5626\n",
      "Epoch 32/40\n",
      "14884/14884 [==============================] - 38s 3ms/sample - loss: 0.0051 - acc: 0.8048 - val_loss: 0.0694 - val_acc: 0.5602\n",
      "Epoch 33/40\n",
      "14884/14884 [==============================] - 38s 3ms/sample - loss: 0.0047 - acc: 0.8086 - val_loss: 0.0678 - val_acc: 0.5605\n",
      "Epoch 34/40\n",
      "14884/14884 [==============================] - 38s 3ms/sample - loss: 0.0044 - acc: 0.8119 - val_loss: 0.0696 - val_acc: 0.5562\n",
      "Epoch 35/40\n",
      "14884/14884 [==============================] - 38s 3ms/sample - loss: 0.0042 - acc: 0.8175 - val_loss: 0.0689 - val_acc: 0.5567\n",
      "Epoch 36/40\n",
      "14884/14884 [==============================] - 38s 3ms/sample - loss: 0.0041 - acc: 0.8148 - val_loss: 0.0695 - val_acc: 0.5567\n",
      "Epoch 37/40\n",
      "14884/14884 [==============================] - 38s 3ms/sample - loss: 0.0039 - acc: 0.8238 - val_loss: 0.0686 - val_acc: 0.5465\n",
      "Epoch 38/40\n",
      "14884/14884 [==============================] - 38s 3ms/sample - loss: 0.0040 - acc: 0.8241 - val_loss: 0.0691 - val_acc: 0.5672\n",
      "Epoch 39/40\n",
      "14884/14884 [==============================] - 38s 3ms/sample - loss: 0.0036 - acc: 0.8291 - val_loss: 0.0680 - val_acc: 0.5656\n",
      "Epoch 40/40\n",
      "14884/14884 [==============================] - 38s 3ms/sample - loss: 0.0036 - acc: 0.8244 - val_loss: 0.0679 - val_acc: 0.5642\n"
     ]
    }
   ],
   "source": [
    "history = model.fit(one_hot_names, normalized_values,\n",
    "                    epochs=40,\n",
    "                    batch_size=32,\n",
    "                    validation_split=0.2)"
   ]
  },
  {
   "cell_type": "code",
   "execution_count": 14,
   "id": "ef966c33-3b0d-4338-b948-3a52df037dac",
   "metadata": {},
   "outputs": [],
   "source": [
    "# plot a color image\n",
    "def plot_rgb(rgb):\n",
    "    data = [[rgb]]\n",
    "    plt.figure(figsize=(2,2))\n",
    "    plt.imshow(data, interpolation='nearest')\n",
    "    plt.show()\n",
    "\n",
    "def scale(n):\n",
    "    return int(n * 255) \n",
    "\n",
    "def predict(name):\n",
    "    name = name.lower()\n",
    "    tokenized = t.texts_to_sequences([name])\n",
    "    padded = preprocessing.sequence.pad_sequences(tokenized, maxlen=maxlen)\n",
    "    one_hot = np_utils.to_categorical(padded, num_classes=90)\n",
    "    pred = model.predict(np.array(one_hot))[0]\n",
    "    r, g, b = scale(pred[0]), scale(pred[1]), scale(pred[2])\n",
    "    print(name + ',', 'R,G,B:', r,g,b)\n",
    "    plot_rgb(pred)"
   ]
  },
  {
   "cell_type": "code",
   "execution_count": 27,
   "id": "ae1b21a8-e486-4430-a3e4-d1f7bdc8e14b",
   "metadata": {},
   "outputs": [
    {
     "name": "stdout",
     "output_type": "stream",
     "text": [
      "pink, R,G,B: 242 151 158\n"
     ]
    },
    {
     "data": {
      "image/png": "[encoded data removed]",
      "text/plain": [
       "<Figure size 144x144 with 1 Axes>"
      ]
     },
     "metadata": {
      "needs_background": "light"
     },
     "output_type": "display_data"
    }
   ],
   "source": [
    "predict(\"pink\")"
   ]
  },
  {
   "cell_type": "code",
   "execution_count": null,
   "id": "29cd149c-47f6-4a19-833c-7997a1490354",
   "metadata": {},
   "outputs": [],
   "source": []
  }
 ],
 "metadata": {
  "kernelspec": {
   "display_name": "Python 3 (ipykernel)",
   "language": "python",
   "name": "python3"
  },
  "language_info": {
   "codemirror_mode": {
    "name": "ipython",
    "version": 3
   },
   "file_extension": ".py",
   "mimetype": "text/x-python",
   "name": "python",
   "nbconvert_exporter": "python",
   "pygments_lexer": "ipython3",
   "version": "3.7.10"
  }
 },
 "nbformat": 4,
 "nbformat_minor": 5
}
