{
 "cells": [
  {
   "cell_type": "code",
   "execution_count": 1,
   "id": "1b05dd05-db7b-449d-b875-310f1c756b76",
   "metadata": {},
   "outputs": [],
   "source": [
    "# IMPORT PACKAGES\n",
    "from sklearn.svm import SVC\n",
    "from sklearn.datasets import load_iris\n",
    "\n",
    "from sklearn.model_selection import GridSearchCV\n",
    "from sklearn.pipeline import Pipeline, FeatureUnion\n",
    "\n",
    "from sklearn.decomposition import PCA\n",
    "from sklearn.feature_selection import SelectKBest"
   ]
  },
  {
   "cell_type": "code",
   "execution_count": 2,
   "id": "49234337-1278-423c-872b-c743ebb0ba78",
   "metadata": {},
   "outputs": [],
   "source": [
    "iris = load_iris()\n",
    "\n",
    "X, y = iris[\"data\"], iris[\"target\"]"
   ]
  },
  {
   "cell_type": "code",
   "execution_count": 3,
   "id": "64da20f2-ad4e-4cf5-9dbc-b820576b9673",
   "metadata": {},
   "outputs": [],
   "source": [
    "# This dataset is way too high-dimensional. Better do PCA:\n",
    "pca = PCA(n_components=2)\n",
    "\n",
    "# Maybe some of the original features were good, too?\n",
    "selection = SelectKBest(k=3)"
   ]
  },
  {
   "cell_type": "code",
   "execution_count": 4,
   "id": "585c96cf-0f50-4876-8762-05a4d57ea475",
   "metadata": {},
   "outputs": [],
   "source": [
    "# Build an transformer from PCA and Univariate selection:\n",
    "combined_features = FeatureUnion([(\"pca\", pca), (\"univ_select\", selection)])"
   ]
  },
  {
   "cell_type": "code",
   "execution_count": 5,
   "id": "960920db-1342-482b-817e-205bd842af9f",
   "metadata": {},
   "outputs": [],
   "source": [
    "# We will initialize the classifier\n",
    "svm = SVC(kernel=\"linear\")"
   ]
  },
  {
   "cell_type": "code",
   "execution_count": 9,
   "id": "9125c91a-c8ac-4d9c-b827-d4c43ff1eb78",
   "metadata": {},
   "outputs": [
    {
     "data": {
      "text/plain": [
       "GridSearchCV(estimator=Pipeline(steps=[('features',\n",
       "                                        FeatureUnion(transformer_list=[('pca',\n",
       "                                                                        PCA(n_components=2)),\n",
       "                                                                       ('univ_select',\n",
       "                                                                        SelectKBest(k=3))])),\n",
       "                                       ('svm', SVC(kernel='linear'))]),\n",
       "             param_grid={'features__pca__n_components': [1, 2, 3],\n",
       "                         'features__univ_select__k': [1, 2, 3],\n",
       "                         'svm__C': [0.1, 1, 10]})"
      ]
     },
     "execution_count": 9,
     "metadata": {},
     "output_type": "execute_result"
    }
   ],
   "source": [
    "# create our pipeline from FeatureUnion \n",
    "pipeline = Pipeline([(\"features\", combined_features), (\"svm\", svm)])\n",
    "\n",
    "# set up our parameters grid\n",
    "# Note: the formatting of the strings below matter! (the underscores, 'PCA' and 'KBest' matching the previously-defined names, etc.)\n",
    "param_grid = {\"features__pca__n_components\": [1, 2, 3],\n",
    "                  \"features__univ_select__k\": [1, 2, 3],\n",
    "                  \"svm__C\":[0.1, 1, 10]}\n",
    "\n",
    "# create a Grid Search object\n",
    "#grid_search = GridSearchCV(pipeline, param_grid, verbose=10, refit=True)\n",
    "grid_search = GridSearchCV(pipeline, param_grid, verbose=0, refit=True)\n",
    "\n",
    "# fit the model and tune parameters\n",
    "grid_search.fit(X, y)"
   ]
  },
  {
   "cell_type": "code",
   "execution_count": 8,
   "id": "2c7f01fa-697e-42f4-b4a8-6be267c8e4a1",
   "metadata": {},
   "outputs": [
    {
     "name": "stdout",
     "output_type": "stream",
     "text": [
      "{'features__pca__n_components': 2, 'features__univ_select__k': 3, 'svm__C': 1}\n"
     ]
    }
   ],
   "source": [
    "print(grid_search.best_params_)"
   ]
  },
  {
   "cell_type": "code",
   "execution_count": null,
   "id": "266a5968-ef8b-4a7c-b820-5ebe1f0415d5",
   "metadata": {},
   "outputs": [],
   "source": []
  }
 ],
 "metadata": {
  "kernelspec": {
   "display_name": "Python 3",
   "language": "python",
   "name": "python3"
  },
  "language_info": {
   "codemirror_mode": {
    "name": "ipython",
    "version": 3
   },
   "file_extension": ".py",
   "mimetype": "text/x-python",
   "name": "python",
   "nbconvert_exporter": "python",
   "pygments_lexer": "ipython3",
   "version": "3.7.11"
  }
 },
 "nbformat": 4,
 "nbformat_minor": 5
}
