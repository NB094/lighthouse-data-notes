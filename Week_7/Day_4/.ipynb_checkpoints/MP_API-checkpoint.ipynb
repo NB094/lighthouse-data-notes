{
 "cells": [
  {
   "cell_type": "code",
   "execution_count": 1,
   "id": "daaf3ca1-8e9d-4c0d-b714-805481080dce",
   "metadata": {},
   "outputs": [],
   "source": [
    "# import Flask and jsonify\n",
    "from flask import Flask, jsonify, request\n",
    "# import Resource, Api and reqparser\n",
    "from flask_restful import Resource, Api, reqparse\n",
    "import pandas as pd\n",
    "import numpy as np\n",
    "import pickle"
   ]
  },
  {
   "cell_type": "code",
   "execution_count": 2,
   "id": "603e3904-8b92-4e15-9a26-4e6990fb8041",
   "metadata": {},
   "outputs": [],
   "source": [
    "app = Flask(__name__)\n",
    "api = Api(app)"
   ]
  },
  {
   "cell_type": "code",
   "execution_count": 3,
   "id": "7de27a17-5a13-4933-bae1-e7beb2f3f1d7",
   "metadata": {},
   "outputs": [],
   "source": [
    "from sklearn.pipeline import Pipeline\n",
    "\n",
    "class DataframeFunctionTransformer():\n",
    "    def __init__(self, func):\n",
    "        self.func = func\n",
    "\n",
    "    def transform(self, input_df, **transform_params):       \n",
    "        return self.func(input_df)\n",
    "\n",
    "    def fit(self, X, y=None, **fit_params):\n",
    "        return self\n",
    "\n",
    "def process_dataframe(input_df):  \n",
    "    #input_df = pd.DataFrame(input_df)\n",
    "    \n",
    "    input_df.drop(columns=['Loan_ID'], inplace=True)\n",
    "    \n",
    "    input_df = input_df.astype({'Credit_History':str})\n",
    "    \n",
    "    input_df['ln(LoanAmount)'] = np.log(input_df['LoanAmount'])\n",
    "    input_df['Total_Income'] = input_df['ApplicantIncome'] + input_df['CoapplicantIncome']\n",
    "    input_df['ln(Total_Income)'] = np.log(input_df['Total_Income'].astype(float))\n",
    "\n",
    "    input_df['LoanRatio'] = input_df['LoanAmount'] / input_df['Loan_Amount_Term']\n",
    "    \n",
    "    return input_df\n",
    "\n",
    "def convert_credit_int(input_df):\n",
    "    input_df = input_df.astype({'Credit_History':'int'})\n",
    "    return input_df\n",
    "\n",
    "def convert_credit_str(input_df):\n",
    "    input_df = input_df.astype({'Credit_History':'str'})\n",
    "    return input_df\n",
    "\n",
    "def split_data(input_df):\n",
    "    X = input_df.loc[:, df_pipe.columns != 'Loan_Status']\n",
    "    y = input_df.loc[:,'Loan_Status']\n",
    "    X_train_pipe, X_test_pipe, y_train_pipe, y_test_pipe = train_test_split(X,y,test_size=0.25)\n",
    "    return X_train_pipe, X_test_pipe, y_train_pipe, y_test_pipe\n",
    "\n",
    "def backtopd(array):\n",
    "    return pd.DataFrame(array, columns=['ApplicantIncome', 'CoapplicantIncome', 'LoanAmount', 'Loan_Amount_Term', 'Gender', 'Married', 'Dependents', 'Education', 'Self_Employed', 'Property_Area', 'Credit_History', 'Loan_ID'])\n",
    "\n",
    "def logcolumn(input_df):\n",
    "    input_df['LoanAmount'] = input_df['LoanAmount'].astype(float)\n",
    "    return input_df"
   ]
  },
  {
   "cell_type": "code",
   "execution_count": 4,
   "id": "f7cf4183-baaa-4b29-86e4-e39ac7013f2b",
   "metadata": {},
   "outputs": [],
   "source": [
    "model = pickle.load( open( \"model.p\", \"rb\" ) )"
   ]
  },
  {
   "cell_type": "code",
   "execution_count": 9,
   "id": "cba1b4e6-f1f4-4755-aaf1-8b3b971b8d48",
   "metadata": {},
   "outputs": [],
   "source": [
    "class Scoring(Resource):\n",
    "    def post(self):\n",
    "        json_data = request.get_json()\n",
    "        df = pd.DataFrame(json_data.values(), index=json_data.keys()).transpose()\n",
    "        # getting predictions from our model.\n",
    "        # it is much simpler because we used pipelines during development\n",
    "        res = model.predict_proba(df)\n",
    "        # we cannot send numpy array as a result\n",
    "        return res.tolist()"
   ]
  },
  {
   "cell_type": "code",
   "execution_count": 6,
   "id": "05ebe761-77c2-46cb-ace7-0342e4285dca",
   "metadata": {},
   "outputs": [],
   "source": [
    "# assign endpoint\n",
    "api.add_resource(Scoring, '/scoring')"
   ]
  },
  {
   "cell_type": "code",
   "execution_count": 8,
   "id": "34ad6d8f-f163-41cc-9891-fe6d70ed6f26",
   "metadata": {},
   "outputs": [
    {
     "name": "stdout",
     "output_type": "stream",
     "text": [
      " * Serving Flask app \"__main__\" (lazy loading)\n",
      " * Environment: production\n",
      "\u001b[31m   WARNING: This is a development server. Do not use it in a production deployment.\u001b[0m\n",
      "\u001b[2m   Use a production WSGI server instead.\u001b[0m\n",
      " * Debug mode: on\n"
     ]
    },
    {
     "name": "stderr",
     "output_type": "stream",
     "text": [
      " * Restarting with stat\n"
     ]
    },
    {
     "ename": "SystemExit",
     "evalue": "1",
     "output_type": "error",
     "traceback": [
      "An exception has occurred, use %tb to see the full traceback.\n",
      "\u001b[1;31mSystemExit\u001b[0m\u001b[1;31m:\u001b[0m 1\n"
     ]
    }
   ],
   "source": [
    "if __name__ == '__main__':\n",
    "    app.run(debug=True)"
   ]
  }
 ],
 "metadata": {
  "kernelspec": {
   "display_name": "Python 3",
   "language": "python",
   "name": "python3"
  },
  "language_info": {
   "codemirror_mode": {
    "name": "ipython",
    "version": 3
   },
   "file_extension": ".py",
   "mimetype": "text/x-python",
   "name": "python",
   "nbconvert_exporter": "python",
   "pygments_lexer": "ipython3",
   "version": "3.7.11"
  }
 },
 "nbformat": 4,
 "nbformat_minor": 5
}
