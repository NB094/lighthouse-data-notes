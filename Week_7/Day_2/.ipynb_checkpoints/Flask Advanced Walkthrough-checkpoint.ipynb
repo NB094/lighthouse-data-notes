{
 "cells": [
  {
   "cell_type": "code",
   "execution_count": 1,
   "id": "ef4a091e-b06c-4b7b-80ae-9e80aafa019c",
   "metadata": {},
   "outputs": [],
   "source": [
    "# import Flask and jsonify\n",
    "from flask import Flask, jsonify\n",
    "\n",
    "# import Resource, Api and reqparser\n",
    "from flask_restful import Resource, Api, reqparse"
   ]
  },
  {
   "cell_type": "code",
   "execution_count": 2,
   "id": "e99abd19-002d-479c-bab7-ed28a4bc943e",
   "metadata": {},
   "outputs": [],
   "source": [
    "app = Flask(__name__)"
   ]
  },
  {
   "cell_type": "code",
   "execution_count": 3,
   "id": "60a3d4d9-46d8-44b3-ae69-ef31e4c2d7cc",
   "metadata": {},
   "outputs": [],
   "source": [
    "api = Api(app)"
   ]
  },
  {
   "cell_type": "code",
   "execution_count": 4,
   "id": "4a809201-6ef8-44ac-b320-01c6a8107015",
   "metadata": {},
   "outputs": [],
   "source": [
    "class Greet(Resource):\n",
    "    def get(self):\n",
    "        # create request parser\n",
    "        parser = reqparse.RequestParser()\n",
    "\n",
    "        # create argument 'name'\n",
    "        parser.add_argument('name', type=str)\n",
    "\n",
    "        # parse 'name'\n",
    "        name = parser.parse_args().get('name')\n",
    "\n",
    "        if name:\n",
    "            greeting = f'Hello {name}!'\n",
    "        else:\n",
    "            greeting = 'Hello person without name!'\n",
    "\n",
    "        # make json from greeting string \n",
    "        return jsonify(greeting=greeting)"
   ]
  },
  {
   "cell_type": "code",
   "execution_count": 5,
   "id": "62d364f1-b41a-4b1c-bdb1-d5b4c9382bd8",
   "metadata": {},
   "outputs": [],
   "source": [
    "# assign endpoint\n",
    "api.add_resource(Greet, '/greet',)"
   ]
  },
  {
   "cell_type": "code",
   "execution_count": 6,
   "id": "2efc8ce0-81d7-4139-a3e7-6588359d813c",
   "metadata": {},
   "outputs": [
    {
     "name": "stdout",
     "output_type": "stream",
     "text": [
      " * Serving Flask app \"__main__\" (lazy loading)\n",
      " * Environment: production\n",
      "\u001b[31m   WARNING: This is a development server. Do not use it in a production deployment.\u001b[0m\n",
      "\u001b[2m   Use a production WSGI server instead.\u001b[0m\n",
      " * Debug mode: on\n"
     ]
    },
    {
     "name": "stderr",
     "output_type": "stream",
     "text": [
      " * Running on http://127.0.0.1:5000/ (Press CTRL+C to quit)\n",
      "127.0.0.1 - - [31/Aug/2021 11:32:41] \"\u001b[37mGET /greet HTTP/1.1\u001b[0m\" 200 -\n"
     ]
    }
   ],
   "source": [
    "if __name__ == '__main__':\n",
    "    app.run(debug=True, use_reloader=False)"
   ]
  },
  {
   "cell_type": "code",
   "execution_count": null,
   "id": "8d20ac95-8c87-4e86-a51c-aeb7766a1144",
   "metadata": {},
   "outputs": [],
   "source": []
  },
  {
   "cell_type": "code",
   "execution_count": null,
   "id": "e8d440f2-2fa9-446a-91de-4e2e2a67fa36",
   "metadata": {},
   "outputs": [],
   "source": [
    "# # NOTE: for AWS deployment, you should specify the host and port numbers, like so:\n",
    "\n",
    "# if __name__ == '__main__':\n",
    "#     app.run(host=\"0.0.0.0\", port=5555, debug=True, use_reloader=False)\n",
    "\n",
    "# and then you would connect to it in a browser using:   <AWS DNS address>:5555/greet?name=Nik"
   ]
  }
 ],
 "metadata": {
  "kernelspec": {
   "display_name": "Python 3",
   "language": "python",
   "name": "python3"
  },
  "language_info": {
   "codemirror_mode": {
    "name": "ipython",
    "version": 3
   },
   "file_extension": ".py",
   "mimetype": "text/x-python",
   "name": "python",
   "nbconvert_exporter": "python",
   "pygments_lexer": "ipython3",
   "version": "3.7.11"
  }
 },
 "nbformat": 4,
 "nbformat_minor": 5
}
