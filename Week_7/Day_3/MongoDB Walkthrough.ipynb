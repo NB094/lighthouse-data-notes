{
 "cells": [
  {
   "cell_type": "markdown",
   "id": "3d47bf5f-8537-481f-b166-b76502d6c02e",
   "metadata": {},
   "source": [
    "# PyMongo"
   ]
  },
  {
   "cell_type": "code",
   "execution_count": 1,
   "id": "67a0dddd-f251-4e52-a072-f526f6636534",
   "metadata": {},
   "outputs": [],
   "source": [
    "import pymongo"
   ]
  },
  {
   "cell_type": "code",
   "execution_count": 2,
   "id": "5234601e-fe53-4da1-b435-0e08f67bdb4b",
   "metadata": {},
   "outputs": [
    {
     "data": {
      "text/plain": [
       "MongoClient(host=['localhost:27017'], document_class=dict, tz_aware=False, connect=True)"
      ]
     },
     "execution_count": 2,
     "metadata": {},
     "output_type": "execute_result"
    }
   ],
   "source": [
    "from pymongo import MongoClient\n",
    "client = MongoClient()\n",
    "#client = MongoClient(host=\"localhost\", port=27017)\n",
    "#client = MongoClient(\"mongodb://localhost:27017\")\n",
    "client"
   ]
  },
  {
   "cell_type": "code",
   "execution_count": 3,
   "id": "f1e5cf97-dd24-40eb-bb73-8bf24e148224",
   "metadata": {},
   "outputs": [
    {
     "data": {
      "text/plain": [
       "Database(MongoClient(host=['localhost:27017'], document_class=dict, tz_aware=False, connect=True), 'rptutorials')"
      ]
     },
     "execution_count": 3,
     "metadata": {},
     "output_type": "execute_result"
    }
   ],
   "source": [
    "db = client.rptutorials\n",
    "#db = client[\"rptutorials\"]\n",
    "db"
   ]
  },
  {
   "cell_type": "code",
   "execution_count": 4,
   "id": "eb4e1d37-c042-4fbb-bf02-0e0cb55db4d6",
   "metadata": {},
   "outputs": [],
   "source": [
    "tutorial1 = {\n",
    "    \"title\": \"Working With JSON Data in Python\",\n",
    "    \"author\": \"Lucas\",\n",
    "    \"contributors\": [\n",
    "        \"Aldren\",\n",
    "        \"Dan\",\n",
    "        \"Joanna\"\n",
    "    ],\n",
    "    \"url\": \"https://realpython.com/python-json/\"\n",
    "}"
   ]
  },
  {
   "cell_type": "code",
   "execution_count": 5,
   "id": "7c1e6a49-1cd2-429b-a9a7-e4e8302bf32a",
   "metadata": {},
   "outputs": [
    {
     "data": {
      "text/plain": [
       "Collection(Database(MongoClient(host=['localhost:27017'], document_class=dict, tz_aware=False, connect=True), 'rptutorials'), 'tutorial')"
      ]
     },
     "execution_count": 5,
     "metadata": {},
     "output_type": "execute_result"
    }
   ],
   "source": [
    "tutorial = db.tutorial\n",
    "tutorial"
   ]
  },
  {
   "cell_type": "code",
   "execution_count": 7,
   "id": "6dba18e3-7487-4ea9-93d4-a8e374108e29",
   "metadata": {},
   "outputs": [],
   "source": [
    "result = tutorial.insert_one(tutorial1)"
   ]
  },
  {
   "cell_type": "code",
   "execution_count": 8,
   "id": "1f7d4e6a-b89d-4cf8-a572-e5152b4fac3a",
   "metadata": {},
   "outputs": [
    {
     "data": {
      "text/plain": [
       "<pymongo.results.InsertOneResult at 0x19e42008188>"
      ]
     },
     "execution_count": 8,
     "metadata": {},
     "output_type": "execute_result"
    }
   ],
   "source": [
    "result"
   ]
  },
  {
   "cell_type": "code",
   "execution_count": 9,
   "id": "cfb7d129-fac6-4952-ba8f-ac6486f2ce80",
   "metadata": {},
   "outputs": [
    {
     "name": "stdout",
     "output_type": "stream",
     "text": [
      "One tutorial: 612fb6966add707763da6c67\n"
     ]
    }
   ],
   "source": [
    "print(f\"One tutorial: {result.inserted_id}\")"
   ]
  },
  {
   "cell_type": "code",
   "execution_count": 10,
   "id": "f93eb838-f9bc-4860-a821-4ab440e1174d",
   "metadata": {},
   "outputs": [
    {
     "name": "stdout",
     "output_type": "stream",
     "text": [
      "Multiple tutorials: [ObjectId('612fb6fa6add707763da6c68'), ObjectId('612fb6fa6add707763da6c69')]\n"
     ]
    }
   ],
   "source": [
    "tutorial2 = {\n",
    "    \"title\": \"Python's Requests Library (Guide)\",\n",
    "    \"author\": \"Alex\",\n",
    "    \"contributors\": [\n",
    "        \"Aldren\",\n",
    "        \"Brad\",\n",
    "        \"Joanna\"\n",
    "    ],\n",
    "    \"url\": \"https://realpython.com/python-requests/\"\n",
    "}\n",
    "\n",
    "tutorial3 = {\n",
    "    \"title\": \"Object-Oriented Programming (OOP) in Python 3\",\n",
    "    \"author\": \"David\",\n",
    "    \"contributors\": [\n",
    "        \"Aldren\",\n",
    "        \"Joanna\",\n",
    "        \"Jacob\"\n",
    "    ],\n",
    "    \"url\": \"https://realpython.com/python3-object-oriented-programming/\"\n",
    "}\n",
    "\n",
    "new_result = tutorial.insert_many([tutorial2, tutorial3])\n",
    "\n",
    "print(f\"Multiple tutorials: {new_result.inserted_ids}\")"
   ]
  },
  {
   "cell_type": "code",
   "execution_count": 11,
   "id": "a4c98354-caf7-4d62-b79a-23d244ec75ac",
   "metadata": {},
   "outputs": [
    {
     "name": "stdout",
     "output_type": "stream",
     "text": [
      "{'_id': ObjectId('612fb0898305ee003e41a5ed'),\n",
      " 'author': 'Jon',\n",
      " 'contributors': ['Aldren', 'Geir Arne', 'Joanna', 'Jason'],\n",
      " 'title': 'Reading and Writing CSV Files in Python',\n",
      " 'url': 'https://realpython.com/python-csv/'}\n",
      "{'_id': ObjectId('612fb0fc8305ee003e41a5ee'),\n",
      " 'author': 'Leodanis',\n",
      " 'contributors': ['Aldren', 'Jim', 'Joanna'],\n",
      " 'title': 'How to Iterate Through a Dictionary in Python',\n",
      " 'url': 'https://realpython.com/iterate-through-dictionary-python/'}\n",
      "{'_id': ObjectId('612fb0fc8305ee003e41a5ef'),\n",
      " 'author': 'Joanna',\n",
      " 'contributors': ['Adriana', 'David', 'Dan', 'Jim', 'Pavel'],\n",
      " 'title': \"Python 3's f-Strings: An Improved String Formatting Syntax\",\n",
      " 'url': 'https://realpython.com/python-f-strings/'}\n",
      "{'_id': ObjectId('612fb6966add707763da6c67'),\n",
      " 'author': 'Lucas',\n",
      " 'contributors': ['Aldren', 'Dan', 'Joanna'],\n",
      " 'title': 'Working With JSON Data in Python',\n",
      " 'url': 'https://realpython.com/python-json/'}\n",
      "{'_id': ObjectId('612fb6fa6add707763da6c68'),\n",
      " 'author': 'Alex',\n",
      " 'contributors': ['Aldren', 'Brad', 'Joanna'],\n",
      " 'title': \"Python's Requests Library (Guide)\",\n",
      " 'url': 'https://realpython.com/python-requests/'}\n",
      "{'_id': ObjectId('612fb6fa6add707763da6c69'),\n",
      " 'author': 'David',\n",
      " 'contributors': ['Aldren', 'Joanna', 'Jacob'],\n",
      " 'title': 'Object-Oriented Programming (OOP) in Python 3',\n",
      " 'url': 'https://realpython.com/python3-object-oriented-programming/'}\n"
     ]
    }
   ],
   "source": [
    "import pprint\n",
    "\n",
    "for doc in tutorial.find():\n",
    "    pprint.pprint(doc)"
   ]
  },
  {
   "cell_type": "code",
   "execution_count": 13,
   "id": "1463a84e-12a2-4c8a-89e5-95b5f509daef",
   "metadata": {},
   "outputs": [
    {
     "name": "stdout",
     "output_type": "stream",
     "text": [
      "{'_id': ObjectId('612fb0898305ee003e41a5ed'),\n",
      " 'author': 'Jon',\n",
      " 'contributors': ['Aldren', 'Geir Arne', 'Joanna', 'Jason'],\n",
      " 'title': 'Reading and Writing CSV Files in Python',\n",
      " 'url': 'https://realpython.com/python-csv/'}\n"
     ]
    }
   ],
   "source": [
    "# Retrieve the first tutorial by Jon\n",
    "import pprint\n",
    "\n",
    "jon_tutorial = tutorial.find_one({\"author\": \"Jon\"})\n",
    "\n",
    "pprint.pprint(jon_tutorial)"
   ]
  },
  {
   "cell_type": "code",
   "execution_count": 14,
   "id": "6876173b-4f8e-43c1-ad86-9ebab5752485",
   "metadata": {},
   "outputs": [],
   "source": [
    "client.close()"
   ]
  },
  {
   "cell_type": "markdown",
   "id": "ab03cc73-c8f1-46d5-aa5d-c09cc13b5fd7",
   "metadata": {},
   "source": [
    "See below. If you use the `with` statement to handle your MongoDB client, then at the end of the `with` code block, the client’s `.__exit__()` method gets called, which at the same time closes the connection by calling `.close()`."
   ]
  },
  {
   "cell_type": "code",
   "execution_count": 15,
   "id": "28d8023c-ca78-4c93-b697-dbd929b1c300",
   "metadata": {},
   "outputs": [
    {
     "name": "stdout",
     "output_type": "stream",
     "text": [
      "{'_id': ObjectId('612fb0898305ee003e41a5ed'),\n",
      " 'author': 'Jon',\n",
      " 'contributors': ['Aldren', 'Geir Arne', 'Joanna', 'Jason'],\n",
      " 'title': 'Reading and Writing CSV Files in Python',\n",
      " 'url': 'https://realpython.com/python-csv/'}\n",
      "{'_id': ObjectId('612fb0fc8305ee003e41a5ee'),\n",
      " 'author': 'Leodanis',\n",
      " 'contributors': ['Aldren', 'Jim', 'Joanna'],\n",
      " 'title': 'How to Iterate Through a Dictionary in Python',\n",
      " 'url': 'https://realpython.com/iterate-through-dictionary-python/'}\n",
      "{'_id': ObjectId('612fb0fc8305ee003e41a5ef'),\n",
      " 'author': 'Joanna',\n",
      " 'contributors': ['Adriana', 'David', 'Dan', 'Jim', 'Pavel'],\n",
      " 'title': \"Python 3's f-Strings: An Improved String Formatting Syntax\",\n",
      " 'url': 'https://realpython.com/python-f-strings/'}\n",
      "{'_id': ObjectId('612fb6966add707763da6c67'),\n",
      " 'author': 'Lucas',\n",
      " 'contributors': ['Aldren', 'Dan', 'Joanna'],\n",
      " 'title': 'Working With JSON Data in Python',\n",
      " 'url': 'https://realpython.com/python-json/'}\n",
      "{'_id': ObjectId('612fb6fa6add707763da6c68'),\n",
      " 'author': 'Alex',\n",
      " 'contributors': ['Aldren', 'Brad', 'Joanna'],\n",
      " 'title': \"Python's Requests Library (Guide)\",\n",
      " 'url': 'https://realpython.com/python-requests/'}\n",
      "{'_id': ObjectId('612fb6fa6add707763da6c69'),\n",
      " 'author': 'David',\n",
      " 'contributors': ['Aldren', 'Joanna', 'Jacob'],\n",
      " 'title': 'Object-Oriented Programming (OOP) in Python 3',\n",
      " 'url': 'https://realpython.com/python3-object-oriented-programming/'}\n"
     ]
    }
   ],
   "source": [
    "import pprint\n",
    "from pymongo import MongoClient\n",
    "\n",
    "with MongoClient() as client:\n",
    "    db = client.rptutorials\n",
    "    for doc in db.tutorial.find():\n",
    "        pprint.pprint(doc)"
   ]
  },
  {
   "cell_type": "markdown",
   "id": "9b99d70f-cced-4a54-905e-13686883888a",
   "metadata": {},
   "source": [
    "# MongoEngine"
   ]
  },
  {
   "cell_type": "code",
   "execution_count": 1,
   "id": "bb5fa40c-0b25-4464-88de-e70580314b92",
   "metadata": {},
   "outputs": [
    {
     "data": {
      "text/plain": [
       "MongoClient(host=['localhost:27017'], document_class=dict, tz_aware=False, connect=True, read_preference=Primary())"
      ]
     },
     "execution_count": 1,
     "metadata": {},
     "output_type": "execute_result"
    }
   ],
   "source": [
    "from mongoengine import connect\n",
    "connect(db=\"rptutorials\", host=\"localhost\", port=27017)"
   ]
  },
  {
   "cell_type": "code",
   "execution_count": 2,
   "id": "e31b6931-81e7-441c-aad3-c480f97a33bf",
   "metadata": {},
   "outputs": [],
   "source": [
    "from mongoengine import Document, ListField, StringField, URLField\n",
    "\n",
    "class Tutorial(Document):\n",
    "    title = StringField(required=True, max_length=70)\n",
    "    author = StringField(required=True, max_length=20)\n",
    "    contributors = ListField(StringField(max_length=20))\n",
    "    url = URLField(required=True)"
   ]
  },
  {
   "cell_type": "code",
   "execution_count": 3,
   "id": "5ff5e720-9b19-40db-a6cc-682660b2af56",
   "metadata": {},
   "outputs": [
    {
     "data": {
      "text/plain": [
       "<Tutorial: Tutorial object>"
      ]
     },
     "execution_count": 3,
     "metadata": {},
     "output_type": "execute_result"
    }
   ],
   "source": [
    "tutorial1 = Tutorial(\n",
    "    title=\"Beautiful Soup: Build a Web Scraper With Python\",\n",
    "    author=\"Martin\",\n",
    "    contributors=[\"Aldren\", \"Geir Arne\", \"Jaya\", \"Joanna\", \"Mike\"],\n",
    "    url=\"https://realpython.com/beautiful-soup-web-scraper-python/\"\n",
    ")\n",
    "\n",
    "tutorial1.save()  # Insert the new tutorial"
   ]
  },
  {
   "cell_type": "code",
   "execution_count": 4,
   "id": "19ad8734-a1af-46d1-8bca-2c3199ce79c7",
   "metadata": {},
   "outputs": [
    {
     "ename": "ValidationError",
     "evalue": "ValidationError (Tutorial:None) (Field is required: ['title'])",
     "output_type": "error",
     "traceback": [
      "\u001b[1;31m---------------------------------------------------------------------------\u001b[0m",
      "\u001b[1;31mValidationError\u001b[0m                           Traceback (most recent call last)",
      "\u001b[1;32m<ipython-input-4-afb24bd1700f>\u001b[0m in \u001b[0;36m<module>\u001b[1;34m\u001b[0m\n\u001b[0;32m      5\u001b[0m \u001b[0mtutorial2\u001b[0m\u001b[1;33m.\u001b[0m\u001b[0mcontributors\u001b[0m \u001b[1;33m=\u001b[0m \u001b[1;33m[\u001b[0m\u001b[1;34m\"Aldren\"\u001b[0m\u001b[1;33m,\u001b[0m \u001b[1;34m\"Jon\"\u001b[0m\u001b[1;33m,\u001b[0m \u001b[1;34m\"Joanna\"\u001b[0m\u001b[1;33m]\u001b[0m\u001b[1;33m\u001b[0m\u001b[1;33m\u001b[0m\u001b[0m\n\u001b[0;32m      6\u001b[0m \u001b[0mtutorial2\u001b[0m\u001b[1;33m.\u001b[0m\u001b[0murl\u001b[0m \u001b[1;33m=\u001b[0m \u001b[1;34m\"https://realpython.com/convert-python-string-to-int/\"\u001b[0m\u001b[1;33m\u001b[0m\u001b[1;33m\u001b[0m\u001b[0m\n\u001b[1;32m----> 7\u001b[1;33m \u001b[0mtutorial2\u001b[0m\u001b[1;33m.\u001b[0m\u001b[0msave\u001b[0m\u001b[1;33m(\u001b[0m\u001b[1;33m)\u001b[0m\u001b[1;33m\u001b[0m\u001b[1;33m\u001b[0m\u001b[0m\n\u001b[0m",
      "\u001b[1;32mF:\\Anaconda\\envs\\lhl\\lib\\site-packages\\mongoengine\\document.py\u001b[0m in \u001b[0;36msave\u001b[1;34m(self, force_insert, validate, clean, write_concern, cascade, cascade_kwargs, _refs, save_condition, signal_kwargs, **kwargs)\u001b[0m\n\u001b[0;32m    376\u001b[0m \u001b[1;33m\u001b[0m\u001b[0m\n\u001b[0;32m    377\u001b[0m         \u001b[1;32mif\u001b[0m \u001b[0mvalidate\u001b[0m\u001b[1;33m:\u001b[0m\u001b[1;33m\u001b[0m\u001b[1;33m\u001b[0m\u001b[0m\n\u001b[1;32m--> 378\u001b[1;33m             \u001b[0mself\u001b[0m\u001b[1;33m.\u001b[0m\u001b[0mvalidate\u001b[0m\u001b[1;33m(\u001b[0m\u001b[0mclean\u001b[0m\u001b[1;33m=\u001b[0m\u001b[0mclean\u001b[0m\u001b[1;33m)\u001b[0m\u001b[1;33m\u001b[0m\u001b[1;33m\u001b[0m\u001b[0m\n\u001b[0m\u001b[0;32m    379\u001b[0m \u001b[1;33m\u001b[0m\u001b[0m\n\u001b[0;32m    380\u001b[0m         \u001b[1;32mif\u001b[0m \u001b[0mwrite_concern\u001b[0m \u001b[1;32mis\u001b[0m \u001b[1;32mNone\u001b[0m\u001b[1;33m:\u001b[0m\u001b[1;33m\u001b[0m\u001b[1;33m\u001b[0m\u001b[0m\n",
      "\u001b[1;32mF:\\Anaconda\\envs\\lhl\\lib\\site-packages\\mongoengine\\base\\document.py\u001b[0m in \u001b[0;36mvalidate\u001b[1;34m(self, clean)\u001b[0m\n\u001b[0;32m    431\u001b[0m                 \u001b[0mpk\u001b[0m \u001b[1;33m=\u001b[0m \u001b[0mself\u001b[0m\u001b[1;33m.\u001b[0m\u001b[0m_instance\u001b[0m\u001b[1;33m.\u001b[0m\u001b[0mpk\u001b[0m\u001b[1;33m\u001b[0m\u001b[1;33m\u001b[0m\u001b[0m\n\u001b[0;32m    432\u001b[0m             \u001b[0mmessage\u001b[0m \u001b[1;33m=\u001b[0m \u001b[1;34mf\"ValidationError ({self._class_name}:{pk}) \"\u001b[0m\u001b[1;33m\u001b[0m\u001b[1;33m\u001b[0m\u001b[0m\n\u001b[1;32m--> 433\u001b[1;33m             \u001b[1;32mraise\u001b[0m \u001b[0mValidationError\u001b[0m\u001b[1;33m(\u001b[0m\u001b[0mmessage\u001b[0m\u001b[1;33m,\u001b[0m \u001b[0merrors\u001b[0m\u001b[1;33m=\u001b[0m\u001b[0merrors\u001b[0m\u001b[1;33m)\u001b[0m\u001b[1;33m\u001b[0m\u001b[1;33m\u001b[0m\u001b[0m\n\u001b[0m\u001b[0;32m    434\u001b[0m \u001b[1;33m\u001b[0m\u001b[0m\n\u001b[0;32m    435\u001b[0m     \u001b[1;32mdef\u001b[0m \u001b[0mto_json\u001b[0m\u001b[1;33m(\u001b[0m\u001b[0mself\u001b[0m\u001b[1;33m,\u001b[0m \u001b[1;33m*\u001b[0m\u001b[0margs\u001b[0m\u001b[1;33m,\u001b[0m \u001b[1;33m**\u001b[0m\u001b[0mkwargs\u001b[0m\u001b[1;33m)\u001b[0m\u001b[1;33m:\u001b[0m\u001b[1;33m\u001b[0m\u001b[1;33m\u001b[0m\u001b[0m\n",
      "\u001b[1;31mValidationError\u001b[0m: ValidationError (Tutorial:None) (Field is required: ['title'])"
     ]
    }
   ],
   "source": [
    "# Error expected (no title specified)\n",
    "\n",
    "tutorial2 = Tutorial()\n",
    "tutorial2.author = \"Alex\"\n",
    "tutorial2.contributors = [\"Aldren\", \"Jon\", \"Joanna\"]\n",
    "tutorial2.url = \"https://realpython.com/convert-python-string-to-int/\"\n",
    "tutorial2.save()"
   ]
  },
  {
   "cell_type": "code",
   "execution_count": 5,
   "id": "8dbcfacb-de9d-4d8a-844a-93d43bf893e2",
   "metadata": {},
   "outputs": [
    {
     "name": "stdout",
     "output_type": "stream",
     "text": [
      "Reading and Writing CSV Files in Python\n",
      "How to Iterate Through a Dictionary in Python\n",
      "Python 3's f-Strings: An Improved String Formatting Syntax\n",
      "Working With JSON Data in Python\n",
      "Python's Requests Library (Guide)\n",
      "Object-Oriented Programming (OOP) in Python 3\n",
      "Beautiful Soup: Build a Web Scraper With Python\n"
     ]
    }
   ],
   "source": [
    "for doc in Tutorial.objects:\n",
    "    print(doc.title)"
   ]
  },
  {
   "cell_type": "code",
   "execution_count": 6,
   "id": "8c6a18cd-f7de-4df7-b6ae-22a6ddf8a9fb",
   "metadata": {},
   "outputs": [
    {
     "name": "stdout",
     "output_type": "stream",
     "text": [
      "Python's Requests Library (Guide)\n"
     ]
    }
   ],
   "source": [
    "# Retrieve the tutorials authored by Alex\n",
    "for doc in Tutorial.objects(author=\"Alex\"):\n",
    "    print(doc.title)"
   ]
  },
  {
   "cell_type": "code",
   "execution_count": null,
   "id": "83b56c96-e3d1-4e23-9e28-7672ba37ed77",
   "metadata": {},
   "outputs": [],
   "source": []
  }
 ],
 "metadata": {
  "kernelspec": {
   "display_name": "Python 3 (ipykernel)",
   "language": "python",
   "name": "python3"
  },
  "language_info": {
   "codemirror_mode": {
    "name": "ipython",
    "version": 3
   },
   "file_extension": ".py",
   "mimetype": "text/x-python",
   "name": "python",
   "nbconvert_exporter": "python",
   "pygments_lexer": "ipython3",
   "version": "3.9.7"
  }
 },
 "nbformat": 4,
 "nbformat_minor": 5
}
